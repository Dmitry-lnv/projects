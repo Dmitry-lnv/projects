{
 "cells": [
  {
   "cell_type": "markdown",
   "metadata": {},
   "source": [
    "# Восстановление золота из руды"
   ]
  },
  {
   "cell_type": "markdown",
   "metadata": {},
   "source": [
    "Компания разрабатывает решения для эффективной работы промышленных предприятий. Модель должна предсказать коэффициент восстановления золота из золотосодержащей руды. В вашем распоряжении данные с параметрами добычи и очистки.\n",
    "\n",
    "Модель поможет оптимизировать производство, чтобы не запускать предприятие с убыточными характеристиками.\n",
    "\n",
    "Вам нужно:\n",
    "\n",
    "1. Подготовить данные;\n",
    "2. Провести исследовательский анализ данных;\n",
    "3. Построить и обучить модель.\n",
    "\n",
    "Данные находятся в трёх файлах:\n",
    "   - gold_industry_train.csv — обучающая выборка;\n",
    "   - gold_industry_test.csv — тестовая выборка;\n",
    "   - gold_industry_full.csv — исходные данные.\n",
    "\n",
    "Данные индексируются датой и временем получения информации (признак date). Соседние по времени параметры часто похожи.\n",
    "\n",
    "Некоторые параметры недоступны, потому что замеряются и/или рассчитываются значительно позже. Из-за этого в тестовой выборке отсутствуют некоторые признаки, которые могут быть в обучающей. Также в тестовом наборе нет целевых признаков.\n",
    "\n",
    "Исходный датасет содержит обучающую и тестовую выборки со всеми признаками.\n"
   ]
  },
  {
   "cell_type": "markdown",
   "metadata": {},
   "source": [
    "<h1>Содержание<span class=\"tocSkip\"></span></h1>\n",
    "<div class=\"toc\"><ul class=\"toc-item\"><li><span><a href=\"#Подготовка-данных\" data-toc-modified-id=\"Подготовка-данных-1\"><span class=\"toc-item-num\">1&nbsp;&nbsp;</span>Подготовка данных</a></span><ul class=\"toc-item\"><li><span><a href=\"#подгружаем-библиотеки\" data-toc-modified-id=\"подгружаем-библиотеки-1.1\"><span class=\"toc-item-num\">1.1&nbsp;&nbsp;</span>подгружаем библиотеки</a></span></li><li><span><a href=\"#Чтение-файлов\" data-toc-modified-id=\"Чтение-файлов-1.2\"><span class=\"toc-item-num\">1.2&nbsp;&nbsp;</span>Чтение файлов</a></span><ul class=\"toc-item\"><li><span><a href=\"#Промежуточные-выводы:\" data-toc-modified-id=\"Промежуточные-выводы:-1.2.1\"><span class=\"toc-item-num\">1.2.1&nbsp;&nbsp;</span>Промежуточные выводы:</a></span></li></ul></li><li><span><a href=\"#Проверка-корректности-расчета-эффективность-обогащения\" data-toc-modified-id=\"Проверка-корректности-расчета-эффективность-обогащения-1.3\"><span class=\"toc-item-num\">1.3&nbsp;&nbsp;</span>Проверка корректности расчета эффективность обогащения</a></span><ul class=\"toc-item\"><li><span><a href=\"#Промежуточные-выводы:\" data-toc-modified-id=\"Промежуточные-выводы:-1.3.1\"><span class=\"toc-item-num\">1.3.1&nbsp;&nbsp;</span>Промежуточные выводы:</a></span></li></ul></li><li><span><a href=\"#Предобработка-данных\" data-toc-modified-id=\"Предобработка-данных-1.4\"><span class=\"toc-item-num\">1.4&nbsp;&nbsp;</span>Предобработка данных</a></span><ul class=\"toc-item\"><li><span><a href=\"#Промежуточные-выводы:\" data-toc-modified-id=\"Промежуточные-выводы:-1.4.1\"><span class=\"toc-item-num\">1.4.1&nbsp;&nbsp;</span>Промежуточные выводы:</a></span></li></ul></li></ul></li><li><span><a href=\"#Анализ-данных\" data-toc-modified-id=\"Анализ-данных-2\"><span class=\"toc-item-num\">2&nbsp;&nbsp;</span>Анализ данных</a></span><ul class=\"toc-item\"><li><span><a href=\"#Исследуем,-как-изменяется-концентрация-металов-в-зависимости-от-стадии-очистки\" data-toc-modified-id=\"Исследуем,-как-изменяется-концентрация-металов-в-зависимости-от-стадии-очистки-2.1\"><span class=\"toc-item-num\">2.1&nbsp;&nbsp;</span>Исследуем, как изменяется концентрация металов в зависимости от стадии очистки</a></span><ul class=\"toc-item\"><li><span><a href=\"#Промежуточные-выводы:\" data-toc-modified-id=\"Промежуточные-выводы:-2.1.1\"><span class=\"toc-item-num\">2.1.1&nbsp;&nbsp;</span>Промежуточные выводы:</a></span></li></ul></li><li><span><a href=\"#Исследуем-распределение-размеров-входного-сырьяв-обучающей-и-тестовой-выборке\" data-toc-modified-id=\"Исследуем-распределение-размеров-входного-сырьяв-обучающей-и-тестовой-выборке-2.2\"><span class=\"toc-item-num\">2.2&nbsp;&nbsp;</span>Исследуем распределение размеров входного сырьяв обучающей и тестовой выборке</a></span><ul class=\"toc-item\"><li><span><a href=\"#Промежуточные-выводы:\" data-toc-modified-id=\"Промежуточные-выводы:-2.2.1\"><span class=\"toc-item-num\">2.2.1&nbsp;&nbsp;</span>Промежуточные выводы:</a></span></li></ul></li><li><span><a href=\"#Исследуем-суммарную-концентрацию-металлов-на-разных-стадиях:-в-сырье,-в-черновом-концентрате,-в-концентрате-после-первой-очистки-и-в-финальном-концентрате.\" data-toc-modified-id=\"Исследуем-суммарную-концентрацию-металлов-на-разных-стадиях:-в-сырье,-в-черновом-концентрате,-в-концентрате-после-первой-очистки-и-в-финальном-концентрате.-2.3\"><span class=\"toc-item-num\">2.3&nbsp;&nbsp;</span>Исследуем суммарную концентрацию металлов на разных стадиях: в сырье, в черновом концентрате, в концентрате после первой очистки и в финальном концентрате.</a></span><ul class=\"toc-item\"><li><span><a href=\"#Промежуточные-выводы:\" data-toc-modified-id=\"Промежуточные-выводы:-2.3.1\"><span class=\"toc-item-num\">2.3.1&nbsp;&nbsp;</span>Промежуточные выводы:</a></span></li></ul></li></ul></li><li><span><a href=\"#Модель\" data-toc-modified-id=\"Модель-3\"><span class=\"toc-item-num\">3&nbsp;&nbsp;</span>Модель</a></span><ul class=\"toc-item\"><li><span><a href=\"#Подготовим-данные-для-обучения\" data-toc-modified-id=\"Подготовим-данные-для-обучения-3.1\"><span class=\"toc-item-num\">3.1&nbsp;&nbsp;</span>Подготовим данные для обучения</a></span></li><li><span><a href=\"#Оценка-моделей-RandomForestRegressor-или-LinearRegression-с-т.з.-sMAPE\" data-toc-modified-id=\"Оценка-моделей-RandomForestRegressor-или-LinearRegression-с-т.з.-sMAPE-3.2\"><span class=\"toc-item-num\">3.2&nbsp;&nbsp;</span>Оценка моделей RandomForestRegressor или LinearRegression с т.з. sMAPE</a></span><ul class=\"toc-item\"><li><span><a href=\"#Промежуточные-выводы:\" data-toc-modified-id=\"Промежуточные-выводы:-3.2.1\"><span class=\"toc-item-num\">3.2.1&nbsp;&nbsp;</span>Промежуточные выводы:</a></span></li></ul></li><li><span><a href=\"#Подбор-параметров-модели-RandomForestRegressor-для-достижения-min-sMAPE\" data-toc-modified-id=\"Подбор-параметров-модели-RandomForestRegressor-для-достижения-min-sMAPE-3.3\"><span class=\"toc-item-num\">3.3&nbsp;&nbsp;</span>Подбор параметров модели RandomForestRegressor для достижения min sMAPE</a></span><ul class=\"toc-item\"><li><span><a href=\"#Модель-для-предсказания-rougher.output.recovery\" data-toc-modified-id=\"Модель-для-предсказания-rougher.output.recovery-3.3.1\"><span class=\"toc-item-num\">3.3.1&nbsp;&nbsp;</span>Модель для предсказания rougher.output.recovery</a></span></li><li><span><a href=\"#Модель-для-предсказания-final.output.recovery\" data-toc-modified-id=\"Модель-для-предсказания-final.output.recovery-3.3.2\"><span class=\"toc-item-num\">3.3.2&nbsp;&nbsp;</span>Модель для предсказания final.output.recovery</a></span></li></ul></li><li><span><a href=\"#Проверка-модели-на-тестовой-выборке\" data-toc-modified-id=\"Проверка-модели-на-тестовой-выборке-3.4\"><span class=\"toc-item-num\">3.4&nbsp;&nbsp;</span>Проверка модели на тестовой выборке</a></span><ul class=\"toc-item\"><li><span><a href=\"#Промежуточные-выводы:\" data-toc-modified-id=\"Промежуточные-выводы:-3.4.1\"><span class=\"toc-item-num\">3.4.1&nbsp;&nbsp;</span>Промежуточные выводы:</a></span></li></ul></li></ul></li><li><span><a href=\"#Выводы\" data-toc-modified-id=\"Выводы-4\"><span class=\"toc-item-num\">4&nbsp;&nbsp;</span>Выводы</a></span></li><li><span><a href=\"#Чек-лист-готовности-проекта\" data-toc-modified-id=\"Чек-лист-готовности-проекта-5\"><span class=\"toc-item-num\">5&nbsp;&nbsp;</span>Чек-лист готовности проекта</a></span></li></ul></div>"
   ]
  },
  {
   "cell_type": "markdown",
   "metadata": {},
   "source": [
    "## Подготовка данных"
   ]
  },
  {
   "cell_type": "markdown",
   "metadata": {},
   "source": [
    "### Подключение библиотек"
   ]
  },
  {
   "cell_type": "code",
   "execution_count": 1,
   "metadata": {},
   "outputs": [],
   "source": [
    "import pandas as pd\n",
    "import matplotlib.pyplot as plt\n",
    "import numpy as np\n",
    "import sys\n",
    "import seaborn as sns\n",
    "\n",
    "import numpy.random as random\n",
    "\n",
    "from sklearn.metrics import mean_absolute_error\n",
    "from sklearn.ensemble import RandomForestRegressor\n",
    "from sklearn.linear_model import LinearRegression\n",
    "from sklearn.model_selection import cross_val_score\n",
    "from sklearn.model_selection import GridSearchCV\n",
    "from sklearn.metrics import make_scorer\n",
    "from sklearn.dummy import DummyRegressor"
   ]
  },
  {
   "cell_type": "markdown",
   "metadata": {},
   "source": [
    "### Чтение файлов"
   ]
  },
  {
   "cell_type": "code",
   "execution_count": 2,
   "metadata": {},
   "outputs": [],
   "source": [
    "try:\n",
    "    train = pd.read_csv('/datasets/gold_industry_train.csv')\n",
    "    test = pd.read_csv('/datasets/gold_industry_test.csv')\n",
    "    full = pd.read_csv('/datasets/gold_industry_full.csv')\n",
    "except:\n",
    "    train = pd.read_csv('/Users/dmitry/Desktop/yandex_python/08. Сборный проект -2/gold_industry_train.csv')\n",
    "    test = pd.read_csv('/Users/dmitry/Desktop/yandex_python/08. Сборный проект -2/gold_industry_test.csv')\n",
    "    full = pd.read_csv('/Users/dmitry/Desktop/yandex_python/08. Сборный проект -2/gold_industry_full.csv')\n"
   ]
  },
  {
   "cell_type": "code",
   "execution_count": 3,
   "metadata": {},
   "outputs": [
    {
     "name": "stdout",
     "output_type": "stream",
     "text": [
      "train: (14579, 87)\n",
      "test: (4860, 53)\n",
      "full: (19439, 87)\n"
     ]
    }
   ],
   "source": [
    "print('train:', train.shape)\n",
    "print('test:', test.shape)\n",
    "print('full:', full.shape)\n"
   ]
  },
  {
   "cell_type": "code",
   "execution_count": 4,
   "metadata": {
    "scrolled": false
   },
   "outputs": [
    {
     "name": "stdout",
     "output_type": "stream",
     "text": [
      "train:\n"
     ]
    },
    {
     "data": {
      "text/html": [
       "<div>\n",
       "<style scoped>\n",
       "    .dataframe tbody tr th:only-of-type {\n",
       "        vertical-align: middle;\n",
       "    }\n",
       "\n",
       "    .dataframe tbody tr th {\n",
       "        vertical-align: top;\n",
       "    }\n",
       "\n",
       "    .dataframe thead th {\n",
       "        text-align: right;\n",
       "    }\n",
       "</style>\n",
       "<table border=\"1\" class=\"dataframe\">\n",
       "  <thead>\n",
       "    <tr style=\"text-align: right;\">\n",
       "      <th></th>\n",
       "      <th>date</th>\n",
       "      <th>rougher.input.feed_au</th>\n",
       "      <th>rougher.input.feed_ag</th>\n",
       "      <th>rougher.input.feed_pb</th>\n",
       "      <th>rougher.input.feed_sol</th>\n",
       "      <th>rougher.input.feed_rate</th>\n",
       "      <th>rougher.input.feed_size</th>\n",
       "      <th>rougher.input.floatbank10_sulfate</th>\n",
       "      <th>rougher.input.floatbank10_xanthate</th>\n",
       "      <th>rougher.state.floatbank10_a_air</th>\n",
       "      <th>...</th>\n",
       "      <th>secondary_cleaner.output.tail_sol</th>\n",
       "      <th>final.output.concentrate_au</th>\n",
       "      <th>final.output.concentrate_ag</th>\n",
       "      <th>final.output.concentrate_pb</th>\n",
       "      <th>final.output.concentrate_sol</th>\n",
       "      <th>final.output.recovery</th>\n",
       "      <th>final.output.tail_au</th>\n",
       "      <th>final.output.tail_ag</th>\n",
       "      <th>final.output.tail_pb</th>\n",
       "      <th>final.output.tail_sol</th>\n",
       "    </tr>\n",
       "  </thead>\n",
       "  <tbody>\n",
       "    <tr>\n",
       "      <th>0</th>\n",
       "      <td>2016-01-15 00:00:00</td>\n",
       "      <td>6.486150</td>\n",
       "      <td>6.100378</td>\n",
       "      <td>2.284912</td>\n",
       "      <td>36.808594</td>\n",
       "      <td>523.546326</td>\n",
       "      <td>55.486599</td>\n",
       "      <td>11.986616</td>\n",
       "      <td>6.007990</td>\n",
       "      <td>999.706909</td>\n",
       "      <td>...</td>\n",
       "      <td>8.764648</td>\n",
       "      <td>42.192020</td>\n",
       "      <td>6.055403</td>\n",
       "      <td>9.889648</td>\n",
       "      <td>5.507324</td>\n",
       "      <td>70.541216</td>\n",
       "      <td>2.143149</td>\n",
       "      <td>10.411962</td>\n",
       "      <td>0.895447</td>\n",
       "      <td>16.904297</td>\n",
       "    </tr>\n",
       "    <tr>\n",
       "      <th>1</th>\n",
       "      <td>2016-01-15 01:00:00</td>\n",
       "      <td>6.478583</td>\n",
       "      <td>6.161113</td>\n",
       "      <td>2.266033</td>\n",
       "      <td>35.753385</td>\n",
       "      <td>525.290581</td>\n",
       "      <td>57.278666</td>\n",
       "      <td>11.971193</td>\n",
       "      <td>6.005766</td>\n",
       "      <td>1000.286398</td>\n",
       "      <td>...</td>\n",
       "      <td>9.001494</td>\n",
       "      <td>42.701629</td>\n",
       "      <td>6.029369</td>\n",
       "      <td>9.968944</td>\n",
       "      <td>5.257781</td>\n",
       "      <td>69.266198</td>\n",
       "      <td>2.224930</td>\n",
       "      <td>10.462676</td>\n",
       "      <td>0.927452</td>\n",
       "      <td>16.634514</td>\n",
       "    </tr>\n",
       "    <tr>\n",
       "      <th>2</th>\n",
       "      <td>2016-01-15 02:00:00</td>\n",
       "      <td>6.362222</td>\n",
       "      <td>6.116455</td>\n",
       "      <td>2.159622</td>\n",
       "      <td>35.971630</td>\n",
       "      <td>530.026610</td>\n",
       "      <td>57.510649</td>\n",
       "      <td>11.920603</td>\n",
       "      <td>6.197377</td>\n",
       "      <td>999.719565</td>\n",
       "      <td>...</td>\n",
       "      <td>8.842896</td>\n",
       "      <td>42.657501</td>\n",
       "      <td>6.055926</td>\n",
       "      <td>10.213995</td>\n",
       "      <td>5.383759</td>\n",
       "      <td>68.116445</td>\n",
       "      <td>2.257889</td>\n",
       "      <td>10.507046</td>\n",
       "      <td>0.953716</td>\n",
       "      <td>16.208849</td>\n",
       "    </tr>\n",
       "    <tr>\n",
       "      <th>3</th>\n",
       "      <td>2016-01-15 03:00:00</td>\n",
       "      <td>6.118189</td>\n",
       "      <td>6.043309</td>\n",
       "      <td>2.037807</td>\n",
       "      <td>36.862241</td>\n",
       "      <td>542.590390</td>\n",
       "      <td>57.792734</td>\n",
       "      <td>11.630094</td>\n",
       "      <td>6.203177</td>\n",
       "      <td>999.814770</td>\n",
       "      <td>...</td>\n",
       "      <td>9.122857</td>\n",
       "      <td>42.689819</td>\n",
       "      <td>6.047977</td>\n",
       "      <td>9.977019</td>\n",
       "      <td>4.858634</td>\n",
       "      <td>68.347543</td>\n",
       "      <td>2.146849</td>\n",
       "      <td>10.422762</td>\n",
       "      <td>0.883763</td>\n",
       "      <td>16.532835</td>\n",
       "    </tr>\n",
       "    <tr>\n",
       "      <th>4</th>\n",
       "      <td>2016-01-15 04:00:00</td>\n",
       "      <td>5.663707</td>\n",
       "      <td>6.060915</td>\n",
       "      <td>1.786875</td>\n",
       "      <td>34.347666</td>\n",
       "      <td>540.531893</td>\n",
       "      <td>56.047189</td>\n",
       "      <td>10.957755</td>\n",
       "      <td>6.198826</td>\n",
       "      <td>999.678690</td>\n",
       "      <td>...</td>\n",
       "      <td>8.871028</td>\n",
       "      <td>42.774141</td>\n",
       "      <td>6.148599</td>\n",
       "      <td>10.142511</td>\n",
       "      <td>4.939416</td>\n",
       "      <td>66.927016</td>\n",
       "      <td>2.055292</td>\n",
       "      <td>10.360302</td>\n",
       "      <td>0.792826</td>\n",
       "      <td>16.525686</td>\n",
       "    </tr>\n",
       "  </tbody>\n",
       "</table>\n",
       "<p>5 rows × 87 columns</p>\n",
       "</div>"
      ],
      "text/plain": [
       "                  date  rougher.input.feed_au  rougher.input.feed_ag  \\\n",
       "0  2016-01-15 00:00:00               6.486150               6.100378   \n",
       "1  2016-01-15 01:00:00               6.478583               6.161113   \n",
       "2  2016-01-15 02:00:00               6.362222               6.116455   \n",
       "3  2016-01-15 03:00:00               6.118189               6.043309   \n",
       "4  2016-01-15 04:00:00               5.663707               6.060915   \n",
       "\n",
       "   rougher.input.feed_pb  rougher.input.feed_sol  rougher.input.feed_rate  \\\n",
       "0               2.284912               36.808594               523.546326   \n",
       "1               2.266033               35.753385               525.290581   \n",
       "2               2.159622               35.971630               530.026610   \n",
       "3               2.037807               36.862241               542.590390   \n",
       "4               1.786875               34.347666               540.531893   \n",
       "\n",
       "   rougher.input.feed_size  rougher.input.floatbank10_sulfate  \\\n",
       "0                55.486599                          11.986616   \n",
       "1                57.278666                          11.971193   \n",
       "2                57.510649                          11.920603   \n",
       "3                57.792734                          11.630094   \n",
       "4                56.047189                          10.957755   \n",
       "\n",
       "   rougher.input.floatbank10_xanthate  rougher.state.floatbank10_a_air  ...  \\\n",
       "0                            6.007990                       999.706909  ...   \n",
       "1                            6.005766                      1000.286398  ...   \n",
       "2                            6.197377                       999.719565  ...   \n",
       "3                            6.203177                       999.814770  ...   \n",
       "4                            6.198826                       999.678690  ...   \n",
       "\n",
       "   secondary_cleaner.output.tail_sol  final.output.concentrate_au  \\\n",
       "0                           8.764648                    42.192020   \n",
       "1                           9.001494                    42.701629   \n",
       "2                           8.842896                    42.657501   \n",
       "3                           9.122857                    42.689819   \n",
       "4                           8.871028                    42.774141   \n",
       "\n",
       "   final.output.concentrate_ag  final.output.concentrate_pb  \\\n",
       "0                     6.055403                     9.889648   \n",
       "1                     6.029369                     9.968944   \n",
       "2                     6.055926                    10.213995   \n",
       "3                     6.047977                     9.977019   \n",
       "4                     6.148599                    10.142511   \n",
       "\n",
       "   final.output.concentrate_sol  final.output.recovery  final.output.tail_au  \\\n",
       "0                      5.507324              70.541216              2.143149   \n",
       "1                      5.257781              69.266198              2.224930   \n",
       "2                      5.383759              68.116445              2.257889   \n",
       "3                      4.858634              68.347543              2.146849   \n",
       "4                      4.939416              66.927016              2.055292   \n",
       "\n",
       "   final.output.tail_ag  final.output.tail_pb  final.output.tail_sol  \n",
       "0             10.411962              0.895447              16.904297  \n",
       "1             10.462676              0.927452              16.634514  \n",
       "2             10.507046              0.953716              16.208849  \n",
       "3             10.422762              0.883763              16.532835  \n",
       "4             10.360302              0.792826              16.525686  \n",
       "\n",
       "[5 rows x 87 columns]"
      ]
     },
     "metadata": {},
     "output_type": "display_data"
    },
    {
     "name": "stdout",
     "output_type": "stream",
     "text": [
      "\n",
      "\n",
      "\n",
      "test:\n"
     ]
    },
    {
     "data": {
      "text/html": [
       "<div>\n",
       "<style scoped>\n",
       "    .dataframe tbody tr th:only-of-type {\n",
       "        vertical-align: middle;\n",
       "    }\n",
       "\n",
       "    .dataframe tbody tr th {\n",
       "        vertical-align: top;\n",
       "    }\n",
       "\n",
       "    .dataframe thead th {\n",
       "        text-align: right;\n",
       "    }\n",
       "</style>\n",
       "<table border=\"1\" class=\"dataframe\">\n",
       "  <thead>\n",
       "    <tr style=\"text-align: right;\">\n",
       "      <th></th>\n",
       "      <th>date</th>\n",
       "      <th>rougher.input.feed_au</th>\n",
       "      <th>rougher.input.feed_ag</th>\n",
       "      <th>rougher.input.feed_pb</th>\n",
       "      <th>rougher.input.feed_sol</th>\n",
       "      <th>rougher.input.feed_rate</th>\n",
       "      <th>rougher.input.feed_size</th>\n",
       "      <th>rougher.input.floatbank10_sulfate</th>\n",
       "      <th>rougher.input.floatbank10_xanthate</th>\n",
       "      <th>rougher.state.floatbank10_a_air</th>\n",
       "      <th>...</th>\n",
       "      <th>secondary_cleaner.state.floatbank4_a_air</th>\n",
       "      <th>secondary_cleaner.state.floatbank4_a_level</th>\n",
       "      <th>secondary_cleaner.state.floatbank4_b_air</th>\n",
       "      <th>secondary_cleaner.state.floatbank4_b_level</th>\n",
       "      <th>secondary_cleaner.state.floatbank5_a_air</th>\n",
       "      <th>secondary_cleaner.state.floatbank5_a_level</th>\n",
       "      <th>secondary_cleaner.state.floatbank5_b_air</th>\n",
       "      <th>secondary_cleaner.state.floatbank5_b_level</th>\n",
       "      <th>secondary_cleaner.state.floatbank6_a_air</th>\n",
       "      <th>secondary_cleaner.state.floatbank6_a_level</th>\n",
       "    </tr>\n",
       "  </thead>\n",
       "  <tbody>\n",
       "    <tr>\n",
       "      <th>0</th>\n",
       "      <td>2017-12-09 14:59:59</td>\n",
       "      <td>4.365491</td>\n",
       "      <td>6.158718</td>\n",
       "      <td>3.875727</td>\n",
       "      <td>39.135119</td>\n",
       "      <td>555.820208</td>\n",
       "      <td>94.544358</td>\n",
       "      <td>6.146982</td>\n",
       "      <td>9.308612</td>\n",
       "      <td>1196.238112</td>\n",
       "      <td>...</td>\n",
       "      <td>23.018622</td>\n",
       "      <td>-500.492702</td>\n",
       "      <td>20.020205</td>\n",
       "      <td>-500.220296</td>\n",
       "      <td>17.963512</td>\n",
       "      <td>-499.939490</td>\n",
       "      <td>12.990306</td>\n",
       "      <td>-500.080993</td>\n",
       "      <td>19.990336</td>\n",
       "      <td>-499.191575</td>\n",
       "    </tr>\n",
       "    <tr>\n",
       "      <th>1</th>\n",
       "      <td>2017-12-09 15:59:59</td>\n",
       "      <td>4.362781</td>\n",
       "      <td>6.048130</td>\n",
       "      <td>3.902537</td>\n",
       "      <td>39.713906</td>\n",
       "      <td>544.731687</td>\n",
       "      <td>123.742430</td>\n",
       "      <td>6.210119</td>\n",
       "      <td>9.297709</td>\n",
       "      <td>1201.904177</td>\n",
       "      <td>...</td>\n",
       "      <td>23.024963</td>\n",
       "      <td>-501.153409</td>\n",
       "      <td>20.054122</td>\n",
       "      <td>-500.314711</td>\n",
       "      <td>17.979515</td>\n",
       "      <td>-499.272871</td>\n",
       "      <td>12.992404</td>\n",
       "      <td>-499.976268</td>\n",
       "      <td>20.013986</td>\n",
       "      <td>-500.625471</td>\n",
       "    </tr>\n",
       "    <tr>\n",
       "      <th>2</th>\n",
       "      <td>2017-12-09 16:59:59</td>\n",
       "      <td>5.081681</td>\n",
       "      <td>6.082745</td>\n",
       "      <td>4.564078</td>\n",
       "      <td>37.208683</td>\n",
       "      <td>558.155110</td>\n",
       "      <td>82.610855</td>\n",
       "      <td>7.363824</td>\n",
       "      <td>9.003562</td>\n",
       "      <td>1200.826926</td>\n",
       "      <td>...</td>\n",
       "      <td>22.993827</td>\n",
       "      <td>-501.559663</td>\n",
       "      <td>20.029144</td>\n",
       "      <td>-500.000662</td>\n",
       "      <td>18.012723</td>\n",
       "      <td>-500.024764</td>\n",
       "      <td>13.016445</td>\n",
       "      <td>-500.058432</td>\n",
       "      <td>19.973767</td>\n",
       "      <td>-501.394155</td>\n",
       "    </tr>\n",
       "    <tr>\n",
       "      <th>3</th>\n",
       "      <td>2017-12-09 17:59:59</td>\n",
       "      <td>5.145949</td>\n",
       "      <td>6.084374</td>\n",
       "      <td>4.768124</td>\n",
       "      <td>36.808874</td>\n",
       "      <td>539.713765</td>\n",
       "      <td>77.984784</td>\n",
       "      <td>6.927072</td>\n",
       "      <td>8.955597</td>\n",
       "      <td>1199.292489</td>\n",
       "      <td>...</td>\n",
       "      <td>23.032807</td>\n",
       "      <td>-501.287889</td>\n",
       "      <td>19.977466</td>\n",
       "      <td>-500.159903</td>\n",
       "      <td>17.980463</td>\n",
       "      <td>-500.504602</td>\n",
       "      <td>12.949071</td>\n",
       "      <td>-500.009937</td>\n",
       "      <td>20.010332</td>\n",
       "      <td>-508.337973</td>\n",
       "    </tr>\n",
       "    <tr>\n",
       "      <th>4</th>\n",
       "      <td>2017-12-09 18:59:59</td>\n",
       "      <td>5.735249</td>\n",
       "      <td>6.165220</td>\n",
       "      <td>4.512346</td>\n",
       "      <td>37.810642</td>\n",
       "      <td>558.713584</td>\n",
       "      <td>86.434874</td>\n",
       "      <td>7.823471</td>\n",
       "      <td>7.490356</td>\n",
       "      <td>1198.005449</td>\n",
       "      <td>...</td>\n",
       "      <td>23.001911</td>\n",
       "      <td>-499.947838</td>\n",
       "      <td>20.023735</td>\n",
       "      <td>-499.713680</td>\n",
       "      <td>17.990955</td>\n",
       "      <td>-500.334769</td>\n",
       "      <td>13.007523</td>\n",
       "      <td>-499.968459</td>\n",
       "      <td>19.995999</td>\n",
       "      <td>-499.788805</td>\n",
       "    </tr>\n",
       "  </tbody>\n",
       "</table>\n",
       "<p>5 rows × 53 columns</p>\n",
       "</div>"
      ],
      "text/plain": [
       "                  date  rougher.input.feed_au  rougher.input.feed_ag  \\\n",
       "0  2017-12-09 14:59:59               4.365491               6.158718   \n",
       "1  2017-12-09 15:59:59               4.362781               6.048130   \n",
       "2  2017-12-09 16:59:59               5.081681               6.082745   \n",
       "3  2017-12-09 17:59:59               5.145949               6.084374   \n",
       "4  2017-12-09 18:59:59               5.735249               6.165220   \n",
       "\n",
       "   rougher.input.feed_pb  rougher.input.feed_sol  rougher.input.feed_rate  \\\n",
       "0               3.875727               39.135119               555.820208   \n",
       "1               3.902537               39.713906               544.731687   \n",
       "2               4.564078               37.208683               558.155110   \n",
       "3               4.768124               36.808874               539.713765   \n",
       "4               4.512346               37.810642               558.713584   \n",
       "\n",
       "   rougher.input.feed_size  rougher.input.floatbank10_sulfate  \\\n",
       "0                94.544358                           6.146982   \n",
       "1               123.742430                           6.210119   \n",
       "2                82.610855                           7.363824   \n",
       "3                77.984784                           6.927072   \n",
       "4                86.434874                           7.823471   \n",
       "\n",
       "   rougher.input.floatbank10_xanthate  rougher.state.floatbank10_a_air  ...  \\\n",
       "0                            9.308612                      1196.238112  ...   \n",
       "1                            9.297709                      1201.904177  ...   \n",
       "2                            9.003562                      1200.826926  ...   \n",
       "3                            8.955597                      1199.292489  ...   \n",
       "4                            7.490356                      1198.005449  ...   \n",
       "\n",
       "   secondary_cleaner.state.floatbank4_a_air  \\\n",
       "0                                 23.018622   \n",
       "1                                 23.024963   \n",
       "2                                 22.993827   \n",
       "3                                 23.032807   \n",
       "4                                 23.001911   \n",
       "\n",
       "   secondary_cleaner.state.floatbank4_a_level  \\\n",
       "0                                 -500.492702   \n",
       "1                                 -501.153409   \n",
       "2                                 -501.559663   \n",
       "3                                 -501.287889   \n",
       "4                                 -499.947838   \n",
       "\n",
       "   secondary_cleaner.state.floatbank4_b_air  \\\n",
       "0                                 20.020205   \n",
       "1                                 20.054122   \n",
       "2                                 20.029144   \n",
       "3                                 19.977466   \n",
       "4                                 20.023735   \n",
       "\n",
       "   secondary_cleaner.state.floatbank4_b_level  \\\n",
       "0                                 -500.220296   \n",
       "1                                 -500.314711   \n",
       "2                                 -500.000662   \n",
       "3                                 -500.159903   \n",
       "4                                 -499.713680   \n",
       "\n",
       "   secondary_cleaner.state.floatbank5_a_air  \\\n",
       "0                                 17.963512   \n",
       "1                                 17.979515   \n",
       "2                                 18.012723   \n",
       "3                                 17.980463   \n",
       "4                                 17.990955   \n",
       "\n",
       "   secondary_cleaner.state.floatbank5_a_level  \\\n",
       "0                                 -499.939490   \n",
       "1                                 -499.272871   \n",
       "2                                 -500.024764   \n",
       "3                                 -500.504602   \n",
       "4                                 -500.334769   \n",
       "\n",
       "   secondary_cleaner.state.floatbank5_b_air  \\\n",
       "0                                 12.990306   \n",
       "1                                 12.992404   \n",
       "2                                 13.016445   \n",
       "3                                 12.949071   \n",
       "4                                 13.007523   \n",
       "\n",
       "   secondary_cleaner.state.floatbank5_b_level  \\\n",
       "0                                 -500.080993   \n",
       "1                                 -499.976268   \n",
       "2                                 -500.058432   \n",
       "3                                 -500.009937   \n",
       "4                                 -499.968459   \n",
       "\n",
       "   secondary_cleaner.state.floatbank6_a_air  \\\n",
       "0                                 19.990336   \n",
       "1                                 20.013986   \n",
       "2                                 19.973767   \n",
       "3                                 20.010332   \n",
       "4                                 19.995999   \n",
       "\n",
       "   secondary_cleaner.state.floatbank6_a_level  \n",
       "0                                 -499.191575  \n",
       "1                                 -500.625471  \n",
       "2                                 -501.394155  \n",
       "3                                 -508.337973  \n",
       "4                                 -499.788805  \n",
       "\n",
       "[5 rows x 53 columns]"
      ]
     },
     "metadata": {},
     "output_type": "display_data"
    },
    {
     "name": "stdout",
     "output_type": "stream",
     "text": [
      "\n",
      "\n",
      "\n",
      "full:\n"
     ]
    },
    {
     "data": {
      "text/html": [
       "<div>\n",
       "<style scoped>\n",
       "    .dataframe tbody tr th:only-of-type {\n",
       "        vertical-align: middle;\n",
       "    }\n",
       "\n",
       "    .dataframe tbody tr th {\n",
       "        vertical-align: top;\n",
       "    }\n",
       "\n",
       "    .dataframe thead th {\n",
       "        text-align: right;\n",
       "    }\n",
       "</style>\n",
       "<table border=\"1\" class=\"dataframe\">\n",
       "  <thead>\n",
       "    <tr style=\"text-align: right;\">\n",
       "      <th></th>\n",
       "      <th>date</th>\n",
       "      <th>rougher.input.feed_au</th>\n",
       "      <th>rougher.input.feed_ag</th>\n",
       "      <th>rougher.input.feed_pb</th>\n",
       "      <th>rougher.input.feed_sol</th>\n",
       "      <th>rougher.input.feed_rate</th>\n",
       "      <th>rougher.input.feed_size</th>\n",
       "      <th>rougher.input.floatbank10_sulfate</th>\n",
       "      <th>rougher.input.floatbank10_xanthate</th>\n",
       "      <th>rougher.state.floatbank10_a_air</th>\n",
       "      <th>...</th>\n",
       "      <th>secondary_cleaner.output.tail_sol</th>\n",
       "      <th>final.output.concentrate_au</th>\n",
       "      <th>final.output.concentrate_ag</th>\n",
       "      <th>final.output.concentrate_pb</th>\n",
       "      <th>final.output.concentrate_sol</th>\n",
       "      <th>final.output.recovery</th>\n",
       "      <th>final.output.tail_au</th>\n",
       "      <th>final.output.tail_ag</th>\n",
       "      <th>final.output.tail_pb</th>\n",
       "      <th>final.output.tail_sol</th>\n",
       "    </tr>\n",
       "  </thead>\n",
       "  <tbody>\n",
       "    <tr>\n",
       "      <th>0</th>\n",
       "      <td>2016-01-15 00:00:00</td>\n",
       "      <td>6.486150</td>\n",
       "      <td>6.100378</td>\n",
       "      <td>2.284912</td>\n",
       "      <td>36.808594</td>\n",
       "      <td>523.546326</td>\n",
       "      <td>55.486599</td>\n",
       "      <td>11.986616</td>\n",
       "      <td>6.007990</td>\n",
       "      <td>999.706909</td>\n",
       "      <td>...</td>\n",
       "      <td>8.764648</td>\n",
       "      <td>42.192020</td>\n",
       "      <td>6.055403</td>\n",
       "      <td>9.889648</td>\n",
       "      <td>5.507324</td>\n",
       "      <td>70.541216</td>\n",
       "      <td>2.143149</td>\n",
       "      <td>10.411962</td>\n",
       "      <td>0.895447</td>\n",
       "      <td>16.904297</td>\n",
       "    </tr>\n",
       "    <tr>\n",
       "      <th>1</th>\n",
       "      <td>2016-01-15 01:00:00</td>\n",
       "      <td>6.478583</td>\n",
       "      <td>6.161113</td>\n",
       "      <td>2.266033</td>\n",
       "      <td>35.753385</td>\n",
       "      <td>525.290581</td>\n",
       "      <td>57.278666</td>\n",
       "      <td>11.971193</td>\n",
       "      <td>6.005766</td>\n",
       "      <td>1000.286398</td>\n",
       "      <td>...</td>\n",
       "      <td>9.001494</td>\n",
       "      <td>42.701629</td>\n",
       "      <td>6.029369</td>\n",
       "      <td>9.968944</td>\n",
       "      <td>5.257781</td>\n",
       "      <td>69.266198</td>\n",
       "      <td>2.224930</td>\n",
       "      <td>10.462676</td>\n",
       "      <td>0.927452</td>\n",
       "      <td>16.634514</td>\n",
       "    </tr>\n",
       "    <tr>\n",
       "      <th>2</th>\n",
       "      <td>2016-01-15 02:00:00</td>\n",
       "      <td>6.362222</td>\n",
       "      <td>6.116455</td>\n",
       "      <td>2.159622</td>\n",
       "      <td>35.971630</td>\n",
       "      <td>530.026610</td>\n",
       "      <td>57.510649</td>\n",
       "      <td>11.920603</td>\n",
       "      <td>6.197377</td>\n",
       "      <td>999.719565</td>\n",
       "      <td>...</td>\n",
       "      <td>8.842896</td>\n",
       "      <td>42.657501</td>\n",
       "      <td>6.055926</td>\n",
       "      <td>10.213995</td>\n",
       "      <td>5.383759</td>\n",
       "      <td>68.116445</td>\n",
       "      <td>2.257889</td>\n",
       "      <td>10.507046</td>\n",
       "      <td>0.953716</td>\n",
       "      <td>16.208849</td>\n",
       "    </tr>\n",
       "    <tr>\n",
       "      <th>3</th>\n",
       "      <td>2016-01-15 03:00:00</td>\n",
       "      <td>6.118189</td>\n",
       "      <td>6.043309</td>\n",
       "      <td>2.037807</td>\n",
       "      <td>36.862241</td>\n",
       "      <td>542.590390</td>\n",
       "      <td>57.792734</td>\n",
       "      <td>11.630094</td>\n",
       "      <td>6.203177</td>\n",
       "      <td>999.814770</td>\n",
       "      <td>...</td>\n",
       "      <td>9.122857</td>\n",
       "      <td>42.689819</td>\n",
       "      <td>6.047977</td>\n",
       "      <td>9.977019</td>\n",
       "      <td>4.858634</td>\n",
       "      <td>68.347543</td>\n",
       "      <td>2.146849</td>\n",
       "      <td>10.422762</td>\n",
       "      <td>0.883763</td>\n",
       "      <td>16.532835</td>\n",
       "    </tr>\n",
       "    <tr>\n",
       "      <th>4</th>\n",
       "      <td>2016-01-15 04:00:00</td>\n",
       "      <td>5.663707</td>\n",
       "      <td>6.060915</td>\n",
       "      <td>1.786875</td>\n",
       "      <td>34.347666</td>\n",
       "      <td>540.531893</td>\n",
       "      <td>56.047189</td>\n",
       "      <td>10.957755</td>\n",
       "      <td>6.198826</td>\n",
       "      <td>999.678690</td>\n",
       "      <td>...</td>\n",
       "      <td>8.871028</td>\n",
       "      <td>42.774141</td>\n",
       "      <td>6.148599</td>\n",
       "      <td>10.142511</td>\n",
       "      <td>4.939416</td>\n",
       "      <td>66.927016</td>\n",
       "      <td>2.055292</td>\n",
       "      <td>10.360302</td>\n",
       "      <td>0.792826</td>\n",
       "      <td>16.525686</td>\n",
       "    </tr>\n",
       "  </tbody>\n",
       "</table>\n",
       "<p>5 rows × 87 columns</p>\n",
       "</div>"
      ],
      "text/plain": [
       "                  date  rougher.input.feed_au  rougher.input.feed_ag  \\\n",
       "0  2016-01-15 00:00:00               6.486150               6.100378   \n",
       "1  2016-01-15 01:00:00               6.478583               6.161113   \n",
       "2  2016-01-15 02:00:00               6.362222               6.116455   \n",
       "3  2016-01-15 03:00:00               6.118189               6.043309   \n",
       "4  2016-01-15 04:00:00               5.663707               6.060915   \n",
       "\n",
       "   rougher.input.feed_pb  rougher.input.feed_sol  rougher.input.feed_rate  \\\n",
       "0               2.284912               36.808594               523.546326   \n",
       "1               2.266033               35.753385               525.290581   \n",
       "2               2.159622               35.971630               530.026610   \n",
       "3               2.037807               36.862241               542.590390   \n",
       "4               1.786875               34.347666               540.531893   \n",
       "\n",
       "   rougher.input.feed_size  rougher.input.floatbank10_sulfate  \\\n",
       "0                55.486599                          11.986616   \n",
       "1                57.278666                          11.971193   \n",
       "2                57.510649                          11.920603   \n",
       "3                57.792734                          11.630094   \n",
       "4                56.047189                          10.957755   \n",
       "\n",
       "   rougher.input.floatbank10_xanthate  rougher.state.floatbank10_a_air  ...  \\\n",
       "0                            6.007990                       999.706909  ...   \n",
       "1                            6.005766                      1000.286398  ...   \n",
       "2                            6.197377                       999.719565  ...   \n",
       "3                            6.203177                       999.814770  ...   \n",
       "4                            6.198826                       999.678690  ...   \n",
       "\n",
       "   secondary_cleaner.output.tail_sol  final.output.concentrate_au  \\\n",
       "0                           8.764648                    42.192020   \n",
       "1                           9.001494                    42.701629   \n",
       "2                           8.842896                    42.657501   \n",
       "3                           9.122857                    42.689819   \n",
       "4                           8.871028                    42.774141   \n",
       "\n",
       "   final.output.concentrate_ag  final.output.concentrate_pb  \\\n",
       "0                     6.055403                     9.889648   \n",
       "1                     6.029369                     9.968944   \n",
       "2                     6.055926                    10.213995   \n",
       "3                     6.047977                     9.977019   \n",
       "4                     6.148599                    10.142511   \n",
       "\n",
       "   final.output.concentrate_sol  final.output.recovery  final.output.tail_au  \\\n",
       "0                      5.507324              70.541216              2.143149   \n",
       "1                      5.257781              69.266198              2.224930   \n",
       "2                      5.383759              68.116445              2.257889   \n",
       "3                      4.858634              68.347543              2.146849   \n",
       "4                      4.939416              66.927016              2.055292   \n",
       "\n",
       "   final.output.tail_ag  final.output.tail_pb  final.output.tail_sol  \n",
       "0             10.411962              0.895447              16.904297  \n",
       "1             10.462676              0.927452              16.634514  \n",
       "2             10.507046              0.953716              16.208849  \n",
       "3             10.422762              0.883763              16.532835  \n",
       "4             10.360302              0.792826              16.525686  \n",
       "\n",
       "[5 rows x 87 columns]"
      ]
     },
     "metadata": {},
     "output_type": "display_data"
    }
   ],
   "source": [
    "print('train:')\n",
    "display(train.head())\n",
    "\n",
    "print('\\n\\n\\ntest:')\n",
    "display(test.head())\n",
    "\n",
    "print('\\n\\n\\nfull:')\n",
    "display(full.head())"
   ]
  },
  {
   "cell_type": "code",
   "execution_count": 5,
   "metadata": {},
   "outputs": [
    {
     "name": "stdout",
     "output_type": "stream",
     "text": [
      "train: 0\n",
      "test:  0\n",
      "full:  0\n"
     ]
    }
   ],
   "source": [
    "# проверим наличие дубликатов\n",
    "print('train:', train.duplicated().sum())\n",
    "print('test: ', test.duplicated().sum())\n",
    "print('full: ', full.duplicated().sum())"
   ]
  },
  {
   "cell_type": "markdown",
   "metadata": {},
   "source": [
    "Кол-во столбцов отличается в разных файлах. Посмотрим какие столбцы отсутствуют в test и кол-во пропусков в train, test, full"
   ]
  },
  {
   "cell_type": "code",
   "execution_count": 6,
   "metadata": {},
   "outputs": [],
   "source": [
    "def def_nan(df, columns):\n",
    "        \n",
    "    data =pd.DataFrame([], columns = [])\n",
    "\n",
    "    for j in columns:\n",
    "        res = []\n",
    "        for i in range(0,len(df)):\n",
    "            try: \n",
    "                count = df[i][j].isna().sum()\n",
    "            except: count = '-----'\n",
    "            count = str(count) + '\\t'\n",
    "            res.append(count)\n",
    "    \n",
    "        print(''.join(res), '\\t', j)"
   ]
  },
  {
   "cell_type": "code",
   "execution_count": 7,
   "metadata": {},
   "outputs": [
    {
     "name": "stdout",
     "output_type": "stream",
     "text": [
      "full \ttest \ttrain \t\t columns \n",
      "\n",
      "0\t0\t0\t \t date\n",
      "0\t0\t0\t \t rougher.input.feed_au\n",
      "0\t0\t0\t \t rougher.input.feed_ag\n",
      "100\t28\t72\t \t rougher.input.feed_pb\n",
      "99\t22\t77\t \t rougher.input.feed_sol\n",
      "11\t4\t7\t \t rougher.input.feed_rate\n",
      "145\t44\t101\t \t rougher.input.feed_size\n",
      "34\t3\t31\t \t rougher.input.floatbank10_sulfate\n",
      "8\t1\t7\t \t rougher.input.floatbank10_xanthate\n",
      "1\t1\t0\t \t rougher.state.floatbank10_a_air\n",
      "1\t1\t0\t \t rougher.state.floatbank10_a_level\n",
      "1\t1\t0\t \t rougher.state.floatbank10_b_air\n",
      "1\t1\t0\t \t rougher.state.floatbank10_b_level\n",
      "1\t1\t0\t \t rougher.state.floatbank10_c_air\n",
      "1\t1\t0\t \t rougher.state.floatbank10_c_level\n",
      "0\t0\t0\t \t rougher.state.floatbank10_d_air\n",
      "0\t0\t0\t \t rougher.state.floatbank10_d_level\n",
      "436\t7\t429\t \t rougher.state.floatbank10_e_air\n",
      "0\t0\t0\t \t rougher.state.floatbank10_e_level\n",
      "0\t0\t0\t \t rougher.state.floatbank10_f_air\n",
      "0\t0\t0\t \t rougher.state.floatbank10_f_level\n",
      "44\t8\t36\t \t rougher.input.floatbank11_sulfate\n",
      "453\t46\t407\t \t rougher.input.floatbank11_xanthate\n",
      "2\t-----\t1\t \t rougher.calculation.sulfate_to_au_concentrate\n",
      "2\t-----\t1\t \t rougher.calculation.floatbank10_sulfate_to_au_feed\n",
      "2\t-----\t1\t \t rougher.calculation.floatbank11_sulfate_to_au_feed\n",
      "0\t-----\t0\t \t rougher.calculation.au_pb_ratio\n",
      "0\t-----\t0\t \t rougher.output.concentrate_au\n",
      "0\t-----\t0\t \t rougher.output.concentrate_ag\n",
      "0\t-----\t0\t \t rougher.output.concentrate_pb\n",
      "23\t-----\t18\t \t rougher.output.concentrate_sol\n",
      "0\t-----\t0\t \t rougher.output.recovery\n",
      "0\t-----\t0\t \t rougher.output.tail_au\n",
      "1\t-----\t1\t \t rougher.output.tail_ag\n",
      "0\t-----\t0\t \t rougher.output.tail_pb\n",
      "0\t-----\t0\t \t rougher.output.tail_sol\n",
      "24\t1\t23\t \t primary_cleaner.input.sulfate\n",
      "37\t9\t28\t \t primary_cleaner.input.depressant\n",
      "0\t0\t0\t \t primary_cleaner.input.feed_size\n",
      "104\t43\t61\t \t primary_cleaner.input.xanthate\n",
      "4\t1\t3\t \t primary_cleaner.state.floatbank8_a_air\n",
      "1\t1\t0\t \t primary_cleaner.state.floatbank8_a_level\n",
      "4\t1\t3\t \t primary_cleaner.state.floatbank8_b_air\n",
      "1\t1\t0\t \t primary_cleaner.state.floatbank8_b_level\n",
      "2\t2\t0\t \t primary_cleaner.state.floatbank8_c_air\n",
      "1\t1\t0\t \t primary_cleaner.state.floatbank8_c_level\n",
      "3\t2\t1\t \t primary_cleaner.state.floatbank8_d_air\n",
      "1\t1\t0\t \t primary_cleaner.state.floatbank8_d_level\n",
      "0\t-----\t0\t \t primary_cleaner.output.concentrate_au\n",
      "0\t-----\t0\t \t primary_cleaner.output.concentrate_ag\n",
      "116\t-----\t88\t \t primary_cleaner.output.concentrate_pb\n",
      "370\t-----\t265\t \t primary_cleaner.output.concentrate_sol\n",
      "0\t-----\t0\t \t primary_cleaner.output.tail_au\n",
      "4\t-----\t4\t \t primary_cleaner.output.tail_ag\n",
      "21\t-----\t6\t \t primary_cleaner.output.tail_pb\n",
      "62\t-----\t45\t \t primary_cleaner.output.tail_sol\n",
      "220\t126\t94\t \t secondary_cleaner.state.floatbank2_a_air\n",
      "1\t1\t0\t \t secondary_cleaner.state.floatbank2_a_level\n",
      "23\t1\t22\t \t secondary_cleaner.state.floatbank2_b_air\n",
      "1\t1\t0\t \t secondary_cleaner.state.floatbank2_b_level\n",
      "13\t1\t12\t \t secondary_cleaner.state.floatbank3_a_air\n",
      "1\t1\t0\t \t secondary_cleaner.state.floatbank3_a_level\n",
      "1\t1\t0\t \t secondary_cleaner.state.floatbank3_b_air\n",
      "1\t1\t0\t \t secondary_cleaner.state.floatbank3_b_level\n",
      "6\t1\t5\t \t secondary_cleaner.state.floatbank4_a_air\n",
      "1\t1\t0\t \t secondary_cleaner.state.floatbank4_a_level\n",
      "1\t1\t0\t \t secondary_cleaner.state.floatbank4_b_air\n",
      "1\t1\t0\t \t secondary_cleaner.state.floatbank4_b_level\n",
      "1\t1\t0\t \t secondary_cleaner.state.floatbank5_a_air\n",
      "1\t1\t0\t \t secondary_cleaner.state.floatbank5_a_level\n",
      "1\t1\t0\t \t secondary_cleaner.state.floatbank5_b_air\n",
      "1\t1\t0\t \t secondary_cleaner.state.floatbank5_b_level\n",
      "2\t1\t1\t \t secondary_cleaner.state.floatbank6_a_air\n",
      "1\t1\t0\t \t secondary_cleaner.state.floatbank6_a_level\n",
      "0\t-----\t0\t \t secondary_cleaner.output.tail_au\n",
      "2\t-----\t1\t \t secondary_cleaner.output.tail_ag\n",
      "12\t-----\t4\t \t secondary_cleaner.output.tail_pb\n",
      "1748\t-----\t920\t \t secondary_cleaner.output.tail_sol\n",
      "0\t-----\t0\t \t final.output.concentrate_au\n",
      "1\t-----\t1\t \t final.output.concentrate_ag\n",
      "1\t-----\t1\t \t final.output.concentrate_pb\n",
      "211\t-----\t192\t \t final.output.concentrate_sol\n",
      "0\t-----\t0\t \t final.output.recovery\n",
      "0\t-----\t0\t \t final.output.tail_au\n",
      "1\t-----\t1\t \t final.output.tail_ag\n",
      "101\t-----\t75\t \t final.output.tail_pb\n",
      "6\t-----\t5\t \t final.output.tail_sol\n"
     ]
    }
   ],
   "source": [
    "df = [full, test, train]\n",
    "columns = full.columns\n",
    "\n",
    "print('full \\ttest \\ttrain \\t\\t columns \\n')\n",
    "def_nan(df, columns)"
   ]
  },
  {
   "cell_type": "markdown",
   "metadata": {},
   "source": [
    "#### Промежуточные выводы:\n",
    "\n",
    "1. Pагружено три набора данных (train, test, full).\n",
    "2. В данных train отсутствуют ряд признаков (34)\n",
    "3. Пропущенные признаки относятся:\n",
    "    - расчетным характеристикам,\n",
    "    - параметрам конечного продукта или промежуточного, которые, обычно, измеряются позже\n",
    "    - параметрам отходов (хвостов), которые, обычно, измеряются позже. \n",
    "4. В файлах train, test, full имеются пропуски\n",
    "5. В файлах train, test, full дубликаты отсутствуют"
   ]
  },
  {
   "cell_type": "markdown",
   "metadata": {},
   "source": [
    "### Проверка корректности расчета эффективность обогащения\n"
   ]
  },
  {
   "cell_type": "code",
   "execution_count": 8,
   "metadata": {},
   "outputs": [],
   "source": [
    "c = train['rougher.output.concentrate_au'] #доля золота в концентрате после флотации/очистки;\n",
    "f = train['rougher.input.feed_au']         #доля золота в сырье/концентрате до флотации/очистки;\n",
    "t = train['rougher.output.tail_au']        #доля золота в отвальных хвостах после флотации/очистки."
   ]
  },
  {
   "cell_type": "code",
   "execution_count": 9,
   "metadata": {},
   "outputs": [
    {
     "name": "stdout",
     "output_type": "stream",
     "text": [
      "mae =\t\t\t\t 9.83758577644259e-15\n",
      "mean rougher.output.recovery =\t 82.52119968211336\n",
      "mean recovery_calc =\t\t 82.52119968211336\n"
     ]
    }
   ],
   "source": [
    "recovery_calc = c * (f - t) / (f * (c - t)) *100\n",
    "mae = mean_absolute_error(train['rougher.output.recovery'], recovery_calc)\n",
    "print('mae =\\t\\t\\t\\t', mae)\n",
    "print('mean rougher.output.recovery =\\t', train['rougher.output.recovery'].mean())\n",
    "print('mean recovery_calc =\\t\\t', recovery_calc.mean())"
   ]
  },
  {
   "cell_type": "markdown",
   "metadata": {},
   "source": [
    "#### Промежуточные выводы:\n",
    "\n",
    "1. Эффективность обогащения (rougher.output.recovery) рассчитана корректно\n",
    "2. MAE между указанными данными и расчетными составило 10^(-14)"
   ]
  },
  {
   "cell_type": "markdown",
   "metadata": {},
   "source": [
    "### Предобработка данных"
   ]
  },
  {
   "cell_type": "code",
   "execution_count": 10,
   "metadata": {},
   "outputs": [],
   "source": [
    "#поскольку крайние по времени параметры часто совпадают, то заполним пропуски используя ffill\n",
    "\n",
    "train.ffill(axis = 'rows', inplace = True)\n",
    "test.ffill(axis = 'rows', inplace = True)\n",
    "full.ffill(axis = 'rows', inplace = True)\n"
   ]
  },
  {
   "cell_type": "code",
   "execution_count": 11,
   "metadata": {
    "scrolled": false
   },
   "outputs": [
    {
     "name": "stdout",
     "output_type": "stream",
     "text": [
      "full \ttest \ttrain \t\t columns \n",
      "\n",
      "0\t0\t0\t \t date\n",
      "0\t0\t0\t \t rougher.input.feed_au\n",
      "0\t0\t0\t \t rougher.input.feed_ag\n",
      "0\t0\t0\t \t rougher.input.feed_pb\n",
      "0\t0\t0\t \t rougher.input.feed_sol\n",
      "0\t0\t0\t \t rougher.input.feed_rate\n",
      "0\t0\t0\t \t rougher.input.feed_size\n",
      "0\t0\t0\t \t rougher.input.floatbank10_sulfate\n",
      "0\t0\t0\t \t rougher.input.floatbank10_xanthate\n",
      "0\t0\t0\t \t rougher.state.floatbank10_a_air\n",
      "0\t0\t0\t \t rougher.state.floatbank10_a_level\n",
      "0\t0\t0\t \t rougher.state.floatbank10_b_air\n",
      "0\t0\t0\t \t rougher.state.floatbank10_b_level\n",
      "0\t0\t0\t \t rougher.state.floatbank10_c_air\n",
      "0\t0\t0\t \t rougher.state.floatbank10_c_level\n",
      "0\t0\t0\t \t rougher.state.floatbank10_d_air\n",
      "0\t0\t0\t \t rougher.state.floatbank10_d_level\n",
      "0\t0\t0\t \t rougher.state.floatbank10_e_air\n",
      "0\t0\t0\t \t rougher.state.floatbank10_e_level\n",
      "0\t0\t0\t \t rougher.state.floatbank10_f_air\n",
      "0\t0\t0\t \t rougher.state.floatbank10_f_level\n",
      "0\t0\t0\t \t rougher.input.floatbank11_sulfate\n",
      "0\t0\t0\t \t rougher.input.floatbank11_xanthate\n",
      "0\t-----\t0\t \t rougher.calculation.sulfate_to_au_concentrate\n",
      "0\t-----\t0\t \t rougher.calculation.floatbank10_sulfate_to_au_feed\n",
      "0\t-----\t0\t \t rougher.calculation.floatbank11_sulfate_to_au_feed\n",
      "0\t-----\t0\t \t rougher.calculation.au_pb_ratio\n",
      "0\t-----\t0\t \t rougher.output.concentrate_au\n",
      "0\t-----\t0\t \t rougher.output.concentrate_ag\n",
      "0\t-----\t0\t \t rougher.output.concentrate_pb\n",
      "0\t-----\t0\t \t rougher.output.concentrate_sol\n",
      "0\t-----\t0\t \t rougher.output.recovery\n",
      "0\t-----\t0\t \t rougher.output.tail_au\n",
      "0\t-----\t0\t \t rougher.output.tail_ag\n",
      "0\t-----\t0\t \t rougher.output.tail_pb\n",
      "0\t-----\t0\t \t rougher.output.tail_sol\n",
      "0\t0\t0\t \t primary_cleaner.input.sulfate\n",
      "0\t0\t0\t \t primary_cleaner.input.depressant\n",
      "0\t0\t0\t \t primary_cleaner.input.feed_size\n",
      "0\t0\t0\t \t primary_cleaner.input.xanthate\n",
      "0\t0\t0\t \t primary_cleaner.state.floatbank8_a_air\n",
      "0\t0\t0\t \t primary_cleaner.state.floatbank8_a_level\n",
      "0\t0\t0\t \t primary_cleaner.state.floatbank8_b_air\n",
      "0\t0\t0\t \t primary_cleaner.state.floatbank8_b_level\n",
      "0\t0\t0\t \t primary_cleaner.state.floatbank8_c_air\n",
      "0\t0\t0\t \t primary_cleaner.state.floatbank8_c_level\n",
      "0\t0\t0\t \t primary_cleaner.state.floatbank8_d_air\n",
      "0\t0\t0\t \t primary_cleaner.state.floatbank8_d_level\n",
      "0\t-----\t0\t \t primary_cleaner.output.concentrate_au\n",
      "0\t-----\t0\t \t primary_cleaner.output.concentrate_ag\n",
      "0\t-----\t0\t \t primary_cleaner.output.concentrate_pb\n",
      "0\t-----\t0\t \t primary_cleaner.output.concentrate_sol\n",
      "0\t-----\t0\t \t primary_cleaner.output.tail_au\n",
      "0\t-----\t0\t \t primary_cleaner.output.tail_ag\n",
      "0\t-----\t0\t \t primary_cleaner.output.tail_pb\n",
      "0\t-----\t0\t \t primary_cleaner.output.tail_sol\n",
      "0\t0\t0\t \t secondary_cleaner.state.floatbank2_a_air\n",
      "0\t0\t0\t \t secondary_cleaner.state.floatbank2_a_level\n",
      "0\t0\t0\t \t secondary_cleaner.state.floatbank2_b_air\n",
      "0\t0\t0\t \t secondary_cleaner.state.floatbank2_b_level\n",
      "0\t0\t0\t \t secondary_cleaner.state.floatbank3_a_air\n",
      "0\t0\t0\t \t secondary_cleaner.state.floatbank3_a_level\n",
      "0\t0\t0\t \t secondary_cleaner.state.floatbank3_b_air\n",
      "0\t0\t0\t \t secondary_cleaner.state.floatbank3_b_level\n",
      "0\t0\t0\t \t secondary_cleaner.state.floatbank4_a_air\n",
      "0\t0\t0\t \t secondary_cleaner.state.floatbank4_a_level\n",
      "0\t0\t0\t \t secondary_cleaner.state.floatbank4_b_air\n",
      "0\t0\t0\t \t secondary_cleaner.state.floatbank4_b_level\n",
      "0\t0\t0\t \t secondary_cleaner.state.floatbank5_a_air\n",
      "0\t0\t0\t \t secondary_cleaner.state.floatbank5_a_level\n",
      "0\t0\t0\t \t secondary_cleaner.state.floatbank5_b_air\n",
      "0\t0\t0\t \t secondary_cleaner.state.floatbank5_b_level\n",
      "0\t0\t0\t \t secondary_cleaner.state.floatbank6_a_air\n",
      "0\t0\t0\t \t secondary_cleaner.state.floatbank6_a_level\n",
      "0\t-----\t0\t \t secondary_cleaner.output.tail_au\n",
      "0\t-----\t0\t \t secondary_cleaner.output.tail_ag\n",
      "0\t-----\t0\t \t secondary_cleaner.output.tail_pb\n",
      "0\t-----\t0\t \t secondary_cleaner.output.tail_sol\n",
      "0\t-----\t0\t \t final.output.concentrate_au\n",
      "0\t-----\t0\t \t final.output.concentrate_ag\n",
      "0\t-----\t0\t \t final.output.concentrate_pb\n",
      "0\t-----\t0\t \t final.output.concentrate_sol\n",
      "0\t-----\t0\t \t final.output.recovery\n",
      "0\t-----\t0\t \t final.output.tail_au\n",
      "0\t-----\t0\t \t final.output.tail_ag\n",
      "0\t-----\t0\t \t final.output.tail_pb\n",
      "0\t-----\t0\t \t final.output.tail_sol\n"
     ]
    }
   ],
   "source": [
    "print('full \\ttest \\ttrain \\t\\t columns \\n')\n",
    "def_nan(df, columns)"
   ]
  },
  {
   "cell_type": "markdown",
   "metadata": {},
   "source": [
    "#### Промежуточные выводы:\n",
    "\n",
    "1. Заполнены пропуски в данных train, test, full. Использовался метод ffill т.к. данные индексируются датой и временем получения информации (признак date) и соседние по времени параметры часто похожи."
   ]
  },
  {
   "cell_type": "markdown",
   "metadata": {},
   "source": [
    "## Анализ данных"
   ]
  },
  {
   "cell_type": "markdown",
   "metadata": {},
   "source": [
    "### Исследование изменения концентрации металов в зависимости от стадии очистки"
   ]
  },
  {
   "cell_type": "code",
   "execution_count": 12,
   "metadata": {},
   "outputs": [],
   "source": [
    "au = full[['rougher.input.feed_au',\n",
    "           'rougher.output.concentrate_au',\n",
    "           'primary_cleaner.output.concentrate_au', \n",
    "           'final.output.concentrate_au']].mean()\n",
    "\n",
    "ag = full[['rougher.input.feed_ag',\n",
    "           'rougher.output.concentrate_ag',\n",
    "           'primary_cleaner.output.concentrate_ag', \n",
    "           'final.output.concentrate_ag']].mean()\n",
    "\n",
    "pb = full[['rougher.input.feed_pb',\n",
    "           'rougher.output.concentrate_pb',\n",
    "           'primary_cleaner.output.concentrate_pb', \n",
    "           'final.output.concentrate_pb']].mean()\n"
   ]
  },
  {
   "cell_type": "code",
   "execution_count": 13,
   "metadata": {},
   "outputs": [
    {
     "data": {
      "text/plain": [
       "Text(0.5, 0, 'Стадии очистки')"
      ]
     },
     "execution_count": 13,
     "metadata": {},
     "output_type": "execute_result"
    },
    {
     "data": {
      "image/png": "[encoded data removed]",
      "text/plain": [
       "<Figure size 1500x500 with 3 Axes>"
      ]
     },
     "metadata": {},
     "output_type": "display_data"
    }
   ],
   "source": [
    "x = ['начальная \\nконцентрация','флотация', '1-я стадия', '2-я стадия']\n",
    "fig, pic = plt.subplots(1, 3,linewidth=10, figsize=(15, 5))\n",
    "fig.suptitle('Зависимость концентрации металлов от этапа очистки', fontsize = 15, fontweight='bold')\n",
    "\n",
    "pic[0].plot(x, au, '-o')\n",
    "pic[0].set_title('Au', fontsize=15)\n",
    "pic[0].set_ylabel('Концентрация', fontsize=12)\n",
    "pic[0].set_xlabel('Стадии очистки', fontsize=12)\n",
    "\n",
    "pic[1].plot(x, ag, '-o')\n",
    "pic[1].set_title('Ag', fontsize=15)\n",
    "pic[1].set_ylabel('Концентрация', fontsize=12)\n",
    "pic[1].set_xlabel('Стадии очистки', fontsize=12)\n",
    "\n",
    "pic[2].plot(x, pb, '-o')\n",
    "pic[2].set_title('Pb', fontsize=15)\n",
    "pic[2].set_ylabel('Концентрация', fontsize=12)\n",
    "pic[2].set_xlabel('Стадии очистки', fontsize=12)\n",
    "\n"
   ]
  },
  {
   "cell_type": "markdown",
   "metadata": {},
   "source": [
    "#### Промежуточные выводы:\n",
    "\n",
    "1. Концентрация золота увеличивается линейно на всех процессах обработки (с 8% до 45%)\n",
    "2. Концентрация серебра имеет максимум после этапа флотации, после - обывает, что показывает эффективность удаления серебра на 1 и 2 стадии очистки. Общая концентрация серебра в процессе обогащения руды падает с 9% до 5%\n",
    "3. Концентрация свинца увеличивается по на всех процессах обработки (с 3,5% до 10%. Увеличение не линейное, наблюдается насыщение после 1-ой стадии."
   ]
  },
  {
   "cell_type": "markdown",
   "metadata": {},
   "source": [
    "### Исследование распределения размеров входного сырья в обучающей и тестовой выборке"
   ]
  },
  {
   "cell_type": "code",
   "execution_count": 14,
   "metadata": {},
   "outputs": [
    {
     "data": {
      "image/png": "[encoded data removed]",
      "text/plain": [
       "<Figure size 1200x300 with 1 Axes>"
      ]
     },
     "metadata": {},
     "output_type": "display_data"
    }
   ],
   "source": [
    "size_train = train['rougher.input.feed_size']\n",
    "size_test = test['rougher.input.feed_size']\n",
    "\n",
    "\n",
    "plt.figure(figsize = (12,3))\n",
    "size_train.hist(bins = 150, range = (0,150), density = True, alpha = 1)\n",
    "size_test.hist(bins = 150, range = (0,150), density = True, alpha = 0.5, color = 'red')\n",
    "\n",
    "plt.title('Распределения размеров входного сырья')\n",
    "plt.legend(['train', 'test'])\n",
    "plt.xlabel('размер')\n",
    "plt.ylabel('доля')\n",
    "plt.show()\n"
   ]
  },
  {
   "cell_type": "code",
   "execution_count": 15,
   "metadata": {},
   "outputs": [
    {
     "data": {
      "text/plain": [
       "Text(0.5, 1.0, 'Kernel Density Function')"
      ]
     },
     "execution_count": 15,
     "metadata": {},
     "output_type": "execute_result"
    },
    {
     "data": {
      "image/png": "[encoded data removed]",
      "text/plain": [
       "<Figure size 1200x300 with 1 Axes>"
      ]
     },
     "metadata": {},
     "output_type": "display_data"
    }
   ],
   "source": [
    "plt.figure(figsize = (12,3))\n",
    "sns.kdeplot(x=size_train, common_norm=False, bw_adjust=0.5)\n",
    "sns.kdeplot(x=size_test, common_norm=False, bw_adjust=0.5)\n",
    "plt.xlim(0, 150)\n",
    "plt.legend(['train', 'test'])\n",
    "plt.title(\"Kernel Density Function\")"
   ]
  },
  {
   "cell_type": "markdown",
   "metadata": {},
   "source": [
    "#### Промежуточные выводы:\n",
    "\n",
    "1. В целом, распределения чатиц по размерам в обучающей выборке и тестовой схожи, но имеется отличие в обрасти размеров частиц вблизи 75 мм и небольшое отличие в области 40-60 мм"
   ]
  },
  {
   "cell_type": "markdown",
   "metadata": {},
   "source": [
    "### Исследование суммарной концентрации металлов на разных стадиях: в сырье, в черновом концентрате, в концентрате после первой очистки и в финальном концентрате."
   ]
  },
  {
   "cell_type": "code",
   "execution_count": 16,
   "metadata": {},
   "outputs": [],
   "source": [
    "# концентрация металлов в сырье\n",
    "def concentration_dist(train, min_c=0):\n",
    "    \n",
    "    c_me_initial = train[['rougher.input.feed_au',\n",
    "                         'rougher.input.feed_ag',\n",
    "                         'rougher.input.feed_pb']].sum(axis =1)\n",
    "    # концентрация металлов в черновом концентрате\n",
    "    c_me_after_rougher = train[['rougher.output.concentrate_au',\n",
    "                               'rougher.output.concentrate_ag',\n",
    "                               'rougher.output.concentrate_pb']].sum(axis =1)\n",
    "    c_me_after_rougher = c_me_after_rougher[c_me_after_rougher >= min_c]\n",
    "    \n",
    "    # концентрация металлов в концентрате после первой очистки\n",
    "    c_me_after_first_cleaner = train[['primary_cleaner.output.concentrate_au',\n",
    "                                     'primary_cleaner.output.concentrate_ag',\n",
    "                                     'primary_cleaner.output.concentrate_pb']].sum(axis =1)\n",
    "    \n",
    "    c_me_after_first_cleaner = c_me_after_first_cleaner[c_me_after_first_cleaner >= min_c]\n",
    "    # концентрация металлов в финальном концентрате\n",
    "    c_me_final = train[['final.output.concentrate_au',\n",
    "                       'final.output.concentrate_ag',\n",
    "                       'final.output.concentrate_pb']].sum(axis =1)\n",
    "    c_me_final =c_me_final[c_me_final >= min_c]\n",
    "    bins = 201\n",
    "    x = (0,100)\n",
    "\n",
    "    fig, pic = plt.subplots(2, 2, figsize=(15, 7))\n",
    "    fig.suptitle('Зависимость суммарной концентрации металлов от этапа очистки',\n",
    "                 fontsize = 15,\n",
    "                 fontweight='bold')\n",
    "\n",
    "    pic[0][0].hist(c_me_initial, bins = bins, range = x)\n",
    "    pic[0][0].set_title('сырьё', fontsize=12)\n",
    "\n",
    "    pic[0][1].hist(c_me_after_rougher, bins = bins, range = x)\n",
    "    pic[0][1].set_title('черновой концентрат', fontsize=12)\n",
    "\n",
    "    pic[1][0].hist(c_me_after_first_cleaner, bins = bins, range = x)\n",
    "    pic[1][0].set_title('после 1-ой очистки', fontsize=12)\n",
    "\n",
    "    pic[1][1].hist(c_me_final, bins = bins, range = x)\n",
    "    pic[1][1].set_title('финальная концнтрация', fontsize=12)\n",
    "\n",
    "    plt.subplots_adjust(top= 0.85, wspace = 0.1, hspace = 0.25)\n"
   ]
  },
  {
   "cell_type": "code",
   "execution_count": 17,
   "metadata": {},
   "outputs": [
    {
     "data": {
      "image/png": "[encoded data removed]",
      "text/plain": [
       "<Figure size 1500x700 with 4 Axes>"
      ]
     },
     "metadata": {},
     "output_type": "display_data"
    }
   ],
   "source": [
    "concentration_dist(train)"
   ]
  },
  {
   "cell_type": "code",
   "execution_count": 18,
   "metadata": {},
   "outputs": [
    {
     "data": {
      "image/png": "[encoded data removed]",
      "text/plain": [
       "<Figure size 1500x700 with 4 Axes>"
      ]
     },
     "metadata": {},
     "output_type": "display_data"
    }
   ],
   "source": [
    "concentration_dist(train, 0.1)"
   ]
  },
  {
   "cell_type": "markdown",
   "metadata": {},
   "source": [
    "#### Промежуточные выводы:\n",
    "\n",
    "1. В данных по суммарной концентрации металлов на стадиях \"черновой концентрат\", \"после 1 очистки) и в \"финальной концентрации\" присутстсуют аномальные значения в районе 0.\n",
    "2. Предположительно, они могут быть связаны с:\n",
    "    - ошибками при выгрузке данных,\n",
    "    - некорректным заведением данных, при сборе статистики,\n",
    "    - отсутствием этих данных на момент сбора статистики.\n",
    "3. В процессе обогащения руды, концентрация металлов постепенно повышается с 10-30 % до 57-63%, при этом разброс значений сушественно уменьшается с 15-20% до 5-8%."
   ]
  },
  {
   "cell_type": "markdown",
   "metadata": {},
   "source": [
    "## Модель"
   ]
  },
  {
   "cell_type": "markdown",
   "metadata": {},
   "source": [
    "### Подготовка данных для обучения"
   ]
  },
  {
   "cell_type": "markdown",
   "metadata": {},
   "source": [
    "В тестовой выборке отсутствуют ряд параметров по причине того, что их значения получают позже. Поэтому, чтобы модель могла предсказывать конечные параметры в момент работы производства, нужно удалить эти параметры в обуающей выборке.\n",
    "\n",
    "Выделим столбцы, отсутствующие в тестовой выборке."
   ]
  },
  {
   "cell_type": "code",
   "execution_count": 19,
   "metadata": {
    "scrolled": false
   },
   "outputs": [
    {
     "data": {
      "text/plain": [
       "{'final.output.concentrate_ag',\n",
       " 'final.output.concentrate_au',\n",
       " 'final.output.concentrate_pb',\n",
       " 'final.output.concentrate_sol',\n",
       " 'final.output.tail_ag',\n",
       " 'final.output.tail_au',\n",
       " 'final.output.tail_pb',\n",
       " 'final.output.tail_sol',\n",
       " 'primary_cleaner.output.concentrate_ag',\n",
       " 'primary_cleaner.output.concentrate_au',\n",
       " 'primary_cleaner.output.concentrate_pb',\n",
       " 'primary_cleaner.output.concentrate_sol',\n",
       " 'primary_cleaner.output.tail_ag',\n",
       " 'primary_cleaner.output.tail_au',\n",
       " 'primary_cleaner.output.tail_pb',\n",
       " 'primary_cleaner.output.tail_sol',\n",
       " 'rougher.calculation.au_pb_ratio',\n",
       " 'rougher.calculation.floatbank10_sulfate_to_au_feed',\n",
       " 'rougher.calculation.floatbank11_sulfate_to_au_feed',\n",
       " 'rougher.calculation.sulfate_to_au_concentrate',\n",
       " 'rougher.output.concentrate_ag',\n",
       " 'rougher.output.concentrate_au',\n",
       " 'rougher.output.concentrate_pb',\n",
       " 'rougher.output.concentrate_sol',\n",
       " 'rougher.output.tail_ag',\n",
       " 'rougher.output.tail_au',\n",
       " 'rougher.output.tail_pb',\n",
       " 'rougher.output.tail_sol',\n",
       " 'secondary_cleaner.output.tail_ag',\n",
       " 'secondary_cleaner.output.tail_au',\n",
       " 'secondary_cleaner.output.tail_pb',\n",
       " 'secondary_cleaner.output.tail_sol'}"
      ]
     },
     "metadata": {},
     "output_type": "display_data"
    },
    {
     "name": "stdout",
     "output_type": "stream",
     "text": [
      "32\n"
     ]
    }
   ],
   "source": [
    "col_train = set(train.columns)\n",
    "col_test = set(test.columns)\n",
    "\n",
    "col = col_train - col_test - set(['final.output.recovery','rougher.output.recovery'])\n",
    "\n",
    "display(col)\n",
    "print(len(col))"
   ]
  },
  {
   "cell_type": "markdown",
   "metadata": {},
   "source": [
    "Удалим необходимые столбцы в обучающей выборке"
   ]
  },
  {
   "cell_type": "code",
   "execution_count": 20,
   "metadata": {},
   "outputs": [
    {
     "name": "stdout",
     "output_type": "stream",
     "text": [
      " train:\t\t (14579, 87) \n",
      " train2:\t (14579, 54) \n",
      " test:\t\t (4860, 53)\n"
     ]
    }
   ],
   "source": [
    "train2 = train.copy()\n",
    "train2 = train2.drop(col, axis = 1)\n",
    "train2 = train2.drop('date', axis = 1)\n",
    "\n",
    "print(' train:\\t\\t', train.shape, '\\n',\n",
    "      'train2:\\t', train2.shape, '\\n',\n",
    "      'test:\\t\\t', test.shape)"
   ]
  },
  {
   "cell_type": "markdown",
   "metadata": {},
   "source": [
    "Разделим train и test на features и target для обучения модели.\n",
    "В случае с train данные target подтянем из full.\n",
    "\n",
    "На значение 'rougher.output.recovery' не могут влиять параметры технологических процессов после 1-ой и 2-ой стадии очистки, поэтому удалим их. Аналогично сделаем в тестовой выборке, для предсказания 'rougher.output.recovery'.\n",
    "\n",
    "Данные по целевому параметры для тестовой выборки возьмем из full."
   ]
  },
  {
   "cell_type": "code",
   "execution_count": 21,
   "metadata": {},
   "outputs": [],
   "source": [
    "features1 = train2[pd.Series(train2.columns).head(22)]\n",
    "\n",
    "features2 = train2.drop(pd.Series(train2.columns).head(23), axis = 1)\n",
    "features2 = train2.drop(['rougher.output.recovery', 'final.output.recovery'], axis = 1)\n",
    "\n",
    "test_f1 = test[pd.Series(test.columns).head(23)]\n",
    "test_f1 = test_f1.drop('date', axis =1)\n",
    "test_f2 = test.drop('date', axis = 1)\n"
   ]
  },
  {
   "cell_type": "code",
   "execution_count": 22,
   "metadata": {},
   "outputs": [],
   "source": [
    "target1 =train2['rougher.output.recovery']\n",
    "target2 = train2['final.output.recovery']\n",
    "\n",
    "test_t1 = pd.merge(test, full[['date', 'rougher.output.recovery']], on = ['date'])\n",
    "test_t1 = test_t1['rougher.output.recovery']\n",
    "\n",
    "test_t2 = pd.merge(test, full[['date', 'final.output.recovery']], on = ['date'])\n",
    "test_t2 = test_t2['final.output.recovery']"
   ]
  },
  {
   "cell_type": "code",
   "execution_count": 23,
   "metadata": {},
   "outputs": [
    {
     "name": "stdout",
     "output_type": "stream",
     "text": [
      "features1:\t (14579, 22) \n",
      "target1:\t (14579,) \n",
      "features2:\t (14579, 52) \n",
      "target2:\t (14579,) \n",
      "test_f1:\t (4860, 22) \n",
      "test_f2:\t (4860, 52) \n",
      "test_t1:\t (4860,) \n",
      "test_t2:\t (4860,)\n"
     ]
    }
   ],
   "source": [
    "print('features1:\\t', features1.shape,\n",
    "      '\\ntarget1:\\t', target1.shape,\n",
    "      '\\nfeatures2:\\t', features2.shape,\n",
    "      '\\ntarget2:\\t', target2.shape,\n",
    "      '\\ntest_f1:\\t', test_f1.shape,\n",
    "      '\\ntest_f2:\\t', test_f2.shape,\n",
    "      '\\ntest_t1:\\t', test_t1.shape,\n",
    "      '\\ntest_t2:\\t', test_t2.shape)"
   ]
  },
  {
   "cell_type": "markdown",
   "metadata": {},
   "source": [
    "Убедимся, что выборки features для предсказания rougher.output.recovery и final.output.recovery содержат необходимые данные."
   ]
  },
  {
   "cell_type": "code",
   "execution_count": 24,
   "metadata": {},
   "outputs": [
    {
     "name": "stdout",
     "output_type": "stream",
     "text": [
      "f-1 \t f-2 \ttf-1 \ttf-2 \t\t columns \n",
      "\n",
      "-----\t-----\t-----\t-----\t \t date\n",
      "0\t0\t0\t0\t \t rougher.input.feed_au\n",
      "0\t0\t0\t0\t \t rougher.input.feed_ag\n",
      "0\t0\t0\t0\t \t rougher.input.feed_pb\n",
      "0\t0\t0\t0\t \t rougher.input.feed_sol\n",
      "0\t0\t0\t0\t \t rougher.input.feed_rate\n",
      "0\t0\t0\t0\t \t rougher.input.feed_size\n",
      "0\t0\t0\t0\t \t rougher.input.floatbank10_sulfate\n",
      "0\t0\t0\t0\t \t rougher.input.floatbank10_xanthate\n",
      "0\t0\t0\t0\t \t rougher.state.floatbank10_a_air\n",
      "0\t0\t0\t0\t \t rougher.state.floatbank10_a_level\n",
      "0\t0\t0\t0\t \t rougher.state.floatbank10_b_air\n",
      "0\t0\t0\t0\t \t rougher.state.floatbank10_b_level\n",
      "0\t0\t0\t0\t \t rougher.state.floatbank10_c_air\n",
      "0\t0\t0\t0\t \t rougher.state.floatbank10_c_level\n",
      "0\t0\t0\t0\t \t rougher.state.floatbank10_d_air\n",
      "0\t0\t0\t0\t \t rougher.state.floatbank10_d_level\n",
      "0\t0\t0\t0\t \t rougher.state.floatbank10_e_air\n",
      "0\t0\t0\t0\t \t rougher.state.floatbank10_e_level\n",
      "0\t0\t0\t0\t \t rougher.state.floatbank10_f_air\n",
      "0\t0\t0\t0\t \t rougher.state.floatbank10_f_level\n",
      "0\t0\t0\t0\t \t rougher.input.floatbank11_sulfate\n",
      "0\t0\t0\t0\t \t rougher.input.floatbank11_xanthate\n",
      "-----\t-----\t-----\t-----\t \t rougher.calculation.sulfate_to_au_concentrate\n",
      "-----\t-----\t-----\t-----\t \t rougher.calculation.floatbank10_sulfate_to_au_feed\n",
      "-----\t-----\t-----\t-----\t \t rougher.calculation.floatbank11_sulfate_to_au_feed\n",
      "-----\t-----\t-----\t-----\t \t rougher.calculation.au_pb_ratio\n",
      "-----\t-----\t-----\t-----\t \t rougher.output.concentrate_au\n",
      "-----\t-----\t-----\t-----\t \t rougher.output.concentrate_ag\n",
      "-----\t-----\t-----\t-----\t \t rougher.output.concentrate_pb\n",
      "-----\t-----\t-----\t-----\t \t rougher.output.concentrate_sol\n",
      "-----\t-----\t-----\t-----\t \t rougher.output.recovery\n",
      "-----\t-----\t-----\t-----\t \t rougher.output.tail_au\n",
      "-----\t-----\t-----\t-----\t \t rougher.output.tail_ag\n",
      "-----\t-----\t-----\t-----\t \t rougher.output.tail_pb\n",
      "-----\t-----\t-----\t-----\t \t rougher.output.tail_sol\n",
      "-----\t0\t-----\t0\t \t primary_cleaner.input.sulfate\n",
      "-----\t0\t-----\t0\t \t primary_cleaner.input.depressant\n",
      "-----\t0\t-----\t0\t \t primary_cleaner.input.feed_size\n",
      "-----\t0\t-----\t0\t \t primary_cleaner.input.xanthate\n",
      "-----\t0\t-----\t0\t \t primary_cleaner.state.floatbank8_a_air\n",
      "-----\t0\t-----\t0\t \t primary_cleaner.state.floatbank8_a_level\n",
      "-----\t0\t-----\t0\t \t primary_cleaner.state.floatbank8_b_air\n",
      "-----\t0\t-----\t0\t \t primary_cleaner.state.floatbank8_b_level\n",
      "-----\t0\t-----\t0\t \t primary_cleaner.state.floatbank8_c_air\n",
      "-----\t0\t-----\t0\t \t primary_cleaner.state.floatbank8_c_level\n",
      "-----\t0\t-----\t0\t \t primary_cleaner.state.floatbank8_d_air\n",
      "-----\t0\t-----\t0\t \t primary_cleaner.state.floatbank8_d_level\n",
      "-----\t-----\t-----\t-----\t \t primary_cleaner.output.concentrate_au\n",
      "-----\t-----\t-----\t-----\t \t primary_cleaner.output.concentrate_ag\n",
      "-----\t-----\t-----\t-----\t \t primary_cleaner.output.concentrate_pb\n",
      "-----\t-----\t-----\t-----\t \t primary_cleaner.output.concentrate_sol\n",
      "-----\t-----\t-----\t-----\t \t primary_cleaner.output.tail_au\n",
      "-----\t-----\t-----\t-----\t \t primary_cleaner.output.tail_ag\n",
      "-----\t-----\t-----\t-----\t \t primary_cleaner.output.tail_pb\n",
      "-----\t-----\t-----\t-----\t \t primary_cleaner.output.tail_sol\n",
      "-----\t0\t-----\t0\t \t secondary_cleaner.state.floatbank2_a_air\n",
      "-----\t0\t-----\t0\t \t secondary_cleaner.state.floatbank2_a_level\n",
      "-----\t0\t-----\t0\t \t secondary_cleaner.state.floatbank2_b_air\n",
      "-----\t0\t-----\t0\t \t secondary_cleaner.state.floatbank2_b_level\n",
      "-----\t0\t-----\t0\t \t secondary_cleaner.state.floatbank3_a_air\n",
      "-----\t0\t-----\t0\t \t secondary_cleaner.state.floatbank3_a_level\n",
      "-----\t0\t-----\t0\t \t secondary_cleaner.state.floatbank3_b_air\n",
      "-----\t0\t-----\t0\t \t secondary_cleaner.state.floatbank3_b_level\n",
      "-----\t0\t-----\t0\t \t secondary_cleaner.state.floatbank4_a_air\n",
      "-----\t0\t-----\t0\t \t secondary_cleaner.state.floatbank4_a_level\n",
      "-----\t0\t-----\t0\t \t secondary_cleaner.state.floatbank4_b_air\n",
      "-----\t0\t-----\t0\t \t secondary_cleaner.state.floatbank4_b_level\n",
      "-----\t0\t-----\t0\t \t secondary_cleaner.state.floatbank5_a_air\n",
      "-----\t0\t-----\t0\t \t secondary_cleaner.state.floatbank5_a_level\n",
      "-----\t0\t-----\t0\t \t secondary_cleaner.state.floatbank5_b_air\n",
      "-----\t0\t-----\t0\t \t secondary_cleaner.state.floatbank5_b_level\n",
      "-----\t0\t-----\t0\t \t secondary_cleaner.state.floatbank6_a_air\n",
      "-----\t0\t-----\t0\t \t secondary_cleaner.state.floatbank6_a_level\n",
      "-----\t-----\t-----\t-----\t \t secondary_cleaner.output.tail_au\n",
      "-----\t-----\t-----\t-----\t \t secondary_cleaner.output.tail_ag\n",
      "-----\t-----\t-----\t-----\t \t secondary_cleaner.output.tail_pb\n",
      "-----\t-----\t-----\t-----\t \t secondary_cleaner.output.tail_sol\n",
      "-----\t-----\t-----\t-----\t \t final.output.concentrate_au\n",
      "-----\t-----\t-----\t-----\t \t final.output.concentrate_ag\n",
      "-----\t-----\t-----\t-----\t \t final.output.concentrate_pb\n",
      "-----\t-----\t-----\t-----\t \t final.output.concentrate_sol\n",
      "-----\t-----\t-----\t-----\t \t final.output.recovery\n",
      "-----\t-----\t-----\t-----\t \t final.output.tail_au\n",
      "-----\t-----\t-----\t-----\t \t final.output.tail_ag\n",
      "-----\t-----\t-----\t-----\t \t final.output.tail_pb\n",
      "-----\t-----\t-----\t-----\t \t final.output.tail_sol\n"
     ]
    }
   ],
   "source": [
    "print('f-1 \\t f-2 \\ttf-1 \\ttf-2 \\t\\t columns \\n')\n",
    "df = [features1,features2, test_f1, test_f2]\n",
    "columns = full.columns\n",
    "def_nan(df, columns)"
   ]
  },
  {
   "cell_type": "code",
   "execution_count": null,
   "metadata": {},
   "outputs": [],
   "source": []
  },
  {
   "cell_type": "markdown",
   "metadata": {},
   "source": [
    "### Оценка моделей RandomForestRegressor или LinearRegression с т.з. sMAPE"
   ]
  },
  {
   "cell_type": "code",
   "execution_count": 25,
   "metadata": {},
   "outputs": [],
   "source": [
    "def sMAPE (pred, res):\n",
    "    result = abs(res - pred) / ((abs(res) + abs(pred))/2) *100\n",
    "    return(result.mean())  "
   ]
  },
  {
   "cell_type": "code",
   "execution_count": 26,
   "metadata": {},
   "outputs": [],
   "source": [
    "def sMAPE_total (smape_r, smape_f):\n",
    "    return(0.25*smape_r + 0.75*smape_f) "
   ]
  },
  {
   "cell_type": "code",
   "execution_count": 27,
   "metadata": {},
   "outputs": [
    {
     "name": "stdout",
     "output_type": "stream",
     "text": [
      "rougher.output.recovery:\n",
      "RandomForestRegressor \tsMAPE \t 6.79325713901202\n",
      "LinearRegression \tsMAPE \t 11.573516137379915\n"
     ]
    }
   ],
   "source": [
    "model_rf = RandomForestRegressor(random_state=12345, n_jobs= 6)\n",
    "model_rf.fit(features1, target1)\n",
    "result_rf = sMAPE(model_rf.predict(features1), target1)\n",
    "\n",
    "model_lr = LinearRegression()\n",
    "model_lr.fit(features1, target1)\n",
    "result_lr = sMAPE(model_lr.predict(features1), target1)\n",
    "\n",
    "print('rougher.output.recovery:')\n",
    "print('RandomForestRegressor \\tsMAPE \\t', result_rf)\n",
    "print('LinearRegression \\tsMAPE \\t', result_lr)"
   ]
  },
  {
   "cell_type": "code",
   "execution_count": 28,
   "metadata": {},
   "outputs": [
    {
     "name": "stdout",
     "output_type": "stream",
     "text": [
      "final.output.recovery:\n",
      "RandomForestRegressor \tsMAPE \t 3.649088351427266\n",
      "LinearRegression \tsMAPE \t 9.463879743440252\n"
     ]
    }
   ],
   "source": [
    "model_rf = RandomForestRegressor(random_state=12345, n_jobs= 6 )\n",
    "model_rf.fit(features2, target2)\n",
    "result_rf = sMAPE(model_rf.predict(features2), target2)\n",
    "\n",
    "model_lr = LinearRegression()\n",
    "model_lr.fit(features2, target2)\n",
    "result_lr = sMAPE(model_lr.predict(features2), target2)\n",
    "\n",
    "print('final.output.recovery:')\n",
    "print('RandomForestRegressor \\tsMAPE \\t', result_rf)\n",
    "print('LinearRegression \\tsMAPE \\t', result_lr)"
   ]
  },
  {
   "cell_type": "markdown",
   "metadata": {},
   "source": [
    "#### Промежуточные выводы:\n",
    "\n",
    "1. С точки зрения минимизации sMAPE для предсказания 'ougher.output.recovery' и 'final.output.recovery' лучше подходит модель случайного леса, чем линейной регресии. Значения sMAPE для модели случайного леса в 1.5-2.5 раза ниже. Поэтому, в дальнейшем будем оптимизировать модель случайного леса"
   ]
  },
  {
   "cell_type": "markdown",
   "metadata": {},
   "source": [
    "### Подбор параметров модели RandomForestRegressor для достижения min sMAPE"
   ]
  },
  {
   "cell_type": "markdown",
   "metadata": {},
   "source": [
    "#### Модель для предсказания rougher.output.recovery"
   ]
  },
  {
   "cell_type": "code",
   "execution_count": 29,
   "metadata": {},
   "outputs": [
    {
     "name": "stdout",
     "output_type": "stream",
     "text": [
      "Параметры:\n"
     ]
    },
    {
     "data": {
      "text/plain": [
       "{'max_depth': 5, 'n_estimators': 100}"
      ]
     },
     "metadata": {},
     "output_type": "display_data"
    },
    {
     "name": "stdout",
     "output_type": "stream",
     "text": [
      "sMAPE = 12.63%\n"
     ]
    }
   ],
   "source": [
    "grid_space = {\n",
    "              'n_estimators':[5, 10, 20, 100],\n",
    "              'max_depth':[None, 5, 10],\n",
    "             }\n",
    "\n",
    "grid = GridSearchCV(RandomForestRegressor(),\n",
    "                    param_grid=grid_space,\n",
    "                    cv=5,\n",
    "                    scoring = make_scorer(sMAPE, greater_is_better = False),\n",
    "                    n_jobs= 6 )\n",
    "\n",
    "model1 = grid.fit(features1, target1)\n",
    "print('Параметры:')\n",
    "display(model1.best_params_)\n",
    "print(f'sMAPE = {round((-model1.best_score_),2)}%')"
   ]
  },
  {
   "cell_type": "markdown",
   "metadata": {},
   "source": [
    "#### Модель для предсказания final.output.recovery"
   ]
  },
  {
   "cell_type": "code",
   "execution_count": 30,
   "metadata": {},
   "outputs": [
    {
     "name": "stdout",
     "output_type": "stream",
     "text": [
      "Параметры:\n"
     ]
    },
    {
     "data": {
      "text/plain": [
       "{'max_depth': 5, 'n_estimators': 100}"
      ]
     },
     "metadata": {},
     "output_type": "display_data"
    },
    {
     "name": "stdout",
     "output_type": "stream",
     "text": [
      "sMAPE = 10.86%\n"
     ]
    }
   ],
   "source": [
    "grid_space = {\n",
    "              'n_estimators':[5, 10, 20, 100],\n",
    "              'max_depth':[None, 5, 10],\n",
    "             }\n",
    "\n",
    "grid = GridSearchCV(RandomForestRegressor(),\n",
    "                    param_grid=grid_space,\n",
    "                    cv=5,\n",
    "                    scoring = make_scorer(sMAPE, greater_is_better = False),\n",
    "                    n_jobs= 6 )\n",
    "\n",
    "model2 = grid.fit(features2, target2)\n",
    "print('Параметры:')\n",
    "display(model2.best_params_)\n",
    "print(f'sMAPE = {round((-model2.best_score_),2)}%')"
   ]
  },
  {
   "cell_type": "markdown",
   "metadata": {},
   "source": [
    "### Проверка модели на тестовой выборке"
   ]
  },
  {
   "cell_type": "code",
   "execution_count": 31,
   "metadata": {},
   "outputs": [
    {
     "name": "stdout",
     "output_type": "stream",
     "text": [
      "sMAPE (rougher) =\t 5.32%\n",
      "sMAPE (final) =\t\t 7.72%\n",
      "sMAPE =\t\t\t 7.12%\n"
     ]
    }
   ],
   "source": [
    "max_depth1 = model1.best_params_['max_depth']\n",
    "n_est1 = model1.best_params_['n_estimators']\n",
    "model1_opt = RandomForestRegressor(random_state=12345, max_depth = max_depth1, n_estimators = n_est1, n_jobs = 6)\n",
    "\n",
    "model1_opt.fit(features1, target1)\n",
    "test_p1 = model1_opt.predict(test_f1)\n",
    "smape_r = sMAPE (test_p1, test_t1)\n",
    "\n",
    "\n",
    "max_depth2 = model2.best_params_['max_depth']\n",
    "n_est2 = model2.best_params_['n_estimators']\n",
    "model2_opt = RandomForestRegressor(random_state=12345, max_depth = max_depth2, n_estimators = n_est2, n_jobs = 6)\n",
    "\n",
    "model2_opt.fit(features2, target2)\n",
    "test_p2 = model2_opt.predict(test_f2)\n",
    "smape_f = sMAPE (test_p2, test_t2)\n",
    "\n",
    "print(f'sMAPE (rougher) =\\t {round(smape_r,2)}%')\n",
    "print(f'sMAPE (final) =\\t\\t {round(smape_f,2)}%')\n",
    "print(f'sMAPE =\\t\\t\\t {round(sMAPE_total(smape_r, smape_f),2)}%')"
   ]
  },
  {
   "cell_type": "code",
   "execution_count": 32,
   "metadata": {},
   "outputs": [
    {
     "name": "stdout",
     "output_type": "stream",
     "text": [
      "sMAPE (rougher) =\t 7.15%\n",
      "sMAPE (final) =\t\t 9.41%\n",
      "sMAPE =\t\t\t 8.84%\n"
     ]
    }
   ],
   "source": [
    "dm_r = DummyRegressor(strategy = 'mean')\n",
    "dm_f = DummyRegressor(strategy = 'mean')\n",
    "\n",
    "dm_r.fit(features1, target1)\n",
    "dm_f.fit(features2, target2)\n",
    "\n",
    "smape_r = sMAPE (dm_r.predict(test_f1), test_t1)\n",
    "smape_f = sMAPE (dm_f.predict(test_f2), test_t2)\n",
    "smape_total = sMAPE_total(smape_r, smape_f)\n",
    "\n",
    "print(f'sMAPE (rougher) =\\t {round(smape_r,2)}%')\n",
    "print(f'sMAPE (final) =\\t\\t {round(smape_f,2)}%')\n",
    "print(f'sMAPE =\\t\\t\\t {round(smape_total,2)}%')"
   ]
  },
  {
   "cell_type": "markdown",
   "metadata": {},
   "source": [
    "#### Промежуточные выводы:\n",
    "\n",
    "1. Подобрыны параметры моделей случайного леса для предсказания 'ougher.output.recovery' и 'final.output.recovery' С точки зрения минимизации sMAPE.\n",
    "2. Достигнутые значения sMAPE составило:\n",
    "    - для 'ougher.output.recovery'   5,3%\n",
    "    - для 'final.output.recovery'    7,7%\n",
    "    - общее.                         7,1%\n",
    "3. Достигнутое значение sMAPE модели на 1,6% лучше чем при использовании константной модели."
   ]
  },
  {
   "cell_type": "markdown",
   "metadata": {},
   "source": [
    "## Выводы"
   ]
  },
  {
   "cell_type": "markdown",
   "metadata": {},
   "source": [
    "1. Обнаруженные пропуски в исходных данных (train, test, full) заполнялись значением, соотвутствующим предыдущей дате.\n",
    "2. Важным параметром, влияющим на обогащение рубы является размер входной фракции. Её распределение по размерам в обучающей выборке и тестовой схожи\n",
    "3. В процессе обогащения руды, общая концентрация металлов увеличивается с 20 до 60%, при этом:\n",
    "    - концентрация золота увеличивается с 8% до 45%\n",
    "    - концентрация серебра уменьшается с 9% до 5%\n",
    "    - концентрация свинца увеличивается с 3.5% до 10%\n",
    "4. На тестовой выборке, методом GridSearchCV, подобраны оптимальные параметры модели случайного леса с точки зрения минимизации sMAPE.\n",
    "   Достигнутые значения sMAPE составили:\n",
    "    - 5,4% для 'ougher.output.recovery'\n",
    "    - 7,7% для 'final.output.recovery'\n",
    "    - 7,1% общее\n"
   ]
  },
  {
   "cell_type": "code",
   "execution_count": null,
   "metadata": {},
   "outputs": [],
   "source": []
  }
 ],
 "metadata": {
  "ExecuteTimeLog": [
   {
    "duration": 473,
    "start_time": "2023-06-02T15:29:41.812Z"
   },
   {
    "duration": 92,
    "start_time": "2023-06-02T15:30:53.057Z"
   },
   {
    "duration": 3,
    "start_time": "2023-06-02T15:31:14.557Z"
   },
   {
    "duration": 42,
    "start_time": "2023-06-02T15:31:16.100Z"
   },
   {
    "duration": 1472,
    "start_time": "2023-06-02T15:31:39.901Z"
   },
   {
    "duration": 2244,
    "start_time": "2023-06-02T15:32:28.052Z"
   },
   {
    "duration": 16,
    "start_time": "2023-06-02T15:32:40.315Z"
   },
   {
    "duration": 13,
    "start_time": "2023-06-02T15:33:30.237Z"
   },
   {
    "duration": 9,
    "start_time": "2023-06-02T15:33:40.825Z"
   },
   {
    "duration": 8,
    "start_time": "2023-06-02T15:36:04.855Z"
   },
   {
    "duration": 10,
    "start_time": "2023-06-02T15:36:15.659Z"
   },
   {
    "duration": 9,
    "start_time": "2023-06-02T15:36:20.901Z"
   },
   {
    "duration": 6,
    "start_time": "2023-06-02T15:37:10.251Z"
   },
   {
    "duration": 9,
    "start_time": "2023-06-02T15:37:16.670Z"
   },
   {
    "duration": 6,
    "start_time": "2023-06-02T15:37:42.822Z"
   },
   {
    "duration": 44,
    "start_time": "2023-06-02T15:37:49.721Z"
   },
   {
    "duration": 45,
    "start_time": "2023-06-02T15:38:46.193Z"
   },
   {
    "duration": 62,
    "start_time": "2023-06-02T15:38:55.844Z"
   },
   {
    "duration": 70,
    "start_time": "2023-06-02T15:39:14.032Z"
   },
   {
    "duration": 42,
    "start_time": "2023-06-02T15:39:34.527Z"
   },
   {
    "duration": 45,
    "start_time": "2023-06-02T15:40:11.096Z"
   },
   {
    "duration": 4,
    "start_time": "2023-06-02T15:40:14.663Z"
   },
   {
    "duration": 8,
    "start_time": "2023-06-02T15:40:19.843Z"
   },
   {
    "duration": 15,
    "start_time": "2023-06-02T15:40:42.445Z"
   },
   {
    "duration": 18,
    "start_time": "2023-06-02T15:41:00.395Z"
   },
   {
    "duration": 10,
    "start_time": "2023-06-02T15:45:10.752Z"
   },
   {
    "duration": 114,
    "start_time": "2023-06-02T15:45:19.047Z"
   },
   {
    "duration": 52,
    "start_time": "2023-06-02T15:46:32.463Z"
   },
   {
    "duration": 108,
    "start_time": "2023-06-02T15:47:22.158Z"
   },
   {
    "duration": 3,
    "start_time": "2023-06-02T16:17:27.583Z"
   },
   {
    "duration": 115,
    "start_time": "2023-06-02T16:23:01.320Z"
   },
   {
    "duration": 3,
    "start_time": "2023-06-02T17:40:33.303Z"
   },
   {
    "duration": 780,
    "start_time": "2023-06-02T17:40:34.829Z"
   },
   {
    "duration": 15,
    "start_time": "2023-06-02T17:40:35.610Z"
   },
   {
    "duration": 12,
    "start_time": "2023-06-02T17:40:36.123Z"
   },
   {
    "duration": 18,
    "start_time": "2023-06-02T17:40:38.690Z"
   },
   {
    "duration": 116,
    "start_time": "2023-06-02T17:40:39.136Z"
   },
   {
    "duration": 7,
    "start_time": "2023-06-02T17:40:39.706Z"
   },
   {
    "duration": 341,
    "start_time": "2023-06-02T17:40:51.560Z"
   },
   {
    "duration": 713,
    "start_time": "2023-06-02T17:40:51.903Z"
   },
   {
    "duration": 17,
    "start_time": "2023-06-02T17:40:52.618Z"
   },
   {
    "duration": 12,
    "start_time": "2023-06-02T17:40:52.637Z"
   },
   {
    "duration": 15,
    "start_time": "2023-06-02T17:40:52.651Z"
   },
   {
    "duration": 153,
    "start_time": "2023-06-02T17:40:52.667Z"
   },
   {
    "duration": 2,
    "start_time": "2023-06-02T17:40:52.821Z"
   },
   {
    "duration": 10,
    "start_time": "2023-06-02T17:40:52.825Z"
   },
   {
    "duration": 0,
    "start_time": "2023-06-02T17:40:52.836Z"
   },
   {
    "duration": 26,
    "start_time": "2023-06-02T17:41:04.188Z"
   },
   {
    "duration": 38,
    "start_time": "2023-06-02T17:41:33.537Z"
   },
   {
    "duration": 394,
    "start_time": "2023-06-02T17:41:51.285Z"
   },
   {
    "duration": 675,
    "start_time": "2023-06-02T17:41:51.681Z"
   },
   {
    "duration": 15,
    "start_time": "2023-06-02T17:41:52.357Z"
   },
   {
    "duration": 24,
    "start_time": "2023-06-02T17:41:52.373Z"
   },
   {
    "duration": 24,
    "start_time": "2023-06-02T17:41:52.406Z"
   },
   {
    "duration": 285,
    "start_time": "2023-06-02T17:41:52.431Z"
   },
   {
    "duration": 2,
    "start_time": "2023-06-02T17:41:52.718Z"
   },
   {
    "duration": 64,
    "start_time": "2023-06-02T17:41:52.722Z"
   },
   {
    "duration": 36,
    "start_time": "2023-06-02T17:41:52.787Z"
   },
   {
    "duration": 23,
    "start_time": "2023-06-02T17:41:52.826Z"
   },
   {
    "duration": 4,
    "start_time": "2023-06-02T17:41:52.851Z"
   },
   {
    "duration": 0,
    "start_time": "2023-06-02T17:41:52.856Z"
   },
   {
    "duration": 13,
    "start_time": "2023-06-02T17:42:08.053Z"
   },
   {
    "duration": 388,
    "start_time": "2023-06-02T17:48:55.777Z"
   },
   {
    "duration": 779,
    "start_time": "2023-06-02T17:48:57.367Z"
   },
   {
    "duration": 23,
    "start_time": "2023-06-02T17:48:58.149Z"
   },
   {
    "duration": 20,
    "start_time": "2023-06-02T17:48:59.220Z"
   },
   {
    "duration": 21,
    "start_time": "2023-06-02T17:48:59.632Z"
   },
   {
    "duration": 137,
    "start_time": "2023-06-02T17:49:01.094Z"
   },
   {
    "duration": 150,
    "start_time": "2023-06-02T17:49:12.414Z"
   },
   {
    "duration": 87,
    "start_time": "2023-06-02T17:49:18.202Z"
   },
   {
    "duration": 635,
    "start_time": "2023-06-02T17:49:44.750Z"
   },
   {
    "duration": 56,
    "start_time": "2023-06-02T17:49:54.627Z"
   },
   {
    "duration": 2,
    "start_time": "2023-06-02T17:50:15.794Z"
   },
   {
    "duration": 8,
    "start_time": "2023-06-02T17:50:27.292Z"
   },
   {
    "duration": 8,
    "start_time": "2023-06-02T17:50:34.394Z"
   },
   {
    "duration": 3,
    "start_time": "2023-06-02T17:50:39.042Z"
   },
   {
    "duration": 10,
    "start_time": "2023-06-02T17:50:39.821Z"
   },
   {
    "duration": 4,
    "start_time": "2023-06-02T17:50:56.410Z"
   },
   {
    "duration": 20,
    "start_time": "2023-06-02T17:51:15.276Z"
   },
   {
    "duration": 16,
    "start_time": "2023-06-02T17:51:26.344Z"
   },
   {
    "duration": 3,
    "start_time": "2023-06-02T17:53:55.953Z"
   },
   {
    "duration": 25,
    "start_time": "2023-06-02T17:54:22.061Z"
   },
   {
    "duration": 54,
    "start_time": "2023-06-02T17:54:43.112Z"
   },
   {
    "duration": 3,
    "start_time": "2023-06-02T17:56:56.711Z"
   },
   {
    "duration": 7,
    "start_time": "2023-06-02T17:57:30.098Z"
   },
   {
    "duration": 4,
    "start_time": "2023-06-02T17:57:34.040Z"
   },
   {
    "duration": 149,
    "start_time": "2023-06-02T17:57:34.688Z"
   },
   {
    "duration": 1003,
    "start_time": "2023-06-02T17:57:47.289Z"
   },
   {
    "duration": 693,
    "start_time": "2023-06-02T17:57:48.293Z"
   },
   {
    "duration": 22,
    "start_time": "2023-06-02T17:57:48.987Z"
   },
   {
    "duration": 11,
    "start_time": "2023-06-02T17:57:49.010Z"
   },
   {
    "duration": 15,
    "start_time": "2023-06-02T17:57:49.022Z"
   },
   {
    "duration": 4,
    "start_time": "2023-06-02T17:57:49.038Z"
   },
   {
    "duration": 171,
    "start_time": "2023-06-02T17:57:49.043Z"
   },
   {
    "duration": 3,
    "start_time": "2023-06-02T17:57:49.215Z"
   },
   {
    "duration": 203,
    "start_time": "2023-06-02T17:57:49.219Z"
   },
   {
    "duration": 3,
    "start_time": "2023-06-02T17:57:49.424Z"
   },
   {
    "duration": 0,
    "start_time": "2023-06-02T17:57:49.428Z"
   },
   {
    "duration": 70,
    "start_time": "2023-06-02T17:58:50.696Z"
   },
   {
    "duration": 13,
    "start_time": "2023-06-02T17:59:03.162Z"
   },
   {
    "duration": 3,
    "start_time": "2023-06-02T17:59:18.313Z"
   },
   {
    "duration": 58,
    "start_time": "2023-06-02T17:59:19.139Z"
   },
   {
    "duration": 9,
    "start_time": "2023-06-02T17:59:19.949Z"
   },
   {
    "duration": 13,
    "start_time": "2023-06-02T17:59:39.538Z"
   },
   {
    "duration": 13,
    "start_time": "2023-06-02T17:59:47.205Z"
   },
   {
    "duration": 3,
    "start_time": "2023-06-02T18:00:30.863Z"
   },
   {
    "duration": 59,
    "start_time": "2023-06-02T18:00:31.817Z"
   },
   {
    "duration": 11,
    "start_time": "2023-06-02T18:00:43.063Z"
   },
   {
    "duration": 980,
    "start_time": "2023-06-02T18:00:48.195Z"
   },
   {
    "duration": 657,
    "start_time": "2023-06-02T18:00:49.177Z"
   },
   {
    "duration": 16,
    "start_time": "2023-06-02T18:00:49.835Z"
   },
   {
    "duration": 16,
    "start_time": "2023-06-02T18:00:49.853Z"
   },
   {
    "duration": 36,
    "start_time": "2023-06-02T18:00:49.871Z"
   },
   {
    "duration": 4,
    "start_time": "2023-06-02T18:00:49.909Z"
   },
   {
    "duration": 134,
    "start_time": "2023-06-02T18:00:49.915Z"
   },
   {
    "duration": 4,
    "start_time": "2023-06-02T18:00:50.051Z"
   },
   {
    "duration": 84,
    "start_time": "2023-06-02T18:00:50.057Z"
   },
   {
    "duration": 12,
    "start_time": "2023-06-02T18:00:50.143Z"
   },
   {
    "duration": 4,
    "start_time": "2023-06-02T18:00:50.156Z"
   },
   {
    "duration": 0,
    "start_time": "2023-06-02T18:00:50.161Z"
   },
   {
    "duration": 62,
    "start_time": "2023-06-02T18:01:03.063Z"
   },
   {
    "duration": 11,
    "start_time": "2023-06-02T18:01:04.217Z"
   },
   {
    "duration": 3,
    "start_time": "2023-06-02T18:01:10.964Z"
   },
   {
    "duration": 59,
    "start_time": "2023-06-02T18:01:11.353Z"
   },
   {
    "duration": 9,
    "start_time": "2023-06-02T18:01:11.788Z"
   },
   {
    "duration": 4,
    "start_time": "2023-06-02T18:02:01.100Z"
   },
   {
    "duration": 144,
    "start_time": "2023-06-02T18:02:01.814Z"
   },
   {
    "duration": 4,
    "start_time": "2023-06-02T18:02:12.215Z"
   },
   {
    "duration": 123,
    "start_time": "2023-06-02T18:02:12.656Z"
   },
   {
    "duration": 2,
    "start_time": "2023-06-02T18:02:35.300Z"
   },
   {
    "duration": 71,
    "start_time": "2023-06-02T18:02:36.255Z"
   },
   {
    "duration": 10,
    "start_time": "2023-06-02T18:02:37.066Z"
   },
   {
    "duration": 143,
    "start_time": "2023-06-02T18:02:42.216Z"
   },
   {
    "duration": 3,
    "start_time": "2023-06-02T18:03:24.439Z"
   },
   {
    "duration": 106,
    "start_time": "2023-06-02T18:03:25.092Z"
   },
   {
    "duration": 4,
    "start_time": "2023-06-02T18:03:59.434Z"
   },
   {
    "duration": 116,
    "start_time": "2023-06-02T18:04:00.038Z"
   },
   {
    "duration": 2,
    "start_time": "2023-06-02T18:04:04.784Z"
   },
   {
    "duration": 27,
    "start_time": "2023-06-02T18:04:09.165Z"
   },
   {
    "duration": 28,
    "start_time": "2023-06-02T18:04:13.539Z"
   },
   {
    "duration": 31,
    "start_time": "2023-06-02T18:04:17.566Z"
   },
   {
    "duration": 8,
    "start_time": "2023-06-02T18:04:50.967Z"
   },
   {
    "duration": 8,
    "start_time": "2023-06-02T18:04:59.383Z"
   },
   {
    "duration": 8,
    "start_time": "2023-06-02T18:05:07.699Z"
   },
   {
    "duration": 137,
    "start_time": "2023-06-02T18:05:17.301Z"
   },
   {
    "duration": 3,
    "start_time": "2023-06-02T18:06:05.484Z"
   },
   {
    "duration": 7,
    "start_time": "2023-06-02T18:06:15.101Z"
   },
   {
    "duration": 12,
    "start_time": "2023-06-02T18:06:18.204Z"
   },
   {
    "duration": 2,
    "start_time": "2023-06-02T18:06:34.467Z"
   },
   {
    "duration": 665,
    "start_time": "2023-06-02T18:06:35.350Z"
   },
   {
    "duration": 15,
    "start_time": "2023-06-02T18:06:36.017Z"
   },
   {
    "duration": 28,
    "start_time": "2023-06-02T18:06:36.033Z"
   },
   {
    "duration": 27,
    "start_time": "2023-06-02T18:06:36.063Z"
   },
   {
    "duration": 4,
    "start_time": "2023-06-02T18:06:36.367Z"
   },
   {
    "duration": 118,
    "start_time": "2023-06-02T18:06:36.541Z"
   },
   {
    "duration": 3,
    "start_time": "2023-06-02T18:06:37.468Z"
   },
   {
    "duration": 8,
    "start_time": "2023-06-02T18:06:41.151Z"
   },
   {
    "duration": 13,
    "start_time": "2023-06-02T18:06:41.769Z"
   },
   {
    "duration": 912,
    "start_time": "2023-06-02T18:06:50.967Z"
   },
   {
    "duration": 692,
    "start_time": "2023-06-02T18:06:51.881Z"
   },
   {
    "duration": 20,
    "start_time": "2023-06-02T18:06:52.575Z"
   },
   {
    "duration": 20,
    "start_time": "2023-06-02T18:06:52.597Z"
   },
   {
    "duration": 18,
    "start_time": "2023-06-02T18:06:52.619Z"
   },
   {
    "duration": 4,
    "start_time": "2023-06-02T18:06:52.638Z"
   },
   {
    "duration": 167,
    "start_time": "2023-06-02T18:06:52.644Z"
   },
   {
    "duration": 2,
    "start_time": "2023-06-02T18:06:52.813Z"
   },
   {
    "duration": 5,
    "start_time": "2023-06-02T18:06:52.816Z"
   },
   {
    "duration": 141,
    "start_time": "2023-06-02T18:06:52.822Z"
   },
   {
    "duration": 3,
    "start_time": "2023-06-02T18:06:52.965Z"
   },
   {
    "duration": 0,
    "start_time": "2023-06-02T18:06:52.969Z"
   },
   {
    "duration": 6,
    "start_time": "2023-06-02T18:07:10.463Z"
   },
   {
    "duration": 98,
    "start_time": "2023-06-02T18:07:11.152Z"
   },
   {
    "duration": 3,
    "start_time": "2023-06-02T18:07:34.165Z"
   },
   {
    "duration": 82,
    "start_time": "2023-06-02T18:07:51.144Z"
   },
   {
    "duration": 3,
    "start_time": "2023-06-02T18:08:03.754Z"
   },
   {
    "duration": 3,
    "start_time": "2023-06-02T18:08:31.850Z"
   },
   {
    "duration": 2,
    "start_time": "2023-06-02T18:08:47.967Z"
   },
   {
    "duration": 10,
    "start_time": "2023-06-02T18:08:51.152Z"
   },
   {
    "duration": 954,
    "start_time": "2023-06-02T18:08:58.959Z"
   },
   {
    "duration": 682,
    "start_time": "2023-06-02T18:08:59.914Z"
   },
   {
    "duration": 20,
    "start_time": "2023-06-02T18:09:00.598Z"
   },
   {
    "duration": 21,
    "start_time": "2023-06-02T18:09:00.620Z"
   },
   {
    "duration": 34,
    "start_time": "2023-06-02T18:09:00.643Z"
   },
   {
    "duration": 11,
    "start_time": "2023-06-02T18:09:00.679Z"
   },
   {
    "duration": 171,
    "start_time": "2023-06-02T18:09:00.691Z"
   },
   {
    "duration": 3,
    "start_time": "2023-06-02T18:09:00.864Z"
   },
   {
    "duration": 38,
    "start_time": "2023-06-02T18:09:00.868Z"
   },
   {
    "duration": 152,
    "start_time": "2023-06-02T18:09:00.908Z"
   },
   {
    "duration": 3,
    "start_time": "2023-06-02T18:09:01.062Z"
   },
   {
    "duration": 0,
    "start_time": "2023-06-02T18:09:01.067Z"
   },
   {
    "duration": 32,
    "start_time": "2023-06-02T18:09:26.491Z"
   },
   {
    "duration": 13,
    "start_time": "2023-06-02T18:10:49.325Z"
   },
   {
    "duration": 92,
    "start_time": "2023-06-02T18:10:53.839Z"
   },
   {
    "duration": 2,
    "start_time": "2023-06-02T18:11:14.987Z"
   },
   {
    "duration": 2,
    "start_time": "2023-06-02T18:11:24.322Z"
   },
   {
    "duration": 985,
    "start_time": "2023-06-02T18:11:28.108Z"
   },
   {
    "duration": 678,
    "start_time": "2023-06-02T18:11:29.095Z"
   },
   {
    "duration": 17,
    "start_time": "2023-06-02T18:11:29.775Z"
   },
   {
    "duration": 23,
    "start_time": "2023-06-02T18:11:29.793Z"
   },
   {
    "duration": 16,
    "start_time": "2023-06-02T18:11:29.818Z"
   },
   {
    "duration": 4,
    "start_time": "2023-06-02T18:11:29.836Z"
   },
   {
    "duration": 170,
    "start_time": "2023-06-02T18:11:29.842Z"
   },
   {
    "duration": 13,
    "start_time": "2023-06-02T18:11:30.013Z"
   },
   {
    "duration": 15,
    "start_time": "2023-06-02T18:11:30.028Z"
   },
   {
    "duration": 111,
    "start_time": "2023-06-02T18:11:30.045Z"
   },
   {
    "duration": 0,
    "start_time": "2023-06-02T18:11:30.157Z"
   },
   {
    "duration": 0,
    "start_time": "2023-06-02T18:11:30.159Z"
   },
   {
    "duration": 0,
    "start_time": "2023-06-02T18:11:30.160Z"
   },
   {
    "duration": 10,
    "start_time": "2023-06-02T18:11:59.452Z"
   },
   {
    "duration": 1107,
    "start_time": "2023-06-02T18:12:39.072Z"
   },
   {
    "duration": 807,
    "start_time": "2023-06-02T18:12:40.181Z"
   },
   {
    "duration": 20,
    "start_time": "2023-06-02T18:12:40.989Z"
   },
   {
    "duration": 12,
    "start_time": "2023-06-02T18:12:41.011Z"
   },
   {
    "duration": 16,
    "start_time": "2023-06-02T18:12:41.025Z"
   },
   {
    "duration": 5,
    "start_time": "2023-06-02T18:12:41.043Z"
   },
   {
    "duration": 195,
    "start_time": "2023-06-02T18:12:41.050Z"
   },
   {
    "duration": 18,
    "start_time": "2023-06-02T18:12:41.248Z"
   },
   {
    "duration": 82,
    "start_time": "2023-06-02T18:12:41.268Z"
   },
   {
    "duration": 213,
    "start_time": "2023-06-02T18:12:41.352Z"
   },
   {
    "duration": 52,
    "start_time": "2023-06-02T18:12:41.567Z"
   },
   {
    "duration": 5,
    "start_time": "2023-06-02T18:12:41.621Z"
   },
   {
    "duration": 0,
    "start_time": "2023-06-02T18:12:41.628Z"
   },
   {
    "duration": 81,
    "start_time": "2023-06-02T18:14:49.254Z"
   },
   {
    "duration": 3,
    "start_time": "2023-06-02T18:14:58.621Z"
   },
   {
    "duration": 6,
    "start_time": "2023-06-02T18:16:51.486Z"
   },
   {
    "duration": 5,
    "start_time": "2023-06-02T18:18:03.721Z"
   },
   {
    "duration": 5,
    "start_time": "2023-06-02T18:18:12.605Z"
   },
   {
    "duration": 8,
    "start_time": "2023-06-02T18:18:35.857Z"
   },
   {
    "duration": 7,
    "start_time": "2023-06-02T18:18:45.547Z"
   },
   {
    "duration": 3,
    "start_time": "2023-06-02T18:18:59.470Z"
   },
   {
    "duration": 5,
    "start_time": "2023-06-02T18:18:59.905Z"
   },
   {
    "duration": 5,
    "start_time": "2023-06-02T18:19:00.656Z"
   },
   {
    "duration": 4,
    "start_time": "2023-06-02T18:19:08.672Z"
   },
   {
    "duration": 3,
    "start_time": "2023-06-02T18:19:17.244Z"
   },
   {
    "duration": 3,
    "start_time": "2023-06-02T18:19:17.738Z"
   },
   {
    "duration": 4,
    "start_time": "2023-06-02T18:19:28.787Z"
   },
   {
    "duration": 4,
    "start_time": "2023-06-02T18:19:29.682Z"
   },
   {
    "duration": 5,
    "start_time": "2023-06-02T18:19:39.504Z"
   },
   {
    "duration": 4,
    "start_time": "2023-06-02T18:19:40.138Z"
   },
   {
    "duration": 506,
    "start_time": "2023-06-02T18:19:46.020Z"
   },
   {
    "duration": 3,
    "start_time": "2023-06-02T18:19:59.622Z"
   },
   {
    "duration": 5,
    "start_time": "2023-06-02T18:20:00.075Z"
   },
   {
    "duration": 126,
    "start_time": "2023-06-02T18:20:00.906Z"
   },
   {
    "duration": 5,
    "start_time": "2023-06-02T18:20:07.054Z"
   },
   {
    "duration": 5,
    "start_time": "2023-06-02T18:20:19.672Z"
   },
   {
    "duration": 6,
    "start_time": "2023-06-02T18:20:20.281Z"
   },
   {
    "duration": 121,
    "start_time": "2023-06-02T18:20:27.046Z"
   },
   {
    "duration": 6,
    "start_time": "2023-06-02T18:20:39.221Z"
   },
   {
    "duration": 132,
    "start_time": "2023-06-02T18:20:39.655Z"
   },
   {
    "duration": 158,
    "start_time": "2023-06-02T18:20:48.350Z"
   },
   {
    "duration": 371,
    "start_time": "2023-06-02T18:20:58.812Z"
   },
   {
    "duration": 15,
    "start_time": "2023-06-02T18:22:27.873Z"
   },
   {
    "duration": 17,
    "start_time": "2023-06-02T18:22:36.923Z"
   },
   {
    "duration": 4,
    "start_time": "2023-06-02T18:23:27.355Z"
   },
   {
    "duration": 3,
    "start_time": "2023-06-02T18:23:47.388Z"
   },
   {
    "duration": 2,
    "start_time": "2023-06-02T18:23:58.323Z"
   },
   {
    "duration": 6,
    "start_time": "2023-06-02T18:23:58.694Z"
   },
   {
    "duration": 7,
    "start_time": "2023-06-02T18:24:53.293Z"
   },
   {
    "duration": 8,
    "start_time": "2023-06-02T18:25:31.849Z"
   },
   {
    "duration": 6,
    "start_time": "2023-06-02T18:25:37.806Z"
   },
   {
    "duration": 7,
    "start_time": "2023-06-02T18:25:49.814Z"
   },
   {
    "duration": 6,
    "start_time": "2023-06-02T18:25:54.241Z"
   },
   {
    "duration": 13,
    "start_time": "2023-06-02T18:31:39.044Z"
   },
   {
    "duration": 4,
    "start_time": "2023-06-02T18:31:43.184Z"
   },
   {
    "duration": 4,
    "start_time": "2023-06-02T18:32:30.826Z"
   },
   {
    "duration": 4,
    "start_time": "2023-06-02T18:32:37.552Z"
   },
   {
    "duration": 4,
    "start_time": "2023-06-02T18:32:45.291Z"
   },
   {
    "duration": 5,
    "start_time": "2023-06-02T18:33:00.592Z"
   },
   {
    "duration": 3,
    "start_time": "2023-06-02T18:33:24.993Z"
   },
   {
    "duration": 4,
    "start_time": "2023-06-02T18:33:44.146Z"
   },
   {
    "duration": 134,
    "start_time": "2023-06-02T18:33:44.878Z"
   },
   {
    "duration": 981,
    "start_time": "2023-06-02T18:34:21.867Z"
   },
   {
    "duration": 661,
    "start_time": "2023-06-02T18:34:24.646Z"
   },
   {
    "duration": 3,
    "start_time": "2023-06-02T18:34:27.127Z"
   },
   {
    "duration": 3,
    "start_time": "2023-06-02T18:34:28.296Z"
   },
   {
    "duration": 137,
    "start_time": "2023-06-02T18:34:30.529Z"
   },
   {
    "duration": 3,
    "start_time": "2023-06-02T18:34:39.115Z"
   },
   {
    "duration": 8,
    "start_time": "2023-06-02T18:34:41.610Z"
   },
   {
    "duration": 89,
    "start_time": "2023-06-02T18:36:00.524Z"
   },
   {
    "duration": 9,
    "start_time": "2023-06-02T18:36:06.090Z"
   },
   {
    "duration": 111,
    "start_time": "2023-06-02T18:36:20.796Z"
   },
   {
    "duration": 109,
    "start_time": "2023-06-02T18:37:14.726Z"
   },
   {
    "duration": 132,
    "start_time": "2023-06-02T18:37:35.076Z"
   },
   {
    "duration": 216,
    "start_time": "2023-06-02T18:37:50.061Z"
   },
   {
    "duration": 198,
    "start_time": "2023-06-02T18:38:31.342Z"
   },
   {
    "duration": 12,
    "start_time": "2023-06-02T18:38:33.348Z"
   },
   {
    "duration": 149,
    "start_time": "2023-06-02T18:38:37.577Z"
   },
   {
    "duration": 134,
    "start_time": "2023-06-02T19:50:40.459Z"
   },
   {
    "duration": 8,
    "start_time": "2023-06-02T19:52:08.750Z"
   },
   {
    "duration": 6,
    "start_time": "2023-06-02T19:52:15.491Z"
   },
   {
    "duration": 9,
    "start_time": "2023-06-02T19:54:31.507Z"
   },
   {
    "duration": 13,
    "start_time": "2023-06-02T19:54:53.954Z"
   },
   {
    "duration": 8,
    "start_time": "2023-06-02T19:55:30.482Z"
   },
   {
    "duration": 213,
    "start_time": "2023-06-02T19:57:04.898Z"
   },
   {
    "duration": 6,
    "start_time": "2023-06-02T19:57:11.592Z"
   },
   {
    "duration": 88,
    "start_time": "2023-06-02T19:57:56.651Z"
   },
   {
    "duration": 82,
    "start_time": "2023-06-02T19:58:13.496Z"
   },
   {
    "duration": 78,
    "start_time": "2023-06-02T19:58:25.115Z"
   },
   {
    "duration": 100,
    "start_time": "2023-06-02T19:58:33.636Z"
   },
   {
    "duration": 85,
    "start_time": "2023-06-02T19:58:54.349Z"
   },
   {
    "duration": 105,
    "start_time": "2023-06-02T19:59:06.047Z"
   },
   {
    "duration": 87,
    "start_time": "2023-06-02T19:59:12.972Z"
   },
   {
    "duration": 88,
    "start_time": "2023-06-02T19:59:18.604Z"
   },
   {
    "duration": 3,
    "start_time": "2023-06-02T20:00:21.490Z"
   },
   {
    "duration": 142,
    "start_time": "2023-06-02T20:00:55.281Z"
   },
   {
    "duration": 242,
    "start_time": "2023-06-02T20:01:05.918Z"
   },
   {
    "duration": 3,
    "start_time": "2023-06-02T20:01:25.571Z"
   },
   {
    "duration": 239,
    "start_time": "2023-06-02T20:01:26.136Z"
   },
   {
    "duration": 3,
    "start_time": "2023-06-02T20:01:46.182Z"
   },
   {
    "duration": 248,
    "start_time": "2023-06-02T20:01:48.514Z"
   },
   {
    "duration": 52,
    "start_time": "2023-06-02T20:02:24.618Z"
   },
   {
    "duration": 3,
    "start_time": "2023-06-02T20:02:30.100Z"
   },
   {
    "duration": 279,
    "start_time": "2023-06-02T20:02:30.549Z"
   },
   {
    "duration": 3,
    "start_time": "2023-06-02T20:03:11.706Z"
   },
   {
    "duration": 368,
    "start_time": "2023-06-02T20:03:12.191Z"
   },
   {
    "duration": 3,
    "start_time": "2023-06-02T20:04:04.566Z"
   },
   {
    "duration": 341,
    "start_time": "2023-06-02T20:04:05.114Z"
   },
   {
    "duration": 4,
    "start_time": "2023-06-02T20:04:20.968Z"
   },
   {
    "duration": 381,
    "start_time": "2023-06-02T20:04:21.216Z"
   },
   {
    "duration": 13,
    "start_time": "2023-06-02T20:04:36.015Z"
   },
   {
    "duration": 14,
    "start_time": "2023-06-02T20:04:52.235Z"
   },
   {
    "duration": 16,
    "start_time": "2023-06-02T20:05:30.116Z"
   },
   {
    "duration": 13,
    "start_time": "2023-06-02T20:05:40.137Z"
   },
   {
    "duration": 20,
    "start_time": "2023-06-02T20:06:20.134Z"
   },
   {
    "duration": 8,
    "start_time": "2023-06-02T20:06:30.118Z"
   },
   {
    "duration": 15,
    "start_time": "2023-06-02T20:06:30.767Z"
   },
   {
    "duration": 15,
    "start_time": "2023-06-02T20:07:09.436Z"
   },
   {
    "duration": 49,
    "start_time": "2023-06-02T20:07:09.902Z"
   },
   {
    "duration": 3,
    "start_time": "2023-06-02T20:07:41.610Z"
   },
   {
    "duration": 344,
    "start_time": "2023-06-02T20:07:42.350Z"
   },
   {
    "duration": 3,
    "start_time": "2023-06-02T20:08:56.951Z"
   },
   {
    "duration": 272,
    "start_time": "2023-06-02T20:08:59.012Z"
   },
   {
    "duration": 9,
    "start_time": "2023-06-02T20:09:17.736Z"
   },
   {
    "duration": 3,
    "start_time": "2023-06-02T20:09:18.069Z"
   },
   {
    "duration": 275,
    "start_time": "2023-06-02T20:09:18.469Z"
   },
   {
    "duration": 279,
    "start_time": "2023-06-02T20:11:57.249Z"
   },
   {
    "duration": 368,
    "start_time": "2023-06-02T20:12:28.899Z"
   },
   {
    "duration": 244,
    "start_time": "2023-06-02T20:13:03.402Z"
   },
   {
    "duration": 326,
    "start_time": "2023-06-02T20:14:29.053Z"
   },
   {
    "duration": 311,
    "start_time": "2023-06-02T20:14:40.184Z"
   },
   {
    "duration": 8,
    "start_time": "2023-06-02T20:15:54.052Z"
   },
   {
    "duration": 3,
    "start_time": "2023-06-02T20:15:54.553Z"
   },
   {
    "duration": 269,
    "start_time": "2023-06-02T20:15:56.151Z"
   },
   {
    "duration": 273,
    "start_time": "2023-06-02T20:15:59.149Z"
   },
   {
    "duration": 367,
    "start_time": "2023-06-02T20:16:09.744Z"
   },
   {
    "duration": 5,
    "start_time": "2023-06-02T20:16:27.915Z"
   },
   {
    "duration": 46,
    "start_time": "2023-06-02T20:16:43.350Z"
   },
   {
    "duration": 5,
    "start_time": "2023-06-02T20:17:34.266Z"
   },
   {
    "duration": 3,
    "start_time": "2023-06-02T20:17:48.682Z"
   },
   {
    "duration": 5,
    "start_time": "2023-06-02T20:17:57.092Z"
   },
   {
    "duration": 9,
    "start_time": "2023-06-02T20:18:04.770Z"
   },
   {
    "duration": 6,
    "start_time": "2023-06-02T20:18:06.700Z"
   },
   {
    "duration": 9,
    "start_time": "2023-06-02T20:18:15.366Z"
   },
   {
    "duration": 4,
    "start_time": "2023-06-02T20:18:17.719Z"
   },
   {
    "duration": 3,
    "start_time": "2023-06-02T20:18:20.520Z"
   },
   {
    "duration": 276,
    "start_time": "2023-06-02T20:18:21.185Z"
   },
   {
    "duration": 267,
    "start_time": "2023-06-02T20:18:25.341Z"
   },
   {
    "duration": 66,
    "start_time": "2023-06-02T20:18:37.648Z"
   },
   {
    "duration": 44,
    "start_time": "2023-06-02T20:18:58.561Z"
   },
   {
    "duration": 270,
    "start_time": "2023-06-02T20:19:06.866Z"
   },
   {
    "duration": 279,
    "start_time": "2023-06-02T20:20:30.108Z"
   },
   {
    "duration": 281,
    "start_time": "2023-06-02T20:21:30.601Z"
   },
   {
    "duration": 308,
    "start_time": "2023-06-02T20:21:42.253Z"
   },
   {
    "duration": 276,
    "start_time": "2023-06-02T20:22:08.556Z"
   },
   {
    "duration": 309,
    "start_time": "2023-06-02T20:22:34.618Z"
   },
   {
    "duration": 273,
    "start_time": "2023-06-02T20:22:55.349Z"
   },
   {
    "duration": 220,
    "start_time": "2023-06-02T20:23:28.686Z"
   },
   {
    "duration": 260,
    "start_time": "2023-06-02T20:23:34.276Z"
   },
   {
    "duration": 222,
    "start_time": "2023-06-02T20:23:58.920Z"
   },
   {
    "duration": 269,
    "start_time": "2023-06-02T20:26:17.671Z"
   },
   {
    "duration": 270,
    "start_time": "2023-06-02T20:26:28.757Z"
   },
   {
    "duration": 286,
    "start_time": "2023-06-02T20:26:32.954Z"
   },
   {
    "duration": 528,
    "start_time": "2023-06-02T20:26:43.955Z"
   },
   {
    "duration": 279,
    "start_time": "2023-06-02T20:26:51.861Z"
   },
   {
    "duration": 289,
    "start_time": "2023-06-02T20:27:11.784Z"
   },
   {
    "duration": 225,
    "start_time": "2023-06-02T20:27:18.402Z"
   },
   {
    "duration": 215,
    "start_time": "2023-06-02T20:27:29.947Z"
   },
   {
    "duration": 252,
    "start_time": "2023-06-02T20:27:36.503Z"
   },
   {
    "duration": 224,
    "start_time": "2023-06-02T20:27:42.978Z"
   },
   {
    "duration": 254,
    "start_time": "2023-06-02T20:28:05.482Z"
   },
   {
    "duration": 55,
    "start_time": "2023-06-02T20:29:01.188Z"
   },
   {
    "duration": 224,
    "start_time": "2023-06-02T20:29:10.252Z"
   },
   {
    "duration": 233,
    "start_time": "2023-06-02T20:29:31.022Z"
   },
   {
    "duration": 238,
    "start_time": "2023-06-02T20:29:51.453Z"
   },
   {
    "duration": 236,
    "start_time": "2023-06-02T20:30:07.520Z"
   },
   {
    "duration": 214,
    "start_time": "2023-06-02T20:30:18.257Z"
   },
   {
    "duration": 217,
    "start_time": "2023-06-02T20:30:27.888Z"
   },
   {
    "duration": 266,
    "start_time": "2023-06-02T20:30:33.405Z"
   },
   {
    "duration": 527,
    "start_time": "2023-06-02T20:30:39.053Z"
   },
   {
    "duration": 263,
    "start_time": "2023-06-02T20:31:02.203Z"
   },
   {
    "duration": 249,
    "start_time": "2023-06-02T20:31:15.460Z"
   },
   {
    "duration": 262,
    "start_time": "2023-06-02T20:31:32.644Z"
   },
   {
    "duration": 252,
    "start_time": "2023-06-02T20:32:21.381Z"
   },
   {
    "duration": 260,
    "start_time": "2023-06-02T20:33:14.906Z"
   },
   {
    "duration": 245,
    "start_time": "2023-06-02T20:34:11.655Z"
   },
   {
    "duration": 250,
    "start_time": "2023-06-02T20:34:18.576Z"
   },
   {
    "duration": 256,
    "start_time": "2023-06-02T20:34:56.394Z"
   },
   {
    "duration": 231,
    "start_time": "2023-06-02T20:36:07.260Z"
   },
   {
    "duration": 7,
    "start_time": "2023-06-02T20:36:44.292Z"
   },
   {
    "duration": 4,
    "start_time": "2023-06-02T20:36:44.677Z"
   },
   {
    "duration": 236,
    "start_time": "2023-06-02T20:36:45.672Z"
   },
   {
    "duration": 268,
    "start_time": "2023-06-02T20:38:42.842Z"
   },
   {
    "duration": 242,
    "start_time": "2023-06-02T20:38:50.248Z"
   },
   {
    "duration": 239,
    "start_time": "2023-06-02T20:38:59.048Z"
   },
   {
    "duration": 251,
    "start_time": "2023-06-02T20:39:38.360Z"
   },
   {
    "duration": 2,
    "start_time": "2023-06-02T20:40:48.951Z"
   },
   {
    "duration": 8,
    "start_time": "2023-06-02T20:40:50.056Z"
   },
   {
    "duration": 260,
    "start_time": "2023-06-02T20:40:50.612Z"
   },
   {
    "duration": 9,
    "start_time": "2023-06-02T20:41:54.193Z"
   },
   {
    "duration": 218,
    "start_time": "2023-06-02T20:41:54.857Z"
   },
   {
    "duration": 8,
    "start_time": "2023-06-02T20:42:15.876Z"
   },
   {
    "duration": 609,
    "start_time": "2023-06-02T20:42:38.559Z"
   },
   {
    "duration": 273,
    "start_time": "2023-06-02T20:43:06.256Z"
   },
   {
    "duration": 276,
    "start_time": "2023-06-02T20:43:15.459Z"
   },
   {
    "duration": 3,
    "start_time": "2023-06-03T05:41:24.979Z"
   },
   {
    "duration": 107,
    "start_time": "2023-06-03T05:41:47.026Z"
   },
   {
    "duration": 129,
    "start_time": "2023-06-03T05:42:02.107Z"
   },
   {
    "duration": 164,
    "start_time": "2023-06-03T05:42:11.398Z"
   },
   {
    "duration": 214,
    "start_time": "2023-06-03T05:42:18.177Z"
   },
   {
    "duration": 318,
    "start_time": "2023-06-03T05:42:43.576Z"
   },
   {
    "duration": 305,
    "start_time": "2023-06-03T05:44:09.269Z"
   },
   {
    "duration": 340,
    "start_time": "2023-06-03T05:44:35.079Z"
   },
   {
    "duration": 301,
    "start_time": "2023-06-03T05:44:53.167Z"
   },
   {
    "duration": 205,
    "start_time": "2023-06-03T05:45:15.783Z"
   },
   {
    "duration": 949,
    "start_time": "2023-06-03T05:45:27.652Z"
   },
   {
    "duration": 175,
    "start_time": "2023-06-03T05:45:40.083Z"
   },
   {
    "duration": 9,
    "start_time": "2023-06-03T05:46:20.547Z"
   },
   {
    "duration": 105,
    "start_time": "2023-06-03T05:47:31.643Z"
   },
   {
    "duration": 96,
    "start_time": "2023-06-03T05:47:56.885Z"
   },
   {
    "duration": 101,
    "start_time": "2023-06-03T05:48:08.443Z"
   },
   {
    "duration": 101,
    "start_time": "2023-06-03T05:48:15.682Z"
   },
   {
    "duration": 103,
    "start_time": "2023-06-03T05:48:26.861Z"
   },
   {
    "duration": 306,
    "start_time": "2023-06-03T05:51:51.180Z"
   },
   {
    "duration": 12,
    "start_time": "2023-06-03T05:52:22.972Z"
   },
   {
    "duration": 11,
    "start_time": "2023-06-03T05:52:31.480Z"
   },
   {
    "duration": 11,
    "start_time": "2023-06-03T05:53:49.880Z"
   },
   {
    "duration": 314,
    "start_time": "2023-06-03T05:54:00.484Z"
   },
   {
    "duration": 528,
    "start_time": "2023-06-03T05:54:30.905Z"
   },
   {
    "duration": 3,
    "start_time": "2023-06-03T05:55:09.629Z"
   },
   {
    "duration": 3,
    "start_time": "2023-06-03T05:55:37.246Z"
   },
   {
    "duration": 6,
    "start_time": "2023-06-03T05:55:43.222Z"
   },
   {
    "duration": 4,
    "start_time": "2023-06-03T05:56:33.284Z"
   },
   {
    "duration": 13,
    "start_time": "2023-06-03T05:57:39.184Z"
   },
   {
    "duration": 12,
    "start_time": "2023-06-03T05:57:49.918Z"
   },
   {
    "duration": 13,
    "start_time": "2023-06-03T05:57:59.107Z"
   },
   {
    "duration": 13,
    "start_time": "2023-06-03T05:58:06.688Z"
   },
   {
    "duration": 19,
    "start_time": "2023-06-03T05:58:29.245Z"
   },
   {
    "duration": 17,
    "start_time": "2023-06-03T05:58:34.646Z"
   },
   {
    "duration": 9,
    "start_time": "2023-06-03T05:59:11.380Z"
   },
   {
    "duration": 21,
    "start_time": "2023-06-03T05:59:15.988Z"
   },
   {
    "duration": 32,
    "start_time": "2023-06-03T06:00:09.847Z"
   },
   {
    "duration": 34,
    "start_time": "2023-06-03T06:01:03.217Z"
   },
   {
    "duration": 31,
    "start_time": "2023-06-03T06:01:08.680Z"
   },
   {
    "duration": 135,
    "start_time": "2023-06-03T06:01:54.848Z"
   },
   {
    "duration": 129,
    "start_time": "2023-06-03T06:02:10.442Z"
   },
   {
    "duration": 11,
    "start_time": "2023-06-03T06:02:45.476Z"
   },
   {
    "duration": 924,
    "start_time": "2023-06-03T06:04:46.072Z"
   },
   {
    "duration": 22,
    "start_time": "2023-06-03T06:05:31.888Z"
   },
   {
    "duration": 61,
    "start_time": "2023-06-03T06:06:05.792Z"
   },
   {
    "duration": 302,
    "start_time": "2023-06-03T06:06:21.549Z"
   },
   {
    "duration": 198,
    "start_time": "2023-06-03T06:06:59.754Z"
   },
   {
    "duration": 113,
    "start_time": "2023-06-03T06:07:21.036Z"
   },
   {
    "duration": 103,
    "start_time": "2023-06-03T06:07:52.904Z"
   },
   {
    "duration": 113,
    "start_time": "2023-06-03T06:07:53.326Z"
   },
   {
    "duration": 105,
    "start_time": "2023-06-03T06:08:54.624Z"
   },
   {
    "duration": 122,
    "start_time": "2023-06-03T06:09:24.188Z"
   },
   {
    "duration": 112,
    "start_time": "2023-06-03T06:09:35.696Z"
   },
   {
    "duration": 105,
    "start_time": "2023-06-03T06:09:55.718Z"
   },
   {
    "duration": 107,
    "start_time": "2023-06-03T06:10:20.692Z"
   },
   {
    "duration": 108,
    "start_time": "2023-06-03T06:10:38.179Z"
   },
   {
    "duration": 108,
    "start_time": "2023-06-03T06:10:56.049Z"
   },
   {
    "duration": 108,
    "start_time": "2023-06-03T06:12:33.287Z"
   },
   {
    "duration": 113,
    "start_time": "2023-06-03T06:13:12.010Z"
   },
   {
    "duration": 110,
    "start_time": "2023-06-03T06:13:20.380Z"
   },
   {
    "duration": 114,
    "start_time": "2023-06-03T06:14:27.345Z"
   },
   {
    "duration": 112,
    "start_time": "2023-06-03T06:14:38.887Z"
   },
   {
    "duration": 111,
    "start_time": "2023-06-03T06:14:51.444Z"
   },
   {
    "duration": 118,
    "start_time": "2023-06-03T06:15:10.896Z"
   },
   {
    "duration": 117,
    "start_time": "2023-06-03T06:15:17.705Z"
   },
   {
    "duration": 100,
    "start_time": "2023-06-03T06:15:25.592Z"
   },
   {
    "duration": 121,
    "start_time": "2023-06-03T06:15:30.140Z"
   },
   {
    "duration": 184,
    "start_time": "2023-06-03T06:16:17.919Z"
   },
   {
    "duration": 115,
    "start_time": "2023-06-03T06:16:19.020Z"
   },
   {
    "duration": 529,
    "start_time": "2023-06-03T06:17:15.736Z"
   },
   {
    "duration": 16,
    "start_time": "2023-06-03T06:18:04.787Z"
   },
   {
    "duration": 171,
    "start_time": "2023-06-03T06:18:45.283Z"
   },
   {
    "duration": 121,
    "start_time": "2023-06-03T06:18:51.188Z"
   },
   {
    "duration": 181,
    "start_time": "2023-06-03T06:19:00.904Z"
   },
   {
    "duration": 117,
    "start_time": "2023-06-03T06:19:03.392Z"
   },
   {
    "duration": 217,
    "start_time": "2023-06-03T06:19:12.804Z"
   },
   {
    "duration": 111,
    "start_time": "2023-06-03T06:19:20.301Z"
   },
   {
    "duration": 116,
    "start_time": "2023-06-03T06:19:53.398Z"
   },
   {
    "duration": 109,
    "start_time": "2023-06-03T06:20:05.744Z"
   },
   {
    "duration": 121,
    "start_time": "2023-06-03T06:20:42.440Z"
   },
   {
    "duration": 112,
    "start_time": "2023-06-03T06:21:08.502Z"
   },
   {
    "duration": 109,
    "start_time": "2023-06-03T06:21:12.527Z"
   },
   {
    "duration": 105,
    "start_time": "2023-06-03T06:21:17.541Z"
   },
   {
    "duration": 104,
    "start_time": "2023-06-03T06:21:23.292Z"
   },
   {
    "duration": 11,
    "start_time": "2023-06-03T06:24:02.184Z"
   },
   {
    "duration": 16,
    "start_time": "2023-06-03T06:24:06.983Z"
   },
   {
    "duration": 245,
    "start_time": "2023-06-03T06:24:45.083Z"
   },
   {
    "duration": 12,
    "start_time": "2023-06-03T06:25:05.008Z"
   },
   {
    "duration": 11,
    "start_time": "2023-06-03T06:25:11.304Z"
   },
   {
    "duration": 495,
    "start_time": "2023-06-03T06:26:30.655Z"
   },
   {
    "duration": 464,
    "start_time": "2023-06-03T06:26:50.207Z"
   },
   {
    "duration": 100,
    "start_time": "2023-06-03T06:27:25.487Z"
   },
   {
    "duration": 14,
    "start_time": "2023-06-03T06:27:26.405Z"
   },
   {
    "duration": 97,
    "start_time": "2023-06-03T06:27:36.256Z"
   },
   {
    "duration": 13,
    "start_time": "2023-06-03T06:27:44.691Z"
   },
   {
    "duration": 104,
    "start_time": "2023-06-03T06:27:57.723Z"
   },
   {
    "duration": 800,
    "start_time": "2023-06-03T06:28:20.121Z"
   },
   {
    "duration": 108,
    "start_time": "2023-06-03T06:28:29.198Z"
   },
   {
    "duration": 98,
    "start_time": "2023-06-03T06:28:38.884Z"
   },
   {
    "duration": 102,
    "start_time": "2023-06-03T06:28:45.048Z"
   },
   {
    "duration": 89,
    "start_time": "2023-06-03T06:28:45.624Z"
   },
   {
    "duration": 7,
    "start_time": "2023-06-03T06:28:57.413Z"
   },
   {
    "duration": 104,
    "start_time": "2023-06-03T06:29:08.623Z"
   },
   {
    "duration": 10,
    "start_time": "2023-06-03T06:29:09.301Z"
   },
   {
    "duration": 54,
    "start_time": "2023-06-03T06:29:59.216Z"
   },
   {
    "duration": 54,
    "start_time": "2023-06-03T06:30:21.411Z"
   },
   {
    "duration": 46,
    "start_time": "2023-06-03T06:30:50.103Z"
   },
   {
    "duration": 9,
    "start_time": "2023-06-03T06:30:57.223Z"
   },
   {
    "duration": 4,
    "start_time": "2023-06-03T06:31:01.191Z"
   },
   {
    "duration": 45,
    "start_time": "2023-06-03T06:31:25.183Z"
   },
   {
    "duration": 13,
    "start_time": "2023-06-03T06:31:30.523Z"
   },
   {
    "duration": 7,
    "start_time": "2023-06-03T06:31:44.942Z"
   },
   {
    "duration": 44,
    "start_time": "2023-06-03T06:32:01.387Z"
   },
   {
    "duration": 10,
    "start_time": "2023-06-03T06:32:01.903Z"
   },
   {
    "duration": 10,
    "start_time": "2023-06-03T06:32:18.256Z"
   },
   {
    "duration": 48,
    "start_time": "2023-06-03T06:33:07.695Z"
   },
   {
    "duration": 13,
    "start_time": "2023-06-03T06:33:14.799Z"
   },
   {
    "duration": 49,
    "start_time": "2023-06-03T06:33:27.225Z"
   },
   {
    "duration": 8,
    "start_time": "2023-06-03T06:33:27.851Z"
   },
   {
    "duration": 101,
    "start_time": "2023-06-03T06:33:41.943Z"
   },
   {
    "duration": 103,
    "start_time": "2023-06-03T06:33:54.124Z"
   },
   {
    "duration": 49,
    "start_time": "2023-06-03T06:34:20.395Z"
   },
   {
    "duration": 100,
    "start_time": "2023-06-03T06:34:21.139Z"
   },
   {
    "duration": 56,
    "start_time": "2023-06-03T06:36:25.742Z"
   },
   {
    "duration": 54,
    "start_time": "2023-06-03T06:36:35.225Z"
   },
   {
    "duration": 99,
    "start_time": "2023-06-03T06:36:37.739Z"
   },
   {
    "duration": 49,
    "start_time": "2023-06-03T06:37:08.125Z"
   },
   {
    "duration": 102,
    "start_time": "2023-06-03T06:37:08.887Z"
   },
   {
    "duration": 51,
    "start_time": "2023-06-03T06:37:18.807Z"
   },
   {
    "duration": 557,
    "start_time": "2023-06-03T06:37:19.372Z"
   },
   {
    "duration": 56,
    "start_time": "2023-06-03T06:38:06.426Z"
   },
   {
    "duration": 48,
    "start_time": "2023-06-03T06:39:58.739Z"
   },
   {
    "duration": 106,
    "start_time": "2023-06-03T06:40:00.412Z"
   },
   {
    "duration": 50,
    "start_time": "2023-06-03T06:40:26.726Z"
   },
   {
    "duration": 100,
    "start_time": "2023-06-03T06:40:27.543Z"
   },
   {
    "duration": 107,
    "start_time": "2023-06-03T06:41:28.682Z"
   },
   {
    "duration": 107,
    "start_time": "2023-06-03T06:41:54.936Z"
   },
   {
    "duration": 101,
    "start_time": "2023-06-03T06:42:55.143Z"
   },
   {
    "duration": 95,
    "start_time": "2023-06-03T06:44:16.681Z"
   },
   {
    "duration": 100,
    "start_time": "2023-06-03T06:44:29.290Z"
   },
   {
    "duration": 103,
    "start_time": "2023-06-03T06:50:24.078Z"
   },
   {
    "duration": 6,
    "start_time": "2023-06-03T06:50:32.413Z"
   },
   {
    "duration": 4,
    "start_time": "2023-06-03T06:51:52.888Z"
   },
   {
    "duration": 5,
    "start_time": "2023-06-03T06:52:02.274Z"
   },
   {
    "duration": 5,
    "start_time": "2023-06-03T06:52:18.280Z"
   },
   {
    "duration": 111,
    "start_time": "2023-06-03T06:52:33.297Z"
   },
   {
    "duration": 38,
    "start_time": "2023-06-03T06:52:51.179Z"
   },
   {
    "duration": 104,
    "start_time": "2023-06-03T06:52:51.979Z"
   },
   {
    "duration": 4,
    "start_time": "2023-06-03T06:52:56.317Z"
   },
   {
    "duration": 9,
    "start_time": "2023-06-03T06:54:52.367Z"
   },
   {
    "duration": 4,
    "start_time": "2023-06-03T06:54:56.879Z"
   },
   {
    "duration": 44,
    "start_time": "2023-06-03T06:56:13.292Z"
   },
   {
    "duration": 120,
    "start_time": "2023-06-03T06:56:13.919Z"
   },
   {
    "duration": 4,
    "start_time": "2023-06-03T06:56:18.402Z"
   },
   {
    "duration": 19,
    "start_time": "2023-06-03T06:56:36.125Z"
   },
   {
    "duration": 108,
    "start_time": "2023-06-03T06:56:36.557Z"
   },
   {
    "duration": 5,
    "start_time": "2023-06-03T06:56:50.686Z"
   },
   {
    "duration": 4,
    "start_time": "2023-06-03T06:57:47.752Z"
   },
   {
    "duration": 4,
    "start_time": "2023-06-03T06:58:41.764Z"
   },
   {
    "duration": 62,
    "start_time": "2023-06-03T07:00:03.204Z"
   },
   {
    "duration": 114,
    "start_time": "2023-06-03T07:00:05.174Z"
   },
   {
    "duration": 4,
    "start_time": "2023-06-03T07:00:09.620Z"
   },
   {
    "duration": 54,
    "start_time": "2023-06-03T07:00:50.972Z"
   },
   {
    "duration": 103,
    "start_time": "2023-06-03T07:00:51.378Z"
   },
   {
    "duration": 5,
    "start_time": "2023-06-03T07:00:55.255Z"
   },
   {
    "duration": 2,
    "start_time": "2023-06-03T07:01:13.593Z"
   },
   {
    "duration": 5,
    "start_time": "2023-06-03T07:01:35.320Z"
   },
   {
    "duration": 104,
    "start_time": "2023-06-03T07:03:27.351Z"
   },
   {
    "duration": 18,
    "start_time": "2023-06-03T07:03:28.995Z"
   },
   {
    "duration": 118,
    "start_time": "2023-06-03T07:03:39.417Z"
   },
   {
    "duration": 10,
    "start_time": "2023-06-03T07:03:40.772Z"
   },
   {
    "duration": 104,
    "start_time": "2023-06-03T07:03:57.173Z"
   },
   {
    "duration": 10,
    "start_time": "2023-06-03T07:03:58.162Z"
   },
   {
    "duration": 101,
    "start_time": "2023-06-03T07:04:03.575Z"
   },
   {
    "duration": 10,
    "start_time": "2023-06-03T07:04:04.967Z"
   },
   {
    "duration": 109,
    "start_time": "2023-06-03T07:04:20.803Z"
   },
   {
    "duration": 4,
    "start_time": "2023-06-03T07:04:21.851Z"
   },
   {
    "duration": 12,
    "start_time": "2023-06-03T07:04:54.272Z"
   },
   {
    "duration": 104,
    "start_time": "2023-06-03T07:05:04.022Z"
   },
   {
    "duration": 11,
    "start_time": "2023-06-03T07:05:07.206Z"
   },
   {
    "duration": 11,
    "start_time": "2023-06-03T07:05:14.120Z"
   },
   {
    "duration": 100,
    "start_time": "2023-06-03T07:05:47.460Z"
   },
   {
    "duration": 5,
    "start_time": "2023-06-03T07:05:52.076Z"
   },
   {
    "duration": 81,
    "start_time": "2023-06-03T07:06:06.672Z"
   },
   {
    "duration": 126,
    "start_time": "2023-06-03T07:06:08.490Z"
   },
   {
    "duration": 5,
    "start_time": "2023-06-03T07:06:15.971Z"
   },
   {
    "duration": 143,
    "start_time": "2023-06-03T07:06:34.710Z"
   },
   {
    "duration": 81,
    "start_time": "2023-06-03T07:06:47.305Z"
   },
   {
    "duration": 116,
    "start_time": "2023-06-03T07:06:48.324Z"
   },
   {
    "duration": 77,
    "start_time": "2023-06-03T07:07:20.996Z"
   },
   {
    "duration": 123,
    "start_time": "2023-06-03T07:07:22.707Z"
   },
   {
    "duration": 5,
    "start_time": "2023-06-03T07:07:34.368Z"
   },
   {
    "duration": 78,
    "start_time": "2023-06-03T07:07:55.872Z"
   },
   {
    "duration": 117,
    "start_time": "2023-06-03T07:07:56.872Z"
   },
   {
    "duration": 5,
    "start_time": "2023-06-03T07:08:01.397Z"
   },
   {
    "duration": 93,
    "start_time": "2023-06-03T07:08:18.054Z"
   },
   {
    "duration": 111,
    "start_time": "2023-06-03T07:08:18.708Z"
   },
   {
    "duration": 4,
    "start_time": "2023-06-03T07:08:24.675Z"
   },
   {
    "duration": 111,
    "start_time": "2023-06-03T07:09:12.406Z"
   },
   {
    "duration": 110,
    "start_time": "2023-06-03T07:09:13.211Z"
   },
   {
    "duration": 107,
    "start_time": "2023-06-03T07:09:21.773Z"
   },
   {
    "duration": 176,
    "start_time": "2023-06-03T07:10:03.373Z"
   },
   {
    "duration": 106,
    "start_time": "2023-06-03T07:10:04.059Z"
   },
   {
    "duration": 113,
    "start_time": "2023-06-03T07:10:59.569Z"
   },
   {
    "duration": 106,
    "start_time": "2023-06-03T07:11:00.189Z"
   },
   {
    "duration": 119,
    "start_time": "2023-06-03T07:11:15.295Z"
   },
   {
    "duration": 108,
    "start_time": "2023-06-03T07:12:08.905Z"
   },
   {
    "duration": 106,
    "start_time": "2023-06-03T07:12:42.538Z"
   },
   {
    "duration": 119,
    "start_time": "2023-06-03T07:13:10.102Z"
   },
   {
    "duration": 126,
    "start_time": "2023-06-03T07:14:07.875Z"
   },
   {
    "duration": 109,
    "start_time": "2023-06-03T07:14:08.410Z"
   },
   {
    "duration": 100,
    "start_time": "2023-06-03T07:14:34.606Z"
   },
   {
    "duration": 115,
    "start_time": "2023-06-03T07:14:35.191Z"
   },
   {
    "duration": 106,
    "start_time": "2023-06-03T07:15:57.324Z"
   },
   {
    "duration": 112,
    "start_time": "2023-06-03T07:16:30.008Z"
   },
   {
    "duration": 109,
    "start_time": "2023-06-03T07:17:00.124Z"
   },
   {
    "duration": 67,
    "start_time": "2023-06-03T07:17:14.373Z"
   },
   {
    "duration": 63,
    "start_time": "2023-06-03T07:17:19.877Z"
   },
   {
    "duration": 66,
    "start_time": "2023-06-03T07:17:26.799Z"
   },
   {
    "duration": 113,
    "start_time": "2023-06-03T07:17:33.095Z"
   },
   {
    "duration": 112,
    "start_time": "2023-06-03T07:18:28.094Z"
   },
   {
    "duration": 107,
    "start_time": "2023-06-03T07:18:51.378Z"
   },
   {
    "duration": 5,
    "start_time": "2023-06-03T07:19:13.074Z"
   },
   {
    "duration": 115,
    "start_time": "2023-06-03T07:19:55.311Z"
   },
   {
    "duration": 114,
    "start_time": "2023-06-03T07:20:27.995Z"
   },
   {
    "duration": 115,
    "start_time": "2023-06-03T07:21:05.844Z"
   },
   {
    "duration": 117,
    "start_time": "2023-06-03T07:21:30.593Z"
   },
   {
    "duration": 109,
    "start_time": "2023-06-03T07:21:56.400Z"
   },
   {
    "duration": 108,
    "start_time": "2023-06-03T07:22:08.616Z"
   },
   {
    "duration": 129,
    "start_time": "2023-06-03T07:22:43.143Z"
   },
   {
    "duration": 128,
    "start_time": "2023-06-03T07:23:06.938Z"
   },
   {
    "duration": 118,
    "start_time": "2023-06-03T07:23:18.276Z"
   },
   {
    "duration": 132,
    "start_time": "2023-06-03T07:23:23.383Z"
   },
   {
    "duration": 127,
    "start_time": "2023-06-03T07:23:37.710Z"
   },
   {
    "duration": 122,
    "start_time": "2023-06-03T07:23:45.127Z"
   },
   {
    "duration": 123,
    "start_time": "2023-06-03T07:24:01.451Z"
   },
   {
    "duration": 4,
    "start_time": "2023-06-03T07:24:12.256Z"
   },
   {
    "duration": 136,
    "start_time": "2023-06-03T07:49:28.395Z"
   },
   {
    "duration": 666,
    "start_time": "2023-06-03T07:51:09.397Z"
   },
   {
    "duration": 6,
    "start_time": "2023-06-03T07:51:30.844Z"
   },
   {
    "duration": 5,
    "start_time": "2023-06-03T07:51:37.947Z"
   },
   {
    "duration": 5,
    "start_time": "2023-06-03T07:51:45.659Z"
   },
   {
    "duration": 5,
    "start_time": "2023-06-03T07:51:47.110Z"
   },
   {
    "duration": 13,
    "start_time": "2023-06-03T08:00:15.284Z"
   },
   {
    "duration": 9,
    "start_time": "2023-06-03T08:00:39.247Z"
   },
   {
    "duration": 274,
    "start_time": "2023-06-03T08:02:31.995Z"
   },
   {
    "duration": 278,
    "start_time": "2023-06-03T08:03:24.302Z"
   },
   {
    "duration": 764,
    "start_time": "2023-06-03T08:03:49.102Z"
   },
   {
    "duration": 322,
    "start_time": "2023-06-03T08:04:31.195Z"
   },
   {
    "duration": 326,
    "start_time": "2023-06-03T08:04:46.891Z"
   },
   {
    "duration": 332,
    "start_time": "2023-06-03T08:05:52.453Z"
   },
   {
    "duration": 367,
    "start_time": "2023-06-03T08:06:14.653Z"
   },
   {
    "duration": 329,
    "start_time": "2023-06-03T08:06:27.953Z"
   },
   {
    "duration": 331,
    "start_time": "2023-06-03T08:06:47.254Z"
   },
   {
    "duration": 327,
    "start_time": "2023-06-03T08:07:07.153Z"
   },
   {
    "duration": 363,
    "start_time": "2023-06-03T08:08:19.360Z"
   },
   {
    "duration": 352,
    "start_time": "2023-06-03T08:09:20.316Z"
   },
   {
    "duration": 353,
    "start_time": "2023-06-03T08:09:32.298Z"
   },
   {
    "duration": 344,
    "start_time": "2023-06-03T08:10:33.155Z"
   },
   {
    "duration": 337,
    "start_time": "2023-06-03T08:10:52.715Z"
   },
   {
    "duration": 329,
    "start_time": "2023-06-03T08:11:04.665Z"
   },
   {
    "duration": 364,
    "start_time": "2023-06-03T08:11:14.082Z"
   },
   {
    "duration": 350,
    "start_time": "2023-06-03T08:11:23.066Z"
   },
   {
    "duration": 349,
    "start_time": "2023-06-03T08:11:44.180Z"
   },
   {
    "duration": 355,
    "start_time": "2023-06-03T08:12:41.266Z"
   },
   {
    "duration": 339,
    "start_time": "2023-06-03T08:12:49.085Z"
   },
   {
    "duration": 510,
    "start_time": "2023-06-03T08:14:01.618Z"
   },
   {
    "duration": 1078,
    "start_time": "2023-06-03T08:14:18.785Z"
   },
   {
    "duration": 496,
    "start_time": "2023-06-03T08:15:20.942Z"
   },
   {
    "duration": 510,
    "start_time": "2023-06-03T08:16:01.321Z"
   },
   {
    "duration": 506,
    "start_time": "2023-06-03T08:16:19.640Z"
   },
   {
    "duration": 553,
    "start_time": "2023-06-03T08:20:41.178Z"
   },
   {
    "duration": 507,
    "start_time": "2023-06-03T08:21:02.392Z"
   },
   {
    "duration": 509,
    "start_time": "2023-06-03T08:21:17.703Z"
   },
   {
    "duration": 1129,
    "start_time": "2023-06-03T08:21:49.969Z"
   },
   {
    "duration": 1881,
    "start_time": "2023-06-03T08:23:51.903Z"
   },
   {
    "duration": 1161,
    "start_time": "2023-06-03T08:24:03.355Z"
   },
   {
    "duration": 1185,
    "start_time": "2023-06-03T08:24:45.201Z"
   },
   {
    "duration": 1068,
    "start_time": "2023-06-03T08:24:56.421Z"
   },
   {
    "duration": 2122,
    "start_time": "2023-06-03T08:25:06.840Z"
   },
   {
    "duration": 1148,
    "start_time": "2023-06-03T08:25:13.775Z"
   },
   {
    "duration": 1113,
    "start_time": "2023-06-03T08:26:01.597Z"
   },
   {
    "duration": 1111,
    "start_time": "2023-06-03T08:26:11.359Z"
   },
   {
    "duration": 1117,
    "start_time": "2023-06-03T08:26:18.043Z"
   },
   {
    "duration": 2184,
    "start_time": "2023-06-03T08:27:23.823Z"
   },
   {
    "duration": 1116,
    "start_time": "2023-06-03T08:27:32.304Z"
   },
   {
    "duration": 1243,
    "start_time": "2023-06-03T08:27:40.254Z"
   },
   {
    "duration": 1097,
    "start_time": "2023-06-03T08:27:49.325Z"
   },
   {
    "duration": 2109,
    "start_time": "2023-06-03T08:28:01.988Z"
   },
   {
    "duration": 1117,
    "start_time": "2023-06-03T08:28:13.482Z"
   },
   {
    "duration": 1064,
    "start_time": "2023-06-03T08:28:20.788Z"
   },
   {
    "duration": 1087,
    "start_time": "2023-06-03T08:34:18.174Z"
   },
   {
    "duration": 2097,
    "start_time": "2023-06-03T08:34:25.674Z"
   },
   {
    "duration": 1299,
    "start_time": "2023-06-03T08:34:35.109Z"
   },
   {
    "duration": 1116,
    "start_time": "2023-06-03T08:34:44.956Z"
   },
   {
    "duration": 1161,
    "start_time": "2023-06-03T08:35:00.279Z"
   },
   {
    "duration": 1143,
    "start_time": "2023-06-03T08:35:07.176Z"
   },
   {
    "duration": 2163,
    "start_time": "2023-06-03T08:35:16.891Z"
   },
   {
    "duration": 1142,
    "start_time": "2023-06-03T08:35:28.361Z"
   },
   {
    "duration": 47,
    "start_time": "2023-06-03T08:35:44.790Z"
   },
   {
    "duration": 51,
    "start_time": "2023-06-03T08:35:54.526Z"
   },
   {
    "duration": 1125,
    "start_time": "2023-06-03T08:35:59.157Z"
   },
   {
    "duration": 1148,
    "start_time": "2023-06-03T09:04:26.470Z"
   },
   {
    "duration": 2173,
    "start_time": "2023-06-03T09:05:05.791Z"
   },
   {
    "duration": 1128,
    "start_time": "2023-06-03T09:05:26.667Z"
   },
   {
    "duration": 9,
    "start_time": "2023-06-03T09:06:31.660Z"
   },
   {
    "duration": 1149,
    "start_time": "2023-06-03T09:06:32.188Z"
   },
   {
    "duration": 162,
    "start_time": "2023-06-03T09:06:53.751Z"
   },
   {
    "duration": 9,
    "start_time": "2023-06-03T09:16:22.627Z"
   },
   {
    "duration": 1150,
    "start_time": "2023-06-03T09:16:24.195Z"
   },
   {
    "duration": 4,
    "start_time": "2023-06-03T09:19:09.116Z"
   },
   {
    "duration": 126,
    "start_time": "2023-06-03T09:19:11.911Z"
   },
   {
    "duration": 4,
    "start_time": "2023-06-03T09:20:17.759Z"
   },
   {
    "duration": 135,
    "start_time": "2023-06-03T09:20:18.383Z"
   },
   {
    "duration": 1156,
    "start_time": "2023-06-03T09:22:52.022Z"
   },
   {
    "duration": 154,
    "start_time": "2023-06-03T09:22:53.180Z"
   },
   {
    "duration": 14,
    "start_time": "2023-06-03T09:23:06.450Z"
   },
   {
    "duration": 89,
    "start_time": "2023-06-03T09:23:14.944Z"
   },
   {
    "duration": 128,
    "start_time": "2023-06-03T09:23:15.530Z"
   },
   {
    "duration": 4,
    "start_time": "2023-06-03T09:23:21.897Z"
   },
   {
    "duration": 1168,
    "start_time": "2023-06-03T09:24:01.337Z"
   },
   {
    "duration": 1229,
    "start_time": "2023-06-03T09:26:34.800Z"
   },
   {
    "duration": 1136,
    "start_time": "2023-06-03T09:26:45.361Z"
   },
   {
    "duration": 3,
    "start_time": "2023-06-03T09:28:53.412Z"
   },
   {
    "duration": 12,
    "start_time": "2023-06-03T09:29:56.212Z"
   },
   {
    "duration": 25,
    "start_time": "2023-06-03T09:30:03.984Z"
   },
   {
    "duration": 8,
    "start_time": "2023-06-03T09:30:39.245Z"
   },
   {
    "duration": 3,
    "start_time": "2023-06-03T09:30:43.213Z"
   },
   {
    "duration": 4,
    "start_time": "2023-06-03T09:31:06.395Z"
   },
   {
    "duration": 4,
    "start_time": "2023-06-03T09:31:24.746Z"
   },
   {
    "duration": 16,
    "start_time": "2023-06-03T09:31:48.497Z"
   },
   {
    "duration": 2,
    "start_time": "2023-06-03T09:32:38.198Z"
   },
   {
    "duration": 3,
    "start_time": "2023-06-03T09:32:53.586Z"
   },
   {
    "duration": 3,
    "start_time": "2023-06-03T09:33:24.884Z"
   },
   {
    "duration": 9,
    "start_time": "2023-06-03T09:33:43.214Z"
   },
   {
    "duration": 9,
    "start_time": "2023-06-03T09:33:50.482Z"
   },
   {
    "duration": 3,
    "start_time": "2023-06-03T09:34:00.614Z"
   },
   {
    "duration": 3,
    "start_time": "2023-06-03T09:34:11.034Z"
   },
   {
    "duration": 11,
    "start_time": "2023-06-03T09:34:12.868Z"
   },
   {
    "duration": 8,
    "start_time": "2023-06-03T09:34:23.035Z"
   },
   {
    "duration": 3,
    "start_time": "2023-06-03T09:34:27.634Z"
   },
   {
    "duration": 4,
    "start_time": "2023-06-03T09:34:43.440Z"
   },
   {
    "duration": 4,
    "start_time": "2023-06-03T09:34:55.183Z"
   },
   {
    "duration": 9,
    "start_time": "2023-06-03T09:38:24.270Z"
   },
   {
    "duration": 9,
    "start_time": "2023-06-03T09:39:11.837Z"
   },
   {
    "duration": 9,
    "start_time": "2023-06-03T09:39:22.684Z"
   },
   {
    "duration": 9,
    "start_time": "2023-06-03T09:39:29.539Z"
   },
   {
    "duration": 9,
    "start_time": "2023-06-03T09:39:34.846Z"
   },
   {
    "duration": 9,
    "start_time": "2023-06-03T09:39:40.502Z"
   },
   {
    "duration": 9,
    "start_time": "2023-06-03T09:39:47.068Z"
   },
   {
    "duration": 8,
    "start_time": "2023-06-03T09:51:58.422Z"
   },
   {
    "duration": 8,
    "start_time": "2023-06-03T09:52:05.521Z"
   },
   {
    "duration": 44,
    "start_time": "2023-06-03T09:52:12.424Z"
   },
   {
    "duration": 3,
    "start_time": "2023-06-03T09:53:15.805Z"
   },
   {
    "duration": 1159,
    "start_time": "2023-06-03T09:53:22.692Z"
   },
   {
    "duration": 665,
    "start_time": "2023-06-03T09:53:24.841Z"
   },
   {
    "duration": 3,
    "start_time": "2023-06-03T09:53:25.508Z"
   },
   {
    "duration": 4,
    "start_time": "2023-06-03T09:53:26.626Z"
   },
   {
    "duration": 145,
    "start_time": "2023-06-03T09:53:27.773Z"
   },
   {
    "duration": 3,
    "start_time": "2023-06-03T09:53:30.440Z"
   },
   {
    "duration": 8,
    "start_time": "2023-06-03T09:53:30.885Z"
   },
   {
    "duration": 197,
    "start_time": "2023-06-03T09:53:32.715Z"
   },
   {
    "duration": 12,
    "start_time": "2023-06-03T09:53:33.399Z"
   },
   {
    "duration": 122,
    "start_time": "2023-06-03T09:53:33.636Z"
   },
   {
    "duration": 9,
    "start_time": "2023-06-03T09:53:35.242Z"
   },
   {
    "duration": 273,
    "start_time": "2023-06-03T09:53:36.129Z"
   },
   {
    "duration": 577,
    "start_time": "2023-06-03T09:53:38.073Z"
   },
   {
    "duration": 94,
    "start_time": "2023-06-03T09:53:39.376Z"
   },
   {
    "duration": 85,
    "start_time": "2023-06-03T09:54:46.888Z"
   },
   {
    "duration": 129,
    "start_time": "2023-06-03T09:54:51.007Z"
   },
   {
    "duration": 5,
    "start_time": "2023-06-03T09:54:53.591Z"
   },
   {
    "duration": 8,
    "start_time": "2023-06-03T09:54:55.503Z"
   },
   {
    "duration": 1198,
    "start_time": "2023-06-03T09:54:56.936Z"
   },
   {
    "duration": 4,
    "start_time": "2023-06-03T09:55:09.187Z"
   },
   {
    "duration": 8,
    "start_time": "2023-06-03T09:55:14.370Z"
   },
   {
    "duration": 5,
    "start_time": "2023-06-03T09:55:27.761Z"
   },
   {
    "duration": 5,
    "start_time": "2023-06-03T09:55:59.490Z"
   },
   {
    "duration": 8,
    "start_time": "2023-06-03T09:57:44.906Z"
   },
   {
    "duration": 13,
    "start_time": "2023-06-03T09:57:56.190Z"
   },
   {
    "duration": 656,
    "start_time": "2023-06-03T09:57:58.673Z"
   },
   {
    "duration": 649,
    "start_time": "2023-06-03T09:58:21.560Z"
   },
   {
    "duration": 5,
    "start_time": "2023-06-03T09:58:40.821Z"
   },
   {
    "duration": 5,
    "start_time": "2023-06-03T09:58:49.373Z"
   },
   {
    "duration": 680,
    "start_time": "2023-06-03T09:59:25.073Z"
   },
   {
    "duration": 8,
    "start_time": "2023-06-03T09:59:46.278Z"
   },
   {
    "duration": 27,
    "start_time": "2023-06-03T09:59:54.389Z"
   },
   {
    "duration": 14,
    "start_time": "2023-06-03T10:00:08.640Z"
   },
   {
    "duration": 25,
    "start_time": "2023-06-03T10:00:09.395Z"
   },
   {
    "duration": 725,
    "start_time": "2023-06-03T10:00:26.354Z"
   },
   {
    "duration": 3,
    "start_time": "2023-06-03T10:01:19.340Z"
   },
   {
    "duration": 4,
    "start_time": "2023-06-03T10:01:25.453Z"
   },
   {
    "duration": 8,
    "start_time": "2023-06-03T10:01:36.938Z"
   },
   {
    "duration": 9,
    "start_time": "2023-06-03T10:02:00.911Z"
   },
   {
    "duration": 8,
    "start_time": "2023-06-03T10:02:10.677Z"
   },
   {
    "duration": 3,
    "start_time": "2023-06-03T10:03:46.881Z"
   },
   {
    "duration": 4,
    "start_time": "2023-06-03T10:03:56.209Z"
   },
   {
    "duration": 53,
    "start_time": "2023-06-03T10:04:20.623Z"
   },
   {
    "duration": 4,
    "start_time": "2023-06-03T10:04:27.507Z"
   },
   {
    "duration": 11,
    "start_time": "2023-06-03T10:04:42.397Z"
   },
   {
    "duration": 4,
    "start_time": "2023-06-03T10:04:57.821Z"
   },
   {
    "duration": 4,
    "start_time": "2023-06-03T10:05:05.774Z"
   },
   {
    "duration": 4,
    "start_time": "2023-06-03T10:05:12.791Z"
   },
   {
    "duration": 4,
    "start_time": "2023-06-03T10:05:27.030Z"
   },
   {
    "duration": 4,
    "start_time": "2023-06-03T10:05:32.207Z"
   },
   {
    "duration": 5,
    "start_time": "2023-06-03T10:05:36.673Z"
   },
   {
    "duration": 4,
    "start_time": "2023-06-03T10:05:49.179Z"
   },
   {
    "duration": 10,
    "start_time": "2023-06-03T10:06:01.132Z"
   },
   {
    "duration": 5,
    "start_time": "2023-06-03T10:06:04.797Z"
   },
   {
    "duration": 5,
    "start_time": "2023-06-03T10:06:16.706Z"
   },
   {
    "duration": 10,
    "start_time": "2023-06-03T10:07:04.096Z"
   },
   {
    "duration": 10,
    "start_time": "2023-06-03T10:07:17.141Z"
   },
   {
    "duration": 8,
    "start_time": "2023-06-03T10:07:37.797Z"
   },
   {
    "duration": 9,
    "start_time": "2023-06-03T10:13:12.776Z"
   },
   {
    "duration": 8,
    "start_time": "2023-06-03T10:14:43.411Z"
   },
   {
    "duration": 4,
    "start_time": "2023-06-03T10:14:52.926Z"
   },
   {
    "duration": 4,
    "start_time": "2023-06-03T10:15:03.603Z"
   },
   {
    "duration": 12,
    "start_time": "2023-06-03T10:15:53.394Z"
   },
   {
    "duration": 12,
    "start_time": "2023-06-03T10:15:55.362Z"
   },
   {
    "duration": 14,
    "start_time": "2023-06-03T10:17:01.110Z"
   },
   {
    "duration": 16,
    "start_time": "2023-06-03T10:17:03.430Z"
   },
   {
    "duration": 4,
    "start_time": "2023-06-03T10:17:08.913Z"
   },
   {
    "duration": 8,
    "start_time": "2023-06-03T10:17:30.002Z"
   },
   {
    "duration": 4,
    "start_time": "2023-06-03T10:17:30.897Z"
   },
   {
    "duration": 11,
    "start_time": "2023-06-03T10:19:06.046Z"
   },
   {
    "duration": 8,
    "start_time": "2023-06-03T10:19:08.083Z"
   },
   {
    "duration": 4,
    "start_time": "2023-06-03T10:19:09.081Z"
   },
   {
    "duration": 131,
    "start_time": "2023-06-03T10:20:35.499Z"
   },
   {
    "duration": 56,
    "start_time": "2023-06-03T10:27:33.757Z"
   },
   {
    "duration": 3,
    "start_time": "2023-06-03T10:28:10.232Z"
   },
   {
    "duration": 12,
    "start_time": "2023-06-03T10:28:49.014Z"
   },
   {
    "duration": 4,
    "start_time": "2023-06-03T10:29:38.824Z"
   },
   {
    "duration": 5,
    "start_time": "2023-06-03T10:29:45.184Z"
   },
   {
    "duration": 8,
    "start_time": "2023-06-03T10:30:10.082Z"
   },
   {
    "duration": 3,
    "start_time": "2023-06-03T10:30:18.565Z"
   },
   {
    "duration": 8,
    "start_time": "2023-06-03T10:30:19.462Z"
   },
   {
    "duration": 5,
    "start_time": "2023-06-03T10:30:19.985Z"
   },
   {
    "duration": 3,
    "start_time": "2023-06-03T10:30:31.774Z"
   },
   {
    "duration": 7,
    "start_time": "2023-06-03T10:30:32.236Z"
   },
   {
    "duration": 4,
    "start_time": "2023-06-03T10:30:33.085Z"
   },
   {
    "duration": 51,
    "start_time": "2023-06-03T10:31:30.344Z"
   },
   {
    "duration": 44,
    "start_time": "2023-06-03T10:31:35.383Z"
   },
   {
    "duration": 49,
    "start_time": "2023-06-03T10:31:42.850Z"
   },
   {
    "duration": 12,
    "start_time": "2023-06-03T10:32:04.827Z"
   },
   {
    "duration": 4,
    "start_time": "2023-06-03T10:32:12.269Z"
   },
   {
    "duration": 4,
    "start_time": "2023-06-03T10:32:16.801Z"
   },
   {
    "duration": 4,
    "start_time": "2023-06-03T10:32:19.600Z"
   },
   {
    "duration": 3,
    "start_time": "2023-06-03T10:32:38.435Z"
   },
   {
    "duration": 13,
    "start_time": "2023-06-03T10:32:39.068Z"
   },
   {
    "duration": 749,
    "start_time": "2023-06-03T10:32:39.939Z"
   },
   {
    "duration": 1162,
    "start_time": "2023-06-03T12:04:26.643Z"
   },
   {
    "duration": 671,
    "start_time": "2023-06-03T12:04:27.806Z"
   },
   {
    "duration": 4,
    "start_time": "2023-06-03T12:04:28.479Z"
   },
   {
    "duration": 6,
    "start_time": "2023-06-03T12:04:28.485Z"
   },
   {
    "duration": 167,
    "start_time": "2023-06-03T12:04:28.492Z"
   },
   {
    "duration": 2,
    "start_time": "2023-06-03T12:04:28.661Z"
   },
   {
    "duration": 10,
    "start_time": "2023-06-03T12:04:28.665Z"
   },
   {
    "duration": 218,
    "start_time": "2023-06-03T12:04:28.677Z"
   },
   {
    "duration": 18,
    "start_time": "2023-06-03T12:04:28.896Z"
   },
   {
    "duration": 148,
    "start_time": "2023-06-03T12:04:28.917Z"
   },
   {
    "duration": 9,
    "start_time": "2023-06-03T12:04:29.066Z"
   },
   {
    "duration": 305,
    "start_time": "2023-06-03T12:04:29.077Z"
   },
   {
    "duration": 579,
    "start_time": "2023-06-03T12:04:29.384Z"
   },
   {
    "duration": 96,
    "start_time": "2023-06-03T12:04:29.965Z"
   },
   {
    "duration": 146,
    "start_time": "2023-06-03T12:04:30.063Z"
   },
   {
    "duration": 6,
    "start_time": "2023-06-03T12:04:30.210Z"
   },
   {
    "duration": 33,
    "start_time": "2023-06-03T12:04:30.217Z"
   },
   {
    "duration": 1271,
    "start_time": "2023-06-03T12:04:30.252Z"
   },
   {
    "duration": 5,
    "start_time": "2023-06-03T12:04:31.524Z"
   },
   {
    "duration": 83,
    "start_time": "2023-06-03T12:04:31.530Z"
   },
   {
    "duration": 18,
    "start_time": "2023-06-03T12:04:31.615Z"
   },
   {
    "duration": 36,
    "start_time": "2023-06-03T12:04:31.635Z"
   },
   {
    "duration": 23,
    "start_time": "2023-06-03T12:04:31.673Z"
   },
   {
    "duration": 31,
    "start_time": "2023-06-03T12:04:31.697Z"
   },
   {
    "duration": 5,
    "start_time": "2023-06-03T12:04:31.730Z"
   },
   {
    "duration": 115,
    "start_time": "2023-06-03T12:04:31.736Z"
   },
   {
    "duration": 71,
    "start_time": "2023-06-03T12:04:31.853Z"
   },
   {
    "duration": 97,
    "start_time": "2023-06-03T12:04:31.927Z"
   },
   {
    "duration": 0,
    "start_time": "2023-06-03T12:04:32.025Z"
   },
   {
    "duration": 0,
    "start_time": "2023-06-03T12:04:32.026Z"
   },
   {
    "duration": 4,
    "start_time": "2023-06-03T12:05:42.742Z"
   },
   {
    "duration": 13,
    "start_time": "2023-06-03T12:05:43.384Z"
   },
   {
    "duration": 8,
    "start_time": "2023-06-03T12:05:46.256Z"
   },
   {
    "duration": 4,
    "start_time": "2023-06-03T12:05:58.220Z"
   },
   {
    "duration": 13,
    "start_time": "2023-06-03T12:05:58.341Z"
   },
   {
    "duration": 9,
    "start_time": "2023-06-03T12:05:58.693Z"
   },
   {
    "duration": 3,
    "start_time": "2023-06-03T12:06:19.076Z"
   },
   {
    "duration": 12,
    "start_time": "2023-06-03T12:06:19.780Z"
   },
   {
    "duration": 9,
    "start_time": "2023-06-03T12:06:20.428Z"
   },
   {
    "duration": 3,
    "start_time": "2023-06-03T12:07:12.211Z"
   },
   {
    "duration": 20,
    "start_time": "2023-06-03T12:07:13.050Z"
   },
   {
    "duration": 4,
    "start_time": "2023-06-03T12:08:05.596Z"
   },
   {
    "duration": 2,
    "start_time": "2023-06-03T12:08:08.676Z"
   },
   {
    "duration": 12,
    "start_time": "2023-06-03T12:08:09.228Z"
   },
   {
    "duration": 3,
    "start_time": "2023-06-03T12:09:04.341Z"
   },
   {
    "duration": 12,
    "start_time": "2023-06-03T12:09:05.497Z"
   },
   {
    "duration": 2,
    "start_time": "2023-06-03T12:09:05.943Z"
   },
   {
    "duration": 17,
    "start_time": "2023-06-03T12:09:07.904Z"
   },
   {
    "duration": 3,
    "start_time": "2023-06-03T12:09:21.076Z"
   },
   {
    "duration": 14,
    "start_time": "2023-06-03T12:09:21.597Z"
   },
   {
    "duration": 2,
    "start_time": "2023-06-03T12:09:22.661Z"
   },
   {
    "duration": 17,
    "start_time": "2023-06-03T12:09:24.071Z"
   },
   {
    "duration": 5,
    "start_time": "2023-06-03T12:09:34.212Z"
   },
   {
    "duration": 13,
    "start_time": "2023-06-03T12:09:34.742Z"
   },
   {
    "duration": 2,
    "start_time": "2023-06-03T12:09:35.092Z"
   },
   {
    "duration": 17,
    "start_time": "2023-06-03T12:09:35.697Z"
   },
   {
    "duration": 4,
    "start_time": "2023-06-03T12:10:08.892Z"
   },
   {
    "duration": 12,
    "start_time": "2023-06-03T12:10:09.740Z"
   },
   {
    "duration": 2,
    "start_time": "2023-06-03T12:10:09.894Z"
   },
   {
    "duration": 18,
    "start_time": "2023-06-03T12:10:10.077Z"
   },
   {
    "duration": 4,
    "start_time": "2023-06-03T12:10:29.724Z"
   },
   {
    "duration": 14,
    "start_time": "2023-06-03T12:10:30.430Z"
   },
   {
    "duration": 3,
    "start_time": "2023-06-03T12:10:30.945Z"
   },
   {
    "duration": 27,
    "start_time": "2023-06-03T12:10:31.688Z"
   },
   {
    "duration": 4,
    "start_time": "2023-06-03T12:11:00.389Z"
   },
   {
    "duration": 3,
    "start_time": "2023-06-03T12:11:03.627Z"
   },
   {
    "duration": 20,
    "start_time": "2023-06-03T12:11:03.850Z"
   },
   {
    "duration": 51,
    "start_time": "2023-06-03T12:11:18.611Z"
   },
   {
    "duration": 13,
    "start_time": "2023-06-03T12:11:23.181Z"
   },
   {
    "duration": 11,
    "start_time": "2023-06-03T12:12:55.562Z"
   },
   {
    "duration": 15,
    "start_time": "2023-06-03T12:13:00.373Z"
   },
   {
    "duration": 3,
    "start_time": "2023-06-03T12:15:50.140Z"
   },
   {
    "duration": 11,
    "start_time": "2023-06-03T12:16:20.593Z"
   },
   {
    "duration": 12,
    "start_time": "2023-06-03T12:16:34.645Z"
   },
   {
    "duration": 4,
    "start_time": "2023-06-03T12:17:54.431Z"
   },
   {
    "duration": 10,
    "start_time": "2023-06-03T12:17:55.336Z"
   },
   {
    "duration": 2,
    "start_time": "2023-06-03T12:19:33.665Z"
   },
   {
    "duration": 3,
    "start_time": "2023-06-03T12:19:42.597Z"
   },
   {
    "duration": 3,
    "start_time": "2023-06-03T12:19:54.287Z"
   },
   {
    "duration": 3,
    "start_time": "2023-06-03T12:20:32.553Z"
   },
   {
    "duration": 12,
    "start_time": "2023-06-03T12:20:37.431Z"
   },
   {
    "duration": 4,
    "start_time": "2023-06-03T12:20:47.030Z"
   },
   {
    "duration": 2,
    "start_time": "2023-06-03T12:20:48.633Z"
   },
   {
    "duration": 11,
    "start_time": "2023-06-03T12:20:49.949Z"
   },
   {
    "duration": 3,
    "start_time": "2023-06-03T12:21:01.881Z"
   },
   {
    "duration": 32,
    "start_time": "2023-06-03T12:21:02.701Z"
   },
   {
    "duration": 3,
    "start_time": "2023-06-03T12:21:16.710Z"
   },
   {
    "duration": 3,
    "start_time": "2023-06-03T12:21:17.186Z"
   },
   {
    "duration": 11,
    "start_time": "2023-06-03T12:21:18.576Z"
   },
   {
    "duration": 3,
    "start_time": "2023-06-03T12:21:22.271Z"
   },
   {
    "duration": 41,
    "start_time": "2023-06-03T12:21:22.584Z"
   },
   {
    "duration": 3,
    "start_time": "2023-06-03T12:21:39.665Z"
   },
   {
    "duration": 3,
    "start_time": "2023-06-03T12:21:40.193Z"
   },
   {
    "duration": 11,
    "start_time": "2023-06-03T12:21:41.451Z"
   },
   {
    "duration": 2,
    "start_time": "2023-06-03T12:21:44.334Z"
   },
   {
    "duration": 32,
    "start_time": "2023-06-03T12:21:44.852Z"
   },
   {
    "duration": 4,
    "start_time": "2023-06-03T12:22:35.454Z"
   },
   {
    "duration": 3,
    "start_time": "2023-06-03T12:22:36.517Z"
   },
   {
    "duration": 11,
    "start_time": "2023-06-03T12:22:40.567Z"
   },
   {
    "duration": 3,
    "start_time": "2023-06-03T12:22:43.744Z"
   },
   {
    "duration": 15,
    "start_time": "2023-06-03T12:22:44.234Z"
   },
   {
    "duration": 4,
    "start_time": "2023-06-03T12:22:54.290Z"
   },
   {
    "duration": 4,
    "start_time": "2023-06-03T12:22:54.800Z"
   },
   {
    "duration": 11,
    "start_time": "2023-06-03T12:22:56.132Z"
   },
   {
    "duration": 3,
    "start_time": "2023-06-03T12:22:58.168Z"
   },
   {
    "duration": 13,
    "start_time": "2023-06-03T12:22:58.938Z"
   },
   {
    "duration": 4,
    "start_time": "2023-06-03T12:23:15.898Z"
   },
   {
    "duration": 3,
    "start_time": "2023-06-03T12:23:16.064Z"
   },
   {
    "duration": 10,
    "start_time": "2023-06-03T12:23:16.834Z"
   },
   {
    "duration": 2,
    "start_time": "2023-06-03T12:23:20.711Z"
   },
   {
    "duration": 13,
    "start_time": "2023-06-03T12:23:21.233Z"
   },
   {
    "duration": 4,
    "start_time": "2023-06-03T12:24:22.789Z"
   },
   {
    "duration": 4,
    "start_time": "2023-06-03T12:24:23.121Z"
   },
   {
    "duration": 9,
    "start_time": "2023-06-03T12:24:24.159Z"
   },
   {
    "duration": 7,
    "start_time": "2023-06-03T12:24:28.774Z"
   },
   {
    "duration": 2,
    "start_time": "2023-06-03T12:24:38.084Z"
   },
   {
    "duration": 10,
    "start_time": "2023-06-03T12:24:38.780Z"
   },
   {
    "duration": 3,
    "start_time": "2023-06-03T12:25:04.982Z"
   },
   {
    "duration": 16,
    "start_time": "2023-06-03T12:25:05.409Z"
   },
   {
    "duration": 9,
    "start_time": "2023-06-03T12:25:33.501Z"
   },
   {
    "duration": 4,
    "start_time": "2023-06-03T12:26:18.466Z"
   },
   {
    "duration": 3,
    "start_time": "2023-06-03T12:26:19.333Z"
   },
   {
    "duration": 9,
    "start_time": "2023-06-03T12:26:20.383Z"
   },
   {
    "duration": 4,
    "start_time": "2023-06-03T12:26:36.919Z"
   },
   {
    "duration": 5,
    "start_time": "2023-06-03T12:26:40.465Z"
   },
   {
    "duration": 3,
    "start_time": "2023-06-03T12:26:40.749Z"
   },
   {
    "duration": 11,
    "start_time": "2023-06-03T12:26:41.653Z"
   },
   {
    "duration": 4,
    "start_time": "2023-06-03T12:26:52.520Z"
   },
   {
    "duration": 3,
    "start_time": "2023-06-03T12:26:53.103Z"
   },
   {
    "duration": 9,
    "start_time": "2023-06-03T12:26:54.302Z"
   },
   {
    "duration": 4,
    "start_time": "2023-06-03T12:27:13.953Z"
   },
   {
    "duration": 3,
    "start_time": "2023-06-03T12:27:14.447Z"
   },
   {
    "duration": 10,
    "start_time": "2023-06-03T12:27:15.228Z"
   },
   {
    "duration": 4,
    "start_time": "2023-06-03T12:27:54.184Z"
   },
   {
    "duration": 3,
    "start_time": "2023-06-03T12:27:54.577Z"
   },
   {
    "duration": 10,
    "start_time": "2023-06-03T12:27:55.580Z"
   },
   {
    "duration": 4,
    "start_time": "2023-06-03T12:28:08.084Z"
   },
   {
    "duration": 4,
    "start_time": "2023-06-03T12:28:08.592Z"
   },
   {
    "duration": 8,
    "start_time": "2023-06-03T12:28:09.468Z"
   },
   {
    "duration": 5,
    "start_time": "2023-06-03T12:29:02.438Z"
   },
   {
    "duration": 3,
    "start_time": "2023-06-03T12:29:02.751Z"
   },
   {
    "duration": 9,
    "start_time": "2023-06-03T12:29:03.642Z"
   },
   {
    "duration": 3,
    "start_time": "2023-06-03T12:29:17.867Z"
   },
   {
    "duration": 3,
    "start_time": "2023-06-03T12:29:18.303Z"
   },
   {
    "duration": 11,
    "start_time": "2023-06-03T12:29:20.312Z"
   },
   {
    "duration": 4,
    "start_time": "2023-06-03T12:29:41.853Z"
   },
   {
    "duration": 3,
    "start_time": "2023-06-03T12:29:42.133Z"
   },
   {
    "duration": 9,
    "start_time": "2023-06-03T12:29:43.036Z"
   },
   {
    "duration": 4,
    "start_time": "2023-06-03T12:29:59.210Z"
   },
   {
    "duration": 3,
    "start_time": "2023-06-03T12:29:59.656Z"
   },
   {
    "duration": 10,
    "start_time": "2023-06-03T12:30:00.689Z"
   },
   {
    "duration": 52,
    "start_time": "2023-06-03T12:30:21.351Z"
   },
   {
    "duration": 3,
    "start_time": "2023-06-03T12:30:21.904Z"
   },
   {
    "duration": 4,
    "start_time": "2023-06-03T12:30:26.541Z"
   },
   {
    "duration": 3,
    "start_time": "2023-06-03T12:30:31.538Z"
   },
   {
    "duration": 13,
    "start_time": "2023-06-03T12:30:32.585Z"
   },
   {
    "duration": 2,
    "start_time": "2023-06-03T12:30:36.611Z"
   },
   {
    "duration": 19,
    "start_time": "2023-06-03T12:30:37.335Z"
   },
   {
    "duration": 2,
    "start_time": "2023-06-03T12:30:46.920Z"
   },
   {
    "duration": 11,
    "start_time": "2023-06-03T12:30:47.604Z"
   },
   {
    "duration": 3,
    "start_time": "2023-06-03T12:30:59.736Z"
   },
   {
    "duration": 3,
    "start_time": "2023-06-03T12:31:01.420Z"
   },
   {
    "duration": 9,
    "start_time": "2023-06-03T12:31:02.603Z"
   },
   {
    "duration": 4,
    "start_time": "2023-06-03T12:31:36.736Z"
   },
   {
    "duration": 4,
    "start_time": "2023-06-03T12:31:37.485Z"
   },
   {
    "duration": 11,
    "start_time": "2023-06-03T12:31:38.513Z"
   },
   {
    "duration": 2,
    "start_time": "2023-06-03T12:31:43.619Z"
   },
   {
    "duration": 13,
    "start_time": "2023-06-03T12:31:44.085Z"
   },
   {
    "duration": 25,
    "start_time": "2023-06-03T12:31:58.508Z"
   },
   {
    "duration": 47,
    "start_time": "2023-06-03T12:33:07.828Z"
   },
   {
    "duration": 5,
    "start_time": "2023-06-03T12:33:13.116Z"
   },
   {
    "duration": 4,
    "start_time": "2023-06-03T12:33:13.839Z"
   },
   {
    "duration": 10,
    "start_time": "2023-06-03T12:33:14.940Z"
   },
   {
    "duration": 4,
    "start_time": "2023-06-03T12:33:37.892Z"
   },
   {
    "duration": 3,
    "start_time": "2023-06-03T12:33:38.579Z"
   },
   {
    "duration": 10,
    "start_time": "2023-06-03T12:33:39.589Z"
   },
   {
    "duration": 3,
    "start_time": "2023-06-03T12:33:51.247Z"
   },
   {
    "duration": 35,
    "start_time": "2023-06-03T12:33:54.820Z"
   },
   {
    "duration": 4,
    "start_time": "2023-06-03T12:34:20.803Z"
   },
   {
    "duration": 3,
    "start_time": "2023-06-03T12:34:21.212Z"
   },
   {
    "duration": 9,
    "start_time": "2023-06-03T12:34:22.242Z"
   },
   {
    "duration": 3,
    "start_time": "2023-06-03T12:34:26.269Z"
   },
   {
    "duration": 35,
    "start_time": "2023-06-03T12:34:26.973Z"
   },
   {
    "duration": 4,
    "start_time": "2023-06-03T12:34:48.238Z"
   },
   {
    "duration": 4,
    "start_time": "2023-06-03T12:34:48.672Z"
   },
   {
    "duration": 10,
    "start_time": "2023-06-03T12:34:50.011Z"
   },
   {
    "duration": 2,
    "start_time": "2023-06-03T12:34:51.837Z"
   },
   {
    "duration": 53,
    "start_time": "2023-06-03T12:34:52.705Z"
   },
   {
    "duration": 4,
    "start_time": "2023-06-03T12:35:09.711Z"
   },
   {
    "duration": 3,
    "start_time": "2023-06-03T12:35:09.903Z"
   },
   {
    "duration": 11,
    "start_time": "2023-06-03T12:35:10.311Z"
   },
   {
    "duration": 3,
    "start_time": "2023-06-03T12:35:10.485Z"
   },
   {
    "duration": 55,
    "start_time": "2023-06-03T12:35:11.190Z"
   },
   {
    "duration": 4,
    "start_time": "2023-06-03T12:35:51.697Z"
   },
   {
    "duration": 3,
    "start_time": "2023-06-03T12:35:52.563Z"
   },
   {
    "duration": 9,
    "start_time": "2023-06-03T12:35:53.343Z"
   },
   {
    "duration": 3,
    "start_time": "2023-06-03T12:35:54.454Z"
   },
   {
    "duration": 52,
    "start_time": "2023-06-03T12:35:55.071Z"
   },
   {
    "duration": 4,
    "start_time": "2023-06-03T12:36:20.070Z"
   },
   {
    "duration": 3,
    "start_time": "2023-06-03T12:36:20.557Z"
   },
   {
    "duration": 2,
    "start_time": "2023-06-03T12:36:31.553Z"
   },
   {
    "duration": 52,
    "start_time": "2023-06-03T12:36:32.104Z"
   },
   {
    "duration": 1192,
    "start_time": "2023-06-03T12:38:23.726Z"
   },
   {
    "duration": 688,
    "start_time": "2023-06-03T12:38:25.758Z"
   },
   {
    "duration": 4,
    "start_time": "2023-06-03T12:38:26.910Z"
   },
   {
    "duration": 5,
    "start_time": "2023-06-03T12:38:27.722Z"
   },
   {
    "duration": 4,
    "start_time": "2023-06-03T12:38:29.444Z"
   },
   {
    "duration": 93,
    "start_time": "2023-06-03T12:38:30.643Z"
   },
   {
    "duration": 76,
    "start_time": "2023-06-03T12:39:16.422Z"
   },
   {
    "duration": 3,
    "start_time": "2023-06-03T12:39:18.613Z"
   },
   {
    "duration": 2,
    "start_time": "2023-06-03T12:39:20.243Z"
   },
   {
    "duration": 7,
    "start_time": "2023-06-03T12:39:20.557Z"
   },
   {
    "duration": 202,
    "start_time": "2023-06-03T12:39:30.060Z"
   },
   {
    "duration": 14,
    "start_time": "2023-06-03T12:39:34.449Z"
   },
   {
    "duration": 92,
    "start_time": "2023-06-03T12:39:36.860Z"
   },
   {
    "duration": 9,
    "start_time": "2023-06-03T12:39:49.649Z"
   },
   {
    "duration": 264,
    "start_time": "2023-06-03T12:39:50.029Z"
   },
   {
    "duration": 560,
    "start_time": "2023-06-03T12:39:53.219Z"
   },
   {
    "duration": 83,
    "start_time": "2023-06-03T12:39:56.010Z"
   },
   {
    "duration": 124,
    "start_time": "2023-06-03T12:39:58.620Z"
   },
   {
    "duration": 4,
    "start_time": "2023-06-03T12:39:59.846Z"
   },
   {
    "duration": 4,
    "start_time": "2023-06-03T12:40:29.322Z"
   },
   {
    "duration": 81,
    "start_time": "2023-06-03T12:40:29.960Z"
   },
   {
    "duration": 88,
    "start_time": "2023-06-03T12:41:25.939Z"
   },
   {
    "duration": 580,
    "start_time": "2023-06-03T12:41:35.106Z"
   },
   {
    "duration": 89,
    "start_time": "2023-06-03T12:41:36.544Z"
   },
   {
    "duration": 121,
    "start_time": "2023-06-03T12:41:36.861Z"
   },
   {
    "duration": 4,
    "start_time": "2023-06-03T12:41:37.106Z"
   },
   {
    "duration": 9,
    "start_time": "2023-06-03T12:41:37.757Z"
   },
   {
    "duration": 1190,
    "start_time": "2023-06-03T12:41:37.947Z"
   },
   {
    "duration": 5,
    "start_time": "2023-06-03T12:41:43.518Z"
   },
   {
    "duration": 17,
    "start_time": "2023-06-03T12:41:44.348Z"
   },
   {
    "duration": 12,
    "start_time": "2023-06-03T12:41:46.514Z"
   },
   {
    "duration": 4,
    "start_time": "2023-06-03T12:41:48.550Z"
   },
   {
    "duration": 2,
    "start_time": "2023-06-03T12:41:50.818Z"
   },
   {
    "duration": 8,
    "start_time": "2023-06-03T12:41:54.466Z"
   },
   {
    "duration": 45,
    "start_time": "2023-06-03T12:42:07.344Z"
   },
   {
    "duration": 5,
    "start_time": "2023-06-03T12:43:49.240Z"
   },
   {
    "duration": 15,
    "start_time": "2023-06-03T12:43:55.561Z"
   },
   {
    "duration": 6,
    "start_time": "2023-06-03T12:44:19.975Z"
   },
   {
    "duration": 8,
    "start_time": "2023-06-03T12:44:23.914Z"
   },
   {
    "duration": 4,
    "start_time": "2023-06-03T12:44:29.826Z"
   },
   {
    "duration": 4,
    "start_time": "2023-06-03T12:44:34.142Z"
   },
   {
    "duration": 3,
    "start_time": "2023-06-03T12:44:38.644Z"
   },
   {
    "duration": 46,
    "start_time": "2023-06-03T12:44:39.510Z"
   },
   {
    "duration": 9,
    "start_time": "2023-06-03T12:44:58.859Z"
   },
   {
    "duration": 9,
    "start_time": "2023-06-03T12:45:02.642Z"
   },
   {
    "duration": 2,
    "start_time": "2023-06-03T12:45:39.334Z"
   },
   {
    "duration": 99,
    "start_time": "2023-06-03T12:45:41.222Z"
   },
   {
    "duration": 2,
    "start_time": "2023-06-03T12:46:05.038Z"
   },
   {
    "duration": 71,
    "start_time": "2023-06-03T12:46:05.539Z"
   },
   {
    "duration": 3,
    "start_time": "2023-06-03T12:46:28.114Z"
   },
   {
    "duration": 2,
    "start_time": "2023-06-03T12:46:34.914Z"
   },
   {
    "duration": 48,
    "start_time": "2023-06-03T12:46:35.446Z"
   },
   {
    "duration": 11,
    "start_time": "2023-06-03T12:47:28.841Z"
   },
   {
    "duration": 4,
    "start_time": "2023-06-03T12:47:30.168Z"
   },
   {
    "duration": 3,
    "start_time": "2023-06-03T12:47:30.929Z"
   },
   {
    "duration": 50,
    "start_time": "2023-06-03T12:47:31.622Z"
   },
   {
    "duration": 11,
    "start_time": "2023-06-03T12:48:24.806Z"
   },
   {
    "duration": 3,
    "start_time": "2023-06-03T12:48:26.114Z"
   },
   {
    "duration": 43,
    "start_time": "2023-06-03T12:48:27.667Z"
   },
   {
    "duration": 12,
    "start_time": "2023-06-03T12:49:01.922Z"
   },
   {
    "duration": 4,
    "start_time": "2023-06-03T12:49:02.629Z"
   },
   {
    "duration": 47,
    "start_time": "2023-06-03T12:49:03.214Z"
   },
   {
    "duration": 12,
    "start_time": "2023-06-03T12:49:21.526Z"
   },
   {
    "duration": 4,
    "start_time": "2023-06-03T12:49:22.061Z"
   },
   {
    "duration": 64,
    "start_time": "2023-06-03T12:49:22.404Z"
   },
   {
    "duration": 14,
    "start_time": "2023-06-03T12:51:29.143Z"
   },
   {
    "duration": 56,
    "start_time": "2023-06-03T12:51:29.813Z"
   },
   {
    "duration": 12,
    "start_time": "2023-06-03T12:51:40.813Z"
   },
   {
    "duration": 3,
    "start_time": "2023-06-03T12:51:42.149Z"
   },
   {
    "duration": 8,
    "start_time": "2023-06-03T12:51:43.131Z"
   },
   {
    "duration": 47,
    "start_time": "2023-06-03T12:51:51.821Z"
   },
   {
    "duration": 48,
    "start_time": "2023-06-03T12:52:21.212Z"
   },
   {
    "duration": 9,
    "start_time": "2023-06-03T12:52:27.562Z"
   },
   {
    "duration": 3,
    "start_time": "2023-06-03T12:52:28.874Z"
   },
   {
    "duration": 52,
    "start_time": "2023-06-03T12:52:29.918Z"
   },
   {
    "duration": 11,
    "start_time": "2023-06-03T12:52:45.954Z"
   },
   {
    "duration": 4,
    "start_time": "2023-06-03T12:52:47.021Z"
   },
   {
    "duration": 47,
    "start_time": "2023-06-03T12:52:47.452Z"
   },
   {
    "duration": 1741,
    "start_time": "2023-06-03T20:39:03.220Z"
   },
   {
    "duration": 4146,
    "start_time": "2023-06-03T20:39:04.964Z"
   },
   {
    "duration": 4,
    "start_time": "2023-06-03T20:39:09.111Z"
   },
   {
    "duration": 4,
    "start_time": "2023-06-03T20:39:09.117Z"
   },
   {
    "duration": 109,
    "start_time": "2023-06-03T20:39:09.122Z"
   },
   {
    "duration": 4,
    "start_time": "2023-06-03T20:39:09.233Z"
   },
   {
    "duration": 23,
    "start_time": "2023-06-03T20:39:09.238Z"
   },
   {
    "duration": 246,
    "start_time": "2023-06-03T20:39:09.271Z"
   },
   {
    "duration": 13,
    "start_time": "2023-06-03T20:39:09.519Z"
   },
   {
    "duration": 119,
    "start_time": "2023-06-03T20:39:09.550Z"
   },
   {
    "duration": 11,
    "start_time": "2023-06-03T20:39:09.677Z"
   },
   {
    "duration": 353,
    "start_time": "2023-06-03T20:39:09.690Z"
   },
   {
    "duration": 746,
    "start_time": "2023-06-03T20:39:10.045Z"
   },
   {
    "duration": 118,
    "start_time": "2023-06-03T20:39:10.793Z"
   },
   {
    "duration": 165,
    "start_time": "2023-06-03T20:39:10.913Z"
   },
   {
    "duration": 7,
    "start_time": "2023-06-03T20:39:11.079Z"
   },
   {
    "duration": 8,
    "start_time": "2023-06-03T20:39:11.088Z"
   },
   {
    "duration": 1560,
    "start_time": "2023-06-03T20:39:11.098Z"
   },
   {
    "duration": 5,
    "start_time": "2023-06-03T20:39:12.660Z"
   },
   {
    "duration": 20,
    "start_time": "2023-06-03T20:39:12.667Z"
   },
   {
    "duration": 18,
    "start_time": "2023-06-03T20:39:12.688Z"
   },
   {
    "duration": 6,
    "start_time": "2023-06-03T20:39:12.708Z"
   },
   {
    "duration": 75,
    "start_time": "2023-06-03T20:39:12.715Z"
   },
   {
    "duration": 64,
    "start_time": "2023-06-03T20:39:12.792Z"
   },
   {
    "duration": 124,
    "start_time": "2023-06-03T20:39:12.861Z"
   },
   {
    "duration": 0,
    "start_time": "2023-06-03T20:39:12.987Z"
   },
   {
    "duration": 0,
    "start_time": "2023-06-03T20:39:12.988Z"
   },
   {
    "duration": 9,
    "start_time": "2023-06-03T20:40:12.235Z"
   },
   {
    "duration": 6,
    "start_time": "2023-06-03T20:40:27.473Z"
   },
   {
    "duration": 6330,
    "start_time": "2023-06-03T20:40:28.214Z"
   },
   {
    "duration": 6217,
    "start_time": "2023-06-03T20:40:45.984Z"
   },
   {
    "duration": 6388,
    "start_time": "2023-06-03T20:41:10.985Z"
   },
   {
    "duration": 6401,
    "start_time": "2023-06-03T20:41:31.817Z"
   },
   {
    "duration": 20,
    "start_time": "2023-06-03T20:42:01.444Z"
   },
   {
    "duration": 87,
    "start_time": "2023-06-03T20:42:11.383Z"
   },
   {
    "duration": 124188,
    "start_time": "2023-06-03T20:43:18.904Z"
   },
   {
    "duration": 6167,
    "start_time": "2023-06-03T20:45:28.686Z"
   },
   {
    "duration": 5,
    "start_time": "2023-06-03T20:48:37.478Z"
   },
   {
    "duration": 3,
    "start_time": "2023-06-03T20:49:31.979Z"
   },
   {
    "duration": 2480,
    "start_time": "2023-06-03T20:49:51.132Z"
   },
   {
    "duration": 4,
    "start_time": "2023-06-03T20:51:08.988Z"
   },
   {
    "duration": 746,
    "start_time": "2023-06-03T20:51:10.642Z"
   },
   {
    "duration": 57,
    "start_time": "2023-06-03T20:51:36.516Z"
   },
   {
    "duration": 13,
    "start_time": "2023-06-03T20:52:00.586Z"
   },
   {
    "duration": 3,
    "start_time": "2023-06-03T20:52:17.939Z"
   },
   {
    "duration": 8,
    "start_time": "2023-06-03T20:52:18.380Z"
   },
   {
    "duration": 701,
    "start_time": "2023-06-03T20:52:38.214Z"
   },
   {
    "duration": 786,
    "start_time": "2023-06-03T20:53:01.045Z"
   },
   {
    "duration": 4338,
    "start_time": "2023-06-03T20:53:22.180Z"
   },
   {
    "duration": 1331,
    "start_time": "2023-06-03T20:53:30.323Z"
   },
   {
    "duration": 720,
    "start_time": "2023-06-03T20:53:42.804Z"
   },
   {
    "duration": 724,
    "start_time": "2023-06-03T20:54:23.624Z"
   },
   {
    "duration": 734,
    "start_time": "2023-06-03T20:54:52.582Z"
   },
   {
    "duration": 1310,
    "start_time": "2023-06-03T20:55:19.704Z"
   },
   {
    "duration": 64,
    "start_time": "2023-06-03T20:55:51.936Z"
   },
   {
    "duration": 1386,
    "start_time": "2023-06-03T20:56:01.986Z"
   },
   {
    "duration": 3940,
    "start_time": "2023-06-03T20:56:03.380Z"
   },
   {
    "duration": 4,
    "start_time": "2023-06-03T20:56:07.323Z"
   },
   {
    "duration": 7,
    "start_time": "2023-06-03T20:56:07.329Z"
   },
   {
    "duration": 115,
    "start_time": "2023-06-03T20:56:07.338Z"
   },
   {
    "duration": 6,
    "start_time": "2023-06-03T20:56:07.455Z"
   },
   {
    "duration": 11,
    "start_time": "2023-06-03T20:56:07.464Z"
   },
   {
    "duration": 234,
    "start_time": "2023-06-03T20:56:07.477Z"
   },
   {
    "duration": 13,
    "start_time": "2023-06-03T20:56:07.712Z"
   },
   {
    "duration": 141,
    "start_time": "2023-06-03T20:56:07.727Z"
   },
   {
    "duration": 12,
    "start_time": "2023-06-03T20:56:07.882Z"
   },
   {
    "duration": 390,
    "start_time": "2023-06-03T20:56:07.896Z"
   },
   {
    "duration": 734,
    "start_time": "2023-06-03T20:56:08.295Z"
   },
   {
    "duration": 123,
    "start_time": "2023-06-03T20:56:09.032Z"
   },
   {
    "duration": 151,
    "start_time": "2023-06-03T20:56:09.160Z"
   },
   {
    "duration": 5,
    "start_time": "2023-06-03T20:56:09.313Z"
   },
   {
    "duration": 10,
    "start_time": "2023-06-03T20:56:09.319Z"
   },
   {
    "duration": 1561,
    "start_time": "2023-06-03T20:56:09.330Z"
   },
   {
    "duration": 6,
    "start_time": "2023-06-03T20:56:10.892Z"
   },
   {
    "duration": 19,
    "start_time": "2023-06-03T20:56:10.899Z"
   },
   {
    "duration": 40,
    "start_time": "2023-06-03T20:56:10.920Z"
   },
   {
    "duration": 11,
    "start_time": "2023-06-03T20:56:10.962Z"
   },
   {
    "duration": 57,
    "start_time": "2023-06-03T20:56:10.981Z"
   },
   {
    "duration": 66,
    "start_time": "2023-06-03T20:56:11.040Z"
   },
   {
    "duration": 6259,
    "start_time": "2023-06-03T20:56:11.108Z"
   },
   {
    "duration": 186,
    "start_time": "2023-06-03T20:56:17.368Z"
   },
   {
    "duration": 7,
    "start_time": "2023-06-03T20:56:17.556Z"
   },
   {
    "duration": 17,
    "start_time": "2023-06-03T20:56:17.568Z"
   },
   {
    "duration": 48,
    "start_time": "2023-06-03T20:56:40.280Z"
   },
   {
    "duration": 921,
    "start_time": "2023-06-03T20:56:48.790Z"
   },
   {
    "duration": 459,
    "start_time": "2023-06-03T20:56:53.784Z"
   },
   {
    "duration": 3826,
    "start_time": "2023-06-03T20:56:55.183Z"
   },
   {
    "duration": 4,
    "start_time": "2023-06-03T20:56:59.011Z"
   },
   {
    "duration": 8,
    "start_time": "2023-06-03T20:56:59.016Z"
   },
   {
    "duration": 128,
    "start_time": "2023-06-03T20:56:59.026Z"
   },
   {
    "duration": 8,
    "start_time": "2023-06-03T20:56:59.156Z"
   },
   {
    "duration": 12,
    "start_time": "2023-06-03T20:56:59.165Z"
   },
   {
    "duration": 248,
    "start_time": "2023-06-03T20:56:59.180Z"
   },
   {
    "duration": 24,
    "start_time": "2023-06-03T20:56:59.430Z"
   },
   {
    "duration": 136,
    "start_time": "2023-06-03T20:56:59.455Z"
   },
   {
    "duration": 10,
    "start_time": "2023-06-03T20:56:59.594Z"
   },
   {
    "duration": 376,
    "start_time": "2023-06-03T20:56:59.606Z"
   },
   {
    "duration": 753,
    "start_time": "2023-06-03T20:56:59.984Z"
   },
   {
    "duration": 130,
    "start_time": "2023-06-03T20:57:00.738Z"
   },
   {
    "duration": 155,
    "start_time": "2023-06-03T20:57:00.870Z"
   },
   {
    "duration": 5,
    "start_time": "2023-06-03T20:57:01.027Z"
   },
   {
    "duration": 38,
    "start_time": "2023-06-03T20:57:01.034Z"
   },
   {
    "duration": 1735,
    "start_time": "2023-06-03T20:57:01.082Z"
   },
   {
    "duration": 6,
    "start_time": "2023-06-03T20:57:02.819Z"
   },
   {
    "duration": 18,
    "start_time": "2023-06-03T20:57:07.285Z"
   },
   {
    "duration": 29,
    "start_time": "2023-06-03T20:57:08.443Z"
   },
   {
    "duration": 3,
    "start_time": "2023-06-03T20:57:10.607Z"
   },
   {
    "duration": 66,
    "start_time": "2023-06-03T20:57:10.905Z"
   },
   {
    "duration": 4,
    "start_time": "2023-06-03T20:57:17.616Z"
   },
   {
    "duration": 6336,
    "start_time": "2023-06-03T20:57:19.543Z"
   },
   {
    "duration": 76,
    "start_time": "2023-06-03T20:57:29.309Z"
   },
   {
    "duration": 4,
    "start_time": "2023-06-03T20:57:32.943Z"
   },
   {
    "duration": 7,
    "start_time": "2023-06-03T20:57:33.808Z"
   },
   {
    "duration": 69,
    "start_time": "2023-06-03T20:57:53.480Z"
   },
   {
    "duration": 34,
    "start_time": "2023-06-05T08:23:56.856Z"
   },
   {
    "duration": 71,
    "start_time": "2023-06-05T08:24:00.995Z"
   },
   {
    "duration": 1518,
    "start_time": "2023-06-06T21:06:33.961Z"
   },
   {
    "duration": 3215,
    "start_time": "2023-06-06T21:06:36.777Z"
   },
   {
    "duration": 4,
    "start_time": "2023-06-06T21:06:39.994Z"
   },
   {
    "duration": 79,
    "start_time": "2023-06-06T21:06:39.999Z"
   },
   {
    "duration": 224,
    "start_time": "2023-06-06T21:06:41.420Z"
   },
   {
    "duration": 3,
    "start_time": "2023-06-06T21:06:42.322Z"
   },
   {
    "duration": 75,
    "start_time": "2023-06-06T21:06:42.540Z"
   },
   {
    "duration": 2,
    "start_time": "2023-06-06T21:06:44.532Z"
   },
   {
    "duration": 8,
    "start_time": "2023-06-06T21:06:44.900Z"
   },
   {
    "duration": 15,
    "start_time": "2023-06-06T21:06:46.992Z"
   },
   {
    "duration": 87,
    "start_time": "2023-06-06T21:06:47.578Z"
   },
   {
    "duration": 9,
    "start_time": "2023-06-06T21:06:49.647Z"
   },
   {
    "duration": 310,
    "start_time": "2023-06-06T21:06:49.992Z"
   },
   {
    "duration": 678,
    "start_time": "2023-06-06T21:06:52.011Z"
   },
   {
    "duration": 105,
    "start_time": "2023-06-06T21:06:53.948Z"
   },
   {
    "duration": 135,
    "start_time": "2023-06-06T21:06:54.892Z"
   },
   {
    "duration": 103,
    "start_time": "2023-06-06T21:07:58.896Z"
   },
   {
    "duration": 6,
    "start_time": "2023-06-06T21:08:19.413Z"
   },
   {
    "duration": 8,
    "start_time": "2023-06-06T21:11:17.092Z"
   },
   {
    "duration": 620,
    "start_time": "2023-06-06T21:17:47.583Z"
   },
   {
    "duration": 728,
    "start_time": "2023-06-06T21:19:47.716Z"
   },
   {
    "duration": 647,
    "start_time": "2023-06-06T21:20:13.995Z"
   },
   {
    "duration": 689,
    "start_time": "2023-06-06T21:20:21.418Z"
   },
   {
    "duration": 552,
    "start_time": "2023-06-06T21:20:27.246Z"
   },
   {
    "duration": 569,
    "start_time": "2023-06-06T21:20:36.853Z"
   },
   {
    "duration": 95,
    "start_time": "2023-06-06T21:21:11.348Z"
   },
   {
    "duration": 95,
    "start_time": "2023-06-06T21:22:05.568Z"
   },
   {
    "duration": 10,
    "start_time": "2023-06-06T21:22:47.796Z"
   },
   {
    "duration": 8,
    "start_time": "2023-06-06T21:23:06.302Z"
   },
   {
    "duration": 271,
    "start_time": "2023-06-06T21:23:14.646Z"
   },
   {
    "duration": 94,
    "start_time": "2023-06-06T21:23:22.304Z"
   },
   {
    "duration": 137,
    "start_time": "2023-06-06T21:23:23.304Z"
   },
   {
    "duration": 590,
    "start_time": "2023-06-06T21:23:28.467Z"
   },
   {
    "duration": 109,
    "start_time": "2023-06-06T21:23:30.955Z"
   },
   {
    "duration": 128,
    "start_time": "2023-06-06T21:23:31.901Z"
   },
   {
    "duration": 127,
    "start_time": "2023-06-06T21:23:53.752Z"
   },
   {
    "duration": 103,
    "start_time": "2023-06-06T21:24:06.734Z"
   },
   {
    "duration": 92,
    "start_time": "2023-06-06T21:24:49.844Z"
   },
   {
    "duration": 119,
    "start_time": "2023-06-06T21:24:50.612Z"
   },
   {
    "duration": 241,
    "start_time": "2023-06-06T21:25:22.469Z"
   },
   {
    "duration": 101,
    "start_time": "2023-06-06T21:25:42.257Z"
   },
   {
    "duration": 128,
    "start_time": "2023-06-06T21:25:42.970Z"
   },
   {
    "duration": 107,
    "start_time": "2023-06-06T21:26:29.400Z"
   },
   {
    "duration": 104,
    "start_time": "2023-06-06T21:27:14.659Z"
   },
   {
    "duration": 98,
    "start_time": "2023-06-06T21:28:52.104Z"
   },
   {
    "duration": 109,
    "start_time": "2023-06-06T21:29:19.359Z"
   },
   {
    "duration": 9,
    "start_time": "2023-06-06T21:30:15.313Z"
   },
   {
    "duration": 15,
    "start_time": "2023-06-06T21:30:21.508Z"
   },
   {
    "duration": 62,
    "start_time": "2023-06-06T21:30:26.708Z"
   },
   {
    "duration": 116,
    "start_time": "2023-06-06T21:30:31.104Z"
   },
   {
    "duration": 113,
    "start_time": "2023-06-06T21:30:38.403Z"
   },
   {
    "duration": 5,
    "start_time": "2023-06-06T21:31:25.105Z"
   },
   {
    "duration": 5,
    "start_time": "2023-06-06T21:31:59.552Z"
   },
   {
    "duration": 6,
    "start_time": "2023-06-06T21:32:21.307Z"
   },
   {
    "duration": 4,
    "start_time": "2023-06-06T21:46:36.000Z"
   },
   {
    "duration": 4,
    "start_time": "2023-06-06T21:46:48.209Z"
   },
   {
    "duration": 9,
    "start_time": "2023-06-06T22:09:09.688Z"
   },
   {
    "duration": 67,
    "start_time": "2023-06-06T22:09:38.904Z"
   },
   {
    "duration": 15,
    "start_time": "2023-06-06T22:10:09.558Z"
   },
   {
    "duration": 13,
    "start_time": "2023-06-06T22:11:37.913Z"
   },
   {
    "duration": 366,
    "start_time": "2023-06-06T22:11:48.518Z"
   },
   {
    "duration": 378,
    "start_time": "2023-06-06T22:12:07.742Z"
   },
   {
    "duration": 418,
    "start_time": "2023-06-06T22:12:23.559Z"
   },
   {
    "duration": 357,
    "start_time": "2023-06-06T22:13:36.295Z"
   },
   {
    "duration": 360,
    "start_time": "2023-06-06T22:13:47.051Z"
   },
   {
    "duration": 523,
    "start_time": "2023-06-06T22:15:14.402Z"
   },
   {
    "duration": 429,
    "start_time": "2023-06-06T22:15:22.203Z"
   },
   {
    "duration": 381,
    "start_time": "2023-06-06T22:15:35.035Z"
   },
   {
    "duration": 373,
    "start_time": "2023-06-06T22:16:11.952Z"
   },
   {
    "duration": 396,
    "start_time": "2023-06-06T22:16:25.427Z"
   },
   {
    "duration": 408,
    "start_time": "2023-06-06T22:16:31.219Z"
   },
   {
    "duration": 343,
    "start_time": "2023-06-06T22:16:38.393Z"
   },
   {
    "duration": 348,
    "start_time": "2023-06-06T22:16:48.591Z"
   },
   {
    "duration": 390,
    "start_time": "2023-06-06T22:17:08.303Z"
   },
   {
    "duration": 3,
    "start_time": "2023-06-06T22:17:21.488Z"
   },
   {
    "duration": 812,
    "start_time": "2023-06-06T22:17:29.020Z"
   },
   {
    "duration": 386,
    "start_time": "2023-06-06T22:17:30.748Z"
   },
   {
    "duration": 618,
    "start_time": "2023-06-06T22:17:43.693Z"
   },
   {
    "duration": 480,
    "start_time": "2023-06-06T22:17:54.403Z"
   },
   {
    "duration": 384,
    "start_time": "2023-06-06T22:17:55.824Z"
   },
   {
    "duration": 701,
    "start_time": "2023-06-06T22:19:36.844Z"
   },
   {
    "duration": 379,
    "start_time": "2023-06-06T22:19:46.053Z"
   },
   {
    "duration": 64,
    "start_time": "2023-06-06T22:20:46.637Z"
   },
   {
    "duration": 3,
    "start_time": "2023-06-06T22:35:57.294Z"
   },
   {
    "duration": 57,
    "start_time": "2023-06-06T22:36:40.206Z"
   },
   {
    "duration": 3,
    "start_time": "2023-06-06T22:38:05.305Z"
   },
   {
    "duration": 2,
    "start_time": "2023-06-06T22:39:17.430Z"
   },
   {
    "duration": 3,
    "start_time": "2023-06-06T22:39:55.307Z"
   },
   {
    "duration": 1280,
    "start_time": "2023-06-06T22:59:58.287Z"
   },
   {
    "duration": 716,
    "start_time": "2023-06-06T22:59:59.569Z"
   },
   {
    "duration": 4,
    "start_time": "2023-06-06T23:00:00.286Z"
   },
   {
    "duration": 94,
    "start_time": "2023-06-06T23:00:00.291Z"
   },
   {
    "duration": 246,
    "start_time": "2023-06-06T23:00:00.388Z"
   },
   {
    "duration": 4,
    "start_time": "2023-06-06T23:00:00.636Z"
   },
   {
    "duration": 104,
    "start_time": "2023-06-06T23:00:00.641Z"
   },
   {
    "duration": 4,
    "start_time": "2023-06-06T23:00:00.746Z"
   },
   {
    "duration": 40,
    "start_time": "2023-06-06T23:00:00.752Z"
   },
   {
    "duration": 26,
    "start_time": "2023-06-06T23:00:00.794Z"
   },
   {
    "duration": 102,
    "start_time": "2023-06-06T23:00:00.822Z"
   },
   {
    "duration": 30,
    "start_time": "2023-06-06T23:00:00.926Z"
   },
   {
    "duration": 333,
    "start_time": "2023-06-06T23:00:00.958Z"
   },
   {
    "duration": 575,
    "start_time": "2023-06-06T23:00:01.295Z"
   },
   {
    "duration": 361,
    "start_time": "2023-06-06T23:00:01.872Z"
   },
   {
    "duration": 15,
    "start_time": "2023-06-06T23:00:02.235Z"
   },
   {
    "duration": 1463,
    "start_time": "2023-06-06T23:00:02.252Z"
   },
   {
    "duration": 5,
    "start_time": "2023-06-06T23:00:03.716Z"
   },
   {
    "duration": 30,
    "start_time": "2023-06-06T23:00:03.723Z"
   },
   {
    "duration": 18,
    "start_time": "2023-06-06T23:00:03.755Z"
   },
   {
    "duration": 24,
    "start_time": "2023-06-06T23:00:03.775Z"
   },
   {
    "duration": 5,
    "start_time": "2023-06-06T23:00:03.801Z"
   },
   {
    "duration": 98,
    "start_time": "2023-06-06T23:00:03.807Z"
   },
   {
    "duration": 4,
    "start_time": "2023-06-06T23:00:03.907Z"
   },
   {
    "duration": 7,
    "start_time": "2023-06-06T23:00:03.912Z"
   },
   {
    "duration": 5663,
    "start_time": "2023-06-06T23:00:03.921Z"
   },
   {
    "duration": 13602,
    "start_time": "2023-06-06T23:00:09.650Z"
   },
   {
    "duration": 98,
    "start_time": "2023-06-06T23:00:23.253Z"
   },
   {
    "duration": 9,
    "start_time": "2023-06-06T23:00:23.353Z"
   },
   {
    "duration": 54412,
    "start_time": "2023-06-06T23:00:23.363Z"
   },
   {
    "duration": 0,
    "start_time": "2023-06-06T23:01:17.776Z"
   },
   {
    "duration": 0,
    "start_time": "2023-06-06T23:01:17.778Z"
   },
   {
    "duration": 0,
    "start_time": "2023-06-06T23:01:17.779Z"
   },
   {
    "duration": 0,
    "start_time": "2023-06-06T23:01:17.780Z"
   },
   {
    "duration": 0,
    "start_time": "2023-06-06T23:01:17.781Z"
   },
   {
    "duration": 6,
    "start_time": "2023-06-06T23:01:19.433Z"
   },
   {
    "duration": 8,
    "start_time": "2023-06-06T23:01:20.187Z"
   },
   {
    "duration": 11266,
    "start_time": "2023-06-06T23:01:22.503Z"
   },
   {
    "duration": 11044,
    "start_time": "2023-06-06T23:01:36.700Z"
   },
   {
    "duration": 32973,
    "start_time": "2023-06-06T23:01:47.746Z"
   },
   {
    "duration": 28421,
    "start_time": "2023-06-06T23:02:52.616Z"
   },
   {
    "duration": 27816,
    "start_time": "2023-06-06T23:03:21.039Z"
   },
   {
    "duration": 405959,
    "start_time": "2023-06-06T23:03:48.857Z"
   },
   {
    "duration": 2148,
    "start_time": "2023-06-06T23:10:43.223Z"
   },
   {
    "duration": 24,
    "start_time": "2023-06-06T23:10:51.678Z"
   },
   {
    "duration": 9,
    "start_time": "2023-06-06T23:11:47.580Z"
   },
   {
    "duration": 10,
    "start_time": "2023-06-06T23:12:00.536Z"
   },
   {
    "duration": 9,
    "start_time": "2023-06-06T23:13:13.888Z"
   },
   {
    "duration": 62,
    "start_time": "2023-06-06T23:15:40.983Z"
   },
   {
    "duration": 721,
    "start_time": "2023-06-06T23:15:49.304Z"
   },
   {
    "duration": 4,
    "start_time": "2023-06-06T23:16:01.782Z"
   },
   {
    "duration": 54,
    "start_time": "2023-06-06T23:16:04.579Z"
   },
   {
    "duration": 211,
    "start_time": "2023-06-06T23:16:05.727Z"
   },
   {
    "duration": 4,
    "start_time": "2023-06-06T23:16:09.242Z"
   },
   {
    "duration": 76,
    "start_time": "2023-06-06T23:16:35.084Z"
   },
   {
    "duration": 3,
    "start_time": "2023-06-06T23:16:37.607Z"
   },
   {
    "duration": 7,
    "start_time": "2023-06-06T23:16:43.279Z"
   },
   {
    "duration": 14,
    "start_time": "2023-06-06T23:17:00.883Z"
   },
   {
    "duration": 89,
    "start_time": "2023-06-06T23:17:02.591Z"
   },
   {
    "duration": 79,
    "start_time": "2023-06-06T23:17:06.441Z"
   },
   {
    "duration": 9,
    "start_time": "2023-06-06T23:17:12.424Z"
   },
   {
    "duration": 284,
    "start_time": "2023-06-06T23:17:12.638Z"
   },
   {
    "duration": 612,
    "start_time": "2023-06-06T23:17:14.425Z"
   },
   {
    "duration": 389,
    "start_time": "2023-06-06T23:17:15.039Z"
   },
   {
    "duration": 10,
    "start_time": "2023-06-06T23:17:22.614Z"
   },
   {
    "duration": 1352,
    "start_time": "2023-06-06T23:17:24.381Z"
   },
   {
    "duration": 7,
    "start_time": "2023-06-06T23:17:34.109Z"
   },
   {
    "duration": 14,
    "start_time": "2023-06-06T23:17:37.644Z"
   },
   {
    "duration": 13,
    "start_time": "2023-06-06T23:18:09.676Z"
   },
   {
    "duration": 22,
    "start_time": "2023-06-06T23:18:10.581Z"
   },
   {
    "duration": 5,
    "start_time": "2023-06-06T23:18:11.746Z"
   },
   {
    "duration": 64,
    "start_time": "2023-06-06T23:18:13.413Z"
   },
   {
    "duration": 4,
    "start_time": "2023-06-06T23:18:16.282Z"
   },
   {
    "duration": 2,
    "start_time": "2023-06-06T23:18:35.148Z"
   },
   {
    "duration": 5559,
    "start_time": "2023-06-06T23:18:37.593Z"
   },
   {
    "duration": 3,
    "start_time": "2023-06-06T23:18:52.923Z"
   },
   {
    "duration": 5581,
    "start_time": "2023-06-06T23:18:55.471Z"
   },
   {
    "duration": 3,
    "start_time": "2023-06-06T23:19:17.381Z"
   },
   {
    "duration": 5548,
    "start_time": "2023-06-06T23:19:20.605Z"
   },
   {
    "duration": 3,
    "start_time": "2023-06-06T23:19:34.279Z"
   },
   {
    "duration": 2,
    "start_time": "2023-06-06T23:19:35.990Z"
   },
   {
    "duration": 5508,
    "start_time": "2023-06-06T23:19:37.476Z"
   },
   {
    "duration": 13573,
    "start_time": "2023-06-06T23:19:42.986Z"
   },
   {
    "duration": 6,
    "start_time": "2023-06-06T23:20:27.618Z"
   }
  ],
  "kernelspec": {
   "display_name": "Python 3 (ipykernel)",
   "language": "python",
   "name": "python3"
  },
  "language_info": {
   "codemirror_mode": {
    "name": "ipython",
    "version": 3
   },
   "file_extension": ".py",
   "mimetype": "text/x-python",
   "name": "python",
   "nbconvert_exporter": "python",
   "pygments_lexer": "ipython3",
   "version": "3.10.9"
  },
  "toc": {
   "base_numbering": 1,
   "nav_menu": {},
   "number_sections": true,
   "sideBar": true,
   "skip_h1_title": true,
   "title_cell": "Содержание",
   "title_sidebar": "Contents",
   "toc_cell": true,
   "toc_position": {
    "height": "calc(100% - 180px)",
    "left": "10px",
    "top": "150px",
    "width": "165px"
   },
   "toc_section_display": true,
   "toc_window_display": true
  }
 },
 "nbformat": 4,
 "nbformat_minor": 2
}
