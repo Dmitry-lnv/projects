{
 "cells": [
  {
   "cell_type": "markdown",
   "id": "c6793a52",
   "metadata": {},
   "source": [
    "# Cтатистическая проверка гипотез для сервиса аренды самокатов\n",
    "\n",
    "Задача: обработать и проанализировать данные, проверить 3 гипотезы:\n",
    "   - тратят ли пользователи с подпиской больше времени на поездки чем пользователи без подписки\n",
    "   - среднее расстояние, которое проезжают пользователи с подпиской за одну поездку, меньше 3130 метров \n",
    "   - выручка от пользователей с подпиской выше, чем выручка от пользователей без подписки. \n",
    "\n",
    "\n",
    "Описание данных\n",
    "\n",
    "Информация о пользователях, поездках и подписках предтавлена в 3-х файлах:\n",
    "   - users_go.csv - информация о пользователях:\n",
    "       - user_id - идентификатор пользователя\n",
    "       - name - имя пользователя\n",
    "       - city - город пользователя\n",
    "       - subscription_type - тип подписки (Ultra - подписка, free - отсутствие подписки)\n",
    "   \n",
    "   - rides_go.csv - информация о поездках:\n",
    "       - user_id - идентификатор пользователя\n",
    "       - distanc - расстояние поездки\n",
    "       - duration - длительность поездки\n",
    "       - date - дата поездки\n",
    "       \n",
    "   - subscriptions_go.csv - информация о подписках\n",
    "       - subscription_type - тип подписки (ultra - подписка, free - отсутствие подписки)\n",
    "       - minute_price - стоимость минуты поездки\n",
    "       - start_ride_price - стоимость начала поездки\n",
    "       - subscription_fee - стоимость месяцной подписки\n"
   ]
  },
  {
   "cell_type": "code",
   "execution_count": 1,
   "id": "72576667",
   "metadata": {},
   "outputs": [],
   "source": [
    "import pandas as pd\n",
    "import numpy as np\n",
    "from scipy import stats as st\n",
    "import matplotlib.pyplot as plt\n",
    "\n",
    "from statistics import stdev as stdev\n"
   ]
  },
  {
   "cell_type": "markdown",
   "id": "c42cbe00",
   "metadata": {},
   "source": [
    "#### Шаг 1. Загрузка данных"
   ]
  },
  {
   "cell_type": "markdown",
   "id": "970a6746",
   "metadata": {},
   "source": [
    "##### Считайте CSV-файлы с данными с помощью библиотеки Pandas и сохраните их в датафреймы"
   ]
  },
  {
   "cell_type": "code",
   "execution_count": 2,
   "id": "eff9f206",
   "metadata": {
    "scrolled": false
   },
   "outputs": [
    {
     "name": "stdout",
     "output_type": "stream",
     "text": [
      "________________users_go.csv________________\n",
      "\n",
      "<class 'pandas.core.frame.DataFrame'>\n",
      "RangeIndex: 1565 entries, 0 to 1564\n",
      "Data columns (total 5 columns):\n",
      " #   Column             Non-Null Count  Dtype \n",
      "---  ------             --------------  ----- \n",
      " 0   user_id            1565 non-null   int64 \n",
      " 1   name               1565 non-null   object\n",
      " 2   age                1565 non-null   int64 \n",
      " 3   city               1565 non-null   object\n",
      " 4   subscription_type  1565 non-null   object\n",
      "dtypes: int64(2), object(3)\n",
      "memory usage: 61.3+ KB\n"
     ]
    },
    {
     "data": {
      "text/html": [
       "<div>\n",
       "<style scoped>\n",
       "    .dataframe tbody tr th:only-of-type {\n",
       "        vertical-align: middle;\n",
       "    }\n",
       "\n",
       "    .dataframe tbody tr th {\n",
       "        vertical-align: top;\n",
       "    }\n",
       "\n",
       "    .dataframe thead th {\n",
       "        text-align: right;\n",
       "    }\n",
       "</style>\n",
       "<table border=\"1\" class=\"dataframe\">\n",
       "  <thead>\n",
       "    <tr style=\"text-align: right;\">\n",
       "      <th></th>\n",
       "      <th>user_id</th>\n",
       "      <th>name</th>\n",
       "      <th>age</th>\n",
       "      <th>city</th>\n",
       "      <th>subscription_type</th>\n",
       "    </tr>\n",
       "  </thead>\n",
       "  <tbody>\n",
       "    <tr>\n",
       "      <th>0</th>\n",
       "      <td>1</td>\n",
       "      <td>Кира</td>\n",
       "      <td>22</td>\n",
       "      <td>Тюмень</td>\n",
       "      <td>ultra</td>\n",
       "    </tr>\n",
       "    <tr>\n",
       "      <th>1</th>\n",
       "      <td>2</td>\n",
       "      <td>Станислав</td>\n",
       "      <td>31</td>\n",
       "      <td>Омск</td>\n",
       "      <td>ultra</td>\n",
       "    </tr>\n",
       "    <tr>\n",
       "      <th>2</th>\n",
       "      <td>3</td>\n",
       "      <td>Алексей</td>\n",
       "      <td>20</td>\n",
       "      <td>Москва</td>\n",
       "      <td>ultra</td>\n",
       "    </tr>\n",
       "    <tr>\n",
       "      <th>3</th>\n",
       "      <td>4</td>\n",
       "      <td>Константин</td>\n",
       "      <td>26</td>\n",
       "      <td>Ростов-на-Дону</td>\n",
       "      <td>ultra</td>\n",
       "    </tr>\n",
       "    <tr>\n",
       "      <th>4</th>\n",
       "      <td>5</td>\n",
       "      <td>Адель</td>\n",
       "      <td>28</td>\n",
       "      <td>Омск</td>\n",
       "      <td>ultra</td>\n",
       "    </tr>\n",
       "  </tbody>\n",
       "</table>\n",
       "</div>"
      ],
      "text/plain": [
       "   user_id        name  age            city subscription_type\n",
       "0        1        Кира   22          Тюмень             ultra\n",
       "1        2   Станислав   31            Омск             ultra\n",
       "2        3     Алексей   20          Москва             ultra\n",
       "3        4  Константин   26  Ростов-на-Дону             ultra\n",
       "4        5       Адель   28            Омск             ultra"
      ]
     },
     "metadata": {},
     "output_type": "display_data"
    },
    {
     "name": "stdout",
     "output_type": "stream",
     "text": [
      "\n",
      "\n",
      "\n",
      "________________rides_go.csv________________\n",
      "\n",
      "<class 'pandas.core.frame.DataFrame'>\n",
      "RangeIndex: 18068 entries, 0 to 18067\n",
      "Data columns (total 4 columns):\n",
      " #   Column    Non-Null Count  Dtype  \n",
      "---  ------    --------------  -----  \n",
      " 0   user_id   18068 non-null  int64  \n",
      " 1   distance  18068 non-null  float64\n",
      " 2   duration  18068 non-null  float64\n",
      " 3   date      18068 non-null  object \n",
      "dtypes: float64(2), int64(1), object(1)\n",
      "memory usage: 564.8+ KB\n"
     ]
    },
    {
     "data": {
      "text/html": [
       "<div>\n",
       "<style scoped>\n",
       "    .dataframe tbody tr th:only-of-type {\n",
       "        vertical-align: middle;\n",
       "    }\n",
       "\n",
       "    .dataframe tbody tr th {\n",
       "        vertical-align: top;\n",
       "    }\n",
       "\n",
       "    .dataframe thead th {\n",
       "        text-align: right;\n",
       "    }\n",
       "</style>\n",
       "<table border=\"1\" class=\"dataframe\">\n",
       "  <thead>\n",
       "    <tr style=\"text-align: right;\">\n",
       "      <th></th>\n",
       "      <th>user_id</th>\n",
       "      <th>distance</th>\n",
       "      <th>duration</th>\n",
       "      <th>date</th>\n",
       "    </tr>\n",
       "  </thead>\n",
       "  <tbody>\n",
       "    <tr>\n",
       "      <th>0</th>\n",
       "      <td>1</td>\n",
       "      <td>4409.919140</td>\n",
       "      <td>25.599769</td>\n",
       "      <td>2021-01-01</td>\n",
       "    </tr>\n",
       "    <tr>\n",
       "      <th>1</th>\n",
       "      <td>1</td>\n",
       "      <td>2617.592153</td>\n",
       "      <td>15.816871</td>\n",
       "      <td>2021-01-18</td>\n",
       "    </tr>\n",
       "    <tr>\n",
       "      <th>2</th>\n",
       "      <td>1</td>\n",
       "      <td>754.159807</td>\n",
       "      <td>6.232113</td>\n",
       "      <td>2021-04-20</td>\n",
       "    </tr>\n",
       "    <tr>\n",
       "      <th>3</th>\n",
       "      <td>1</td>\n",
       "      <td>2694.783254</td>\n",
       "      <td>18.511000</td>\n",
       "      <td>2021-08-11</td>\n",
       "    </tr>\n",
       "    <tr>\n",
       "      <th>4</th>\n",
       "      <td>1</td>\n",
       "      <td>4028.687306</td>\n",
       "      <td>26.265803</td>\n",
       "      <td>2021-08-28</td>\n",
       "    </tr>\n",
       "  </tbody>\n",
       "</table>\n",
       "</div>"
      ],
      "text/plain": [
       "   user_id     distance   duration        date\n",
       "0        1  4409.919140  25.599769  2021-01-01\n",
       "1        1  2617.592153  15.816871  2021-01-18\n",
       "2        1   754.159807   6.232113  2021-04-20\n",
       "3        1  2694.783254  18.511000  2021-08-11\n",
       "4        1  4028.687306  26.265803  2021-08-28"
      ]
     },
     "metadata": {},
     "output_type": "display_data"
    },
    {
     "name": "stdout",
     "output_type": "stream",
     "text": [
      "\n",
      "\n",
      "\n",
      "____________subscriptions_go.csv____________\n",
      "\n",
      "<class 'pandas.core.frame.DataFrame'>\n",
      "RangeIndex: 2 entries, 0 to 1\n",
      "Data columns (total 4 columns):\n",
      " #   Column             Non-Null Count  Dtype \n",
      "---  ------             --------------  ----- \n",
      " 0   subscription_type  2 non-null      object\n",
      " 1   minute_price       2 non-null      int64 \n",
      " 2   start_ride_price   2 non-null      int64 \n",
      " 3   subscription_fee   2 non-null      int64 \n",
      "dtypes: int64(3), object(1)\n",
      "memory usage: 192.0+ bytes\n"
     ]
    },
    {
     "data": {
      "text/html": [
       "<div>\n",
       "<style scoped>\n",
       "    .dataframe tbody tr th:only-of-type {\n",
       "        vertical-align: middle;\n",
       "    }\n",
       "\n",
       "    .dataframe tbody tr th {\n",
       "        vertical-align: top;\n",
       "    }\n",
       "\n",
       "    .dataframe thead th {\n",
       "        text-align: right;\n",
       "    }\n",
       "</style>\n",
       "<table border=\"1\" class=\"dataframe\">\n",
       "  <thead>\n",
       "    <tr style=\"text-align: right;\">\n",
       "      <th></th>\n",
       "      <th>subscription_type</th>\n",
       "      <th>minute_price</th>\n",
       "      <th>start_ride_price</th>\n",
       "      <th>subscription_fee</th>\n",
       "    </tr>\n",
       "  </thead>\n",
       "  <tbody>\n",
       "    <tr>\n",
       "      <th>0</th>\n",
       "      <td>free</td>\n",
       "      <td>8</td>\n",
       "      <td>50</td>\n",
       "      <td>0</td>\n",
       "    </tr>\n",
       "    <tr>\n",
       "      <th>1</th>\n",
       "      <td>ultra</td>\n",
       "      <td>6</td>\n",
       "      <td>0</td>\n",
       "      <td>199</td>\n",
       "    </tr>\n",
       "  </tbody>\n",
       "</table>\n",
       "</div>"
      ],
      "text/plain": [
       "  subscription_type  minute_price  start_ride_price  subscription_fee\n",
       "0              free             8                50                 0\n",
       "1             ultra             6                 0               199"
      ]
     },
     "metadata": {},
     "output_type": "display_data"
    }
   ],
   "source": [
    "users = pd.read_csv('/Users/dmitry/Desktop/yandex_python/03. Статистический анализ данных/users_go.csv')\n",
    "rides = pd.read_csv('/Users/dmitry/Desktop/yandex_python/03. Статистический анализ данных/rides_go.csv')\n",
    "subscriptions = pd.read_csv ('/Users/dmitry/Desktop/yandex_python/03. Статистический анализ данных/subscriptions_go.csv')\n",
    "\n",
    "print('________________users_go.csv________________\\n')\n",
    "users.info()\n",
    "display (users.head())\n",
    "print(2 * '\\n')\n",
    "\n",
    "print('________________rides_go.csv________________\\n')\n",
    "rides.info()\n",
    "display(rides.head())\n",
    "print(2 * '\\n')\n",
    "\n",
    "print('____________subscriptions_go.csv____________\\n')\n",
    "subscriptions.info()\n",
    "display(subscriptions.head())"
   ]
  },
  {
   "cell_type": "markdown",
   "id": "958e6c11",
   "metadata": {},
   "source": [
    "<div class=\"summary\", style=\"border:solid blue 1px; padding: 5px\">\n",
    "<font size=\"3\", color = \"blue\"><b> \n",
    "    промежуточные выводы: </b></font>\n",
    "    <font size=\"3\", color = \"black\">\n",
    "<br /> подгружены три файла:\n",
    "        \n",
    "1. содержит информацию о клиентах, 1 565 строк, пропусков не обнаружено\n",
    "2. содержит информацию о поездках, 18 068 строк, пропусков не обнаружено\n",
    "3. содержит информацию о тарифах, 2 строки, пропусков не обнаружено\n",
    "        \n",
    "в таблице rides_go.csv даты имеют формат object. необходимо будет привести их к типу datetime "
   ]
  },
  {
   "cell_type": "markdown",
   "id": "e95ebca7",
   "metadata": {},
   "source": [
    "#### Шаг 2. Предобработка данных"
   ]
  },
  {
   "cell_type": "markdown",
   "id": "549cf257",
   "metadata": {},
   "source": [
    "##### Приведем столбец date к типу даты Pandas."
   ]
  },
  {
   "cell_type": "code",
   "execution_count": 3,
   "id": "a5b10d4c",
   "metadata": {},
   "outputs": [],
   "source": [
    "rides['date'] = pd.to_datetime(rides['date'])"
   ]
  },
  {
   "cell_type": "markdown",
   "id": "062a318b",
   "metadata": {},
   "source": [
    "##### Создадим новый столбец с номером месяца и дня недели на основе столбца date."
   ]
  },
  {
   "cell_type": "code",
   "execution_count": 4,
   "id": "dc1bf67c",
   "metadata": {},
   "outputs": [],
   "source": [
    "rides['month'] = rides['date'].dt.month\n",
    "rides['week_day'] = rides['date'].dt.weekday"
   ]
  },
  {
   "cell_type": "markdown",
   "id": "ff25632c",
   "metadata": {},
   "source": [
    "##### Проверим наличие пропущенных значений и дубликатов в датафреймах. Их обработка при наличии."
   ]
  },
  {
   "cell_type": "code",
   "execution_count": 5,
   "id": "5739db62",
   "metadata": {
    "scrolled": false
   },
   "outputs": [
    {
     "name": "stdout",
     "output_type": "stream",
     "text": [
      "количество пропусков в используемых данных:\n",
      "\n",
      "________________users_go.csv________________\n",
      "\n"
     ]
    },
    {
     "data": {
      "text/plain": [
       "user_id              0\n",
       "name                 0\n",
       "age                  0\n",
       "city                 0\n",
       "subscription_type    0\n",
       "dtype: int64"
      ]
     },
     "metadata": {},
     "output_type": "display_data"
    },
    {
     "name": "stdout",
     "output_type": "stream",
     "text": [
      "\n",
      "\n",
      "\n",
      "________________rides_go.csv________________\n",
      "\n"
     ]
    },
    {
     "data": {
      "text/plain": [
       "'rides'"
      ]
     },
     "metadata": {},
     "output_type": "display_data"
    },
    {
     "data": {
      "text/plain": [
       "user_id     0\n",
       "distance    0\n",
       "duration    0\n",
       "date        0\n",
       "month       0\n",
       "week_day    0\n",
       "dtype: int64"
      ]
     },
     "metadata": {},
     "output_type": "display_data"
    },
    {
     "name": "stdout",
     "output_type": "stream",
     "text": [
      "\n",
      "\n",
      "\n",
      "____________subscriptions_go.csv____________\n",
      "\n"
     ]
    },
    {
     "data": {
      "text/plain": [
       "'subscriptions'"
      ]
     },
     "metadata": {},
     "output_type": "display_data"
    },
    {
     "data": {
      "text/plain": [
       "subscription_type    0\n",
       "minute_price         0\n",
       "start_ride_price     0\n",
       "subscription_fee     0\n",
       "dtype: int64"
      ]
     },
     "metadata": {},
     "output_type": "display_data"
    }
   ],
   "source": [
    "print('количество пропусков в используемых данных:\\n')\n",
    "print('________________users_go.csv________________\\n')\n",
    "display (users.isna().sum())\n",
    "print(2 * '\\n')\n",
    "\n",
    "print('________________rides_go.csv________________\\n')\n",
    "display ('rides', rides.isna().sum())\n",
    "print(2 * '\\n')\n",
    "\n",
    "print('____________subscriptions_go.csv____________\\n')\n",
    "display ('subscriptions', subscriptions.isna().sum())\n"
   ]
  },
  {
   "cell_type": "code",
   "execution_count": 6,
   "id": "c60d926c",
   "metadata": {},
   "outputs": [],
   "source": [
    "def find_duplicate (df, col, text):\n",
    "    in_len = len(df)\n",
    "\n",
    "    for i in col:\n",
    "        df[i]=df[i].str.lower()\n",
    "    df = df.drop_duplicates()\n",
    "    print (in_len - len(df), ':', text)\n",
    "    return (df)"
   ]
  },
  {
   "cell_type": "code",
   "execution_count": 7,
   "id": "90a3ee2e",
   "metadata": {},
   "outputs": [
    {
     "name": "stdout",
     "output_type": "stream",
     "text": [
      "количество удаленных задублированных строк в используемых данных:\n",
      "\n",
      "31 : users_go.csv\n",
      "0 : rides_go.csv\n",
      "0 : subscriptions_go.csv\n"
     ]
    }
   ],
   "source": [
    "print('количество удаленных задублированных строк в используемых данных:\\n')\n",
    "\n",
    "users = find_duplicate (users, ['name', 'city', 'subscription_type'], 'users_go.csv')\n",
    "rides = find_duplicate (rides, [], 'rides_go.csv')\n",
    "subscriptions = find_duplicate (subscriptions, ['subscription_type'], 'subscriptions_go.csv')\n"
   ]
  },
  {
   "cell_type": "markdown",
   "id": "f97cb229",
   "metadata": {},
   "source": [
    "<div class=\"summary\", style=\"border:solid blue 1px; padding: 5px\">\n",
    "<font size=\"3\", color = \"blue\"><b> \n",
    "    промежуточные выводы: </b></font>\n",
    "    <font size=\"3\", color = \"black\">\n",
    "<br />\n",
    "\n",
    "1. Пропущенных значений не обнаружено\n",
    "2. Удален 31 дубликат в users\n",
    "3. В rides и subscriptions дeбликатов не обнаружено"
   ]
  },
  {
   "cell_type": "markdown",
   "id": "212593c7",
   "metadata": {},
   "source": [
    "#### Шаг 3. Исследовательский анализ данных"
   ]
  },
  {
   "cell_type": "markdown",
   "id": "c1024f61",
   "metadata": {},
   "source": [
    "Визуализируем общую информацию о пользователях и поездках"
   ]
  },
  {
   "cell_type": "markdown",
   "id": "366e5da9",
   "metadata": {},
   "source": [
    "##### частота встречаемости городов"
   ]
  },
  {
   "cell_type": "code",
   "execution_count": 8,
   "id": "7a563c14",
   "metadata": {
    "scrolled": false
   },
   "outputs": [
    {
     "data": {
      "text/html": [
       "<div>\n",
       "<style scoped>\n",
       "    .dataframe tbody tr th:only-of-type {\n",
       "        vertical-align: middle;\n",
       "    }\n",
       "\n",
       "    .dataframe tbody tr th {\n",
       "        vertical-align: top;\n",
       "    }\n",
       "\n",
       "    .dataframe thead th {\n",
       "        text-align: right;\n",
       "    }\n",
       "</style>\n",
       "<table border=\"1\" class=\"dataframe\">\n",
       "  <thead>\n",
       "    <tr style=\"text-align: right;\">\n",
       "      <th></th>\n",
       "      <th>count</th>\n",
       "      <th>part</th>\n",
       "    </tr>\n",
       "    <tr>\n",
       "      <th>city</th>\n",
       "      <th></th>\n",
       "      <th></th>\n",
       "    </tr>\n",
       "  </thead>\n",
       "  <tbody>\n",
       "    <tr>\n",
       "      <th>москва</th>\n",
       "      <td>168</td>\n",
       "      <td>0.109518</td>\n",
       "    </tr>\n",
       "    <tr>\n",
       "      <th>тюмень</th>\n",
       "      <td>180</td>\n",
       "      <td>0.117340</td>\n",
       "    </tr>\n",
       "    <tr>\n",
       "      <th>омск</th>\n",
       "      <td>183</td>\n",
       "      <td>0.119296</td>\n",
       "    </tr>\n",
       "    <tr>\n",
       "      <th>сочи</th>\n",
       "      <td>189</td>\n",
       "      <td>0.123207</td>\n",
       "    </tr>\n",
       "    <tr>\n",
       "      <th>краснодар</th>\n",
       "      <td>193</td>\n",
       "      <td>0.125815</td>\n",
       "    </tr>\n",
       "    <tr>\n",
       "      <th>ростов-на-дону</th>\n",
       "      <td>198</td>\n",
       "      <td>0.129074</td>\n",
       "    </tr>\n",
       "    <tr>\n",
       "      <th>екатеринбург</th>\n",
       "      <td>204</td>\n",
       "      <td>0.132986</td>\n",
       "    </tr>\n",
       "    <tr>\n",
       "      <th>пятигорск</th>\n",
       "      <td>219</td>\n",
       "      <td>0.142764</td>\n",
       "    </tr>\n",
       "  </tbody>\n",
       "</table>\n",
       "</div>"
      ],
      "text/plain": [
       "                count      part\n",
       "city                           \n",
       "москва            168  0.109518\n",
       "тюмень            180  0.117340\n",
       "омск              183  0.119296\n",
       "сочи              189  0.123207\n",
       "краснодар         193  0.125815\n",
       "ростов-на-дону    198  0.129074\n",
       "екатеринбург      204  0.132986\n",
       "пятигорск         219  0.142764"
      ]
     },
     "metadata": {},
     "output_type": "display_data"
    },
    {
     "data": {
      "image/png": "[encoded data removed]",
      "text/plain": [
       "<Figure size 1200x300 with 1 Axes>"
      ]
     },
     "metadata": {},
     "output_type": "display_data"
    }
   ],
   "source": [
    "pt_city = users.pivot_table(index = 'city', values = 'user_id', aggfunc = ['count'])\n",
    "pt_city.columns = pt_city.columns.droplevel()\n",
    "pt_city.columns = ['count']\n",
    "\n",
    "pt_city = pt_city.sort_values(by = 'count', ascending = True)\n",
    "pt_city ['part'] = pt_city['count'] / (pt_city['count'].sum())\n",
    "pt_city['count'].plot.barh(figsize = (12,3))\n",
    "\n",
    "display (pt_city)"
   ]
  },
  {
   "cell_type": "markdown",
   "id": "82ba3a7b",
   "metadata": {},
   "source": [
    "##### соотношение пользователей с подпиской и без подписки"
   ]
  },
  {
   "cell_type": "code",
   "execution_count": 9,
   "id": "3e61d07c",
   "metadata": {
    "scrolled": false
   },
   "outputs": [
    {
     "data": {
      "text/html": [
       "<div>\n",
       "<style scoped>\n",
       "    .dataframe tbody tr th:only-of-type {\n",
       "        vertical-align: middle;\n",
       "    }\n",
       "\n",
       "    .dataframe tbody tr th {\n",
       "        vertical-align: top;\n",
       "    }\n",
       "\n",
       "    .dataframe thead th {\n",
       "        text-align: right;\n",
       "    }\n",
       "</style>\n",
       "<table border=\"1\" class=\"dataframe\">\n",
       "  <thead>\n",
       "    <tr style=\"text-align: right;\">\n",
       "      <th></th>\n",
       "      <th>count</th>\n",
       "      <th>part</th>\n",
       "    </tr>\n",
       "    <tr>\n",
       "      <th>subscription_type</th>\n",
       "      <th></th>\n",
       "      <th></th>\n",
       "    </tr>\n",
       "  </thead>\n",
       "  <tbody>\n",
       "    <tr>\n",
       "      <th>ultra</th>\n",
       "      <td>699</td>\n",
       "      <td>0.455671</td>\n",
       "    </tr>\n",
       "    <tr>\n",
       "      <th>free</th>\n",
       "      <td>835</td>\n",
       "      <td>0.544329</td>\n",
       "    </tr>\n",
       "  </tbody>\n",
       "</table>\n",
       "</div>"
      ],
      "text/plain": [
       "                   count      part\n",
       "subscription_type                 \n",
       "ultra                699  0.455671\n",
       "free                 835  0.544329"
      ]
     },
     "metadata": {},
     "output_type": "display_data"
    },
    {
     "data": {
      "image/png": "[encoded data removed]",
      "text/plain": [
       "<Figure size 1200x200 with 1 Axes>"
      ]
     },
     "metadata": {},
     "output_type": "display_data"
    }
   ],
   "source": [
    "pt_subscription_type = users.pivot_table(index = 'subscription_type',\n",
    "                                         values = 'user_id',\n",
    "                                         aggfunc = ['count'])\n",
    "pt_subscription_type.columns = pt_subscription_type.columns.droplevel()\n",
    "pt_subscription_type.columns = ['count']\n",
    "\n",
    "pt_subscription_type = pt_subscription_type.sort_values(by = 'count', ascending = True)\n",
    "pt_subscription_type ['part'] = pt_subscription_type['count'] / (pt_subscription_type['count'].sum())\n",
    "pt_subscription_type['count'].plot.barh(figsize = (12,2))\n",
    "\n",
    "display (pt_subscription_type)"
   ]
  },
  {
   "cell_type": "markdown",
   "id": "7e68370c",
   "metadata": {},
   "source": [
    "##### возраст пользователей"
   ]
  },
  {
   "cell_type": "code",
   "execution_count": 10,
   "id": "f2b31f39",
   "metadata": {},
   "outputs": [
    {
     "name": "stdout",
     "output_type": "stream",
     "text": [
      "min =  12\n",
      "mean =  24.9\n",
      "median =  25.0\n",
      "max =  43\n"
     ]
    },
    {
     "data": {
      "text/plain": [
       "[<matplotlib.lines.Line2D at 0x13fd91390>]"
      ]
     },
     "execution_count": 10,
     "metadata": {},
     "output_type": "execute_result"
    },
    {
     "data": {
      "image/png": "[encoded data removed]",
      "text/plain": [
       "<Figure size 1200x300 with 1 Axes>"
      ]
     },
     "metadata": {},
     "output_type": "display_data"
    }
   ],
   "source": [
    "pt_age = users.pivot_table(index = 'age', values = 'user_id', aggfunc = ['count'])\n",
    "pt_age.columns = pt_age.columns.droplevel()\n",
    "pt_age.columns = ['count']\n",
    "\n",
    "pt_age['count'].plot.bar(figsize = (12,3))\n",
    "\n",
    "#display (pt_age)\n",
    "\n",
    "print('min = ', round(users['age'].min(),2))\n",
    "print('mean = ', round(users['age'].mean(),2))\n",
    "print('median = ', round(users['age'].median(),2))\n",
    "print('max = ', round(users['age'].max(),2))\n",
    "\n",
    "\n",
    "\n",
    "mu = users['age'].mean()\n",
    "sigma = users['age'].var() ** 0.5\n",
    "\n",
    "x = np.arange (0, users['age'].max() - users['age'].min(), 1)\n",
    "plt.plot (x, pt_age['count'].sum() * st.norm. pdf (x, mu - 12, sigma), color = 'red') "
   ]
  },
  {
   "cell_type": "markdown",
   "id": "04b2ffb8",
   "metadata": {},
   "source": [
    "##### расстояние, которое пользователь преодолел за одну поездку"
   ]
  },
  {
   "cell_type": "code",
   "execution_count": 11,
   "id": "06680b91",
   "metadata": {},
   "outputs": [
    {
     "name": "stdout",
     "output_type": "stream",
     "text": [
      "min =  0.86\n",
      "mean =  3070.66\n",
      "median =  3133.61\n",
      "max =  7211.01\n"
     ]
    },
    {
     "data": {
      "image/png": "[encoded data removed]",
      "text/plain": [
       "<Figure size 1200x300 with 1 Axes>"
      ]
     },
     "metadata": {},
     "output_type": "display_data"
    }
   ],
   "source": [
    "rides.hist('distance', bins = 100, figsize = (12,3), range = (0,7500))\n",
    "\n",
    "print('min = ', round(rides['distance'].min(),2))\n",
    "print('mean = ', round(rides['distance'].mean(),2))\n",
    "print('median = ', round(rides['distance'].median(),2))\n",
    "print('max = ', round(rides['distance'].max(),2))\n"
   ]
  },
  {
   "cell_type": "markdown",
   "id": "acaa1f97",
   "metadata": {},
   "source": [
    "##### продолжительность поездок"
   ]
  },
  {
   "cell_type": "code",
   "execution_count": 12,
   "id": "60ef19bd",
   "metadata": {},
   "outputs": [
    {
     "name": "stdout",
     "output_type": "stream",
     "text": [
      "min =  0.5\n",
      "mean =  17.81\n",
      "median =  17.68\n",
      "max =  40.82\n"
     ]
    },
    {
     "data": {
      "image/png": "[encoded data removed]",
      "text/plain": [
       "<Figure size 1200x300 with 1 Axes>"
      ]
     },
     "metadata": {},
     "output_type": "display_data"
    }
   ],
   "source": [
    "rides.hist('duration', bins = 100, figsize = (12,3), range = (0, 50))\n",
    "\n",
    "print('min = ', round(rides['duration'].min(),2))\n",
    "print('mean = ', round(rides['duration'].mean(),2))\n",
    "print('median = ', round(rides['duration'].median(),2))\n",
    "print('max = ', round(rides['duration'].max(),2))\n"
   ]
  },
  {
   "cell_type": "markdown",
   "id": "8d19a2cf",
   "metadata": {},
   "source": [
    "##### распределение средней скорости построим отдельно для значение менее 30 км/ч и более 30 км/ч"
   ]
  },
  {
   "cell_type": "code",
   "execution_count": 13,
   "id": "e9b861b5",
   "metadata": {},
   "outputs": [
    {
     "name": "stdout",
     "output_type": "stream",
     "text": [
      "min =  0.01\n",
      "mean =  13.79\n",
      "median =  10.25\n",
      "max =  865.32\n"
     ]
    },
    {
     "data": {
      "image/png": "[encoded data removed]",
      "text/plain": [
       "<Figure size 1200x300 with 1 Axes>"
      ]
     },
     "metadata": {},
     "output_type": "display_data"
    },
    {
     "data": {
      "image/png": "[encoded data removed]",
      "text/plain": [
       "<Figure size 1200x300 with 1 Axes>"
      ]
     },
     "metadata": {},
     "output_type": "display_data"
    }
   ],
   "source": [
    "#рассчитаем среднюю скорость и переведем ее в км.ч\n",
    "rides['speed']=rides['distance'] / rides['duration'] /1000 * 60\n",
    "\n",
    "plt.figure(figsize = (12,3))\n",
    "plt.hist(rides['speed'], range = (0,30), bins = 91)\n",
    "plt.title ('speed < 30 km / h')\n",
    "plt.grid(1)\n",
    "\n",
    "plt.figure(figsize = (12,3))\n",
    "plt.hist(rides['speed'], range = (30,1000), bins = 91)\n",
    "plt.title ('speed > 30 km / h')\n",
    "plt.grid(1)\n",
    "\n",
    "print('min = ', round(rides['speed'].min(),2))\n",
    "print('mean = ', round(rides['speed'].mean(),2))\n",
    "print('median = ', round(rides['speed'].median(),2))\n",
    "print('max = ', round(rides['speed'].max(),2))\n"
   ]
  },
  {
   "cell_type": "markdown",
   "id": "57ce9aba",
   "metadata": {},
   "source": [
    "да им бы позовидовал вам Валттери Боттасб, обладатель официального рекорда F1 (2016) в 372,54 км/ч.\n",
    "\n",
    "посмотрим на данные подробнее:"
   ]
  },
  {
   "cell_type": "code",
   "execution_count": 14,
   "id": "b8ce2250",
   "metadata": {
    "scrolled": false
   },
   "outputs": [
    {
     "name": "stdout",
     "output_type": "stream",
     "text": [
      "ко-во строк с \"рекордными\" скоростями: 95\n",
      "общее кол-во строк: 18068\n",
      "при удалении \"рекордных\" скоростей потеряем:  0.53 %\n"
     ]
    },
    {
     "data": {
      "image/png": "[encoded data removed]",
      "text/plain": [
       "<Figure size 1200x300 with 1 Axes>"
      ]
     },
     "metadata": {},
     "output_type": "display_data"
    },
    {
     "data": {
      "image/png": "[encoded data removed]",
      "text/plain": [
       "<Figure size 1200x300 with 1 Axes>"
      ]
     },
     "metadata": {},
     "output_type": "display_data"
    }
   ],
   "source": [
    "rides.loc[rides['speed'] > 30].hist('distance', bins = 100, figsize = (12,3))\n",
    "rides.loc[rides['speed'] > 30].hist('duration', bins = 100, figsize = (12,3))\n",
    "\n",
    "print('ко-во строк с \"рекордными\" скоростями:', rides.loc[rides['speed'] > 30]['user_id'].count())\n",
    "print('общее кол-во строк:', rides['user_id'].count())\n",
    "print('при удалении \"рекордных\" скоростей потеряем: ',\n",
    "      round(100 * rides.loc[rides['speed'] > 30]['user_id'].count() / rides['user_id'].count(),2),'%')\n"
   ]
  },
  {
   "cell_type": "markdown",
   "id": "50e2d043",
   "metadata": {},
   "source": [
    "<div class=\"summary\", style=\"border:solid blue 1px; padding: 5px\">\n",
    "    <font size=\"3\", color = \"black\">\n",
    "\n",
    "как видно из распределения, все данные со сверхвысокими скоростями соответствуют длительности поездки в 0.5 мин."
   ]
  },
  {
   "cell_type": "code",
   "execution_count": 15,
   "id": "c0e5ea49",
   "metadata": {},
   "outputs": [],
   "source": [
    "# удаляем строки\n",
    "rides = rides.loc[rides['speed'] <= 30]"
   ]
  },
  {
   "cell_type": "markdown",
   "id": "05a29fd4",
   "metadata": {},
   "source": [
    "##### распределение дистанции поездок:"
   ]
  },
  {
   "cell_type": "code",
   "execution_count": 16,
   "id": "f7d27f1b",
   "metadata": {
    "scrolled": true
   },
   "outputs": [
    {
     "data": {
      "image/png": "[encoded data removed]",
      "text/plain": [
       "<Figure size 1200x300 with 1 Axes>"
      ]
     },
     "metadata": {},
     "output_type": "display_data"
    }
   ],
   "source": [
    "bins = np.linspace(0, 7500, 100)\n",
    "plt.figure(figsize=(12,3))\n",
    "plt.hist(rides['distance'], bins, alpha = 0.5, color = 'b')\n",
    "plt.hist(rides['distance'].loc[rides['speed'] < 5], bins, alpha = 0.75, color = 'g')\n",
    "\n",
    "plt.title('Распределение дистанции поездки')\n",
    "plt.legend(['all speed', 'speed < 5 km/h'])\n",
    "plt.xlabel('distance, m')\n",
    "plt.ylabel('count')\n",
    "plt.grid(True)\n",
    "\n",
    "plt.show()"
   ]
  },
  {
   "cell_type": "markdown",
   "id": "6a060478",
   "metadata": {},
   "source": [
    "<div class=\"summary\", style=\"border:solid blue 1px; padding: 5px\">\n",
    "<font size=\"3\", color = \"blue\"><b> \n",
    "    промежуточные выводы: </b></font>\n",
    "    <font size=\"3\", color = \"black\">\n",
    "<br />\n",
    "\n",
    "1. Представленные данные достаточно чистые\n",
    "2.  Больше всего пользователей зарегистрировано в Пятигорске (14 %), Екатеринбурге (13%) и Ростове-на-дону (13%). \n",
    "   Меньше всего пользователей зарегистрировано в Москве (12%) и Омске (12%).\n",
    "3. 54% пользователей имеют подписку Free и 46% - подписку Ultra\n",
    "4. Распределение дистанции поездок можно разделить на 2 части: до 1500м и более 1500м. В первой части преобладают скорости до 5 км/ч.\n",
    "5. Распределение продолжительности поездок имеет распределение близкое к нормальному и узкий пик на 0.5 мин.\n",
    "   Поездки, соответствующие этому пику имеет невообразимую сторость для самокатов (> 400 км/ч). Эти данные составляют 0.53% выборки и их мы удаляем\n",
    "6. Распределение скорости имеет явный пик на 10 км/ч с резким левым краем и плавным спадом справа. При этом имеется некоторое кол-во событий со скоростью в дипазаоне 0-5 км/ч. Подавляющее большинство из них связано с небольшой дистанцией поездки (до 1.5 км).\n",
    "7. экстремально большие или отрицательные значения не обнаружены."
   ]
  },
  {
   "cell_type": "markdown",
   "id": "4ef51331",
   "metadata": {},
   "source": [
    "#### Шаг 4. Объединение данных"
   ]
  },
  {
   "cell_type": "markdown",
   "id": "9a643497",
   "metadata": {},
   "source": [
    "##### Объедините данные о пользователях, поездках и подписках в один датафрейм. Для этого воспользуйтесь методом merge()."
   ]
  },
  {
   "cell_type": "code",
   "execution_count": 17,
   "id": "a64aca04",
   "metadata": {},
   "outputs": [],
   "source": [
    "df = rides.merge(users,\n",
    "                 left_on = 'user_id',\n",
    "                 right_on = 'user_id',\n",
    "                 how = 'left')\n",
    "df = df.merge(subscriptions,\n",
    "              left_on = 'subscription_type',\n",
    "              right_on = 'subscription_type',\n",
    "              how = 'left')\n",
    "#df.info()"
   ]
  },
  {
   "cell_type": "code",
   "execution_count": 18,
   "id": "98d82e72",
   "metadata": {},
   "outputs": [
    {
     "name": "stdout",
     "output_type": "stream",
     "text": [
      "<class 'pandas.core.frame.DataFrame'>\n",
      "Index: 17973 entries, 0 to 18067\n",
      "Data columns (total 7 columns):\n",
      " #   Column    Non-Null Count  Dtype         \n",
      "---  ------    --------------  -----         \n",
      " 0   user_id   17973 non-null  int64         \n",
      " 1   distance  17973 non-null  float64       \n",
      " 2   duration  17973 non-null  float64       \n",
      " 3   date      17973 non-null  datetime64[ns]\n",
      " 4   month     17973 non-null  int32         \n",
      " 5   week_day  17973 non-null  int32         \n",
      " 6   speed     17973 non-null  float64       \n",
      "dtypes: datetime64[ns](1), float64(3), int32(2), int64(1)\n",
      "memory usage: 982.9 KB\n",
      "<class 'pandas.core.frame.DataFrame'>\n",
      "RangeIndex: 17973 entries, 0 to 17972\n",
      "Data columns (total 14 columns):\n",
      " #   Column             Non-Null Count  Dtype         \n",
      "---  ------             --------------  -----         \n",
      " 0   user_id            17973 non-null  int64         \n",
      " 1   distance           17973 non-null  float64       \n",
      " 2   duration           17973 non-null  float64       \n",
      " 3   date               17973 non-null  datetime64[ns]\n",
      " 4   month              17973 non-null  int32         \n",
      " 5   week_day           17973 non-null  int32         \n",
      " 6   speed              17973 non-null  float64       \n",
      " 7   name               17973 non-null  object        \n",
      " 8   age                17973 non-null  int64         \n",
      " 9   city               17973 non-null  object        \n",
      " 10  subscription_type  17973 non-null  object        \n",
      " 11  minute_price       17973 non-null  int64         \n",
      " 12  start_ride_price   17973 non-null  int64         \n",
      " 13  subscription_fee   17973 non-null  int64         \n",
      "dtypes: datetime64[ns](1), float64(3), int32(2), int64(5), object(3)\n",
      "memory usage: 1.8+ MB\n"
     ]
    }
   ],
   "source": [
    "rides.info()\n",
    "df.info()"
   ]
  },
  {
   "cell_type": "markdown",
   "id": "a6fc4095",
   "metadata": {},
   "source": [
    "##### Создайте ещё два датафрейма из датафрейма, созданного на этапе 4.1:\n",
    " - c данными о пользователях без подписки;\n",
    " - с данными о пользователях с подпиской."
   ]
  },
  {
   "cell_type": "code",
   "execution_count": 19,
   "id": "c70e8479",
   "metadata": {},
   "outputs": [],
   "source": [
    "df_free = df.loc[df['subscription_type'] == 'free']"
   ]
  },
  {
   "cell_type": "code",
   "execution_count": 20,
   "id": "a926963f",
   "metadata": {},
   "outputs": [],
   "source": [
    "df_ultra = df.loc[df['subscription_type'] == 'ultra']"
   ]
  },
  {
   "cell_type": "markdown",
   "id": "35d8bf24",
   "metadata": {},
   "source": [
    "##### Визуализируем информацию о расстоянии и времени поездок для пользователей обеих категорий."
   ]
  },
  {
   "cell_type": "code",
   "execution_count": 21,
   "id": "7ce2efd5",
   "metadata": {
    "scrolled": false
   },
   "outputs": [
    {
     "data": {
      "image/png": "[encoded data removed]",
      "text/plain": [
       "<Figure size 1200x300 with 1 Axes>"
      ]
     },
     "metadata": {},
     "output_type": "display_data"
    }
   ],
   "source": [
    "bins = np.linspace(0, 7500, 100)\n",
    "plt.figure(figsize=(12,3))\n",
    "plt.hist(df_free['distance'], bins, alpha = 0.5, color = 'b')\n",
    "plt.hist(df_ultra['distance'], bins, alpha = 0.75, color = 'g')\n",
    "\n",
    "plt.title('Распределение дистанции поездки')\n",
    "plt.legend(['free', 'ultra'])\n",
    "plt.xlabel('distance, m')\n",
    "plt.ylabel('count')\n",
    "plt.grid(True)\n",
    "\n",
    "plt.show()"
   ]
  },
  {
   "cell_type": "code",
   "execution_count": 22,
   "id": "5ec7d222",
   "metadata": {},
   "outputs": [
    {
     "data": {
      "image/png": "[encoded data removed]",
      "text/plain": [
       "<Figure size 1200x300 with 1 Axes>"
      ]
     },
     "metadata": {},
     "output_type": "display_data"
    }
   ],
   "source": [
    "bins = np.linspace(0, 50, 100)\n",
    "plt.figure(figsize=(12,3))\n",
    "plt.hist(df_free['duration'], bins, alpha = 0.5, color = 'b')\n",
    "plt.hist(df_ultra['duration'], bins, alpha = 0.75, color = 'g')\n",
    "\n",
    "plt.title('Распределение длительности поездки')\n",
    "plt.legend(['free', 'ultra'])\n",
    "plt.xlabel('duration, mim')\n",
    "plt.ylabel('count')\n",
    "plt.grid(True)\n",
    "\n",
    "plt.show()\n",
    "\n"
   ]
  },
  {
   "cell_type": "markdown",
   "id": "bf9fe9f5",
   "metadata": {},
   "source": [
    "<div class=\"summary\", style=\"border:solid blue 1px; padding: 5px\">\n",
    "<font size=\"3\", color = \"blue\"><b> \n",
    "    промежуточные выводы: </b></font>\n",
    "    <font size=\"3\", color = \"black\">\n",
    "<br />\n",
    "\n",
    "1. Распределение дистанции поездки для ultra (в сравнении с free) имеет более узкий пик вблизи 3 км, пик в промежутке 0-1.5 км смещен в большую сторону, также имеется пик на дистанции ~ 4км \n",
    "2.  Распределение длительности поездки для ultra и free имеют схожие распределения. при этом распределение для free немного шире, а распределение для ultra имеет более медленный спад правого части.\n"
   ]
  },
  {
   "cell_type": "markdown",
   "id": "402d620f",
   "metadata": {},
   "source": [
    "#### Шаг 5. Подсчёт выручки"
   ]
  },
  {
   "cell_type": "markdown",
   "id": "5b7ac2e8",
   "metadata": {},
   "source": [
    "##### Создайте датафрейм с агрегированными данными о поездках на основе датафрейма с объединёнными данными из шага 4: найдите суммарное расстояние, количество поездок и суммарное время для каждого пользователя за каждый месяц."
   ]
  },
  {
   "cell_type": "code",
   "execution_count": 23,
   "id": "0ec705ca",
   "metadata": {},
   "outputs": [],
   "source": [
    "df_users = df.pivot_table(index = ['user_id', 'month'],\n",
    "                          aggfunc = {'distance' : 'sum',\n",
    "                                     'user_id' : 'count',\n",
    "                                     'duration' : 'sum'})\n",
    "\n",
    "df_users.columns = ['t_distance', 't_duration', 't_count']\n",
    "df_users.reset_index(inplace = True)\n",
    "#display (df_users)"
   ]
  },
  {
   "cell_type": "markdown",
   "id": "625bbc64",
   "metadata": {},
   "source": [
    "##### В этот же датафрейм добавьте столбец с помесячной выручкой, которую принёс каждый пользователь — обратитесь к информации об условиях оплаты для подписчиков и и тех, у кого нет подписки. Минуты при подсчёте стоимости округляются до ближайшего целого числа."
   ]
  },
  {
   "cell_type": "code",
   "execution_count": 24,
   "id": "41823182",
   "metadata": {},
   "outputs": [],
   "source": [
    "df_users['t_duration_min'] = round(df_users['t_duration'],0)\n",
    "\n",
    "df_users = (df_users.merge(df[['user_id',\n",
    "                               'subscription_type',\n",
    "                               'minute_price',\n",
    "                               'start_ride_price',\n",
    "                               'subscription_fee']],\n",
    "                           left_on = 'user_id',\n",
    "                           right_on = 'user_id')\n",
    "                    .drop_duplicates())\n",
    "\n",
    "df_users = df_users.reset_index()"
   ]
  },
  {
   "cell_type": "code",
   "execution_count": 25,
   "id": "64d2466c",
   "metadata": {},
   "outputs": [],
   "source": [
    "df_users['revenue'] = (df_users['subscription_fee'] +\n",
    "                       + df_users['start_ride_price'] * df_users['t_count'] +\n",
    "                       + df_users['minute_price'] * df_users['t_duration_min'])"
   ]
  },
  {
   "cell_type": "code",
   "execution_count": 26,
   "id": "3ebcee98",
   "metadata": {},
   "outputs": [
    {
     "data": {
      "image/png": "[encoded data removed]",
      "text/plain": [
       "<Figure size 1200x300 with 1 Axes>"
      ]
     },
     "metadata": {},
     "output_type": "display_data"
    },
    {
     "name": "stdout",
     "output_type": "stream",
     "text": [
      "quantile(0.25) =  234.0\n",
      "quantile(0.50) =  314.0\n",
      "quantile(0.75) =  409.0\n"
     ]
    }
   ],
   "source": [
    "bins = np.linspace(0, 1400, 100)\n",
    "plt.figure(figsize=(12,3))\n",
    "plt.hist(df_users['revenue'], bins, alpha = 0.5, color = 'b')\n",
    "\n",
    "plt.title('Распределение месячной выруски с пользователя')\n",
    "plt.xlabel('revenue, rub/month')\n",
    "plt.ylabel('count')\n",
    "plt.grid(True)\n",
    "plt.show()\n",
    "\n",
    "print('quantile(0.25) = ', df_users['revenue'].quantile(0.25))\n",
    "print('quantile(0.50) = ', df_users['revenue'].quantile(0.5))\n",
    "print('quantile(0.75) = ', df_users['revenue'].quantile(0.75))\n"
   ]
  },
  {
   "cell_type": "markdown",
   "id": "0c5650c6",
   "metadata": {},
   "source": [
    "<div class=\"summary\", style=\"border:solid blue 1px; padding: 5px\">\n",
    "<font size=\"3\", color = \"blue\"><b> \n",
    "    промежуточные выводы: </b></font>\n",
    "    <font size=\"3\", color = \"black\">\n",
    "<br />\n",
    "\n",
    "1. 50% пользователей платят от 230 до 410 руб в мес. Медианное значение составляем 314 рум в мес.\n",
    "2. В распределении ежемесячной выруски с клиента можно выделить два пика: в даипазоне ~ 200 и ~ 300 руб / мес"
   ]
  },
  {
   "cell_type": "markdown",
   "id": "41545ac0",
   "metadata": {},
   "source": [
    "#### Шаг 6. Проверка гипотез"
   ]
  },
  {
   "cell_type": "markdown",
   "id": "4a81771c",
   "metadata": {},
   "source": [
    "##### Важно понять, тратят ли пользователи с подпиской больше времени на поездки? Если да, то действительно ли пользователи с подпиской «выгоднее» для компании. Проверьте гипотезу. Используйте исходные данные о продолжительности каждой сессии — отдельно для подписчиков и тех, у кого нет подписки.\n",
    "\n",
    "H0: среднее время поездки у пользователей с подпиской и без подписки одинаковое\n",
    "\n",
    "H1: среднее время поездки у пользователей с подпиской больше, чем у пользователей без подписки"
   ]
  },
  {
   "cell_type": "code",
   "execution_count": 27,
   "id": "470649a0",
   "metadata": {},
   "outputs": [
    {
     "name": "stdout",
     "output_type": "stream",
     "text": [
      "средняя продолжительность поездки free: 18.54\n",
      "средняя продолжительность поездки ultra: 17.53\n",
      "p-value = 1.6162210195311063e-29 \n",
      "\n",
      "Гипотеза h1 подтвердилась\n",
      "Средняя длительность поездки пользователей без подписки меньше, чем с подпиской \"ultra\"\n"
     ]
    },
    {
     "data": {
      "image/png": "[encoded data removed]",
      "text/plain": [
       "<Figure size 1200x300 with 1 Axes>"
      ]
     },
     "metadata": {},
     "output_type": "display_data"
    }
   ],
   "source": [
    "array1 = df.loc[df['subscription_type'] == 'ultra']['duration']\n",
    "array2 = df.loc[df['subscription_type'] == 'free']['duration']\n",
    "\n",
    "alpha = 0.01\n",
    "result = st.ttest_ind(array1, array2, alternative = 'greater', equal_var = False)\n",
    "\n",
    "print('средняя продолжительность поездки free:', round(array1.mean(),2))\n",
    "print('средняя продолжительность поездки ultra:', round(array2.mean(),2))\n",
    "print('p-value =', result.pvalue, '\\n')\n",
    "\n",
    "if result.pvalue < alpha:\n",
    "    print('Гипотеза h1 подтвердилась')\n",
    "    print('Средняя длительность поездки пользователей без подписки меньше, чем с подпиской \"ultra\"')\n",
    "else:\n",
    "    print('Гипотеза h1 не подтвердилась')\n",
    "\n",
    "    \n",
    "bins = np.linspace(0, 50, 100)\n",
    "plt.figure(figsize=(12,3))\n",
    "plt.hist(array1, bins, alpha = 0.5, color = 'b')\n",
    "plt.hist(array2, bins, alpha = 0.5, color = 'g')\n",
    "\n",
    "plt.plot([array1.mean(), array1.mean()], [0, 400], color = 'b')\n",
    "plt.plot([array2.mean(), array2.mean()], [0, 400], color = 'lime')\n",
    "\n",
    "plt.title('Распределение длительности поездки')\n",
    "plt.legend(['mean ultra', 'mean free','dist ultra','dist free'])\n",
    "plt.xlabel('duration, min')\n",
    "plt.ylabel('count')\n",
    "plt.grid(True)\n",
    "\n",
    "plt.show()"
   ]
  },
  {
   "cell_type": "markdown",
   "id": "42538923",
   "metadata": {},
   "source": [
    "##### Расстояние одной поездки в 3130 метров — оптимальное с точки зрения износа самоката. Можно ли сказать, что расстояние, которое проезжают пользователи с подпиской за одну поездку, меньше 3130 метров?\n",
    "\n",
    "H0: среднее расстояние, которое проезжает пользователь с подпиской Ultra составляет 3130 метров\n",
    "\n",
    "H1: среднее расстояние, которое проезжает пользователь с подпиской Ultra менее 3130 метров"
   ]
  },
  {
   "cell_type": "code",
   "execution_count": 28,
   "id": "28d6553d",
   "metadata": {},
   "outputs": [
    {
     "name": "stdout",
     "output_type": "stream",
     "text": [
      "среднее расстояние поездки ultra: 3115.45 м\n",
      "p-value = 0.08046311521502147 \n",
      "\n",
      "Гипотеза h1 не подтвердилась\n"
     ]
    },
    {
     "data": {
      "image/png": "[encoded data removed]",
      "text/plain": [
       "<Figure size 1200x300 with 1 Axes>"
      ]
     },
     "metadata": {},
     "output_type": "display_data"
    }
   ],
   "source": [
    "array2 = df.loc[df['subscription_type'] == 'ultra']['distance']\n",
    "\n",
    "alpha = 0.01\n",
    "interested_value = 3130\n",
    "\n",
    "result = st.ttest_1samp(array2, interested_value, alternative = 'less')\n",
    "\n",
    "print('среднее расстояние поездки ultra:', round(array2.mean(),2), 'м')\n",
    "print('p-value =', result.pvalue, '\\n')\n",
    "\n",
    "if result.pvalue < alpha:\n",
    "    print('Гипотеза h1 подтвердилась')\n",
    "else:\n",
    "    print('Гипотеза h1 не подтвердилась')\n",
    "    \n",
    "\n",
    "    \n",
    "bins = np.linspace(0, 7500, 100)\n",
    "plt.figure(figsize=(12,3))\n",
    "plt.hist(array2, bins, alpha = 0.5, color = 'b')\n",
    "\n",
    "plt.plot([interested_value, interested_value], [0, 400], color = 'red')\n",
    "plt.plot([array2.mean(), array2.mean()], [0, 400], color = 'b')\n",
    "\n",
    "plt.title('Распределение дальности поездок ultra')\n",
    "plt.legend(['interested_value','mean ultra', 'dist ultra'])\n",
    "plt.xlabel('distance, m')\n",
    "plt.ylabel('count')\n",
    "plt.grid(True)\n",
    "\n",
    "#plt.show()"
   ]
  },
  {
   "cell_type": "markdown",
   "id": "5bb74ca2",
   "metadata": {},
   "source": [
    "##### Проверьте гипотезу о том, будет ли выручка от пользователей с подпиской выше, чем выручка от пользователей без подписки. Сделайте вывод.\n",
    "\n",
    "H0: выручка от пользователей с подпиской Ultra равна выручке от пользователей, не обладающих подпиской\n",
    "\n",
    "H1: выручка от пользователей с подпиской Ultra больше, чем выручка от пользователей без подписки"
   ]
  },
  {
   "cell_type": "code",
   "execution_count": 29,
   "id": "76b1e849",
   "metadata": {},
   "outputs": [
    {
     "name": "stdout",
     "output_type": "stream",
     "text": [
      "среднемесячная выручка free: 322.01\n",
      "среднемесячная выручка ultra: 348.02\n",
      "p-value = 4.248630567708181e-18 \n",
      "\n",
      "Гипотеза h1 подтвердилась\n"
     ]
    },
    {
     "data": {
      "image/png": "[encoded data removed]",
      "text/plain": [
       "<Figure size 1200x300 with 1 Axes>"
      ]
     },
     "metadata": {},
     "output_type": "display_data"
    }
   ],
   "source": [
    "array1 = df_users.loc[df['subscription_type'] == 'ultra']['revenue']\n",
    "array2 = df_users.loc[df['subscription_type'] == 'free']['revenue']\n",
    "\n",
    "alpha = 0.01\n",
    "result = st.ttest_ind(array1, array2, alternative = 'greater', equal_var = False)\n",
    "\n",
    "print('среднемесячная выручка free:', round(df_users.loc[df['subscription_type'] == \n",
    "                                                         'free']['revenue'].mean(),2))\n",
    "print('среднемесячная выручка ultra:',round(df_users.loc[df['subscription_type'] == \n",
    "                                                         'ultra']['revenue'].mean(),2))\n",
    "print('p-value =', result.pvalue, '\\n')\n",
    "\n",
    "if result.pvalue < alpha:\n",
    "    print('Гипотеза h1 подтвердилась')\n",
    "else:\n",
    "    print('Гипотеза h1 не подтвердилась')\n",
    "\n",
    "\n",
    "\n",
    "bins = np.linspace(0, 1200, 70)\n",
    "plt.figure(figsize=(12,3))\n",
    "plt.hist(array1, bins, alpha = 0.5, color = 'b')\n",
    "plt.hist(array2, bins, alpha = 0.5, color = 'g')\n",
    "\n",
    "plt.plot([array1.mean(), array1.mean()], [0, 700], color = 'b')\n",
    "plt.plot([array2.mean(), array2.mean()], [0, 700], color = 'lime')\n",
    "\n",
    "plt.title('Распределение выручки за 1 месяц')\n",
    "plt.legend(['mean ultra', 'mean free','dist free','dist ultra'])\n",
    "plt.xlabel('revenue, rub')\n",
    "plt.ylabel('count')\n",
    "plt.grid(True)\n",
    "\n",
    "plt.show()"
   ]
  },
  {
   "cell_type": "markdown",
   "id": "af5c38bb",
   "metadata": {},
   "source": [
    "<div class=\"summary\", style=\"border:solid blue 1px; padding: 5px\">\n",
    "<font size=\"3\", color = \"blue\"><b> \n",
    "    Выводы: </b></font>\n",
    "    <font size=\"3\", color = \"black\">\n",
    "<br />\n",
    "\n",
    "1. Сервисом пользуются 1534 клиентов в 8 городах. Больше всего пользователей зарегистрировано в Пятигорске (14 %), Екатеринбурге (13%) и Ростове-на-дону (13%), меньше всего - в Москве (12%) и Омске (12%). Суммарно за 2022 год было совершенно 18068 поездок.\n",
    "\n",
    "2. В рамках обработки данных было выявлено:\n",
    " - 31 дубликат (что составило 2% клиентов), данные удалены\n",
    " - 91 поездка, соответствующее чрезвычайно большой скорости (0.53% от поездок), данные удалены\n",
    " - Экстремальных (выпадающих) значений обнаружено не было.\n",
    "        \n",
    "3. 54% пользователей не имеют подписки ('free'), 46% пользователей обладают подпиской ultra.\n",
    "\n",
    "4. Визуальное не существенное отличие наблюдается в распределнии дистанции поездок для пользователей, обладающих подпиской, и пользователей без подписки. Распределение для пользователей с подпиской ultra (в сравнении с free) имеет более узкий пик вблизи 3 км, пик в промежутке 0-1.5 км смещен в большую сторону, также имеется пик на дистанции ~ 4км.\n",
    "\n",
    "5. 50% пользователей платят от 230 до 410 руб в мес. Медианное значение составляем 314 рум в мес.\n",
    "\n",
    "6. Результаты тестов:\n",
    " - H0: пользователи с подпиской Ultra тратят больше времени в поездках, чем пользователи без подписки.\n",
    "      - H1 подтвердилась\n",
    " - H0: пользователи с подпиской Ultra за одну поездку проезжают мельше 3130 метров.\n",
    "      - H1 не подтвердилась     \n",
    " - H0: выручка от пользователей с подпиской Ultra выше, чем выручка от пользователей, не обладающих подпиской\n",
    "      - H1 не подтвердилась\n"
   ]
  },
  {
   "cell_type": "code",
   "execution_count": null,
   "id": "984309d3",
   "metadata": {},
   "outputs": [],
   "source": []
  }
 ],
 "metadata": {
  "ExecuteTimeLog": [
   {
    "duration": 57,
    "start_time": "2023-04-20T15:30:48.648Z"
   },
   {
    "duration": 445,
    "start_time": "2023-04-20T15:30:51.399Z"
   },
   {
    "duration": 62,
    "start_time": "2023-04-20T15:30:53.337Z"
   },
   {
    "duration": 460,
    "start_time": "2023-04-20T15:31:20.005Z"
   },
   {
    "duration": 109,
    "start_time": "2023-04-20T15:31:26.172Z"
   },
   {
    "duration": 97,
    "start_time": "2023-04-20T15:31:51.722Z"
   },
   {
    "duration": 90,
    "start_time": "2023-04-20T15:32:39.581Z"
   },
   {
    "duration": 101,
    "start_time": "2023-04-20T15:35:32.836Z"
   },
   {
    "duration": 105,
    "start_time": "2023-04-20T17:59:11.553Z"
   },
   {
    "duration": 116,
    "start_time": "2023-04-20T17:59:21.067Z"
   },
   {
    "duration": 94,
    "start_time": "2023-04-20T17:59:29.449Z"
   },
   {
    "duration": 98,
    "start_time": "2023-04-20T17:59:36.551Z"
   },
   {
    "duration": 92,
    "start_time": "2023-04-20T17:59:48.168Z"
   },
   {
    "duration": 94,
    "start_time": "2023-04-20T18:00:22.201Z"
   },
   {
    "duration": 106,
    "start_time": "2023-04-20T18:01:00.135Z"
   },
   {
    "duration": 80,
    "start_time": "2023-04-20T18:02:35.316Z"
   },
   {
    "duration": 97,
    "start_time": "2023-04-20T18:02:48.451Z"
   },
   {
    "duration": 105,
    "start_time": "2023-04-20T18:03:36.333Z"
   },
   {
    "duration": 101,
    "start_time": "2023-04-20T18:12:22.377Z"
   },
   {
    "duration": 11,
    "start_time": "2023-04-20T18:24:13.993Z"
   },
   {
    "duration": 7,
    "start_time": "2023-04-20T18:24:25.742Z"
   },
   {
    "duration": 13,
    "start_time": "2023-04-20T18:24:34.722Z"
   },
   {
    "duration": 5,
    "start_time": "2023-04-20T18:26:45.941Z"
   },
   {
    "duration": 8,
    "start_time": "2023-04-20T18:26:58.224Z"
   },
   {
    "duration": 5,
    "start_time": "2023-04-20T18:27:06.391Z"
   },
   {
    "duration": 11,
    "start_time": "2023-04-20T18:28:09.910Z"
   },
   {
    "duration": 9,
    "start_time": "2023-04-20T18:28:18.206Z"
   },
   {
    "duration": 9,
    "start_time": "2023-04-20T18:28:23.227Z"
   },
   {
    "duration": 10,
    "start_time": "2023-04-20T18:28:42.473Z"
   },
   {
    "duration": 9,
    "start_time": "2023-04-20T18:28:48.326Z"
   },
   {
    "duration": 9,
    "start_time": "2023-04-20T18:29:11.195Z"
   },
   {
    "duration": 10,
    "start_time": "2023-04-20T18:29:32.576Z"
   },
   {
    "duration": 12,
    "start_time": "2023-04-20T18:29:36.591Z"
   },
   {
    "duration": 12,
    "start_time": "2023-04-20T18:30:34.541Z"
   },
   {
    "duration": 12,
    "start_time": "2023-04-20T18:32:05.104Z"
   },
   {
    "duration": 11,
    "start_time": "2023-04-20T18:32:30.729Z"
   },
   {
    "duration": 13,
    "start_time": "2023-04-20T18:32:51.060Z"
   },
   {
    "duration": 690,
    "start_time": "2023-04-20T18:32:54.542Z"
   },
   {
    "duration": 13,
    "start_time": "2023-04-20T18:33:00.710Z"
   },
   {
    "duration": 9,
    "start_time": "2023-04-20T18:33:25.908Z"
   },
   {
    "duration": 12,
    "start_time": "2023-04-20T18:34:03.316Z"
   },
   {
    "duration": 10,
    "start_time": "2023-04-20T18:34:07.135Z"
   },
   {
    "duration": 10,
    "start_time": "2023-04-20T18:34:22.016Z"
   },
   {
    "duration": 6,
    "start_time": "2023-04-20T18:34:45.329Z"
   },
   {
    "duration": 7,
    "start_time": "2023-04-20T18:34:58.825Z"
   },
   {
    "duration": 1326,
    "start_time": "2023-04-20T18:35:20.000Z"
   },
   {
    "duration": 5,
    "start_time": "2023-04-20T18:36:14.309Z"
   },
   {
    "duration": 9,
    "start_time": "2023-04-20T18:36:22.493Z"
   },
   {
    "duration": 7,
    "start_time": "2023-04-20T18:37:24.359Z"
   },
   {
    "duration": 9,
    "start_time": "2023-04-20T18:37:31.910Z"
   },
   {
    "duration": 14,
    "start_time": "2023-04-20T18:39:02.786Z"
   },
   {
    "duration": 12,
    "start_time": "2023-04-20T18:39:15.592Z"
   },
   {
    "duration": 9,
    "start_time": "2023-04-20T18:39:34.511Z"
   },
   {
    "duration": 7,
    "start_time": "2023-04-20T18:40:07.628Z"
   },
   {
    "duration": 21,
    "start_time": "2023-04-20T18:41:21.313Z"
   },
   {
    "duration": 109,
    "start_time": "2023-04-20T18:41:28.596Z"
   },
   {
    "duration": 10,
    "start_time": "2023-04-20T18:41:35.179Z"
   },
   {
    "duration": 5,
    "start_time": "2023-04-20T18:41:37.633Z"
   },
   {
    "duration": 14,
    "start_time": "2023-04-20T18:41:39.081Z"
   },
   {
    "duration": 8,
    "start_time": "2023-04-20T18:41:50.111Z"
   },
   {
    "duration": 9,
    "start_time": "2023-04-20T18:41:57.426Z"
   },
   {
    "duration": 7,
    "start_time": "2023-04-20T18:42:09.888Z"
   },
   {
    "duration": 15,
    "start_time": "2023-04-20T18:42:26.912Z"
   },
   {
    "duration": 33,
    "start_time": "2023-04-20T18:44:16.107Z"
   },
   {
    "duration": 444,
    "start_time": "2023-04-20T18:44:21.475Z"
   },
   {
    "duration": 125,
    "start_time": "2023-04-20T18:44:21.921Z"
   },
   {
    "duration": 9,
    "start_time": "2023-04-20T18:44:22.049Z"
   },
   {
    "duration": 13,
    "start_time": "2023-04-20T18:44:22.061Z"
   },
   {
    "duration": 11,
    "start_time": "2023-04-20T18:44:22.075Z"
   },
   {
    "duration": 44,
    "start_time": "2023-04-20T18:44:22.088Z"
   },
   {
    "duration": 10,
    "start_time": "2023-04-20T18:44:22.134Z"
   },
   {
    "duration": 10,
    "start_time": "2023-04-20T18:44:22.147Z"
   },
   {
    "duration": 117,
    "start_time": "2023-04-20T18:44:30.665Z"
   },
   {
    "duration": 7,
    "start_time": "2023-04-20T18:44:33.961Z"
   },
   {
    "duration": 5,
    "start_time": "2023-04-20T18:44:35.214Z"
   },
   {
    "duration": 10,
    "start_time": "2023-04-20T18:44:37.849Z"
   },
   {
    "duration": 18,
    "start_time": "2023-04-20T18:44:40.385Z"
   },
   {
    "duration": 391,
    "start_time": "2023-04-20T18:45:27.230Z"
   },
   {
    "duration": 105,
    "start_time": "2023-04-20T18:45:27.624Z"
   },
   {
    "duration": 8,
    "start_time": "2023-04-20T18:45:27.731Z"
   },
   {
    "duration": 12,
    "start_time": "2023-04-20T18:45:27.742Z"
   },
   {
    "duration": 13,
    "start_time": "2023-04-20T18:45:27.756Z"
   },
   {
    "duration": 42,
    "start_time": "2023-04-20T18:45:27.771Z"
   },
   {
    "duration": 5,
    "start_time": "2023-04-20T18:45:27.815Z"
   },
   {
    "duration": 6,
    "start_time": "2023-04-20T18:45:27.822Z"
   },
   {
    "duration": 7,
    "start_time": "2023-04-20T18:54:04.650Z"
   },
   {
    "duration": 25,
    "start_time": "2023-04-20T18:54:21.947Z"
   },
   {
    "duration": 17,
    "start_time": "2023-04-20T18:56:57.820Z"
   },
   {
    "duration": 85,
    "start_time": "2023-04-20T18:59:50.253Z"
   },
   {
    "duration": 14,
    "start_time": "2023-04-20T19:00:22.934Z"
   },
   {
    "duration": 77,
    "start_time": "2023-04-20T19:03:21.151Z"
   },
   {
    "duration": 42,
    "start_time": "2023-04-20T19:03:27.970Z"
   },
   {
    "duration": 104,
    "start_time": "2023-04-20T19:03:37.767Z"
   },
   {
    "duration": 9,
    "start_time": "2023-04-20T19:03:39.474Z"
   },
   {
    "duration": 6,
    "start_time": "2023-04-20T19:03:40.062Z"
   },
   {
    "duration": 11,
    "start_time": "2023-04-20T19:03:49.888Z"
   },
   {
    "duration": 20,
    "start_time": "2023-04-20T19:03:51.860Z"
   },
   {
    "duration": 10,
    "start_time": "2023-04-20T19:03:52.318Z"
   },
   {
    "duration": 18,
    "start_time": "2023-04-20T19:04:30.403Z"
   },
   {
    "duration": 12,
    "start_time": "2023-04-20T19:08:58.976Z"
   },
   {
    "duration": 108,
    "start_time": "2023-04-20T19:10:31.391Z"
   },
   {
    "duration": 7,
    "start_time": "2023-04-20T19:10:34.176Z"
   },
   {
    "duration": 5,
    "start_time": "2023-04-20T19:10:34.780Z"
   },
   {
    "duration": 11,
    "start_time": "2023-04-20T19:10:39.873Z"
   },
   {
    "duration": 19,
    "start_time": "2023-04-20T19:10:42.740Z"
   },
   {
    "duration": 7,
    "start_time": "2023-04-20T19:11:21.653Z"
   },
   {
    "duration": 27,
    "start_time": "2023-04-20T19:12:04.768Z"
   },
   {
    "duration": 29,
    "start_time": "2023-04-20T19:12:24.271Z"
   },
   {
    "duration": 21,
    "start_time": "2023-04-20T19:12:42.248Z"
   },
   {
    "duration": 446,
    "start_time": "2023-04-20T19:13:10.077Z"
   },
   {
    "duration": 104,
    "start_time": "2023-04-20T19:13:10.525Z"
   },
   {
    "duration": 7,
    "start_time": "2023-04-20T19:13:10.631Z"
   },
   {
    "duration": 11,
    "start_time": "2023-04-20T19:13:10.640Z"
   },
   {
    "duration": 87,
    "start_time": "2023-04-20T19:13:10.653Z"
   },
   {
    "duration": 0,
    "start_time": "2023-04-20T19:13:10.742Z"
   },
   {
    "duration": 0,
    "start_time": "2023-04-20T19:13:10.743Z"
   },
   {
    "duration": 1,
    "start_time": "2023-04-20T19:13:10.744Z"
   },
   {
    "duration": 0,
    "start_time": "2023-04-20T19:13:10.746Z"
   },
   {
    "duration": 0,
    "start_time": "2023-04-20T19:13:10.747Z"
   },
   {
    "duration": 0,
    "start_time": "2023-04-20T19:13:10.748Z"
   },
   {
    "duration": 12,
    "start_time": "2023-04-20T19:13:16.688Z"
   },
   {
    "duration": 21,
    "start_time": "2023-04-20T19:13:19.906Z"
   },
   {
    "duration": 23,
    "start_time": "2023-04-20T19:13:44.127Z"
   },
   {
    "duration": 27,
    "start_time": "2023-04-20T19:13:59.883Z"
   },
   {
    "duration": 25,
    "start_time": "2023-04-20T19:14:04.590Z"
   },
   {
    "duration": 398,
    "start_time": "2023-04-20T19:14:45.434Z"
   },
   {
    "duration": 104,
    "start_time": "2023-04-20T19:14:45.834Z"
   },
   {
    "duration": 9,
    "start_time": "2023-04-20T19:14:45.939Z"
   },
   {
    "duration": 6,
    "start_time": "2023-04-20T19:14:45.951Z"
   },
   {
    "duration": 10,
    "start_time": "2023-04-20T19:14:45.960Z"
   },
   {
    "duration": 4,
    "start_time": "2023-04-20T19:14:45.973Z"
   },
   {
    "duration": 48,
    "start_time": "2023-04-20T19:14:45.979Z"
   },
   {
    "duration": 83,
    "start_time": "2023-04-20T19:14:46.029Z"
   },
   {
    "duration": 391,
    "start_time": "2023-04-20T19:15:29.752Z"
   },
   {
    "duration": 107,
    "start_time": "2023-04-20T19:15:30.145Z"
   },
   {
    "duration": 8,
    "start_time": "2023-04-20T19:15:30.255Z"
   },
   {
    "duration": 60,
    "start_time": "2023-04-20T19:15:30.265Z"
   },
   {
    "duration": 27,
    "start_time": "2023-04-20T19:15:30.327Z"
   },
   {
    "duration": 28,
    "start_time": "2023-04-20T19:15:30.356Z"
   },
   {
    "duration": 40,
    "start_time": "2023-04-20T19:15:30.386Z"
   },
   {
    "duration": 87,
    "start_time": "2023-04-20T19:15:30.428Z"
   },
   {
    "duration": 11,
    "start_time": "2023-04-20T19:15:52.807Z"
   },
   {
    "duration": 11,
    "start_time": "2023-04-20T19:16:02.826Z"
   },
   {
    "duration": 12,
    "start_time": "2023-04-20T19:18:06.990Z"
   },
   {
    "duration": 8,
    "start_time": "2023-04-20T19:18:29.211Z"
   },
   {
    "duration": 8,
    "start_time": "2023-04-20T19:18:35.159Z"
   },
   {
    "duration": 4,
    "start_time": "2023-04-20T19:20:22.316Z"
   },
   {
    "duration": 4,
    "start_time": "2023-04-20T19:20:47.876Z"
   },
   {
    "duration": 27,
    "start_time": "2023-04-20T19:20:48.368Z"
   },
   {
    "duration": 385,
    "start_time": "2023-04-20T19:20:52.864Z"
   },
   {
    "duration": 109,
    "start_time": "2023-04-20T19:20:53.251Z"
   },
   {
    "duration": 7,
    "start_time": "2023-04-20T19:20:53.362Z"
   },
   {
    "duration": 7,
    "start_time": "2023-04-20T19:20:53.372Z"
   },
   {
    "duration": 32,
    "start_time": "2023-04-20T19:20:53.382Z"
   },
   {
    "duration": 5,
    "start_time": "2023-04-20T19:20:53.416Z"
   },
   {
    "duration": 30,
    "start_time": "2023-04-20T19:20:53.423Z"
   },
   {
    "duration": 98,
    "start_time": "2023-04-20T19:20:53.454Z"
   },
   {
    "duration": 14,
    "start_time": "2023-04-20T19:22:06.416Z"
   },
   {
    "duration": 22,
    "start_time": "2023-04-20T19:22:17.376Z"
   },
   {
    "duration": 26,
    "start_time": "2023-04-20T19:22:38.978Z"
   },
   {
    "duration": 15,
    "start_time": "2023-04-20T19:22:44.543Z"
   },
   {
    "duration": 17,
    "start_time": "2023-04-20T19:22:57.294Z"
   },
   {
    "duration": 24,
    "start_time": "2023-04-20T19:24:31.213Z"
   },
   {
    "duration": 624,
    "start_time": "2023-04-20T19:24:36.392Z"
   },
   {
    "duration": 227,
    "start_time": "2023-04-20T19:25:02.809Z"
   },
   {
    "duration": 204,
    "start_time": "2023-04-20T19:25:19.059Z"
   },
   {
    "duration": 38,
    "start_time": "2023-04-20T19:25:59.830Z"
   },
   {
    "duration": 21,
    "start_time": "2023-04-20T19:26:11.425Z"
   },
   {
    "duration": 23,
    "start_time": "2023-04-20T19:26:21.142Z"
   },
   {
    "duration": 19,
    "start_time": "2023-04-20T19:26:41.943Z"
   },
   {
    "duration": 19,
    "start_time": "2023-04-20T19:26:48.378Z"
   },
   {
    "duration": 16,
    "start_time": "2023-04-20T19:28:51.049Z"
   },
   {
    "duration": 12,
    "start_time": "2023-04-20T19:29:07.222Z"
   },
   {
    "duration": 20,
    "start_time": "2023-04-20T19:29:13.895Z"
   },
   {
    "duration": 13,
    "start_time": "2023-04-20T19:29:37.629Z"
   },
   {
    "duration": 14,
    "start_time": "2023-04-20T19:29:42.811Z"
   },
   {
    "duration": 15,
    "start_time": "2023-04-20T19:29:51.578Z"
   },
   {
    "duration": 21,
    "start_time": "2023-04-20T19:29:56.977Z"
   },
   {
    "duration": 16,
    "start_time": "2023-04-20T19:30:10.739Z"
   },
   {
    "duration": 203,
    "start_time": "2023-04-20T19:30:43.779Z"
   },
   {
    "duration": 256,
    "start_time": "2023-04-20T19:30:49.711Z"
   },
   {
    "duration": 182,
    "start_time": "2023-04-20T19:32:12.632Z"
   },
   {
    "duration": 212,
    "start_time": "2023-04-20T19:32:18.694Z"
   },
   {
    "duration": 163,
    "start_time": "2023-04-20T19:32:57.854Z"
   },
   {
    "duration": 169,
    "start_time": "2023-04-20T19:33:08.032Z"
   },
   {
    "duration": 203,
    "start_time": "2023-04-20T19:33:26.146Z"
   },
   {
    "duration": 175,
    "start_time": "2023-04-20T19:34:07.944Z"
   },
   {
    "duration": 19,
    "start_time": "2023-04-20T19:34:26.855Z"
   },
   {
    "duration": 147,
    "start_time": "2023-04-20T19:34:41.379Z"
   },
   {
    "duration": 150,
    "start_time": "2023-04-20T19:34:52.849Z"
   },
   {
    "duration": 27,
    "start_time": "2023-04-20T19:35:33.855Z"
   },
   {
    "duration": 20,
    "start_time": "2023-04-20T19:35:43.448Z"
   },
   {
    "duration": 174,
    "start_time": "2023-04-20T19:35:53.915Z"
   },
   {
    "duration": 14,
    "start_time": "2023-04-20T19:35:59.333Z"
   },
   {
    "duration": 21,
    "start_time": "2023-04-20T19:36:16.712Z"
   },
   {
    "duration": 180,
    "start_time": "2023-04-20T19:36:23.882Z"
   },
   {
    "duration": 756,
    "start_time": "2023-04-20T19:37:13.884Z"
   },
   {
    "duration": 313,
    "start_time": "2023-04-20T19:37:29.849Z"
   },
   {
    "duration": 18,
    "start_time": "2023-04-20T19:37:48.352Z"
   },
   {
    "duration": 185,
    "start_time": "2023-04-20T19:37:57.221Z"
   },
   {
    "duration": 22,
    "start_time": "2023-04-20T19:38:20.389Z"
   },
   {
    "duration": 13,
    "start_time": "2023-04-20T19:38:36.587Z"
   },
   {
    "duration": 12,
    "start_time": "2023-04-20T19:38:47.904Z"
   },
   {
    "duration": 175,
    "start_time": "2023-04-20T19:38:53.384Z"
   },
   {
    "duration": 168,
    "start_time": "2023-04-20T19:43:20.770Z"
   },
   {
    "duration": 27,
    "start_time": "2023-04-20T19:43:43.839Z"
   },
   {
    "duration": 18,
    "start_time": "2023-04-20T19:44:05.791Z"
   },
   {
    "duration": 140,
    "start_time": "2023-04-20T19:44:10.099Z"
   },
   {
    "duration": 159,
    "start_time": "2023-04-20T19:44:26.083Z"
   },
   {
    "duration": 25,
    "start_time": "2023-04-20T19:44:39.615Z"
   },
   {
    "duration": 163,
    "start_time": "2023-04-20T19:44:49.466Z"
   },
   {
    "duration": 26,
    "start_time": "2023-04-20T19:45:01.557Z"
   },
   {
    "duration": 160,
    "start_time": "2023-04-20T19:45:10.757Z"
   },
   {
    "duration": 150,
    "start_time": "2023-04-20T19:45:19.966Z"
   },
   {
    "duration": 24,
    "start_time": "2023-04-20T19:45:35.662Z"
   },
   {
    "duration": 163,
    "start_time": "2023-04-20T19:45:42.304Z"
   },
   {
    "duration": 140,
    "start_time": "2023-04-20T19:46:11.835Z"
   },
   {
    "duration": 237,
    "start_time": "2023-04-20T19:46:23.790Z"
   },
   {
    "duration": 177,
    "start_time": "2023-04-20T19:47:06.676Z"
   },
   {
    "duration": 198,
    "start_time": "2023-04-20T19:47:54.016Z"
   },
   {
    "duration": 230,
    "start_time": "2023-04-20T19:48:02.856Z"
   },
   {
    "duration": 145,
    "start_time": "2023-04-20T19:48:07.288Z"
   },
   {
    "duration": 3,
    "start_time": "2023-04-21T07:44:31.310Z"
   },
   {
    "duration": 102,
    "start_time": "2023-04-21T07:44:33.156Z"
   },
   {
    "duration": 7,
    "start_time": "2023-04-21T07:44:34.529Z"
   },
   {
    "duration": 6,
    "start_time": "2023-04-21T07:44:34.821Z"
   },
   {
    "duration": 9,
    "start_time": "2023-04-21T07:44:35.902Z"
   },
   {
    "duration": 3,
    "start_time": "2023-04-21T07:44:36.483Z"
   },
   {
    "duration": 18,
    "start_time": "2023-04-21T07:44:36.756Z"
   },
   {
    "duration": 176,
    "start_time": "2023-04-21T07:44:40.789Z"
   },
   {
    "duration": 119,
    "start_time": "2023-04-21T07:44:44.079Z"
   },
   {
    "duration": 14,
    "start_time": "2023-04-21T07:44:47.277Z"
   },
   {
    "duration": 11,
    "start_time": "2023-04-21T07:45:23.457Z"
   },
   {
    "duration": 13,
    "start_time": "2023-04-21T07:45:46.902Z"
   },
   {
    "duration": 10,
    "start_time": "2023-04-21T07:46:00.993Z"
   },
   {
    "duration": 11,
    "start_time": "2023-04-21T07:46:23.322Z"
   },
   {
    "duration": 12,
    "start_time": "2023-04-21T07:46:29.298Z"
   },
   {
    "duration": 421,
    "start_time": "2023-04-21T07:46:47.881Z"
   },
   {
    "duration": 110,
    "start_time": "2023-04-21T07:46:48.305Z"
   },
   {
    "duration": 9,
    "start_time": "2023-04-21T07:46:48.417Z"
   },
   {
    "duration": 23,
    "start_time": "2023-04-21T07:46:48.429Z"
   },
   {
    "duration": 15,
    "start_time": "2023-04-21T07:46:48.456Z"
   },
   {
    "duration": 4,
    "start_time": "2023-04-21T07:46:48.472Z"
   },
   {
    "duration": 21,
    "start_time": "2023-04-21T07:46:48.477Z"
   },
   {
    "duration": 501,
    "start_time": "2023-04-21T07:46:48.512Z"
   },
   {
    "duration": 159,
    "start_time": "2023-04-21T07:46:49.016Z"
   },
   {
    "duration": 12,
    "start_time": "2023-04-21T07:46:49.177Z"
   },
   {
    "duration": 11,
    "start_time": "2023-04-21T07:47:18.123Z"
   },
   {
    "duration": 12,
    "start_time": "2023-04-21T07:47:22.404Z"
   },
   {
    "duration": 246,
    "start_time": "2023-04-21T07:47:36.237Z"
   },
   {
    "duration": 245,
    "start_time": "2023-04-21T07:47:46.004Z"
   },
   {
    "duration": 311,
    "start_time": "2023-04-21T07:48:17.937Z"
   },
   {
    "duration": 6,
    "start_time": "2023-04-21T07:51:36.375Z"
   },
   {
    "duration": 132,
    "start_time": "2023-04-21T07:51:41.984Z"
   },
   {
    "duration": 211,
    "start_time": "2023-04-21T07:52:01.910Z"
   },
   {
    "duration": 260,
    "start_time": "2023-04-21T07:52:07.884Z"
   },
   {
    "duration": 389,
    "start_time": "2023-04-21T07:52:16.276Z"
   },
   {
    "duration": 264,
    "start_time": "2023-04-21T07:52:22.943Z"
   },
   {
    "duration": 329,
    "start_time": "2023-04-21T07:53:26.492Z"
   },
   {
    "duration": 239,
    "start_time": "2023-04-21T07:54:57.792Z"
   },
   {
    "duration": 59,
    "start_time": "2023-04-21T07:55:25.395Z"
   },
   {
    "duration": 259,
    "start_time": "2023-04-21T07:55:33.391Z"
   },
   {
    "duration": 252,
    "start_time": "2023-04-21T07:56:48.727Z"
   },
   {
    "duration": 240,
    "start_time": "2023-04-21T07:56:57.605Z"
   },
   {
    "duration": 232,
    "start_time": "2023-04-21T07:57:03.567Z"
   },
   {
    "duration": 359,
    "start_time": "2023-04-21T07:57:27.770Z"
   },
   {
    "duration": 251,
    "start_time": "2023-04-21T07:57:33.889Z"
   },
   {
    "duration": 247,
    "start_time": "2023-04-21T07:57:39.459Z"
   },
   {
    "duration": 249,
    "start_time": "2023-04-21T07:59:55.565Z"
   },
   {
    "duration": 90,
    "start_time": "2023-04-21T08:12:00.018Z"
   },
   {
    "duration": 48,
    "start_time": "2023-04-21T08:12:20.014Z"
   },
   {
    "duration": 251,
    "start_time": "2023-04-21T08:12:41.638Z"
   },
   {
    "duration": 379,
    "start_time": "2023-04-21T08:13:19.579Z"
   },
   {
    "duration": 328,
    "start_time": "2023-04-21T08:14:18.861Z"
   },
   {
    "duration": 257,
    "start_time": "2023-04-21T08:15:16.057Z"
   },
   {
    "duration": 258,
    "start_time": "2023-04-21T08:15:53.580Z"
   },
   {
    "duration": 279,
    "start_time": "2023-04-21T08:16:02.732Z"
   },
   {
    "duration": 247,
    "start_time": "2023-04-21T08:16:53.066Z"
   },
   {
    "duration": 8,
    "start_time": "2023-04-21T08:17:47.904Z"
   },
   {
    "duration": 390,
    "start_time": "2023-04-21T08:17:53.672Z"
   },
   {
    "duration": 360,
    "start_time": "2023-04-21T08:18:12.080Z"
   },
   {
    "duration": 401,
    "start_time": "2023-04-21T08:18:18.953Z"
   },
   {
    "duration": 475,
    "start_time": "2023-04-21T08:18:45.783Z"
   },
   {
    "duration": 857,
    "start_time": "2023-04-21T08:18:56.664Z"
   },
   {
    "duration": 548,
    "start_time": "2023-04-21T08:26:42.177Z"
   },
   {
    "duration": 507,
    "start_time": "2023-04-21T08:26:51.560Z"
   },
   {
    "duration": 550,
    "start_time": "2023-04-21T08:27:02.356Z"
   },
   {
    "duration": 475,
    "start_time": "2023-04-21T08:27:10.004Z"
   },
   {
    "duration": 500,
    "start_time": "2023-04-21T08:27:32.851Z"
   },
   {
    "duration": 492,
    "start_time": "2023-04-21T08:30:48.135Z"
   },
   {
    "duration": 533,
    "start_time": "2023-04-21T08:30:58.558Z"
   },
   {
    "duration": 628,
    "start_time": "2023-04-21T08:33:39.136Z"
   },
   {
    "duration": 6,
    "start_time": "2023-04-21T08:34:44.334Z"
   },
   {
    "duration": 474,
    "start_time": "2023-04-21T08:34:55.268Z"
   },
   {
    "duration": 272,
    "start_time": "2023-04-21T08:36:08.240Z"
   },
   {
    "duration": 278,
    "start_time": "2023-04-21T08:36:14.683Z"
   },
   {
    "duration": 685,
    "start_time": "2023-04-21T08:40:30.083Z"
   },
   {
    "duration": 417,
    "start_time": "2023-04-21T08:40:38.280Z"
   },
   {
    "duration": 102,
    "start_time": "2023-04-21T08:40:38.699Z"
   },
   {
    "duration": 6,
    "start_time": "2023-04-21T08:40:38.803Z"
   },
   {
    "duration": 21,
    "start_time": "2023-04-21T08:40:38.812Z"
   },
   {
    "duration": 13,
    "start_time": "2023-04-21T08:40:38.835Z"
   },
   {
    "duration": 4,
    "start_time": "2023-04-21T08:40:38.849Z"
   },
   {
    "duration": 23,
    "start_time": "2023-04-21T08:40:38.855Z"
   },
   {
    "duration": 510,
    "start_time": "2023-04-21T08:40:38.880Z"
   },
   {
    "duration": 156,
    "start_time": "2023-04-21T08:40:39.392Z"
   },
   {
    "duration": 268,
    "start_time": "2023-04-21T08:40:39.550Z"
   },
   {
    "duration": 317,
    "start_time": "2023-04-21T08:40:39.820Z"
   },
   {
    "duration": 78,
    "start_time": "2023-04-21T08:40:40.139Z"
   },
   {
    "duration": 0,
    "start_time": "2023-04-21T08:40:40.219Z"
   },
   {
    "duration": 0,
    "start_time": "2023-04-21T08:40:40.220Z"
   },
   {
    "duration": 0,
    "start_time": "2023-04-21T08:40:40.222Z"
   },
   {
    "duration": 0,
    "start_time": "2023-04-21T08:40:40.223Z"
   },
   {
    "duration": 0,
    "start_time": "2023-04-21T08:40:40.224Z"
   },
   {
    "duration": 237,
    "start_time": "2023-04-21T08:40:52.156Z"
   },
   {
    "duration": 472,
    "start_time": "2023-04-21T08:40:54.158Z"
   },
   {
    "duration": 3,
    "start_time": "2023-04-21T08:40:57.905Z"
   },
   {
    "duration": 623,
    "start_time": "2023-04-21T08:40:58.844Z"
   },
   {
    "duration": 645,
    "start_time": "2023-04-21T08:41:15.608Z"
   },
   {
    "duration": 6,
    "start_time": "2023-04-21T09:04:25.148Z"
   },
   {
    "duration": 284,
    "start_time": "2023-04-21T09:04:31.760Z"
   },
   {
    "duration": 87,
    "start_time": "2023-04-21T09:05:18.660Z"
   },
   {
    "duration": 241,
    "start_time": "2023-04-21T09:06:46.657Z"
   },
   {
    "duration": 210,
    "start_time": "2023-04-21T09:07:32.061Z"
   },
   {
    "duration": 258,
    "start_time": "2023-04-21T09:56:39.921Z"
   },
   {
    "duration": 274,
    "start_time": "2023-04-21T09:56:53.251Z"
   },
   {
    "duration": 278,
    "start_time": "2023-04-21T09:56:57.725Z"
   },
   {
    "duration": 461,
    "start_time": "2023-04-21T09:58:14.358Z"
   },
   {
    "duration": 712,
    "start_time": "2023-04-21T09:58:36.169Z"
   },
   {
    "duration": 1069,
    "start_time": "2023-04-21T09:58:43.706Z"
   },
   {
    "duration": 1213,
    "start_time": "2023-04-21T09:58:51.241Z"
   },
   {
    "duration": 1126,
    "start_time": "2023-04-21T09:59:03.677Z"
   },
   {
    "duration": 1875,
    "start_time": "2023-04-21T09:59:12.949Z"
   },
   {
    "duration": 1144,
    "start_time": "2023-04-21T09:59:21.251Z"
   },
   {
    "duration": 1104,
    "start_time": "2023-04-21T09:59:27.193Z"
   },
   {
    "duration": 11,
    "start_time": "2023-04-21T10:00:18.945Z"
   },
   {
    "duration": 459,
    "start_time": "2023-04-21T10:00:32.609Z"
   },
   {
    "duration": 595,
    "start_time": "2023-04-21T10:00:37.276Z"
   },
   {
    "duration": 915,
    "start_time": "2023-04-21T10:00:59.079Z"
   },
   {
    "duration": 815,
    "start_time": "2023-04-21T10:01:08.542Z"
   },
   {
    "duration": 740,
    "start_time": "2023-04-21T10:01:31.905Z"
   },
   {
    "duration": 1032,
    "start_time": "2023-04-21T10:01:48.476Z"
   },
   {
    "duration": 761,
    "start_time": "2023-04-21T10:02:05.880Z"
   },
   {
    "duration": 1004,
    "start_time": "2023-04-21T10:02:14.175Z"
   },
   {
    "duration": 1145,
    "start_time": "2023-04-21T10:02:25.820Z"
   },
   {
    "duration": 1142,
    "start_time": "2023-04-21T10:03:04.788Z"
   },
   {
    "duration": 939,
    "start_time": "2023-04-21T10:03:33.027Z"
   },
   {
    "duration": 1121,
    "start_time": "2023-04-21T10:03:40.672Z"
   },
   {
    "duration": 900,
    "start_time": "2023-04-21T10:04:03.930Z"
   },
   {
    "duration": 1289,
    "start_time": "2023-04-21T10:04:13.478Z"
   },
   {
    "duration": 948,
    "start_time": "2023-04-21T10:04:22.046Z"
   },
   {
    "duration": 1163,
    "start_time": "2023-04-21T10:04:33.610Z"
   },
   {
    "duration": 1186,
    "start_time": "2023-04-21T10:04:50.254Z"
   },
   {
    "duration": 961,
    "start_time": "2023-04-21T10:05:18.092Z"
   },
   {
    "duration": 1402,
    "start_time": "2023-04-21T10:05:27.784Z"
   },
   {
    "duration": 941,
    "start_time": "2023-04-21T10:05:36.422Z"
   },
   {
    "duration": 1153,
    "start_time": "2023-04-21T10:06:09.028Z"
   },
   {
    "duration": 1033,
    "start_time": "2023-04-21T10:06:28.376Z"
   },
   {
    "duration": 1185,
    "start_time": "2023-04-21T10:06:34.905Z"
   },
   {
    "duration": 937,
    "start_time": "2023-04-21T10:06:49.457Z"
   },
   {
    "duration": 1230,
    "start_time": "2023-04-21T10:07:02.093Z"
   },
   {
    "duration": 961,
    "start_time": "2023-04-21T10:08:43.271Z"
   },
   {
    "duration": 1117,
    "start_time": "2023-04-21T10:08:55.457Z"
   },
   {
    "duration": 1207,
    "start_time": "2023-04-21T10:09:08.480Z"
   },
   {
    "duration": 3,
    "start_time": "2023-04-21T10:11:24.073Z"
   },
   {
    "duration": 108,
    "start_time": "2023-04-21T10:11:24.803Z"
   },
   {
    "duration": 9,
    "start_time": "2023-04-21T10:11:25.518Z"
   },
   {
    "duration": 10,
    "start_time": "2023-04-21T10:11:25.886Z"
   },
   {
    "duration": 14,
    "start_time": "2023-04-21T10:11:26.187Z"
   },
   {
    "duration": 4,
    "start_time": "2023-04-21T10:11:26.331Z"
   },
   {
    "duration": 21,
    "start_time": "2023-04-21T10:11:26.775Z"
   },
   {
    "duration": 190,
    "start_time": "2023-04-21T10:11:28.481Z"
   },
   {
    "duration": 144,
    "start_time": "2023-04-21T10:11:32.300Z"
   },
   {
    "duration": 269,
    "start_time": "2023-04-21T10:11:35.070Z"
   },
   {
    "duration": 269,
    "start_time": "2023-04-21T10:11:37.914Z"
   },
   {
    "duration": 266,
    "start_time": "2023-04-21T10:11:48.282Z"
   },
   {
    "duration": 522,
    "start_time": "2023-04-21T10:11:51.896Z"
   },
   {
    "duration": 1253,
    "start_time": "2023-04-21T10:12:06.693Z"
   },
   {
    "duration": 1009,
    "start_time": "2023-04-21T10:12:32.645Z"
   },
   {
    "duration": 515,
    "start_time": "2023-04-21T10:12:37.578Z"
   },
   {
    "duration": 5,
    "start_time": "2023-04-21T10:12:41.234Z"
   },
   {
    "duration": 1254,
    "start_time": "2023-04-21T10:12:44.708Z"
   },
   {
    "duration": 1181,
    "start_time": "2023-04-21T10:12:53.369Z"
   },
   {
    "duration": 329,
    "start_time": "2023-04-21T10:16:12.720Z"
   },
   {
    "duration": 288,
    "start_time": "2023-04-21T10:18:27.589Z"
   },
   {
    "duration": 315,
    "start_time": "2023-04-21T10:18:32.512Z"
   },
   {
    "duration": 273,
    "start_time": "2023-04-21T10:18:47.796Z"
   },
   {
    "duration": 283,
    "start_time": "2023-04-21T10:19:07.730Z"
   },
   {
    "duration": 285,
    "start_time": "2023-04-21T10:19:36.700Z"
   },
   {
    "duration": 280,
    "start_time": "2023-04-21T10:20:15.612Z"
   },
   {
    "duration": 276,
    "start_time": "2023-04-21T10:21:02.403Z"
   },
   {
    "duration": 256,
    "start_time": "2023-04-21T10:21:18.516Z"
   },
   {
    "duration": 272,
    "start_time": "2023-04-21T10:21:29.700Z"
   },
   {
    "duration": 253,
    "start_time": "2023-04-21T10:21:35.625Z"
   },
   {
    "duration": 78,
    "start_time": "2023-04-21T10:22:15.181Z"
   },
   {
    "duration": 266,
    "start_time": "2023-04-21T10:22:34.115Z"
   },
   {
    "duration": 321,
    "start_time": "2023-04-21T10:24:03.414Z"
   },
   {
    "duration": 607,
    "start_time": "2023-04-21T10:24:14.182Z"
   },
   {
    "duration": 411,
    "start_time": "2023-04-21T10:24:22.848Z"
   },
   {
    "duration": 295,
    "start_time": "2023-04-21T10:24:32.564Z"
   },
   {
    "duration": 51,
    "start_time": "2023-04-21T10:24:56.714Z"
   },
   {
    "duration": 280,
    "start_time": "2023-04-21T10:25:22.168Z"
   },
   {
    "duration": 271,
    "start_time": "2023-04-21T10:30:14.940Z"
   },
   {
    "duration": 298,
    "start_time": "2023-04-21T10:30:33.238Z"
   },
   {
    "duration": 284,
    "start_time": "2023-04-21T10:31:15.169Z"
   },
   {
    "duration": 293,
    "start_time": "2023-04-21T10:31:59.622Z"
   },
   {
    "duration": 357,
    "start_time": "2023-04-21T10:32:38.870Z"
   },
   {
    "duration": 56,
    "start_time": "2023-04-21T10:33:26.434Z"
   },
   {
    "duration": 55,
    "start_time": "2023-04-21T10:33:33.985Z"
   },
   {
    "duration": 369,
    "start_time": "2023-04-21T10:33:38.474Z"
   },
   {
    "duration": 536,
    "start_time": "2023-04-21T10:34:04.338Z"
   },
   {
    "duration": 364,
    "start_time": "2023-04-21T10:34:45.936Z"
   },
   {
    "duration": 2,
    "start_time": "2023-04-21T10:35:29.371Z"
   },
   {
    "duration": 302,
    "start_time": "2023-04-21T10:35:49.820Z"
   },
   {
    "duration": 285,
    "start_time": "2023-04-21T10:37:01.039Z"
   },
   {
    "duration": 407,
    "start_time": "2023-04-21T10:37:46.678Z"
   },
   {
    "duration": 4,
    "start_time": "2023-04-21T10:37:53.854Z"
   },
   {
    "duration": 309,
    "start_time": "2023-04-21T10:37:59.909Z"
   },
   {
    "duration": 296,
    "start_time": "2023-04-21T10:38:32.289Z"
   },
   {
    "duration": 266,
    "start_time": "2023-04-21T10:38:38.077Z"
   },
   {
    "duration": 310,
    "start_time": "2023-04-21T10:38:46.922Z"
   },
   {
    "duration": 282,
    "start_time": "2023-04-21T10:39:08.304Z"
   },
   {
    "duration": 185,
    "start_time": "2023-04-21T10:39:19.993Z"
   },
   {
    "duration": 296,
    "start_time": "2023-04-21T10:40:00.372Z"
   },
   {
    "duration": 288,
    "start_time": "2023-04-21T10:40:19.546Z"
   },
   {
    "duration": 115,
    "start_time": "2023-04-21T10:40:32.388Z"
   },
   {
    "duration": 267,
    "start_time": "2023-04-21T10:40:47.755Z"
   },
   {
    "duration": 514,
    "start_time": "2023-04-21T10:41:26.703Z"
   },
   {
    "duration": 263,
    "start_time": "2023-04-21T10:41:47.712Z"
   },
   {
    "duration": 269,
    "start_time": "2023-04-21T10:41:54.096Z"
   },
   {
    "duration": 282,
    "start_time": "2023-04-21T10:42:12.705Z"
   },
   {
    "duration": 267,
    "start_time": "2023-04-21T10:42:28.190Z"
   },
   {
    "duration": 288,
    "start_time": "2023-04-21T10:42:32.568Z"
   },
   {
    "duration": 297,
    "start_time": "2023-04-21T10:42:59.065Z"
   },
   {
    "duration": 275,
    "start_time": "2023-04-21T10:43:12.232Z"
   },
   {
    "duration": 289,
    "start_time": "2023-04-21T10:43:20.570Z"
   },
   {
    "duration": 303,
    "start_time": "2023-04-21T10:43:29.388Z"
   },
   {
    "duration": 265,
    "start_time": "2023-04-21T10:43:41.322Z"
   },
   {
    "duration": 316,
    "start_time": "2023-04-21T10:44:08.972Z"
   },
   {
    "duration": 324,
    "start_time": "2023-04-21T10:44:30.754Z"
   },
   {
    "duration": 282,
    "start_time": "2023-04-21T10:44:34.816Z"
   },
   {
    "duration": 541,
    "start_time": "2023-04-21T10:44:59.424Z"
   },
   {
    "duration": 293,
    "start_time": "2023-04-21T10:45:42.372Z"
   },
   {
    "duration": 7,
    "start_time": "2023-04-21T10:45:53.272Z"
   },
   {
    "duration": 298,
    "start_time": "2023-04-21T10:45:57.538Z"
   },
   {
    "duration": 322,
    "start_time": "2023-04-21T10:46:29.123Z"
   },
   {
    "duration": 329,
    "start_time": "2023-04-21T10:48:19.076Z"
   },
   {
    "duration": 298,
    "start_time": "2023-04-21T10:48:33.077Z"
   },
   {
    "duration": 465,
    "start_time": "2023-04-21T10:48:37.743Z"
   },
   {
    "duration": 327,
    "start_time": "2023-04-21T10:48:49.144Z"
   },
   {
    "duration": 287,
    "start_time": "2023-04-21T10:48:56.907Z"
   },
   {
    "duration": 320,
    "start_time": "2023-04-21T10:49:02.663Z"
   },
   {
    "duration": 321,
    "start_time": "2023-04-21T10:49:18.505Z"
   },
   {
    "duration": 604,
    "start_time": "2023-04-21T10:49:26.107Z"
   },
   {
    "duration": 294,
    "start_time": "2023-04-21T10:49:32.044Z"
   },
   {
    "duration": 289,
    "start_time": "2023-04-21T10:49:37.522Z"
   },
   {
    "duration": 303,
    "start_time": "2023-04-21T10:49:53.475Z"
   },
   {
    "duration": 328,
    "start_time": "2023-04-21T10:50:01.908Z"
   },
   {
    "duration": 280,
    "start_time": "2023-04-21T10:50:14.391Z"
   },
   {
    "duration": 303,
    "start_time": "2023-04-21T10:50:26.173Z"
   },
   {
    "duration": 331,
    "start_time": "2023-04-21T10:50:33.767Z"
   },
   {
    "duration": 357,
    "start_time": "2023-04-21T10:50:41.882Z"
   },
   {
    "duration": 297,
    "start_time": "2023-04-21T10:50:47.667Z"
   },
   {
    "duration": 277,
    "start_time": "2023-04-21T10:51:41.727Z"
   },
   {
    "duration": 634,
    "start_time": "2023-04-21T10:51:50.791Z"
   },
   {
    "duration": 301,
    "start_time": "2023-04-21T10:52:00.725Z"
   },
   {
    "duration": 275,
    "start_time": "2023-04-21T10:52:07.292Z"
   },
   {
    "duration": 328,
    "start_time": "2023-04-21T10:52:13.991Z"
   },
   {
    "duration": 280,
    "start_time": "2023-04-21T10:52:24.059Z"
   },
   {
    "duration": 281,
    "start_time": "2023-04-21T10:52:28.301Z"
   },
   {
    "duration": 293,
    "start_time": "2023-04-21T10:52:32.816Z"
   },
   {
    "duration": 289,
    "start_time": "2023-04-21T10:53:11.276Z"
   },
   {
    "duration": 290,
    "start_time": "2023-04-21T10:53:30.063Z"
   },
   {
    "duration": 271,
    "start_time": "2023-04-21T10:53:37.829Z"
   },
   {
    "duration": 273,
    "start_time": "2023-04-21T10:53:48.792Z"
   },
   {
    "duration": 285,
    "start_time": "2023-04-21T10:54:09.764Z"
   },
   {
    "duration": 306,
    "start_time": "2023-04-21T10:54:16.542Z"
   },
   {
    "duration": 804,
    "start_time": "2023-04-21T10:54:22.475Z"
   },
   {
    "duration": 291,
    "start_time": "2023-04-21T10:54:28.877Z"
   },
   {
    "duration": 267,
    "start_time": "2023-04-21T10:54:57.892Z"
   },
   {
    "duration": 285,
    "start_time": "2023-04-21T10:59:30.615Z"
   },
   {
    "duration": 258,
    "start_time": "2023-04-21T10:59:35.668Z"
   },
   {
    "duration": 285,
    "start_time": "2023-04-21T10:59:51.542Z"
   },
   {
    "duration": 269,
    "start_time": "2023-04-21T11:00:16.126Z"
   },
   {
    "duration": 265,
    "start_time": "2023-04-21T11:00:45.995Z"
   },
   {
    "duration": 273,
    "start_time": "2023-04-21T11:01:25.893Z"
   },
   {
    "duration": 283,
    "start_time": "2023-04-21T11:01:32.492Z"
   },
   {
    "duration": 273,
    "start_time": "2023-04-21T11:01:42.357Z"
   },
   {
    "duration": 286,
    "start_time": "2023-04-21T11:01:58.426Z"
   },
   {
    "duration": 286,
    "start_time": "2023-04-21T11:02:10.855Z"
   },
   {
    "duration": 317,
    "start_time": "2023-04-21T11:02:18.618Z"
   },
   {
    "duration": 274,
    "start_time": "2023-04-21T11:02:37.861Z"
   },
   {
    "duration": 270,
    "start_time": "2023-04-21T11:02:53.965Z"
   },
   {
    "duration": 885,
    "start_time": "2023-04-21T11:02:58.461Z"
   },
   {
    "duration": 280,
    "start_time": "2023-04-21T11:03:13.256Z"
   },
   {
    "duration": 310,
    "start_time": "2023-04-21T11:03:24.767Z"
   },
   {
    "duration": 295,
    "start_time": "2023-04-21T11:04:28.979Z"
   },
   {
    "duration": 271,
    "start_time": "2023-04-21T11:05:27.721Z"
   },
   {
    "duration": 285,
    "start_time": "2023-04-21T11:05:38.647Z"
   },
   {
    "duration": 286,
    "start_time": "2023-04-21T11:06:12.958Z"
   },
   {
    "duration": 291,
    "start_time": "2023-04-21T11:06:25.229Z"
   },
   {
    "duration": 272,
    "start_time": "2023-04-21T11:06:41.033Z"
   },
   {
    "duration": 283,
    "start_time": "2023-04-21T11:06:46.713Z"
   },
   {
    "duration": 275,
    "start_time": "2023-04-21T11:07:25.055Z"
   },
   {
    "duration": 281,
    "start_time": "2023-04-21T11:07:50.796Z"
   },
   {
    "duration": 299,
    "start_time": "2023-04-21T11:08:02.528Z"
   },
   {
    "duration": 261,
    "start_time": "2023-04-21T11:08:12.246Z"
   },
   {
    "duration": 272,
    "start_time": "2023-04-21T11:08:20.085Z"
   },
   {
    "duration": 272,
    "start_time": "2023-04-21T11:08:25.515Z"
   },
   {
    "duration": 296,
    "start_time": "2023-04-21T11:08:33.111Z"
   },
   {
    "duration": 283,
    "start_time": "2023-04-21T11:08:40.663Z"
   },
   {
    "duration": 258,
    "start_time": "2023-04-21T11:08:58.434Z"
   },
   {
    "duration": 1226,
    "start_time": "2023-04-21T11:11:13.785Z"
   },
   {
    "duration": 526,
    "start_time": "2023-04-21T11:12:03.755Z"
   },
   {
    "duration": 250,
    "start_time": "2023-04-21T11:13:18.082Z"
   },
   {
    "duration": 3,
    "start_time": "2023-04-21T11:14:29.582Z"
   },
   {
    "duration": 1076,
    "start_time": "2023-04-21T11:14:39.600Z"
   },
   {
    "duration": 169,
    "start_time": "2023-04-21T11:14:42.140Z"
   },
   {
    "duration": 110,
    "start_time": "2023-04-21T11:14:55.620Z"
   },
   {
    "duration": 9,
    "start_time": "2023-04-21T11:14:57.182Z"
   },
   {
    "duration": 9,
    "start_time": "2023-04-21T11:14:57.482Z"
   },
   {
    "duration": 14,
    "start_time": "2023-04-21T11:14:57.779Z"
   },
   {
    "duration": 4,
    "start_time": "2023-04-21T11:14:57.932Z"
   },
   {
    "duration": 28,
    "start_time": "2023-04-21T11:14:58.079Z"
   },
   {
    "duration": 210,
    "start_time": "2023-04-21T11:15:00.284Z"
   },
   {
    "duration": 136,
    "start_time": "2023-04-21T11:15:03.551Z"
   },
   {
    "duration": 275,
    "start_time": "2023-04-21T11:15:06.769Z"
   },
   {
    "duration": 276,
    "start_time": "2023-04-21T11:15:11.264Z"
   },
   {
    "duration": 330,
    "start_time": "2023-04-21T11:15:15.887Z"
   },
   {
    "duration": 360,
    "start_time": "2023-04-21T11:15:19.864Z"
   },
   {
    "duration": 344,
    "start_time": "2023-04-21T11:15:36.280Z"
   },
   {
    "duration": 255,
    "start_time": "2023-04-21T11:15:53.982Z"
   },
   {
    "duration": 496,
    "start_time": "2023-04-21T11:18:35.047Z"
   },
   {
    "duration": 522,
    "start_time": "2023-04-21T11:18:42.801Z"
   },
   {
    "duration": 707,
    "start_time": "2023-04-21T11:18:48.549Z"
   },
   {
    "duration": 280,
    "start_time": "2023-04-21T11:28:16.269Z"
   },
   {
    "duration": 300,
    "start_time": "2023-04-21T11:28:47.011Z"
   },
   {
    "duration": 267,
    "start_time": "2023-04-21T11:29:10.238Z"
   },
   {
    "duration": 1120,
    "start_time": "2023-04-21T11:29:25.000Z"
   },
   {
    "duration": 170,
    "start_time": "2023-04-21T11:29:26.122Z"
   },
   {
    "duration": 8,
    "start_time": "2023-04-21T11:29:26.294Z"
   },
   {
    "duration": 9,
    "start_time": "2023-04-21T11:29:26.304Z"
   },
   {
    "duration": 10,
    "start_time": "2023-04-21T11:29:26.315Z"
   },
   {
    "duration": 5,
    "start_time": "2023-04-21T11:29:26.327Z"
   },
   {
    "duration": 38,
    "start_time": "2023-04-21T11:29:26.334Z"
   },
   {
    "duration": 207,
    "start_time": "2023-04-21T11:29:26.374Z"
   },
   {
    "duration": 163,
    "start_time": "2023-04-21T11:29:26.583Z"
   },
   {
    "duration": 287,
    "start_time": "2023-04-21T11:29:26.748Z"
   },
   {
    "duration": 301,
    "start_time": "2023-04-21T11:29:27.037Z"
   },
   {
    "duration": 288,
    "start_time": "2023-04-21T11:29:27.340Z"
   },
   {
    "duration": 624,
    "start_time": "2023-04-21T11:29:27.630Z"
   },
   {
    "duration": 2,
    "start_time": "2023-04-21T11:29:28.256Z"
   },
   {
    "duration": 539,
    "start_time": "2023-04-21T11:29:28.260Z"
   },
   {
    "duration": 10,
    "start_time": "2023-04-21T11:29:28.801Z"
   },
   {
    "duration": 1067,
    "start_time": "2023-04-21T11:31:00.721Z"
   },
   {
    "duration": 1113,
    "start_time": "2023-04-21T11:31:32.094Z"
   },
   {
    "duration": 184,
    "start_time": "2023-04-21T11:31:33.210Z"
   },
   {
    "duration": 10,
    "start_time": "2023-04-21T11:31:33.396Z"
   },
   {
    "duration": 11,
    "start_time": "2023-04-21T11:31:33.408Z"
   },
   {
    "duration": 14,
    "start_time": "2023-04-21T11:31:33.421Z"
   },
   {
    "duration": 4,
    "start_time": "2023-04-21T11:31:33.437Z"
   },
   {
    "duration": 25,
    "start_time": "2023-04-21T11:31:33.442Z"
   },
   {
    "duration": 236,
    "start_time": "2023-04-21T11:31:33.469Z"
   },
   {
    "duration": 160,
    "start_time": "2023-04-21T11:31:33.712Z"
   },
   {
    "duration": 321,
    "start_time": "2023-04-21T11:31:33.874Z"
   },
   {
    "duration": 371,
    "start_time": "2023-04-21T11:31:34.197Z"
   },
   {
    "duration": 299,
    "start_time": "2023-04-21T11:31:34.570Z"
   },
   {
    "duration": 679,
    "start_time": "2023-04-21T11:31:34.871Z"
   },
   {
    "duration": 3,
    "start_time": "2023-04-21T11:31:35.552Z"
   },
   {
    "duration": 1099,
    "start_time": "2023-04-21T11:31:35.557Z"
   },
   {
    "duration": 5,
    "start_time": "2023-04-21T11:31:36.658Z"
   },
   {
    "duration": 277,
    "start_time": "2023-04-21T11:32:37.487Z"
   },
   {
    "duration": 264,
    "start_time": "2023-04-21T11:32:47.865Z"
   },
   {
    "duration": 1122,
    "start_time": "2023-04-21T11:33:19.459Z"
   },
   {
    "duration": 46,
    "start_time": "2023-04-21T11:33:54.940Z"
   },
   {
    "duration": 247,
    "start_time": "2023-04-21T11:34:07.167Z"
   },
   {
    "duration": 1179,
    "start_time": "2023-04-21T11:34:18.880Z"
   },
   {
    "duration": 563,
    "start_time": "2023-04-21T11:35:02.516Z"
   },
   {
    "duration": 519,
    "start_time": "2023-04-21T11:35:45.205Z"
   },
   {
    "duration": 678,
    "start_time": "2023-04-21T11:36:20.458Z"
   },
   {
    "duration": 379,
    "start_time": "2023-04-21T11:36:46.361Z"
   },
   {
    "duration": 392,
    "start_time": "2023-04-21T11:37:22.338Z"
   },
   {
    "duration": 1121,
    "start_time": "2023-04-21T11:43:04.442Z"
   },
   {
    "duration": 175,
    "start_time": "2023-04-21T11:43:05.565Z"
   },
   {
    "duration": 8,
    "start_time": "2023-04-21T11:43:05.742Z"
   },
   {
    "duration": 26,
    "start_time": "2023-04-21T11:43:05.751Z"
   },
   {
    "duration": 11,
    "start_time": "2023-04-21T11:43:05.779Z"
   },
   {
    "duration": 3,
    "start_time": "2023-04-21T11:43:05.792Z"
   },
   {
    "duration": 33,
    "start_time": "2023-04-21T11:43:05.797Z"
   },
   {
    "duration": 220,
    "start_time": "2023-04-21T11:43:05.833Z"
   },
   {
    "duration": 147,
    "start_time": "2023-04-21T11:43:06.055Z"
   },
   {
    "duration": 288,
    "start_time": "2023-04-21T11:43:06.211Z"
   },
   {
    "duration": 298,
    "start_time": "2023-04-21T11:43:06.501Z"
   },
   {
    "duration": 264,
    "start_time": "2023-04-21T11:43:06.801Z"
   },
   {
    "duration": 625,
    "start_time": "2023-04-21T11:43:07.067Z"
   },
   {
    "duration": 3,
    "start_time": "2023-04-21T11:43:07.694Z"
   },
   {
    "duration": 536,
    "start_time": "2023-04-21T11:43:07.699Z"
   },
   {
    "duration": 4,
    "start_time": "2023-04-21T11:43:08.237Z"
   },
   {
    "duration": 393,
    "start_time": "2023-04-21T11:43:08.243Z"
   },
   {
    "duration": 460,
    "start_time": "2023-04-21T11:43:08.638Z"
   },
   {
    "duration": 106,
    "start_time": "2023-04-21T11:46:00.920Z"
   },
   {
    "duration": 28,
    "start_time": "2023-04-21T11:46:13.176Z"
   },
   {
    "duration": 12,
    "start_time": "2023-04-21T11:49:54.778Z"
   },
   {
    "duration": 27,
    "start_time": "2023-04-21T11:50:08.877Z"
   },
   {
    "duration": 32,
    "start_time": "2023-04-21T11:50:16.679Z"
   },
   {
    "duration": 18,
    "start_time": "2023-04-21T11:50:43.649Z"
   },
   {
    "duration": 26,
    "start_time": "2023-04-21T11:51:10.428Z"
   },
   {
    "duration": 29,
    "start_time": "2023-04-21T11:51:47.680Z"
   },
   {
    "duration": 30,
    "start_time": "2023-04-21T11:52:15.278Z"
   },
   {
    "duration": 29,
    "start_time": "2023-04-21T11:52:23.379Z"
   },
   {
    "duration": 31,
    "start_time": "2023-04-21T11:52:33.230Z"
   },
   {
    "duration": 29,
    "start_time": "2023-04-21T11:53:16.222Z"
   },
   {
    "duration": 32,
    "start_time": "2023-04-21T11:53:54.863Z"
   },
   {
    "duration": 5,
    "start_time": "2023-04-21T11:54:30.809Z"
   },
   {
    "duration": 32,
    "start_time": "2023-04-21T11:54:39.102Z"
   },
   {
    "duration": 37,
    "start_time": "2023-04-21T11:55:42.229Z"
   },
   {
    "duration": 38,
    "start_time": "2023-04-21T11:55:53.936Z"
   },
   {
    "duration": 49,
    "start_time": "2023-04-21T11:56:07.885Z"
   },
   {
    "duration": 38,
    "start_time": "2023-04-21T11:56:39.562Z"
   },
   {
    "duration": 37,
    "start_time": "2023-04-21T11:56:56.262Z"
   },
   {
    "duration": 19,
    "start_time": "2023-04-21T11:57:24.623Z"
   },
   {
    "duration": 40,
    "start_time": "2023-04-21T11:58:32.363Z"
   },
   {
    "duration": 10,
    "start_time": "2023-04-21T11:58:45.395Z"
   },
   {
    "duration": 11,
    "start_time": "2023-04-21T11:58:51.679Z"
   },
   {
    "duration": 22,
    "start_time": "2023-04-21T11:59:01.304Z"
   },
   {
    "duration": 6,
    "start_time": "2023-04-21T11:59:07.379Z"
   },
   {
    "duration": 5,
    "start_time": "2023-04-21T11:59:40.186Z"
   },
   {
    "duration": 15,
    "start_time": "2023-04-21T11:59:49.746Z"
   },
   {
    "duration": 26,
    "start_time": "2023-04-21T12:00:09.398Z"
   },
   {
    "duration": 22,
    "start_time": "2023-04-21T12:01:05.448Z"
   },
   {
    "duration": 10,
    "start_time": "2023-04-21T12:02:06.231Z"
   },
   {
    "duration": 411,
    "start_time": "2023-04-21T12:02:21.383Z"
   },
   {
    "duration": 49,
    "start_time": "2023-04-21T12:02:59.831Z"
   },
   {
    "duration": 413,
    "start_time": "2023-04-21T12:03:03.716Z"
   },
   {
    "duration": 398,
    "start_time": "2023-04-21T12:05:09.869Z"
   },
   {
    "duration": 484,
    "start_time": "2023-04-21T12:05:19.930Z"
   },
   {
    "duration": 549,
    "start_time": "2023-04-21T12:05:37.883Z"
   },
   {
    "duration": 379,
    "start_time": "2023-04-21T12:06:38.953Z"
   },
   {
    "duration": 298,
    "start_time": "2023-04-21T12:06:47.306Z"
   },
   {
    "duration": 461,
    "start_time": "2023-04-21T12:06:52.422Z"
   },
   {
    "duration": 614,
    "start_time": "2023-04-21T12:08:01.521Z"
   },
   {
    "duration": 552,
    "start_time": "2023-04-21T12:09:03.052Z"
   },
   {
    "duration": 528,
    "start_time": "2023-04-21T12:09:25.617Z"
   },
   {
    "duration": 721,
    "start_time": "2023-04-21T12:09:38.834Z"
   },
   {
    "duration": 765,
    "start_time": "2023-04-21T12:09:59.853Z"
   },
   {
    "duration": 545,
    "start_time": "2023-04-21T12:10:13.450Z"
   },
   {
    "duration": 607,
    "start_time": "2023-04-21T12:11:13.084Z"
   },
   {
    "duration": 10,
    "start_time": "2023-04-21T12:11:58.371Z"
   },
   {
    "duration": 10,
    "start_time": "2023-04-21T12:12:06.618Z"
   },
   {
    "duration": 9,
    "start_time": "2023-04-21T12:12:42.087Z"
   },
   {
    "duration": 126,
    "start_time": "2023-04-21T12:13:05.235Z"
   },
   {
    "duration": 291,
    "start_time": "2023-04-21T12:16:50.661Z"
   },
   {
    "duration": 379,
    "start_time": "2023-04-21T12:17:00.333Z"
   },
   {
    "duration": 477,
    "start_time": "2023-04-21T12:17:09.650Z"
   },
   {
    "duration": 478,
    "start_time": "2023-04-21T12:17:20.753Z"
   },
   {
    "duration": 427,
    "start_time": "2023-04-21T12:17:44.506Z"
   },
   {
    "duration": 283,
    "start_time": "2023-04-21T12:18:08.328Z"
   },
   {
    "duration": 570,
    "start_time": "2023-04-21T12:18:31.977Z"
   },
   {
    "duration": 539,
    "start_time": "2023-04-21T12:18:47.804Z"
   },
   {
    "duration": 784,
    "start_time": "2023-04-21T12:18:56.988Z"
   },
   {
    "duration": 468,
    "start_time": "2023-04-21T12:19:18.305Z"
   },
   {
    "duration": 399,
    "start_time": "2023-04-21T12:19:27.053Z"
   },
   {
    "duration": 374,
    "start_time": "2023-04-21T12:23:01.810Z"
   },
   {
    "duration": 50,
    "start_time": "2023-04-21T12:24:47.391Z"
   },
   {
    "duration": 58,
    "start_time": "2023-04-21T12:25:03.940Z"
   },
   {
    "duration": 50,
    "start_time": "2023-04-21T12:25:40.340Z"
   },
   {
    "duration": 12,
    "start_time": "2023-04-21T12:26:18.294Z"
   },
   {
    "duration": 54,
    "start_time": "2023-04-21T12:26:27.207Z"
   },
   {
    "duration": 11,
    "start_time": "2023-04-21T12:26:37.410Z"
   },
   {
    "duration": 13,
    "start_time": "2023-04-21T12:27:58.656Z"
   },
   {
    "duration": 625,
    "start_time": "2023-04-21T12:28:06.276Z"
   },
   {
    "duration": 262,
    "start_time": "2023-04-21T12:28:32.076Z"
   },
   {
    "duration": 290,
    "start_time": "2023-04-21T12:28:40.326Z"
   },
   {
    "duration": 616,
    "start_time": "2023-04-21T12:28:46.224Z"
   },
   {
    "duration": 250,
    "start_time": "2023-04-21T12:29:12.974Z"
   },
   {
    "duration": 51,
    "start_time": "2023-04-21T12:29:36.425Z"
   },
   {
    "duration": 266,
    "start_time": "2023-04-21T12:29:50.913Z"
   },
   {
    "duration": 268,
    "start_time": "2023-04-21T12:31:05.529Z"
   },
   {
    "duration": 338,
    "start_time": "2023-04-21T12:31:16.276Z"
   },
   {
    "duration": 123,
    "start_time": "2023-04-21T12:31:42.364Z"
   },
   {
    "duration": 492,
    "start_time": "2023-04-21T12:32:01.011Z"
   },
   {
    "duration": 472,
    "start_time": "2023-04-21T12:32:17.660Z"
   },
   {
    "duration": 407,
    "start_time": "2023-04-21T12:32:25.092Z"
   },
   {
    "duration": 918,
    "start_time": "2023-04-21T12:32:34.847Z"
   },
   {
    "duration": 487,
    "start_time": "2023-04-21T12:32:43.061Z"
   },
   {
    "duration": 516,
    "start_time": "2023-04-21T12:32:50.518Z"
   },
   {
    "duration": 472,
    "start_time": "2023-04-21T12:32:55.815Z"
   },
   {
    "duration": 504,
    "start_time": "2023-04-21T12:33:13.762Z"
   },
   {
    "duration": 839,
    "start_time": "2023-04-21T12:33:22.035Z"
   },
   {
    "duration": 594,
    "start_time": "2023-04-21T12:33:28.410Z"
   },
   {
    "duration": 527,
    "start_time": "2023-04-21T12:34:06.820Z"
   },
   {
    "duration": 514,
    "start_time": "2023-04-21T12:34:32.552Z"
   },
   {
    "duration": 522,
    "start_time": "2023-04-21T12:35:11.911Z"
   },
   {
    "duration": 451,
    "start_time": "2023-04-21T12:35:20.634Z"
   },
   {
    "duration": 167,
    "start_time": "2023-04-21T12:35:43.929Z"
   },
   {
    "duration": 811,
    "start_time": "2023-04-21T12:35:47.913Z"
   },
   {
    "duration": 383,
    "start_time": "2023-04-21T12:36:10.094Z"
   },
   {
    "duration": 504,
    "start_time": "2023-04-21T12:37:19.678Z"
   },
   {
    "duration": 459,
    "start_time": "2023-04-21T12:37:29.912Z"
   },
   {
    "duration": 469,
    "start_time": "2023-04-21T12:37:37.793Z"
   },
   {
    "duration": 16,
    "start_time": "2023-04-21T12:38:09.160Z"
   },
   {
    "duration": 555,
    "start_time": "2023-04-21T12:38:29.731Z"
   },
   {
    "duration": 812,
    "start_time": "2023-04-21T12:40:17.565Z"
   },
   {
    "duration": 489,
    "start_time": "2023-04-21T12:40:29.464Z"
   },
   {
    "duration": 563,
    "start_time": "2023-04-21T12:40:48.618Z"
   },
   {
    "duration": 492,
    "start_time": "2023-04-21T12:41:01.347Z"
   },
   {
    "duration": 474,
    "start_time": "2023-04-21T12:41:29.545Z"
   },
   {
    "duration": 823,
    "start_time": "2023-04-21T12:42:33.833Z"
   },
   {
    "duration": 889,
    "start_time": "2023-04-21T12:43:25.196Z"
   },
   {
    "duration": 477,
    "start_time": "2023-04-21T12:43:36.376Z"
   },
   {
    "duration": 656,
    "start_time": "2023-04-21T12:45:36.097Z"
   },
   {
    "duration": 680,
    "start_time": "2023-04-21T12:45:48.419Z"
   },
   {
    "duration": 270,
    "start_time": "2023-04-21T12:45:51.436Z"
   },
   {
    "duration": 669,
    "start_time": "2023-04-21T12:45:56.448Z"
   },
   {
    "duration": 733,
    "start_time": "2023-04-21T12:47:41.815Z"
   },
   {
    "duration": 423,
    "start_time": "2023-04-21T12:49:34.953Z"
   },
   {
    "duration": 847,
    "start_time": "2023-04-21T12:50:52.498Z"
   },
   {
    "duration": 568,
    "start_time": "2023-04-21T12:50:59.617Z"
   },
   {
    "duration": 377,
    "start_time": "2023-04-21T12:51:46.600Z"
   },
   {
    "duration": 36,
    "start_time": "2023-04-21T12:56:56.136Z"
   },
   {
    "duration": 575,
    "start_time": "2023-04-21T12:57:41.696Z"
   },
   {
    "duration": 766,
    "start_time": "2023-04-21T12:57:59.658Z"
   },
   {
    "duration": 571,
    "start_time": "2023-04-21T12:58:26.541Z"
   },
   {
    "duration": 15,
    "start_time": "2023-04-21T13:03:24.099Z"
   },
   {
    "duration": 10,
    "start_time": "2023-04-21T13:03:48.302Z"
   },
   {
    "duration": 23,
    "start_time": "2023-04-21T13:03:53.052Z"
   },
   {
    "duration": 64,
    "start_time": "2023-04-21T13:04:13.868Z"
   },
   {
    "duration": 10,
    "start_time": "2023-04-21T13:04:21.771Z"
   },
   {
    "duration": 9,
    "start_time": "2023-04-21T13:04:27.712Z"
   },
   {
    "duration": 16,
    "start_time": "2023-04-21T13:04:36.735Z"
   },
   {
    "duration": 16,
    "start_time": "2023-04-21T13:06:17.160Z"
   },
   {
    "duration": 17,
    "start_time": "2023-04-21T13:07:04.399Z"
   },
   {
    "duration": 16,
    "start_time": "2023-04-21T13:07:15.355Z"
   },
   {
    "duration": 32,
    "start_time": "2023-04-21T13:08:00.356Z"
   },
   {
    "duration": 803,
    "start_time": "2023-04-21T13:11:31.890Z"
   },
   {
    "duration": 817,
    "start_time": "2023-04-21T13:12:06.653Z"
   },
   {
    "duration": 823,
    "start_time": "2023-04-21T13:12:15.553Z"
   },
   {
    "duration": 32,
    "start_time": "2023-04-21T13:12:18.813Z"
   },
   {
    "duration": 858,
    "start_time": "2023-04-21T13:12:30.794Z"
   },
   {
    "duration": 27,
    "start_time": "2023-04-21T13:12:42.206Z"
   },
   {
    "duration": 28,
    "start_time": "2023-04-21T13:13:30.676Z"
   },
   {
    "duration": 53,
    "start_time": "2023-04-21T13:13:45.989Z"
   },
   {
    "duration": 60,
    "start_time": "2023-04-21T13:14:37.455Z"
   },
   {
    "duration": 41,
    "start_time": "2023-04-21T13:14:52.528Z"
   },
   {
    "duration": 25,
    "start_time": "2023-04-21T13:15:05.682Z"
   },
   {
    "duration": 27,
    "start_time": "2023-04-21T13:15:16.057Z"
   },
   {
    "duration": 47,
    "start_time": "2023-04-21T13:15:42.154Z"
   },
   {
    "duration": 38,
    "start_time": "2023-04-21T13:17:16.023Z"
   },
   {
    "duration": 57,
    "start_time": "2023-04-21T13:17:21.207Z"
   },
   {
    "duration": 729,
    "start_time": "2023-04-21T13:18:04.123Z"
   },
   {
    "duration": 58,
    "start_time": "2023-04-21T13:18:17.686Z"
   },
   {
    "duration": 34,
    "start_time": "2023-04-21T13:18:39.707Z"
   },
   {
    "duration": 43,
    "start_time": "2023-04-21T13:19:22.564Z"
   },
   {
    "duration": 49,
    "start_time": "2023-04-21T13:20:27.550Z"
   },
   {
    "duration": 52,
    "start_time": "2023-04-21T13:24:40.595Z"
   },
   {
    "duration": 28,
    "start_time": "2023-04-21T13:25:01.675Z"
   },
   {
    "duration": 60,
    "start_time": "2023-04-21T13:25:05.827Z"
   },
   {
    "duration": 46,
    "start_time": "2023-04-21T13:25:09.708Z"
   },
   {
    "duration": 43,
    "start_time": "2023-04-21T13:25:13.785Z"
   },
   {
    "duration": 41,
    "start_time": "2023-04-21T13:25:20.260Z"
   },
   {
    "duration": 25,
    "start_time": "2023-04-21T13:25:28.136Z"
   },
   {
    "duration": 25,
    "start_time": "2023-04-21T13:25:35.745Z"
   },
   {
    "duration": 58,
    "start_time": "2023-04-21T13:25:51.682Z"
   },
   {
    "duration": 33,
    "start_time": "2023-04-21T13:26:42.776Z"
   },
   {
    "duration": 29,
    "start_time": "2023-04-21T13:26:50.935Z"
   },
   {
    "duration": 35,
    "start_time": "2023-04-21T13:27:52.196Z"
   },
   {
    "duration": 29,
    "start_time": "2023-04-21T13:28:01.711Z"
   },
   {
    "duration": 21,
    "start_time": "2023-04-21T13:28:12.976Z"
   },
   {
    "duration": 39,
    "start_time": "2023-04-21T13:29:10.102Z"
   },
   {
    "duration": 43,
    "start_time": "2023-04-21T13:29:37.137Z"
   },
   {
    "duration": 51,
    "start_time": "2023-04-21T13:30:35.561Z"
   },
   {
    "duration": 81,
    "start_time": "2023-04-21T13:30:41.578Z"
   },
   {
    "duration": 50,
    "start_time": "2023-04-21T13:30:52.864Z"
   },
   {
    "duration": 30,
    "start_time": "2023-04-21T13:31:58.038Z"
   },
   {
    "duration": 41,
    "start_time": "2023-04-21T13:32:04.746Z"
   },
   {
    "duration": 2712,
    "start_time": "2023-04-21T13:32:20.156Z"
   },
   {
    "duration": 514,
    "start_time": "2023-04-21T13:32:22.871Z"
   },
   {
    "duration": 8,
    "start_time": "2023-04-21T13:32:23.386Z"
   },
   {
    "duration": 56,
    "start_time": "2023-04-21T13:32:23.396Z"
   },
   {
    "duration": 23,
    "start_time": "2023-04-21T13:32:23.455Z"
   },
   {
    "duration": 28,
    "start_time": "2023-04-21T13:32:23.480Z"
   },
   {
    "duration": 39,
    "start_time": "2023-04-21T13:32:23.511Z"
   },
   {
    "duration": 265,
    "start_time": "2023-04-21T13:32:23.552Z"
   },
   {
    "duration": 174,
    "start_time": "2023-04-21T13:32:23.820Z"
   },
   {
    "duration": 315,
    "start_time": "2023-04-21T13:32:23.998Z"
   },
   {
    "duration": 302,
    "start_time": "2023-04-21T13:32:24.315Z"
   },
   {
    "duration": 293,
    "start_time": "2023-04-21T13:32:24.619Z"
   },
   {
    "duration": 677,
    "start_time": "2023-04-21T13:32:24.914Z"
   },
   {
    "duration": 4,
    "start_time": "2023-04-21T13:32:25.593Z"
   },
   {
    "duration": 569,
    "start_time": "2023-04-21T13:32:25.598Z"
   },
   {
    "duration": 9,
    "start_time": "2023-04-21T13:32:26.170Z"
   },
   {
    "duration": 401,
    "start_time": "2023-04-21T13:32:26.182Z"
   },
   {
    "duration": 2095,
    "start_time": "2023-04-21T13:32:46.946Z"
   },
   {
    "duration": 482,
    "start_time": "2023-04-21T13:32:49.044Z"
   },
   {
    "duration": 7,
    "start_time": "2023-04-21T13:32:49.528Z"
   },
   {
    "duration": 11,
    "start_time": "2023-04-21T13:32:49.538Z"
   },
   {
    "duration": 11,
    "start_time": "2023-04-21T13:32:49.551Z"
   },
   {
    "duration": 8,
    "start_time": "2023-04-21T13:32:49.564Z"
   },
   {
    "duration": 85,
    "start_time": "2023-04-21T13:32:49.574Z"
   },
   {
    "duration": 200,
    "start_time": "2023-04-21T13:32:49.661Z"
   },
   {
    "duration": 154,
    "start_time": "2023-04-21T13:32:49.863Z"
   },
   {
    "duration": 328,
    "start_time": "2023-04-21T13:32:50.020Z"
   },
   {
    "duration": 292,
    "start_time": "2023-04-21T13:32:50.350Z"
   },
   {
    "duration": 297,
    "start_time": "2023-04-21T13:32:50.645Z"
   },
   {
    "duration": 621,
    "start_time": "2023-04-21T13:32:50.944Z"
   },
   {
    "duration": 3,
    "start_time": "2023-04-21T13:32:51.567Z"
   },
   {
    "duration": 539,
    "start_time": "2023-04-21T13:32:51.572Z"
   },
   {
    "duration": 5,
    "start_time": "2023-04-21T13:32:52.113Z"
   },
   {
    "duration": 443,
    "start_time": "2023-04-21T13:32:52.119Z"
   },
   {
    "duration": 2121,
    "start_time": "2023-04-21T13:33:05.855Z"
   },
   {
    "duration": 3,
    "start_time": "2023-04-21T13:33:19.495Z"
   },
   {
    "duration": 449,
    "start_time": "2023-04-21T13:33:20.633Z"
   },
   {
    "duration": 8,
    "start_time": "2023-04-21T13:33:21.377Z"
   },
   {
    "duration": 8,
    "start_time": "2023-04-21T13:33:21.609Z"
   },
   {
    "duration": 10,
    "start_time": "2023-04-21T13:33:21.894Z"
   },
   {
    "duration": 4,
    "start_time": "2023-04-21T13:33:22.042Z"
   },
   {
    "duration": 19,
    "start_time": "2023-04-21T13:33:22.177Z"
   },
   {
    "duration": 209,
    "start_time": "2023-04-21T13:33:23.147Z"
   },
   {
    "duration": 139,
    "start_time": "2023-04-21T13:33:23.413Z"
   },
   {
    "duration": 301,
    "start_time": "2023-04-21T13:33:23.693Z"
   },
   {
    "duration": 265,
    "start_time": "2023-04-21T13:33:23.996Z"
   },
   {
    "duration": 254,
    "start_time": "2023-04-21T13:33:24.318Z"
   },
   {
    "duration": 605,
    "start_time": "2023-04-21T13:33:24.615Z"
   },
   {
    "duration": 2,
    "start_time": "2023-04-21T13:33:25.222Z"
   },
   {
    "duration": 489,
    "start_time": "2023-04-21T13:33:25.441Z"
   },
   {
    "duration": 5,
    "start_time": "2023-04-21T13:33:30.081Z"
   },
   {
    "duration": 426,
    "start_time": "2023-04-21T13:33:30.514Z"
   },
   {
    "duration": 51,
    "start_time": "2023-04-21T13:33:42.952Z"
   },
   {
    "duration": 2239,
    "start_time": "2023-04-21T13:33:57.851Z"
   },
   {
    "duration": 3,
    "start_time": "2023-04-21T13:34:01.682Z"
   },
   {
    "duration": 457,
    "start_time": "2023-04-21T13:34:03.978Z"
   },
   {
    "duration": 10,
    "start_time": "2023-04-21T13:34:06.012Z"
   },
   {
    "duration": 9,
    "start_time": "2023-04-21T13:34:06.125Z"
   },
   {
    "duration": 10,
    "start_time": "2023-04-21T13:34:06.479Z"
   },
   {
    "duration": 4,
    "start_time": "2023-04-21T13:34:06.642Z"
   },
   {
    "duration": 19,
    "start_time": "2023-04-21T13:34:06.829Z"
   },
   {
    "duration": 209,
    "start_time": "2023-04-21T13:34:07.680Z"
   },
   {
    "duration": 154,
    "start_time": "2023-04-21T13:34:08.011Z"
   },
   {
    "duration": 281,
    "start_time": "2023-04-21T13:34:10.499Z"
   },
   {
    "duration": 303,
    "start_time": "2023-04-21T13:34:13.795Z"
   },
   {
    "duration": 271,
    "start_time": "2023-04-21T13:34:15.581Z"
   },
   {
    "duration": 643,
    "start_time": "2023-04-21T13:34:16.848Z"
   },
   {
    "duration": 3,
    "start_time": "2023-04-21T13:34:17.628Z"
   },
   {
    "duration": 623,
    "start_time": "2023-04-21T13:34:18.596Z"
   },
   {
    "duration": 5,
    "start_time": "2023-04-21T13:34:22.389Z"
   },
   {
    "duration": 434,
    "start_time": "2023-04-21T13:34:23.714Z"
   },
   {
    "duration": 46,
    "start_time": "2023-04-21T13:34:35.202Z"
   },
   {
    "duration": 9,
    "start_time": "2023-04-21T13:34:36.460Z"
   },
   {
    "duration": 5,
    "start_time": "2023-04-21T13:34:36.949Z"
   },
   {
    "duration": 494,
    "start_time": "2023-04-21T13:34:37.932Z"
   },
   {
    "duration": 648,
    "start_time": "2023-04-21T13:34:40.828Z"
   },
   {
    "duration": 28,
    "start_time": "2023-04-21T13:34:45.724Z"
   },
   {
    "duration": 50,
    "start_time": "2023-04-21T13:37:21.005Z"
   },
   {
    "duration": 56,
    "start_time": "2023-04-21T13:37:34.862Z"
   },
   {
    "duration": 41,
    "start_time": "2023-04-21T13:37:55.885Z"
   },
   {
    "duration": 98,
    "start_time": "2023-04-21T13:38:36.546Z"
   },
   {
    "duration": 37,
    "start_time": "2023-04-21T13:38:44.264Z"
   },
   {
    "duration": 64,
    "start_time": "2023-04-21T13:38:47.994Z"
   },
   {
    "duration": 70,
    "start_time": "2023-04-21T13:38:56.128Z"
   },
   {
    "duration": 65,
    "start_time": "2023-04-21T13:39:09.736Z"
   },
   {
    "duration": 56,
    "start_time": "2023-04-21T13:39:48.034Z"
   },
   {
    "duration": 64,
    "start_time": "2023-04-21T13:40:16.379Z"
   },
   {
    "duration": 61,
    "start_time": "2023-04-21T13:40:46.316Z"
   },
   {
    "duration": 14,
    "start_time": "2023-04-21T13:42:54.077Z"
   },
   {
    "duration": 32,
    "start_time": "2023-04-21T13:43:35.589Z"
   },
   {
    "duration": 81,
    "start_time": "2023-04-21T13:43:46.520Z"
   },
   {
    "duration": 81,
    "start_time": "2023-04-21T13:43:56.265Z"
   },
   {
    "duration": 47,
    "start_time": "2023-04-21T13:44:41.525Z"
   },
   {
    "duration": 21,
    "start_time": "2023-04-21T13:44:50.331Z"
   },
   {
    "duration": 21,
    "start_time": "2023-04-21T13:44:56.831Z"
   },
   {
    "duration": 39,
    "start_time": "2023-04-21T13:45:10.380Z"
   },
   {
    "duration": 22,
    "start_time": "2023-04-21T13:45:45.000Z"
   },
   {
    "duration": 3,
    "start_time": "2023-04-21T13:48:01.100Z"
   },
   {
    "duration": 3,
    "start_time": "2023-04-21T13:48:06.471Z"
   },
   {
    "duration": 4,
    "start_time": "2023-04-21T13:48:14.132Z"
   },
   {
    "duration": 3,
    "start_time": "2023-04-21T13:48:18.325Z"
   },
   {
    "duration": 4,
    "start_time": "2023-04-21T13:48:22.748Z"
   },
   {
    "duration": 4,
    "start_time": "2023-04-21T13:48:26.625Z"
   },
   {
    "duration": 4,
    "start_time": "2023-04-21T13:48:30.865Z"
   },
   {
    "duration": 3,
    "start_time": "2023-04-21T13:48:34.747Z"
   },
   {
    "duration": 24,
    "start_time": "2023-04-21T13:48:56.476Z"
   },
   {
    "duration": 23,
    "start_time": "2023-04-21T13:49:08.646Z"
   },
   {
    "duration": 111,
    "start_time": "2023-04-21T13:49:28.483Z"
   },
   {
    "duration": 31,
    "start_time": "2023-04-21T13:50:08.800Z"
   },
   {
    "duration": 17,
    "start_time": "2023-04-21T13:50:18.873Z"
   },
   {
    "duration": 101,
    "start_time": "2023-04-21T13:50:23.765Z"
   },
   {
    "duration": 1046,
    "start_time": "2023-04-21T14:01:21.555Z"
   },
   {
    "duration": 180,
    "start_time": "2023-04-21T14:01:22.603Z"
   },
   {
    "duration": 9,
    "start_time": "2023-04-21T14:01:22.786Z"
   },
   {
    "duration": 51,
    "start_time": "2023-04-21T14:01:22.798Z"
   },
   {
    "duration": 29,
    "start_time": "2023-04-21T14:01:22.850Z"
   },
   {
    "duration": 5,
    "start_time": "2023-04-21T14:01:22.881Z"
   },
   {
    "duration": 40,
    "start_time": "2023-04-21T14:01:22.887Z"
   },
   {
    "duration": 226,
    "start_time": "2023-04-21T14:01:22.929Z"
   },
   {
    "duration": 149,
    "start_time": "2023-04-21T14:01:23.157Z"
   },
   {
    "duration": 321,
    "start_time": "2023-04-21T14:01:23.313Z"
   },
   {
    "duration": 306,
    "start_time": "2023-04-21T14:01:23.639Z"
   },
   {
    "duration": 279,
    "start_time": "2023-04-21T14:01:23.948Z"
   },
   {
    "duration": 655,
    "start_time": "2023-04-21T14:01:24.235Z"
   },
   {
    "duration": 3,
    "start_time": "2023-04-21T14:01:24.892Z"
   },
   {
    "duration": 570,
    "start_time": "2023-04-21T14:01:24.897Z"
   },
   {
    "duration": 5,
    "start_time": "2023-04-21T14:01:25.468Z"
   },
   {
    "duration": 431,
    "start_time": "2023-04-21T14:01:25.474Z"
   },
   {
    "duration": 53,
    "start_time": "2023-04-21T14:01:41.331Z"
   },
   {
    "duration": 64,
    "start_time": "2023-04-21T14:01:55.187Z"
   },
   {
    "duration": 7,
    "start_time": "2023-04-21T14:02:00.403Z"
   },
   {
    "duration": 7,
    "start_time": "2023-04-21T14:02:23.180Z"
   },
   {
    "duration": 3137,
    "start_time": "2023-04-21T14:02:29.998Z"
   },
   {
    "duration": 524,
    "start_time": "2023-04-21T14:02:35.104Z"
   },
   {
    "duration": 8,
    "start_time": "2023-04-21T14:02:35.897Z"
   },
   {
    "duration": 8,
    "start_time": "2023-04-21T14:02:36.286Z"
   },
   {
    "duration": 10,
    "start_time": "2023-04-21T14:02:36.538Z"
   },
   {
    "duration": 3,
    "start_time": "2023-04-21T14:02:36.669Z"
   },
   {
    "duration": 18,
    "start_time": "2023-04-21T14:02:36.845Z"
   },
   {
    "duration": 215,
    "start_time": "2023-04-21T14:02:37.637Z"
   },
   {
    "duration": 136,
    "start_time": "2023-04-21T14:02:37.941Z"
   },
   {
    "duration": 308,
    "start_time": "2023-04-21T14:02:38.236Z"
   },
   {
    "duration": 302,
    "start_time": "2023-04-21T14:02:38.548Z"
   },
   {
    "duration": 267,
    "start_time": "2023-04-21T14:02:42.036Z"
   },
   {
    "duration": 643,
    "start_time": "2023-04-21T14:02:44.532Z"
   },
   {
    "duration": 3,
    "start_time": "2023-04-21T14:02:45.178Z"
   },
   {
    "duration": 573,
    "start_time": "2023-04-21T14:02:46.558Z"
   },
   {
    "duration": 9,
    "start_time": "2023-04-21T14:02:49.893Z"
   },
   {
    "duration": 443,
    "start_time": "2023-04-21T14:02:50.200Z"
   },
   {
    "duration": 5,
    "start_time": "2023-04-21T14:02:59.138Z"
   },
   {
    "duration": 450,
    "start_time": "2023-04-21T14:03:05.282Z"
   },
   {
    "duration": 60,
    "start_time": "2023-04-21T14:03:20.386Z"
   },
   {
    "duration": 7,
    "start_time": "2023-04-21T14:03:24.103Z"
   },
   {
    "duration": 1223,
    "start_time": "2023-04-21T14:03:30.446Z"
   },
   {
    "duration": 483,
    "start_time": "2023-04-21T14:03:31.671Z"
   },
   {
    "duration": 8,
    "start_time": "2023-04-21T14:03:32.155Z"
   },
   {
    "duration": 34,
    "start_time": "2023-04-21T14:03:32.164Z"
   },
   {
    "duration": 28,
    "start_time": "2023-04-21T14:03:32.200Z"
   },
   {
    "duration": 9,
    "start_time": "2023-04-21T14:03:32.230Z"
   },
   {
    "duration": 29,
    "start_time": "2023-04-21T14:03:32.241Z"
   },
   {
    "duration": 220,
    "start_time": "2023-04-21T14:03:32.271Z"
   },
   {
    "duration": 154,
    "start_time": "2023-04-21T14:03:32.493Z"
   },
   {
    "duration": 320,
    "start_time": "2023-04-21T14:03:32.649Z"
   },
   {
    "duration": 298,
    "start_time": "2023-04-21T14:03:32.971Z"
   },
   {
    "duration": 302,
    "start_time": "2023-04-21T14:03:33.271Z"
   },
   {
    "duration": 683,
    "start_time": "2023-04-21T14:03:33.575Z"
   },
   {
    "duration": 2,
    "start_time": "2023-04-21T14:03:34.261Z"
   },
   {
    "duration": 580,
    "start_time": "2023-04-21T14:03:34.265Z"
   },
   {
    "duration": 5,
    "start_time": "2023-04-21T14:03:34.847Z"
   },
   {
    "duration": 433,
    "start_time": "2023-04-21T14:03:34.854Z"
   },
   {
    "duration": 1185,
    "start_time": "2023-04-21T14:04:04.746Z"
   },
   {
    "duration": 480,
    "start_time": "2023-04-21T14:04:05.939Z"
   },
   {
    "duration": 16,
    "start_time": "2023-04-21T14:04:06.423Z"
   },
   {
    "duration": 9,
    "start_time": "2023-04-21T14:04:06.443Z"
   },
   {
    "duration": 12,
    "start_time": "2023-04-21T14:04:06.453Z"
   },
   {
    "duration": 4,
    "start_time": "2023-04-21T14:04:06.466Z"
   },
   {
    "duration": 43,
    "start_time": "2023-04-21T14:04:06.472Z"
   },
   {
    "duration": 245,
    "start_time": "2023-04-21T14:04:06.520Z"
   },
   {
    "duration": 159,
    "start_time": "2023-04-21T14:04:06.767Z"
   },
   {
    "duration": 314,
    "start_time": "2023-04-21T14:04:06.929Z"
   },
   {
    "duration": 300,
    "start_time": "2023-04-21T14:04:07.245Z"
   },
   {
    "duration": 295,
    "start_time": "2023-04-21T14:04:07.547Z"
   },
   {
    "duration": 701,
    "start_time": "2023-04-21T14:04:07.844Z"
   },
   {
    "duration": 2,
    "start_time": "2023-04-21T14:04:08.547Z"
   },
   {
    "duration": 673,
    "start_time": "2023-04-21T14:04:08.551Z"
   },
   {
    "duration": 7,
    "start_time": "2023-04-21T14:04:09.237Z"
   },
   {
    "duration": 438,
    "start_time": "2023-04-21T14:04:09.245Z"
   },
   {
    "duration": 3,
    "start_time": "2023-04-21T14:04:09.684Z"
   },
   {
    "duration": 48,
    "start_time": "2023-04-21T14:04:09.688Z"
   },
   {
    "duration": 10,
    "start_time": "2023-04-21T14:04:09.738Z"
   },
   {
    "duration": 7,
    "start_time": "2023-04-21T14:04:09.750Z"
   },
   {
    "duration": 559,
    "start_time": "2023-04-21T14:04:09.759Z"
   },
   {
    "duration": 674,
    "start_time": "2023-04-21T14:04:10.320Z"
   },
   {
    "duration": 38,
    "start_time": "2023-04-21T14:04:10.995Z"
   },
   {
    "duration": 22,
    "start_time": "2023-04-21T14:04:11.034Z"
   },
   {
    "duration": 4,
    "start_time": "2023-04-21T14:04:11.058Z"
   },
   {
    "duration": 221,
    "start_time": "2023-04-21T14:04:11.063Z"
   },
   {
    "duration": 128,
    "start_time": "2023-04-21T14:05:55.828Z"
   },
   {
    "duration": 169,
    "start_time": "2023-04-21T14:06:17.554Z"
   },
   {
    "duration": 137,
    "start_time": "2023-04-21T14:06:24.770Z"
   },
   {
    "duration": 144,
    "start_time": "2023-04-21T14:07:01.011Z"
   },
   {
    "duration": 144,
    "start_time": "2023-04-21T14:07:06.533Z"
   },
   {
    "duration": 141,
    "start_time": "2023-04-21T14:07:15.347Z"
   },
   {
    "duration": 13,
    "start_time": "2023-04-21T14:07:22.071Z"
   },
   {
    "duration": 4,
    "start_time": "2023-04-21T14:08:07.055Z"
   },
   {
    "duration": 153,
    "start_time": "2023-04-21T14:08:12.873Z"
   },
   {
    "duration": 49,
    "start_time": "2023-04-21T14:08:32.192Z"
   },
   {
    "duration": 48,
    "start_time": "2023-04-21T14:08:44.927Z"
   },
   {
    "duration": 4,
    "start_time": "2023-04-21T14:08:55.006Z"
   },
   {
    "duration": 2164,
    "start_time": "2023-04-21T14:09:10.930Z"
   },
   {
    "duration": 214,
    "start_time": "2023-04-21T14:09:38.334Z"
   },
   {
    "duration": 238,
    "start_time": "2023-04-21T14:09:50.412Z"
   },
   {
    "duration": 250,
    "start_time": "2023-04-21T14:10:04.739Z"
   },
   {
    "duration": 1167,
    "start_time": "2023-04-21T14:10:22.452Z"
   },
   {
    "duration": 178,
    "start_time": "2023-04-21T14:10:23.622Z"
   },
   {
    "duration": 13,
    "start_time": "2023-04-21T14:10:23.802Z"
   },
   {
    "duration": 16,
    "start_time": "2023-04-21T14:10:23.822Z"
   },
   {
    "duration": 23,
    "start_time": "2023-04-21T14:10:23.840Z"
   },
   {
    "duration": 6,
    "start_time": "2023-04-21T14:10:23.865Z"
   },
   {
    "duration": 42,
    "start_time": "2023-04-21T14:10:23.873Z"
   },
   {
    "duration": 222,
    "start_time": "2023-04-21T14:10:23.928Z"
   },
   {
    "duration": 146,
    "start_time": "2023-04-21T14:10:24.152Z"
   },
   {
    "duration": 301,
    "start_time": "2023-04-21T14:10:24.300Z"
   },
   {
    "duration": 296,
    "start_time": "2023-04-21T14:10:24.603Z"
   },
   {
    "duration": 280,
    "start_time": "2023-04-21T14:10:24.901Z"
   },
   {
    "duration": 655,
    "start_time": "2023-04-21T14:10:25.183Z"
   },
   {
    "duration": 3,
    "start_time": "2023-04-21T14:10:25.839Z"
   },
   {
    "duration": 559,
    "start_time": "2023-04-21T14:10:25.844Z"
   },
   {
    "duration": 10,
    "start_time": "2023-04-21T14:10:26.405Z"
   },
   {
    "duration": 433,
    "start_time": "2023-04-21T14:10:26.417Z"
   },
   {
    "duration": 2,
    "start_time": "2023-04-21T14:10:26.852Z"
   },
   {
    "duration": 32,
    "start_time": "2023-04-21T14:10:26.856Z"
   },
   {
    "duration": 30,
    "start_time": "2023-04-21T14:10:26.890Z"
   },
   {
    "duration": 5,
    "start_time": "2023-04-21T14:10:26.928Z"
   },
   {
    "duration": 504,
    "start_time": "2023-04-21T14:10:26.935Z"
   },
   {
    "duration": 632,
    "start_time": "2023-04-21T14:10:27.441Z"
   },
   {
    "duration": 15,
    "start_time": "2023-04-21T14:10:28.075Z"
   },
   {
    "duration": 35,
    "start_time": "2023-04-21T14:10:28.092Z"
   },
   {
    "duration": 3,
    "start_time": "2023-04-21T14:10:28.129Z"
   },
   {
    "duration": 100,
    "start_time": "2023-04-21T14:10:28.134Z"
   },
   {
    "duration": 63,
    "start_time": "2023-04-21T14:10:58.274Z"
   },
   {
    "duration": 13,
    "start_time": "2023-04-21T14:11:10.944Z"
   },
   {
    "duration": 1143,
    "start_time": "2023-04-21T14:11:23.595Z"
   },
   {
    "duration": 167,
    "start_time": "2023-04-21T14:11:24.740Z"
   },
   {
    "duration": 12,
    "start_time": "2023-04-21T14:11:24.909Z"
   },
   {
    "duration": 13,
    "start_time": "2023-04-21T14:11:24.924Z"
   },
   {
    "duration": 10,
    "start_time": "2023-04-21T14:11:24.939Z"
   },
   {
    "duration": 4,
    "start_time": "2023-04-21T14:11:24.950Z"
   },
   {
    "duration": 20,
    "start_time": "2023-04-21T14:11:24.956Z"
   },
   {
    "duration": 257,
    "start_time": "2023-04-21T14:11:24.978Z"
   },
   {
    "duration": 142,
    "start_time": "2023-04-21T14:11:25.237Z"
   },
   {
    "duration": 296,
    "start_time": "2023-04-21T14:11:25.382Z"
   },
   {
    "duration": 288,
    "start_time": "2023-04-21T14:11:25.680Z"
   },
   {
    "duration": 282,
    "start_time": "2023-04-21T14:11:25.970Z"
   },
   {
    "duration": 650,
    "start_time": "2023-04-21T14:11:26.254Z"
   },
   {
    "duration": 12,
    "start_time": "2023-04-21T14:11:26.906Z"
   },
   {
    "duration": 534,
    "start_time": "2023-04-21T14:11:26.920Z"
   },
   {
    "duration": 5,
    "start_time": "2023-04-21T14:11:27.455Z"
   },
   {
    "duration": 409,
    "start_time": "2023-04-21T14:11:27.462Z"
   },
   {
    "duration": 2,
    "start_time": "2023-04-21T14:11:27.873Z"
   },
   {
    "duration": 51,
    "start_time": "2023-04-21T14:11:27.877Z"
   },
   {
    "duration": 9,
    "start_time": "2023-04-21T14:11:27.929Z"
   },
   {
    "duration": 5,
    "start_time": "2023-04-21T14:11:27.939Z"
   },
   {
    "duration": 508,
    "start_time": "2023-04-21T14:11:27.946Z"
   },
   {
    "duration": 748,
    "start_time": "2023-04-21T14:11:28.456Z"
   },
   {
    "duration": 21,
    "start_time": "2023-04-21T14:11:29.211Z"
   },
   {
    "duration": 18,
    "start_time": "2023-04-21T14:11:29.234Z"
   },
   {
    "duration": 3,
    "start_time": "2023-04-21T14:11:29.254Z"
   },
   {
    "duration": 123,
    "start_time": "2023-04-21T14:11:29.258Z"
   },
   {
    "duration": 14,
    "start_time": "2023-04-21T14:12:21.057Z"
   },
   {
    "duration": 6,
    "start_time": "2023-04-21T14:12:26.790Z"
   },
   {
    "duration": 7,
    "start_time": "2023-04-21T14:12:34.643Z"
   },
   {
    "duration": 6,
    "start_time": "2023-04-21T14:12:42.473Z"
   },
   {
    "duration": 7,
    "start_time": "2023-04-21T14:12:55.140Z"
   },
   {
    "duration": 10,
    "start_time": "2023-04-21T14:13:58.561Z"
   },
   {
    "duration": 979,
    "start_time": "2023-04-21T14:35:30.923Z"
   },
   {
    "duration": 1269,
    "start_time": "2023-04-21T14:35:39.920Z"
   },
   {
    "duration": 20,
    "start_time": "2023-04-21T14:36:03.846Z"
   },
   {
    "duration": 6,
    "start_time": "2023-04-21T14:36:20.495Z"
   },
   {
    "duration": 5,
    "start_time": "2023-04-21T14:36:56.677Z"
   },
   {
    "duration": 5,
    "start_time": "2023-04-21T14:37:00.197Z"
   },
   {
    "duration": 5,
    "start_time": "2023-04-21T14:39:33.288Z"
   },
   {
    "duration": 18,
    "start_time": "2023-04-21T14:39:55.143Z"
   },
   {
    "duration": 137,
    "start_time": "2023-04-21T14:40:06.537Z"
   },
   {
    "duration": 816,
    "start_time": "2023-04-21T14:40:10.990Z"
   },
   {
    "duration": 175,
    "start_time": "2023-04-21T14:40:26.567Z"
   },
   {
    "duration": 3,
    "start_time": "2023-04-21T14:40:33.048Z"
   },
   {
    "duration": 112,
    "start_time": "2023-04-21T14:40:34.036Z"
   },
   {
    "duration": 9,
    "start_time": "2023-04-21T14:40:34.729Z"
   },
   {
    "duration": 9,
    "start_time": "2023-04-21T14:40:34.997Z"
   },
   {
    "duration": 14,
    "start_time": "2023-04-21T14:40:35.265Z"
   },
   {
    "duration": 5,
    "start_time": "2023-04-21T14:40:35.397Z"
   },
   {
    "duration": 20,
    "start_time": "2023-04-21T14:40:35.550Z"
   },
   {
    "duration": 192,
    "start_time": "2023-04-21T14:40:36.381Z"
   },
   {
    "duration": 148,
    "start_time": "2023-04-21T14:40:36.681Z"
   },
   {
    "duration": 294,
    "start_time": "2023-04-21T14:40:36.963Z"
   },
   {
    "duration": 281,
    "start_time": "2023-04-21T14:40:37.303Z"
   },
   {
    "duration": 295,
    "start_time": "2023-04-21T14:40:37.602Z"
   },
   {
    "duration": 726,
    "start_time": "2023-04-21T14:40:37.926Z"
   },
   {
    "duration": 3,
    "start_time": "2023-04-21T14:40:38.655Z"
   },
   {
    "duration": 681,
    "start_time": "2023-04-21T14:40:38.660Z"
   },
   {
    "duration": 5,
    "start_time": "2023-04-21T14:40:39.344Z"
   },
   {
    "duration": 441,
    "start_time": "2023-04-21T14:40:39.351Z"
   },
   {
    "duration": 2,
    "start_time": "2023-04-21T14:40:40.536Z"
   },
   {
    "duration": 29,
    "start_time": "2023-04-21T14:40:42.740Z"
   },
   {
    "duration": 11,
    "start_time": "2023-04-21T14:40:43.641Z"
   },
   {
    "duration": 14,
    "start_time": "2023-04-21T14:40:43.929Z"
   },
   {
    "duration": 550,
    "start_time": "2023-04-21T14:40:44.648Z"
   },
   {
    "duration": 676,
    "start_time": "2023-04-21T14:40:45.200Z"
   },
   {
    "duration": 14,
    "start_time": "2023-04-21T14:40:46.364Z"
   },
   {
    "duration": 18,
    "start_time": "2023-04-21T14:40:47.485Z"
   },
   {
    "duration": 6,
    "start_time": "2023-04-21T14:40:49.237Z"
   },
   {
    "duration": 82,
    "start_time": "2023-04-21T14:40:55.844Z"
   },
   {
    "duration": 7,
    "start_time": "2023-04-21T14:40:56.836Z"
   },
   {
    "duration": 45,
    "start_time": "2023-04-21T14:52:58.840Z"
   },
   {
    "duration": 1004,
    "start_time": "2023-04-21T14:53:03.752Z"
   },
   {
    "duration": 19,
    "start_time": "2023-04-21T14:53:24.528Z"
   },
   {
    "duration": 7,
    "start_time": "2023-04-21T14:53:31.540Z"
   },
   {
    "duration": 16,
    "start_time": "2023-04-21T14:53:47.106Z"
   },
   {
    "duration": 26,
    "start_time": "2023-04-21T14:53:50.828Z"
   },
   {
    "duration": 16,
    "start_time": "2023-04-21T14:54:43.892Z"
   },
   {
    "duration": 17,
    "start_time": "2023-04-21T14:54:52.115Z"
   },
   {
    "duration": 34,
    "start_time": "2023-04-21T14:55:40.509Z"
   },
   {
    "duration": 28,
    "start_time": "2023-04-21T14:56:08.451Z"
   },
   {
    "duration": 17,
    "start_time": "2023-04-21T14:58:18.262Z"
   },
   {
    "duration": 11,
    "start_time": "2023-04-21T14:58:34.274Z"
   },
   {
    "duration": 16,
    "start_time": "2023-04-21T14:58:55.275Z"
   },
   {
    "duration": 30,
    "start_time": "2023-04-21T15:00:07.209Z"
   },
   {
    "duration": 17,
    "start_time": "2023-04-21T15:00:19.740Z"
   },
   {
    "duration": 31,
    "start_time": "2023-04-21T15:01:48.442Z"
   },
   {
    "duration": 17,
    "start_time": "2023-04-21T15:02:15.025Z"
   },
   {
    "duration": 19,
    "start_time": "2023-04-21T15:02:29.641Z"
   },
   {
    "duration": 24,
    "start_time": "2023-04-21T15:02:43.120Z"
   },
   {
    "duration": 19,
    "start_time": "2023-04-21T15:02:53.561Z"
   },
   {
    "duration": 24,
    "start_time": "2023-04-21T15:05:06.543Z"
   },
   {
    "duration": 26,
    "start_time": "2023-04-21T15:05:30.695Z"
   },
   {
    "duration": 23,
    "start_time": "2023-04-21T15:05:51.996Z"
   },
   {
    "duration": 18,
    "start_time": "2023-04-21T15:06:00.367Z"
   },
   {
    "duration": 20,
    "start_time": "2023-04-21T15:06:44.032Z"
   },
   {
    "duration": 36,
    "start_time": "2023-04-21T15:07:04.691Z"
   },
   {
    "duration": 24,
    "start_time": "2023-04-21T15:08:07.557Z"
   },
   {
    "duration": 20,
    "start_time": "2023-04-21T15:08:26.089Z"
   },
   {
    "duration": 13,
    "start_time": "2023-04-21T15:09:40.167Z"
   },
   {
    "duration": 12,
    "start_time": "2023-04-21T15:09:43.876Z"
   },
   {
    "duration": 466,
    "start_time": "2023-04-21T15:10:39.210Z"
   },
   {
    "duration": 475,
    "start_time": "2023-04-21T15:10:59.754Z"
   },
   {
    "duration": 608,
    "start_time": "2023-04-21T15:11:17.468Z"
   },
   {
    "duration": 3,
    "start_time": "2023-04-21T15:12:30.744Z"
   },
   {
    "duration": 1068,
    "start_time": "2023-04-21T15:13:33.375Z"
   },
   {
    "duration": 1451,
    "start_time": "2023-04-21T15:14:20.437Z"
   },
   {
    "duration": 18,
    "start_time": "2023-04-21T15:15:10.881Z"
   },
   {
    "duration": 30,
    "start_time": "2023-04-21T15:15:36.021Z"
   },
   {
    "duration": 19,
    "start_time": "2023-04-21T15:15:45.052Z"
   },
   {
    "duration": 18,
    "start_time": "2023-04-21T15:16:39.570Z"
   },
   {
    "duration": 21,
    "start_time": "2023-04-21T15:21:29.552Z"
   },
   {
    "duration": 11,
    "start_time": "2023-04-21T15:21:57.640Z"
   },
   {
    "duration": 12,
    "start_time": "2023-04-21T15:22:47.979Z"
   },
   {
    "duration": 12,
    "start_time": "2023-04-21T15:23:19.502Z"
   },
   {
    "duration": 22,
    "start_time": "2023-04-21T15:24:00.419Z"
   },
   {
    "duration": 12,
    "start_time": "2023-04-21T15:24:11.073Z"
   },
   {
    "duration": 17,
    "start_time": "2023-04-21T15:24:31.928Z"
   },
   {
    "duration": 20,
    "start_time": "2023-04-21T15:24:36.815Z"
   },
   {
    "duration": 17,
    "start_time": "2023-04-21T15:24:48.377Z"
   },
   {
    "duration": 16,
    "start_time": "2023-04-21T15:24:58.268Z"
   },
   {
    "duration": 2,
    "start_time": "2023-04-21T15:29:19.367Z"
   },
   {
    "duration": 25,
    "start_time": "2023-04-21T15:29:20.148Z"
   },
   {
    "duration": 1039,
    "start_time": "2023-04-21T15:33:01.267Z"
   },
   {
    "duration": 565,
    "start_time": "2023-04-21T15:33:55.553Z"
   },
   {
    "duration": 774,
    "start_time": "2023-04-21T15:37:12.265Z"
   },
   {
    "duration": 311,
    "start_time": "2023-04-21T15:37:27.949Z"
   },
   {
    "duration": 65,
    "start_time": "2023-04-21T15:37:55.899Z"
   },
   {
    "duration": 1354,
    "start_time": "2023-04-21T15:38:04.630Z"
   },
   {
    "duration": 450,
    "start_time": "2023-04-21T15:38:05.986Z"
   },
   {
    "duration": 8,
    "start_time": "2023-04-21T15:38:06.438Z"
   },
   {
    "duration": 21,
    "start_time": "2023-04-21T15:38:06.448Z"
   },
   {
    "duration": 15,
    "start_time": "2023-04-21T15:38:06.471Z"
   },
   {
    "duration": 5,
    "start_time": "2023-04-21T15:38:06.488Z"
   },
   {
    "duration": 34,
    "start_time": "2023-04-21T15:38:06.511Z"
   },
   {
    "duration": 242,
    "start_time": "2023-04-21T15:38:06.546Z"
   },
   {
    "duration": 167,
    "start_time": "2023-04-21T15:38:06.789Z"
   },
   {
    "duration": 328,
    "start_time": "2023-04-21T15:38:06.959Z"
   },
   {
    "duration": 326,
    "start_time": "2023-04-21T15:38:07.289Z"
   },
   {
    "duration": 304,
    "start_time": "2023-04-21T15:38:07.618Z"
   },
   {
    "duration": 722,
    "start_time": "2023-04-21T15:38:07.925Z"
   },
   {
    "duration": 3,
    "start_time": "2023-04-21T15:38:08.649Z"
   },
   {
    "duration": 715,
    "start_time": "2023-04-21T15:38:08.654Z"
   },
   {
    "duration": 5,
    "start_time": "2023-04-21T15:38:09.371Z"
   },
   {
    "duration": 566,
    "start_time": "2023-04-21T15:38:09.378Z"
   },
   {
    "duration": 81,
    "start_time": "2023-04-21T15:38:43.108Z"
   },
   {
    "duration": 1183,
    "start_time": "2023-04-21T15:38:50.271Z"
   },
   {
    "duration": 453,
    "start_time": "2023-04-21T15:38:51.456Z"
   },
   {
    "duration": 31,
    "start_time": "2023-04-21T15:38:51.912Z"
   },
   {
    "duration": 24,
    "start_time": "2023-04-21T15:38:51.952Z"
   },
   {
    "duration": 14,
    "start_time": "2023-04-21T15:38:51.979Z"
   },
   {
    "duration": 7,
    "start_time": "2023-04-21T15:38:51.995Z"
   },
   {
    "duration": 25,
    "start_time": "2023-04-21T15:38:52.004Z"
   },
   {
    "duration": 251,
    "start_time": "2023-04-21T15:38:52.031Z"
   },
   {
    "duration": 172,
    "start_time": "2023-04-21T15:38:52.284Z"
   },
   {
    "duration": 481,
    "start_time": "2023-04-21T15:38:52.457Z"
   },
   {
    "duration": 335,
    "start_time": "2023-04-21T15:38:52.942Z"
   },
   {
    "duration": 364,
    "start_time": "2023-04-21T15:38:53.279Z"
   },
   {
    "duration": 737,
    "start_time": "2023-04-21T15:38:53.646Z"
   },
   {
    "duration": 3,
    "start_time": "2023-04-21T15:38:54.386Z"
   },
   {
    "duration": 662,
    "start_time": "2023-04-21T15:38:54.391Z"
   },
   {
    "duration": 4,
    "start_time": "2023-04-21T15:38:55.056Z"
   },
   {
    "duration": 637,
    "start_time": "2023-04-21T15:38:55.062Z"
   },
   {
    "duration": 656,
    "start_time": "2023-04-21T15:38:55.702Z"
   },
   {
    "duration": 29,
    "start_time": "2023-04-21T15:38:56.360Z"
   },
   {
    "duration": 25,
    "start_time": "2023-04-21T15:38:56.391Z"
   },
   {
    "duration": 14,
    "start_time": "2023-04-21T15:38:56.419Z"
   },
   {
    "duration": 721,
    "start_time": "2023-04-21T15:38:56.436Z"
   },
   {
    "duration": 572,
    "start_time": "2023-04-21T15:38:57.159Z"
   },
   {
    "duration": 15,
    "start_time": "2023-04-21T15:38:57.737Z"
   },
   {
    "duration": 29,
    "start_time": "2023-04-21T15:38:57.754Z"
   },
   {
    "duration": 106,
    "start_time": "2023-04-21T15:38:57.786Z"
   },
   {
    "duration": 17,
    "start_time": "2023-04-21T15:38:57.895Z"
   },
   {
    "duration": 29,
    "start_time": "2023-04-21T15:38:57.915Z"
   },
   {
    "duration": 17,
    "start_time": "2023-04-21T15:38:57.946Z"
   },
   {
    "duration": 15,
    "start_time": "2023-04-21T15:38:57.965Z"
   },
   {
    "duration": 4,
    "start_time": "2023-04-21T15:38:58.013Z"
   },
   {
    "duration": 38,
    "start_time": "2023-04-21T15:38:58.019Z"
   },
   {
    "duration": 505,
    "start_time": "2023-04-21T15:39:57.158Z"
   },
   {
    "duration": 27,
    "start_time": "2023-04-21T15:40:45.856Z"
   },
   {
    "duration": 121,
    "start_time": "2023-04-21T15:40:48.092Z"
   },
   {
    "duration": 6,
    "start_time": "2023-04-21T15:40:50.037Z"
   },
   {
    "duration": 14,
    "start_time": "2023-04-21T15:41:15.054Z"
   },
   {
    "duration": 2,
    "start_time": "2023-04-21T15:41:20.487Z"
   },
   {
    "duration": 18,
    "start_time": "2023-04-21T15:41:23.490Z"
   },
   {
    "duration": 23,
    "start_time": "2023-04-21T15:41:35.741Z"
   },
   {
    "duration": 616,
    "start_time": "2023-04-21T15:42:17.087Z"
   },
   {
    "duration": 613,
    "start_time": "2023-04-21T15:42:44.403Z"
   },
   {
    "duration": 542,
    "start_time": "2023-04-21T15:43:35.138Z"
   },
   {
    "duration": 147,
    "start_time": "2023-04-21T15:45:35.005Z"
   },
   {
    "duration": 17,
    "start_time": "2023-04-21T15:45:42.004Z"
   },
   {
    "duration": 772,
    "start_time": "2023-04-21T15:46:48.680Z"
   },
   {
    "duration": 637,
    "start_time": "2023-04-21T15:47:53.809Z"
   },
   {
    "duration": 606,
    "start_time": "2023-04-21T15:48:09.475Z"
   },
   {
    "duration": 778,
    "start_time": "2023-04-21T15:48:21.660Z"
   },
   {
    "duration": 706,
    "start_time": "2023-04-21T15:49:21.257Z"
   },
   {
    "duration": 691,
    "start_time": "2023-04-21T15:49:47.431Z"
   },
   {
    "duration": 619,
    "start_time": "2023-04-21T15:50:22.126Z"
   },
   {
    "duration": 843,
    "start_time": "2023-04-21T15:50:36.548Z"
   },
   {
    "duration": 690,
    "start_time": "2023-04-21T15:51:09.941Z"
   },
   {
    "duration": 634,
    "start_time": "2023-04-21T15:51:24.161Z"
   },
   {
    "duration": 792,
    "start_time": "2023-04-21T15:51:39.108Z"
   },
   {
    "duration": 33,
    "start_time": "2023-04-21T15:51:45.106Z"
   },
   {
    "duration": 10,
    "start_time": "2023-04-21T15:51:51.367Z"
   },
   {
    "duration": 784,
    "start_time": "2023-04-21T15:52:22.510Z"
   },
   {
    "duration": 607,
    "start_time": "2023-04-21T15:53:01.144Z"
   },
   {
    "duration": 12,
    "start_time": "2023-04-21T15:54:03.963Z"
   },
   {
    "duration": 16,
    "start_time": "2023-04-21T15:54:14.829Z"
   },
   {
    "duration": 9,
    "start_time": "2023-04-21T15:54:19.340Z"
   },
   {
    "duration": 16261,
    "start_time": "2023-04-21T15:55:35.190Z"
   },
   {
    "duration": 10,
    "start_time": "2023-04-21T15:56:11.796Z"
   },
   {
    "duration": 16,
    "start_time": "2023-04-21T15:56:17.876Z"
   },
   {
    "duration": 14787,
    "start_time": "2023-04-21T15:56:24.097Z"
   },
   {
    "duration": 321,
    "start_time": "2023-04-21T15:57:04.099Z"
   },
   {
    "duration": 341,
    "start_time": "2023-04-21T15:57:27.396Z"
   },
   {
    "duration": 400,
    "start_time": "2023-04-21T15:58:23.608Z"
   },
   {
    "duration": 427,
    "start_time": "2023-04-21T15:58:43.492Z"
   },
   {
    "duration": 420,
    "start_time": "2023-04-21T15:59:20.438Z"
   },
   {
    "duration": 407,
    "start_time": "2023-04-21T16:00:22.641Z"
   },
   {
    "duration": 597,
    "start_time": "2023-04-21T16:00:37.247Z"
   },
   {
    "duration": 586,
    "start_time": "2023-04-21T16:01:09.775Z"
   },
   {
    "duration": 641,
    "start_time": "2023-04-21T16:01:22.410Z"
   },
   {
    "duration": 603,
    "start_time": "2023-04-21T16:01:29.860Z"
   },
   {
    "duration": 2254,
    "start_time": "2023-04-21T16:01:36.487Z"
   },
   {
    "duration": 2121,
    "start_time": "2023-04-21T16:01:47.575Z"
   },
   {
    "duration": 411,
    "start_time": "2023-04-21T16:01:59.582Z"
   },
   {
    "duration": 663,
    "start_time": "2023-04-21T16:02:04.810Z"
   },
   {
    "duration": 753,
    "start_time": "2023-04-21T16:02:11.539Z"
   },
   {
    "duration": 851,
    "start_time": "2023-04-21T16:02:17.302Z"
   },
   {
    "duration": 2350,
    "start_time": "2023-04-21T16:02:24.927Z"
   },
   {
    "duration": 734,
    "start_time": "2023-04-21T16:02:32.494Z"
   },
   {
    "duration": 731,
    "start_time": "2023-04-21T16:02:36.861Z"
   },
   {
    "duration": 644,
    "start_time": "2023-04-21T16:02:41.449Z"
   },
   {
    "duration": 555,
    "start_time": "2023-04-21T16:02:48.108Z"
   },
   {
    "duration": 545,
    "start_time": "2023-04-21T16:02:52.633Z"
   },
   {
    "duration": 491,
    "start_time": "2023-04-21T16:02:57.477Z"
   },
   {
    "duration": 484,
    "start_time": "2023-04-21T16:04:06.372Z"
   },
   {
    "duration": 632,
    "start_time": "2023-04-21T16:04:33.337Z"
   },
   {
    "duration": 7,
    "start_time": "2023-04-21T16:05:12.448Z"
   },
   {
    "duration": 202,
    "start_time": "2023-04-21T16:05:32.395Z"
   },
   {
    "duration": 501,
    "start_time": "2023-04-21T16:10:40.987Z"
   },
   {
    "duration": 3,
    "start_time": "2023-04-21T20:02:51.114Z"
   },
   {
    "duration": 1062,
    "start_time": "2023-04-21T20:02:57.475Z"
   },
   {
    "duration": 165,
    "start_time": "2023-04-21T20:03:11.820Z"
   },
   {
    "duration": 99,
    "start_time": "2023-04-21T20:03:33.476Z"
   },
   {
    "duration": 94,
    "start_time": "2023-04-21T20:03:57.969Z"
   },
   {
    "duration": 8,
    "start_time": "2023-04-21T20:04:09.873Z"
   },
   {
    "duration": 8,
    "start_time": "2023-04-21T20:04:20.881Z"
   },
   {
    "duration": 27,
    "start_time": "2023-04-21T20:04:28.832Z"
   },
   {
    "duration": 12,
    "start_time": "2023-04-21T20:04:35.768Z"
   },
   {
    "duration": 7,
    "start_time": "2023-04-21T20:04:42.330Z"
   },
   {
    "duration": 15,
    "start_time": "2023-04-21T20:04:50.545Z"
   },
   {
    "duration": 7,
    "start_time": "2023-04-21T20:04:59.300Z"
   },
   {
    "duration": 11,
    "start_time": "2023-04-21T20:05:06.978Z"
   },
   {
    "duration": 11,
    "start_time": "2023-04-21T20:05:31.519Z"
   },
   {
    "duration": 4,
    "start_time": "2023-04-21T20:05:35.068Z"
   },
   {
    "duration": 20,
    "start_time": "2023-04-21T20:05:58.164Z"
   },
   {
    "duration": 9,
    "start_time": "2023-04-21T20:07:47.485Z"
   },
   {
    "duration": 106,
    "start_time": "2023-04-21T20:09:25.177Z"
   },
   {
    "duration": 759,
    "start_time": "2023-04-21T20:09:47.746Z"
   },
   {
    "duration": 235,
    "start_time": "2023-04-21T20:18:47.582Z"
   },
   {
    "duration": 227,
    "start_time": "2023-04-21T20:19:14.596Z"
   },
   {
    "duration": 233,
    "start_time": "2023-04-21T20:19:55.933Z"
   },
   {
    "duration": 204,
    "start_time": "2023-04-21T20:20:00.133Z"
   },
   {
    "duration": 215,
    "start_time": "2023-04-21T20:20:20.628Z"
   },
   {
    "duration": 198,
    "start_time": "2023-04-21T20:20:24.800Z"
   },
   {
    "duration": 206,
    "start_time": "2023-04-21T20:20:43.702Z"
   },
   {
    "duration": 4,
    "start_time": "2023-04-21T20:23:17.723Z"
   },
   {
    "duration": 7,
    "start_time": "2023-04-21T20:23:31.086Z"
   },
   {
    "duration": 6,
    "start_time": "2023-04-21T20:23:39.677Z"
   },
   {
    "duration": 7,
    "start_time": "2023-04-21T20:23:48.229Z"
   },
   {
    "duration": 4,
    "start_time": "2023-04-21T20:24:04.962Z"
   },
   {
    "duration": 129,
    "start_time": "2023-04-21T20:24:11.463Z"
   },
   {
    "duration": 255,
    "start_time": "2023-04-21T20:25:30.673Z"
   },
   {
    "duration": 96,
    "start_time": "2023-04-21T20:26:31.378Z"
   },
   {
    "duration": 92,
    "start_time": "2023-04-21T20:26:34.434Z"
   },
   {
    "duration": 91,
    "start_time": "2023-04-21T20:26:39.457Z"
   },
   {
    "duration": 120,
    "start_time": "2023-04-21T20:26:44.017Z"
   },
   {
    "duration": 161,
    "start_time": "2023-04-21T20:26:48.932Z"
   },
   {
    "duration": 112,
    "start_time": "2023-04-21T20:26:54.440Z"
   },
   {
    "duration": 123,
    "start_time": "2023-04-21T20:27:00.748Z"
   },
   {
    "duration": 129,
    "start_time": "2023-04-21T20:27:07.926Z"
   },
   {
    "duration": 118,
    "start_time": "2023-04-21T20:27:14.015Z"
   },
   {
    "duration": 154,
    "start_time": "2023-04-21T20:27:56.078Z"
   },
   {
    "duration": 162,
    "start_time": "2023-04-21T20:28:32.948Z"
   },
   {
    "duration": 163,
    "start_time": "2023-04-21T20:28:42.706Z"
   },
   {
    "duration": 161,
    "start_time": "2023-04-21T20:28:45.685Z"
   },
   {
    "duration": 146,
    "start_time": "2023-04-21T20:28:57.757Z"
   },
   {
    "duration": 169,
    "start_time": "2023-04-21T20:29:08.211Z"
   },
   {
    "duration": 152,
    "start_time": "2023-04-21T20:29:22.404Z"
   },
   {
    "duration": 218,
    "start_time": "2023-04-21T20:29:43.154Z"
   },
   {
    "duration": 140,
    "start_time": "2023-04-21T20:33:18.223Z"
   },
   {
    "duration": 191,
    "start_time": "2023-04-21T20:33:48.913Z"
   },
   {
    "duration": 212,
    "start_time": "2023-04-21T20:34:13.351Z"
   },
   {
    "duration": 203,
    "start_time": "2023-04-21T20:34:27.711Z"
   },
   {
    "duration": 168,
    "start_time": "2023-04-21T20:34:49.840Z"
   },
   {
    "duration": 162,
    "start_time": "2023-04-21T20:34:58.328Z"
   },
   {
    "duration": 162,
    "start_time": "2023-04-21T20:35:10.424Z"
   },
   {
    "duration": 187,
    "start_time": "2023-04-21T20:35:49.104Z"
   },
   {
    "duration": 163,
    "start_time": "2023-04-21T20:36:03.112Z"
   },
   {
    "duration": 130,
    "start_time": "2023-04-21T20:36:04.813Z"
   },
   {
    "duration": 303,
    "start_time": "2023-04-21T20:36:13.439Z"
   },
   {
    "duration": 275,
    "start_time": "2023-04-21T20:36:31.011Z"
   },
   {
    "duration": 279,
    "start_time": "2023-04-21T20:37:00.055Z"
   },
   {
    "duration": 546,
    "start_time": "2023-04-21T20:37:04.615Z"
   },
   {
    "duration": 3,
    "start_time": "2023-04-21T20:37:16.528Z"
   },
   {
    "duration": 514,
    "start_time": "2023-04-21T20:37:17.581Z"
   },
   {
    "duration": 537,
    "start_time": "2023-04-21T20:38:01.483Z"
   },
   {
    "duration": 5,
    "start_time": "2023-04-21T20:38:31.907Z"
   },
   {
    "duration": 1000,
    "start_time": "2023-04-21T20:38:51.037Z"
   },
   {
    "duration": 504,
    "start_time": "2023-04-21T20:44:17.979Z"
   },
   {
    "duration": 566,
    "start_time": "2023-04-21T20:44:28.827Z"
   },
   {
    "duration": 35,
    "start_time": "2023-04-21T20:46:30.310Z"
   },
   {
    "duration": 10,
    "start_time": "2023-04-21T20:46:33.998Z"
   },
   {
    "duration": 6,
    "start_time": "2023-04-21T20:46:34.546Z"
   },
   {
    "duration": 515,
    "start_time": "2023-04-21T20:46:36.779Z"
   },
   {
    "duration": 149,
    "start_time": "2023-04-21T20:46:48.607Z"
   },
   {
    "duration": 188,
    "start_time": "2023-04-21T20:47:19.518Z"
   },
   {
    "duration": 505,
    "start_time": "2023-04-21T20:47:40.044Z"
   },
   {
    "duration": 550,
    "start_time": "2023-04-21T20:47:44.200Z"
   },
   {
    "duration": 286,
    "start_time": "2023-04-21T20:49:46.860Z"
   },
   {
    "duration": 30,
    "start_time": "2023-04-21T20:51:29.310Z"
   },
   {
    "duration": 19,
    "start_time": "2023-04-21T20:51:36.249Z"
   },
   {
    "duration": 10,
    "start_time": "2023-04-21T20:51:41.330Z"
   },
   {
    "duration": 6,
    "start_time": "2023-04-21T20:51:41.888Z"
   },
   {
    "duration": 922,
    "start_time": "2023-04-21T20:51:44.834Z"
   },
   {
    "duration": 489,
    "start_time": "2023-04-21T20:51:47.911Z"
   },
   {
    "duration": 469,
    "start_time": "2023-04-21T20:52:07.004Z"
   },
   {
    "duration": 18,
    "start_time": "2023-04-21T20:52:16.457Z"
   },
   {
    "duration": 79,
    "start_time": "2023-04-21T20:52:50.512Z"
   },
   {
    "duration": 5,
    "start_time": "2023-04-21T20:52:57.611Z"
   },
   {
    "duration": 16,
    "start_time": "2023-04-21T20:52:58.863Z"
   },
   {
    "duration": 502,
    "start_time": "2023-04-21T20:53:25.214Z"
   },
   {
    "duration": 145,
    "start_time": "2023-04-21T20:53:52.232Z"
   },
   {
    "duration": 472,
    "start_time": "2023-04-21T20:55:34.859Z"
   },
   {
    "duration": 332,
    "start_time": "2023-04-21T20:55:46.750Z"
   },
   {
    "duration": 286,
    "start_time": "2023-04-21T20:55:59.145Z"
   },
   {
    "duration": 734,
    "start_time": "2023-04-21T20:56:08.995Z"
   },
   {
    "duration": 278,
    "start_time": "2023-04-21T20:56:17.305Z"
   },
   {
    "duration": 275,
    "start_time": "2023-04-21T20:56:21.967Z"
   },
   {
    "duration": 353,
    "start_time": "2023-04-21T20:56:35.346Z"
   },
   {
    "duration": 239,
    "start_time": "2023-04-21T20:56:41.964Z"
   },
   {
    "duration": 1053,
    "start_time": "2023-04-21T20:56:45.759Z"
   },
   {
    "duration": 246,
    "start_time": "2023-04-21T20:57:13.148Z"
   },
   {
    "duration": 715,
    "start_time": "2023-04-21T20:57:20.681Z"
   },
   {
    "duration": 269,
    "start_time": "2023-04-21T20:57:27.822Z"
   },
   {
    "duration": 268,
    "start_time": "2023-04-21T20:57:36.465Z"
   },
   {
    "duration": 288,
    "start_time": "2023-04-21T20:58:56.913Z"
   },
   {
    "duration": 289,
    "start_time": "2023-04-21T20:59:02.014Z"
   },
   {
    "duration": 293,
    "start_time": "2023-04-21T20:59:12.554Z"
   },
   {
    "duration": 284,
    "start_time": "2023-04-21T20:59:25.669Z"
   },
   {
    "duration": 271,
    "start_time": "2023-04-21T20:59:57.165Z"
   },
   {
    "duration": 507,
    "start_time": "2023-04-21T21:04:19.157Z"
   },
   {
    "duration": 351,
    "start_time": "2023-04-21T21:04:23.094Z"
   },
   {
    "duration": 438,
    "start_time": "2023-04-21T21:04:29.100Z"
   },
   {
    "duration": 938,
    "start_time": "2023-04-21T21:04:49.761Z"
   },
   {
    "duration": 602,
    "start_time": "2023-04-21T21:24:09.387Z"
   },
   {
    "duration": 566,
    "start_time": "2023-04-21T21:24:29.707Z"
   },
   {
    "duration": 551,
    "start_time": "2023-04-21T21:24:46.078Z"
   },
   {
    "duration": 555,
    "start_time": "2023-04-21T21:32:52.050Z"
   },
   {
    "duration": 374,
    "start_time": "2023-04-21T21:33:07.557Z"
   },
   {
    "duration": 382,
    "start_time": "2023-04-21T21:33:31.637Z"
   },
   {
    "duration": 365,
    "start_time": "2023-04-21T21:33:48.236Z"
   },
   {
    "duration": 402,
    "start_time": "2023-04-21T21:33:59.636Z"
   },
   {
    "duration": 866,
    "start_time": "2023-04-21T21:34:06.509Z"
   },
   {
    "duration": 419,
    "start_time": "2023-04-21T21:34:10.800Z"
   },
   {
    "duration": 384,
    "start_time": "2023-04-21T21:34:22.958Z"
   },
   {
    "duration": 489,
    "start_time": "2023-04-21T21:34:41.694Z"
   },
   {
    "duration": 612,
    "start_time": "2023-04-21T21:35:08.577Z"
   },
   {
    "duration": 371,
    "start_time": "2023-04-21T21:35:10.178Z"
   },
   {
    "duration": 505,
    "start_time": "2023-04-21T21:35:12.601Z"
   },
   {
    "duration": 1276,
    "start_time": "2023-04-22T17:09:23.388Z"
   },
   {
    "duration": 327,
    "start_time": "2023-04-22T17:09:24.666Z"
   },
   {
    "duration": 11,
    "start_time": "2023-04-22T17:09:24.997Z"
   },
   {
    "duration": 28,
    "start_time": "2023-04-22T17:09:25.010Z"
   },
   {
    "duration": 24,
    "start_time": "2023-04-22T17:09:25.041Z"
   },
   {
    "duration": 14,
    "start_time": "2023-04-22T17:09:25.068Z"
   },
   {
    "duration": 48,
    "start_time": "2023-04-22T17:09:25.084Z"
   },
   {
    "duration": 205,
    "start_time": "2023-04-22T17:09:25.134Z"
   },
   {
    "duration": 1668,
    "start_time": "2023-04-22T17:09:25.342Z"
   },
   {
    "duration": 0,
    "start_time": "2023-04-22T17:09:27.013Z"
   },
   {
    "duration": 0,
    "start_time": "2023-04-22T17:09:27.015Z"
   },
   {
    "duration": 0,
    "start_time": "2023-04-22T17:09:27.017Z"
   },
   {
    "duration": 0,
    "start_time": "2023-04-22T17:09:27.019Z"
   },
   {
    "duration": 0,
    "start_time": "2023-04-22T17:09:27.021Z"
   },
   {
    "duration": 0,
    "start_time": "2023-04-22T17:09:27.023Z"
   },
   {
    "duration": 0,
    "start_time": "2023-04-22T17:09:27.025Z"
   },
   {
    "duration": 1,
    "start_time": "2023-04-22T17:09:27.026Z"
   },
   {
    "duration": 0,
    "start_time": "2023-04-22T17:09:27.028Z"
   },
   {
    "duration": 0,
    "start_time": "2023-04-22T17:09:27.030Z"
   },
   {
    "duration": 0,
    "start_time": "2023-04-22T17:09:27.033Z"
   },
   {
    "duration": 0,
    "start_time": "2023-04-22T17:09:27.034Z"
   },
   {
    "duration": 0,
    "start_time": "2023-04-22T17:09:27.038Z"
   },
   {
    "duration": 0,
    "start_time": "2023-04-22T17:09:27.040Z"
   },
   {
    "duration": 0,
    "start_time": "2023-04-22T17:09:27.043Z"
   },
   {
    "duration": 0,
    "start_time": "2023-04-22T17:09:27.045Z"
   },
   {
    "duration": 0,
    "start_time": "2023-04-22T17:09:27.046Z"
   },
   {
    "duration": 0,
    "start_time": "2023-04-22T17:09:27.049Z"
   },
   {
    "duration": 0,
    "start_time": "2023-04-22T17:09:27.051Z"
   },
   {
    "duration": 0,
    "start_time": "2023-04-22T17:09:27.052Z"
   },
   {
    "duration": 68,
    "start_time": "2023-04-23T06:36:03.302Z"
   },
   {
    "duration": 6,
    "start_time": "2023-04-23T06:36:21.541Z"
   },
   {
    "duration": 1066,
    "start_time": "2023-04-23T06:36:27.222Z"
   },
   {
    "duration": 371,
    "start_time": "2023-04-23T06:36:31.700Z"
   },
   {
    "duration": 87,
    "start_time": "2023-04-23T06:36:51.260Z"
   },
   {
    "duration": 95,
    "start_time": "2023-04-23T06:37:21.649Z"
   },
   {
    "duration": 91,
    "start_time": "2023-04-23T06:37:34.821Z"
   },
   {
    "duration": 94,
    "start_time": "2023-04-23T06:37:54.917Z"
   },
   {
    "duration": 14,
    "start_time": "2023-04-23T06:40:28.350Z"
   },
   {
    "duration": 14,
    "start_time": "2023-04-23T06:40:57.517Z"
   },
   {
    "duration": 138,
    "start_time": "2023-04-23T06:41:25.601Z"
   },
   {
    "duration": 149,
    "start_time": "2023-04-23T06:41:44.036Z"
   },
   {
    "duration": 132,
    "start_time": "2023-04-23T06:41:50.634Z"
   },
   {
    "duration": 5,
    "start_time": "2023-04-23T06:42:24.408Z"
   },
   {
    "duration": 108,
    "start_time": "2023-04-23T06:42:33.168Z"
   },
   {
    "duration": 111,
    "start_time": "2023-04-23T06:42:49.851Z"
   },
   {
    "duration": 231,
    "start_time": "2023-04-23T06:42:57.588Z"
   },
   {
    "duration": 226,
    "start_time": "2023-04-23T06:43:06.251Z"
   },
   {
    "duration": 275,
    "start_time": "2023-04-23T06:43:10.276Z"
   },
   {
    "duration": 444,
    "start_time": "2023-04-23T06:43:13.052Z"
   },
   {
    "duration": 421,
    "start_time": "2023-04-23T06:43:17.492Z"
   },
   {
    "duration": 6,
    "start_time": "2023-04-23T06:43:22.910Z"
   },
   {
    "duration": 469,
    "start_time": "2023-04-23T06:43:24.389Z"
   },
   {
    "duration": 15,
    "start_time": "2023-04-23T06:43:29.247Z"
   },
   {
    "duration": 7,
    "start_time": "2023-04-23T06:43:34.816Z"
   },
   {
    "duration": 5,
    "start_time": "2023-04-23T06:43:35.539Z"
   },
   {
    "duration": 474,
    "start_time": "2023-04-23T06:43:39.399Z"
   },
   {
    "duration": 397,
    "start_time": "2023-04-23T06:43:43.272Z"
   },
   {
    "duration": 63,
    "start_time": "2023-04-23T06:43:49.122Z"
   },
   {
    "duration": 4,
    "start_time": "2023-04-23T06:44:14.135Z"
   },
   {
    "duration": 99,
    "start_time": "2023-04-23T06:44:15.253Z"
   },
   {
    "duration": 8,
    "start_time": "2023-04-23T06:44:16.218Z"
   },
   {
    "duration": 8,
    "start_time": "2023-04-23T06:44:16.656Z"
   },
   {
    "duration": 14,
    "start_time": "2023-04-23T06:44:17.343Z"
   },
   {
    "duration": 3,
    "start_time": "2023-04-23T06:44:17.557Z"
   },
   {
    "duration": 17,
    "start_time": "2023-04-23T06:44:17.816Z"
   },
   {
    "duration": 125,
    "start_time": "2023-04-23T06:44:18.857Z"
   },
   {
    "duration": 2,
    "start_time": "2023-04-23T06:44:20.191Z"
   },
   {
    "duration": 110,
    "start_time": "2023-04-23T06:44:21.787Z"
   },
   {
    "duration": 250,
    "start_time": "2023-04-23T06:44:23.081Z"
   },
   {
    "duration": 304,
    "start_time": "2023-04-23T06:44:24.905Z"
   },
   {
    "duration": 198,
    "start_time": "2023-04-23T06:44:26.505Z"
   },
   {
    "duration": 415,
    "start_time": "2023-04-23T06:44:29.622Z"
   },
   {
    "duration": 391,
    "start_time": "2023-04-23T06:44:32.924Z"
   },
   {
    "duration": 4,
    "start_time": "2023-04-23T06:44:36.963Z"
   },
   {
    "duration": 476,
    "start_time": "2023-04-23T06:44:37.746Z"
   },
   {
    "duration": 15,
    "start_time": "2023-04-23T06:44:50.621Z"
   },
   {
    "duration": 9,
    "start_time": "2023-04-23T06:44:54.093Z"
   },
   {
    "duration": 5,
    "start_time": "2023-04-23T06:44:54.605Z"
   },
   {
    "duration": 378,
    "start_time": "2023-04-23T06:44:56.530Z"
   },
   {
    "duration": 400,
    "start_time": "2023-04-23T06:45:00.087Z"
   },
   {
    "duration": 17,
    "start_time": "2023-04-23T06:45:04.509Z"
   },
   {
    "duration": 22,
    "start_time": "2023-04-23T06:45:17.688Z"
   },
   {
    "duration": 16,
    "start_time": "2023-04-23T06:45:21.639Z"
   },
   {
    "duration": 63,
    "start_time": "2023-04-23T06:45:25.559Z"
   },
   {
    "duration": 5,
    "start_time": "2023-04-23T06:45:29.314Z"
   },
   {
    "duration": 243,
    "start_time": "2023-04-23T06:45:29.805Z"
   },
   {
    "duration": 330,
    "start_time": "2023-04-23T06:46:16.309Z"
   },
   {
    "duration": 422,
    "start_time": "2023-04-23T06:46:22.282Z"
   },
   {
    "duration": 286,
    "start_time": "2023-04-23T06:46:26.352Z"
   },
   {
    "duration": 345,
    "start_time": "2023-04-23T06:46:32.731Z"
   },
   {
    "duration": 241,
    "start_time": "2023-04-23T06:48:00.696Z"
   },
   {
    "duration": 351,
    "start_time": "2023-04-23T07:11:17.110Z"
   },
   {
    "duration": 975,
    "start_time": "2023-04-23T07:11:25.184Z"
   },
   {
    "duration": 145,
    "start_time": "2023-04-23T07:11:26.161Z"
   },
   {
    "duration": 6,
    "start_time": "2023-04-23T07:11:26.307Z"
   },
   {
    "duration": 9,
    "start_time": "2023-04-23T07:11:26.315Z"
   },
   {
    "duration": 17,
    "start_time": "2023-04-23T07:11:26.326Z"
   },
   {
    "duration": 3,
    "start_time": "2023-04-23T07:11:26.344Z"
   },
   {
    "duration": 19,
    "start_time": "2023-04-23T07:11:26.349Z"
   },
   {
    "duration": 157,
    "start_time": "2023-04-23T07:11:26.393Z"
   },
   {
    "duration": 2,
    "start_time": "2023-04-23T07:11:26.552Z"
   },
   {
    "duration": 122,
    "start_time": "2023-04-23T07:11:26.557Z"
   },
   {
    "duration": 263,
    "start_time": "2023-04-23T07:11:26.680Z"
   },
   {
    "duration": 237,
    "start_time": "2023-04-23T07:11:26.945Z"
   },
   {
    "duration": 220,
    "start_time": "2023-04-23T07:11:27.184Z"
   },
   {
    "duration": 513,
    "start_time": "2023-04-23T07:11:27.406Z"
   },
   {
    "duration": 418,
    "start_time": "2023-04-23T07:11:27.920Z"
   },
   {
    "duration": 4,
    "start_time": "2023-04-23T07:11:28.339Z"
   },
   {
    "duration": 401,
    "start_time": "2023-04-23T07:11:28.345Z"
   },
   {
    "duration": 15,
    "start_time": "2023-04-23T07:11:28.748Z"
   },
   {
    "duration": 7,
    "start_time": "2023-04-23T07:11:28.764Z"
   },
   {
    "duration": 5,
    "start_time": "2023-04-23T07:11:28.772Z"
   },
   {
    "duration": 395,
    "start_time": "2023-04-23T07:11:28.793Z"
   },
   {
    "duration": 572,
    "start_time": "2023-04-23T07:11:29.189Z"
   },
   {
    "duration": 18,
    "start_time": "2023-04-23T07:11:29.763Z"
   },
   {
    "duration": 90,
    "start_time": "2023-04-23T07:11:29.782Z"
   },
   {
    "duration": 5,
    "start_time": "2023-04-23T07:11:29.873Z"
   },
   {
    "duration": 243,
    "start_time": "2023-04-23T07:11:29.879Z"
   },
   {
    "duration": 410,
    "start_time": "2023-04-23T07:11:30.124Z"
   },
   {
    "duration": 297,
    "start_time": "2023-04-23T07:11:30.537Z"
   },
   {
    "duration": 463,
    "start_time": "2023-04-23T07:11:30.835Z"
   },
   {
    "duration": 964,
    "start_time": "2023-04-23T07:14:07.788Z"
   },
   {
    "duration": 148,
    "start_time": "2023-04-23T07:14:08.754Z"
   },
   {
    "duration": 6,
    "start_time": "2023-04-23T07:14:08.903Z"
   },
   {
    "duration": 17,
    "start_time": "2023-04-23T07:14:08.910Z"
   },
   {
    "duration": 13,
    "start_time": "2023-04-23T07:14:08.928Z"
   },
   {
    "duration": 5,
    "start_time": "2023-04-23T07:14:08.943Z"
   },
   {
    "duration": 18,
    "start_time": "2023-04-23T07:14:08.949Z"
   },
   {
    "duration": 156,
    "start_time": "2023-04-23T07:14:08.969Z"
   },
   {
    "duration": 2,
    "start_time": "2023-04-23T07:14:09.126Z"
   },
   {
    "duration": 126,
    "start_time": "2023-04-23T07:14:09.130Z"
   },
   {
    "duration": 254,
    "start_time": "2023-04-23T07:14:09.258Z"
   },
   {
    "duration": 233,
    "start_time": "2023-04-23T07:14:09.513Z"
   },
   {
    "duration": 214,
    "start_time": "2023-04-23T07:14:09.748Z"
   },
   {
    "duration": 535,
    "start_time": "2023-04-23T07:14:09.963Z"
   },
   {
    "duration": 419,
    "start_time": "2023-04-23T07:14:10.500Z"
   },
   {
    "duration": 5,
    "start_time": "2023-04-23T07:14:10.921Z"
   },
   {
    "duration": 411,
    "start_time": "2023-04-23T07:14:10.927Z"
   },
   {
    "duration": 16,
    "start_time": "2023-04-23T07:14:11.340Z"
   },
   {
    "duration": 7,
    "start_time": "2023-04-23T07:14:11.357Z"
   },
   {
    "duration": 5,
    "start_time": "2023-04-23T07:14:11.365Z"
   },
   {
    "duration": 409,
    "start_time": "2023-04-23T07:14:11.371Z"
   },
   {
    "duration": 512,
    "start_time": "2023-04-23T07:14:11.782Z"
   },
   {
    "duration": 15,
    "start_time": "2023-04-23T07:14:12.295Z"
   },
   {
    "duration": 65,
    "start_time": "2023-04-23T07:14:12.312Z"
   },
   {
    "duration": 17,
    "start_time": "2023-04-23T07:14:12.379Z"
   },
   {
    "duration": 230,
    "start_time": "2023-04-23T07:14:12.399Z"
   },
   {
    "duration": 396,
    "start_time": "2023-04-23T07:14:12.631Z"
   },
   {
    "duration": 273,
    "start_time": "2023-04-23T07:14:13.030Z"
   },
   {
    "duration": 474,
    "start_time": "2023-04-23T07:14:13.305Z"
   },
   {
    "duration": 15,
    "start_time": "2023-04-23T07:14:42.835Z"
   },
   {
    "duration": 80,
    "start_time": "2023-04-23T07:14:55.912Z"
   },
   {
    "duration": 150,
    "start_time": "2023-04-23T07:15:02.930Z"
   },
   {
    "duration": 32,
    "start_time": "2023-04-23T07:15:09.749Z"
   },
   {
    "duration": 13,
    "start_time": "2023-04-23T07:15:25.915Z"
   },
   {
    "duration": 10,
    "start_time": "2023-04-23T07:15:48.987Z"
   },
   {
    "duration": 9,
    "start_time": "2023-04-23T07:15:59.371Z"
   },
   {
    "duration": 8,
    "start_time": "2023-04-23T07:16:18.667Z"
   },
   {
    "duration": 9,
    "start_time": "2023-04-23T07:16:37.118Z"
   },
   {
    "duration": 13,
    "start_time": "2023-04-23T07:16:41.428Z"
   },
   {
    "duration": 85,
    "start_time": "2023-04-23T07:16:53.432Z"
   },
   {
    "duration": 9,
    "start_time": "2023-04-23T07:17:00.376Z"
   },
   {
    "duration": 13,
    "start_time": "2023-04-23T07:17:04.013Z"
   },
   {
    "duration": 22,
    "start_time": "2023-04-23T07:17:11.418Z"
   },
   {
    "duration": 16,
    "start_time": "2023-04-23T07:17:21.035Z"
   },
   {
    "duration": 18,
    "start_time": "2023-04-23T07:17:33.541Z"
   },
   {
    "duration": 235,
    "start_time": "2023-04-23T07:18:11.503Z"
   },
   {
    "duration": 961,
    "start_time": "2023-04-23T07:18:56.622Z"
   },
   {
    "duration": 155,
    "start_time": "2023-04-23T07:18:57.585Z"
   },
   {
    "duration": 9,
    "start_time": "2023-04-23T07:18:57.742Z"
   },
   {
    "duration": 14,
    "start_time": "2023-04-23T07:18:57.754Z"
   },
   {
    "duration": 39,
    "start_time": "2023-04-23T07:18:57.769Z"
   },
   {
    "duration": 8,
    "start_time": "2023-04-23T07:18:57.810Z"
   },
   {
    "duration": 44,
    "start_time": "2023-04-23T07:18:57.819Z"
   },
   {
    "duration": 151,
    "start_time": "2023-04-23T07:18:57.865Z"
   },
   {
    "duration": 2,
    "start_time": "2023-04-23T07:18:58.017Z"
   },
   {
    "duration": 130,
    "start_time": "2023-04-23T07:18:58.021Z"
   },
   {
    "duration": 262,
    "start_time": "2023-04-23T07:18:58.153Z"
   },
   {
    "duration": 227,
    "start_time": "2023-04-23T07:18:58.417Z"
   },
   {
    "duration": 227,
    "start_time": "2023-04-23T07:18:58.646Z"
   },
   {
    "duration": 555,
    "start_time": "2023-04-23T07:18:58.875Z"
   },
   {
    "duration": 462,
    "start_time": "2023-04-23T07:18:59.432Z"
   },
   {
    "duration": 5,
    "start_time": "2023-04-23T07:18:59.896Z"
   },
   {
    "duration": 439,
    "start_time": "2023-04-23T07:18:59.903Z"
   },
   {
    "duration": 17,
    "start_time": "2023-04-23T07:19:00.344Z"
   },
   {
    "duration": 8,
    "start_time": "2023-04-23T07:19:00.362Z"
   },
   {
    "duration": 30,
    "start_time": "2023-04-23T07:19:00.371Z"
   },
   {
    "duration": 449,
    "start_time": "2023-04-23T07:19:00.402Z"
   },
   {
    "duration": 534,
    "start_time": "2023-04-23T07:19:00.853Z"
   },
   {
    "duration": 24,
    "start_time": "2023-04-23T07:19:01.389Z"
   },
   {
    "duration": 82,
    "start_time": "2023-04-23T07:19:01.415Z"
   },
   {
    "duration": 5,
    "start_time": "2023-04-23T07:19:01.499Z"
   },
   {
    "duration": 339,
    "start_time": "2023-04-23T07:19:01.506Z"
   },
   {
    "duration": 452,
    "start_time": "2023-04-23T07:19:01.847Z"
   },
   {
    "duration": 307,
    "start_time": "2023-04-23T07:19:02.302Z"
   },
   {
    "duration": 470,
    "start_time": "2023-04-23T07:19:02.611Z"
   },
   {
    "duration": 434,
    "start_time": "2023-04-23T07:21:13.352Z"
   },
   {
    "duration": 466,
    "start_time": "2023-04-23T07:21:47.756Z"
   },
   {
    "duration": 439,
    "start_time": "2023-04-23T07:22:05.801Z"
   },
   {
    "duration": 538,
    "start_time": "2023-04-23T07:22:12.986Z"
   },
   {
    "duration": 353,
    "start_time": "2023-04-23T07:22:38.971Z"
   },
   {
    "duration": 112,
    "start_time": "2023-04-23T07:23:33.246Z"
   },
   {
    "duration": 391,
    "start_time": "2023-04-23T07:24:38.630Z"
   },
   {
    "duration": 1016,
    "start_time": "2023-04-23T07:24:42.678Z"
   },
   {
    "duration": 152,
    "start_time": "2023-04-23T07:24:43.696Z"
   },
   {
    "duration": 8,
    "start_time": "2023-04-23T07:24:43.849Z"
   },
   {
    "duration": 10,
    "start_time": "2023-04-23T07:24:43.859Z"
   },
   {
    "duration": 29,
    "start_time": "2023-04-23T07:24:43.870Z"
   },
   {
    "duration": 4,
    "start_time": "2023-04-23T07:24:43.900Z"
   },
   {
    "duration": 31,
    "start_time": "2023-04-23T07:24:43.905Z"
   },
   {
    "duration": 164,
    "start_time": "2023-04-23T07:24:43.938Z"
   },
   {
    "duration": 3,
    "start_time": "2023-04-23T07:24:44.104Z"
   },
   {
    "duration": 170,
    "start_time": "2023-04-23T07:24:44.111Z"
   },
   {
    "duration": 252,
    "start_time": "2023-04-23T07:24:44.283Z"
   },
   {
    "duration": 229,
    "start_time": "2023-04-23T07:24:44.537Z"
   },
   {
    "duration": 223,
    "start_time": "2023-04-23T07:24:44.768Z"
   },
   {
    "duration": 519,
    "start_time": "2023-04-23T07:24:44.992Z"
   },
   {
    "duration": 441,
    "start_time": "2023-04-23T07:24:45.513Z"
   },
   {
    "duration": 4,
    "start_time": "2023-04-23T07:24:45.956Z"
   },
   {
    "duration": 425,
    "start_time": "2023-04-23T07:24:45.962Z"
   },
   {
    "duration": 17,
    "start_time": "2023-04-23T07:24:46.393Z"
   },
   {
    "duration": 7,
    "start_time": "2023-04-23T07:24:46.411Z"
   },
   {
    "duration": 5,
    "start_time": "2023-04-23T07:24:46.420Z"
   },
   {
    "duration": 421,
    "start_time": "2023-04-23T07:24:46.426Z"
   },
   {
    "duration": 535,
    "start_time": "2023-04-23T07:24:46.849Z"
   },
   {
    "duration": 21,
    "start_time": "2023-04-23T07:24:47.385Z"
   },
   {
    "duration": 71,
    "start_time": "2023-04-23T07:24:47.408Z"
   },
   {
    "duration": 18,
    "start_time": "2023-04-23T07:24:47.480Z"
   },
   {
    "duration": 246,
    "start_time": "2023-04-23T07:24:47.499Z"
   },
   {
    "duration": 439,
    "start_time": "2023-04-23T07:24:47.747Z"
   },
   {
    "duration": 352,
    "start_time": "2023-04-23T07:24:48.188Z"
   },
   {
    "duration": 516,
    "start_time": "2023-04-23T07:24:48.542Z"
   },
   {
    "duration": 138,
    "start_time": "2023-04-23T07:28:19.916Z"
   },
   {
    "duration": 961,
    "start_time": "2023-04-23T07:28:41.302Z"
   },
   {
    "duration": 147,
    "start_time": "2023-04-23T07:28:42.265Z"
   },
   {
    "duration": 6,
    "start_time": "2023-04-23T07:28:42.414Z"
   },
   {
    "duration": 10,
    "start_time": "2023-04-23T07:28:42.422Z"
   },
   {
    "duration": 14,
    "start_time": "2023-04-23T07:28:42.433Z"
   },
   {
    "duration": 3,
    "start_time": "2023-04-23T07:28:42.448Z"
   },
   {
    "duration": 45,
    "start_time": "2023-04-23T07:28:42.452Z"
   },
   {
    "duration": 148,
    "start_time": "2023-04-23T07:28:42.499Z"
   },
   {
    "duration": 2,
    "start_time": "2023-04-23T07:28:42.648Z"
   },
   {
    "duration": 122,
    "start_time": "2023-04-23T07:28:42.652Z"
   },
   {
    "duration": 247,
    "start_time": "2023-04-23T07:28:42.776Z"
   },
   {
    "duration": 229,
    "start_time": "2023-04-23T07:28:43.025Z"
   },
   {
    "duration": 224,
    "start_time": "2023-04-23T07:28:43.256Z"
   },
   {
    "duration": 524,
    "start_time": "2023-04-23T07:28:43.481Z"
   },
   {
    "duration": 511,
    "start_time": "2023-04-23T07:28:44.006Z"
   },
   {
    "duration": 4,
    "start_time": "2023-04-23T07:28:44.519Z"
   },
   {
    "duration": 430,
    "start_time": "2023-04-23T07:28:44.524Z"
   },
   {
    "duration": 17,
    "start_time": "2023-04-23T07:28:44.956Z"
   },
   {
    "duration": 19,
    "start_time": "2023-04-23T07:28:44.975Z"
   },
   {
    "duration": 5,
    "start_time": "2023-04-23T07:28:44.996Z"
   },
   {
    "duration": 440,
    "start_time": "2023-04-23T07:28:45.002Z"
   },
   {
    "duration": 532,
    "start_time": "2023-04-23T07:28:45.444Z"
   },
   {
    "duration": 24,
    "start_time": "2023-04-23T07:28:45.978Z"
   },
   {
    "duration": 67,
    "start_time": "2023-04-23T07:28:46.004Z"
   },
   {
    "duration": 6,
    "start_time": "2023-04-23T07:28:46.072Z"
   },
   {
    "duration": 241,
    "start_time": "2023-04-23T07:28:46.094Z"
   },
   {
    "duration": 435,
    "start_time": "2023-04-23T07:28:46.337Z"
   },
   {
    "duration": 290,
    "start_time": "2023-04-23T07:28:46.776Z"
   },
   {
    "duration": 483,
    "start_time": "2023-04-23T07:28:47.068Z"
   },
   {
    "duration": 426,
    "start_time": "2023-04-23T07:28:51.073Z"
   },
   {
    "duration": 446,
    "start_time": "2023-04-23T07:29:03.722Z"
   },
   {
    "duration": 371,
    "start_time": "2023-04-23T07:29:35.255Z"
   },
   {
    "duration": 1043,
    "start_time": "2023-04-23T07:30:27.685Z"
   },
   {
    "duration": 281,
    "start_time": "2023-04-23T07:30:28.730Z"
   },
   {
    "duration": 6,
    "start_time": "2023-04-23T07:30:29.013Z"
   },
   {
    "duration": 9,
    "start_time": "2023-04-23T07:30:29.020Z"
   },
   {
    "duration": 72,
    "start_time": "2023-04-23T07:30:29.030Z"
   },
   {
    "duration": 4,
    "start_time": "2023-04-23T07:30:29.104Z"
   },
   {
    "duration": 24,
    "start_time": "2023-04-23T07:30:29.110Z"
   },
   {
    "duration": 361,
    "start_time": "2023-04-23T07:30:29.136Z"
   },
   {
    "duration": 3,
    "start_time": "2023-04-23T07:30:29.498Z"
   },
   {
    "duration": 317,
    "start_time": "2023-04-23T07:30:29.503Z"
   },
   {
    "duration": 506,
    "start_time": "2023-04-23T07:30:29.822Z"
   },
   {
    "duration": 389,
    "start_time": "2023-04-23T07:30:30.330Z"
   },
   {
    "duration": 237,
    "start_time": "2023-04-23T07:30:30.721Z"
   },
   {
    "duration": 674,
    "start_time": "2023-04-23T07:30:30.960Z"
   },
   {
    "duration": 1082,
    "start_time": "2023-04-23T07:30:31.636Z"
   },
   {
    "duration": 4,
    "start_time": "2023-04-23T07:30:32.720Z"
   },
   {
    "duration": 688,
    "start_time": "2023-04-23T07:30:32.725Z"
   },
   {
    "duration": 18,
    "start_time": "2023-04-23T07:30:33.415Z"
   },
   {
    "duration": 6,
    "start_time": "2023-04-23T07:30:33.435Z"
   },
   {
    "duration": 4,
    "start_time": "2023-04-23T07:30:33.443Z"
   },
   {
    "duration": 417,
    "start_time": "2023-04-23T07:30:33.449Z"
   },
   {
    "duration": 1139,
    "start_time": "2023-04-23T07:30:33.868Z"
   },
   {
    "duration": 17,
    "start_time": "2023-04-23T07:30:35.009Z"
   },
   {
    "duration": 175,
    "start_time": "2023-04-23T07:30:35.027Z"
   },
   {
    "duration": 6,
    "start_time": "2023-04-23T07:30:35.203Z"
   },
   {
    "duration": 496,
    "start_time": "2023-04-23T07:30:35.211Z"
   },
   {
    "duration": 423,
    "start_time": "2023-04-23T07:30:35.709Z"
   },
   {
    "duration": 294,
    "start_time": "2023-04-23T07:30:36.134Z"
   },
   {
    "duration": 461,
    "start_time": "2023-04-23T07:30:36.429Z"
   },
   {
    "duration": 1142,
    "start_time": "2023-04-23T16:35:01.521Z"
   },
   {
    "duration": 148,
    "start_time": "2023-04-23T16:35:02.665Z"
   },
   {
    "duration": 7,
    "start_time": "2023-04-23T16:35:02.814Z"
   },
   {
    "duration": 25,
    "start_time": "2023-04-23T16:35:02.823Z"
   },
   {
    "duration": 24,
    "start_time": "2023-04-23T16:35:02.851Z"
   },
   {
    "duration": 9,
    "start_time": "2023-04-23T16:35:02.877Z"
   },
   {
    "duration": 19,
    "start_time": "2023-04-23T16:35:02.888Z"
   },
   {
    "duration": 178,
    "start_time": "2023-04-23T16:35:02.909Z"
   },
   {
    "duration": 7,
    "start_time": "2023-04-23T16:35:03.089Z"
   },
   {
    "duration": 155,
    "start_time": "2023-04-23T16:35:03.098Z"
   },
   {
    "duration": 276,
    "start_time": "2023-04-23T16:35:03.255Z"
   },
   {
    "duration": 239,
    "start_time": "2023-04-23T16:35:03.533Z"
   },
   {
    "duration": 231,
    "start_time": "2023-04-23T16:35:03.774Z"
   },
   {
    "duration": 508,
    "start_time": "2023-04-23T16:35:04.008Z"
   },
   {
    "duration": 540,
    "start_time": "2023-04-23T16:35:04.517Z"
   },
   {
    "duration": 6,
    "start_time": "2023-04-23T16:35:05.059Z"
   },
   {
    "duration": 462,
    "start_time": "2023-04-23T16:35:05.067Z"
   },
   {
    "duration": 28,
    "start_time": "2023-04-23T16:35:05.531Z"
   },
   {
    "duration": 9,
    "start_time": "2023-04-23T16:35:05.560Z"
   },
   {
    "duration": 6,
    "start_time": "2023-04-23T16:35:05.570Z"
   },
   {
    "duration": 432,
    "start_time": "2023-04-23T16:35:05.578Z"
   },
   {
    "duration": 532,
    "start_time": "2023-04-23T16:35:06.012Z"
   },
   {
    "duration": 18,
    "start_time": "2023-04-23T16:35:06.548Z"
   },
   {
    "duration": 67,
    "start_time": "2023-04-23T16:35:06.568Z"
   },
   {
    "duration": 6,
    "start_time": "2023-04-23T16:35:06.649Z"
   },
   {
    "duration": 274,
    "start_time": "2023-04-23T16:35:06.656Z"
   },
   {
    "duration": 454,
    "start_time": "2023-04-23T16:35:06.931Z"
   },
   {
    "duration": 294,
    "start_time": "2023-04-23T16:35:07.387Z"
   },
   {
    "duration": 461,
    "start_time": "2023-04-23T16:35:07.683Z"
   },
   {
    "duration": 5,
    "start_time": "2023-04-23T16:46:51.903Z"
   },
   {
    "duration": 1134,
    "start_time": "2023-04-23T16:47:00.356Z"
   },
   {
    "duration": 173,
    "start_time": "2023-04-23T16:47:01.493Z"
   },
   {
    "duration": 8,
    "start_time": "2023-04-23T16:47:01.668Z"
   },
   {
    "duration": 75,
    "start_time": "2023-04-23T16:47:01.678Z"
   },
   {
    "duration": 34,
    "start_time": "2023-04-23T16:47:01.756Z"
   },
   {
    "duration": 31,
    "start_time": "2023-04-23T16:47:01.792Z"
   },
   {
    "duration": 52,
    "start_time": "2023-04-23T16:47:01.826Z"
   },
   {
    "duration": 170,
    "start_time": "2023-04-23T16:47:01.879Z"
   },
   {
    "duration": 3,
    "start_time": "2023-04-23T16:47:02.051Z"
   },
   {
    "duration": 144,
    "start_time": "2023-04-23T16:47:02.056Z"
   },
   {
    "duration": 272,
    "start_time": "2023-04-23T16:47:02.201Z"
   },
   {
    "duration": 254,
    "start_time": "2023-04-23T16:47:02.475Z"
   },
   {
    "duration": 267,
    "start_time": "2023-04-23T16:47:02.731Z"
   },
   {
    "duration": 595,
    "start_time": "2023-04-23T16:47:03.002Z"
   },
   {
    "duration": 468,
    "start_time": "2023-04-23T16:47:03.598Z"
   },
   {
    "duration": 5,
    "start_time": "2023-04-23T16:47:04.069Z"
   },
   {
    "duration": 505,
    "start_time": "2023-04-23T16:47:04.076Z"
   },
   {
    "duration": 23,
    "start_time": "2023-04-23T16:47:04.583Z"
   },
   {
    "duration": 8,
    "start_time": "2023-04-23T16:47:04.608Z"
   },
   {
    "duration": 28,
    "start_time": "2023-04-23T16:47:04.618Z"
   },
   {
    "duration": 6,
    "start_time": "2023-04-23T16:47:04.649Z"
   },
   {
    "duration": 557,
    "start_time": "2023-04-23T16:47:04.656Z"
   },
   {
    "duration": 570,
    "start_time": "2023-04-23T16:47:05.215Z"
   },
   {
    "duration": 23,
    "start_time": "2023-04-23T16:47:05.787Z"
   },
   {
    "duration": 98,
    "start_time": "2023-04-23T16:47:05.812Z"
   },
   {
    "duration": 6,
    "start_time": "2023-04-23T16:47:05.912Z"
   },
   {
    "duration": 260,
    "start_time": "2023-04-23T16:47:05.920Z"
   },
   {
    "duration": 877,
    "start_time": "2023-04-23T16:47:06.182Z"
   },
   {
    "duration": 613,
    "start_time": "2023-04-23T16:47:07.061Z"
   },
   {
    "duration": 1285,
    "start_time": "2023-04-23T16:47:07.676Z"
   },
   {
    "duration": 4,
    "start_time": "2023-04-23T16:47:56.015Z"
   },
   {
    "duration": 4,
    "start_time": "2023-04-23T16:50:37.633Z"
   },
   {
    "duration": 4,
    "start_time": "2023-04-23T16:50:48.665Z"
   },
   {
    "duration": 26,
    "start_time": "2023-04-23T16:51:24.198Z"
   },
   {
    "duration": 7,
    "start_time": "2023-04-23T16:52:21.224Z"
   },
   {
    "duration": 479,
    "start_time": "2023-04-23T16:54:51.140Z"
   },
   {
    "duration": 458,
    "start_time": "2023-04-23T16:54:56.815Z"
   },
   {
    "duration": 512,
    "start_time": "2023-04-23T16:55:02.904Z"
   },
   {
    "duration": 47,
    "start_time": "2023-04-23T17:17:35.724Z"
   },
   {
    "duration": 1266,
    "start_time": "2023-04-23T17:17:42.607Z"
   },
   {
    "duration": 288,
    "start_time": "2023-04-23T17:17:47.059Z"
   },
   {
    "duration": 101,
    "start_time": "2023-04-23T17:18:00.963Z"
   },
   {
    "duration": 96,
    "start_time": "2023-04-23T17:18:12.714Z"
   },
   {
    "duration": 99,
    "start_time": "2023-04-23T17:18:28.920Z"
   },
   {
    "duration": 30,
    "start_time": "2023-04-23T17:18:52.156Z"
   },
   {
    "duration": 17,
    "start_time": "2023-04-23T17:19:29.994Z"
   },
   {
    "duration": 35,
    "start_time": "2023-04-23T17:19:55.610Z"
   },
   {
    "duration": 1048,
    "start_time": "2023-04-23T17:20:54.854Z"
   },
   {
    "duration": 160,
    "start_time": "2023-04-23T17:20:55.904Z"
   },
   {
    "duration": 8,
    "start_time": "2023-04-23T17:20:56.065Z"
   },
   {
    "duration": 16,
    "start_time": "2023-04-23T17:20:56.075Z"
   },
   {
    "duration": 15,
    "start_time": "2023-04-23T17:20:56.093Z"
   },
   {
    "duration": 4,
    "start_time": "2023-04-23T17:20:56.109Z"
   },
   {
    "duration": 21,
    "start_time": "2023-04-23T17:20:56.114Z"
   },
   {
    "duration": 171,
    "start_time": "2023-04-23T17:20:56.137Z"
   },
   {
    "duration": 2,
    "start_time": "2023-04-23T17:20:56.310Z"
   },
   {
    "duration": 137,
    "start_time": "2023-04-23T17:20:56.313Z"
   },
   {
    "duration": 263,
    "start_time": "2023-04-23T17:20:56.451Z"
   },
   {
    "duration": 243,
    "start_time": "2023-04-23T17:20:56.716Z"
   },
   {
    "duration": 267,
    "start_time": "2023-04-23T17:20:56.960Z"
   },
   {
    "duration": 643,
    "start_time": "2023-04-23T17:20:57.230Z"
   },
   {
    "duration": 490,
    "start_time": "2023-04-23T17:20:57.875Z"
   },
   {
    "duration": 4,
    "start_time": "2023-04-23T17:20:58.367Z"
   },
   {
    "duration": 469,
    "start_time": "2023-04-23T17:20:58.372Z"
   },
   {
    "duration": 108,
    "start_time": "2023-04-23T17:20:58.842Z"
   },
   {
    "duration": 0,
    "start_time": "2023-04-23T17:20:58.952Z"
   },
   {
    "duration": 0,
    "start_time": "2023-04-23T17:20:58.953Z"
   },
   {
    "duration": 0,
    "start_time": "2023-04-23T17:20:58.954Z"
   },
   {
    "duration": 0,
    "start_time": "2023-04-23T17:20:58.956Z"
   },
   {
    "duration": 0,
    "start_time": "2023-04-23T17:20:58.957Z"
   },
   {
    "duration": 0,
    "start_time": "2023-04-23T17:20:58.958Z"
   },
   {
    "duration": 0,
    "start_time": "2023-04-23T17:20:58.960Z"
   },
   {
    "duration": 0,
    "start_time": "2023-04-23T17:20:58.962Z"
   },
   {
    "duration": 0,
    "start_time": "2023-04-23T17:20:58.963Z"
   },
   {
    "duration": 0,
    "start_time": "2023-04-23T17:20:58.983Z"
   },
   {
    "duration": 0,
    "start_time": "2023-04-23T17:20:58.984Z"
   },
   {
    "duration": 0,
    "start_time": "2023-04-23T17:20:58.986Z"
   },
   {
    "duration": 20,
    "start_time": "2023-04-23T17:21:30.762Z"
   },
   {
    "duration": 18,
    "start_time": "2023-04-23T17:21:37.992Z"
   },
   {
    "duration": 22,
    "start_time": "2023-04-23T17:21:39.176Z"
   },
   {
    "duration": 20,
    "start_time": "2023-04-23T17:22:22.534Z"
   },
   {
    "duration": 75,
    "start_time": "2023-04-23T17:22:54.808Z"
   },
   {
    "duration": 4,
    "start_time": "2023-04-23T17:23:00.214Z"
   },
   {
    "duration": 12,
    "start_time": "2023-04-23T17:24:21.158Z"
   },
   {
    "duration": 12,
    "start_time": "2023-04-23T17:24:31.529Z"
   },
   {
    "duration": 15,
    "start_time": "2023-04-23T17:25:03.220Z"
   },
   {
    "duration": 56,
    "start_time": "2023-04-23T17:26:06.021Z"
   },
   {
    "duration": 21,
    "start_time": "2023-04-23T17:26:41.871Z"
   },
   {
    "duration": 25,
    "start_time": "2023-04-23T17:27:37.611Z"
   },
   {
    "duration": 20,
    "start_time": "2023-04-23T17:28:06.938Z"
   },
   {
    "duration": 1086,
    "start_time": "2023-04-23T17:42:09.773Z"
   },
   {
    "duration": 166,
    "start_time": "2023-04-23T17:42:10.861Z"
   },
   {
    "duration": 7,
    "start_time": "2023-04-23T17:42:11.029Z"
   },
   {
    "duration": 28,
    "start_time": "2023-04-23T17:42:11.038Z"
   },
   {
    "duration": 35,
    "start_time": "2023-04-23T17:42:11.068Z"
   },
   {
    "duration": 6,
    "start_time": "2023-04-23T17:42:11.105Z"
   },
   {
    "duration": 38,
    "start_time": "2023-04-23T17:42:11.112Z"
   },
   {
    "duration": 168,
    "start_time": "2023-04-23T17:42:11.152Z"
   },
   {
    "duration": 3,
    "start_time": "2023-04-23T17:42:11.322Z"
   },
   {
    "duration": 140,
    "start_time": "2023-04-23T17:42:11.328Z"
   },
   {
    "duration": 289,
    "start_time": "2023-04-23T17:42:11.470Z"
   },
   {
    "duration": 264,
    "start_time": "2023-04-23T17:42:11.761Z"
   },
   {
    "duration": 304,
    "start_time": "2023-04-23T17:42:12.027Z"
   },
   {
    "duration": 569,
    "start_time": "2023-04-23T17:42:12.333Z"
   },
   {
    "duration": 491,
    "start_time": "2023-04-23T17:42:12.903Z"
   },
   {
    "duration": 5,
    "start_time": "2023-04-23T17:42:13.396Z"
   },
   {
    "duration": 480,
    "start_time": "2023-04-23T17:42:13.403Z"
   },
   {
    "duration": 17,
    "start_time": "2023-04-23T17:42:13.885Z"
   },
   {
    "duration": 30,
    "start_time": "2023-04-23T17:42:13.904Z"
   },
   {
    "duration": 16,
    "start_time": "2023-04-23T17:42:13.936Z"
   },
   {
    "duration": 25,
    "start_time": "2023-04-23T17:42:13.954Z"
   },
   {
    "duration": 462,
    "start_time": "2023-04-23T17:42:13.980Z"
   },
   {
    "duration": 614,
    "start_time": "2023-04-23T17:42:14.444Z"
   },
   {
    "duration": 32,
    "start_time": "2023-04-23T17:42:15.060Z"
   },
   {
    "duration": 103,
    "start_time": "2023-04-23T17:42:15.094Z"
   },
   {
    "duration": 8,
    "start_time": "2023-04-23T17:42:15.199Z"
   },
   {
    "duration": 281,
    "start_time": "2023-04-23T17:42:15.209Z"
   },
   {
    "duration": 456,
    "start_time": "2023-04-23T17:42:15.493Z"
   },
   {
    "duration": 319,
    "start_time": "2023-04-23T17:42:15.950Z"
   },
   {
    "duration": 501,
    "start_time": "2023-04-23T17:42:16.271Z"
   },
   {
    "duration": 2,
    "start_time": "2023-04-23T17:42:52.579Z"
   },
   {
    "duration": 2246,
    "start_time": "2023-04-24T17:03:30.264Z"
   },
   {
    "duration": 354,
    "start_time": "2023-04-24T17:03:32.512Z"
   },
   {
    "duration": 12,
    "start_time": "2023-04-24T17:03:32.868Z"
   },
   {
    "duration": 14,
    "start_time": "2023-04-24T17:03:32.882Z"
   },
   {
    "duration": 52,
    "start_time": "2023-04-24T17:03:32.899Z"
   },
   {
    "duration": 4,
    "start_time": "2023-04-24T17:03:32.953Z"
   },
   {
    "duration": 31,
    "start_time": "2023-04-24T17:03:32.959Z"
   },
   {
    "duration": 231,
    "start_time": "2023-04-24T17:03:32.992Z"
   },
   {
    "duration": 3,
    "start_time": "2023-04-24T17:03:33.226Z"
   },
   {
    "duration": 169,
    "start_time": "2023-04-24T17:03:33.231Z"
   },
   {
    "duration": 312,
    "start_time": "2023-04-24T17:03:33.402Z"
   },
   {
    "duration": 301,
    "start_time": "2023-04-24T17:03:33.716Z"
   },
   {
    "duration": 291,
    "start_time": "2023-04-24T17:03:34.019Z"
   },
   {
    "duration": 744,
    "start_time": "2023-04-24T17:03:34.313Z"
   },
   {
    "duration": 713,
    "start_time": "2023-04-24T17:03:35.059Z"
   },
   {
    "duration": 6,
    "start_time": "2023-04-24T17:03:35.775Z"
   },
   {
    "duration": 641,
    "start_time": "2023-04-24T17:03:35.783Z"
   },
   {
    "duration": 33,
    "start_time": "2023-04-24T17:03:36.426Z"
   },
   {
    "duration": 38,
    "start_time": "2023-04-24T17:03:36.461Z"
   },
   {
    "duration": 64,
    "start_time": "2023-04-24T17:03:36.501Z"
   },
   {
    "duration": 16,
    "start_time": "2023-04-24T17:03:36.567Z"
   },
   {
    "duration": 598,
    "start_time": "2023-04-24T17:03:36.586Z"
   },
   {
    "duration": 719,
    "start_time": "2023-04-24T17:03:37.186Z"
   },
   {
    "duration": 34,
    "start_time": "2023-04-24T17:03:37.907Z"
   },
   {
    "duration": 98,
    "start_time": "2023-04-24T17:03:37.943Z"
   },
   {
    "duration": 7,
    "start_time": "2023-04-24T17:03:38.043Z"
   },
   {
    "duration": 313,
    "start_time": "2023-04-24T17:03:38.052Z"
   },
   {
    "duration": 571,
    "start_time": "2023-04-24T17:03:38.368Z"
   },
   {
    "duration": 372,
    "start_time": "2023-04-24T17:03:38.941Z"
   },
   {
    "duration": 603,
    "start_time": "2023-04-24T17:03:39.315Z"
   },
   {
    "duration": 1346,
    "start_time": "2023-04-25T16:41:41.578Z"
   },
   {
    "duration": 686,
    "start_time": "2023-04-25T16:41:42.927Z"
   },
   {
    "duration": 8,
    "start_time": "2023-04-25T16:41:43.615Z"
   },
   {
    "duration": 9,
    "start_time": "2023-04-25T16:41:43.625Z"
   },
   {
    "duration": 16,
    "start_time": "2023-04-25T16:41:43.636Z"
   },
   {
    "duration": 35,
    "start_time": "2023-04-25T16:41:43.654Z"
   },
   {
    "duration": 20,
    "start_time": "2023-04-25T16:41:43.691Z"
   },
   {
    "duration": 191,
    "start_time": "2023-04-25T16:41:43.713Z"
   },
   {
    "duration": 3,
    "start_time": "2023-04-25T16:41:43.906Z"
   },
   {
    "duration": 157,
    "start_time": "2023-04-25T16:41:43.911Z"
   },
   {
    "duration": 293,
    "start_time": "2023-04-25T16:41:44.070Z"
   },
   {
    "duration": 282,
    "start_time": "2023-04-25T16:41:44.365Z"
   },
   {
    "duration": 274,
    "start_time": "2023-04-25T16:41:44.649Z"
   },
   {
    "duration": 633,
    "start_time": "2023-04-25T16:41:44.925Z"
   },
   {
    "duration": 571,
    "start_time": "2023-04-25T16:41:45.560Z"
   },
   {
    "duration": 5,
    "start_time": "2023-04-25T16:41:46.133Z"
   },
   {
    "duration": 629,
    "start_time": "2023-04-25T16:41:46.140Z"
   },
   {
    "duration": 25,
    "start_time": "2023-04-25T16:41:46.771Z"
   },
   {
    "duration": 22,
    "start_time": "2023-04-25T16:41:46.797Z"
   },
   {
    "duration": 8,
    "start_time": "2023-04-25T16:41:46.821Z"
   },
   {
    "duration": 6,
    "start_time": "2023-04-25T16:41:46.831Z"
   },
   {
    "duration": 523,
    "start_time": "2023-04-25T16:41:46.839Z"
   },
   {
    "duration": 666,
    "start_time": "2023-04-25T16:41:47.364Z"
   },
   {
    "duration": 21,
    "start_time": "2023-04-25T16:41:48.032Z"
   },
   {
    "duration": 96,
    "start_time": "2023-04-25T16:41:48.054Z"
   },
   {
    "duration": 7,
    "start_time": "2023-04-25T16:41:48.152Z"
   },
   {
    "duration": 305,
    "start_time": "2023-04-25T16:41:48.161Z"
   },
   {
    "duration": 534,
    "start_time": "2023-04-25T16:41:48.470Z"
   },
   {
    "duration": 368,
    "start_time": "2023-04-25T16:41:49.006Z"
   },
   {
    "duration": 583,
    "start_time": "2023-04-25T16:41:49.375Z"
   },
   {
    "duration": 530,
    "start_time": "2023-04-25T16:57:54.281Z"
   },
   {
    "duration": 521,
    "start_time": "2023-04-25T16:58:06.462Z"
   },
   {
    "duration": 504,
    "start_time": "2023-04-25T16:58:08.842Z"
   },
   {
    "duration": 501,
    "start_time": "2023-04-25T17:11:29.738Z"
   },
   {
    "duration": 521,
    "start_time": "2023-04-25T17:14:05.162Z"
   },
   {
    "duration": 544,
    "start_time": "2023-04-25T17:15:00.770Z"
   },
   {
    "duration": 14,
    "start_time": "2023-04-25T17:16:06.993Z"
   },
   {
    "duration": 529,
    "start_time": "2023-04-25T17:16:25.478Z"
   },
   {
    "duration": 63,
    "start_time": "2023-04-25T18:26:04.097Z"
   },
   {
    "duration": 1287,
    "start_time": "2023-04-25T18:26:08.560Z"
   },
   {
    "duration": 470,
    "start_time": "2023-04-25T18:26:09.850Z"
   },
   {
    "duration": 7,
    "start_time": "2023-04-25T18:26:10.322Z"
   },
   {
    "duration": 18,
    "start_time": "2023-04-25T18:26:10.331Z"
   },
   {
    "duration": 46,
    "start_time": "2023-04-25T18:26:10.353Z"
   },
   {
    "duration": 5,
    "start_time": "2023-04-25T18:26:10.407Z"
   },
   {
    "duration": 30,
    "start_time": "2023-04-25T18:26:10.414Z"
   },
   {
    "duration": 187,
    "start_time": "2023-04-25T18:26:10.447Z"
   },
   {
    "duration": 3,
    "start_time": "2023-04-25T18:26:10.635Z"
   },
   {
    "duration": 171,
    "start_time": "2023-04-25T18:26:10.639Z"
   },
   {
    "duration": 291,
    "start_time": "2023-04-25T18:26:10.813Z"
   },
   {
    "duration": 360,
    "start_time": "2023-04-25T18:26:11.108Z"
   },
   {
    "duration": 274,
    "start_time": "2023-04-25T18:26:11.470Z"
   },
   {
    "duration": 724,
    "start_time": "2023-04-25T18:26:11.746Z"
   },
   {
    "duration": 545,
    "start_time": "2023-04-25T18:26:12.472Z"
   },
   {
    "duration": 5,
    "start_time": "2023-04-25T18:26:13.019Z"
   },
   {
    "duration": 690,
    "start_time": "2023-04-25T18:26:13.025Z"
   },
   {
    "duration": 26,
    "start_time": "2023-04-25T18:26:13.717Z"
   },
   {
    "duration": 30,
    "start_time": "2023-04-25T18:26:13.794Z"
   },
   {
    "duration": 8,
    "start_time": "2023-04-25T18:26:13.826Z"
   },
   {
    "duration": 63,
    "start_time": "2023-04-25T18:26:13.836Z"
   },
   {
    "duration": 1101,
    "start_time": "2023-04-25T18:26:13.901Z"
   },
   {
    "duration": 978,
    "start_time": "2023-04-25T18:26:15.006Z"
   },
   {
    "duration": 25,
    "start_time": "2023-04-25T18:26:15.986Z"
   },
   {
    "duration": 89,
    "start_time": "2023-04-25T18:26:16.013Z"
   },
   {
    "duration": 7,
    "start_time": "2023-04-25T18:26:16.104Z"
   },
   {
    "duration": 299,
    "start_time": "2023-04-25T18:26:16.113Z"
   },
   {
    "duration": 570,
    "start_time": "2023-04-25T18:26:16.414Z"
   },
   {
    "duration": 402,
    "start_time": "2023-04-25T18:26:16.986Z"
   },
   {
    "duration": 1218,
    "start_time": "2023-04-25T18:26:17.392Z"
   },
   {
    "duration": 558,
    "start_time": "2023-04-25T18:34:41.823Z"
   },
   {
    "duration": 522,
    "start_time": "2023-04-25T18:35:04.406Z"
   },
   {
    "duration": 487,
    "start_time": "2023-04-25T18:36:31.918Z"
   },
   {
    "duration": 59,
    "start_time": "2023-04-25T18:50:22.073Z"
   },
   {
    "duration": 1216,
    "start_time": "2023-04-25T19:07:07.611Z"
   },
   {
    "duration": 198,
    "start_time": "2023-04-25T19:07:08.829Z"
   },
   {
    "duration": 7,
    "start_time": "2023-04-25T19:07:09.028Z"
   },
   {
    "duration": 9,
    "start_time": "2023-04-25T19:07:09.037Z"
   },
   {
    "duration": 14,
    "start_time": "2023-04-25T19:07:09.049Z"
   },
   {
    "duration": 34,
    "start_time": "2023-04-25T19:07:09.065Z"
   },
   {
    "duration": 26,
    "start_time": "2023-04-25T19:07:09.101Z"
   },
   {
    "duration": 194,
    "start_time": "2023-04-25T19:07:09.129Z"
   },
   {
    "duration": 2,
    "start_time": "2023-04-25T19:07:09.325Z"
   },
   {
    "duration": 152,
    "start_time": "2023-04-25T19:07:09.329Z"
   },
   {
    "duration": 337,
    "start_time": "2023-04-25T19:07:09.482Z"
   },
   {
    "duration": 298,
    "start_time": "2023-04-25T19:07:09.821Z"
   },
   {
    "duration": 270,
    "start_time": "2023-04-25T19:07:10.121Z"
   },
   {
    "duration": 651,
    "start_time": "2023-04-25T19:07:10.404Z"
   },
   {
    "duration": 568,
    "start_time": "2023-04-25T19:07:11.057Z"
   },
   {
    "duration": 6,
    "start_time": "2023-04-25T19:07:11.626Z"
   },
   {
    "duration": 631,
    "start_time": "2023-04-25T19:07:11.634Z"
   },
   {
    "duration": 35,
    "start_time": "2023-04-25T19:07:12.267Z"
   },
   {
    "duration": 25,
    "start_time": "2023-04-25T19:07:12.317Z"
   },
   {
    "duration": 8,
    "start_time": "2023-04-25T19:07:12.344Z"
   },
   {
    "duration": 6,
    "start_time": "2023-04-25T19:07:12.354Z"
   },
   {
    "duration": 521,
    "start_time": "2023-04-25T19:07:12.362Z"
   },
   {
    "duration": 654,
    "start_time": "2023-04-25T19:07:12.884Z"
   },
   {
    "duration": 18,
    "start_time": "2023-04-25T19:07:13.540Z"
   },
   {
    "duration": 92,
    "start_time": "2023-04-25T19:07:13.559Z"
   },
   {
    "duration": 5,
    "start_time": "2023-04-25T19:07:13.653Z"
   },
   {
    "duration": 307,
    "start_time": "2023-04-25T19:07:13.660Z"
   },
   {
    "duration": 560,
    "start_time": "2023-04-25T19:07:13.969Z"
   },
   {
    "duration": 368,
    "start_time": "2023-04-25T19:07:14.531Z"
   },
   {
    "duration": 629,
    "start_time": "2023-04-25T19:07:14.901Z"
   },
   {
    "duration": 997,
    "start_time": "2023-04-26T06:51:55.425Z"
   },
   {
    "duration": 157,
    "start_time": "2023-04-26T06:51:56.424Z"
   },
   {
    "duration": 7,
    "start_time": "2023-04-26T06:51:56.582Z"
   },
   {
    "duration": 11,
    "start_time": "2023-04-26T06:51:56.591Z"
   },
   {
    "duration": 20,
    "start_time": "2023-04-26T06:51:56.604Z"
   },
   {
    "duration": 4,
    "start_time": "2023-04-26T06:51:56.626Z"
   },
   {
    "duration": 60,
    "start_time": "2023-04-26T06:51:56.632Z"
   },
   {
    "duration": 165,
    "start_time": "2023-04-26T06:51:56.693Z"
   },
   {
    "duration": 2,
    "start_time": "2023-04-26T06:51:56.860Z"
   },
   {
    "duration": 143,
    "start_time": "2023-04-26T06:51:56.864Z"
   },
   {
    "duration": 276,
    "start_time": "2023-04-26T06:51:57.009Z"
   },
   {
    "duration": 265,
    "start_time": "2023-04-26T06:51:57.286Z"
   },
   {
    "duration": 257,
    "start_time": "2023-04-26T06:51:57.553Z"
   },
   {
    "duration": 586,
    "start_time": "2023-04-26T06:51:57.813Z"
   },
   {
    "duration": 482,
    "start_time": "2023-04-26T06:51:58.401Z"
   },
   {
    "duration": 4,
    "start_time": "2023-04-26T06:51:58.885Z"
   },
   {
    "duration": 486,
    "start_time": "2023-04-26T06:51:58.891Z"
   },
   {
    "duration": 17,
    "start_time": "2023-04-26T06:51:59.384Z"
   },
   {
    "duration": 22,
    "start_time": "2023-04-26T06:51:59.403Z"
   },
   {
    "duration": 9,
    "start_time": "2023-04-26T06:51:59.427Z"
   },
   {
    "duration": 23,
    "start_time": "2023-04-26T06:51:59.438Z"
   },
   {
    "duration": 523,
    "start_time": "2023-04-26T06:51:59.463Z"
   },
   {
    "duration": 640,
    "start_time": "2023-04-26T06:51:59.989Z"
   },
   {
    "duration": 25,
    "start_time": "2023-04-26T06:52:00.630Z"
   },
   {
    "duration": 126,
    "start_time": "2023-04-26T06:52:00.657Z"
   },
   {
    "duration": 8,
    "start_time": "2023-04-26T06:52:00.785Z"
   },
   {
    "duration": 380,
    "start_time": "2023-04-26T06:52:00.795Z"
   },
   {
    "duration": 553,
    "start_time": "2023-04-26T06:52:01.184Z"
   },
   {
    "duration": 356,
    "start_time": "2023-04-26T06:52:01.739Z"
   },
   {
    "duration": 531,
    "start_time": "2023-04-26T06:52:02.097Z"
   },
   {
    "duration": 473,
    "start_time": "2023-04-26T07:10:25.117Z"
   },
   {
    "duration": 1091,
    "start_time": "2023-04-26T07:24:12.593Z"
   },
   {
    "duration": 164,
    "start_time": "2023-04-26T07:24:13.686Z"
   },
   {
    "duration": 9,
    "start_time": "2023-04-26T07:24:13.852Z"
   },
   {
    "duration": 23,
    "start_time": "2023-04-26T07:24:13.863Z"
   },
   {
    "duration": 36,
    "start_time": "2023-04-26T07:24:13.888Z"
   },
   {
    "duration": 8,
    "start_time": "2023-04-26T07:24:13.926Z"
   },
   {
    "duration": 25,
    "start_time": "2023-04-26T07:24:13.936Z"
   },
   {
    "duration": 204,
    "start_time": "2023-04-26T07:24:13.962Z"
   },
   {
    "duration": 4,
    "start_time": "2023-04-26T07:24:14.168Z"
   },
   {
    "duration": 159,
    "start_time": "2023-04-26T07:24:14.175Z"
   },
   {
    "duration": 302,
    "start_time": "2023-04-26T07:24:14.336Z"
   },
   {
    "duration": 277,
    "start_time": "2023-04-26T07:24:14.640Z"
   },
   {
    "duration": 356,
    "start_time": "2023-04-26T07:24:14.918Z"
   },
   {
    "duration": 665,
    "start_time": "2023-04-26T07:24:15.276Z"
   },
   {
    "duration": 574,
    "start_time": "2023-04-26T07:24:15.943Z"
   },
   {
    "duration": 5,
    "start_time": "2023-04-26T07:24:16.519Z"
   },
   {
    "duration": 1260,
    "start_time": "2023-04-26T07:24:16.526Z"
   },
   {
    "duration": 25,
    "start_time": "2023-04-26T07:24:17.789Z"
   },
   {
    "duration": 86,
    "start_time": "2023-04-26T07:24:17.817Z"
   },
   {
    "duration": 8,
    "start_time": "2023-04-26T07:24:17.905Z"
   },
   {
    "duration": 17,
    "start_time": "2023-04-26T07:24:17.915Z"
   },
   {
    "duration": 1001,
    "start_time": "2023-04-26T07:24:17.934Z"
   },
   {
    "duration": 561,
    "start_time": "2023-04-26T07:24:18.937Z"
   },
   {
    "duration": 19,
    "start_time": "2023-04-26T07:24:19.500Z"
   },
   {
    "duration": 97,
    "start_time": "2023-04-26T07:24:19.521Z"
   },
   {
    "duration": 6,
    "start_time": "2023-04-26T07:24:19.620Z"
   },
   {
    "duration": 311,
    "start_time": "2023-04-26T07:24:19.628Z"
   },
   {
    "duration": 497,
    "start_time": "2023-04-26T07:24:19.943Z"
   },
   {
    "duration": 335,
    "start_time": "2023-04-26T07:24:20.441Z"
   },
   {
    "duration": 576,
    "start_time": "2023-04-26T07:24:20.777Z"
   }
  ],
  "kernelspec": {
   "display_name": "Python 3 (ipykernel)",
   "language": "python",
   "name": "python3"
  },
  "language_info": {
   "codemirror_mode": {
    "name": "ipython",
    "version": 3
   },
   "file_extension": ".py",
   "mimetype": "text/x-python",
   "name": "python",
   "nbconvert_exporter": "python",
   "pygments_lexer": "ipython3",
   "version": "3.10.9"
  },
  "toc": {
   "base_numbering": 1,
   "nav_menu": {},
   "number_sections": true,
   "sideBar": true,
   "skip_h1_title": true,
   "title_cell": "Table of Contents",
   "title_sidebar": "Contents",
   "toc_cell": false,
   "toc_position": {
    "height": "calc(100% - 180px)",
    "left": "10px",
    "top": "150px",
    "width": "427px"
   },
   "toc_section_display": true,
   "toc_window_display": false
  }
 },
 "nbformat": 4,
 "nbformat_minor": 5
}
