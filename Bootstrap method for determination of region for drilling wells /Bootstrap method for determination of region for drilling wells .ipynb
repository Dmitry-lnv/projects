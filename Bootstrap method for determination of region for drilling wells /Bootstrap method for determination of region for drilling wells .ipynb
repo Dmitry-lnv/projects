{
 "cells": [
  {
   "cell_type": "markdown",
   "metadata": {},
   "source": [
    "# Определение региона для бурения кважин"
   ]
  },
  {
   "cell_type": "markdown",
   "metadata": {},
   "source": [
    "Исходные данные - пробы нефти в трёх регионах: в каждом 10 000 месторождений, где измерили качество нефти и объём её запасов.\n",
    "\n",
    "Необходимо построить модель машинного обучения для определения региона с максимальной прибылью, определить месторождение для дальнейшей разработки.\n",
    "\n",
    "Алгоритм выбора локации:\n",
    "\n",
    "- В избранном регионе ищут месторождения, для каждого определяют значения признаков;\n",
    "- Строят модель и оценивают объём запасов;\n",
    "- Выбирают месторождения с самым высокими оценками значений. Количество месторождений зависит от бюджета компании и стоимости разработки одной скважины;\n",
    "- Прибыль равна суммарной прибыли отобранных месторождений."
   ]
  },
  {
   "cell_type": "markdown",
   "metadata": {},
   "source": [
    "Описание данных:\n",
    "\n",
    "Данные геологоразведки трёх регионов находятся в файлах: \n",
    "   \n",
    "    /datasets/geo_data_0.csv. Скачать датасет\n",
    "    /datasets/geo_data_1.csv. Скачать датасет\n",
    "    /datasets/geo_data_2.csv. Скачать датасет\n",
    "\n",
    "    id — уникальный идентификатор скважины;\n",
    "    f0, f1, f2 — три признака точек (неважно, что они означают, но сами признаки значимы);\n",
    "    product — объём запасов в скважине (тыс. баррелей)."
   ]
  },
  {
   "cell_type": "markdown",
   "metadata": {},
   "source": [
    "## Загрузка и подготовка данных"
   ]
  },
  {
   "cell_type": "code",
   "execution_count": 1,
   "metadata": {},
   "outputs": [],
   "source": [
    "import pandas as pd\n",
    "import matplotlib.pyplot as plt\n",
    "import seaborn as sns\n",
    "\n",
    "from sklearn.model_selection import train_test_split\n",
    "from sklearn.linear_model import LinearRegression\n",
    "from sklearn.metrics import mean_squared_error, mean_absolute_error, r2_score\n",
    "from sklearn.utils import shuffle\n",
    "\n",
    "import numpy as np\n",
    "from numpy.random import RandomState"
   ]
  },
  {
   "cell_type": "code",
   "execution_count": 2,
   "metadata": {},
   "outputs": [],
   "source": [
    "rev_p_kbar = 450000 # доход с 1000 бар, руб\n",
    "tot_rev = 10*10**(9) #бюджет на разработку скважин в регионе, руб\n",
    "num_well = 200\n",
    "max_num_well = 500"
   ]
  },
  {
   "cell_type": "code",
   "execution_count": 3,
   "metadata": {},
   "outputs": [
    {
     "name": "stdout",
     "output_type": "stream",
     "text": [
      "(100000, 5)\n",
      "(100000, 5)\n",
      "(100000, 5)\n"
     ]
    },
    {
     "data": {
      "text/html": [
       "<div>\n",
       "<style scoped>\n",
       "    .dataframe tbody tr th:only-of-type {\n",
       "        vertical-align: middle;\n",
       "    }\n",
       "\n",
       "    .dataframe tbody tr th {\n",
       "        vertical-align: top;\n",
       "    }\n",
       "\n",
       "    .dataframe thead th {\n",
       "        text-align: right;\n",
       "    }\n",
       "</style>\n",
       "<table border=\"1\" class=\"dataframe\">\n",
       "  <thead>\n",
       "    <tr style=\"text-align: right;\">\n",
       "      <th></th>\n",
       "      <th>id</th>\n",
       "      <th>f0</th>\n",
       "      <th>f1</th>\n",
       "      <th>f2</th>\n",
       "      <th>product</th>\n",
       "    </tr>\n",
       "  </thead>\n",
       "  <tbody>\n",
       "    <tr>\n",
       "      <th>0</th>\n",
       "      <td>txEyH</td>\n",
       "      <td>0.705745</td>\n",
       "      <td>-0.497823</td>\n",
       "      <td>1.221170</td>\n",
       "      <td>105.280062</td>\n",
       "    </tr>\n",
       "    <tr>\n",
       "      <th>1</th>\n",
       "      <td>2acmU</td>\n",
       "      <td>1.334711</td>\n",
       "      <td>-0.340164</td>\n",
       "      <td>4.365080</td>\n",
       "      <td>73.037750</td>\n",
       "    </tr>\n",
       "    <tr>\n",
       "      <th>2</th>\n",
       "      <td>409Wp</td>\n",
       "      <td>1.022732</td>\n",
       "      <td>0.151990</td>\n",
       "      <td>1.419926</td>\n",
       "      <td>85.265647</td>\n",
       "    </tr>\n",
       "    <tr>\n",
       "      <th>3</th>\n",
       "      <td>iJLyR</td>\n",
       "      <td>-0.032172</td>\n",
       "      <td>0.139033</td>\n",
       "      <td>2.978566</td>\n",
       "      <td>168.620776</td>\n",
       "    </tr>\n",
       "    <tr>\n",
       "      <th>4</th>\n",
       "      <td>Xdl7t</td>\n",
       "      <td>1.988431</td>\n",
       "      <td>0.155413</td>\n",
       "      <td>4.751769</td>\n",
       "      <td>154.036647</td>\n",
       "    </tr>\n",
       "  </tbody>\n",
       "</table>\n",
       "</div>"
      ],
      "text/plain": [
       "      id        f0        f1        f2     product\n",
       "0  txEyH  0.705745 -0.497823  1.221170  105.280062\n",
       "1  2acmU  1.334711 -0.340164  4.365080   73.037750\n",
       "2  409Wp  1.022732  0.151990  1.419926   85.265647\n",
       "3  iJLyR -0.032172  0.139033  2.978566  168.620776\n",
       "4  Xdl7t  1.988431  0.155413  4.751769  154.036647"
      ]
     },
     "metadata": {},
     "output_type": "display_data"
    },
    {
     "data": {
      "text/html": [
       "<div>\n",
       "<style scoped>\n",
       "    .dataframe tbody tr th:only-of-type {\n",
       "        vertical-align: middle;\n",
       "    }\n",
       "\n",
       "    .dataframe tbody tr th {\n",
       "        vertical-align: top;\n",
       "    }\n",
       "\n",
       "    .dataframe thead th {\n",
       "        text-align: right;\n",
       "    }\n",
       "</style>\n",
       "<table border=\"1\" class=\"dataframe\">\n",
       "  <thead>\n",
       "    <tr style=\"text-align: right;\">\n",
       "      <th></th>\n",
       "      <th>id</th>\n",
       "      <th>f0</th>\n",
       "      <th>f1</th>\n",
       "      <th>f2</th>\n",
       "      <th>product</th>\n",
       "    </tr>\n",
       "  </thead>\n",
       "  <tbody>\n",
       "    <tr>\n",
       "      <th>0</th>\n",
       "      <td>kBEdx</td>\n",
       "      <td>-15.001348</td>\n",
       "      <td>-8.276000</td>\n",
       "      <td>-0.005876</td>\n",
       "      <td>3.179103</td>\n",
       "    </tr>\n",
       "    <tr>\n",
       "      <th>1</th>\n",
       "      <td>62mP7</td>\n",
       "      <td>14.272088</td>\n",
       "      <td>-3.475083</td>\n",
       "      <td>0.999183</td>\n",
       "      <td>26.953261</td>\n",
       "    </tr>\n",
       "    <tr>\n",
       "      <th>2</th>\n",
       "      <td>vyE1P</td>\n",
       "      <td>6.263187</td>\n",
       "      <td>-5.948386</td>\n",
       "      <td>5.001160</td>\n",
       "      <td>134.766305</td>\n",
       "    </tr>\n",
       "    <tr>\n",
       "      <th>3</th>\n",
       "      <td>KcrkZ</td>\n",
       "      <td>-13.081196</td>\n",
       "      <td>-11.506057</td>\n",
       "      <td>4.999415</td>\n",
       "      <td>137.945408</td>\n",
       "    </tr>\n",
       "    <tr>\n",
       "      <th>4</th>\n",
       "      <td>AHL4O</td>\n",
       "      <td>12.702195</td>\n",
       "      <td>-8.147433</td>\n",
       "      <td>5.004363</td>\n",
       "      <td>134.766305</td>\n",
       "    </tr>\n",
       "  </tbody>\n",
       "</table>\n",
       "</div>"
      ],
      "text/plain": [
       "      id         f0         f1        f2     product\n",
       "0  kBEdx -15.001348  -8.276000 -0.005876    3.179103\n",
       "1  62mP7  14.272088  -3.475083  0.999183   26.953261\n",
       "2  vyE1P   6.263187  -5.948386  5.001160  134.766305\n",
       "3  KcrkZ -13.081196 -11.506057  4.999415  137.945408\n",
       "4  AHL4O  12.702195  -8.147433  5.004363  134.766305"
      ]
     },
     "metadata": {},
     "output_type": "display_data"
    },
    {
     "data": {
      "text/html": [
       "<div>\n",
       "<style scoped>\n",
       "    .dataframe tbody tr th:only-of-type {\n",
       "        vertical-align: middle;\n",
       "    }\n",
       "\n",
       "    .dataframe tbody tr th {\n",
       "        vertical-align: top;\n",
       "    }\n",
       "\n",
       "    .dataframe thead th {\n",
       "        text-align: right;\n",
       "    }\n",
       "</style>\n",
       "<table border=\"1\" class=\"dataframe\">\n",
       "  <thead>\n",
       "    <tr style=\"text-align: right;\">\n",
       "      <th></th>\n",
       "      <th>id</th>\n",
       "      <th>f0</th>\n",
       "      <th>f1</th>\n",
       "      <th>f2</th>\n",
       "      <th>product</th>\n",
       "    </tr>\n",
       "  </thead>\n",
       "  <tbody>\n",
       "    <tr>\n",
       "      <th>0</th>\n",
       "      <td>fwXo0</td>\n",
       "      <td>-1.146987</td>\n",
       "      <td>0.963328</td>\n",
       "      <td>-0.828965</td>\n",
       "      <td>27.758673</td>\n",
       "    </tr>\n",
       "    <tr>\n",
       "      <th>1</th>\n",
       "      <td>WJtFt</td>\n",
       "      <td>0.262778</td>\n",
       "      <td>0.269839</td>\n",
       "      <td>-2.530187</td>\n",
       "      <td>56.069697</td>\n",
       "    </tr>\n",
       "    <tr>\n",
       "      <th>2</th>\n",
       "      <td>ovLUW</td>\n",
       "      <td>0.194587</td>\n",
       "      <td>0.289035</td>\n",
       "      <td>-5.586433</td>\n",
       "      <td>62.871910</td>\n",
       "    </tr>\n",
       "    <tr>\n",
       "      <th>3</th>\n",
       "      <td>q6cA6</td>\n",
       "      <td>2.236060</td>\n",
       "      <td>-0.553760</td>\n",
       "      <td>0.930038</td>\n",
       "      <td>114.572842</td>\n",
       "    </tr>\n",
       "    <tr>\n",
       "      <th>4</th>\n",
       "      <td>WPMUX</td>\n",
       "      <td>-0.515993</td>\n",
       "      <td>1.716266</td>\n",
       "      <td>5.899011</td>\n",
       "      <td>149.600746</td>\n",
       "    </tr>\n",
       "  </tbody>\n",
       "</table>\n",
       "</div>"
      ],
      "text/plain": [
       "      id        f0        f1        f2     product\n",
       "0  fwXo0 -1.146987  0.963328 -0.828965   27.758673\n",
       "1  WJtFt  0.262778  0.269839 -2.530187   56.069697\n",
       "2  ovLUW  0.194587  0.289035 -5.586433   62.871910\n",
       "3  q6cA6  2.236060 -0.553760  0.930038  114.572842\n",
       "4  WPMUX -0.515993  1.716266  5.899011  149.600746"
      ]
     },
     "metadata": {},
     "output_type": "display_data"
    }
   ],
   "source": [
    "try: df0 = pd.read_csv('/Users/dmitry/Desktop/yandex_python/07. Машинное обучение в бизнесе/geo_data_0.csv')\n",
    "except: df0 = pd.read_csv('/datasets/geo_data_0.csv')\n",
    "\n",
    "try: df1 = pd.read_csv('/Users/dmitry/Desktop/yandex_python/07. Машинное обучение в бизнесе/geo_data_1.csv')\n",
    "except: df1 = pd.read_csv('/datasets/geo_data_1.csv')\n",
    "    \n",
    "try: df2 = pd.read_csv('/Users/dmitry/Desktop/yandex_python/07. Машинное обучение в бизнесе/geo_data_2.csv')\n",
    "except: df2 = pd.read_csv('/datasets/geo_data_2.csv')\n",
    "\n",
    "\n",
    "print(df0.shape)\n",
    "print(df1.shape)\n",
    "print(df2.shape)\n",
    "display(df0.head())\n",
    "display(df1.head())\n",
    "display(df2.head())\n"
   ]
  },
  {
   "cell_type": "code",
   "execution_count": 4,
   "metadata": {},
   "outputs": [
    {
     "name": "stdout",
     "output_type": "stream",
     "text": [
      "___________geo-data-0___________\n",
      "\n",
      "<class 'pandas.core.frame.DataFrame'>\n",
      "RangeIndex: 100000 entries, 0 to 99999\n",
      "Data columns (total 5 columns):\n",
      " #   Column   Non-Null Count   Dtype  \n",
      "---  ------   --------------   -----  \n",
      " 0   id       100000 non-null  object \n",
      " 1   f0       100000 non-null  float64\n",
      " 2   f1       100000 non-null  float64\n",
      " 3   f2       100000 non-null  float64\n",
      " 4   product  100000 non-null  float64\n",
      "dtypes: float64(4), object(1)\n",
      "memory usage: 3.8+ MB\n",
      "\n",
      "\n",
      "___________geo-data-1___________\n",
      "\n",
      "<class 'pandas.core.frame.DataFrame'>\n",
      "RangeIndex: 100000 entries, 0 to 99999\n",
      "Data columns (total 5 columns):\n",
      " #   Column   Non-Null Count   Dtype  \n",
      "---  ------   --------------   -----  \n",
      " 0   id       100000 non-null  object \n",
      " 1   f0       100000 non-null  float64\n",
      " 2   f1       100000 non-null  float64\n",
      " 3   f2       100000 non-null  float64\n",
      " 4   product  100000 non-null  float64\n",
      "dtypes: float64(4), object(1)\n",
      "memory usage: 3.8+ MB\n",
      "\n",
      "\n",
      "___________geo-data-2___________\n",
      "\n",
      "<class 'pandas.core.frame.DataFrame'>\n",
      "RangeIndex: 100000 entries, 0 to 99999\n",
      "Data columns (total 5 columns):\n",
      " #   Column   Non-Null Count   Dtype  \n",
      "---  ------   --------------   -----  \n",
      " 0   id       100000 non-null  object \n",
      " 1   f0       100000 non-null  float64\n",
      " 2   f1       100000 non-null  float64\n",
      " 3   f2       100000 non-null  float64\n",
      " 4   product  100000 non-null  float64\n",
      "dtypes: float64(4), object(1)\n",
      "memory usage: 3.8+ MB\n"
     ]
    }
   ],
   "source": [
    "print('___________geo-data-0___________\\n')\n",
    "df0.info()\n",
    "\n",
    "print('\\n\\n___________geo-data-1___________\\n')\n",
    "df1.info()\n",
    "\n",
    "print('\\n\\n___________geo-data-2___________\\n')\n",
    "df2.info()"
   ]
  },
  {
   "cell_type": "code",
   "execution_count": 5,
   "metadata": {},
   "outputs": [
    {
     "name": "stdout",
     "output_type": "stream",
     "text": [
      "id         0\n",
      "f0         0\n",
      "f1         0\n",
      "f2         0\n",
      "product    0\n",
      "dtype: int64 \n",
      "\n",
      "id         0\n",
      "f0         0\n",
      "f1         0\n",
      "f2         0\n",
      "product    0\n",
      "dtype: int64 \n",
      "\n",
      "id         0\n",
      "f0         0\n",
      "f1         0\n",
      "f2         0\n",
      "product    0\n",
      "dtype: int64\n"
     ]
    }
   ],
   "source": [
    "print(df0.isna().sum(), '\\n')\n",
    "print(df1.isna().sum(), '\\n')\n",
    "print(df2.isna().sum())"
   ]
  },
  {
   "cell_type": "code",
   "execution_count": 6,
   "metadata": {},
   "outputs": [
    {
     "name": "stdout",
     "output_type": "stream",
     "text": [
      "0\n",
      "0\n",
      "0\n"
     ]
    }
   ],
   "source": [
    "print(df0.duplicated().sum())\n",
    "print(df1.duplicated().sum())\n",
    "print(df2.duplicated().sum())"
   ]
  },
  {
   "cell_type": "code",
   "execution_count": 7,
   "metadata": {},
   "outputs": [],
   "source": [
    "try:\n",
    "    df0 = df0.drop('id', axis = 1)\n",
    "    df1 = df1.drop('id', axis = 1)\n",
    "    df2 = df2.drop('id', axis = 1)\n",
    "except:\n",
    "    df0=df0\n",
    "    df1=df1\n",
    "    df2=df2\n",
    "\n",
    "df = [df0, df1, df2]"
   ]
  },
  {
   "cell_type": "code",
   "execution_count": 8,
   "metadata": {
    "scrolled": false
   },
   "outputs": [
    {
     "name": "stdout",
     "output_type": "stream",
     "text": [
      "матрица корреляции для df0\n"
     ]
    },
    {
     "data": {
      "text/html": [
       "<style type=\"text/css\">\n",
       "#T_0c88e_row0_col0, #T_0c88e_row1_col1, #T_0c88e_row2_col2, #T_0c88e_row2_col3, #T_0c88e_row3_col2, #T_0c88e_row3_col3 {\n",
       "  background-color: #023858;\n",
       "  color: #f1f1f1;\n",
       "}\n",
       "#T_0c88e_row0_col1, #T_0c88e_row1_col0 {\n",
       "  background-color: #fff7fb;\n",
       "  color: #000000;\n",
       "}\n",
       "#T_0c88e_row0_col2, #T_0c88e_row2_col0 {\n",
       "  background-color: #76aad0;\n",
       "  color: #f1f1f1;\n",
       "}\n",
       "#T_0c88e_row0_col3, #T_0c88e_row3_col0 {\n",
       "  background-color: #0872b1;\n",
       "  color: #f1f1f1;\n",
       "}\n",
       "#T_0c88e_row1_col2, #T_0c88e_row2_col1 {\n",
       "  background-color: #73a9cf;\n",
       "  color: #f1f1f1;\n",
       "}\n",
       "#T_0c88e_row1_col3, #T_0c88e_row3_col1 {\n",
       "  background-color: #e0deed;\n",
       "  color: #000000;\n",
       "}\n",
       "</style>\n",
       "<table id=\"T_0c88e\">\n",
       "  <thead>\n",
       "    <tr>\n",
       "      <th class=\"blank level0\" >&nbsp;</th>\n",
       "      <th id=\"T_0c88e_level0_col0\" class=\"col_heading level0 col0\" >f0</th>\n",
       "      <th id=\"T_0c88e_level0_col1\" class=\"col_heading level0 col1\" >f1</th>\n",
       "      <th id=\"T_0c88e_level0_col2\" class=\"col_heading level0 col2\" >f2</th>\n",
       "      <th id=\"T_0c88e_level0_col3\" class=\"col_heading level0 col3\" >product</th>\n",
       "    </tr>\n",
       "  </thead>\n",
       "  <tbody>\n",
       "    <tr>\n",
       "      <th id=\"T_0c88e_level0_row0\" class=\"row_heading level0 row0\" >f0</th>\n",
       "      <td id=\"T_0c88e_row0_col0\" class=\"data row0 col0\" >1.000</td>\n",
       "      <td id=\"T_0c88e_row0_col1\" class=\"data row0 col1\" >-0.441</td>\n",
       "      <td id=\"T_0c88e_row0_col2\" class=\"data row0 col2\" >-0.003</td>\n",
       "      <td id=\"T_0c88e_row0_col3\" class=\"data row0 col3\" >0.144</td>\n",
       "    </tr>\n",
       "    <tr>\n",
       "      <th id=\"T_0c88e_level0_row1\" class=\"row_heading level0 row1\" >f1</th>\n",
       "      <td id=\"T_0c88e_row1_col0\" class=\"data row1 col0\" >-0.441</td>\n",
       "      <td id=\"T_0c88e_row1_col1\" class=\"data row1 col1\" >1.000</td>\n",
       "      <td id=\"T_0c88e_row1_col2\" class=\"data row1 col2\" >0.002</td>\n",
       "      <td id=\"T_0c88e_row1_col3\" class=\"data row1 col3\" >-0.192</td>\n",
       "    </tr>\n",
       "    <tr>\n",
       "      <th id=\"T_0c88e_level0_row2\" class=\"row_heading level0 row2\" >f2</th>\n",
       "      <td id=\"T_0c88e_row2_col0\" class=\"data row2 col0\" >-0.003</td>\n",
       "      <td id=\"T_0c88e_row2_col1\" class=\"data row2 col1\" >0.002</td>\n",
       "      <td id=\"T_0c88e_row2_col2\" class=\"data row2 col2\" >1.000</td>\n",
       "      <td id=\"T_0c88e_row2_col3\" class=\"data row2 col3\" >0.484</td>\n",
       "    </tr>\n",
       "    <tr>\n",
       "      <th id=\"T_0c88e_level0_row3\" class=\"row_heading level0 row3\" >product</th>\n",
       "      <td id=\"T_0c88e_row3_col0\" class=\"data row3 col0\" >0.144</td>\n",
       "      <td id=\"T_0c88e_row3_col1\" class=\"data row3 col1\" >-0.192</td>\n",
       "      <td id=\"T_0c88e_row3_col2\" class=\"data row3 col2\" >0.484</td>\n",
       "      <td id=\"T_0c88e_row3_col3\" class=\"data row3 col3\" >1.000</td>\n",
       "    </tr>\n",
       "  </tbody>\n",
       "</table>\n"
      ],
      "text/plain": [
       "<pandas.io.formats.style.Styler at 0x1656c2e00>"
      ]
     },
     "metadata": {},
     "output_type": "display_data"
    },
    {
     "name": "stderr",
     "output_type": "stream",
     "text": [
      "/Users/dmitry/anaconda3/lib/python3.10/site-packages/seaborn/axisgrid.py:118: UserWarning: The figure layout has changed to tight\n",
      "  self._figure.tight_layout(*args, **kwargs)\n"
     ]
    },
    {
     "data": {
      "text/plain": [
       "<Figure size 640x480 with 0 Axes>"
      ]
     },
     "metadata": {},
     "output_type": "display_data"
    },
    {
     "data": {
      "image/png": "[encoded data removed]",
      "text/plain": [
       "<Figure size 600x600 with 20 Axes>"
      ]
     },
     "metadata": {},
     "output_type": "display_data"
    },
    {
     "name": "stdout",
     "output_type": "stream",
     "text": [
      "матрица корреляции для df1\n"
     ]
    },
    {
     "data": {
      "text/html": [
       "<style type=\"text/css\">\n",
       "#T_71538_row0_col0, #T_71538_row1_col1, #T_71538_row2_col2, #T_71538_row2_col3, #T_71538_row3_col2, #T_71538_row3_col3 {\n",
       "  background-color: #023858;\n",
       "  color: #f1f1f1;\n",
       "}\n",
       "#T_71538_row0_col1, #T_71538_row1_col0 {\n",
       "  background-color: #0567a1;\n",
       "  color: #f1f1f1;\n",
       "}\n",
       "#T_71538_row0_col2, #T_71538_row2_col0 {\n",
       "  background-color: #75a9cf;\n",
       "  color: #f1f1f1;\n",
       "}\n",
       "#T_71538_row0_col3, #T_71538_row3_col0 {\n",
       "  background-color: #89b1d4;\n",
       "  color: #000000;\n",
       "}\n",
       "#T_71538_row1_col2, #T_71538_row2_col1 {\n",
       "  background-color: #76aad0;\n",
       "  color: #f1f1f1;\n",
       "}\n",
       "#T_71538_row1_col3, #T_71538_row3_col1 {\n",
       "  background-color: #7bacd1;\n",
       "  color: #f1f1f1;\n",
       "}\n",
       "</style>\n",
       "<table id=\"T_71538\">\n",
       "  <thead>\n",
       "    <tr>\n",
       "      <th class=\"blank level0\" >&nbsp;</th>\n",
       "      <th id=\"T_71538_level0_col0\" class=\"col_heading level0 col0\" >f0</th>\n",
       "      <th id=\"T_71538_level0_col1\" class=\"col_heading level0 col1\" >f1</th>\n",
       "      <th id=\"T_71538_level0_col2\" class=\"col_heading level0 col2\" >f2</th>\n",
       "      <th id=\"T_71538_level0_col3\" class=\"col_heading level0 col3\" >product</th>\n",
       "    </tr>\n",
       "  </thead>\n",
       "  <tbody>\n",
       "    <tr>\n",
       "      <th id=\"T_71538_level0_row0\" class=\"row_heading level0 row0\" >f0</th>\n",
       "      <td id=\"T_71538_row0_col0\" class=\"data row0 col0\" >1.000</td>\n",
       "      <td id=\"T_71538_row0_col1\" class=\"data row0 col1\" >0.182</td>\n",
       "      <td id=\"T_71538_row0_col2\" class=\"data row0 col2\" >-0.002</td>\n",
       "      <td id=\"T_71538_row0_col3\" class=\"data row0 col3\" >-0.030</td>\n",
       "    </tr>\n",
       "    <tr>\n",
       "      <th id=\"T_71538_level0_row1\" class=\"row_heading level0 row1\" >f1</th>\n",
       "      <td id=\"T_71538_row1_col0\" class=\"data row1 col0\" >0.182</td>\n",
       "      <td id=\"T_71538_row1_col1\" class=\"data row1 col1\" >1.000</td>\n",
       "      <td id=\"T_71538_row1_col2\" class=\"data row1 col2\" >-0.003</td>\n",
       "      <td id=\"T_71538_row1_col3\" class=\"data row1 col3\" >-0.010</td>\n",
       "    </tr>\n",
       "    <tr>\n",
       "      <th id=\"T_71538_level0_row2\" class=\"row_heading level0 row2\" >f2</th>\n",
       "      <td id=\"T_71538_row2_col0\" class=\"data row2 col0\" >-0.002</td>\n",
       "      <td id=\"T_71538_row2_col1\" class=\"data row2 col1\" >-0.003</td>\n",
       "      <td id=\"T_71538_row2_col2\" class=\"data row2 col2\" >1.000</td>\n",
       "      <td id=\"T_71538_row2_col3\" class=\"data row2 col3\" >0.999</td>\n",
       "    </tr>\n",
       "    <tr>\n",
       "      <th id=\"T_71538_level0_row3\" class=\"row_heading level0 row3\" >product</th>\n",
       "      <td id=\"T_71538_row3_col0\" class=\"data row3 col0\" >-0.030</td>\n",
       "      <td id=\"T_71538_row3_col1\" class=\"data row3 col1\" >-0.010</td>\n",
       "      <td id=\"T_71538_row3_col2\" class=\"data row3 col2\" >0.999</td>\n",
       "      <td id=\"T_71538_row3_col3\" class=\"data row3 col3\" >1.000</td>\n",
       "    </tr>\n",
       "  </tbody>\n",
       "</table>\n"
      ],
      "text/plain": [
       "<pandas.io.formats.style.Styler at 0x16679e2c0>"
      ]
     },
     "metadata": {},
     "output_type": "display_data"
    },
    {
     "name": "stderr",
     "output_type": "stream",
     "text": [
      "/Users/dmitry/anaconda3/lib/python3.10/site-packages/seaborn/axisgrid.py:118: UserWarning: The figure layout has changed to tight\n",
      "  self._figure.tight_layout(*args, **kwargs)\n"
     ]
    },
    {
     "data": {
      "text/plain": [
       "<Figure size 640x480 with 0 Axes>"
      ]
     },
     "metadata": {},
     "output_type": "display_data"
    },
    {
     "data": {
      "image/png": "[encoded data removed]",
      "text/plain": [
       "<Figure size 600x600 with 20 Axes>"
      ]
     },
     "metadata": {},
     "output_type": "display_data"
    },
    {
     "name": "stdout",
     "output_type": "stream",
     "text": [
      "матрица корреляции для df2\n"
     ]
    },
    {
     "data": {
      "text/html": [
       "<style type=\"text/css\">\n",
       "#T_950d3_row0_col0, #T_950d3_row1_col1, #T_950d3_row2_col2, #T_950d3_row2_col3, #T_950d3_row3_col2, #T_950d3_row3_col3 {\n",
       "  background-color: #023858;\n",
       "  color: #f1f1f1;\n",
       "}\n",
       "#T_950d3_row0_col1, #T_950d3_row1_col0, #T_950d3_row1_col2, #T_950d3_row2_col1 {\n",
       "  background-color: #73a9cf;\n",
       "  color: #f1f1f1;\n",
       "}\n",
       "#T_950d3_row0_col2, #T_950d3_row0_col3, #T_950d3_row1_col3, #T_950d3_row2_col0, #T_950d3_row3_col0, #T_950d3_row3_col1 {\n",
       "  background-color: #75a9cf;\n",
       "  color: #f1f1f1;\n",
       "}\n",
       "</style>\n",
       "<table id=\"T_950d3\">\n",
       "  <thead>\n",
       "    <tr>\n",
       "      <th class=\"blank level0\" >&nbsp;</th>\n",
       "      <th id=\"T_950d3_level0_col0\" class=\"col_heading level0 col0\" >f0</th>\n",
       "      <th id=\"T_950d3_level0_col1\" class=\"col_heading level0 col1\" >f1</th>\n",
       "      <th id=\"T_950d3_level0_col2\" class=\"col_heading level0 col2\" >f2</th>\n",
       "      <th id=\"T_950d3_level0_col3\" class=\"col_heading level0 col3\" >product</th>\n",
       "    </tr>\n",
       "  </thead>\n",
       "  <tbody>\n",
       "    <tr>\n",
       "      <th id=\"T_950d3_level0_row0\" class=\"row_heading level0 row0\" >f0</th>\n",
       "      <td id=\"T_950d3_row0_col0\" class=\"data row0 col0\" >1.000</td>\n",
       "      <td id=\"T_950d3_row0_col1\" class=\"data row0 col1\" >0.001</td>\n",
       "      <td id=\"T_950d3_row0_col2\" class=\"data row0 col2\" >-0.000</td>\n",
       "      <td id=\"T_950d3_row0_col3\" class=\"data row0 col3\" >-0.002</td>\n",
       "    </tr>\n",
       "    <tr>\n",
       "      <th id=\"T_950d3_level0_row1\" class=\"row_heading level0 row1\" >f1</th>\n",
       "      <td id=\"T_950d3_row1_col0\" class=\"data row1 col0\" >0.001</td>\n",
       "      <td id=\"T_950d3_row1_col1\" class=\"data row1 col1\" >1.000</td>\n",
       "      <td id=\"T_950d3_row1_col2\" class=\"data row1 col2\" >0.001</td>\n",
       "      <td id=\"T_950d3_row1_col3\" class=\"data row1 col3\" >-0.001</td>\n",
       "    </tr>\n",
       "    <tr>\n",
       "      <th id=\"T_950d3_level0_row2\" class=\"row_heading level0 row2\" >f2</th>\n",
       "      <td id=\"T_950d3_row2_col0\" class=\"data row2 col0\" >-0.000</td>\n",
       "      <td id=\"T_950d3_row2_col1\" class=\"data row2 col1\" >0.001</td>\n",
       "      <td id=\"T_950d3_row2_col2\" class=\"data row2 col2\" >1.000</td>\n",
       "      <td id=\"T_950d3_row2_col3\" class=\"data row2 col3\" >0.446</td>\n",
       "    </tr>\n",
       "    <tr>\n",
       "      <th id=\"T_950d3_level0_row3\" class=\"row_heading level0 row3\" >product</th>\n",
       "      <td id=\"T_950d3_row3_col0\" class=\"data row3 col0\" >-0.002</td>\n",
       "      <td id=\"T_950d3_row3_col1\" class=\"data row3 col1\" >-0.001</td>\n",
       "      <td id=\"T_950d3_row3_col2\" class=\"data row3 col2\" >0.446</td>\n",
       "      <td id=\"T_950d3_row3_col3\" class=\"data row3 col3\" >1.000</td>\n",
       "    </tr>\n",
       "  </tbody>\n",
       "</table>\n"
      ],
      "text/plain": [
       "<pandas.io.formats.style.Styler at 0x166206b00>"
      ]
     },
     "metadata": {},
     "output_type": "display_data"
    },
    {
     "name": "stderr",
     "output_type": "stream",
     "text": [
      "/Users/dmitry/anaconda3/lib/python3.10/site-packages/seaborn/axisgrid.py:118: UserWarning: The figure layout has changed to tight\n",
      "  self._figure.tight_layout(*args, **kwargs)\n"
     ]
    },
    {
     "data": {
      "text/plain": [
       "<Figure size 640x480 with 0 Axes>"
      ]
     },
     "metadata": {},
     "output_type": "display_data"
    },
    {
     "data": {
      "image/png": "[encoded data removed]",
      "text/plain": [
       "<Figure size 600x600 with 20 Axes>"
      ]
     },
     "metadata": {},
     "output_type": "display_data"
    }
   ],
   "source": [
    "j=0\n",
    "\n",
    "for i in df:\n",
    "    \n",
    "    print(f'матрица корреляции для df{j}')\n",
    "#    correlation = i.corr(numeric_only=True)\n",
    "    correlation = i.corr()\n",
    "    display(correlation.style.background_gradient(axis=None, vmin = -0.3, vmax = 0.3).format(\"{:,.3f}\"))\n",
    "    \n",
    "    plt.figure()\n",
    "    dist = sns.pairplot(i, plot_kws = dict(alpha = 1, s = 0.1), height = 1.5)\n",
    "    dist.fig.suptitle(f'парные распределения для df{j}', y=1.02)\n",
    "    plt.show()\n",
    "    \n",
    "    j += 1"
   ]
  },
  {
   "cell_type": "markdown",
   "metadata": {},
   "source": [
    "### промежуточные выводы:\n",
    "    1. предоставленные данные не содержат пропуски и дубликаты\n",
    "    2. столбец 'id' удалили, т.к. он не содержит необходимой информации\n",
    "    3. наибольший коэф. корреляции наблюдается между 'product' и 'f2',\n",
    "       его величина равна 48,4%, 99,9% и 44,6% соответственно для региогов df0, df1 и df2.\n",
    "    4. коэф. корреляции между 'product' и 'f0' / 'f1' находится в диапазоне 0 - 20% в зависимости от региона"
   ]
  },
  {
   "cell_type": "markdown",
   "metadata": {},
   "source": [
    "## Обучение и проверка модели"
   ]
  },
  {
   "cell_type": "code",
   "execution_count": 9,
   "metadata": {},
   "outputs": [],
   "source": [
    "def lin_model (df, target_column, test_size, random_state):\n",
    "    \n",
    "    features = df.drop('product', axis = 1)\n",
    "    target = df['product']\n",
    "    (features_train, features_valid, target_train, target_valid) = train_test_split(features, target,\n",
    "                                                                              test_size = 0.25,\n",
    "                                                                              random_state = random_state)\n",
    "    \n",
    "    model = LinearRegression(n_jobs = -1)\n",
    "    model.fit(features_train, target_train)\n",
    "    predict_train = model.predict(features_train)\n",
    "    predict_valid =model.predict(features_valid)\n",
    "    \n",
    "    rmse_valid = mean_squared_error(target_valid, predict_valid)**0.5\n",
    "        \n",
    "    print (model)\n",
    "    print('rmse_valid =', round(rmse_valid,5))\n",
    "    \n",
    "    return model, features_train, target_train, predict_train, features_valid, target_valid, predict_valid"
   ]
  },
  {
   "cell_type": "code",
   "execution_count": 10,
   "metadata": {},
   "outputs": [],
   "source": [
    "def metrics_model (target_valid, predict_valid):\n",
    "    \n",
    "    r2_valid = r2_score(target_valid, predict_valid)\n",
    "    rmse_valid = mean_squared_error(target_valid, predict_valid)**0.5\n",
    "    mae_valid = mean_absolute_error(target_valid, predict_valid)\n",
    "    \n",
    "    metrics_valid = [rmse_valid,\n",
    "                     r2_valid,\n",
    "                     mae_valid,\n",
    "                     target_valid.mean(),\n",
    "                     predict_valid.mean(),\n",
    "                     pd.Series(target_valid - predict_valid).mean()]\n",
    "    \n",
    "    \n",
    "    plt.figure(figsize = (7,2))\n",
    "    pd.Series(predict_valid - target_valid).hist(bins = 50, alpha = 0.5)\n",
    "    plt.title('распределение ошибки (predict - target)')\n",
    "    plt.legend(['train', 'valid'])\n",
    "    plt.show()\n",
    "\n",
    "    return metrics_valid\n"
   ]
  },
  {
   "cell_type": "code",
   "execution_count": 11,
   "metadata": {
    "scrolled": false
   },
   "outputs": [
    {
     "name": "stdout",
     "output_type": "stream",
     "text": [
      "модель построена на df0\n",
      "LinearRegression(n_jobs=-1)\n",
      "rmse_valid = 37.57942\n"
     ]
    },
    {
     "data": {
      "image/png": "[encoded data removed]",
      "text/plain": [
       "<Figure size 700x200 with 1 Axes>"
      ]
     },
     "metadata": {},
     "output_type": "display_data"
    },
    {
     "name": "stdout",
     "output_type": "stream",
     "text": [
      "модель построена на df1\n",
      "LinearRegression(n_jobs=-1)\n",
      "rmse_valid = 0.8931\n"
     ]
    },
    {
     "data": {
      "image/png": "[encoded data removed]",
      "text/plain": [
       "<Figure size 700x200 with 1 Axes>"
      ]
     },
     "metadata": {},
     "output_type": "display_data"
    },
    {
     "name": "stdout",
     "output_type": "stream",
     "text": [
      "модель построена на df2\n",
      "LinearRegression(n_jobs=-1)\n",
      "rmse_valid = 40.02971\n"
     ]
    },
    {
     "data": {
      "image/png": "[encoded data removed]",
      "text/plain": [
       "<Figure size 700x200 with 1 Axes>"
      ]
     },
     "metadata": {},
     "output_type": "display_data"
    },
    {
     "data": {
      "text/html": [
       "<div>\n",
       "<style scoped>\n",
       "    .dataframe tbody tr th:only-of-type {\n",
       "        vertical-align: middle;\n",
       "    }\n",
       "\n",
       "    .dataframe tbody tr th {\n",
       "        vertical-align: top;\n",
       "    }\n",
       "\n",
       "    .dataframe thead th {\n",
       "        text-align: right;\n",
       "    }\n",
       "</style>\n",
       "<table border=\"1\" class=\"dataframe\">\n",
       "  <thead>\n",
       "    <tr style=\"text-align: right;\">\n",
       "      <th></th>\n",
       "    </tr>\n",
       "  </thead>\n",
       "  <tbody>\n",
       "  </tbody>\n",
       "</table>\n",
       "</div>"
      ],
      "text/plain": [
       "Empty DataFrame\n",
       "Columns: []\n",
       "Index: []"
      ]
     },
     "metadata": {},
     "output_type": "display_data"
    }
   ],
   "source": [
    "predict_valid = pd.DataFrame(data =[], columns = [])\n",
    "metrics = pd.DataFrame(data =[], columns = [])\n",
    "\n",
    "for i in [0,1,2]:\n",
    "    \n",
    "    print(f'модель построена на df{i}')\n",
    "    df_i = df[i]\n",
    "    (model,\n",
    "     f_train, t_train, p_train,\n",
    "     f_valid, t_valid, p_valid)  = lin_model (df_i, 'product', 0.25, 12345)\n",
    "    \n",
    "    if i == 0:\n",
    "        model0 = model\n",
    "    elif i == 1:\n",
    "        model1 = model\n",
    "    elif i == 2:\n",
    "        model2 = model\n",
    "\n",
    "    metrics_valid = metrics_model (t_valid, p_valid)\n",
    "\n",
    "display(metrics)"
   ]
  },
  {
   "cell_type": "markdown",
   "metadata": {},
   "source": [
    "#### промежуточные выводы:\n",
    "    1. построены модели линейной регресии для каждой области\n",
    "    2. наилучшее значение rmse достигнуто для региона df1\n",
    "    4. значений rmse по областям:\n",
    "        df0  37,6 тыс бар\n",
    "        df1  0.9 тыс бар\n",
    "        df2  40  тыс бар"
   ]
  },
  {
   "cell_type": "markdown",
   "metadata": {},
   "source": [
    "## Подготовка к расчёту прибыли"
   ]
  },
  {
   "cell_type": "markdown",
   "metadata": {},
   "source": [
    "### 3.1. Рассчет достаточного объёма сырья для безубыточной разработки новой скважины. Сравнение полученного объёма сырья со средним запасом в каждом регионе. "
   ]
  },
  {
   "cell_type": "code",
   "execution_count": 12,
   "metadata": {},
   "outputs": [
    {
     "name": "stdout",
     "output_type": "stream",
     "text": [
      "точка безубыточности региона достигается при наличия в нём нефти объёмом в  22222 тыс бар\n"
     ]
    }
   ],
   "source": [
    "zero_rev_val = tot_rev / rev_p_kbar\n",
    "print('точка безубыточности региона достигается при наличия в нём нефти объёмом в ', int(zero_rev_val), 'тыс бар')"
   ]
  },
  {
   "cell_type": "code",
   "execution_count": 13,
   "metadata": {},
   "outputs": [
    {
     "name": "stdout",
     "output_type": "stream",
     "text": [
      "средний запас одной пробуренной скважины должен быть >  111 тыс бар\n"
     ]
    }
   ],
   "source": [
    "# поскольку в регионе бурится 200 скважин, то для безубыточности осваения региона необходимо\n",
    "# чтобы в среднем одна скважина обладала следующим запасом нефти\n",
    "print('средний запас одной пробуренной скважины должен быть > ', int(zero_rev_val / num_well), 'тыс бар')"
   ]
  },
  {
   "cell_type": "code",
   "execution_count": 14,
   "metadata": {},
   "outputs": [
    {
     "name": "stdout",
     "output_type": "stream",
     "text": [
      "средний запас одной скважины по регионам:\n",
      "   регион 0= 92.5 тыс бар\n",
      "   регион 1= 68.83 тыс бар\n",
      "   регион 2= 95.0 тыс бар\n"
     ]
    }
   ],
   "source": [
    "print('средний запас одной скважины по регионам:')\n",
    "print('   регион 0=', round(df[0]['product'].mean(),2), 'тыс бар')\n",
    "print('   регион 1=', round(df[1]['product'].mean(),2), 'тыс бар')\n",
    "print('   регион 2=', round(df[2]['product'].mean(),2), 'тыс бар')"
   ]
  },
  {
   "cell_type": "code",
   "execution_count": 15,
   "metadata": {
    "scrolled": true
   },
   "outputs": [
    {
     "name": "stdout",
     "output_type": "stream",
     "text": [
      "доля скважин с объёмом более 111 тыс бар:\n",
      "   регион 0: 37.0%\n",
      "   регион 1: 17.0%\n",
      "   регион 2: 38.0%\n"
     ]
    }
   ],
   "source": [
    "# рассчитаем какому процентилю соответствет 111 бар для каждого региона:\n",
    "pr0 = len(df[0].loc[df[0]['product'] > 111]) / len(df[0])\n",
    "pr1 = len(df[1].loc[df[1]['product'] > 111]) / len(df[1])\n",
    "pr2 = len(df[2].loc[df[2]['product'] > 111]) / len(df[2])\n",
    "\n",
    "print('доля скважин с объёмом более 111 тыс бар:')\n",
    "print(f'   регион 0: {round(100*pr0,0)}%')\n",
    "print(f'   регион 1: {round(100*pr1,0)}%')\n",
    "print(f'   регион 2: {round(100*pr2,0)}%')"
   ]
  },
  {
   "cell_type": "markdown",
   "metadata": {},
   "source": [
    "### 3.3. Выводы по этапу подготовки расчёта прибыли.\n",
    "    1. точка безубыточности региона достигается при наличия в нём нефти объёмом в  22222 тыс бар\n",
    "    2. для безубыточности региона, средний запас одной пробуренной скважины должен быть более 111 тыс бар\n",
    "    \n",
    "    3. наибольшее среднее значение объёма месторождения соответствует региону df2:\n",
    "       95.2 тыс бар - средний объём запасов одного месторождения\n",
    "       37% месторождений обладают объёмом более 111 тыс бар\n",
    "    4. регион df1, обладающий наибольшей предсказательной способностью, обладает наимее богатыми месторождениями. \n",
    "       69 тыс бар - средний объём запасов одного месторождения составляет\n",
    "       17% месторождений df1 обладают запасами нефти более 111 тыс бар.\n",
    "    5. средний объём скважин для регионов df0 составляет 93 тыс бар\n",
    "       доля скважим с запасом нефти более 111 тыс тонн составляет 38%.\n",
    "    6. Поскольку не все скважины обладают необходимыми запасами нефти, то необходимо оценить риски неокупаемости проекта, в случае разведывания 500 месторождений и отбора 200. Для оценки рисков будем использовать бутстрапирование."
   ]
  },
  {
   "cell_type": "markdown",
   "metadata": {},
   "source": [
    "## Функция для расчёта прибыли по выбранным скважинам и предсказаниям модели:\n",
    "\n",
    "Выбор скважин с максимальными значениями предсказаний, суммирование целевого значения объёма сырья, соответствующего этим предсказаниям, рассчет прибыли для полученного объёма сырья."
   ]
  },
  {
   "cell_type": "code",
   "execution_count": 16,
   "metadata": {},
   "outputs": [],
   "source": [
    "def prof_200 (df, rev_p_kbar, region):\n",
    "    \n",
    "    if region == 0:\n",
    "        df['predict'] = model0.predict(df[['f0', 'f1', 'f2']])\n",
    "    elif region == 1:\n",
    "        df['predict'] = model1.predict(df[['f0', 'f1', 'f2']])\n",
    "    elif region == 2:\n",
    "        df['predict'] = model2.predict(df[['f0', 'f1', 'f2']])\n",
    "\n",
    "    df = df.sort_values(by = 'predict', ascending = False)\n",
    "    df_200 = df.head(200)\n",
    "    \n",
    "    amount_oil_200 = df_200['product'].sum()\n",
    "    prof_200 = (amount_oil_200 * rev_p_kbar - 10**10) / 10**9\n",
    "    \n",
    "    return(prof_200, amount_oil_200)"
   ]
  },
  {
   "cell_type": "markdown",
   "metadata": {},
   "source": [
    "## Расчет рисков и прибыли для каждого региона:"
   ]
  },
  {
   "cell_type": "markdown",
   "metadata": {},
   "source": [
    "### 5.1. нахождения распределение прибыли: метод Bootstrap с 1000 выборок"
   ]
  },
  {
   "cell_type": "code",
   "execution_count": 17,
   "metadata": {},
   "outputs": [],
   "source": [
    "\n",
    "rf = RandomState(12345)\n",
    "profit_bs = pd.DataFrame(data =[], columns =[])\n",
    "total_amount_oil = pd.DataFrame(data =[], columns =[])\n",
    "\n",
    "for j in [0,1,2]:\n",
    "    profit_dist = []\n",
    "    amount_oil_dist = []\n",
    "    \n",
    "    for i in range(0,1000):\n",
    "        well_500 = df[j].sample(500, random_state=rf)\n",
    "        profit, amount_oil = prof_200(well_500, rev_p_kbar, j)\n",
    "        profit_dist.append(profit)\n",
    "        amount_oil_dist.append(amount_oil)\n",
    "        \n",
    "    profit_bs[f'df{j}'] = profit_dist\n",
    "    total_amount_oil[f'df{j}'] = amount_oil_dist"
   ]
  },
  {
   "cell_type": "code",
   "execution_count": 18,
   "metadata": {},
   "outputs": [
    {
     "name": "stdout",
     "output_type": "stream",
     "text": [
      "регион: \t risk: \t\t amount of oil\n",
      "регион df0 : \t 6.0% \t 23155.0\n",
      "регион df1 : \t 1.0% \t 23238.0\n",
      "регион df2 : \t 10.0% \t 23014.0\n"
     ]
    }
   ],
   "source": [
    "print('регион: \\t risk: \\t\\t amount of oil')\n",
    "\n",
    "for i in ['df0', 'df1', 'df2']:\n",
    "    risk_area = profit_bs.loc[profit_bs[i] < 0][i].count() / len(profit_bs)\n",
    "    total_amount_oil_area = total_amount_oil[i].sum()/ len(total_amount_oil[i])\n",
    "    print(f'регион {i} : \\t {round(100*risk_area,0)}% \\t {round(total_amount_oil_area,0)}')\n"
   ]
  },
  {
   "cell_type": "markdown",
   "metadata": {},
   "source": [
    "###  5.2. 95%-й доверительный интервал, среднее значение прибыли и риск убытков. "
   ]
  },
  {
   "cell_type": "code",
   "execution_count": 19,
   "metadata": {},
   "outputs": [],
   "source": [
    "def meanrev_confint095_riskrate (profit):\n",
    "    \n",
    "    mean = round((profit.mean()), 3)\n",
    "    low_profit = round((profit.quantile(0.025)), 3)\n",
    "    hight_profit = round((profit.quantile(0.975)), 3)\n",
    "    \n",
    "    risk_count = round(profit.loc[profit < 0].count() / len(profit),3)\n",
    "    risk_len = round(len(profit.loc[profit < 0]) / len(profit),3)\n",
    "    risk_sum = sum(profit < 0) / len(profit)\n",
    "    \n",
    "    print('\\n\\n\\n',profit.loc[profit < 0])\n",
    "    print('risk_count =', risk_count)\n",
    "    print('risk_sum =', risk_sum)\n",
    "    print('risk_len =', risk_len)\n",
    "    \n",
    "    \n",
    "    \n",
    "    res = [mean,\n",
    "           low_profit,\n",
    "           hight_profit,\n",
    "           risk_sum]\n",
    "\n",
    "    return(res)"
   ]
  },
  {
   "cell_type": "code",
   "execution_count": 20,
   "metadata": {
    "scrolled": false
   },
   "outputs": [
    {
     "name": "stdout",
     "output_type": "stream",
     "text": [
      "\n",
      "\n",
      "\n",
      " 4     -0.176730\n",
      "20    -0.034880\n",
      "26    -0.093100\n",
      "34    -0.040981\n",
      "57    -0.181569\n",
      "100   -0.152463\n",
      "145   -0.167674\n",
      "173   -0.062841\n",
      "198   -0.136262\n",
      "216   -0.057428\n",
      "240   -0.096806\n",
      "284   -0.077354\n",
      "304   -0.030643\n",
      "321   -0.123215\n",
      "324   -0.110759\n",
      "327   -0.163337\n",
      "329   -0.024911\n",
      "330   -0.047857\n",
      "339   -0.110100\n",
      "341   -0.018704\n",
      "396   -0.061103\n",
      "406   -0.037933\n",
      "426   -0.164840\n",
      "447   -0.161324\n",
      "475   -0.112519\n",
      "493   -0.345971\n",
      "500   -0.030514\n",
      "520   -0.110997\n",
      "537   -0.063602\n",
      "557   -0.045613\n",
      "602   -0.189392\n",
      "643   -0.078436\n",
      "648   -0.062534\n",
      "678   -0.060863\n",
      "688   -0.041064\n",
      "697   -0.021428\n",
      "718   -0.049079\n",
      "723   -0.280482\n",
      "724   -0.051924\n",
      "740   -0.074423\n",
      "755   -0.122238\n",
      "764   -0.005472\n",
      "827   -0.066021\n",
      "834   -0.287909\n",
      "852   -0.084794\n",
      "901   -0.166830\n",
      "918   -0.041706\n",
      "920   -0.052381\n",
      "926   -0.299451\n",
      "939   -0.086723\n",
      "943   -0.040011\n",
      "972   -0.201490\n",
      "976   -0.060630\n",
      "987   -0.260615\n",
      "988   -0.151911\n",
      "990   -0.146061\n",
      "998   -0.169512\n",
      "Name: df0, dtype: float64\n",
      "risk_count = 0.057\n",
      "risk_sum = 0.057\n",
      "risk_len = 0.057\n",
      "\n",
      "\n",
      "\n",
      " 11    -0.003865\n",
      "194   -0.098782\n",
      "371   -0.018171\n",
      "453   -0.001004\n",
      "600   -0.070232\n",
      "642   -0.037391\n",
      "690   -0.043797\n",
      "843   -0.061648\n",
      "881   -0.001750\n",
      "893   -0.039505\n",
      "Name: df1, dtype: float64\n",
      "risk_count = 0.01\n",
      "risk_sum = 0.01\n",
      "risk_len = 0.01\n",
      "\n",
      "\n",
      "\n",
      " 0     -0.001009\n",
      "2     -0.029844\n",
      "15    -0.105419\n",
      "25    -0.434358\n",
      "28    -0.037163\n",
      "         ...   \n",
      "927   -0.089471\n",
      "932   -0.055305\n",
      "948   -0.064556\n",
      "977   -0.309979\n",
      "981   -0.220459\n",
      "Name: df2, Length: 105, dtype: float64\n",
      "risk_count = 0.105\n",
      "risk_sum = 0.105\n",
      "risk_len = 0.105\n"
     ]
    },
    {
     "data": {
      "text/html": [
       "<div>\n",
       "<style scoped>\n",
       "    .dataframe tbody tr th:only-of-type {\n",
       "        vertical-align: middle;\n",
       "    }\n",
       "\n",
       "    .dataframe tbody tr th {\n",
       "        vertical-align: top;\n",
       "    }\n",
       "\n",
       "    .dataframe thead th {\n",
       "        text-align: right;\n",
       "    }\n",
       "</style>\n",
       "<table border=\"1\" class=\"dataframe\">\n",
       "  <thead>\n",
       "    <tr style=\"text-align: right;\">\n",
       "      <th></th>\n",
       "      <th>df0</th>\n",
       "      <th>df1</th>\n",
       "      <th>df2</th>\n",
       "    </tr>\n",
       "  </thead>\n",
       "  <tbody>\n",
       "    <tr>\n",
       "      <th>mean_profit</th>\n",
       "      <td>0.420</td>\n",
       "      <td>0.457</td>\n",
       "      <td>0.356</td>\n",
       "    </tr>\n",
       "    <tr>\n",
       "      <th>q95_(low)</th>\n",
       "      <td>-0.097</td>\n",
       "      <td>0.067</td>\n",
       "      <td>-0.172</td>\n",
       "    </tr>\n",
       "    <tr>\n",
       "      <th>q95_(top)</th>\n",
       "      <td>0.913</td>\n",
       "      <td>0.858</td>\n",
       "      <td>0.872</td>\n",
       "    </tr>\n",
       "    <tr>\n",
       "      <th>prob_loss</th>\n",
       "      <td>0.057</td>\n",
       "      <td>0.010</td>\n",
       "      <td>0.105</td>\n",
       "    </tr>\n",
       "  </tbody>\n",
       "</table>\n",
       "</div>"
      ],
      "text/plain": [
       "               df0    df1    df2\n",
       "mean_profit  0.420  0.457  0.356\n",
       "q95_(low)   -0.097  0.067 -0.172\n",
       "q95_(top)    0.913  0.858  0.872\n",
       "prob_loss    0.057  0.010  0.105"
      ]
     },
     "metadata": {},
     "output_type": "display_data"
    }
   ],
   "source": [
    "rows = ['mean_profit', 'q95_(low)', 'q95_(top)', 'prob_loss']\n",
    "df_risk = pd.DataFrame(data=[], columns =[], index = rows)\n",
    "\n",
    "df_risk['df0'] = meanrev_confint095_riskrate(profit_bs['df0'])\n",
    "df_risk['df1'] = meanrev_confint095_riskrate(profit_bs['df1'])\n",
    "df_risk['df2'] = meanrev_confint095_riskrate(profit_bs['df2'])\n",
    "\n",
    "display(df_risk)"
   ]
  },
  {
   "cell_type": "markdown",
   "metadata": {},
   "source": [
    "### 5.3. Выводы: предложение региона для разработки скважин и его обовнование\n",
    "\n",
    "    1. Риск неокупаемости менее 2.5% имеют все три региона:\n",
    "        df0 - 5.7%\n",
    "        df1 - 1.0%\n",
    "        df2 - 10.5%\n",
    "    2. При этом наибольшие запасы нефти 200 отобранных скважин больше для региона df1:\n",
    "        df0 - 23.16 млн бар\n",
    "        df1 - 23.24 млн бар\n",
    "        df2 - 23.01 млн бар\n",
    "    3. Поэтому, наиболее привлекательным с т.з рисков и общего запаса нефти 200\n",
    "       отобранных скважин является добыча нефти в регионе df1:\n",
    "        95% доверительный интервал прибыли находится от 0.067 до 0.86 млрд рублей.\n",
    "        средняя прибыль составит 0.457 млрд руб\n",
    "       \n"
   ]
  },
  {
   "cell_type": "code",
   "execution_count": null,
   "metadata": {},
   "outputs": [],
   "source": []
  }
 ],
 "metadata": {
  "ExecuteTimeLog": [
   {
    "duration": 2145,
    "start_time": "2023-05-29T07:36:49.996Z"
   },
   {
    "duration": 154,
    "start_time": "2023-05-29T07:36:52.143Z"
   },
   {
    "duration": 0,
    "start_time": "2023-05-29T07:36:52.299Z"
   },
   {
    "duration": 0,
    "start_time": "2023-05-29T07:36:52.300Z"
   },
   {
    "duration": 0,
    "start_time": "2023-05-29T07:36:52.301Z"
   },
   {
    "duration": 0,
    "start_time": "2023-05-29T07:36:52.302Z"
   },
   {
    "duration": 0,
    "start_time": "2023-05-29T07:36:52.303Z"
   },
   {
    "duration": 0,
    "start_time": "2023-05-29T07:36:52.305Z"
   },
   {
    "duration": 0,
    "start_time": "2023-05-29T07:36:52.306Z"
   },
   {
    "duration": 1,
    "start_time": "2023-05-29T07:36:52.307Z"
   },
   {
    "duration": 0,
    "start_time": "2023-05-29T07:36:52.309Z"
   },
   {
    "duration": 0,
    "start_time": "2023-05-29T07:36:52.310Z"
   },
   {
    "duration": 0,
    "start_time": "2023-05-29T07:36:52.312Z"
   },
   {
    "duration": 0,
    "start_time": "2023-05-29T07:36:52.313Z"
   },
   {
    "duration": 0,
    "start_time": "2023-05-29T07:36:52.314Z"
   },
   {
    "duration": 0,
    "start_time": "2023-05-29T07:36:52.316Z"
   },
   {
    "duration": 0,
    "start_time": "2023-05-29T07:36:52.317Z"
   },
   {
    "duration": 1,
    "start_time": "2023-05-29T07:36:52.318Z"
   },
   {
    "duration": 0,
    "start_time": "2023-05-29T07:36:52.320Z"
   },
   {
    "duration": 0,
    "start_time": "2023-05-29T07:36:52.321Z"
   },
   {
    "duration": 0,
    "start_time": "2023-05-29T07:36:52.323Z"
   },
   {
    "duration": 0,
    "start_time": "2023-05-29T07:36:52.324Z"
   },
   {
    "duration": 0,
    "start_time": "2023-05-29T07:36:52.326Z"
   },
   {
    "duration": 0,
    "start_time": "2023-05-29T07:36:52.328Z"
   },
   {
    "duration": 1709,
    "start_time": "2023-05-29T07:37:11.375Z"
   },
   {
    "duration": 38,
    "start_time": "2023-05-29T07:37:13.086Z"
   },
   {
    "duration": 178,
    "start_time": "2023-05-29T07:37:13.125Z"
   },
   {
    "duration": 19,
    "start_time": "2023-05-29T07:37:13.305Z"
   },
   {
    "duration": 44,
    "start_time": "2023-05-29T07:37:13.327Z"
   },
   {
    "duration": 5,
    "start_time": "2023-05-29T07:37:13.473Z"
   },
   {
    "duration": 218,
    "start_time": "2023-05-29T07:37:13.572Z"
   },
   {
    "duration": 18715,
    "start_time": "2023-05-29T07:37:13.793Z"
   },
   {
    "duration": 292,
    "start_time": "2023-05-29T07:37:32.509Z"
   },
   {
    "duration": 399,
    "start_time": "2023-05-29T07:37:32.803Z"
   },
   {
    "duration": 18,
    "start_time": "2023-05-29T07:37:33.204Z"
   },
   {
    "duration": 4000,
    "start_time": "2023-05-29T07:37:33.224Z"
   },
   {
    "duration": 6,
    "start_time": "2023-05-29T07:37:37.226Z"
   },
   {
    "duration": 14,
    "start_time": "2023-05-29T07:37:37.234Z"
   },
   {
    "duration": 2747,
    "start_time": "2023-05-29T07:37:37.258Z"
   },
   {
    "duration": 3,
    "start_time": "2023-05-29T07:37:40.008Z"
   },
   {
    "duration": 536,
    "start_time": "2023-05-29T07:37:40.013Z"
   },
   {
    "duration": 231,
    "start_time": "2023-05-29T07:37:40.562Z"
   },
   {
    "duration": 5,
    "start_time": "2023-05-29T07:37:40.796Z"
   },
   {
    "duration": 5,
    "start_time": "2023-05-29T07:37:40.803Z"
   },
   {
    "duration": 13,
    "start_time": "2023-05-29T07:37:40.810Z"
   },
   {
    "duration": 53,
    "start_time": "2023-05-29T07:37:40.825Z"
   },
   {
    "duration": 8,
    "start_time": "2023-05-29T07:37:40.883Z"
   },
   {
    "duration": 22,
    "start_time": "2023-05-29T07:37:47.250Z"
   },
   {
    "duration": 1739,
    "start_time": "2023-05-29T07:54:35.370Z"
   },
   {
    "duration": 2432,
    "start_time": "2023-05-29T07:54:37.115Z"
   },
   {
    "duration": 48,
    "start_time": "2023-05-29T07:54:39.706Z"
   },
   {
    "duration": 494,
    "start_time": "2023-05-29T07:55:48.166Z"
   },
   {
    "duration": 1513,
    "start_time": "2023-05-29T07:56:57.006Z"
   },
   {
    "duration": 506,
    "start_time": "2023-05-29T07:57:00.152Z"
   },
   {
    "duration": 18,
    "start_time": "2023-05-29T07:58:11.303Z"
   },
   {
    "duration": 58,
    "start_time": "2023-05-29T07:58:24.258Z"
   },
   {
    "duration": 36,
    "start_time": "2023-05-29T07:58:37.718Z"
   },
   {
    "duration": 35,
    "start_time": "2023-05-29T07:59:02.327Z"
   },
   {
    "duration": 17,
    "start_time": "2023-05-29T08:00:39.327Z"
   },
   {
    "duration": 128,
    "start_time": "2023-05-29T08:00:40.515Z"
   },
   {
    "duration": 15,
    "start_time": "2023-05-29T08:01:03.701Z"
   },
   {
    "duration": 11027,
    "start_time": "2023-05-29T08:01:09.166Z"
   },
   {
    "duration": 11120,
    "start_time": "2023-05-29T08:01:29.904Z"
   },
   {
    "duration": 55,
    "start_time": "2023-05-29T08:04:02.200Z"
   },
   {
    "duration": 1566,
    "start_time": "2023-05-29T08:04:48.458Z"
   },
   {
    "duration": 499,
    "start_time": "2023-05-29T08:04:50.026Z"
   },
   {
    "duration": 36,
    "start_time": "2023-05-29T08:04:50.527Z"
   },
   {
    "duration": 24,
    "start_time": "2023-05-29T08:04:51.704Z"
   },
   {
    "duration": 170,
    "start_time": "2023-05-29T08:04:52.866Z"
   },
   {
    "duration": 22,
    "start_time": "2023-05-29T08:05:06.554Z"
   },
   {
    "duration": 11207,
    "start_time": "2023-05-29T08:05:08.021Z"
   },
   {
    "duration": 6,
    "start_time": "2023-05-29T08:09:33.906Z"
   },
   {
    "duration": 5,
    "start_time": "2023-05-29T08:09:43.810Z"
   },
   {
    "duration": 8,
    "start_time": "2023-05-29T08:09:44.504Z"
   },
   {
    "duration": 18,
    "start_time": "2023-05-29T08:35:32.591Z"
   },
   {
    "duration": 6,
    "start_time": "2023-05-29T08:35:33.120Z"
   },
   {
    "duration": 847,
    "start_time": "2023-05-29T08:35:40.952Z"
   },
   {
    "duration": 15,
    "start_time": "2023-05-29T08:37:30.198Z"
   },
   {
    "duration": 7,
    "start_time": "2023-05-29T08:39:12.114Z"
   },
   {
    "duration": 2070,
    "start_time": "2023-05-29T08:39:53.398Z"
   },
   {
    "duration": 10,
    "start_time": "2023-05-29T08:41:14.422Z"
   },
   {
    "duration": 13,
    "start_time": "2023-05-29T08:41:14.712Z"
   },
   {
    "duration": 1791,
    "start_time": "2023-05-29T08:41:19.018Z"
   },
   {
    "duration": 4,
    "start_time": "2023-05-29T08:41:59.022Z"
   },
   {
    "duration": 5,
    "start_time": "2023-05-29T08:41:59.545Z"
   },
   {
    "duration": 1337,
    "start_time": "2023-05-29T08:42:02.713Z"
   },
   {
    "duration": 1317,
    "start_time": "2023-05-29T08:42:33.152Z"
   },
   {
    "duration": 4,
    "start_time": "2023-05-29T08:46:17.025Z"
   },
   {
    "duration": 2693,
    "start_time": "2023-05-29T08:50:02.922Z"
   },
   {
    "duration": 1445,
    "start_time": "2023-05-29T08:50:13.091Z"
   },
   {
    "duration": 1570,
    "start_time": "2023-05-29T08:50:28.310Z"
   },
   {
    "duration": 4,
    "start_time": "2023-05-29T08:50:34.312Z"
   },
   {
    "duration": 304,
    "start_time": "2023-05-29T08:50:36.211Z"
   },
   {
    "duration": 505,
    "start_time": "2023-05-29T08:50:45.913Z"
   },
   {
    "duration": 135,
    "start_time": "2023-05-29T08:50:54.618Z"
   },
   {
    "duration": 5,
    "start_time": "2023-05-29T08:51:08.004Z"
   },
   {
    "duration": 6,
    "start_time": "2023-05-29T08:51:09.098Z"
   },
   {
    "duration": 8,
    "start_time": "2023-05-29T08:51:16.817Z"
   },
   {
    "duration": 8,
    "start_time": "2023-05-29T08:51:28.652Z"
   },
   {
    "duration": 14,
    "start_time": "2023-05-29T08:51:38.804Z"
   },
   {
    "duration": 16,
    "start_time": "2023-05-29T08:53:32.502Z"
   },
   {
    "duration": 9,
    "start_time": "2023-05-29T08:55:58.909Z"
   },
   {
    "duration": 18,
    "start_time": "2023-05-29T08:56:00.902Z"
   },
   {
    "duration": 29,
    "start_time": "2023-05-29T09:01:48.696Z"
   },
   {
    "duration": 23,
    "start_time": "2023-05-29T09:01:49.398Z"
   },
   {
    "duration": 6,
    "start_time": "2023-05-29T09:01:55.101Z"
   },
   {
    "duration": 7989,
    "start_time": "2023-05-29T09:01:59.578Z"
   },
   {
    "duration": 0,
    "start_time": "2023-05-29T09:02:07.569Z"
   },
   {
    "duration": 8298,
    "start_time": "2023-05-29T09:02:13.125Z"
   },
   {
    "duration": 65,
    "start_time": "2023-05-29T09:02:23.272Z"
   },
   {
    "duration": 10,
    "start_time": "2023-05-29T09:02:31.615Z"
   },
   {
    "duration": 6,
    "start_time": "2023-05-29T09:03:13.508Z"
   },
   {
    "duration": 1224,
    "start_time": "2023-05-29T09:03:14.421Z"
   },
   {
    "duration": 35,
    "start_time": "2023-05-29T09:03:19.690Z"
   },
   {
    "duration": 74,
    "start_time": "2023-05-29T09:07:17.452Z"
   },
   {
    "duration": 4,
    "start_time": "2023-05-29T09:09:55.852Z"
   },
   {
    "duration": 31,
    "start_time": "2023-05-29T09:10:36.390Z"
   },
   {
    "duration": 3,
    "start_time": "2023-05-29T09:10:44.854Z"
   },
   {
    "duration": 8113,
    "start_time": "2023-05-29T09:10:47.096Z"
   },
   {
    "duration": 46,
    "start_time": "2023-05-29T09:11:05.376Z"
   },
   {
    "duration": 87,
    "start_time": "2023-05-29T09:12:21.133Z"
   },
   {
    "duration": 51,
    "start_time": "2023-05-29T09:12:45.613Z"
   },
   {
    "duration": 4,
    "start_time": "2023-05-29T09:13:34.752Z"
   },
   {
    "duration": 25,
    "start_time": "2023-05-29T09:13:36.207Z"
   },
   {
    "duration": 18,
    "start_time": "2023-05-29T09:15:03.209Z"
   },
   {
    "duration": 22,
    "start_time": "2023-05-29T09:15:21.677Z"
   },
   {
    "duration": 8430,
    "start_time": "2023-05-29T09:16:43.489Z"
   },
   {
    "duration": 43,
    "start_time": "2023-05-29T09:16:51.921Z"
   },
   {
    "duration": 8400,
    "start_time": "2023-05-29T09:17:02.046Z"
   },
   {
    "duration": 66,
    "start_time": "2023-05-29T09:17:10.448Z"
   },
   {
    "duration": 6,
    "start_time": "2023-05-29T09:17:48.994Z"
   },
   {
    "duration": 8470,
    "start_time": "2023-05-29T09:17:51.101Z"
   },
   {
    "duration": 52,
    "start_time": "2023-05-29T09:18:11.272Z"
   },
   {
    "duration": 7,
    "start_time": "2023-05-29T09:18:28.603Z"
   },
   {
    "duration": 8976,
    "start_time": "2023-05-29T09:18:30.005Z"
   },
   {
    "duration": 52,
    "start_time": "2023-05-29T09:18:38.983Z"
   },
   {
    "duration": 35,
    "start_time": "2023-05-29T09:19:07.814Z"
   },
   {
    "duration": 9,
    "start_time": "2023-05-29T09:19:37.656Z"
   },
   {
    "duration": 21,
    "start_time": "2023-05-29T09:20:12.983Z"
   },
   {
    "duration": 12,
    "start_time": "2023-05-29T09:21:51.017Z"
   },
   {
    "duration": 9,
    "start_time": "2023-05-29T09:22:02.750Z"
   },
   {
    "duration": 14,
    "start_time": "2023-05-29T09:22:58.372Z"
   },
   {
    "duration": 8157,
    "start_time": "2023-05-29T09:23:04.705Z"
   },
   {
    "duration": 47,
    "start_time": "2023-05-29T09:23:12.863Z"
   },
   {
    "duration": 10,
    "start_time": "2023-05-29T09:23:21.916Z"
   },
   {
    "duration": 2335,
    "start_time": "2023-05-29T09:23:33.022Z"
   },
   {
    "duration": 3,
    "start_time": "2023-05-29T09:23:35.359Z"
   },
   {
    "duration": 1563,
    "start_time": "2023-05-29T09:23:35.364Z"
   },
   {
    "duration": 42,
    "start_time": "2023-05-29T09:23:36.929Z"
   },
   {
    "duration": 37,
    "start_time": "2023-05-29T09:23:36.977Z"
   },
   {
    "duration": 169,
    "start_time": "2023-05-29T09:23:37.025Z"
   },
   {
    "duration": 30,
    "start_time": "2023-05-29T09:23:37.195Z"
   },
   {
    "duration": 11921,
    "start_time": "2023-05-29T09:23:37.228Z"
   },
   {
    "duration": 6,
    "start_time": "2023-05-29T09:23:49.151Z"
   },
   {
    "duration": 19,
    "start_time": "2023-05-29T09:23:49.159Z"
   },
   {
    "duration": 1299,
    "start_time": "2023-05-29T09:23:49.185Z"
   },
   {
    "duration": 3,
    "start_time": "2023-05-29T09:23:50.489Z"
   },
   {
    "duration": 478,
    "start_time": "2023-05-29T09:23:50.497Z"
   },
   {
    "duration": 144,
    "start_time": "2023-05-29T09:23:50.985Z"
   },
   {
    "duration": 7,
    "start_time": "2023-05-29T09:23:51.131Z"
   },
   {
    "duration": 5,
    "start_time": "2023-05-29T09:23:51.140Z"
   },
   {
    "duration": 34,
    "start_time": "2023-05-29T09:23:51.147Z"
   },
   {
    "duration": 14,
    "start_time": "2023-05-29T09:23:51.187Z"
   },
   {
    "duration": 5,
    "start_time": "2023-05-29T09:23:51.203Z"
   },
   {
    "duration": 9999,
    "start_time": "2023-05-29T09:23:51.210Z"
   },
   {
    "duration": 43,
    "start_time": "2023-05-29T09:24:01.215Z"
   },
   {
    "duration": 163,
    "start_time": "2023-05-29T09:24:01.259Z"
   },
   {
    "duration": 0,
    "start_time": "2023-05-29T09:24:01.424Z"
   },
   {
    "duration": 0,
    "start_time": "2023-05-29T09:24:01.426Z"
   },
   {
    "duration": 16,
    "start_time": "2023-05-29T09:24:20.397Z"
   },
   {
    "duration": 4,
    "start_time": "2023-05-29T09:25:12.720Z"
   },
   {
    "duration": 8045,
    "start_time": "2023-05-29T09:25:15.353Z"
   },
   {
    "duration": 43,
    "start_time": "2023-05-29T09:25:23.402Z"
   },
   {
    "duration": 11,
    "start_time": "2023-05-29T09:25:23.447Z"
   },
   {
    "duration": 8481,
    "start_time": "2023-05-29T09:26:37.908Z"
   },
   {
    "duration": 37,
    "start_time": "2023-05-29T09:26:46.392Z"
   },
   {
    "duration": 9,
    "start_time": "2023-05-29T09:27:25.254Z"
   },
   {
    "duration": 4,
    "start_time": "2023-05-29T09:28:23.417Z"
   },
   {
    "duration": 998,
    "start_time": "2023-05-29T09:28:36.819Z"
   },
   {
    "duration": 23,
    "start_time": "2023-05-29T09:28:37.914Z"
   },
   {
    "duration": 6,
    "start_time": "2023-05-29T09:28:55.002Z"
   },
   {
    "duration": 8269,
    "start_time": "2023-05-29T09:28:57.502Z"
   },
   {
    "duration": 66,
    "start_time": "2023-05-29T09:29:05.773Z"
   },
   {
    "duration": 9,
    "start_time": "2023-05-29T09:29:11.961Z"
   },
   {
    "duration": 11,
    "start_time": "2023-05-29T09:29:56.450Z"
   },
   {
    "duration": 11,
    "start_time": "2023-05-29T09:30:17.745Z"
   },
   {
    "duration": 12,
    "start_time": "2023-05-29T09:30:24.705Z"
   },
   {
    "duration": 18,
    "start_time": "2023-05-29T09:30:37.786Z"
   },
   {
    "duration": 16,
    "start_time": "2023-05-29T09:30:46.594Z"
   },
   {
    "duration": 15,
    "start_time": "2023-05-29T09:30:52.949Z"
   },
   {
    "duration": 14,
    "start_time": "2023-05-29T09:31:05.416Z"
   },
   {
    "duration": 13,
    "start_time": "2023-05-29T09:31:06.506Z"
   },
   {
    "duration": 9,
    "start_time": "2023-05-29T09:31:13.521Z"
   },
   {
    "duration": 2271,
    "start_time": "2023-05-29T11:35:22.213Z"
   },
   {
    "duration": 5,
    "start_time": "2023-05-29T11:35:24.486Z"
   },
   {
    "duration": 2712,
    "start_time": "2023-05-29T11:35:24.493Z"
   },
   {
    "duration": 34,
    "start_time": "2023-05-29T11:35:27.207Z"
   },
   {
    "duration": 19,
    "start_time": "2023-05-29T11:35:27.243Z"
   },
   {
    "duration": 159,
    "start_time": "2023-05-29T11:35:27.264Z"
   },
   {
    "duration": 17,
    "start_time": "2023-05-29T11:35:27.425Z"
   },
   {
    "duration": 10874,
    "start_time": "2023-05-29T11:35:27.444Z"
   },
   {
    "duration": 4,
    "start_time": "2023-05-29T11:35:38.320Z"
   },
   {
    "duration": 9,
    "start_time": "2023-05-29T11:35:38.327Z"
   },
   {
    "duration": 1257,
    "start_time": "2023-05-29T11:35:38.338Z"
   },
   {
    "duration": 4,
    "start_time": "2023-05-29T11:35:39.599Z"
   },
   {
    "duration": 584,
    "start_time": "2023-05-29T11:35:39.609Z"
   },
   {
    "duration": 141,
    "start_time": "2023-05-29T11:35:40.196Z"
   },
   {
    "duration": 4,
    "start_time": "2023-05-29T11:35:40.339Z"
   },
   {
    "duration": 11,
    "start_time": "2023-05-29T11:35:40.344Z"
   },
   {
    "duration": 25,
    "start_time": "2023-05-29T11:35:40.357Z"
   },
   {
    "duration": 15,
    "start_time": "2023-05-29T11:35:40.384Z"
   },
   {
    "duration": 6,
    "start_time": "2023-05-29T11:35:40.401Z"
   },
   {
    "duration": 8082,
    "start_time": "2023-05-29T11:35:40.411Z"
   },
   {
    "duration": 35,
    "start_time": "2023-05-29T11:35:48.503Z"
   },
   {
    "duration": 11,
    "start_time": "2023-05-29T11:35:48.539Z"
   },
   {
    "duration": 8,
    "start_time": "2023-05-29T11:35:48.552Z"
   },
   {
    "duration": 13,
    "start_time": "2023-05-29T11:35:48.578Z"
   },
   {
    "duration": 121,
    "start_time": "2023-05-29T11:35:48.597Z"
   },
   {
    "duration": 18,
    "start_time": "2023-05-29T11:39:00.402Z"
   },
   {
    "duration": 4,
    "start_time": "2023-05-29T11:42:05.721Z"
   },
   {
    "duration": 17,
    "start_time": "2023-05-29T11:42:06.411Z"
   },
   {
    "duration": 3,
    "start_time": "2023-05-29T11:42:24.434Z"
   },
   {
    "duration": 18,
    "start_time": "2023-05-29T11:42:24.990Z"
   },
   {
    "duration": 7393,
    "start_time": "2023-05-29T11:43:01.395Z"
   },
   {
    "duration": 31,
    "start_time": "2023-05-29T11:43:08.791Z"
   },
   {
    "duration": 8923,
    "start_time": "2023-05-29T11:44:21.618Z"
   },
   {
    "duration": 4,
    "start_time": "2023-05-29T11:45:20.299Z"
   },
   {
    "duration": 7720,
    "start_time": "2023-05-29T11:45:31.819Z"
   },
   {
    "duration": 8,
    "start_time": "2023-05-29T11:45:39.541Z"
   },
   {
    "duration": 4,
    "start_time": "2023-05-29T11:46:36.004Z"
   },
   {
    "duration": 3,
    "start_time": "2023-05-29T11:46:54.620Z"
   },
   {
    "duration": 7659,
    "start_time": "2023-05-29T11:46:54.625Z"
   },
   {
    "duration": 35,
    "start_time": "2023-05-29T11:47:02.286Z"
   },
   {
    "duration": 21,
    "start_time": "2023-05-29T11:47:10.782Z"
   },
   {
    "duration": 9,
    "start_time": "2023-05-29T11:47:12.390Z"
   },
   {
    "duration": 6,
    "start_time": "2023-05-29T11:47:59.921Z"
   },
   {
    "duration": 7617,
    "start_time": "2023-05-29T11:48:02.566Z"
   },
   {
    "duration": 31,
    "start_time": "2023-05-29T11:48:10.186Z"
   },
   {
    "duration": 11,
    "start_time": "2023-05-29T11:48:10.218Z"
   },
   {
    "duration": 7,
    "start_time": "2023-05-29T11:48:10.231Z"
   },
   {
    "duration": 12,
    "start_time": "2023-05-29T11:50:19.090Z"
   },
   {
    "duration": 47,
    "start_time": "2023-05-29T11:50:31.998Z"
   },
   {
    "duration": 15,
    "start_time": "2023-05-29T11:51:01.304Z"
   },
   {
    "duration": 20,
    "start_time": "2023-05-29T11:51:09.522Z"
   },
   {
    "duration": 3290,
    "start_time": "2023-05-29T11:52:09.995Z"
   },
   {
    "duration": 273,
    "start_time": "2023-05-29T11:52:23.922Z"
   },
   {
    "duration": 7554,
    "start_time": "2023-05-29T11:53:20.023Z"
   },
   {
    "duration": 237,
    "start_time": "2023-05-29T11:53:27.579Z"
   },
   {
    "duration": 22,
    "start_time": "2023-05-29T11:53:27.818Z"
   },
   {
    "duration": 39,
    "start_time": "2023-05-29T11:53:40.645Z"
   },
   {
    "duration": 34,
    "start_time": "2023-05-29T11:54:00.199Z"
   },
   {
    "duration": 12,
    "start_time": "2023-05-29T11:54:00.748Z"
   },
   {
    "duration": 11,
    "start_time": "2023-05-29T11:54:04.002Z"
   },
   {
    "duration": 23,
    "start_time": "2023-05-29T11:54:56.898Z"
   },
   {
    "duration": 21,
    "start_time": "2023-05-29T11:55:01.109Z"
   },
   {
    "duration": 20,
    "start_time": "2023-05-29T11:55:05.224Z"
   },
   {
    "duration": 7730,
    "start_time": "2023-05-29T11:55:14.407Z"
   },
   {
    "duration": 243,
    "start_time": "2023-05-29T11:55:22.140Z"
   },
   {
    "duration": 37,
    "start_time": "2023-05-29T11:55:24.518Z"
   },
   {
    "duration": 13,
    "start_time": "2023-05-29T11:55:25.095Z"
   },
   {
    "duration": 12,
    "start_time": "2023-05-29T11:55:26.489Z"
   },
   {
    "duration": 8220,
    "start_time": "2023-05-29T11:55:43.593Z"
   },
   {
    "duration": 256,
    "start_time": "2023-05-29T11:55:51.815Z"
   },
   {
    "duration": 61,
    "start_time": "2023-05-29T11:55:52.082Z"
   },
   {
    "duration": 11,
    "start_time": "2023-05-29T11:55:52.146Z"
   },
   {
    "duration": 16,
    "start_time": "2023-05-29T11:55:53.794Z"
   },
   {
    "duration": 7882,
    "start_time": "2023-05-29T11:56:02.125Z"
   },
   {
    "duration": 238,
    "start_time": "2023-05-29T11:56:10.009Z"
   },
   {
    "duration": 51,
    "start_time": "2023-05-29T11:56:10.249Z"
   },
   {
    "duration": 13,
    "start_time": "2023-05-29T11:56:10.302Z"
   },
   {
    "duration": 8,
    "start_time": "2023-05-29T11:56:10.317Z"
   },
   {
    "duration": 4,
    "start_time": "2023-05-29T11:57:13.139Z"
   },
   {
    "duration": 5,
    "start_time": "2023-05-29T11:57:50.679Z"
   },
   {
    "duration": 7680,
    "start_time": "2023-05-29T11:57:53.023Z"
   },
   {
    "duration": 32,
    "start_time": "2023-05-29T11:58:02.729Z"
   },
   {
    "duration": 18,
    "start_time": "2023-05-29T11:58:06.098Z"
   },
   {
    "duration": 9,
    "start_time": "2023-05-29T11:58:06.399Z"
   },
   {
    "duration": 5,
    "start_time": "2023-05-29T11:58:22.793Z"
   },
   {
    "duration": 7527,
    "start_time": "2023-05-29T11:58:24.806Z"
   },
   {
    "duration": 41,
    "start_time": "2023-05-29T11:58:32.335Z"
   },
   {
    "duration": 13,
    "start_time": "2023-05-29T11:58:32.380Z"
   },
   {
    "duration": 8,
    "start_time": "2023-05-29T11:58:32.395Z"
   },
   {
    "duration": 1391,
    "start_time": "2023-05-29T11:58:53.423Z"
   },
   {
    "duration": 3,
    "start_time": "2023-05-29T11:58:54.816Z"
   },
   {
    "duration": 424,
    "start_time": "2023-05-29T11:58:54.821Z"
   },
   {
    "duration": 47,
    "start_time": "2023-05-29T11:58:55.247Z"
   },
   {
    "duration": 20,
    "start_time": "2023-05-29T11:58:55.296Z"
   },
   {
    "duration": 139,
    "start_time": "2023-05-29T11:58:55.317Z"
   },
   {
    "duration": 32,
    "start_time": "2023-05-29T11:58:55.458Z"
   },
   {
    "duration": 10100,
    "start_time": "2023-05-29T11:58:55.491Z"
   },
   {
    "duration": 4,
    "start_time": "2023-05-29T11:59:05.593Z"
   },
   {
    "duration": 18,
    "start_time": "2023-05-29T11:59:05.599Z"
   },
   {
    "duration": 1134,
    "start_time": "2023-05-29T11:59:05.618Z"
   },
   {
    "duration": 3,
    "start_time": "2023-05-29T11:59:06.754Z"
   },
   {
    "duration": 485,
    "start_time": "2023-05-29T11:59:06.758Z"
   },
   {
    "duration": 143,
    "start_time": "2023-05-29T11:59:07.247Z"
   },
   {
    "duration": 4,
    "start_time": "2023-05-29T11:59:07.393Z"
   },
   {
    "duration": 4,
    "start_time": "2023-05-29T11:59:07.399Z"
   },
   {
    "duration": 8,
    "start_time": "2023-05-29T11:59:07.405Z"
   },
   {
    "duration": 15,
    "start_time": "2023-05-29T11:59:07.414Z"
   },
   {
    "duration": 5,
    "start_time": "2023-05-29T11:59:07.430Z"
   },
   {
    "duration": 7404,
    "start_time": "2023-05-29T11:59:07.436Z"
   },
   {
    "duration": 46,
    "start_time": "2023-05-29T11:59:14.842Z"
   },
   {
    "duration": 13,
    "start_time": "2023-05-29T11:59:14.890Z"
   },
   {
    "duration": 10,
    "start_time": "2023-05-29T11:59:14.905Z"
   },
   {
    "duration": 5,
    "start_time": "2023-05-29T11:59:14.917Z"
   },
   {
    "duration": 26,
    "start_time": "2023-05-29T11:59:14.924Z"
   },
   {
    "duration": 5,
    "start_time": "2023-05-29T11:59:58.098Z"
   },
   {
    "duration": 7564,
    "start_time": "2023-05-29T12:00:23.191Z"
   },
   {
    "duration": 38,
    "start_time": "2023-05-29T12:00:33.695Z"
   },
   {
    "duration": 31,
    "start_time": "2023-05-29T12:00:56.897Z"
   },
   {
    "duration": 11,
    "start_time": "2023-05-29T12:00:57.439Z"
   },
   {
    "duration": 10,
    "start_time": "2023-05-29T12:01:00.445Z"
   },
   {
    "duration": 7469,
    "start_time": "2023-05-29T12:01:09.209Z"
   },
   {
    "duration": 40,
    "start_time": "2023-05-29T12:01:16.680Z"
   },
   {
    "duration": 10,
    "start_time": "2023-05-29T12:01:16.721Z"
   },
   {
    "duration": 9,
    "start_time": "2023-05-29T12:01:16.733Z"
   },
   {
    "duration": 3,
    "start_time": "2023-05-29T12:03:07.302Z"
   },
   {
    "duration": 6838,
    "start_time": "2023-05-29T12:03:09.510Z"
   },
   {
    "duration": 41,
    "start_time": "2023-05-29T12:03:18.443Z"
   },
   {
    "duration": 15,
    "start_time": "2023-05-29T12:03:27.882Z"
   },
   {
    "duration": 7,
    "start_time": "2023-05-29T12:03:31.445Z"
   },
   {
    "duration": 4,
    "start_time": "2023-05-29T12:03:53.058Z"
   },
   {
    "duration": 6693,
    "start_time": "2023-05-29T12:03:53.912Z"
   },
   {
    "duration": 33,
    "start_time": "2023-05-29T12:04:00.607Z"
   },
   {
    "duration": 51,
    "start_time": "2023-05-29T12:04:00.642Z"
   },
   {
    "duration": 67,
    "start_time": "2023-05-29T12:04:00.695Z"
   },
   {
    "duration": 164,
    "start_time": "2023-05-29T12:05:28.437Z"
   },
   {
    "duration": 273,
    "start_time": "2023-05-29T12:05:42.000Z"
   },
   {
    "duration": 555,
    "start_time": "2023-05-29T12:06:00.812Z"
   },
   {
    "duration": 278,
    "start_time": "2023-05-29T12:06:33.691Z"
   },
   {
    "duration": 125,
    "start_time": "2023-05-29T12:09:27.093Z"
   },
   {
    "duration": 240,
    "start_time": "2023-05-29T12:09:32.411Z"
   },
   {
    "duration": 512,
    "start_time": "2023-05-29T12:09:40.248Z"
   },
   {
    "duration": 793,
    "start_time": "2023-05-29T12:09:48.848Z"
   },
   {
    "duration": 1089,
    "start_time": "2023-05-29T12:10:23.698Z"
   },
   {
    "duration": 714,
    "start_time": "2023-05-29T12:11:55.487Z"
   },
   {
    "duration": 1042,
    "start_time": "2023-05-29T12:12:35.148Z"
   },
   {
    "duration": 1293,
    "start_time": "2023-05-29T12:14:26.219Z"
   },
   {
    "duration": 3,
    "start_time": "2023-05-29T12:14:27.514Z"
   },
   {
    "duration": 697,
    "start_time": "2023-05-29T12:14:27.518Z"
   },
   {
    "duration": 35,
    "start_time": "2023-05-29T12:14:28.216Z"
   },
   {
    "duration": 43,
    "start_time": "2023-05-29T12:14:28.255Z"
   },
   {
    "duration": 140,
    "start_time": "2023-05-29T12:14:28.300Z"
   },
   {
    "duration": 17,
    "start_time": "2023-05-29T12:14:28.441Z"
   },
   {
    "duration": 9777,
    "start_time": "2023-05-29T12:14:28.474Z"
   },
   {
    "duration": 6,
    "start_time": "2023-05-29T12:14:38.253Z"
   },
   {
    "duration": 16,
    "start_time": "2023-05-29T12:14:38.260Z"
   },
   {
    "duration": 1286,
    "start_time": "2023-05-29T12:14:38.278Z"
   },
   {
    "duration": 2,
    "start_time": "2023-05-29T12:14:39.565Z"
   },
   {
    "duration": 462,
    "start_time": "2023-05-29T12:14:39.576Z"
   },
   {
    "duration": 147,
    "start_time": "2023-05-29T12:14:40.040Z"
   },
   {
    "duration": 4,
    "start_time": "2023-05-29T12:14:40.188Z"
   },
   {
    "duration": 5,
    "start_time": "2023-05-29T12:14:40.193Z"
   },
   {
    "duration": 7,
    "start_time": "2023-05-29T12:14:40.200Z"
   },
   {
    "duration": 9,
    "start_time": "2023-05-29T12:14:40.209Z"
   },
   {
    "duration": 744,
    "start_time": "2023-05-29T12:14:40.220Z"
   },
   {
    "duration": 4,
    "start_time": "2023-05-29T12:14:40.965Z"
   },
   {
    "duration": 6376,
    "start_time": "2023-05-29T12:14:40.974Z"
   },
   {
    "duration": 49,
    "start_time": "2023-05-29T12:14:47.352Z"
   },
   {
    "duration": 10,
    "start_time": "2023-05-29T12:14:47.403Z"
   },
   {
    "duration": 8,
    "start_time": "2023-05-29T12:14:47.415Z"
   },
   {
    "duration": 4,
    "start_time": "2023-05-29T12:14:47.425Z"
   },
   {
    "duration": 24,
    "start_time": "2023-05-29T12:14:47.431Z"
   },
   {
    "duration": 3,
    "start_time": "2023-05-29T12:15:12.498Z"
   },
   {
    "duration": 6432,
    "start_time": "2023-05-29T12:15:15.379Z"
   },
   {
    "duration": 34,
    "start_time": "2023-05-29T12:15:21.813Z"
   },
   {
    "duration": 29,
    "start_time": "2023-05-29T12:15:21.849Z"
   },
   {
    "duration": 8,
    "start_time": "2023-05-29T12:15:23.043Z"
   },
   {
    "duration": 4,
    "start_time": "2023-05-29T12:15:29.398Z"
   },
   {
    "duration": 30,
    "start_time": "2023-05-29T12:15:31.365Z"
   },
   {
    "duration": 5,
    "start_time": "2023-05-29T12:15:40.394Z"
   },
   {
    "duration": 18,
    "start_time": "2023-05-29T12:15:40.916Z"
   },
   {
    "duration": 5,
    "start_time": "2023-05-29T12:15:57.891Z"
   },
   {
    "duration": 19,
    "start_time": "2023-05-29T12:15:58.536Z"
   },
   {
    "duration": 19,
    "start_time": "2023-05-29T12:17:16.146Z"
   },
   {
    "duration": 76,
    "start_time": "2023-05-29T12:23:45.320Z"
   },
   {
    "duration": 1375,
    "start_time": "2023-05-29T12:24:18.395Z"
   },
   {
    "duration": 4,
    "start_time": "2023-05-29T12:24:19.772Z"
   },
   {
    "duration": 424,
    "start_time": "2023-05-29T12:24:19.778Z"
   },
   {
    "duration": 33,
    "start_time": "2023-05-29T12:24:20.204Z"
   },
   {
    "duration": 19,
    "start_time": "2023-05-29T12:24:20.239Z"
   },
   {
    "duration": 130,
    "start_time": "2023-05-29T12:24:20.282Z"
   },
   {
    "duration": 17,
    "start_time": "2023-05-29T12:24:20.414Z"
   },
   {
    "duration": 9583,
    "start_time": "2023-05-29T12:24:20.433Z"
   },
   {
    "duration": 5,
    "start_time": "2023-05-29T12:24:30.018Z"
   },
   {
    "duration": 20,
    "start_time": "2023-05-29T12:24:30.026Z"
   },
   {
    "duration": 1208,
    "start_time": "2023-05-29T12:24:30.048Z"
   },
   {
    "duration": 2,
    "start_time": "2023-05-29T12:24:31.258Z"
   },
   {
    "duration": 529,
    "start_time": "2023-05-29T12:24:31.262Z"
   },
   {
    "duration": 145,
    "start_time": "2023-05-29T12:24:31.793Z"
   },
   {
    "duration": 4,
    "start_time": "2023-05-29T12:24:31.940Z"
   },
   {
    "duration": 5,
    "start_time": "2023-05-29T12:24:31.946Z"
   },
   {
    "duration": 36,
    "start_time": "2023-05-29T12:24:31.953Z"
   },
   {
    "duration": 11,
    "start_time": "2023-05-29T12:24:31.991Z"
   },
   {
    "duration": 4,
    "start_time": "2023-05-29T12:24:32.004Z"
   },
   {
    "duration": 6407,
    "start_time": "2023-05-29T12:24:32.009Z"
   },
   {
    "duration": 31,
    "start_time": "2023-05-29T12:24:38.417Z"
   },
   {
    "duration": 39,
    "start_time": "2023-05-29T12:24:38.450Z"
   },
   {
    "duration": 8,
    "start_time": "2023-05-29T12:24:38.490Z"
   },
   {
    "duration": 8,
    "start_time": "2023-05-29T12:24:38.499Z"
   },
   {
    "duration": 16,
    "start_time": "2023-05-29T12:24:38.509Z"
   },
   {
    "duration": 3,
    "start_time": "2023-05-30T12:11:43.397Z"
   },
   {
    "duration": 25,
    "start_time": "2023-05-30T12:11:43.402Z"
   },
   {
    "duration": 1345,
    "start_time": "2023-05-30T12:11:43.429Z"
   },
   {
    "duration": 28,
    "start_time": "2023-05-30T12:11:44.775Z"
   },
   {
    "duration": 30,
    "start_time": "2023-05-30T12:11:44.805Z"
   },
   {
    "duration": 115,
    "start_time": "2023-05-30T12:11:44.836Z"
   },
   {
    "duration": 14,
    "start_time": "2023-05-30T12:11:44.952Z"
   },
   {
    "duration": 9072,
    "start_time": "2023-05-30T12:11:44.967Z"
   },
   {
    "duration": 4,
    "start_time": "2023-05-30T12:11:54.041Z"
   },
   {
    "duration": 8,
    "start_time": "2023-05-30T12:11:54.046Z"
   },
   {
    "duration": 1117,
    "start_time": "2023-05-30T12:11:54.056Z"
   },
   {
    "duration": 2,
    "start_time": "2023-05-30T12:11:55.174Z"
   },
   {
    "duration": 341,
    "start_time": "2023-05-30T12:11:55.178Z"
   },
   {
    "duration": 245,
    "start_time": "2023-05-30T12:11:55.523Z"
   },
   {
    "duration": 3,
    "start_time": "2023-05-30T12:11:55.770Z"
   },
   {
    "duration": 30,
    "start_time": "2023-05-30T12:11:55.774Z"
   },
   {
    "duration": 30,
    "start_time": "2023-05-30T12:11:55.805Z"
   },
   {
    "duration": 14,
    "start_time": "2023-05-30T12:11:55.836Z"
   },
   {
    "duration": 9,
    "start_time": "2023-05-30T12:47:51.020Z"
   },
   {
    "duration": 7,
    "start_time": "2023-05-30T12:48:09.018Z"
   },
   {
    "duration": 4,
    "start_time": "2023-05-30T12:48:12.622Z"
   },
   {
    "duration": 6,
    "start_time": "2023-05-30T12:48:14.291Z"
   },
   {
    "duration": 5,
    "start_time": "2023-05-30T12:48:18.626Z"
   },
   {
    "duration": 4,
    "start_time": "2023-05-30T12:48:30.680Z"
   },
   {
    "duration": 5,
    "start_time": "2023-05-30T12:48:34.817Z"
   },
   {
    "duration": 139,
    "start_time": "2023-05-30T12:50:29.496Z"
   },
   {
    "duration": 1548,
    "start_time": "2023-05-30T14:10:32.514Z"
   },
   {
    "duration": 3,
    "start_time": "2023-05-30T14:10:34.064Z"
   },
   {
    "duration": 788,
    "start_time": "2023-05-30T14:10:34.069Z"
   },
   {
    "duration": 34,
    "start_time": "2023-05-30T14:10:34.859Z"
   },
   {
    "duration": 23,
    "start_time": "2023-05-30T14:10:34.895Z"
   },
   {
    "duration": 135,
    "start_time": "2023-05-30T14:10:34.919Z"
   },
   {
    "duration": 24,
    "start_time": "2023-05-30T14:10:35.056Z"
   },
   {
    "duration": 9619,
    "start_time": "2023-05-30T14:10:35.082Z"
   },
   {
    "duration": 5,
    "start_time": "2023-05-30T14:10:44.703Z"
   },
   {
    "duration": 40,
    "start_time": "2023-05-30T14:10:44.710Z"
   },
   {
    "duration": 1205,
    "start_time": "2023-05-30T14:10:44.751Z"
   },
   {
    "duration": 2,
    "start_time": "2023-05-30T14:10:45.958Z"
   },
   {
    "duration": 485,
    "start_time": "2023-05-30T14:10:45.961Z"
   },
   {
    "duration": 163,
    "start_time": "2023-05-30T14:10:46.448Z"
   },
   {
    "duration": 4,
    "start_time": "2023-05-30T14:10:46.613Z"
   },
   {
    "duration": 27,
    "start_time": "2023-05-30T14:10:46.619Z"
   },
   {
    "duration": 19,
    "start_time": "2023-05-30T14:10:46.648Z"
   },
   {
    "duration": 35,
    "start_time": "2023-05-30T14:10:46.669Z"
   },
   {
    "duration": 21,
    "start_time": "2023-05-30T14:10:46.706Z"
   },
   {
    "duration": 6052,
    "start_time": "2023-05-30T14:10:46.729Z"
   },
   {
    "duration": 30,
    "start_time": "2023-05-30T14:10:52.782Z"
   },
   {
    "duration": 10,
    "start_time": "2023-05-30T14:10:52.813Z"
   },
   {
    "duration": 9,
    "start_time": "2023-05-30T14:10:52.824Z"
   },
   {
    "duration": 6,
    "start_time": "2023-05-30T14:10:52.834Z"
   },
   {
    "duration": 40,
    "start_time": "2023-05-30T14:10:52.842Z"
   },
   {
    "duration": 4,
    "start_time": "2023-05-30T14:13:11.328Z"
   },
   {
    "duration": 19,
    "start_time": "2023-05-30T14:13:13.069Z"
   },
   {
    "duration": 96,
    "start_time": "2023-05-30T14:16:25.682Z"
   },
   {
    "duration": 108,
    "start_time": "2023-05-30T14:16:45.569Z"
   },
   {
    "duration": 10,
    "start_time": "2023-05-30T14:16:59.082Z"
   },
   {
    "duration": 6,
    "start_time": "2023-05-30T14:17:11.061Z"
   },
   {
    "duration": 5,
    "start_time": "2023-05-30T14:17:19.374Z"
   },
   {
    "duration": 17,
    "start_time": "2023-05-30T14:19:00.964Z"
   },
   {
    "duration": 13,
    "start_time": "2023-05-30T14:19:08.259Z"
   },
   {
    "duration": 4,
    "start_time": "2023-05-30T14:19:39.950Z"
   },
   {
    "duration": 17,
    "start_time": "2023-05-30T14:19:42.970Z"
   },
   {
    "duration": 5,
    "start_time": "2023-05-30T14:19:55.093Z"
   },
   {
    "duration": 18,
    "start_time": "2023-05-30T14:19:57.196Z"
   },
   {
    "duration": 6,
    "start_time": "2023-05-30T14:20:08.416Z"
   },
   {
    "duration": 12,
    "start_time": "2023-05-30T14:20:09.560Z"
   },
   {
    "duration": 24,
    "start_time": "2023-05-30T14:20:13.688Z"
   },
   {
    "duration": 4,
    "start_time": "2023-05-30T14:21:03.058Z"
   },
   {
    "duration": 21,
    "start_time": "2023-05-30T14:21:07.219Z"
   },
   {
    "duration": 13,
    "start_time": "2023-05-30T14:22:30.460Z"
   },
   {
    "duration": 4,
    "start_time": "2023-05-30T14:23:41.018Z"
   },
   {
    "duration": 21,
    "start_time": "2023-05-30T14:23:45.381Z"
   },
   {
    "duration": 313,
    "start_time": "2023-05-30T14:24:17.945Z"
   },
   {
    "duration": 20,
    "start_time": "2023-05-30T14:24:19.513Z"
   },
   {
    "duration": 6,
    "start_time": "2023-05-30T14:24:32.617Z"
   },
   {
    "duration": 24,
    "start_time": "2023-05-30T14:24:33.821Z"
   },
   {
    "duration": 6,
    "start_time": "2023-05-30T14:25:13.920Z"
   },
   {
    "duration": 33,
    "start_time": "2023-05-30T14:25:15.686Z"
   },
   {
    "duration": 6,
    "start_time": "2023-05-30T14:25:41.419Z"
   },
   {
    "duration": 26,
    "start_time": "2023-05-30T14:25:43.171Z"
   },
   {
    "duration": 4,
    "start_time": "2023-05-30T14:26:24.720Z"
   },
   {
    "duration": 5,
    "start_time": "2023-05-30T14:26:35.457Z"
   },
   {
    "duration": 32,
    "start_time": "2023-05-30T14:26:36.621Z"
   },
   {
    "duration": 5,
    "start_time": "2023-05-30T14:27:09.688Z"
   },
   {
    "duration": 25,
    "start_time": "2023-05-30T14:27:10.965Z"
   },
   {
    "duration": 4,
    "start_time": "2023-05-30T14:31:15.661Z"
   },
   {
    "duration": 25,
    "start_time": "2023-05-30T14:31:17.927Z"
   },
   {
    "duration": 5,
    "start_time": "2023-05-30T14:31:42.375Z"
   },
   {
    "duration": 4,
    "start_time": "2023-05-30T14:31:50.715Z"
   },
   {
    "duration": 27,
    "start_time": "2023-05-30T14:31:52.814Z"
   },
   {
    "duration": 5,
    "start_time": "2023-05-30T14:32:16.903Z"
   },
   {
    "duration": 19,
    "start_time": "2023-05-30T14:32:18.697Z"
   },
   {
    "duration": 5,
    "start_time": "2023-05-30T14:32:28.757Z"
   },
   {
    "duration": 27,
    "start_time": "2023-05-30T14:32:30.524Z"
   },
   {
    "duration": 67,
    "start_time": "2023-05-30T14:41:59.210Z"
   },
   {
    "duration": 1419,
    "start_time": "2023-05-30T14:42:36.357Z"
   },
   {
    "duration": 0,
    "start_time": "2023-05-30T14:42:37.777Z"
   },
   {
    "duration": 153,
    "start_time": "2023-05-30T14:42:51.025Z"
   },
   {
    "duration": 115,
    "start_time": "2023-05-30T14:43:02.266Z"
   },
   {
    "duration": 20,
    "start_time": "2023-05-30T14:43:22.362Z"
   },
   {
    "duration": 86,
    "start_time": "2023-05-30T14:43:25.900Z"
   },
   {
    "duration": 209,
    "start_time": "2023-05-30T14:43:44.869Z"
   },
   {
    "duration": 185,
    "start_time": "2023-05-30T14:43:56.394Z"
   },
   {
    "duration": 17,
    "start_time": "2023-05-30T14:44:05.086Z"
   },
   {
    "duration": 9,
    "start_time": "2023-05-30T14:44:53.376Z"
   },
   {
    "duration": 10,
    "start_time": "2023-05-30T14:45:05.499Z"
   },
   {
    "duration": 399,
    "start_time": "2023-05-30T14:45:30.885Z"
   },
   {
    "duration": 144,
    "start_time": "2023-05-30T14:45:31.709Z"
   },
   {
    "duration": 174,
    "start_time": "2023-05-30T14:45:54.103Z"
   },
   {
    "duration": 11,
    "start_time": "2023-05-30T14:46:17.744Z"
   },
   {
    "duration": 12,
    "start_time": "2023-05-30T14:46:31.149Z"
   },
   {
    "duration": 1548,
    "start_time": "2023-05-30T14:46:44.885Z"
   },
   {
    "duration": 6,
    "start_time": "2023-05-30T14:46:46.436Z"
   },
   {
    "duration": 431,
    "start_time": "2023-05-30T14:46:46.444Z"
   },
   {
    "duration": 37,
    "start_time": "2023-05-30T14:46:46.876Z"
   },
   {
    "duration": 21,
    "start_time": "2023-05-30T14:46:46.915Z"
   },
   {
    "duration": 148,
    "start_time": "2023-05-30T14:46:46.937Z"
   },
   {
    "duration": 16,
    "start_time": "2023-05-30T14:46:47.087Z"
   },
   {
    "duration": 9475,
    "start_time": "2023-05-30T14:46:47.104Z"
   },
   {
    "duration": 5,
    "start_time": "2023-05-30T14:46:56.581Z"
   },
   {
    "duration": 11,
    "start_time": "2023-05-30T14:46:56.587Z"
   },
   {
    "duration": 1288,
    "start_time": "2023-05-30T14:46:56.599Z"
   },
   {
    "duration": 3,
    "start_time": "2023-05-30T14:46:57.888Z"
   },
   {
    "duration": 521,
    "start_time": "2023-05-30T14:46:57.892Z"
   },
   {
    "duration": 136,
    "start_time": "2023-05-30T14:46:58.415Z"
   },
   {
    "duration": 3,
    "start_time": "2023-05-30T14:46:58.553Z"
   },
   {
    "duration": 18,
    "start_time": "2023-05-30T14:46:58.558Z"
   },
   {
    "duration": 7,
    "start_time": "2023-05-30T14:46:58.578Z"
   },
   {
    "duration": 10,
    "start_time": "2023-05-30T14:46:58.587Z"
   },
   {
    "duration": 3,
    "start_time": "2023-05-30T14:46:58.599Z"
   },
   {
    "duration": 6326,
    "start_time": "2023-05-30T14:46:58.603Z"
   },
   {
    "duration": 31,
    "start_time": "2023-05-30T14:47:04.931Z"
   },
   {
    "duration": 21,
    "start_time": "2023-05-30T14:47:04.964Z"
   },
   {
    "duration": 15,
    "start_time": "2023-05-30T14:47:04.987Z"
   },
   {
    "duration": 30,
    "start_time": "2023-05-30T14:47:05.004Z"
   },
   {
    "duration": 298,
    "start_time": "2023-05-30T14:47:54.948Z"
   },
   {
    "duration": 117,
    "start_time": "2023-05-30T14:48:07.991Z"
   },
   {
    "duration": 1467,
    "start_time": "2023-05-30T14:48:18.241Z"
   },
   {
    "duration": 4,
    "start_time": "2023-05-30T14:48:19.710Z"
   },
   {
    "duration": 402,
    "start_time": "2023-05-30T14:48:19.716Z"
   },
   {
    "duration": 34,
    "start_time": "2023-05-30T14:48:20.120Z"
   },
   {
    "duration": 33,
    "start_time": "2023-05-30T14:48:20.156Z"
   },
   {
    "duration": 135,
    "start_time": "2023-05-30T14:48:20.191Z"
   },
   {
    "duration": 15,
    "start_time": "2023-05-30T14:48:20.328Z"
   },
   {
    "duration": 9359,
    "start_time": "2023-05-30T14:48:20.345Z"
   },
   {
    "duration": 7,
    "start_time": "2023-05-30T14:48:29.706Z"
   },
   {
    "duration": 22,
    "start_time": "2023-05-30T14:48:29.716Z"
   },
   {
    "duration": 1226,
    "start_time": "2023-05-30T14:48:29.740Z"
   },
   {
    "duration": 8,
    "start_time": "2023-05-30T14:48:30.968Z"
   },
   {
    "duration": 622,
    "start_time": "2023-05-30T14:48:30.978Z"
   },
   {
    "duration": 40,
    "start_time": "2023-05-30T14:48:31.601Z"
   },
   {
    "duration": 24,
    "start_time": "2023-05-30T14:48:31.642Z"
   },
   {
    "duration": 21,
    "start_time": "2023-05-30T14:48:31.677Z"
   },
   {
    "duration": 42,
    "start_time": "2023-05-30T14:48:31.700Z"
   },
   {
    "duration": 41,
    "start_time": "2023-05-30T14:48:31.743Z"
   },
   {
    "duration": 26,
    "start_time": "2023-05-30T14:48:31.787Z"
   },
   {
    "duration": 6184,
    "start_time": "2023-05-30T14:48:31.815Z"
   },
   {
    "duration": 32,
    "start_time": "2023-05-30T14:48:38.001Z"
   },
   {
    "duration": 8,
    "start_time": "2023-05-30T14:48:38.034Z"
   },
   {
    "duration": 7,
    "start_time": "2023-05-30T14:48:38.043Z"
   },
   {
    "duration": 47,
    "start_time": "2023-05-30T14:48:38.051Z"
   },
   {
    "duration": 33,
    "start_time": "2023-05-30T14:51:37.481Z"
   },
   {
    "duration": 11,
    "start_time": "2023-05-30T14:54:34.055Z"
   },
   {
    "duration": 119,
    "start_time": "2023-05-30T15:16:05.986Z"
   },
   {
    "duration": 1492,
    "start_time": "2023-05-30T15:16:16.581Z"
   },
   {
    "duration": 3,
    "start_time": "2023-05-30T15:16:18.075Z"
   },
   {
    "duration": 432,
    "start_time": "2023-05-30T15:16:18.080Z"
   },
   {
    "duration": 35,
    "start_time": "2023-05-30T15:16:18.513Z"
   },
   {
    "duration": 38,
    "start_time": "2023-05-30T15:16:18.550Z"
   },
   {
    "duration": 132,
    "start_time": "2023-05-30T15:16:18.590Z"
   },
   {
    "duration": 17,
    "start_time": "2023-05-30T15:16:18.724Z"
   },
   {
    "duration": 9690,
    "start_time": "2023-05-30T15:16:18.742Z"
   },
   {
    "duration": 6,
    "start_time": "2023-05-30T15:16:28.434Z"
   },
   {
    "duration": 23,
    "start_time": "2023-05-30T15:16:28.441Z"
   },
   {
    "duration": 1197,
    "start_time": "2023-05-30T15:16:28.465Z"
   },
   {
    "duration": 3,
    "start_time": "2023-05-30T15:16:29.663Z"
   },
   {
    "duration": 477,
    "start_time": "2023-05-30T15:16:29.676Z"
   },
   {
    "duration": 134,
    "start_time": "2023-05-30T15:16:30.156Z"
   },
   {
    "duration": 3,
    "start_time": "2023-05-30T15:16:30.292Z"
   },
   {
    "duration": 58,
    "start_time": "2023-05-30T15:16:30.297Z"
   },
   {
    "duration": 47,
    "start_time": "2023-05-30T15:16:30.357Z"
   },
   {
    "duration": 42,
    "start_time": "2023-05-30T15:16:30.406Z"
   },
   {
    "duration": 35,
    "start_time": "2023-05-30T15:16:30.450Z"
   },
   {
    "duration": 6384,
    "start_time": "2023-05-30T15:16:30.487Z"
   },
   {
    "duration": 31,
    "start_time": "2023-05-30T15:16:36.873Z"
   },
   {
    "duration": 8,
    "start_time": "2023-05-30T15:16:36.905Z"
   },
   {
    "duration": 6,
    "start_time": "2023-05-30T15:16:36.915Z"
   },
   {
    "duration": 37,
    "start_time": "2023-05-30T15:16:36.922Z"
   },
   {
    "duration": 7,
    "start_time": "2023-05-30T15:19:07.568Z"
   },
   {
    "duration": 11,
    "start_time": "2023-05-30T15:20:10.637Z"
   },
   {
    "duration": 10,
    "start_time": "2023-05-30T15:22:10.520Z"
   },
   {
    "duration": 6215,
    "start_time": "2023-05-30T15:24:41.739Z"
   },
   {
    "duration": 36,
    "start_time": "2023-05-30T15:24:47.956Z"
   },
   {
    "duration": 8,
    "start_time": "2023-05-30T15:24:47.993Z"
   },
   {
    "duration": 1384,
    "start_time": "2023-05-30T15:25:07.728Z"
   },
   {
    "duration": 3,
    "start_time": "2023-05-30T15:25:09.114Z"
   },
   {
    "duration": 410,
    "start_time": "2023-05-30T15:25:09.118Z"
   },
   {
    "duration": 34,
    "start_time": "2023-05-30T15:25:09.530Z"
   },
   {
    "duration": 28,
    "start_time": "2023-05-30T15:25:09.565Z"
   },
   {
    "duration": 141,
    "start_time": "2023-05-30T15:25:09.595Z"
   },
   {
    "duration": 18,
    "start_time": "2023-05-30T15:25:09.738Z"
   },
   {
    "duration": 9635,
    "start_time": "2023-05-30T15:25:09.758Z"
   },
   {
    "duration": 6,
    "start_time": "2023-05-30T15:25:19.395Z"
   },
   {
    "duration": 15,
    "start_time": "2023-05-30T15:25:19.403Z"
   },
   {
    "duration": 1234,
    "start_time": "2023-05-30T15:25:19.420Z"
   },
   {
    "duration": 2,
    "start_time": "2023-05-30T15:25:20.656Z"
   },
   {
    "duration": 495,
    "start_time": "2023-05-30T15:25:20.660Z"
   },
   {
    "duration": 140,
    "start_time": "2023-05-30T15:25:21.158Z"
   },
   {
    "duration": 3,
    "start_time": "2023-05-30T15:25:21.300Z"
   },
   {
    "duration": 14,
    "start_time": "2023-05-30T15:25:21.304Z"
   },
   {
    "duration": 13,
    "start_time": "2023-05-30T15:25:21.320Z"
   },
   {
    "duration": 10,
    "start_time": "2023-05-30T15:25:21.335Z"
   },
   {
    "duration": 3,
    "start_time": "2023-05-30T15:25:21.346Z"
   },
   {
    "duration": 7079,
    "start_time": "2023-05-30T15:25:21.351Z"
   },
   {
    "duration": 47,
    "start_time": "2023-05-30T15:25:28.432Z"
   },
   {
    "duration": 8,
    "start_time": "2023-05-30T15:25:28.481Z"
   },
   {
    "duration": 7,
    "start_time": "2023-05-30T15:25:28.490Z"
   },
   {
    "duration": 26,
    "start_time": "2023-05-30T15:25:28.499Z"
   },
   {
    "duration": 6296,
    "start_time": "2023-05-30T15:28:55.392Z"
   },
   {
    "duration": 37,
    "start_time": "2023-05-30T15:29:01.690Z"
   },
   {
    "duration": 8,
    "start_time": "2023-05-30T15:29:13.039Z"
   },
   {
    "duration": 3,
    "start_time": "2023-05-30T15:31:16.694Z"
   },
   {
    "duration": 1447,
    "start_time": "2023-05-30T15:31:23.695Z"
   },
   {
    "duration": 4,
    "start_time": "2023-05-30T15:31:25.144Z"
   },
   {
    "duration": 422,
    "start_time": "2023-05-30T15:31:25.150Z"
   },
   {
    "duration": 36,
    "start_time": "2023-05-30T15:31:25.577Z"
   },
   {
    "duration": 21,
    "start_time": "2023-05-30T15:31:25.615Z"
   },
   {
    "duration": 156,
    "start_time": "2023-05-30T15:31:25.638Z"
   },
   {
    "duration": 17,
    "start_time": "2023-05-30T15:31:25.795Z"
   },
   {
    "duration": 9592,
    "start_time": "2023-05-30T15:31:25.813Z"
   },
   {
    "duration": 6,
    "start_time": "2023-05-30T15:31:35.407Z"
   },
   {
    "duration": 17,
    "start_time": "2023-05-30T15:31:35.417Z"
   },
   {
    "duration": 1261,
    "start_time": "2023-05-30T15:31:35.435Z"
   },
   {
    "duration": 3,
    "start_time": "2023-05-30T15:31:36.697Z"
   },
   {
    "duration": 548,
    "start_time": "2023-05-30T15:31:36.701Z"
   },
   {
    "duration": 137,
    "start_time": "2023-05-30T15:31:37.251Z"
   },
   {
    "duration": 4,
    "start_time": "2023-05-30T15:31:37.390Z"
   },
   {
    "duration": 23,
    "start_time": "2023-05-30T15:31:37.396Z"
   },
   {
    "duration": 32,
    "start_time": "2023-05-30T15:31:37.421Z"
   },
   {
    "duration": 22,
    "start_time": "2023-05-30T15:31:37.454Z"
   },
   {
    "duration": 32,
    "start_time": "2023-05-30T15:31:37.478Z"
   },
   {
    "duration": 142,
    "start_time": "2023-05-30T15:31:37.512Z"
   },
   {
    "duration": 0,
    "start_time": "2023-05-30T15:31:37.656Z"
   },
   {
    "duration": 0,
    "start_time": "2023-05-30T15:31:37.657Z"
   },
   {
    "duration": 0,
    "start_time": "2023-05-30T15:31:37.659Z"
   },
   {
    "duration": 7139,
    "start_time": "2023-05-30T15:33:16.309Z"
   },
   {
    "duration": 3,
    "start_time": "2023-05-30T15:33:32.878Z"
   },
   {
    "duration": 7088,
    "start_time": "2023-05-30T15:33:48.708Z"
   },
   {
    "duration": 1451,
    "start_time": "2023-05-30T15:34:03.281Z"
   },
   {
    "duration": 3,
    "start_time": "2023-05-30T15:34:04.734Z"
   },
   {
    "duration": 437,
    "start_time": "2023-05-30T15:34:04.739Z"
   },
   {
    "duration": 36,
    "start_time": "2023-05-30T15:34:05.179Z"
   },
   {
    "duration": 20,
    "start_time": "2023-05-30T15:34:05.217Z"
   },
   {
    "duration": 153,
    "start_time": "2023-05-30T15:34:05.238Z"
   },
   {
    "duration": 18,
    "start_time": "2023-05-30T15:34:05.393Z"
   },
   {
    "duration": 9878,
    "start_time": "2023-05-30T15:34:05.412Z"
   },
   {
    "duration": 5,
    "start_time": "2023-05-30T15:34:15.292Z"
   },
   {
    "duration": 10,
    "start_time": "2023-05-30T15:34:15.300Z"
   },
   {
    "duration": 1310,
    "start_time": "2023-05-30T15:34:15.312Z"
   },
   {
    "duration": 3,
    "start_time": "2023-05-30T15:34:16.624Z"
   },
   {
    "duration": 534,
    "start_time": "2023-05-30T15:34:16.629Z"
   },
   {
    "duration": 137,
    "start_time": "2023-05-30T15:34:17.164Z"
   },
   {
    "duration": 4,
    "start_time": "2023-05-30T15:34:17.302Z"
   },
   {
    "duration": 10,
    "start_time": "2023-05-30T15:34:17.307Z"
   },
   {
    "duration": 10,
    "start_time": "2023-05-30T15:34:17.318Z"
   },
   {
    "duration": 21,
    "start_time": "2023-05-30T15:34:17.330Z"
   },
   {
    "duration": 25,
    "start_time": "2023-05-30T15:34:17.352Z"
   },
   {
    "duration": 7478,
    "start_time": "2023-05-30T15:34:17.379Z"
   },
   {
    "duration": 0,
    "start_time": "2023-05-30T15:34:24.859Z"
   },
   {
    "duration": 0,
    "start_time": "2023-05-30T15:34:24.861Z"
   },
   {
    "duration": 0,
    "start_time": "2023-05-30T15:34:24.862Z"
   },
   {
    "duration": 10,
    "start_time": "2023-05-30T15:35:05.757Z"
   },
   {
    "duration": 12,
    "start_time": "2023-05-30T15:35:10.424Z"
   },
   {
    "duration": 14,
    "start_time": "2023-05-30T15:35:29.024Z"
   },
   {
    "duration": 7331,
    "start_time": "2023-05-30T15:35:49.511Z"
   },
   {
    "duration": 9,
    "start_time": "2023-05-30T15:35:59.641Z"
   },
   {
    "duration": 4,
    "start_time": "2023-05-30T15:37:19.396Z"
   },
   {
    "duration": 7238,
    "start_time": "2023-05-30T15:37:32.141Z"
   },
   {
    "duration": 8,
    "start_time": "2023-05-30T15:37:40.713Z"
   },
   {
    "duration": 3,
    "start_time": "2023-05-30T15:42:52.497Z"
   },
   {
    "duration": 6440,
    "start_time": "2023-05-30T15:42:59.879Z"
   },
   {
    "duration": 33,
    "start_time": "2023-05-30T15:43:07.481Z"
   },
   {
    "duration": 8,
    "start_time": "2023-05-30T15:43:12.731Z"
   },
   {
    "duration": 180,
    "start_time": "2023-05-30T15:50:03.415Z"
   },
   {
    "duration": 7628,
    "start_time": "2023-05-30T15:52:36.632Z"
   },
   {
    "duration": 9,
    "start_time": "2023-05-30T15:52:48.649Z"
   },
   {
    "duration": 7616,
    "start_time": "2023-05-30T15:53:52.189Z"
   },
   {
    "duration": 10,
    "start_time": "2023-05-30T15:53:59.806Z"
   },
   {
    "duration": 4,
    "start_time": "2023-05-30T15:55:06.610Z"
   },
   {
    "duration": 22,
    "start_time": "2023-05-30T15:55:09.961Z"
   },
   {
    "duration": 20,
    "start_time": "2023-05-30T15:55:25.424Z"
   },
   {
    "duration": 23,
    "start_time": "2023-05-30T15:55:34.250Z"
   },
   {
    "duration": 4,
    "start_time": "2023-05-30T15:55:55.009Z"
   },
   {
    "duration": 7856,
    "start_time": "2023-05-30T15:56:04.168Z"
   },
   {
    "duration": 8,
    "start_time": "2023-05-30T15:56:12.026Z"
   },
   {
    "duration": 5,
    "start_time": "2023-05-30T15:57:35.438Z"
   },
   {
    "duration": 12232,
    "start_time": "2023-05-30T15:57:40.068Z"
   },
   {
    "duration": 8,
    "start_time": "2023-05-30T15:57:52.302Z"
   },
   {
    "duration": 5,
    "start_time": "2023-05-30T15:58:02.833Z"
   },
   {
    "duration": 12624,
    "start_time": "2023-05-30T15:58:08.567Z"
   },
   {
    "duration": 7,
    "start_time": "2023-05-30T15:58:21.193Z"
   },
   {
    "duration": 16,
    "start_time": "2023-05-30T16:01:37.418Z"
   },
   {
    "duration": 4,
    "start_time": "2023-05-30T16:01:43.300Z"
   },
   {
    "duration": 12539,
    "start_time": "2023-05-30T16:01:46.652Z"
   },
   {
    "duration": 12795,
    "start_time": "2023-05-30T16:02:19.122Z"
   },
   {
    "duration": 8,
    "start_time": "2023-05-30T16:02:32.892Z"
   },
   {
    "duration": 1504,
    "start_time": "2023-05-30T16:02:45.791Z"
   },
   {
    "duration": 2,
    "start_time": "2023-05-30T16:02:47.297Z"
   },
   {
    "duration": 1493,
    "start_time": "2023-05-30T16:02:51.079Z"
   },
   {
    "duration": 4,
    "start_time": "2023-05-30T16:02:52.574Z"
   },
   {
    "duration": 391,
    "start_time": "2023-05-30T16:02:52.579Z"
   },
   {
    "duration": 37,
    "start_time": "2023-05-30T16:02:52.972Z"
   },
   {
    "duration": 21,
    "start_time": "2023-05-30T16:02:53.010Z"
   },
   {
    "duration": 139,
    "start_time": "2023-05-30T16:02:53.033Z"
   },
   {
    "duration": 16,
    "start_time": "2023-05-30T16:02:53.176Z"
   },
   {
    "duration": 9432,
    "start_time": "2023-05-30T16:02:53.193Z"
   },
   {
    "duration": 4,
    "start_time": "2023-05-30T16:03:02.626Z"
   },
   {
    "duration": 30,
    "start_time": "2023-05-30T16:03:02.634Z"
   },
   {
    "duration": 1206,
    "start_time": "2023-05-30T16:03:02.665Z"
   },
   {
    "duration": 2,
    "start_time": "2023-05-30T16:03:03.877Z"
   },
   {
    "duration": 556,
    "start_time": "2023-05-30T16:03:03.880Z"
   },
   {
    "duration": 120,
    "start_time": "2023-05-30T16:03:04.437Z"
   },
   {
    "duration": 4,
    "start_time": "2023-05-30T16:03:04.559Z"
   },
   {
    "duration": 6,
    "start_time": "2023-05-30T16:03:04.577Z"
   },
   {
    "duration": 32,
    "start_time": "2023-05-30T16:03:04.585Z"
   },
   {
    "duration": 28,
    "start_time": "2023-05-30T16:03:04.618Z"
   },
   {
    "duration": 25,
    "start_time": "2023-05-30T16:03:04.648Z"
   },
   {
    "duration": 12044,
    "start_time": "2023-05-30T16:03:04.674Z"
   },
   {
    "duration": 116,
    "start_time": "2023-05-30T16:03:16.720Z"
   },
   {
    "duration": 1,
    "start_time": "2023-05-30T16:03:16.837Z"
   },
   {
    "duration": 0,
    "start_time": "2023-05-30T16:03:16.839Z"
   },
   {
    "duration": 12,
    "start_time": "2023-05-30T16:03:49.937Z"
   },
   {
    "duration": 9,
    "start_time": "2023-05-30T16:04:02.636Z"
   },
   {
    "duration": 5,
    "start_time": "2023-05-30T16:04:45.506Z"
   },
   {
    "duration": 8,
    "start_time": "2023-05-30T16:05:08.441Z"
   },
   {
    "duration": 5,
    "start_time": "2023-05-30T16:05:14.989Z"
   },
   {
    "duration": 25,
    "start_time": "2023-05-30T16:05:20.878Z"
   },
   {
    "duration": 20,
    "start_time": "2023-05-30T16:05:27.956Z"
   },
   {
    "duration": 11,
    "start_time": "2023-05-30T16:05:57.927Z"
   },
   {
    "duration": 31,
    "start_time": "2023-05-30T16:06:31.775Z"
   },
   {
    "duration": 4,
    "start_time": "2023-05-30T16:06:59.379Z"
   },
   {
    "duration": 19,
    "start_time": "2023-05-30T16:07:02.553Z"
   },
   {
    "duration": 4,
    "start_time": "2023-05-30T16:08:07.293Z"
   },
   {
    "duration": 18,
    "start_time": "2023-05-30T16:08:08.909Z"
   },
   {
    "duration": 10,
    "start_time": "2023-05-30T16:08:41.521Z"
   },
   {
    "duration": 4,
    "start_time": "2023-05-30T16:09:25.322Z"
   },
   {
    "duration": 5,
    "start_time": "2023-05-30T16:10:05.188Z"
   },
   {
    "duration": 5,
    "start_time": "2023-05-30T16:10:58.237Z"
   },
   {
    "duration": 24,
    "start_time": "2023-05-30T16:11:03.092Z"
   },
   {
    "duration": 5,
    "start_time": "2023-05-30T16:11:42.957Z"
   },
   {
    "duration": 22,
    "start_time": "2023-05-30T16:11:45.784Z"
   },
   {
    "duration": 5,
    "start_time": "2023-05-30T16:11:58.672Z"
   },
   {
    "duration": 37,
    "start_time": "2023-05-30T16:12:01.407Z"
   },
   {
    "duration": 4,
    "start_time": "2023-05-30T16:12:16.172Z"
   },
   {
    "duration": 34,
    "start_time": "2023-05-30T16:12:17.376Z"
   },
   {
    "duration": 4,
    "start_time": "2023-05-30T16:12:38.776Z"
   },
   {
    "duration": 28,
    "start_time": "2023-05-30T16:12:39.909Z"
   },
   {
    "duration": 26,
    "start_time": "2023-05-30T16:13:20.306Z"
   },
   {
    "duration": 90,
    "start_time": "2023-05-30T16:16:38.492Z"
   },
   {
    "duration": 1599,
    "start_time": "2023-05-30T16:19:15.886Z"
   },
   {
    "duration": 2,
    "start_time": "2023-05-30T16:19:17.487Z"
   },
   {
    "duration": 422,
    "start_time": "2023-05-30T16:19:17.491Z"
   },
   {
    "duration": 36,
    "start_time": "2023-05-30T16:19:17.915Z"
   },
   {
    "duration": 37,
    "start_time": "2023-05-30T16:19:17.953Z"
   },
   {
    "duration": 141,
    "start_time": "2023-05-30T16:19:17.992Z"
   },
   {
    "duration": 20,
    "start_time": "2023-05-30T16:19:18.136Z"
   },
   {
    "duration": 9474,
    "start_time": "2023-05-30T16:19:18.158Z"
   },
   {
    "duration": 5,
    "start_time": "2023-05-30T16:19:27.633Z"
   },
   {
    "duration": 14,
    "start_time": "2023-05-30T16:19:27.642Z"
   },
   {
    "duration": 1195,
    "start_time": "2023-05-30T16:19:27.657Z"
   },
   {
    "duration": 2,
    "start_time": "2023-05-30T16:19:28.854Z"
   },
   {
    "duration": 8,
    "start_time": "2023-05-30T16:19:28.857Z"
   },
   {
    "duration": 4,
    "start_time": "2023-05-30T16:19:28.876Z"
   },
   {
    "duration": 4022,
    "start_time": "2023-05-30T16:19:28.882Z"
   },
   {
    "duration": 0,
    "start_time": "2023-05-30T16:19:32.906Z"
   },
   {
    "duration": 0,
    "start_time": "2023-05-30T16:19:32.907Z"
   },
   {
    "duration": 0,
    "start_time": "2023-05-30T16:19:32.908Z"
   },
   {
    "duration": 0,
    "start_time": "2023-05-30T16:19:32.909Z"
   },
   {
    "duration": 0,
    "start_time": "2023-05-30T16:19:32.910Z"
   },
   {
    "duration": 0,
    "start_time": "2023-05-30T16:19:32.911Z"
   },
   {
    "duration": 6,
    "start_time": "2023-05-30T16:20:29.072Z"
   },
   {
    "duration": 1658,
    "start_time": "2023-05-30T16:20:37.082Z"
   },
   {
    "duration": 3,
    "start_time": "2023-05-30T16:20:38.742Z"
   },
   {
    "duration": 402,
    "start_time": "2023-05-30T16:20:38.747Z"
   },
   {
    "duration": 38,
    "start_time": "2023-05-30T16:20:39.151Z"
   },
   {
    "duration": 20,
    "start_time": "2023-05-30T16:20:39.190Z"
   },
   {
    "duration": 137,
    "start_time": "2023-05-30T16:20:39.212Z"
   },
   {
    "duration": 26,
    "start_time": "2023-05-30T16:20:39.351Z"
   },
   {
    "duration": 9372,
    "start_time": "2023-05-30T16:20:39.378Z"
   },
   {
    "duration": 5,
    "start_time": "2023-05-30T16:20:48.752Z"
   },
   {
    "duration": 18,
    "start_time": "2023-05-30T16:20:48.759Z"
   },
   {
    "duration": 1187,
    "start_time": "2023-05-30T16:20:48.778Z"
   },
   {
    "duration": 10,
    "start_time": "2023-05-30T16:20:49.967Z"
   },
   {
    "duration": 7,
    "start_time": "2023-05-30T16:20:49.978Z"
   },
   {
    "duration": 8,
    "start_time": "2023-05-30T16:20:49.987Z"
   },
   {
    "duration": 13,
    "start_time": "2023-05-30T16:20:49.997Z"
   },
   {
    "duration": 3846,
    "start_time": "2023-05-30T16:20:50.012Z"
   },
   {
    "duration": 0,
    "start_time": "2023-05-30T16:20:53.860Z"
   },
   {
    "duration": 0,
    "start_time": "2023-05-30T16:20:53.861Z"
   },
   {
    "duration": 0,
    "start_time": "2023-05-30T16:20:53.862Z"
   },
   {
    "duration": 0,
    "start_time": "2023-05-30T16:20:53.863Z"
   },
   {
    "duration": 0,
    "start_time": "2023-05-30T16:20:53.864Z"
   },
   {
    "duration": 10,
    "start_time": "2023-05-30T16:21:22.458Z"
   },
   {
    "duration": 4,
    "start_time": "2023-05-30T16:21:24.479Z"
   },
   {
    "duration": 13075,
    "start_time": "2023-05-30T16:21:25.580Z"
   },
   {
    "duration": 8,
    "start_time": "2023-05-30T16:21:38.657Z"
   },
   {
    "duration": 11,
    "start_time": "2023-05-30T16:21:38.666Z"
   },
   {
    "duration": 28,
    "start_time": "2023-05-30T16:21:38.679Z"
   },
   {
    "duration": 1484,
    "start_time": "2023-05-30T16:23:28.419Z"
   },
   {
    "duration": 3,
    "start_time": "2023-05-30T16:23:29.905Z"
   },
   {
    "duration": 443,
    "start_time": "2023-05-30T16:23:29.910Z"
   },
   {
    "duration": 41,
    "start_time": "2023-05-30T16:23:30.355Z"
   },
   {
    "duration": 21,
    "start_time": "2023-05-30T16:23:30.397Z"
   },
   {
    "duration": 157,
    "start_time": "2023-05-30T16:23:30.420Z"
   },
   {
    "duration": 17,
    "start_time": "2023-05-30T16:23:30.579Z"
   },
   {
    "duration": 10072,
    "start_time": "2023-05-30T16:23:30.597Z"
   },
   {
    "duration": 4,
    "start_time": "2023-05-30T16:23:40.676Z"
   },
   {
    "duration": 50,
    "start_time": "2023-05-30T16:23:40.683Z"
   },
   {
    "duration": 1238,
    "start_time": "2023-05-30T16:23:40.735Z"
   },
   {
    "duration": 3,
    "start_time": "2023-05-30T16:23:41.974Z"
   },
   {
    "duration": 32,
    "start_time": "2023-05-30T16:23:41.979Z"
   },
   {
    "duration": 28,
    "start_time": "2023-05-30T16:23:42.013Z"
   },
   {
    "duration": 45,
    "start_time": "2023-05-30T16:23:42.043Z"
   },
   {
    "duration": 25,
    "start_time": "2023-05-30T16:23:42.089Z"
   },
   {
    "duration": 35,
    "start_time": "2023-05-30T16:23:42.116Z"
   },
   {
    "duration": 13197,
    "start_time": "2023-05-30T16:23:42.153Z"
   },
   {
    "duration": 9,
    "start_time": "2023-05-30T16:23:55.352Z"
   },
   {
    "duration": 15,
    "start_time": "2023-05-30T16:23:55.362Z"
   },
   {
    "duration": 32,
    "start_time": "2023-05-30T16:23:55.379Z"
   },
   {
    "duration": 1423,
    "start_time": "2023-05-30T16:24:43.915Z"
   },
   {
    "duration": 3,
    "start_time": "2023-05-30T16:24:45.340Z"
   },
   {
    "duration": 421,
    "start_time": "2023-05-30T16:24:45.344Z"
   },
   {
    "duration": 39,
    "start_time": "2023-05-30T16:24:45.766Z"
   },
   {
    "duration": 20,
    "start_time": "2023-05-30T16:24:45.807Z"
   },
   {
    "duration": 139,
    "start_time": "2023-05-30T16:24:45.828Z"
   },
   {
    "duration": 21,
    "start_time": "2023-05-30T16:24:45.969Z"
   },
   {
    "duration": 9561,
    "start_time": "2023-05-30T16:24:45.992Z"
   },
   {
    "duration": 5,
    "start_time": "2023-05-30T16:24:55.554Z"
   },
   {
    "duration": 8,
    "start_time": "2023-05-30T16:24:55.561Z"
   },
   {
    "duration": 1303,
    "start_time": "2023-05-30T16:24:55.578Z"
   },
   {
    "duration": 3,
    "start_time": "2023-05-30T16:24:56.883Z"
   },
   {
    "duration": 8,
    "start_time": "2023-05-30T16:24:56.887Z"
   },
   {
    "duration": 9,
    "start_time": "2023-05-30T16:24:56.897Z"
   },
   {
    "duration": 12,
    "start_time": "2023-05-30T16:24:56.908Z"
   },
   {
    "duration": 10,
    "start_time": "2023-05-30T16:24:56.922Z"
   },
   {
    "duration": 6,
    "start_time": "2023-05-30T16:24:56.934Z"
   },
   {
    "duration": 13419,
    "start_time": "2023-05-30T16:24:56.942Z"
   },
   {
    "duration": 8,
    "start_time": "2023-05-30T16:25:10.363Z"
   },
   {
    "duration": 5,
    "start_time": "2023-05-30T16:25:10.377Z"
   },
   {
    "duration": 33,
    "start_time": "2023-05-30T16:25:10.384Z"
   },
   {
    "duration": 26,
    "start_time": "2023-05-30T16:25:53.694Z"
   },
   {
    "duration": 1664,
    "start_time": "2023-05-30T16:26:02.248Z"
   },
   {
    "duration": 3,
    "start_time": "2023-05-30T16:26:03.914Z"
   },
   {
    "duration": 414,
    "start_time": "2023-05-30T16:26:03.918Z"
   },
   {
    "duration": 48,
    "start_time": "2023-05-30T16:26:04.333Z"
   },
   {
    "duration": 21,
    "start_time": "2023-05-30T16:26:04.383Z"
   },
   {
    "duration": 138,
    "start_time": "2023-05-30T16:26:04.406Z"
   },
   {
    "duration": 17,
    "start_time": "2023-05-30T16:26:04.545Z"
   },
   {
    "duration": 10107,
    "start_time": "2023-05-30T16:26:04.564Z"
   },
   {
    "duration": 5,
    "start_time": "2023-05-30T16:26:14.676Z"
   },
   {
    "duration": 22,
    "start_time": "2023-05-30T16:26:14.682Z"
   },
   {
    "duration": 1176,
    "start_time": "2023-05-30T16:26:14.706Z"
   },
   {
    "duration": 2,
    "start_time": "2023-05-30T16:26:15.884Z"
   },
   {
    "duration": 8,
    "start_time": "2023-05-30T16:26:15.888Z"
   },
   {
    "duration": 4,
    "start_time": "2023-05-30T16:26:15.898Z"
   },
   {
    "duration": 12,
    "start_time": "2023-05-30T16:26:15.904Z"
   },
   {
    "duration": 10,
    "start_time": "2023-05-30T16:26:15.918Z"
   },
   {
    "duration": 4,
    "start_time": "2023-05-30T16:26:15.930Z"
   },
   {
    "duration": 13706,
    "start_time": "2023-05-30T16:26:15.935Z"
   },
   {
    "duration": 10,
    "start_time": "2023-05-30T16:26:29.643Z"
   },
   {
    "duration": 5,
    "start_time": "2023-05-30T16:26:29.654Z"
   },
   {
    "duration": 41,
    "start_time": "2023-05-30T16:26:29.660Z"
   },
   {
    "duration": 1455,
    "start_time": "2023-05-30T16:29:36.933Z"
   },
   {
    "duration": 4,
    "start_time": "2023-05-30T16:29:38.390Z"
   },
   {
    "duration": 403,
    "start_time": "2023-05-30T16:29:38.395Z"
   },
   {
    "duration": 34,
    "start_time": "2023-05-30T16:29:38.800Z"
   },
   {
    "duration": 19,
    "start_time": "2023-05-30T16:29:38.836Z"
   },
   {
    "duration": 139,
    "start_time": "2023-05-30T16:29:38.857Z"
   },
   {
    "duration": 17,
    "start_time": "2023-05-30T16:29:38.997Z"
   },
   {
    "duration": 9574,
    "start_time": "2023-05-30T16:29:39.016Z"
   },
   {
    "duration": 7,
    "start_time": "2023-05-30T16:29:48.591Z"
   },
   {
    "duration": 8,
    "start_time": "2023-05-30T16:29:48.599Z"
   },
   {
    "duration": 1256,
    "start_time": "2023-05-30T16:29:48.609Z"
   },
   {
    "duration": 3,
    "start_time": "2023-05-30T16:29:49.866Z"
   },
   {
    "duration": 7,
    "start_time": "2023-05-30T16:29:49.870Z"
   },
   {
    "duration": 5,
    "start_time": "2023-05-30T16:29:49.880Z"
   },
   {
    "duration": 8,
    "start_time": "2023-05-30T16:29:49.886Z"
   },
   {
    "duration": 11,
    "start_time": "2023-05-30T16:29:49.896Z"
   },
   {
    "duration": 4,
    "start_time": "2023-05-30T16:29:49.909Z"
   },
   {
    "duration": 3080,
    "start_time": "2023-05-31T11:20:32.940Z"
   },
   {
    "duration": 3,
    "start_time": "2023-05-31T11:20:36.022Z"
   },
   {
    "duration": 1645,
    "start_time": "2023-05-31T11:20:36.027Z"
   },
   {
    "duration": 68,
    "start_time": "2023-05-31T11:20:37.674Z"
   },
   {
    "duration": 53,
    "start_time": "2023-05-31T11:20:37.744Z"
   },
   {
    "duration": 130,
    "start_time": "2023-05-31T11:20:37.799Z"
   },
   {
    "duration": 24,
    "start_time": "2023-05-31T11:20:37.930Z"
   },
   {
    "duration": 14507,
    "start_time": "2023-05-31T11:20:37.956Z"
   },
   {
    "duration": 7,
    "start_time": "2023-05-31T11:20:52.465Z"
   },
   {
    "duration": 19,
    "start_time": "2023-05-31T11:20:52.474Z"
   },
   {
    "duration": 1761,
    "start_time": "2023-05-31T11:20:52.495Z"
   },
   {
    "duration": 3,
    "start_time": "2023-05-31T11:20:54.258Z"
   },
   {
    "duration": 13,
    "start_time": "2023-05-31T11:20:54.263Z"
   },
   {
    "duration": 13,
    "start_time": "2023-05-31T11:20:54.278Z"
   },
   {
    "duration": 13,
    "start_time": "2023-05-31T11:20:54.293Z"
   },
   {
    "duration": 11,
    "start_time": "2023-05-31T11:20:54.308Z"
   },
   {
    "duration": 4,
    "start_time": "2023-05-31T11:20:54.321Z"
   },
   {
    "duration": 12599,
    "start_time": "2023-05-31T11:20:54.351Z"
   },
   {
    "duration": 7,
    "start_time": "2023-05-31T11:21:06.952Z"
   },
   {
    "duration": 4,
    "start_time": "2023-05-31T11:21:06.961Z"
   },
   {
    "duration": 47,
    "start_time": "2023-05-31T11:21:06.967Z"
   },
   {
    "duration": 6,
    "start_time": "2023-05-31T11:23:22.468Z"
   },
   {
    "duration": 6,
    "start_time": "2023-05-31T11:23:34.479Z"
   }
  ],
  "kernelspec": {
   "display_name": "Python 3 (ipykernel)",
   "language": "python",
   "name": "python3"
  },
  "language_info": {
   "codemirror_mode": {
    "name": "ipython",
    "version": 3
   },
   "file_extension": ".py",
   "mimetype": "text/x-python",
   "name": "python",
   "nbconvert_exporter": "python",
   "pygments_lexer": "ipython3",
   "version": "3.10.9"
  },
  "toc": {
   "base_numbering": 1,
   "nav_menu": {},
   "number_sections": true,
   "sideBar": true,
   "skip_h1_title": true,
   "title_cell": "Table of Contents",
   "title_sidebar": "Contents",
   "toc_cell": false,
   "toc_position": {},
   "toc_section_display": true,
   "toc_window_display": true
  }
 },
 "nbformat": 4,
 "nbformat_minor": 2
}
