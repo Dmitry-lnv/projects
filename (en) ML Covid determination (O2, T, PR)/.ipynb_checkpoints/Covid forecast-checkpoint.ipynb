{
 "cells": [
  {
   "cell_type": "markdown",
   "id": "b619c794",
   "metadata": {},
   "source": [
    "# Covid determination"
   ]
  },
  {
   "cell_type": "markdown",
   "id": "1046488a",
   "metadata": {},
   "source": [
    "## Description\n",
    "\n",
    "### Task\n",
    "\n",
    "Need to create ML model for determination Covid-19 using Temperature, O2 saturation and Pressure.\n",
    "\n",
    "Synthetic data will be used for teaching ML models.\n",
    "Non synthetic data will be used for testing the best model.\n",
    "\n",
    "**Metrics:**\n",
    "\n",
    "   - main metrics - Accuracy\n",
    "   - additional metrics - F1 score\n",
    "\n",
    "**Dataset contains:**\n",
    "   - temerature\n",
    "   - O2 saturation\n",
    "   - pulse rate\n",
    "\n",
    "**Data sourse:** \n",
    "   - www.kaggle.com - for synthetic data\n",
    "   - https://zenodo.org/record/4766192 - for non synthetic data"
   ]
  },
  {
   "cell_type": "markdown",
   "id": "2f262da8",
   "metadata": {},
   "source": [
    "## 0. Importing libraries and adding constants"
   ]
  },
  {
   "cell_type": "code",
   "execution_count": 1,
   "id": "e3a20b9d",
   "metadata": {},
   "outputs": [
    {
     "name": "stderr",
     "output_type": "stream",
     "text": [
      "Using `tqdm.autonotebook.tqdm` in notebook mode. Use `tqdm.tqdm` instead to force console mode (e.g. in jupyter console)\n"
     ]
    }
   ],
   "source": [
    "import pandas as pd\n",
    "import matplotlib.pyplot as plt\n",
    "import seaborn as sns\n",
    "import phik\n",
    "\n",
    "\n",
    "from sklearn.model_selection import train_test_split\n",
    "from sklearn.preprocessing import StandardScaler\n",
    "\n",
    "\n",
    "from sklearn.metrics import confusion_matrix, recall_score, f1_score, accuracy_score\n",
    "from sklearn.tree import DecisionTreeClassifier\n",
    "from sklearn.linear_model import LogisticRegression\n",
    "from sklearn.ensemble import RandomForestClassifier\n",
    "import lightgbm as lgb\n",
    "from sklearn.model_selection import GridSearchCV\n",
    "from sklearn.tree import plot_tree\n",
    "import shap\n",
    "import time\n"
   ]
  },
  {
   "cell_type": "code",
   "execution_count": 2,
   "id": "14715cd5",
   "metadata": {},
   "outputs": [],
   "source": [
    "RS = 12345 # random state"
   ]
  },
  {
   "cell_type": "markdown",
   "id": "d615cf0e",
   "metadata": {},
   "source": [
    "## 1. Getting to know the data"
   ]
  },
  {
   "cell_type": "code",
   "execution_count": 3,
   "id": "3417c4ef",
   "metadata": {},
   "outputs": [
    {
     "data": {
      "text/html": [
       "<div>\n",
       "<style scoped>\n",
       "    .dataframe tbody tr th:only-of-type {\n",
       "        vertical-align: middle;\n",
       "    }\n",
       "\n",
       "    .dataframe tbody tr th {\n",
       "        vertical-align: top;\n",
       "    }\n",
       "\n",
       "    .dataframe thead th {\n",
       "        text-align: right;\n",
       "    }\n",
       "</style>\n",
       "<table border=\"1\" class=\"dataframe\">\n",
       "  <thead>\n",
       "    <tr style=\"text-align: right;\">\n",
       "      <th></th>\n",
       "      <th>ID</th>\n",
       "      <th>Oxygen</th>\n",
       "      <th>PulseRate</th>\n",
       "      <th>Temperature</th>\n",
       "      <th>Result</th>\n",
       "    </tr>\n",
       "  </thead>\n",
       "  <tbody>\n",
       "    <tr>\n",
       "      <th>0</th>\n",
       "      <td>0</td>\n",
       "      <td>98.0</td>\n",
       "      <td>65.0</td>\n",
       "      <td>95.0</td>\n",
       "      <td>Negative</td>\n",
       "    </tr>\n",
       "    <tr>\n",
       "      <th>1</th>\n",
       "      <td>1</td>\n",
       "      <td>96.0</td>\n",
       "      <td>92.0</td>\n",
       "      <td>95.0</td>\n",
       "      <td>Negative</td>\n",
       "    </tr>\n",
       "    <tr>\n",
       "      <th>2</th>\n",
       "      <td>2</td>\n",
       "      <td>95.0</td>\n",
       "      <td>92.0</td>\n",
       "      <td>99.0</td>\n",
       "      <td>Negative</td>\n",
       "    </tr>\n",
       "    <tr>\n",
       "      <th>3</th>\n",
       "      <td>3</td>\n",
       "      <td>97.0</td>\n",
       "      <td>56.0</td>\n",
       "      <td>96.0</td>\n",
       "      <td>Negative</td>\n",
       "    </tr>\n",
       "    <tr>\n",
       "      <th>4</th>\n",
       "      <td>4</td>\n",
       "      <td>88.0</td>\n",
       "      <td>94.0</td>\n",
       "      <td>98.0</td>\n",
       "      <td>Positive</td>\n",
       "    </tr>\n",
       "    <tr>\n",
       "      <th>...</th>\n",
       "      <td>...</td>\n",
       "      <td>...</td>\n",
       "      <td>...</td>\n",
       "      <td>...</td>\n",
       "      <td>...</td>\n",
       "    </tr>\n",
       "    <tr>\n",
       "      <th>9997</th>\n",
       "      <td>9997</td>\n",
       "      <td>99.0</td>\n",
       "      <td>56.0</td>\n",
       "      <td>105.0</td>\n",
       "      <td>Negative</td>\n",
       "    </tr>\n",
       "    <tr>\n",
       "      <th>9998</th>\n",
       "      <td>9998</td>\n",
       "      <td>92.0</td>\n",
       "      <td>49.0</td>\n",
       "      <td>98.0</td>\n",
       "      <td>Positive</td>\n",
       "    </tr>\n",
       "    <tr>\n",
       "      <th>9999</th>\n",
       "      <td>9999</td>\n",
       "      <td>85.0</td>\n",
       "      <td>52.0</td>\n",
       "      <td>99.0</td>\n",
       "      <td>Positive</td>\n",
       "    </tr>\n",
       "    <tr>\n",
       "      <th>10000</th>\n",
       "      <td>NaN</td>\n",
       "      <td>NaN</td>\n",
       "      <td>NaN</td>\n",
       "      <td>NaN</td>\n",
       "      <td>NaN</td>\n",
       "    </tr>\n",
       "    <tr>\n",
       "      <th>10001</th>\n",
       "      <td>Covid-19 Temperature, Oxygen &amp; Pulse Rate read...</td>\n",
       "      <td>NaN</td>\n",
       "      <td>NaN</td>\n",
       "      <td>NaN</td>\n",
       "      <td>NaN</td>\n",
       "    </tr>\n",
       "  </tbody>\n",
       "</table>\n",
       "<p>10002 rows × 5 columns</p>\n",
       "</div>"
      ],
      "text/plain": [
       "                                                      ID  Oxygen  PulseRate  \\\n",
       "0                                                      0    98.0       65.0   \n",
       "1                                                      1    96.0       92.0   \n",
       "2                                                      2    95.0       92.0   \n",
       "3                                                      3    97.0       56.0   \n",
       "4                                                      4    88.0       94.0   \n",
       "...                                                  ...     ...        ...   \n",
       "9997                                                9997    99.0       56.0   \n",
       "9998                                                9998    92.0       49.0   \n",
       "9999                                                9999    85.0       52.0   \n",
       "10000                                                NaN     NaN        NaN   \n",
       "10001  Covid-19 Temperature, Oxygen & Pulse Rate read...     NaN        NaN   \n",
       "\n",
       "       Temperature    Result  \n",
       "0             95.0  Negative  \n",
       "1             95.0  Negative  \n",
       "2             99.0  Negative  \n",
       "3             96.0  Negative  \n",
       "4             98.0  Positive  \n",
       "...            ...       ...  \n",
       "9997         105.0  Negative  \n",
       "9998          98.0  Positive  \n",
       "9999          99.0  Positive  \n",
       "10000          NaN       NaN  \n",
       "10001          NaN       NaN  \n",
       "\n",
       "[10002 rows x 5 columns]"
      ]
     },
     "metadata": {},
     "output_type": "display_data"
    }
   ],
   "source": [
    "df = pd.read_csv ('/Users/dmitry/Desktop/python/covir prediction (T,O2,p)/qt_dataset.csv',\n",
    "                  encoding='windows-1252')\n",
    "display(df)"
   ]
  },
  {
   "cell_type": "code",
   "execution_count": 4,
   "id": "3b9a70f3",
   "metadata": {},
   "outputs": [
    {
     "data": {
      "text/html": [
       "<div>\n",
       "<style scoped>\n",
       "    .dataframe tbody tr th:only-of-type {\n",
       "        vertical-align: middle;\n",
       "    }\n",
       "\n",
       "    .dataframe tbody tr th {\n",
       "        vertical-align: top;\n",
       "    }\n",
       "\n",
       "    .dataframe thead th {\n",
       "        text-align: right;\n",
       "    }\n",
       "</style>\n",
       "<table border=\"1\" class=\"dataframe\">\n",
       "  <thead>\n",
       "    <tr style=\"text-align: right;\">\n",
       "      <th></th>\n",
       "      <th>Oxygen</th>\n",
       "      <th>PulseRate</th>\n",
       "      <th>Temperature</th>\n",
       "      <th>Result</th>\n",
       "    </tr>\n",
       "  </thead>\n",
       "  <tbody>\n",
       "    <tr>\n",
       "      <th>0</th>\n",
       "      <td>98.0</td>\n",
       "      <td>65.0</td>\n",
       "      <td>95.0</td>\n",
       "      <td>Negative</td>\n",
       "    </tr>\n",
       "    <tr>\n",
       "      <th>1</th>\n",
       "      <td>96.0</td>\n",
       "      <td>92.0</td>\n",
       "      <td>95.0</td>\n",
       "      <td>Negative</td>\n",
       "    </tr>\n",
       "    <tr>\n",
       "      <th>2</th>\n",
       "      <td>95.0</td>\n",
       "      <td>92.0</td>\n",
       "      <td>99.0</td>\n",
       "      <td>Negative</td>\n",
       "    </tr>\n",
       "    <tr>\n",
       "      <th>3</th>\n",
       "      <td>97.0</td>\n",
       "      <td>56.0</td>\n",
       "      <td>96.0</td>\n",
       "      <td>Negative</td>\n",
       "    </tr>\n",
       "    <tr>\n",
       "      <th>4</th>\n",
       "      <td>88.0</td>\n",
       "      <td>94.0</td>\n",
       "      <td>98.0</td>\n",
       "      <td>Positive</td>\n",
       "    </tr>\n",
       "    <tr>\n",
       "      <th>...</th>\n",
       "      <td>...</td>\n",
       "      <td>...</td>\n",
       "      <td>...</td>\n",
       "      <td>...</td>\n",
       "    </tr>\n",
       "    <tr>\n",
       "      <th>9995</th>\n",
       "      <td>95.0</td>\n",
       "      <td>124.0</td>\n",
       "      <td>97.0</td>\n",
       "      <td>Negative</td>\n",
       "    </tr>\n",
       "    <tr>\n",
       "      <th>9996</th>\n",
       "      <td>88.0</td>\n",
       "      <td>70.0</td>\n",
       "      <td>100.0</td>\n",
       "      <td>Positive</td>\n",
       "    </tr>\n",
       "    <tr>\n",
       "      <th>9997</th>\n",
       "      <td>99.0</td>\n",
       "      <td>56.0</td>\n",
       "      <td>105.0</td>\n",
       "      <td>Negative</td>\n",
       "    </tr>\n",
       "    <tr>\n",
       "      <th>9998</th>\n",
       "      <td>92.0</td>\n",
       "      <td>49.0</td>\n",
       "      <td>98.0</td>\n",
       "      <td>Positive</td>\n",
       "    </tr>\n",
       "    <tr>\n",
       "      <th>9999</th>\n",
       "      <td>85.0</td>\n",
       "      <td>52.0</td>\n",
       "      <td>99.0</td>\n",
       "      <td>Positive</td>\n",
       "    </tr>\n",
       "  </tbody>\n",
       "</table>\n",
       "<p>10000 rows × 4 columns</p>\n",
       "</div>"
      ],
      "text/plain": [
       "      Oxygen  PulseRate  Temperature    Result\n",
       "0       98.0       65.0         95.0  Negative\n",
       "1       96.0       92.0         95.0  Negative\n",
       "2       95.0       92.0         99.0  Negative\n",
       "3       97.0       56.0         96.0  Negative\n",
       "4       88.0       94.0         98.0  Positive\n",
       "...      ...        ...          ...       ...\n",
       "9995    95.0      124.0         97.0  Negative\n",
       "9996    88.0       70.0        100.0  Positive\n",
       "9997    99.0       56.0        105.0  Negative\n",
       "9998    92.0       49.0         98.0  Positive\n",
       "9999    85.0       52.0         99.0  Positive\n",
       "\n",
       "[10000 rows x 4 columns]"
      ]
     },
     "metadata": {},
     "output_type": "display_data"
    }
   ],
   "source": [
    "df = df.head(10000)\n",
    "df = df.drop('ID', axis = 1)\n",
    "display(df)"
   ]
  },
  {
   "cell_type": "code",
   "execution_count": 5,
   "id": "f3669195",
   "metadata": {},
   "outputs": [
    {
     "name": "stdout",
     "output_type": "stream",
     "text": [
      "26.1% or 2608 / 10000 rows of dataset have reduced by deduplication\n"
     ]
    }
   ],
   "source": [
    "initial_len = len(df)\n",
    "df=df.drop_duplicates(keep = 'first')\n",
    "final_len = len(df)\n",
    "print(f'{round(100*(1-final_len/initial_len),1)}% or {initial_len - final_len} / {initial_len} rows of dataset have reduced by deduplication')"
   ]
  },
  {
   "cell_type": "code",
   "execution_count": 6,
   "id": "5259d7e2",
   "metadata": {},
   "outputs": [
    {
     "name": "stdout",
     "output_type": "stream",
     "text": [
      "Positive fraction in current dataset is 50.31%\n",
      "Negative fraction in current dataset is 49.69%\n"
     ]
    }
   ],
   "source": [
    "positive_fraction = round(100*len(df.loc[df['Result'] == 'Positive']) / len(df),2)\n",
    "negative_fraction = round(100*len(df.loc[df['Result'] == 'Negative']) / len(df),2)\n",
    "\n",
    "print (f'Positive fraction in current dataset is {positive_fraction}%')\n",
    "print (f'Negative fraction in current dataset is {negative_fraction}%')\n",
    "\n"
   ]
  },
  {
   "cell_type": "code",
   "execution_count": 7,
   "id": "34bc4cfe",
   "metadata": {
    "scrolled": false
   },
   "outputs": [
    {
     "name": "stderr",
     "output_type": "stream",
     "text": [
      "The figure layout has changed to tight\n"
     ]
    },
    {
     "data": {
      "image/png": "[encoded data removed]",
      "text/plain": [
       "<Figure size 1000x300 with 12 Axes>"
      ]
     },
     "metadata": {},
     "output_type": "display_data"
    }
   ],
   "source": [
    "sns.pairplot(df, hue = 'Result')\n",
    "plt.gcf().set_size_inches(10,3)\n"
   ]
  },
  {
   "cell_type": "code",
   "execution_count": 8,
   "id": "d5b1c68c",
   "metadata": {},
   "outputs": [
    {
     "data": {
      "image/png": "[encoded data removed]",
      "text/plain": [
       "<Figure size 700x200 with 2 Axes>"
      ]
     },
     "metadata": {},
     "output_type": "display_data"
    }
   ],
   "source": [
    "phik_m = df.phik_matrix(interval_cols = ['Oxygen', 'PulseRate', 'Temperature'])\n",
    "\n",
    "plt.figure(figsize=(7,2))\n",
    "sns.heatmap(phik_m,\n",
    "            xticklabels=phik_m.columns,\n",
    "            yticklabels=phik_m.columns,\n",
    "            cmap='viridis',\n",
    "            center=0.6,\n",
    "            annot=True)\n",
    "\n",
    "plt.xticks(fontsize=12)\n",
    "plt.yticks(fontsize=12)\n",
    "plt.show()"
   ]
  },
  {
   "cell_type": "markdown",
   "id": "f487f2f1",
   "metadata": {},
   "source": [
    "##### Findings:\n",
    "\n",
    "1. Dataset contain 10000 rows without 'NaN' values\n",
    "2. 26.1% or 2608 / 10000 rows of dataset have reduced by deduplication.\n",
    "3. Datasets has good balance between positive and negative results (49.69% and 50.31%)\n",
    "4. Pairploting shows greate differance of O2 saturation and medium difference of temperature for 'positine' and 'negative' Covid results. It is corresponds to correlation matrix for the dataset.\n",
    "5. Correlation between result:\n",
    "  - 94% between result and O2 saturation\n",
    "  - 37% between result and temperature\n",
    "  - 19% between result and pulse rate\n",
    "6. Pair correlations between three parameter (O2 saturation, pulse rate and temperature) are really low (<0.5%).\n",
    "7. Point №5 and №6 together indicates that cavid determination requires all three parameters for better forecast."
   ]
  },
  {
   "cell_type": "markdown",
   "id": "c98e82a8",
   "metadata": {},
   "source": [
    "## 2. Preparing datasets for teaching ML models"
   ]
  },
  {
   "cell_type": "markdown",
   "id": "e6a782c0",
   "metadata": {},
   "source": [
    "### Initial dataset separation"
   ]
  },
  {
   "cell_type": "markdown",
   "id": "7f86989f",
   "metadata": {},
   "source": [
    "Before separation initial dataset we should perlace column 'Result' on '1' (positive results) and '0' (negative results). It is neded for using different ML models."
   ]
  },
  {
   "cell_type": "code",
   "execution_count": 9,
   "id": "ea224031",
   "metadata": {},
   "outputs": [
    {
     "data": {
      "text/html": [
       "<div>\n",
       "<style scoped>\n",
       "    .dataframe tbody tr th:only-of-type {\n",
       "        vertical-align: middle;\n",
       "    }\n",
       "\n",
       "    .dataframe tbody tr th {\n",
       "        vertical-align: top;\n",
       "    }\n",
       "\n",
       "    .dataframe thead th {\n",
       "        text-align: right;\n",
       "    }\n",
       "</style>\n",
       "<table border=\"1\" class=\"dataframe\">\n",
       "  <thead>\n",
       "    <tr style=\"text-align: right;\">\n",
       "      <th></th>\n",
       "      <th>Oxygen</th>\n",
       "      <th>PulseRate</th>\n",
       "      <th>Temperature</th>\n",
       "      <th>Result</th>\n",
       "    </tr>\n",
       "  </thead>\n",
       "  <tbody>\n",
       "    <tr>\n",
       "      <th>0</th>\n",
       "      <td>98.0</td>\n",
       "      <td>65.0</td>\n",
       "      <td>95.0</td>\n",
       "      <td>0</td>\n",
       "    </tr>\n",
       "    <tr>\n",
       "      <th>1</th>\n",
       "      <td>96.0</td>\n",
       "      <td>92.0</td>\n",
       "      <td>95.0</td>\n",
       "      <td>0</td>\n",
       "    </tr>\n",
       "    <tr>\n",
       "      <th>2</th>\n",
       "      <td>95.0</td>\n",
       "      <td>92.0</td>\n",
       "      <td>99.0</td>\n",
       "      <td>0</td>\n",
       "    </tr>\n",
       "    <tr>\n",
       "      <th>3</th>\n",
       "      <td>97.0</td>\n",
       "      <td>56.0</td>\n",
       "      <td>96.0</td>\n",
       "      <td>0</td>\n",
       "    </tr>\n",
       "    <tr>\n",
       "      <th>4</th>\n",
       "      <td>88.0</td>\n",
       "      <td>94.0</td>\n",
       "      <td>98.0</td>\n",
       "      <td>1</td>\n",
       "    </tr>\n",
       "  </tbody>\n",
       "</table>\n",
       "</div>"
      ],
      "text/plain": [
       "   Oxygen  PulseRate  Temperature  Result\n",
       "0    98.0       65.0         95.0       0\n",
       "1    96.0       92.0         95.0       0\n",
       "2    95.0       92.0         99.0       0\n",
       "3    97.0       56.0         96.0       0\n",
       "4    88.0       94.0         98.0       1"
      ]
     },
     "execution_count": 9,
     "metadata": {},
     "output_type": "execute_result"
    }
   ],
   "source": [
    "df = df.replace({'Result': 'Positive'}, 1)\n",
    "df = df.replace({'Result': 'Negative'}, 0)\n",
    "df.head()"
   ]
  },
  {
   "cell_type": "markdown",
   "id": "958be0e5",
   "metadata": {},
   "source": [
    "We will use crossvalidation method for teaching ML model, thus we shoud separate initial dataset only for train and test datasets."
   ]
  },
  {
   "cell_type": "code",
   "execution_count": 10,
   "id": "c2288d60",
   "metadata": {
    "scrolled": true
   },
   "outputs": [
    {
     "name": "stdout",
     "output_type": "stream",
     "text": [
      "features_train: (5544, 3)\n",
      "target_train: (5544,)\n",
      "features_train: (1848, 3)\n",
      "target_train: (1848,)\n"
     ]
    }
   ],
   "source": [
    "features = df.drop('Result', axis = 1)\n",
    "target = df['Result']\n",
    "(f_train, f_test, t_train, t_test) = train_test_split(features, target, test_size = 0.25, random_state = RS)\n",
    "\n",
    "print('features_train:', f_train.shape)\n",
    "print('target_train:', t_train.shape)\n",
    "\n",
    "print('features_train:', f_test.shape)\n",
    "print('target_train:', t_test.shape)"
   ]
  },
  {
   "cell_type": "markdown",
   "id": "46675b8e",
   "metadata": {},
   "source": [
    "Let's make shure that we have balanced train and test datasets"
   ]
  },
  {
   "cell_type": "code",
   "execution_count": 11,
   "id": "7b3d9ed4",
   "metadata": {},
   "outputs": [
    {
     "name": "stdout",
     "output_type": "stream",
     "text": [
      "Positive share in train dataset = 50.85%\n",
      "Positive share in test dataset  = 48.7%\n"
     ]
    }
   ],
   "source": [
    "print(f'Positive share in train dataset = {round(100*t_train.mean(),2)}%')\n",
    "print(f'Positive share in test dataset  = {round(100*t_test.mean(),2)}%')"
   ]
  },
  {
   "cell_type": "markdown",
   "id": "91aee86d",
   "metadata": {},
   "source": [
    "### Datasets normalizations"
   ]
  },
  {
   "cell_type": "markdown",
   "id": "be36eb7e",
   "metadata": {},
   "source": [
    "We will use StandardScaler from sklearn.preprocessing for normalisation data."
   ]
  },
  {
   "cell_type": "code",
   "execution_count": 12,
   "id": "edb8cca0",
   "metadata": {},
   "outputs": [],
   "source": [
    "col = list(f_train)\n",
    "\n",
    "scaler = StandardScaler()\n",
    "scaler.fit(f_train[col])\n",
    "\n",
    "f_train[col] = scaler.transform(f_train[col])\n",
    "f_test[col]  = scaler.transform(f_test[col])"
   ]
  },
  {
   "cell_type": "code",
   "execution_count": 13,
   "id": "b770db85",
   "metadata": {},
   "outputs": [
    {
     "name": "stdout",
     "output_type": "stream",
     "text": [
      "feature train dataframe:\n"
     ]
    },
    {
     "data": {
      "text/html": [
       "<div>\n",
       "<style scoped>\n",
       "    .dataframe tbody tr th:only-of-type {\n",
       "        vertical-align: middle;\n",
       "    }\n",
       "\n",
       "    .dataframe tbody tr th {\n",
       "        vertical-align: top;\n",
       "    }\n",
       "\n",
       "    .dataframe thead th {\n",
       "        text-align: right;\n",
       "    }\n",
       "</style>\n",
       "<table border=\"1\" class=\"dataframe\">\n",
       "  <thead>\n",
       "    <tr style=\"text-align: right;\">\n",
       "      <th></th>\n",
       "      <th>Oxygen</th>\n",
       "      <th>PulseRate</th>\n",
       "      <th>Temperature</th>\n",
       "    </tr>\n",
       "  </thead>\n",
       "  <tbody>\n",
       "    <tr>\n",
       "      <th>4716</th>\n",
       "      <td>-0.541459</td>\n",
       "      <td>0.904294</td>\n",
       "      <td>-0.941737</td>\n",
       "    </tr>\n",
       "    <tr>\n",
       "      <th>3242</th>\n",
       "      <td>-0.541459</td>\n",
       "      <td>-0.346357</td>\n",
       "      <td>0.001191</td>\n",
       "    </tr>\n",
       "    <tr>\n",
       "      <th>870</th>\n",
       "      <td>1.626411</td>\n",
       "      <td>-0.535850</td>\n",
       "      <td>-0.941737</td>\n",
       "    </tr>\n",
       "    <tr>\n",
       "      <th>6854</th>\n",
       "      <td>1.192837</td>\n",
       "      <td>0.070527</td>\n",
       "      <td>-0.627428</td>\n",
       "    </tr>\n",
       "    <tr>\n",
       "      <th>4736</th>\n",
       "      <td>1.626411</td>\n",
       "      <td>0.525309</td>\n",
       "      <td>1.572736</td>\n",
       "    </tr>\n",
       "  </tbody>\n",
       "</table>\n",
       "</div>"
      ],
      "text/plain": [
       "        Oxygen  PulseRate  Temperature\n",
       "4716 -0.541459   0.904294    -0.941737\n",
       "3242 -0.541459  -0.346357     0.001191\n",
       "870   1.626411  -0.535850    -0.941737\n",
       "6854  1.192837   0.070527    -0.627428\n",
       "4736  1.626411   0.525309     1.572736"
      ]
     },
     "metadata": {},
     "output_type": "display_data"
    },
    {
     "name": "stdout",
     "output_type": "stream",
     "text": [
      "\n",
      "feature test dataframe:\n"
     ]
    },
    {
     "data": {
      "text/html": [
       "<div>\n",
       "<style scoped>\n",
       "    .dataframe tbody tr th:only-of-type {\n",
       "        vertical-align: middle;\n",
       "    }\n",
       "\n",
       "    .dataframe tbody tr th {\n",
       "        vertical-align: top;\n",
       "    }\n",
       "\n",
       "    .dataframe thead th {\n",
       "        text-align: right;\n",
       "    }\n",
       "</style>\n",
       "<table border=\"1\" class=\"dataframe\">\n",
       "  <thead>\n",
       "    <tr style=\"text-align: right;\">\n",
       "      <th></th>\n",
       "      <th>Oxygen</th>\n",
       "      <th>PulseRate</th>\n",
       "      <th>Temperature</th>\n",
       "    </tr>\n",
       "  </thead>\n",
       "  <tbody>\n",
       "    <tr>\n",
       "      <th>3204</th>\n",
       "      <td>-0.975033</td>\n",
       "      <td>-1.331719</td>\n",
       "      <td>0.001191</td>\n",
       "    </tr>\n",
       "    <tr>\n",
       "      <th>3681</th>\n",
       "      <td>1.409624</td>\n",
       "      <td>0.714802</td>\n",
       "      <td>1.258427</td>\n",
       "    </tr>\n",
       "    <tr>\n",
       "      <th>64</th>\n",
       "      <td>-0.758246</td>\n",
       "      <td>0.828497</td>\n",
       "      <td>0.001191</td>\n",
       "    </tr>\n",
       "    <tr>\n",
       "      <th>121</th>\n",
       "      <td>0.976050</td>\n",
       "      <td>0.904294</td>\n",
       "      <td>-0.313119</td>\n",
       "    </tr>\n",
       "    <tr>\n",
       "      <th>7632</th>\n",
       "      <td>1.409624</td>\n",
       "      <td>0.487410</td>\n",
       "      <td>-1.256046</td>\n",
       "    </tr>\n",
       "  </tbody>\n",
       "</table>\n",
       "</div>"
      ],
      "text/plain": [
       "        Oxygen  PulseRate  Temperature\n",
       "3204 -0.975033  -1.331719     0.001191\n",
       "3681  1.409624   0.714802     1.258427\n",
       "64   -0.758246   0.828497     0.001191\n",
       "121   0.976050   0.904294    -0.313119\n",
       "7632  1.409624   0.487410    -1.256046"
      ]
     },
     "metadata": {},
     "output_type": "display_data"
    }
   ],
   "source": [
    "print('feature train dataframe:')\n",
    "display(f_train.head())\n",
    "print('\\nfeature test dataframe:')\n",
    "display(f_test.head())"
   ]
  },
  {
   "cell_type": "markdown",
   "id": "92060925",
   "metadata": {},
   "source": [
    "## Teaching ML models"
   ]
  },
  {
   "cell_type": "markdown",
   "id": "bf080ccd",
   "metadata": {},
   "source": [
    "Functions for teaching model and calculation metrics"
   ]
  },
  {
   "cell_type": "code",
   "execution_count": 14,
   "id": "b115cba7",
   "metadata": {},
   "outputs": [],
   "source": [
    "def metrics (model_gs, features, target, timer):\n",
    "    \n",
    "    try:\n",
    "        start_time = time.time()\n",
    "        prediction = model_gs.predict(features)\n",
    "        end_time = time.time()\n",
    "        \n",
    "        if timer == 1:\n",
    "            result = [round(recall_score(target, prediction),3),\n",
    "                      round(f1_score(target, prediction),3),\n",
    "                      round(end_time - start_time,3)]\n",
    "            columns = ['Accuracy',\n",
    "                       'F1 score',\n",
    "                       'Prediction time per event, s']\n",
    "        else:\n",
    "            result = [round(recall_score(target, prediction),3),\n",
    "                      round(f1_score(target, prediction),3)]\n",
    "            columns = ['Accuracy',\n",
    "                       'F1 score']\n",
    "\n",
    "        \n",
    "        df = pd.DataFrame(data = [result], columns = columns)\n",
    "        conf_matrix= pd.DataFrame(data = confusion_matrix(target, prediction),\n",
    "                                  columns = ['0', '1'],\n",
    "                                  index = ['0', '1'])\n",
    "\n",
    "        print('Confusion matrix:')\n",
    "        display(conf_matrix)\n",
    "        display(df)\n",
    "\n",
    "        return(df, confusion_matrix (target, prediction))\n",
    "    \n",
    "    except:\n",
    "        print('Error, please chech parameters and fuction')\n",
    "        return (0,0)"
   ]
  },
  {
   "cell_type": "code",
   "execution_count": 15,
   "id": "cbbb8f47",
   "metadata": {},
   "outputs": [],
   "source": [
    "def teaching_model(model, grid_space, main_scoring, dataset_type):\n",
    "    \n",
    "    try:\n",
    "        grid = GridSearchCV(model,\n",
    "                            param_grid = grid_space,\n",
    "                            cv = 10,\n",
    "                            scoring = main_scoring,\n",
    "                            n_jobs = 6\n",
    "                           )\n",
    "\n",
    "        model_gs = grid.fit(f_train, t_train)\n",
    "        print('Best parameters:')\n",
    "        display(model_gs.best_params_)\n",
    "        \n",
    "        \n",
    "        if dataset_type == 'train':\n",
    "            f_dataset = f_train\n",
    "            t_dataset = t_train\n",
    "        elif dataset_type == 'test':\n",
    "            f_dataset = f_test\n",
    "            t_dataset = t_test\n",
    "        else:\n",
    "            print('Error, please chech parameters \"dataset_type\"')\n",
    "\n",
    "        result, conf_matrix = metrics (model_gs, f_dataset, t_dataset, 1)\n",
    "        return model_gs, result, model_gs.best_params_\n",
    "            \n",
    "    except:\n",
    "        print('Error, please chech parameters and fuctions1')\n",
    "        return (0,0,0)"
   ]
  },
  {
   "cell_type": "markdown",
   "id": "12fdb27e",
   "metadata": {},
   "source": [
    "### Model: LogisticRegression"
   ]
  },
  {
   "cell_type": "code",
   "execution_count": 16,
   "id": "99db1714",
   "metadata": {
    "scrolled": false
   },
   "outputs": [
    {
     "name": "stdout",
     "output_type": "stream",
     "text": [
      "Best parameters:\n"
     ]
    },
    {
     "data": {
      "text/plain": [
       "{'C': 100}"
      ]
     },
     "metadata": {},
     "output_type": "display_data"
    },
    {
     "name": "stdout",
     "output_type": "stream",
     "text": [
      "Confusion matrix:\n"
     ]
    },
    {
     "data": {
      "text/html": [
       "<div>\n",
       "<style scoped>\n",
       "    .dataframe tbody tr th:only-of-type {\n",
       "        vertical-align: middle;\n",
       "    }\n",
       "\n",
       "    .dataframe tbody tr th {\n",
       "        vertical-align: top;\n",
       "    }\n",
       "\n",
       "    .dataframe thead th {\n",
       "        text-align: right;\n",
       "    }\n",
       "</style>\n",
       "<table border=\"1\" class=\"dataframe\">\n",
       "  <thead>\n",
       "    <tr style=\"text-align: right;\">\n",
       "      <th></th>\n",
       "      <th>0</th>\n",
       "      <th>1</th>\n",
       "    </tr>\n",
       "  </thead>\n",
       "  <tbody>\n",
       "    <tr>\n",
       "      <th>0</th>\n",
       "      <td>2510</td>\n",
       "      <td>215</td>\n",
       "    </tr>\n",
       "    <tr>\n",
       "      <th>1</th>\n",
       "      <td>220</td>\n",
       "      <td>2599</td>\n",
       "    </tr>\n",
       "  </tbody>\n",
       "</table>\n",
       "</div>"
      ],
      "text/plain": [
       "      0     1\n",
       "0  2510   215\n",
       "1   220  2599"
      ]
     },
     "metadata": {},
     "output_type": "display_data"
    },
    {
     "data": {
      "text/html": [
       "<div>\n",
       "<style scoped>\n",
       "    .dataframe tbody tr th:only-of-type {\n",
       "        vertical-align: middle;\n",
       "    }\n",
       "\n",
       "    .dataframe tbody tr th {\n",
       "        vertical-align: top;\n",
       "    }\n",
       "\n",
       "    .dataframe thead th {\n",
       "        text-align: right;\n",
       "    }\n",
       "</style>\n",
       "<table border=\"1\" class=\"dataframe\">\n",
       "  <thead>\n",
       "    <tr style=\"text-align: right;\">\n",
       "      <th></th>\n",
       "      <th>Accuracy</th>\n",
       "      <th>F1 score</th>\n",
       "      <th>Prediction time per event, s</th>\n",
       "    </tr>\n",
       "  </thead>\n",
       "  <tbody>\n",
       "    <tr>\n",
       "      <th>0</th>\n",
       "      <td>0.922</td>\n",
       "      <td>0.923</td>\n",
       "      <td>0.011</td>\n",
       "    </tr>\n",
       "  </tbody>\n",
       "</table>\n",
       "</div>"
      ],
      "text/plain": [
       "   Accuracy  F1 score  Prediction time per event, s\n",
       "0     0.922     0.923                         0.011"
      ]
     },
     "metadata": {},
     "output_type": "display_data"
    }
   ],
   "source": [
    "grid_space = {'C': [100, 200, 300, 500, 1000, 2000, 3000, 5000]}\n",
    "model = LogisticRegression(solver = 'liblinear', random_state = RS)\n",
    "\n",
    "model_lr, result_lr, param_lr = teaching_model (model, grid_space, 'accuracy', 'train')"
   ]
  },
  {
   "cell_type": "markdown",
   "id": "ebaab201",
   "metadata": {},
   "source": [
    "### Model: RandomForestClassifier"
   ]
  },
  {
   "cell_type": "code",
   "execution_count": 17,
   "id": "b2d1f6e9",
   "metadata": {},
   "outputs": [
    {
     "name": "stdout",
     "output_type": "stream",
     "text": [
      "Best parameters:\n"
     ]
    },
    {
     "data": {
      "text/plain": [
       "{'max_depth': 7, 'n_estimators': 100}"
      ]
     },
     "metadata": {},
     "output_type": "display_data"
    },
    {
     "name": "stdout",
     "output_type": "stream",
     "text": [
      "Confusion matrix:\n"
     ]
    },
    {
     "data": {
      "text/html": [
       "<div>\n",
       "<style scoped>\n",
       "    .dataframe tbody tr th:only-of-type {\n",
       "        vertical-align: middle;\n",
       "    }\n",
       "\n",
       "    .dataframe tbody tr th {\n",
       "        vertical-align: top;\n",
       "    }\n",
       "\n",
       "    .dataframe thead th {\n",
       "        text-align: right;\n",
       "    }\n",
       "</style>\n",
       "<table border=\"1\" class=\"dataframe\">\n",
       "  <thead>\n",
       "    <tr style=\"text-align: right;\">\n",
       "      <th></th>\n",
       "      <th>0</th>\n",
       "      <th>1</th>\n",
       "    </tr>\n",
       "  </thead>\n",
       "  <tbody>\n",
       "    <tr>\n",
       "      <th>0</th>\n",
       "      <td>2725</td>\n",
       "      <td>0</td>\n",
       "    </tr>\n",
       "    <tr>\n",
       "      <th>1</th>\n",
       "      <td>0</td>\n",
       "      <td>2819</td>\n",
       "    </tr>\n",
       "  </tbody>\n",
       "</table>\n",
       "</div>"
      ],
      "text/plain": [
       "      0     1\n",
       "0  2725     0\n",
       "1     0  2819"
      ]
     },
     "metadata": {},
     "output_type": "display_data"
    },
    {
     "data": {
      "text/html": [
       "<div>\n",
       "<style scoped>\n",
       "    .dataframe tbody tr th:only-of-type {\n",
       "        vertical-align: middle;\n",
       "    }\n",
       "\n",
       "    .dataframe tbody tr th {\n",
       "        vertical-align: top;\n",
       "    }\n",
       "\n",
       "    .dataframe thead th {\n",
       "        text-align: right;\n",
       "    }\n",
       "</style>\n",
       "<table border=\"1\" class=\"dataframe\">\n",
       "  <thead>\n",
       "    <tr style=\"text-align: right;\">\n",
       "      <th></th>\n",
       "      <th>Accuracy</th>\n",
       "      <th>F1 score</th>\n",
       "      <th>Prediction time per event, s</th>\n",
       "    </tr>\n",
       "  </thead>\n",
       "  <tbody>\n",
       "    <tr>\n",
       "      <th>0</th>\n",
       "      <td>1.0</td>\n",
       "      <td>1.0</td>\n",
       "      <td>0.024</td>\n",
       "    </tr>\n",
       "  </tbody>\n",
       "</table>\n",
       "</div>"
      ],
      "text/plain": [
       "   Accuracy  F1 score  Prediction time per event, s\n",
       "0       1.0       1.0                         0.024"
      ]
     },
     "metadata": {},
     "output_type": "display_data"
    }
   ],
   "source": [
    "grid_space = {'n_estimators':[10, 20, 50, 100, 200],\n",
    "              'max_depth':range(2,10)}\n",
    "\n",
    "model = RandomForestClassifier(random_state = RS)\n",
    "model_rf, result_rf, param_rf = teaching_model (model, grid_space, 'accuracy', 'train')"
   ]
  },
  {
   "cell_type": "markdown",
   "id": "7d2f016b",
   "metadata": {},
   "source": [
    "### Model: LGBMClassifier"
   ]
  },
  {
   "cell_type": "code",
   "execution_count": 18,
   "id": "22095535",
   "metadata": {
    "scrolled": false
   },
   "outputs": [
    {
     "name": "stdout",
     "output_type": "stream",
     "text": [
      "Best parameters:\n"
     ]
    },
    {
     "data": {
      "text/plain": [
       "{'learning_rate': 0.1, 'max_depth': 5, 'n_estimators': 50, 'num_leaves': 5}"
      ]
     },
     "metadata": {},
     "output_type": "display_data"
    },
    {
     "name": "stdout",
     "output_type": "stream",
     "text": [
      "Confusion matrix:\n"
     ]
    },
    {
     "data": {
      "text/html": [
       "<div>\n",
       "<style scoped>\n",
       "    .dataframe tbody tr th:only-of-type {\n",
       "        vertical-align: middle;\n",
       "    }\n",
       "\n",
       "    .dataframe tbody tr th {\n",
       "        vertical-align: top;\n",
       "    }\n",
       "\n",
       "    .dataframe thead th {\n",
       "        text-align: right;\n",
       "    }\n",
       "</style>\n",
       "<table border=\"1\" class=\"dataframe\">\n",
       "  <thead>\n",
       "    <tr style=\"text-align: right;\">\n",
       "      <th></th>\n",
       "      <th>0</th>\n",
       "      <th>1</th>\n",
       "    </tr>\n",
       "  </thead>\n",
       "  <tbody>\n",
       "    <tr>\n",
       "      <th>0</th>\n",
       "      <td>2725</td>\n",
       "      <td>0</td>\n",
       "    </tr>\n",
       "    <tr>\n",
       "      <th>1</th>\n",
       "      <td>0</td>\n",
       "      <td>2819</td>\n",
       "    </tr>\n",
       "  </tbody>\n",
       "</table>\n",
       "</div>"
      ],
      "text/plain": [
       "      0     1\n",
       "0  2725     0\n",
       "1     0  2819"
      ]
     },
     "metadata": {},
     "output_type": "display_data"
    },
    {
     "data": {
      "text/html": [
       "<div>\n",
       "<style scoped>\n",
       "    .dataframe tbody tr th:only-of-type {\n",
       "        vertical-align: middle;\n",
       "    }\n",
       "\n",
       "    .dataframe tbody tr th {\n",
       "        vertical-align: top;\n",
       "    }\n",
       "\n",
       "    .dataframe thead th {\n",
       "        text-align: right;\n",
       "    }\n",
       "</style>\n",
       "<table border=\"1\" class=\"dataframe\">\n",
       "  <thead>\n",
       "    <tr style=\"text-align: right;\">\n",
       "      <th></th>\n",
       "      <th>Accuracy</th>\n",
       "      <th>F1 score</th>\n",
       "      <th>Prediction time per event, s</th>\n",
       "    </tr>\n",
       "  </thead>\n",
       "  <tbody>\n",
       "    <tr>\n",
       "      <th>0</th>\n",
       "      <td>1.0</td>\n",
       "      <td>1.0</td>\n",
       "      <td>0.003</td>\n",
       "    </tr>\n",
       "  </tbody>\n",
       "</table>\n",
       "</div>"
      ],
      "text/plain": [
       "   Accuracy  F1 score  Prediction time per event, s\n",
       "0       1.0       1.0                         0.003"
      ]
     },
     "metadata": {},
     "output_type": "display_data"
    }
   ],
   "source": [
    "grid_space = {'n_estimators': [50,100,300,500],\n",
    "              'max_depth' : [5,10],\n",
    "              'num_leaves': [5,10,20],\n",
    "              'learning_rate': [0.1,0.2,0.3, 0.5]}\n",
    "model = lgb.LGBMClassifier(random_state = RS)\n",
    "\n",
    "model_lgbm, result_lgbm, param_lgbm = teaching_model (model, grid_space, 'accuracy', 'train')"
   ]
  },
  {
   "cell_type": "markdown",
   "id": "059b42e4",
   "metadata": {},
   "source": [
    "### Result for all teached models"
   ]
  },
  {
   "cell_type": "code",
   "execution_count": 19,
   "id": "30eebafc",
   "metadata": {},
   "outputs": [
    {
     "data": {
      "text/html": [
       "<div>\n",
       "<style scoped>\n",
       "    .dataframe tbody tr th:only-of-type {\n",
       "        vertical-align: middle;\n",
       "    }\n",
       "\n",
       "    .dataframe tbody tr th {\n",
       "        vertical-align: top;\n",
       "    }\n",
       "\n",
       "    .dataframe thead th {\n",
       "        text-align: right;\n",
       "    }\n",
       "</style>\n",
       "<table border=\"1\" class=\"dataframe\">\n",
       "  <thead>\n",
       "    <tr style=\"text-align: right;\">\n",
       "      <th></th>\n",
       "      <th>Accuracy</th>\n",
       "      <th>F1 score</th>\n",
       "      <th>Prediction time per event, s</th>\n",
       "    </tr>\n",
       "  </thead>\n",
       "  <tbody>\n",
       "    <tr>\n",
       "      <th>LogisticRegression</th>\n",
       "      <td>0.922</td>\n",
       "      <td>0.923</td>\n",
       "      <td>0.011</td>\n",
       "    </tr>\n",
       "    <tr>\n",
       "      <th>RandomForestClassifier</th>\n",
       "      <td>1.000</td>\n",
       "      <td>1.000</td>\n",
       "      <td>0.024</td>\n",
       "    </tr>\n",
       "    <tr>\n",
       "      <th>LGBMClassifier</th>\n",
       "      <td>1.000</td>\n",
       "      <td>1.000</td>\n",
       "      <td>0.003</td>\n",
       "    </tr>\n",
       "  </tbody>\n",
       "</table>\n",
       "</div>"
      ],
      "text/plain": [
       "                        Accuracy  F1 score  Prediction time per event, s\n",
       "LogisticRegression         0.922     0.923                         0.011\n",
       "RandomForestClassifier     1.000     1.000                         0.024\n",
       "LGBMClassifier             1.000     1.000                         0.003"
      ]
     },
     "metadata": {},
     "output_type": "display_data"
    }
   ],
   "source": [
    "result_df = pd.concat([result_lr, result_rf, result_lgbm], ignore_index=True)\n",
    "result_df.index = ['LogisticRegression', 'RandomForestClassifier', 'LGBMClassifier']\n",
    "\n",
    "display(result_df)"
   ]
  },
  {
   "cell_type": "markdown",
   "id": "0802e0c6",
   "metadata": {},
   "source": [
    "Let's see the influence of dataset parametes on result for model \"LGBMClassifier\":"
   ]
  },
  {
   "cell_type": "code",
   "execution_count": 20,
   "id": "83950b93",
   "metadata": {},
   "outputs": [
    {
     "data": {
      "image/png": "[encoded data removed]",
      "text/plain": [
       "<Figure size 800x300 with 1 Axes>"
      ]
     },
     "metadata": {},
     "output_type": "display_data"
    }
   ],
   "source": [
    "explainer = shap.Explainer(model_lgbm.predict, f_train)\n",
    "shap_values = explainer(f_train)\n",
    "\n",
    "shap.plots.bar(shap_values)"
   ]
  },
  {
   "cell_type": "markdown",
   "id": "bd4e71a1",
   "metadata": {},
   "source": [
    "#### Findings\n",
    "1. RandomForestClassifier and LGBMClassifier shows best result and classified correctly all data.\n",
    "2. LGBMClassifier has best prediction that RandomForestClassifier (0.002 mcs vs 0.015 s)\n",
    "3. Tace into accaunt all three metrics (Accuracy, F1 score and Prediction time) Models LGBMClassifider seems the best model among all three models.\n",
    "4. Also model LGBMClassifier has less parameters 'max_depth' that RandomForestClassifier. It indicates less probabilities to get an overtrained model.\n",
    "5. O2 saturation has greater influence on Covic determination:\n",
    "   - 0.39 - O2 saturation\n",
    "   - 0.14 - Tmperature\n",
    "   - 0.07 - PulseRate\n",
    "   \n",
    "   Which corresponds to correlation matrix (phik_matrix)."
   ]
  },
  {
   "cell_type": "markdown",
   "id": "22597c60",
   "metadata": {},
   "source": [
    "## 3. Testing the best model (LGBMClassifier) using test dataset"
   ]
  },
  {
   "cell_type": "code",
   "execution_count": 21,
   "id": "1c40209c",
   "metadata": {
    "scrolled": true
   },
   "outputs": [
    {
     "name": "stdout",
     "output_type": "stream",
     "text": [
      "Determined metrics for model LGBMClassifier on test data:\n",
      "\n",
      "Confusion matrix:\n"
     ]
    },
    {
     "data": {
      "text/html": [
       "<div>\n",
       "<style scoped>\n",
       "    .dataframe tbody tr th:only-of-type {\n",
       "        vertical-align: middle;\n",
       "    }\n",
       "\n",
       "    .dataframe tbody tr th {\n",
       "        vertical-align: top;\n",
       "    }\n",
       "\n",
       "    .dataframe thead th {\n",
       "        text-align: right;\n",
       "    }\n",
       "</style>\n",
       "<table border=\"1\" class=\"dataframe\">\n",
       "  <thead>\n",
       "    <tr style=\"text-align: right;\">\n",
       "      <th></th>\n",
       "      <th>0</th>\n",
       "      <th>1</th>\n",
       "    </tr>\n",
       "  </thead>\n",
       "  <tbody>\n",
       "    <tr>\n",
       "      <th>0</th>\n",
       "      <td>948</td>\n",
       "      <td>0</td>\n",
       "    </tr>\n",
       "    <tr>\n",
       "      <th>1</th>\n",
       "      <td>0</td>\n",
       "      <td>900</td>\n",
       "    </tr>\n",
       "  </tbody>\n",
       "</table>\n",
       "</div>"
      ],
      "text/plain": [
       "     0    1\n",
       "0  948    0\n",
       "1    0  900"
      ]
     },
     "metadata": {},
     "output_type": "display_data"
    },
    {
     "data": {
      "text/html": [
       "<div>\n",
       "<style scoped>\n",
       "    .dataframe tbody tr th:only-of-type {\n",
       "        vertical-align: middle;\n",
       "    }\n",
       "\n",
       "    .dataframe tbody tr th {\n",
       "        vertical-align: top;\n",
       "    }\n",
       "\n",
       "    .dataframe thead th {\n",
       "        text-align: right;\n",
       "    }\n",
       "</style>\n",
       "<table border=\"1\" class=\"dataframe\">\n",
       "  <thead>\n",
       "    <tr style=\"text-align: right;\">\n",
       "      <th></th>\n",
       "      <th>Accuracy</th>\n",
       "      <th>F1 score</th>\n",
       "    </tr>\n",
       "  </thead>\n",
       "  <tbody>\n",
       "    <tr>\n",
       "      <th>0</th>\n",
       "      <td>1.0</td>\n",
       "      <td>1.0</td>\n",
       "    </tr>\n",
       "  </tbody>\n",
       "</table>\n",
       "</div>"
      ],
      "text/plain": [
       "   Accuracy  F1 score\n",
       "0       1.0       1.0"
      ]
     },
     "metadata": {},
     "output_type": "display_data"
    }
   ],
   "source": [
    "print('Determined metrics for model LGBMClassifier on test data:\\n')\n",
    "result = metrics (model_lgbm, f_test, t_test, 0)\n"
   ]
  },
  {
   "cell_type": "markdown",
   "id": "d14b9799",
   "metadata": {},
   "source": [
    "## 4. Testing the best model (LGBMClassifier) using non synthetic dataset"
   ]
  },
  {
   "cell_type": "markdown",
   "id": "5c87706d",
   "metadata": {},
   "source": [
    "### Adding and getting to know the dataset with non synthetic data\n"
   ]
  },
  {
   "cell_type": "code",
   "execution_count": 22,
   "id": "d111f335",
   "metadata": {},
   "outputs": [
    {
     "data": {
      "text/html": [
       "<div>\n",
       "<style scoped>\n",
       "    .dataframe tbody tr th:only-of-type {\n",
       "        vertical-align: middle;\n",
       "    }\n",
       "\n",
       "    .dataframe tbody tr th {\n",
       "        vertical-align: top;\n",
       "    }\n",
       "\n",
       "    .dataframe thead th {\n",
       "        text-align: right;\n",
       "    }\n",
       "</style>\n",
       "<table border=\"1\" class=\"dataframe\">\n",
       "  <thead>\n",
       "    <tr style=\"text-align: right;\">\n",
       "      <th></th>\n",
       "      <th>id</th>\n",
       "      <th>gender</th>\n",
       "      <th>age</th>\n",
       "      <th>heart_rate</th>\n",
       "      <th>temperature</th>\n",
       "      <th>SpO2_saturation</th>\n",
       "      <th>bpm</th>\n",
       "      <th>Health_status</th>\n",
       "    </tr>\n",
       "  </thead>\n",
       "  <tbody>\n",
       "    <tr>\n",
       "      <th>0</th>\n",
       "      <td>1</td>\n",
       "      <td>male</td>\n",
       "      <td>66.0</td>\n",
       "      <td>70</td>\n",
       "      <td>38.6</td>\n",
       "      <td>88.0</td>\n",
       "      <td>75</td>\n",
       "      <td>Infected</td>\n",
       "    </tr>\n",
       "    <tr>\n",
       "      <th>1</th>\n",
       "      <td>2</td>\n",
       "      <td>female</td>\n",
       "      <td>56.0</td>\n",
       "      <td>74</td>\n",
       "      <td>39.6</td>\n",
       "      <td>88.0</td>\n",
       "      <td>70</td>\n",
       "      <td>Infected</td>\n",
       "    </tr>\n",
       "    <tr>\n",
       "      <th>2</th>\n",
       "      <td>3</td>\n",
       "      <td>male</td>\n",
       "      <td>46.0</td>\n",
       "      <td>82</td>\n",
       "      <td>37.2</td>\n",
       "      <td>98.0</td>\n",
       "      <td>83</td>\n",
       "      <td>Non Infected</td>\n",
       "    </tr>\n",
       "    <tr>\n",
       "      <th>3</th>\n",
       "      <td>4</td>\n",
       "      <td>female</td>\n",
       "      <td>60.0</td>\n",
       "      <td>90</td>\n",
       "      <td>38.6</td>\n",
       "      <td>98.0</td>\n",
       "      <td>75</td>\n",
       "      <td>Non Infected</td>\n",
       "    </tr>\n",
       "    <tr>\n",
       "      <th>4</th>\n",
       "      <td>5</td>\n",
       "      <td>male</td>\n",
       "      <td>58.0</td>\n",
       "      <td>72</td>\n",
       "      <td>39.6</td>\n",
       "      <td>93.0</td>\n",
       "      <td>78</td>\n",
       "      <td>Infected</td>\n",
       "    </tr>\n",
       "  </tbody>\n",
       "</table>\n",
       "</div>"
      ],
      "text/plain": [
       "   id  gender   age  heart_rate  temperature  SpO2_saturation  bpm  \\\n",
       "0   1    male  66.0          70         38.6             88.0   75   \n",
       "1   2  female  56.0          74         39.6             88.0   70   \n",
       "2   3    male  46.0          82         37.2             98.0   83   \n",
       "3   4  female  60.0          90         38.6             98.0   75   \n",
       "4   5    male  58.0          72         39.6             93.0   78   \n",
       "\n",
       "  Health_status  \n",
       "0      Infected  \n",
       "1      Infected  \n",
       "2  Non Infected  \n",
       "3  Non Infected  \n",
       "4      Infected  "
      ]
     },
     "metadata": {},
     "output_type": "display_data"
    },
    {
     "name": "stdout",
     "output_type": "stream",
     "text": [
      "<class 'pandas.core.frame.DataFrame'>\n",
      "RangeIndex: 1085 entries, 0 to 1084\n",
      "Data columns (total 8 columns):\n",
      " #   Column           Non-Null Count  Dtype  \n",
      "---  ------           --------------  -----  \n",
      " 0   id               1085 non-null   int64  \n",
      " 1   gender           902 non-null    object \n",
      " 2   age              843 non-null    float64\n",
      " 3   heart_rate       1085 non-null   int64  \n",
      " 4   temperature      1085 non-null   float64\n",
      " 5   SpO2_saturation  1085 non-null   float64\n",
      " 6   bpm              1085 non-null   int64  \n",
      " 7   Health_status    1085 non-null   object \n",
      "dtypes: float64(3), int64(3), object(2)\n",
      "memory usage: 67.9+ KB\n"
     ]
    }
   ],
   "source": [
    "df2 = pd.read_csv ('/Users/dmitry/Downloads/covid-19-26.csv')\n",
    "display(df2.head())\n",
    "df2.info()"
   ]
  },
  {
   "cell_type": "markdown",
   "id": "d1929820",
   "metadata": {},
   "source": [
    "### Checking deduplication"
   ]
  },
  {
   "cell_type": "code",
   "execution_count": 23,
   "id": "eb10393f",
   "metadata": {},
   "outputs": [
    {
     "name": "stdout",
     "output_type": "stream",
     "text": [
      "0.0% or 0 / 1085 rows of dataset have reduced by deduplication\n"
     ]
    }
   ],
   "source": [
    "initial_len = len(df2)\n",
    "df2 = df2.drop_duplicates(keep = 'first')\n",
    "final_len = len(df2)\n",
    "print(f'{round(100*(1-final_len/initial_len),1)}% or {initial_len - final_len} / {initial_len} rows of dataset have reduced by deduplication')"
   ]
  },
  {
   "cell_type": "markdown",
   "id": "901616b2",
   "metadata": {},
   "source": [
    "### Replacing 'Health_status' on '1' (infected) ans '0' (non infected)"
   ]
  },
  {
   "cell_type": "code",
   "execution_count": 24,
   "id": "af309760",
   "metadata": {},
   "outputs": [
    {
     "data": {
      "text/plain": [
       "array(['Infected', 'Non Infected', 'Non infected ', 'Non infected'],\n",
       "      dtype=object)"
      ]
     },
     "execution_count": 24,
     "metadata": {},
     "output_type": "execute_result"
    }
   ],
   "source": [
    "df2['Health_status'].unique()"
   ]
  },
  {
   "cell_type": "code",
   "execution_count": 25,
   "id": "d590576c",
   "metadata": {},
   "outputs": [
    {
     "data": {
      "text/html": [
       "<div>\n",
       "<style scoped>\n",
       "    .dataframe tbody tr th:only-of-type {\n",
       "        vertical-align: middle;\n",
       "    }\n",
       "\n",
       "    .dataframe tbody tr th {\n",
       "        vertical-align: top;\n",
       "    }\n",
       "\n",
       "    .dataframe thead th {\n",
       "        text-align: right;\n",
       "    }\n",
       "</style>\n",
       "<table border=\"1\" class=\"dataframe\">\n",
       "  <thead>\n",
       "    <tr style=\"text-align: right;\">\n",
       "      <th></th>\n",
       "      <th>id</th>\n",
       "      <th>gender</th>\n",
       "      <th>age</th>\n",
       "      <th>heart_rate</th>\n",
       "      <th>temperature</th>\n",
       "      <th>SpO2_saturation</th>\n",
       "      <th>bpm</th>\n",
       "      <th>Health_status</th>\n",
       "    </tr>\n",
       "  </thead>\n",
       "  <tbody>\n",
       "    <tr>\n",
       "      <th>0</th>\n",
       "      <td>1</td>\n",
       "      <td>male</td>\n",
       "      <td>66.0</td>\n",
       "      <td>70</td>\n",
       "      <td>38.6</td>\n",
       "      <td>88.0</td>\n",
       "      <td>75</td>\n",
       "      <td>1</td>\n",
       "    </tr>\n",
       "    <tr>\n",
       "      <th>1</th>\n",
       "      <td>2</td>\n",
       "      <td>female</td>\n",
       "      <td>56.0</td>\n",
       "      <td>74</td>\n",
       "      <td>39.6</td>\n",
       "      <td>88.0</td>\n",
       "      <td>70</td>\n",
       "      <td>1</td>\n",
       "    </tr>\n",
       "    <tr>\n",
       "      <th>2</th>\n",
       "      <td>3</td>\n",
       "      <td>male</td>\n",
       "      <td>46.0</td>\n",
       "      <td>82</td>\n",
       "      <td>37.2</td>\n",
       "      <td>98.0</td>\n",
       "      <td>83</td>\n",
       "      <td>0</td>\n",
       "    </tr>\n",
       "    <tr>\n",
       "      <th>3</th>\n",
       "      <td>4</td>\n",
       "      <td>female</td>\n",
       "      <td>60.0</td>\n",
       "      <td>90</td>\n",
       "      <td>38.6</td>\n",
       "      <td>98.0</td>\n",
       "      <td>75</td>\n",
       "      <td>0</td>\n",
       "    </tr>\n",
       "    <tr>\n",
       "      <th>4</th>\n",
       "      <td>5</td>\n",
       "      <td>male</td>\n",
       "      <td>58.0</td>\n",
       "      <td>72</td>\n",
       "      <td>39.6</td>\n",
       "      <td>93.0</td>\n",
       "      <td>78</td>\n",
       "      <td>1</td>\n",
       "    </tr>\n",
       "  </tbody>\n",
       "</table>\n",
       "</div>"
      ],
      "text/plain": [
       "   id  gender   age  heart_rate  temperature  SpO2_saturation  bpm  \\\n",
       "0   1    male  66.0          70         38.6             88.0   75   \n",
       "1   2  female  56.0          74         39.6             88.0   70   \n",
       "2   3    male  46.0          82         37.2             98.0   83   \n",
       "3   4  female  60.0          90         38.6             98.0   75   \n",
       "4   5    male  58.0          72         39.6             93.0   78   \n",
       "\n",
       "   Health_status  \n",
       "0              1  \n",
       "1              1  \n",
       "2              0  \n",
       "3              0  \n",
       "4              1  "
      ]
     },
     "metadata": {},
     "output_type": "display_data"
    },
    {
     "name": "stdout",
     "output_type": "stream",
     "text": [
      "<class 'pandas.core.frame.DataFrame'>\n",
      "RangeIndex: 1085 entries, 0 to 1084\n",
      "Data columns (total 8 columns):\n",
      " #   Column           Non-Null Count  Dtype  \n",
      "---  ------           --------------  -----  \n",
      " 0   id               1085 non-null   int64  \n",
      " 1   gender           902 non-null    object \n",
      " 2   age              843 non-null    float64\n",
      " 3   heart_rate       1085 non-null   int64  \n",
      " 4   temperature      1085 non-null   float64\n",
      " 5   SpO2_saturation  1085 non-null   float64\n",
      " 6   bpm              1085 non-null   int64  \n",
      " 7   Health_status    1085 non-null   int64  \n",
      "dtypes: float64(3), int64(4), object(1)\n",
      "memory usage: 67.9+ KB\n"
     ]
    }
   ],
   "source": [
    "df2['Health_status'] = df2['Health_status'].replace('Infected',1)\n",
    "df2['Health_status'] = df2['Health_status'].replace('Non Infected',0)\n",
    "df2['Health_status'] = df2['Health_status'].replace('Non infected ',0)\n",
    "df2['Health_status'] = df2['Health_status'].replace('Non infected',0)\n",
    "\n",
    "df2['Health_status'] = pd.to_numeric(df2['Health_status'], errors=\"coerce\")\n",
    "\n",
    "display(df2.head())\n",
    "df2.info()"
   ]
  },
  {
   "cell_type": "markdown",
   "id": "4d053407",
   "metadata": {},
   "source": [
    "### Creating feature dataset and target dataset for checking LGBMClassifier model "
   ]
  },
  {
   "cell_type": "code",
   "execution_count": 26,
   "id": "0eb454c6",
   "metadata": {},
   "outputs": [
    {
     "name": "stdout",
     "output_type": "stream",
     "text": [
      "Feature dataset:\n"
     ]
    },
    {
     "data": {
      "text/html": [
       "<div>\n",
       "<style scoped>\n",
       "    .dataframe tbody tr th:only-of-type {\n",
       "        vertical-align: middle;\n",
       "    }\n",
       "\n",
       "    .dataframe tbody tr th {\n",
       "        vertical-align: top;\n",
       "    }\n",
       "\n",
       "    .dataframe thead th {\n",
       "        text-align: right;\n",
       "    }\n",
       "</style>\n",
       "<table border=\"1\" class=\"dataframe\">\n",
       "  <thead>\n",
       "    <tr style=\"text-align: right;\">\n",
       "      <th></th>\n",
       "      <th>Oxygen</th>\n",
       "      <th>PulseRate</th>\n",
       "      <th>Temperature</th>\n",
       "    </tr>\n",
       "  </thead>\n",
       "  <tbody>\n",
       "    <tr>\n",
       "      <th>0</th>\n",
       "      <td>-0.975033</td>\n",
       "      <td>-0.573748</td>\n",
       "      <td>-19.297388</td>\n",
       "    </tr>\n",
       "    <tr>\n",
       "      <th>1</th>\n",
       "      <td>-0.975033</td>\n",
       "      <td>-0.422154</td>\n",
       "      <td>-18.983079</td>\n",
       "    </tr>\n",
       "    <tr>\n",
       "      <th>2</th>\n",
       "      <td>1.192837</td>\n",
       "      <td>-0.118966</td>\n",
       "      <td>-19.737421</td>\n",
       "    </tr>\n",
       "    <tr>\n",
       "      <th>3</th>\n",
       "      <td>1.192837</td>\n",
       "      <td>0.184222</td>\n",
       "      <td>-19.297388</td>\n",
       "    </tr>\n",
       "    <tr>\n",
       "      <th>4</th>\n",
       "      <td>0.108902</td>\n",
       "      <td>-0.497951</td>\n",
       "      <td>-18.983079</td>\n",
       "    </tr>\n",
       "  </tbody>\n",
       "</table>\n",
       "</div>"
      ],
      "text/plain": [
       "     Oxygen  PulseRate  Temperature\n",
       "0 -0.975033  -0.573748   -19.297388\n",
       "1 -0.975033  -0.422154   -18.983079\n",
       "2  1.192837  -0.118966   -19.737421\n",
       "3  1.192837   0.184222   -19.297388\n",
       "4  0.108902  -0.497951   -18.983079"
      ]
     },
     "metadata": {},
     "output_type": "display_data"
    },
    {
     "name": "stdout",
     "output_type": "stream",
     "text": [
      "\n",
      "Target dataset:\n"
     ]
    },
    {
     "data": {
      "text/plain": [
       "0    1\n",
       "1    1\n",
       "2    0\n",
       "3    0\n",
       "4    1\n",
       "Name: Health_status, dtype: int64"
      ]
     },
     "metadata": {},
     "output_type": "display_data"
    }
   ],
   "source": [
    "df2['Oxygen'] = df2['SpO2_saturation']\n",
    "df2['PulseRate'] = df2['heart_rate']\n",
    "df2['Temperature'] = df2['temperature']\n",
    "\n",
    "f_real = pd.DataFrame()\n",
    "f_real['Oxygen'] = df2['SpO2_saturation']\n",
    "f_real['PulseRate'] = df2['heart_rate']\n",
    "f_real['Temperature'] = df2['temperature']\n",
    "\n",
    "col = list(f_train)\n",
    "f_real[col] = scaler.transform(f_real[col])\n",
    "\n",
    "t_real = df2['Health_status']\n",
    "\n",
    "print('Feature dataset:')\n",
    "display (f_real.head())\n",
    "\n",
    "print('\\nTarget dataset:')\n",
    "display (t_real.head())"
   ]
  },
  {
   "cell_type": "markdown",
   "id": "e6266515",
   "metadata": {},
   "source": [
    "### Checking teached LGBMClassifier model"
   ]
  },
  {
   "cell_type": "code",
   "execution_count": 27,
   "id": "7b93166c",
   "metadata": {},
   "outputs": [
    {
     "name": "stdout",
     "output_type": "stream",
     "text": [
      "Determined metrics for model LGBMClassifier on non synthetic data:\n",
      "\n",
      "Confusion matrix:\n"
     ]
    },
    {
     "data": {
      "text/html": [
       "<div>\n",
       "<style scoped>\n",
       "    .dataframe tbody tr th:only-of-type {\n",
       "        vertical-align: middle;\n",
       "    }\n",
       "\n",
       "    .dataframe tbody tr th {\n",
       "        vertical-align: top;\n",
       "    }\n",
       "\n",
       "    .dataframe thead th {\n",
       "        text-align: right;\n",
       "    }\n",
       "</style>\n",
       "<table border=\"1\" class=\"dataframe\">\n",
       "  <thead>\n",
       "    <tr style=\"text-align: right;\">\n",
       "      <th></th>\n",
       "      <th>0</th>\n",
       "      <th>1</th>\n",
       "    </tr>\n",
       "  </thead>\n",
       "  <tbody>\n",
       "    <tr>\n",
       "      <th>0</th>\n",
       "      <td>127</td>\n",
       "      <td>13</td>\n",
       "    </tr>\n",
       "    <tr>\n",
       "      <th>1</th>\n",
       "      <td>91</td>\n",
       "      <td>854</td>\n",
       "    </tr>\n",
       "  </tbody>\n",
       "</table>\n",
       "</div>"
      ],
      "text/plain": [
       "     0    1\n",
       "0  127   13\n",
       "1   91  854"
      ]
     },
     "metadata": {},
     "output_type": "display_data"
    },
    {
     "data": {
      "text/html": [
       "<div>\n",
       "<style scoped>\n",
       "    .dataframe tbody tr th:only-of-type {\n",
       "        vertical-align: middle;\n",
       "    }\n",
       "\n",
       "    .dataframe tbody tr th {\n",
       "        vertical-align: top;\n",
       "    }\n",
       "\n",
       "    .dataframe thead th {\n",
       "        text-align: right;\n",
       "    }\n",
       "</style>\n",
       "<table border=\"1\" class=\"dataframe\">\n",
       "  <thead>\n",
       "    <tr style=\"text-align: right;\">\n",
       "      <th></th>\n",
       "      <th>Accuracy</th>\n",
       "      <th>F1 score</th>\n",
       "    </tr>\n",
       "  </thead>\n",
       "  <tbody>\n",
       "    <tr>\n",
       "      <th>0</th>\n",
       "      <td>0.904</td>\n",
       "      <td>0.943</td>\n",
       "    </tr>\n",
       "  </tbody>\n",
       "</table>\n",
       "</div>"
      ],
      "text/plain": [
       "   Accuracy  F1 score\n",
       "0     0.904     0.943"
      ]
     },
     "metadata": {},
     "output_type": "display_data"
    }
   ],
   "source": [
    "print('Determined metrics for model LGBMClassifier on non synthetic data:\\n')\n",
    "result = metrics (model_lgbm, f_real, t_real, 0)"
   ]
  },
  {
   "cell_type": "markdown",
   "id": "d5ad08d3",
   "metadata": {},
   "source": [
    "## 5. Conclusion"
   ]
  },
  {
   "cell_type": "raw",
   "id": "1e82bd09",
   "metadata": {},
   "source": [
    "1. Initial dataset contains synthetic 10000 rows without 'NaN' values, 2608 or 26.1% was reduced by deduplication. This dataset has good balance between 'positine' and 'negative' Covid results.\n",
    "2. Pairploting of synthetic data shows main trend for Covid determination. It is low O2 saturation and high temperature. Trend between pulse rate and Covid determination are not clear from pairploting.\n",
    "First two pairploting trends correspond to correlation matrix (phik matrix):\n",
    "\n",
    "  - 94% between result and O2 saturation\n",
    "  - 39% between result and temperature\n",
    "  - 20% between result and pulse rate\n",
    "\n",
    "3. Pair correlations between three parameter (O2 saturation, pulse rate and temperature) of synthetic data are really low (< 0.5%). This combined with point 2 indicate that cavid determination requires all three parameters for better forecast.\n",
    "\n",
    "4. For teaching ML models synthetic dataset was devided on train and test datasets in proportion 3:1. Crossvalidation methods was used for Covid determination by three models:\n",
    "  - LogisticRegression\n",
    "  - RandomForestClassifier\n",
    "  - LGBMClassifier\n",
    "  \n",
    "5. Results of model teaching using synthetic datas hows that Covid can be determined using O2 saturation, temperature and pulse rate. Two models (RandomForestClassifier and LGBMClassifier) shows best results, they haven't mistakes in Covid determination on train synthetic dataset using crossvalidation. But they has difference of Prediction time. LGBMClassifier have less prediction time than RandomForestClassifier. Thus LGBMClassifier was used for test synthetic dataset.\n",
    "\n",
    "6. LGBMClassifier model shows great result and haven't mistakes for determined Covid on test synthetic dataset. Accuracy and F1 score for LGBMClassifier model equal 1.00.\n",
    "\n",
    "7. For determination LGBMClassifier model consistency was used non synthetic dataset. Result of LGBMClassifier model teached using non synthetic dataset shows good result:\n",
    "   - 0.904 - Accuracy\n",
    "   - 0.943 - F1 score"
   ]
  }
 ],
 "metadata": {
  "kernelspec": {
   "display_name": "Python 3 (ipykernel)",
   "language": "python",
   "name": "python3"
  },
  "language_info": {
   "codemirror_mode": {
    "name": "ipython",
    "version": 3
   },
   "file_extension": ".py",
   "mimetype": "text/x-python",
   "name": "python",
   "nbconvert_exporter": "python",
   "pygments_lexer": "ipython3",
   "version": "3.10.9"
  }
 },
 "nbformat": 4,
 "nbformat_minor": 5
}
