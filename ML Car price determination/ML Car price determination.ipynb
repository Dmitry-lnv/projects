{
 "cells": [
  {
   "cell_type": "markdown",
   "metadata": {},
   "source": [
    "# Определение стоимости автомобилей"
   ]
  },
  {
   "cell_type": "markdown",
   "metadata": {},
   "source": [
    "Сервис по продаже автомобилей с пробегом «Не бит, не крашен» разрабатывает приложение для привлечения новых клиентов. В нём можно быстро узнать рыночную стоимость своего автомобиля. В вашем распоряжении исторические данные: технические характеристики, комплектации и цены автомобилей.\n",
    "\n",
    "Вам нужно построить модель для определения стоимости. \n",
    "\n",
    "Заказчику важны:\n",
    "\n",
    "- качество предсказания;\n",
    "- скорость предсказания;\n",
    "- время обучения.\n",
    "\n",
    "\n",
    "Описание данных:\n",
    "\n",
    "- DateCrawled — дата скачивания анкеты из базы\n",
    "- VehicleType — тип автомобильного кузова\n",
    "- RegistrationYear — год регистрации автомобиля\n",
    "- Gearbox — тип коробки передач\n",
    "- Power — мощность (л. с.)\n",
    "- Model — модель автомобиля\n",
    "- Kilometer — пробег (км)\n",
    "- RegistrationMonth — месяц регистрации автомобиля\n",
    "- FuelType — тип топлива\n",
    "- Brand — марка автомобиля\n",
    "- Repaired — была машина в ремонте или нет\n",
    "- DateCreated — дата создания анкеты\n",
    "- NumberOfPictures — количество фотографий автомобиля\n",
    "- PostalCode — почтовый индекс владельца анкеты (пользователя)\n",
    "- LastSeen — дата последней активности пользователя\n",
    "\n",
    "Целевой признак: \n",
    "- Price — цена (евро)"
   ]
  },
  {
   "cell_type": "markdown",
   "metadata": {},
   "source": [
    "## Подготовка данных"
   ]
  },
  {
   "cell_type": "code",
   "execution_count": 1,
   "metadata": {},
   "outputs": [],
   "source": [
    "import pandas as pd\n",
    "from datetime import datetime\n",
    "import matplotlib.pyplot as plt\n",
    "import seaborn as sns\n",
    "import numpy as np\n",
    "import time\n",
    "\n",
    "import statistics as st\n",
    "from sklearn.metrics import mean_squared_error\n",
    "\n",
    "from sklearn.model_selection import train_test_split\n",
    "from sklearn.preprocessing import StandardScaler\n",
    "\n",
    "from sklearn.linear_model import LinearRegression\n",
    "from sklearn.tree import DecisionTreeRegressor\n",
    "from sklearn.ensemble import RandomForestRegressor\n",
    "import lightgbm as lgb\n",
    "\n",
    "from sklearn.model_selection import GridSearchCV\n",
    "from sklearn.preprocessing import OneHotEncoder"
   ]
  },
  {
   "cell_type": "code",
   "execution_count": 2,
   "metadata": {
    "scrolled": false
   },
   "outputs": [
    {
     "data": {
      "text/html": [
       "<div>\n",
       "<style scoped>\n",
       "    .dataframe tbody tr th:only-of-type {\n",
       "        vertical-align: middle;\n",
       "    }\n",
       "\n",
       "    .dataframe tbody tr th {\n",
       "        vertical-align: top;\n",
       "    }\n",
       "\n",
       "    .dataframe thead th {\n",
       "        text-align: right;\n",
       "    }\n",
       "</style>\n",
       "<table border=\"1\" class=\"dataframe\">\n",
       "  <thead>\n",
       "    <tr style=\"text-align: right;\">\n",
       "      <th></th>\n",
       "      <th>DateCrawled</th>\n",
       "      <th>Price</th>\n",
       "      <th>VehicleType</th>\n",
       "      <th>RegistrationYear</th>\n",
       "      <th>Gearbox</th>\n",
       "      <th>Power</th>\n",
       "      <th>Model</th>\n",
       "      <th>Kilometer</th>\n",
       "      <th>RegistrationMonth</th>\n",
       "      <th>FuelType</th>\n",
       "      <th>Brand</th>\n",
       "      <th>Repaired</th>\n",
       "      <th>DateCreated</th>\n",
       "      <th>NumberOfPictures</th>\n",
       "      <th>PostalCode</th>\n",
       "      <th>LastSeen</th>\n",
       "    </tr>\n",
       "  </thead>\n",
       "  <tbody>\n",
       "    <tr>\n",
       "      <th>0</th>\n",
       "      <td>2016-03-24 11:52:17</td>\n",
       "      <td>480</td>\n",
       "      <td>NaN</td>\n",
       "      <td>1993</td>\n",
       "      <td>manual</td>\n",
       "      <td>0</td>\n",
       "      <td>golf</td>\n",
       "      <td>150000</td>\n",
       "      <td>0</td>\n",
       "      <td>petrol</td>\n",
       "      <td>volkswagen</td>\n",
       "      <td>NaN</td>\n",
       "      <td>2016-03-24 00:00:00</td>\n",
       "      <td>0</td>\n",
       "      <td>70435</td>\n",
       "      <td>2016-04-07 03:16:57</td>\n",
       "    </tr>\n",
       "    <tr>\n",
       "      <th>1</th>\n",
       "      <td>2016-03-24 10:58:45</td>\n",
       "      <td>18300</td>\n",
       "      <td>coupe</td>\n",
       "      <td>2011</td>\n",
       "      <td>manual</td>\n",
       "      <td>190</td>\n",
       "      <td>NaN</td>\n",
       "      <td>125000</td>\n",
       "      <td>5</td>\n",
       "      <td>gasoline</td>\n",
       "      <td>audi</td>\n",
       "      <td>yes</td>\n",
       "      <td>2016-03-24 00:00:00</td>\n",
       "      <td>0</td>\n",
       "      <td>66954</td>\n",
       "      <td>2016-04-07 01:46:50</td>\n",
       "    </tr>\n",
       "    <tr>\n",
       "      <th>2</th>\n",
       "      <td>2016-03-14 12:52:21</td>\n",
       "      <td>9800</td>\n",
       "      <td>suv</td>\n",
       "      <td>2004</td>\n",
       "      <td>auto</td>\n",
       "      <td>163</td>\n",
       "      <td>grand</td>\n",
       "      <td>125000</td>\n",
       "      <td>8</td>\n",
       "      <td>gasoline</td>\n",
       "      <td>jeep</td>\n",
       "      <td>NaN</td>\n",
       "      <td>2016-03-14 00:00:00</td>\n",
       "      <td>0</td>\n",
       "      <td>90480</td>\n",
       "      <td>2016-04-05 12:47:46</td>\n",
       "    </tr>\n",
       "    <tr>\n",
       "      <th>3</th>\n",
       "      <td>2016-03-17 16:54:04</td>\n",
       "      <td>1500</td>\n",
       "      <td>small</td>\n",
       "      <td>2001</td>\n",
       "      <td>manual</td>\n",
       "      <td>75</td>\n",
       "      <td>golf</td>\n",
       "      <td>150000</td>\n",
       "      <td>6</td>\n",
       "      <td>petrol</td>\n",
       "      <td>volkswagen</td>\n",
       "      <td>no</td>\n",
       "      <td>2016-03-17 00:00:00</td>\n",
       "      <td>0</td>\n",
       "      <td>91074</td>\n",
       "      <td>2016-03-17 17:40:17</td>\n",
       "    </tr>\n",
       "    <tr>\n",
       "      <th>4</th>\n",
       "      <td>2016-03-31 17:25:20</td>\n",
       "      <td>3600</td>\n",
       "      <td>small</td>\n",
       "      <td>2008</td>\n",
       "      <td>manual</td>\n",
       "      <td>69</td>\n",
       "      <td>fabia</td>\n",
       "      <td>90000</td>\n",
       "      <td>7</td>\n",
       "      <td>gasoline</td>\n",
       "      <td>skoda</td>\n",
       "      <td>no</td>\n",
       "      <td>2016-03-31 00:00:00</td>\n",
       "      <td>0</td>\n",
       "      <td>60437</td>\n",
       "      <td>2016-04-06 10:17:21</td>\n",
       "    </tr>\n",
       "  </tbody>\n",
       "</table>\n",
       "</div>"
      ],
      "text/plain": [
       "           DateCrawled  Price VehicleType  RegistrationYear Gearbox  Power  \\\n",
       "0  2016-03-24 11:52:17    480         NaN              1993  manual      0   \n",
       "1  2016-03-24 10:58:45  18300       coupe              2011  manual    190   \n",
       "2  2016-03-14 12:52:21   9800         suv              2004    auto    163   \n",
       "3  2016-03-17 16:54:04   1500       small              2001  manual     75   \n",
       "4  2016-03-31 17:25:20   3600       small              2008  manual     69   \n",
       "\n",
       "   Model  Kilometer  RegistrationMonth  FuelType       Brand Repaired  \\\n",
       "0   golf     150000                  0    petrol  volkswagen      NaN   \n",
       "1    NaN     125000                  5  gasoline        audi      yes   \n",
       "2  grand     125000                  8  gasoline        jeep      NaN   \n",
       "3   golf     150000                  6    petrol  volkswagen       no   \n",
       "4  fabia      90000                  7  gasoline       skoda       no   \n",
       "\n",
       "           DateCreated  NumberOfPictures  PostalCode             LastSeen  \n",
       "0  2016-03-24 00:00:00                 0       70435  2016-04-07 03:16:57  \n",
       "1  2016-03-24 00:00:00                 0       66954  2016-04-07 01:46:50  \n",
       "2  2016-03-14 00:00:00                 0       90480  2016-04-05 12:47:46  \n",
       "3  2016-03-17 00:00:00                 0       91074  2016-03-17 17:40:17  \n",
       "4  2016-03-31 00:00:00                 0       60437  2016-04-06 10:17:21  "
      ]
     },
     "metadata": {},
     "output_type": "display_data"
    },
    {
     "name": "stdout",
     "output_type": "stream",
     "text": [
      "<class 'pandas.core.frame.DataFrame'>\n",
      "RangeIndex: 354369 entries, 0 to 354368\n",
      "Data columns (total 16 columns):\n",
      " #   Column             Non-Null Count   Dtype \n",
      "---  ------             --------------   ----- \n",
      " 0   DateCrawled        354369 non-null  object\n",
      " 1   Price              354369 non-null  int64 \n",
      " 2   VehicleType        316879 non-null  object\n",
      " 3   RegistrationYear   354369 non-null  int64 \n",
      " 4   Gearbox            334536 non-null  object\n",
      " 5   Power              354369 non-null  int64 \n",
      " 6   Model              334664 non-null  object\n",
      " 7   Kilometer          354369 non-null  int64 \n",
      " 8   RegistrationMonth  354369 non-null  int64 \n",
      " 9   FuelType           321474 non-null  object\n",
      " 10  Brand              354369 non-null  object\n",
      " 11  Repaired           283215 non-null  object\n",
      " 12  DateCreated        354369 non-null  object\n",
      " 13  NumberOfPictures   354369 non-null  int64 \n",
      " 14  PostalCode         354369 non-null  int64 \n",
      " 15  LastSeen           354369 non-null  object\n",
      "dtypes: int64(7), object(9)\n",
      "memory usage: 43.3+ MB\n"
     ]
    }
   ],
   "source": [
    "try: df = pd.read_csv('/Users/dmitry/Desktop/yandex_python/10. Численные методы/autos.csv')\n",
    "except: df = pd.read_csv('/datasets/autos.csv')\n",
    "\n",
    "display (df.head())\n",
    "df.info()\n",
    "len_in1 = len(df)"
   ]
  },
  {
   "cell_type": "code",
   "execution_count": 3,
   "metadata": {},
   "outputs": [
    {
     "data": {
      "text/plain": [
       "DateCrawled              0\n",
       "Price                    0\n",
       "VehicleType          37490\n",
       "RegistrationYear         0\n",
       "Gearbox              19833\n",
       "Power                    0\n",
       "Model                19705\n",
       "Kilometer                0\n",
       "RegistrationMonth        0\n",
       "FuelType             32895\n",
       "Brand                    0\n",
       "Repaired             71154\n",
       "DateCreated              0\n",
       "NumberOfPictures         0\n",
       "PostalCode               0\n",
       "LastSeen                 0\n",
       "dtype: int64"
      ]
     },
     "execution_count": 3,
     "metadata": {},
     "output_type": "execute_result"
    }
   ],
   "source": [
    "df.isna().sum()"
   ]
  },
  {
   "cell_type": "code",
   "execution_count": 4,
   "metadata": {},
   "outputs": [
    {
     "name": "stderr",
     "output_type": "stream",
     "text": [
      "/Users/dmitry/anaconda3/lib/python3.10/site-packages/seaborn/axisgrid.py:118: UserWarning: The figure layout has changed to tight\n",
      "  self._figure.tight_layout(*args, **kwargs)\n"
     ]
    },
    {
     "data": {
      "text/plain": [
       "<Figure size 640x480 with 0 Axes>"
      ]
     },
     "metadata": {},
     "output_type": "display_data"
    },
    {
     "data": {
      "image/png": "[encoded data removed]",
      "text/plain": [
       "<Figure size 750x750 with 30 Axes>"
      ]
     },
     "metadata": {},
     "output_type": "display_data"
    }
   ],
   "source": [
    "df_pair_dist = df[['Price', 'RegistrationYear', 'Power', 'Kilometer', 'PostalCode']]\n",
    "\n",
    "plt.figure()\n",
    "dist = sns.pairplot(df_pair_dist, plot_kws = dict(alpha = 1, s = 5), height = 1.5)\n",
    "dist.fig.suptitle(f'парные распределения', y=1.02)\n",
    "plt.show()"
   ]
  },
  {
   "cell_type": "code",
   "execution_count": 5,
   "metadata": {},
   "outputs": [
    {
     "data": {
      "image/png": "[encoded data removed]",
      "text/plain": [
       "<Figure size 1000x200 with 1 Axes>"
      ]
     },
     "metadata": {},
     "output_type": "display_data"
    }
   ],
   "source": [
    "plt.figure(figsize = (10,2))\n",
    "plt.hist(df['Price'], bins = 201)\n",
    "\n",
    "plt.title('распределение цен на автомобили')\n",
    "plt.xlabel('цена')\n",
    "plt.ylabel('кол-во')\n",
    "plt.grid(True)\n",
    "plt.show()"
   ]
  },
  {
   "cell_type": "code",
   "execution_count": 6,
   "metadata": {},
   "outputs": [
    {
     "data": {
      "text/plain": [
       "array(['petrol', 'gasoline', nan, 'lpg', 'other', 'hybrid', 'cng',\n",
       "       'electric'], dtype=object)"
      ]
     },
     "execution_count": 6,
     "metadata": {},
     "output_type": "execute_result"
    }
   ],
   "source": [
    "df['FuelType'].unique()"
   ]
  },
  {
   "cell_type": "code",
   "execution_count": 7,
   "metadata": {},
   "outputs": [
    {
     "data": {
      "text/plain": [
       "array([0])"
      ]
     },
     "execution_count": 7,
     "metadata": {},
     "output_type": "execute_result"
    }
   ],
   "source": [
    "df['NumberOfPictures'].unique()"
   ]
  },
  {
   "cell_type": "markdown",
   "metadata": {},
   "source": [
    "#### Промедуточные выводы:\n",
    "\n",
    "Некоторыне параметры не могут влиять на стоимость автомобиля:\n",
    "   - DateCrawled\n",
    "   - RegistrationMonth\n",
    "   - LastSeen\n",
    "   - PostalCode\n",
    "\n",
    "В загруженных данных наблюдаются аномальные значения в категориях:\n",
    "   - Registration year\n",
    "   - Power\n",
    "   \n",
    "Набор данных содержит пропуски в категориях:\n",
    "   - ~ 11% VehicleType\n",
    "   - ~ 6%  Gearbox\n",
    "   - ~ 6%  Model\n",
    "   - ~ 9%  FuelType\n",
    "   - ~ 20% Repaired\n",
    "\n",
    "Дублирующие значения в категории:\n",
    "   - FuelType\n",
    "   \n",
    "Полностью отсутствуют значения в категории:\n",
    "   - NumberOfPictures"
   ]
  },
  {
   "cell_type": "markdown",
   "metadata": {},
   "source": [
    "### Предобработка данных"
   ]
  },
  {
   "cell_type": "markdown",
   "metadata": {},
   "source": [
    "#### Удалим параметры не влияющие на стоимость автомобиля"
   ]
  },
  {
   "cell_type": "code",
   "execution_count": 8,
   "metadata": {},
   "outputs": [],
   "source": [
    "try:\n",
    "    df2 = df.drop(['DateCrawled', 'LastSeen', 'RegistrationMonth', 'NumberOfPictures', 'PostalCode'], axis =1)\n",
    "except:\n",
    "    df2=df"
   ]
  },
  {
   "cell_type": "markdown",
   "metadata": {},
   "source": [
    "#### Удалим данные с нулевой ценой"
   ]
  },
  {
   "cell_type": "code",
   "execution_count": 9,
   "metadata": {},
   "outputs": [
    {
     "data": {
      "image/png": "[encoded data removed]",
      "text/plain": [
       "<Figure size 1000x200 with 1 Axes>"
      ]
     },
     "metadata": {},
     "output_type": "display_data"
    }
   ],
   "source": [
    "plt.figure(figsize=(10,2))\n",
    "df2['Price'].hist(bins = 201, range = (0,2000))\n",
    "\n",
    "plt.title('распределение цен на автомобили в диапазоне 0 - 2000')\n",
    "plt.xlabel('цена')\n",
    "plt.ylabel('кол-во')\n",
    "plt.grid(True)\n",
    "plt.show()"
   ]
  },
  {
   "cell_type": "code",
   "execution_count": 10,
   "metadata": {},
   "outputs": [
    {
     "name": "stdout",
     "output_type": "stream",
     "text": [
      "выборка сократилась на 5.5 %\n"
     ]
    }
   ],
   "source": [
    "len_in = len(df2)\n",
    "df2 = df2.loc[df2['Price'] > 200]\n",
    "len_fin = len(df2)\n",
    "print('выборка сократилась на', round(100 - 100*len_fin/len_in, 1), '%')"
   ]
  },
  {
   "cell_type": "markdown",
   "metadata": {},
   "source": [
    "#### Удалим аномалии в Registration year"
   ]
  },
  {
   "cell_type": "markdown",
   "metadata": {},
   "source": [
    "т.к. год регистрации автомобиля не может быть больше года создания анкеты, то удалим эти данные"
   ]
  },
  {
   "cell_type": "code",
   "execution_count": 11,
   "metadata": {},
   "outputs": [
    {
     "data": {
      "text/plain": [
       "Index([2016, 2015, 2014], dtype='int32', name='DateCreated')"
      ]
     },
     "execution_count": 11,
     "metadata": {},
     "output_type": "execute_result"
    }
   ],
   "source": [
    "pd.DatetimeIndex(df['DateCreated']).year.unique()"
   ]
  },
  {
   "cell_type": "code",
   "execution_count": 12,
   "metadata": {},
   "outputs": [
    {
     "name": "stdout",
     "output_type": "stream",
     "text": [
      "выборка сократилась на 6.5 %\n"
     ]
    }
   ],
   "source": [
    "df2['DateCreated'] = pd.to_datetime(df2['DateCreated'])\n",
    "df2['year_created'] = pd.DatetimeIndex(df2['DateCreated']).year\n",
    "\n",
    "\n",
    "len_in = len(df2)\n",
    "df2 = df2.loc[df2['RegistrationYear'] < df2['year_created']]\n",
    "len_fin = len(df2)\n",
    "print('выборка сократилась на', round(100 - 100*len_fin/len_in, 1), '%')"
   ]
  },
  {
   "cell_type": "markdown",
   "metadata": {},
   "source": [
    "удалим данные по старым автомобилям:"
   ]
  },
  {
   "cell_type": "code",
   "execution_count": 13,
   "metadata": {},
   "outputs": [
    {
     "data": {
      "image/png": "[encoded data removed]",
      "text/plain": [
       "<Figure size 1000x200 with 1 Axes>"
      ]
     },
     "metadata": {},
     "output_type": "display_data"
    }
   ],
   "source": [
    "plt.figure(figsize = (10,2))\n",
    "df2['RegistrationYear'].hist(bins = 161, range = (1950, 2030))\n",
    "\n",
    "plt.title('распределение автомобилей по году регистрации')\n",
    "plt.xlabel('год регистрации')\n",
    "plt.ylabel('кол-во')\n",
    "plt.grid(True)\n",
    "plt.show()"
   ]
  },
  {
   "cell_type": "code",
   "execution_count": 14,
   "metadata": {},
   "outputs": [
    {
     "name": "stdout",
     "output_type": "stream",
     "text": [
      "выборка сократилась на 1.1 %\n"
     ]
    }
   ],
   "source": [
    "len_in = len(df2)\n",
    "\n",
    "df2 = df2.loc[df2['RegistrationYear'] > 1980]\n",
    "\n",
    "len_fin = len(df2)\n",
    "print('выборка сократилась на', round(100 - 100*len_fin/len_in, 1), '%')"
   ]
  },
  {
   "cell_type": "markdown",
   "metadata": {},
   "source": [
    "#### Удалим аномалии в Power "
   ]
  },
  {
   "cell_type": "code",
   "execution_count": 15,
   "metadata": {},
   "outputs": [
    {
     "data": {
      "image/png": "[encoded data removed]",
      "text/plain": [
       "<Figure size 1000x200 with 1 Axes>"
      ]
     },
     "metadata": {},
     "output_type": "display_data"
    }
   ],
   "source": [
    "plt.figure(figsize = (10,2))\n",
    "df2['Power'].hist(bins = 201, range = (0, 2000))\n",
    "\n",
    "plt.title('распределение автомобилей по мощности')\n",
    "plt.xlabel('мощность, л.с.')\n",
    "plt.ylabel('кол-во')\n",
    "plt.grid(True)\n",
    "plt.show()"
   ]
  },
  {
   "cell_type": "code",
   "execution_count": 16,
   "metadata": {},
   "outputs": [
    {
     "name": "stdout",
     "output_type": "stream",
     "text": [
      "суммарно выборка сократилась на 0.1 %\n"
     ]
    }
   ],
   "source": [
    "len_in = len(df2)\n",
    "\n",
    "df2 = df2.loc[df2['Power'] < 1000]\n",
    "\n",
    "len_fin = len(df2)\n",
    "print('суммарно выборка сократилась на', round(100 - 100*len_fin/len_in, 1), '%')"
   ]
  },
  {
   "cell_type": "code",
   "execution_count": 17,
   "metadata": {
    "scrolled": true
   },
   "outputs": [
    {
     "data": {
      "image/png": "[encoded data removed]",
      "text/plain": [
       "<Figure size 1000x200 with 1 Axes>"
      ]
     },
     "metadata": {},
     "output_type": "display_data"
    }
   ],
   "source": [
    "plt.figure(figsize = (10,2))\n",
    "df2['Power'].hist(bins = 201)\n",
    "\n",
    "plt.title('распределение автомобилей по мощности')\n",
    "plt.xlabel('мощность, л.с.')\n",
    "plt.ylabel('кол-во')\n",
    "plt.grid(True)\n",
    "plt.show()"
   ]
  },
  {
   "cell_type": "markdown",
   "metadata": {},
   "source": [
    "заменим нулевые значения power на моду по соответствующей модели, оставшиеся нулевые значения удалим"
   ]
  },
  {
   "cell_type": "code",
   "execution_count": 18,
   "metadata": {},
   "outputs": [],
   "source": [
    "pt = df2.pivot_table(index = ['Model'], values = 'Power', aggfunc = st.mode)\n",
    "#display(pt)"
   ]
  },
  {
   "cell_type": "code",
   "execution_count": 19,
   "metadata": {},
   "outputs": [
    {
     "data": {
      "image/png": "[encoded data removed]",
      "text/plain": [
       "<Figure size 1000x200 with 1 Axes>"
      ]
     },
     "metadata": {},
     "output_type": "display_data"
    }
   ],
   "source": [
    "df2 = df2.merge(pt, on='Model', how='left')\n",
    "try:\n",
    "    df2.loc[df2['Power_x'] < 25, 'Power_x'] = df2['Power_y']\n",
    "    df2 = df2.drop('Power_y', axis =1)\n",
    "except: df2 = df2\n",
    "    \n",
    "df2 = df2.rename(columns = {'Power_x': 'Power'})\n",
    "\n",
    "plt.figure(figsize = (10,2))\n",
    "df2['Power'].hist(bins = 201)\n",
    "\n",
    "plt.title('распределение автомобилей по мощности')\n",
    "plt.xlabel('мощность, л.с.')\n",
    "plt.ylabel('кол-во')\n",
    "plt.grid(True)\n",
    "plt.show()"
   ]
  },
  {
   "cell_type": "code",
   "execution_count": 20,
   "metadata": {},
   "outputs": [
    {
     "name": "stdout",
     "output_type": "stream",
     "text": [
      "выборка сократилась на 1.8 %\n"
     ]
    }
   ],
   "source": [
    "len_in = len(df2)\n",
    "df2 = df2.loc[df2['Power'] > 25]\n",
    "len_fin = len(df2)\n",
    "print('выборка сократилась на', round(100 - 100*len_fin/len_in, 1), '%')"
   ]
  },
  {
   "cell_type": "code",
   "execution_count": 21,
   "metadata": {},
   "outputs": [
    {
     "data": {
      "image/png": "[encoded data removed]",
      "text/plain": [
       "<Figure size 1000x200 with 1 Axes>"
      ]
     },
     "metadata": {},
     "output_type": "display_data"
    }
   ],
   "source": [
    "plt.figure(figsize = (10,2))\n",
    "df2['Power'].hist(bins = 201, range = (0,1000))\n",
    "\n",
    "plt.title('распределение автомобилей по мощности')\n",
    "plt.xlabel('мощность, л.с.')\n",
    "plt.ylabel('кол-во')\n",
    "plt.grid(True)\n",
    "plt.show()"
   ]
  },
  {
   "cell_type": "markdown",
   "metadata": {},
   "source": [
    "#### Заполнение пропусков Repaired"
   ]
  },
  {
   "cell_type": "markdown",
   "metadata": {},
   "source": [
    "отсутствие данных о ремонте на 'no'"
   ]
  },
  {
   "cell_type": "code",
   "execution_count": 22,
   "metadata": {},
   "outputs": [
    {
     "name": "stdout",
     "output_type": "stream",
     "text": [
      "Repaired = no: \t 227690\n",
      "Repaired = yes: \t 28309\n",
      "\n",
      "mode:\t 0    no\n",
      "Name: Repaired, dtype: object\n"
     ]
    }
   ],
   "source": [
    "print('Repaired = no: \\t', df2.loc[df2['Repaired'] == 'no']['Repaired'].count())\n",
    "print('Repaired = yes: \\t', df2.loc[df2['Repaired'] == 'yes']['Repaired'].count())\n",
    "print('\\nmode:\\t', df2['Repaired'].mode())"
   ]
  },
  {
   "cell_type": "code",
   "execution_count": 23,
   "metadata": {},
   "outputs": [],
   "source": [
    "df2['Repaired'] = df2['Repaired'].fillna('no')"
   ]
  },
  {
   "cell_type": "markdown",
   "metadata": {},
   "source": [
    "#### Заполнение пропусков FuelType"
   ]
  },
  {
   "cell_type": "code",
   "execution_count": 24,
   "metadata": {},
   "outputs": [
    {
     "data": {
      "image/png": "[encoded data removed]",
      "text/plain": [
       "<Figure size 1000x300 with 1 Axes>"
      ]
     },
     "metadata": {},
     "output_type": "display_data"
    }
   ],
   "source": [
    "plt.figure(figsize = (10,3))\n",
    "df2['FuelType'].hist()\n",
    "\n",
    "plt.title('распределение автомобилей по типу испозуемого топлива')\n",
    "plt.xlabel('тип топлива')\n",
    "plt.ylabel('кол-во')\n",
    "plt.grid(True)\n",
    "plt.show()"
   ]
  },
  {
   "cell_type": "markdown",
   "metadata": {},
   "source": [
    "petrol и gasoline - одно и тоже, поэтому заменим их"
   ]
  },
  {
   "cell_type": "code",
   "execution_count": 25,
   "metadata": {},
   "outputs": [
    {
     "name": "stdout",
     "output_type": "stream",
     "text": [
      "доля бензиновых двигателей составляет: 98.04 %\n"
     ]
    }
   ],
   "source": [
    "df2.loc[df2['FuelType'] == 'gasoline', 'FuelType'] = 'petrol'\n",
    "\n",
    "print('доля бензиновых двигателей составляет:',\n",
    "      round(100*len(df2.loc[df2['FuelType'] == 'petrol']) / len(df2.loc[df2['FuelType'].isna() == False]),2),\n",
    "      '%')"
   ]
  },
  {
   "cell_type": "markdown",
   "metadata": {},
   "source": [
    "подавляющее большинство машин являются бензиновыми, поэтому пропуски 'FuelType' заполним 'petrol'"
   ]
  },
  {
   "cell_type": "code",
   "execution_count": 26,
   "metadata": {},
   "outputs": [],
   "source": [
    "df2['FuelType'] = df2['FuelType'].fillna('petrol')"
   ]
  },
  {
   "cell_type": "markdown",
   "metadata": {},
   "source": [
    "#### Заполнение пропусков VehicleType, Gearbox, Model"
   ]
  },
  {
   "cell_type": "markdown",
   "metadata": {},
   "source": [
    "пропуски в 'VehicleType', 'Gearbox', 'Model' заполним значением other"
   ]
  },
  {
   "cell_type": "code",
   "execution_count": 27,
   "metadata": {},
   "outputs": [],
   "source": [
    "df2['VehicleType'] = df2['VehicleType'].fillna('other')\n",
    "df2['Gearbox'] = df2['Gearbox'].fillna('other')\n",
    "df2['Model'] = df2['Model'].fillna('other')"
   ]
  },
  {
   "cell_type": "markdown",
   "metadata": {},
   "source": [
    "#### удалим столбцы DateCreated и year_created"
   ]
  },
  {
   "cell_type": "code",
   "execution_count": 28,
   "metadata": {},
   "outputs": [
    {
     "name": "stdout",
     "output_type": "stream",
     "text": [
      "<class 'pandas.core.frame.DataFrame'>\n",
      "Index: 303852 entries, 0 to 309305\n",
      "Data columns (total 10 columns):\n",
      " #   Column            Non-Null Count   Dtype  \n",
      "---  ------            --------------   -----  \n",
      " 0   Price             303852 non-null  int64  \n",
      " 1   VehicleType       303852 non-null  object \n",
      " 2   RegistrationYear  303852 non-null  int64  \n",
      " 3   Gearbox           303852 non-null  object \n",
      " 4   Power             303852 non-null  float64\n",
      " 5   Model             303852 non-null  object \n",
      " 6   Kilometer         303852 non-null  int64  \n",
      " 7   FuelType          303852 non-null  object \n",
      " 8   Brand             303852 non-null  object \n",
      " 9   Repaired          303852 non-null  object \n",
      "dtypes: float64(1), int64(3), object(6)\n",
      "memory usage: 25.5+ MB\n"
     ]
    }
   ],
   "source": [
    "try: df2 = df2.drop(['DateCreated', 'year_created'], axis =1)\n",
    "except: df2= df2\n",
    "    \n",
    "df2.info()"
   ]
  },
  {
   "cell_type": "markdown",
   "metadata": {},
   "source": [
    "#### удаляем дубликаты"
   ]
  },
  {
   "cell_type": "code",
   "execution_count": 29,
   "metadata": {},
   "outputs": [
    {
     "name": "stdout",
     "output_type": "stream",
     "text": [
      "обнаружено дубликатов:\t 52646\n",
      "выборка сократилась на 17.3 %\n",
      "осталось дубликатов:\t 0\n"
     ]
    }
   ],
   "source": [
    "print('обнаружено дубликатов:\\t', df2.duplicated().sum())\n",
    "\n",
    "len_in = len(df2)\n",
    "df2 = df2.drop_duplicates(keep = 'first')\n",
    "len_fin = len(df2)\n",
    "print('выборка сократилась на', round(100 - 100*len_fin/len_in, 1), '%')\n",
    "\n",
    "print('осталось дубликатов:\\t', df2.duplicated().sum())"
   ]
  },
  {
   "cell_type": "markdown",
   "metadata": {},
   "source": [
    "#### смотрим общее сокращение выборки после всех манипуляций"
   ]
  },
  {
   "cell_type": "code",
   "execution_count": 30,
   "metadata": {},
   "outputs": [
    {
     "name": "stdout",
     "output_type": "stream",
     "text": [
      "суммарно выборка сократилась на 29.1 %\n"
     ]
    }
   ],
   "source": [
    "df2.isna().sum()\n",
    "\n",
    "len_fin = len(df2)\n",
    "print('суммарно выборка сократилась на', round(100 - 100*len_fin/len_in1, 1), '%')"
   ]
  },
  {
   "cell_type": "markdown",
   "metadata": {},
   "source": [
    "### Промедуточные выводы:\n",
    "\n",
    "В результате предобработки данные выполнено:\n",
    "\n",
    "    Удалены параметры, не влияющие на cтоимость автомобиля\n",
    "       - DateCrawled\n",
    "       - RegistrationMonth\n",
    "       - LastSeen\n",
    "       - PostalCode\n",
    "       - NumberOfPictures\n",
    "\n",
    "    удалены аномальные значения в категориях:\n",
    "       - price - нулевые значения удалены\n",
    "       - Registration year - ограничен значениями 1980 - 2016\n",
    "       - Power - нулевые значения заменены модой по соответствующей моделе\n",
    "   \n",
    "    Заполнены пропуски в категориях:\n",
    "       - ~ 11% VehicleType - заменено на 'other'\n",
    "       - ~ 6%  Gearbox - заменено на 'other'\n",
    "       - ~ 6%  Model - заменено на 'other'\n",
    "       - ~ 9%  FuelType - заменено на 'petrol'\n",
    "       - ~ 20% Repaired - заменено на 'no'\n",
    "    \n",
    "    Удалены дубликаты (~17% выборки)\n",
    "\n",
    "Общее сокращение выборки составило 29.1%"
   ]
  },
  {
   "cell_type": "markdown",
   "metadata": {},
   "source": [
    "## Обучение моделей"
   ]
  },
  {
   "cell_type": "markdown",
   "metadata": {},
   "source": [
    "### Разделение данных на тестовую и обучающую выборки. масштабирование, категоривазация"
   ]
  },
  {
   "cell_type": "code",
   "execution_count": 31,
   "metadata": {},
   "outputs": [
    {
     "name": "stdout",
     "output_type": "stream",
     "text": [
      "f_train: (150723, 9)\n",
      "f_train: (150723,)\n",
      "f_train: (50242, 9)\n",
      "f_train: (50242,)\n",
      "f_train: (50241, 9)\n",
      "f_train: (50241,)\n"
     ]
    }
   ],
   "source": [
    "# разделение выборок\n",
    "features = df2.drop('Price', axis = 1)\n",
    "target = df2['Price']\n",
    "(f_train, f_valid, t_train, t_valid) = train_test_split(features, target, test_size = 0.2, random_state = 12345)\n",
    "(f_train, f_test, t_train, t_test) = train_test_split(f_train, t_train, test_size = 0.25, random_state = 12345)\n",
    "\n",
    "print('f_train:', f_train.shape)\n",
    "print('f_train:', t_train.shape)\n",
    "\n",
    "print('f_train:', f_valid.shape)\n",
    "print('f_train:', t_valid.shape)\n",
    "\n",
    "print('f_train:', f_test.shape)\n",
    "print('f_train:', t_test.shape)"
   ]
  },
  {
   "cell_type": "code",
   "execution_count": 32,
   "metadata": {
    "scrolled": true
   },
   "outputs": [
    {
     "name": "stderr",
     "output_type": "stream",
     "text": [
      "/Users/dmitry/anaconda3/lib/python3.10/site-packages/sklearn/preprocessing/_encoders.py:868: FutureWarning: `sparse` was renamed to `sparse_output` in version 1.2 and will be removed in 1.4. `sparse_output` is ignored unless you leave `sparse` to its default value.\n",
      "  warnings.warn(\n"
     ]
    }
   ],
   "source": [
    "cat_features = ['VehicleType', 'FuelType', 'Gearbox', 'Brand', 'Model', 'Repaired']\n",
    "\n",
    "ohe_encoder = OneHotEncoder(drop='first', sparse=False, handle_unknown = 'ignore')\n",
    "\n",
    "#обучаем и форматируем тренировочную выборку\n",
    "data = ohe_encoder.fit_transform(f_train[cat_features])\n",
    "columns = ohe_encoder.get_feature_names_out()\n",
    "\n",
    "f_train_temp = pd.DataFrame(data = data, columns = columns, index = f_train.index)\n",
    "f_train = f_train.merge(f_train_temp, on = f_train.index, how = 'left')\n",
    "f_train = f_train.set_index('key_0')\n",
    "f_train.drop(cat_features, axis=1, inplace=True)\n"
   ]
  },
  {
   "cell_type": "code",
   "execution_count": 33,
   "metadata": {},
   "outputs": [
    {
     "name": "stderr",
     "output_type": "stream",
     "text": [
      "/Users/dmitry/anaconda3/lib/python3.10/site-packages/sklearn/preprocessing/_encoders.py:202: UserWarning: Found unknown categories in columns [4] during transform. These unknown categories will be encoded as all zeros\n",
      "  warnings.warn(\n",
      "/Users/dmitry/anaconda3/lib/python3.10/site-packages/sklearn/preprocessing/_encoders.py:202: UserWarning: Found unknown categories in columns [4] during transform. These unknown categories will be encoded as all zeros\n",
      "  warnings.warn(\n"
     ]
    }
   ],
   "source": [
    "#форматируем валидационную\n",
    "data = ohe_encoder.transform(f_valid[cat_features]) # обученный энкодер применили к тест. выборке\n",
    "f_valid_temp = pd.DataFrame(data = data, columns = columns, index = f_valid.index)\n",
    "f_valid = f_valid.merge(f_valid_temp, on = f_valid.index, how = 'left') # объединили датафреймы\n",
    "f_valid = f_valid.set_index('key_0') # установили индекс\n",
    "f_valid.drop(cat_features, axis=1, inplace=True) # удалили старые признаки\n",
    "\n",
    "#форматируем тестовую выборки\n",
    "data = ohe_encoder.transform(f_test[cat_features]) # обученный энкодер применили к тест. выборке\n",
    "f_test_temp = pd.DataFrame(data = data, columns = columns, index = f_test.index)\n",
    "f_test = f_test.merge(f_test_temp, on = f_test.index, how = 'left') # объединили датафреймы\n",
    "f_test = f_test.set_index('key_0') # установили индекс\n",
    "f_test.drop(cat_features, axis=1, inplace=True) # удалили старые признаки"
   ]
  },
  {
   "cell_type": "code",
   "execution_count": 34,
   "metadata": {},
   "outputs": [
    {
     "name": "stdout",
     "output_type": "stream",
     "text": [
      "f_train: (150723, 302)\n",
      "f_train: (150723,)\n",
      "f_train: (50242, 302)\n",
      "f_train: (50242,)\n",
      "f_train: (50241, 302)\n",
      "f_train: (50241,)\n"
     ]
    }
   ],
   "source": [
    "print('f_train:', f_train.shape)\n",
    "print('f_train:', t_train.shape)\n",
    "\n",
    "print('f_train:', f_valid.shape)\n",
    "print('f_train:', t_valid.shape)\n",
    "\n",
    "print('f_train:', f_test.shape)\n",
    "print('f_train:', t_test.shape)"
   ]
  },
  {
   "cell_type": "code",
   "execution_count": 35,
   "metadata": {},
   "outputs": [
    {
     "data": {
      "text/html": [
       "<div>\n",
       "<style scoped>\n",
       "    .dataframe tbody tr th:only-of-type {\n",
       "        vertical-align: middle;\n",
       "    }\n",
       "\n",
       "    .dataframe tbody tr th {\n",
       "        vertical-align: top;\n",
       "    }\n",
       "\n",
       "    .dataframe thead th {\n",
       "        text-align: right;\n",
       "    }\n",
       "</style>\n",
       "<table border=\"1\" class=\"dataframe\">\n",
       "  <thead>\n",
       "    <tr style=\"text-align: right;\">\n",
       "      <th></th>\n",
       "      <th>RegistrationYear</th>\n",
       "      <th>Power</th>\n",
       "      <th>Kilometer</th>\n",
       "      <th>VehicleType_convertible</th>\n",
       "      <th>VehicleType_coupe</th>\n",
       "      <th>VehicleType_other</th>\n",
       "      <th>VehicleType_sedan</th>\n",
       "      <th>VehicleType_small</th>\n",
       "      <th>VehicleType_suv</th>\n",
       "      <th>VehicleType_wagon</th>\n",
       "      <th>...</th>\n",
       "      <th>Model_x_reihe</th>\n",
       "      <th>Model_x_trail</th>\n",
       "      <th>Model_x_type</th>\n",
       "      <th>Model_xc_reihe</th>\n",
       "      <th>Model_yaris</th>\n",
       "      <th>Model_yeti</th>\n",
       "      <th>Model_ypsilon</th>\n",
       "      <th>Model_z_reihe</th>\n",
       "      <th>Model_zafira</th>\n",
       "      <th>Repaired_yes</th>\n",
       "    </tr>\n",
       "    <tr>\n",
       "      <th>key_0</th>\n",
       "      <th></th>\n",
       "      <th></th>\n",
       "      <th></th>\n",
       "      <th></th>\n",
       "      <th></th>\n",
       "      <th></th>\n",
       "      <th></th>\n",
       "      <th></th>\n",
       "      <th></th>\n",
       "      <th></th>\n",
       "      <th></th>\n",
       "      <th></th>\n",
       "      <th></th>\n",
       "      <th></th>\n",
       "      <th></th>\n",
       "      <th></th>\n",
       "      <th></th>\n",
       "      <th></th>\n",
       "      <th></th>\n",
       "      <th></th>\n",
       "      <th></th>\n",
       "    </tr>\n",
       "  </thead>\n",
       "  <tbody>\n",
       "    <tr>\n",
       "      <th>289534</th>\n",
       "      <td>2007</td>\n",
       "      <td>116.0</td>\n",
       "      <td>150000</td>\n",
       "      <td>0.0</td>\n",
       "      <td>0.0</td>\n",
       "      <td>0.0</td>\n",
       "      <td>1.0</td>\n",
       "      <td>0.0</td>\n",
       "      <td>0.0</td>\n",
       "      <td>0.0</td>\n",
       "      <td>...</td>\n",
       "      <td>0.0</td>\n",
       "      <td>0.0</td>\n",
       "      <td>0.0</td>\n",
       "      <td>0.0</td>\n",
       "      <td>0.0</td>\n",
       "      <td>0.0</td>\n",
       "      <td>0.0</td>\n",
       "      <td>0.0</td>\n",
       "      <td>0.0</td>\n",
       "      <td>0.0</td>\n",
       "    </tr>\n",
       "    <tr>\n",
       "      <th>200315</th>\n",
       "      <td>1993</td>\n",
       "      <td>60.0</td>\n",
       "      <td>125000</td>\n",
       "      <td>0.0</td>\n",
       "      <td>0.0</td>\n",
       "      <td>0.0</td>\n",
       "      <td>0.0</td>\n",
       "      <td>1.0</td>\n",
       "      <td>0.0</td>\n",
       "      <td>0.0</td>\n",
       "      <td>...</td>\n",
       "      <td>0.0</td>\n",
       "      <td>0.0</td>\n",
       "      <td>0.0</td>\n",
       "      <td>0.0</td>\n",
       "      <td>0.0</td>\n",
       "      <td>0.0</td>\n",
       "      <td>0.0</td>\n",
       "      <td>0.0</td>\n",
       "      <td>0.0</td>\n",
       "      <td>0.0</td>\n",
       "    </tr>\n",
       "    <tr>\n",
       "      <th>154363</th>\n",
       "      <td>2002</td>\n",
       "      <td>50.0</td>\n",
       "      <td>125000</td>\n",
       "      <td>0.0</td>\n",
       "      <td>0.0</td>\n",
       "      <td>0.0</td>\n",
       "      <td>0.0</td>\n",
       "      <td>1.0</td>\n",
       "      <td>0.0</td>\n",
       "      <td>0.0</td>\n",
       "      <td>...</td>\n",
       "      <td>0.0</td>\n",
       "      <td>0.0</td>\n",
       "      <td>0.0</td>\n",
       "      <td>0.0</td>\n",
       "      <td>0.0</td>\n",
       "      <td>0.0</td>\n",
       "      <td>0.0</td>\n",
       "      <td>0.0</td>\n",
       "      <td>0.0</td>\n",
       "      <td>0.0</td>\n",
       "    </tr>\n",
       "    <tr>\n",
       "      <th>84432</th>\n",
       "      <td>2000</td>\n",
       "      <td>116.0</td>\n",
       "      <td>150000</td>\n",
       "      <td>0.0</td>\n",
       "      <td>0.0</td>\n",
       "      <td>0.0</td>\n",
       "      <td>0.0</td>\n",
       "      <td>0.0</td>\n",
       "      <td>0.0</td>\n",
       "      <td>1.0</td>\n",
       "      <td>...</td>\n",
       "      <td>0.0</td>\n",
       "      <td>0.0</td>\n",
       "      <td>0.0</td>\n",
       "      <td>0.0</td>\n",
       "      <td>0.0</td>\n",
       "      <td>0.0</td>\n",
       "      <td>0.0</td>\n",
       "      <td>0.0</td>\n",
       "      <td>0.0</td>\n",
       "      <td>0.0</td>\n",
       "    </tr>\n",
       "    <tr>\n",
       "      <th>87051</th>\n",
       "      <td>2002</td>\n",
       "      <td>60.0</td>\n",
       "      <td>150000</td>\n",
       "      <td>0.0</td>\n",
       "      <td>0.0</td>\n",
       "      <td>0.0</td>\n",
       "      <td>0.0</td>\n",
       "      <td>1.0</td>\n",
       "      <td>0.0</td>\n",
       "      <td>0.0</td>\n",
       "      <td>...</td>\n",
       "      <td>0.0</td>\n",
       "      <td>0.0</td>\n",
       "      <td>0.0</td>\n",
       "      <td>0.0</td>\n",
       "      <td>0.0</td>\n",
       "      <td>0.0</td>\n",
       "      <td>0.0</td>\n",
       "      <td>0.0</td>\n",
       "      <td>0.0</td>\n",
       "      <td>0.0</td>\n",
       "    </tr>\n",
       "  </tbody>\n",
       "</table>\n",
       "<p>5 rows × 302 columns</p>\n",
       "</div>"
      ],
      "text/plain": [
       "        RegistrationYear  Power  Kilometer  VehicleType_convertible  \\\n",
       "key_0                                                                 \n",
       "289534              2007  116.0     150000                      0.0   \n",
       "200315              1993   60.0     125000                      0.0   \n",
       "154363              2002   50.0     125000                      0.0   \n",
       "84432               2000  116.0     150000                      0.0   \n",
       "87051               2002   60.0     150000                      0.0   \n",
       "\n",
       "        VehicleType_coupe  VehicleType_other  VehicleType_sedan  \\\n",
       "key_0                                                             \n",
       "289534                0.0                0.0                1.0   \n",
       "200315                0.0                0.0                0.0   \n",
       "154363                0.0                0.0                0.0   \n",
       "84432                 0.0                0.0                0.0   \n",
       "87051                 0.0                0.0                0.0   \n",
       "\n",
       "        VehicleType_small  VehicleType_suv  VehicleType_wagon  ...  \\\n",
       "key_0                                                          ...   \n",
       "289534                0.0              0.0                0.0  ...   \n",
       "200315                1.0              0.0                0.0  ...   \n",
       "154363                1.0              0.0                0.0  ...   \n",
       "84432                 0.0              0.0                1.0  ...   \n",
       "87051                 1.0              0.0                0.0  ...   \n",
       "\n",
       "        Model_x_reihe  Model_x_trail  Model_x_type  Model_xc_reihe  \\\n",
       "key_0                                                                \n",
       "289534            0.0            0.0           0.0             0.0   \n",
       "200315            0.0            0.0           0.0             0.0   \n",
       "154363            0.0            0.0           0.0             0.0   \n",
       "84432             0.0            0.0           0.0             0.0   \n",
       "87051             0.0            0.0           0.0             0.0   \n",
       "\n",
       "        Model_yaris  Model_yeti  Model_ypsilon  Model_z_reihe  Model_zafira  \\\n",
       "key_0                                                                         \n",
       "289534          0.0         0.0            0.0            0.0           0.0   \n",
       "200315          0.0         0.0            0.0            0.0           0.0   \n",
       "154363          0.0         0.0            0.0            0.0           0.0   \n",
       "84432           0.0         0.0            0.0            0.0           0.0   \n",
       "87051           0.0         0.0            0.0            0.0           0.0   \n",
       "\n",
       "        Repaired_yes  \n",
       "key_0                 \n",
       "289534           0.0  \n",
       "200315           0.0  \n",
       "154363           0.0  \n",
       "84432            0.0  \n",
       "87051            0.0  \n",
       "\n",
       "[5 rows x 302 columns]"
      ]
     },
     "metadata": {},
     "output_type": "display_data"
    }
   ],
   "source": [
    "display (f_train.head())"
   ]
  },
  {
   "cell_type": "code",
   "execution_count": 36,
   "metadata": {},
   "outputs": [],
   "source": [
    "#масштабирование\n",
    "col = list(f_train)\n",
    "\n",
    "scaler = StandardScaler()\n",
    "scaler.fit(f_train[col])\n",
    "\n",
    "f_train[col] = scaler.transform(f_train[col])\n",
    "f_valid[col] = scaler.transform(f_valid[col])\n",
    "f_test[col]  = scaler.transform(f_test[col])"
   ]
  },
  {
   "cell_type": "code",
   "execution_count": 37,
   "metadata": {},
   "outputs": [
    {
     "data": {
      "text/html": [
       "<div>\n",
       "<style scoped>\n",
       "    .dataframe tbody tr th:only-of-type {\n",
       "        vertical-align: middle;\n",
       "    }\n",
       "\n",
       "    .dataframe tbody tr th {\n",
       "        vertical-align: top;\n",
       "    }\n",
       "\n",
       "    .dataframe thead th {\n",
       "        text-align: right;\n",
       "    }\n",
       "</style>\n",
       "<table border=\"1\" class=\"dataframe\">\n",
       "  <thead>\n",
       "    <tr style=\"text-align: right;\">\n",
       "      <th></th>\n",
       "      <th>RegistrationYear</th>\n",
       "      <th>Power</th>\n",
       "      <th>Kilometer</th>\n",
       "      <th>VehicleType_convertible</th>\n",
       "      <th>VehicleType_coupe</th>\n",
       "      <th>VehicleType_other</th>\n",
       "      <th>VehicleType_sedan</th>\n",
       "      <th>VehicleType_small</th>\n",
       "      <th>VehicleType_suv</th>\n",
       "      <th>VehicleType_wagon</th>\n",
       "      <th>...</th>\n",
       "      <th>Model_x_reihe</th>\n",
       "      <th>Model_x_trail</th>\n",
       "      <th>Model_x_type</th>\n",
       "      <th>Model_xc_reihe</th>\n",
       "      <th>Model_yaris</th>\n",
       "      <th>Model_yeti</th>\n",
       "      <th>Model_ypsilon</th>\n",
       "      <th>Model_z_reihe</th>\n",
       "      <th>Model_zafira</th>\n",
       "      <th>Repaired_yes</th>\n",
       "    </tr>\n",
       "    <tr>\n",
       "      <th>key_0</th>\n",
       "      <th></th>\n",
       "      <th></th>\n",
       "      <th></th>\n",
       "      <th></th>\n",
       "      <th></th>\n",
       "      <th></th>\n",
       "      <th></th>\n",
       "      <th></th>\n",
       "      <th></th>\n",
       "      <th></th>\n",
       "      <th></th>\n",
       "      <th></th>\n",
       "      <th></th>\n",
       "      <th></th>\n",
       "      <th></th>\n",
       "      <th></th>\n",
       "      <th></th>\n",
       "      <th></th>\n",
       "      <th></th>\n",
       "      <th></th>\n",
       "      <th></th>\n",
       "    </tr>\n",
       "  </thead>\n",
       "  <tbody>\n",
       "    <tr>\n",
       "      <th>289534</th>\n",
       "      <td>0.726347</td>\n",
       "      <td>-0.123089</td>\n",
       "      <td>0.611870</td>\n",
       "      <td>-0.264971</td>\n",
       "      <td>-0.231361</td>\n",
       "      <td>-0.192803</td>\n",
       "      <td>1.607997</td>\n",
       "      <td>-0.544976</td>\n",
       "      <td>-0.203295</td>\n",
       "      <td>-0.508419</td>\n",
       "      <td>...</td>\n",
       "      <td>-0.073094</td>\n",
       "      <td>-0.02727</td>\n",
       "      <td>-0.024443</td>\n",
       "      <td>-0.027633</td>\n",
       "      <td>-0.059235</td>\n",
       "      <td>-0.024848</td>\n",
       "      <td>-0.024032</td>\n",
       "      <td>-0.04927</td>\n",
       "      <td>-0.092512</td>\n",
       "      <td>-0.339743</td>\n",
       "    </tr>\n",
       "    <tr>\n",
       "      <th>200315</th>\n",
       "      <td>-1.732875</td>\n",
       "      <td>-1.149169</td>\n",
       "      <td>-0.055078</td>\n",
       "      <td>-0.264971</td>\n",
       "      <td>-0.231361</td>\n",
       "      <td>-0.192803</td>\n",
       "      <td>-0.621892</td>\n",
       "      <td>1.834942</td>\n",
       "      <td>-0.203295</td>\n",
       "      <td>-0.508419</td>\n",
       "      <td>...</td>\n",
       "      <td>-0.073094</td>\n",
       "      <td>-0.02727</td>\n",
       "      <td>-0.024443</td>\n",
       "      <td>-0.027633</td>\n",
       "      <td>-0.059235</td>\n",
       "      <td>-0.024848</td>\n",
       "      <td>-0.024032</td>\n",
       "      <td>-0.04927</td>\n",
       "      <td>-0.092512</td>\n",
       "      <td>-0.339743</td>\n",
       "    </tr>\n",
       "    <tr>\n",
       "      <th>154363</th>\n",
       "      <td>-0.151947</td>\n",
       "      <td>-1.332398</td>\n",
       "      <td>-0.055078</td>\n",
       "      <td>-0.264971</td>\n",
       "      <td>-0.231361</td>\n",
       "      <td>-0.192803</td>\n",
       "      <td>-0.621892</td>\n",
       "      <td>1.834942</td>\n",
       "      <td>-0.203295</td>\n",
       "      <td>-0.508419</td>\n",
       "      <td>...</td>\n",
       "      <td>-0.073094</td>\n",
       "      <td>-0.02727</td>\n",
       "      <td>-0.024443</td>\n",
       "      <td>-0.027633</td>\n",
       "      <td>-0.059235</td>\n",
       "      <td>-0.024848</td>\n",
       "      <td>-0.024032</td>\n",
       "      <td>-0.04927</td>\n",
       "      <td>-0.092512</td>\n",
       "      <td>-0.339743</td>\n",
       "    </tr>\n",
       "    <tr>\n",
       "      <th>84432</th>\n",
       "      <td>-0.503264</td>\n",
       "      <td>-0.123089</td>\n",
       "      <td>0.611870</td>\n",
       "      <td>-0.264971</td>\n",
       "      <td>-0.231361</td>\n",
       "      <td>-0.192803</td>\n",
       "      <td>-0.621892</td>\n",
       "      <td>-0.544976</td>\n",
       "      <td>-0.203295</td>\n",
       "      <td>1.966883</td>\n",
       "      <td>...</td>\n",
       "      <td>-0.073094</td>\n",
       "      <td>-0.02727</td>\n",
       "      <td>-0.024443</td>\n",
       "      <td>-0.027633</td>\n",
       "      <td>-0.059235</td>\n",
       "      <td>-0.024848</td>\n",
       "      <td>-0.024032</td>\n",
       "      <td>-0.04927</td>\n",
       "      <td>-0.092512</td>\n",
       "      <td>-0.339743</td>\n",
       "    </tr>\n",
       "    <tr>\n",
       "      <th>87051</th>\n",
       "      <td>-0.151947</td>\n",
       "      <td>-1.149169</td>\n",
       "      <td>0.611870</td>\n",
       "      <td>-0.264971</td>\n",
       "      <td>-0.231361</td>\n",
       "      <td>-0.192803</td>\n",
       "      <td>-0.621892</td>\n",
       "      <td>1.834942</td>\n",
       "      <td>-0.203295</td>\n",
       "      <td>-0.508419</td>\n",
       "      <td>...</td>\n",
       "      <td>-0.073094</td>\n",
       "      <td>-0.02727</td>\n",
       "      <td>-0.024443</td>\n",
       "      <td>-0.027633</td>\n",
       "      <td>-0.059235</td>\n",
       "      <td>-0.024848</td>\n",
       "      <td>-0.024032</td>\n",
       "      <td>-0.04927</td>\n",
       "      <td>-0.092512</td>\n",
       "      <td>-0.339743</td>\n",
       "    </tr>\n",
       "  </tbody>\n",
       "</table>\n",
       "<p>5 rows × 302 columns</p>\n",
       "</div>"
      ],
      "text/plain": [
       "        RegistrationYear     Power  Kilometer  VehicleType_convertible  \\\n",
       "key_0                                                                    \n",
       "289534          0.726347 -0.123089   0.611870                -0.264971   \n",
       "200315         -1.732875 -1.149169  -0.055078                -0.264971   \n",
       "154363         -0.151947 -1.332398  -0.055078                -0.264971   \n",
       "84432          -0.503264 -0.123089   0.611870                -0.264971   \n",
       "87051          -0.151947 -1.149169   0.611870                -0.264971   \n",
       "\n",
       "        VehicleType_coupe  VehicleType_other  VehicleType_sedan  \\\n",
       "key_0                                                             \n",
       "289534          -0.231361          -0.192803           1.607997   \n",
       "200315          -0.231361          -0.192803          -0.621892   \n",
       "154363          -0.231361          -0.192803          -0.621892   \n",
       "84432           -0.231361          -0.192803          -0.621892   \n",
       "87051           -0.231361          -0.192803          -0.621892   \n",
       "\n",
       "        VehicleType_small  VehicleType_suv  VehicleType_wagon  ...  \\\n",
       "key_0                                                          ...   \n",
       "289534          -0.544976        -0.203295          -0.508419  ...   \n",
       "200315           1.834942        -0.203295          -0.508419  ...   \n",
       "154363           1.834942        -0.203295          -0.508419  ...   \n",
       "84432           -0.544976        -0.203295           1.966883  ...   \n",
       "87051            1.834942        -0.203295          -0.508419  ...   \n",
       "\n",
       "        Model_x_reihe  Model_x_trail  Model_x_type  Model_xc_reihe  \\\n",
       "key_0                                                                \n",
       "289534      -0.073094       -0.02727     -0.024443       -0.027633   \n",
       "200315      -0.073094       -0.02727     -0.024443       -0.027633   \n",
       "154363      -0.073094       -0.02727     -0.024443       -0.027633   \n",
       "84432       -0.073094       -0.02727     -0.024443       -0.027633   \n",
       "87051       -0.073094       -0.02727     -0.024443       -0.027633   \n",
       "\n",
       "        Model_yaris  Model_yeti  Model_ypsilon  Model_z_reihe  Model_zafira  \\\n",
       "key_0                                                                         \n",
       "289534    -0.059235   -0.024848      -0.024032       -0.04927     -0.092512   \n",
       "200315    -0.059235   -0.024848      -0.024032       -0.04927     -0.092512   \n",
       "154363    -0.059235   -0.024848      -0.024032       -0.04927     -0.092512   \n",
       "84432     -0.059235   -0.024848      -0.024032       -0.04927     -0.092512   \n",
       "87051     -0.059235   -0.024848      -0.024032       -0.04927     -0.092512   \n",
       "\n",
       "        Repaired_yes  \n",
       "key_0                 \n",
       "289534     -0.339743  \n",
       "200315     -0.339743  \n",
       "154363     -0.339743  \n",
       "84432      -0.339743  \n",
       "87051      -0.339743  \n",
       "\n",
       "[5 rows x 302 columns]"
      ]
     },
     "metadata": {},
     "output_type": "display_data"
    }
   ],
   "source": [
    "display(f_train.head())"
   ]
  },
  {
   "cell_type": "code",
   "execution_count": 38,
   "metadata": {},
   "outputs": [],
   "source": [
    "def plot_rmse (rmse_t, rmse_v,x, model, x_label):\n",
    "    plt.figure(figsize = (10,2))\n",
    "    plt.plot(x,rmse_t, '-o')\n",
    "    plt.plot(x, rmse_v, '-o')\n",
    "    plt.title(f'RMSE for {model}')\n",
    "    plt.xlabel(x_label)\n",
    "    plt.ylabel('RMSE')\n",
    "    plt.legend(['rmse_train', 'rmse_valid'])\n",
    "    plt.grid(True)\n",
    "    plt.show()"
   ]
  },
  {
   "cell_type": "markdown",
   "metadata": {},
   "source": [
    "### Модель: линейная регрессия"
   ]
  },
  {
   "cell_type": "code",
   "execution_count": 39,
   "metadata": {},
   "outputs": [
    {
     "name": "stdout",
     "output_type": "stream",
     "text": [
      "RMSE train = 2440.0 \tRMSE valid = 2420.0\n"
     ]
    }
   ],
   "source": [
    "model_lin_reg = LinearRegression()\n",
    "model_lin_reg.fit(f_train, t_train)\n",
    "rmse_t = mean_squared_error(t_train, model_lin_reg.predict(f_train))**0.5\n",
    "rmse_v = mean_squared_error(t_valid, model_lin_reg.predict(f_valid))**0.5\n",
    "print('RMSE train =', round(rmse_t,0), '\\tRMSE valid =', round(rmse_v,0))"
   ]
  },
  {
   "cell_type": "markdown",
   "metadata": {},
   "source": [
    "### Модель: дерево решений"
   ]
  },
  {
   "cell_type": "code",
   "execution_count": 40,
   "metadata": {},
   "outputs": [
    {
     "name": "stdout",
     "output_type": "stream",
     "text": [
      "depth =  5 \tRMSE train = 2341.0 \tRMSE valid = 2337.0\n",
      "depth =  10 \tRMSE train = 1884.0 \tRMSE valid = 1965.0\n",
      "depth =  15 \tRMSE train = 1488.0 \tRMSE valid = 1871.0\n",
      "depth =  20 \tRMSE train = 1198.0 \tRMSE valid = 1891.0\n",
      "depth =  25 \tRMSE train = 1032.0 \tRMSE valid = 1919.0\n",
      "depth =  30 \tRMSE train = 945.0 \tRMSE valid = 1928.0\n",
      "depth =  35 \tRMSE train = 906.0 \tRMSE valid = 1943.0\n",
      "depth =  40 \tRMSE train = 890.0 \tRMSE valid = 1957.0\n",
      "depth =  45 \tRMSE train = 884.0 \tRMSE valid = 1951.0\n",
      "depth =  50 \tRMSE train = 883.0 \tRMSE valid = 1949.0\n"
     ]
    }
   ],
   "source": [
    "rmse_t = []\n",
    "rmse_v = []\n",
    "x = []\n",
    "\n",
    "for depth in range(5, 51, 5):\n",
    "    model = DecisionTreeRegressor(random_state=12345, max_depth = depth)\n",
    "    model.fit(f_train, t_train)\n",
    "    res_t = mean_squared_error(t_train, model.predict(f_train))**0.5\n",
    "    res_v = mean_squared_error(t_valid, model.predict(f_valid))**0.5\n",
    "    \n",
    "    rmse_t.append(res_t)\n",
    "    rmse_v.append(res_v)\n",
    "    x.append(depth)\n",
    "    \n",
    "    print('depth = ', depth, '\\tRMSE train =', round(res_t,0), '\\tRMSE valid =', round(res_v,0))"
   ]
  },
  {
   "cell_type": "code",
   "execution_count": 41,
   "metadata": {
    "scrolled": false
   },
   "outputs": [
    {
     "data": {
      "image/png": "[encoded data removed]",
      "text/plain": [
       "<Figure size 1000x200 with 1 Axes>"
      ]
     },
     "metadata": {},
     "output_type": "display_data"
    }
   ],
   "source": [
    "plot_rmse (rmse_t, rmse_v,x, model, 'depth')"
   ]
  },
  {
   "cell_type": "markdown",
   "metadata": {},
   "source": [
    "определим лучшую модель decision tree"
   ]
  },
  {
   "cell_type": "code",
   "execution_count": 42,
   "metadata": {},
   "outputs": [],
   "source": [
    "best_tree = DecisionTreeRegressor(random_state=12345, max_depth = 20)"
   ]
  },
  {
   "cell_type": "markdown",
   "metadata": {},
   "source": [
    "### Модель: случайный лес"
   ]
  },
  {
   "cell_type": "code",
   "execution_count": 43,
   "metadata": {},
   "outputs": [
    {
     "name": "stdout",
     "output_type": "stream",
     "text": [
      "n_est =  3 \tRMSE train = 1506.0 \tRMSE valid = 1779.0\n",
      "n_est =  10 \tRMSE train = 1443.0 \tRMSE valid = 1715.0\n",
      "n_est =  20 \tRMSE train = 1434.0 \tRMSE valid = 1703.0\n",
      "n_est =  35 \tRMSE train = 1425.0 \tRMSE valid = 1694.0\n",
      "n_est =  50 \tRMSE train = 1423.0 \tRMSE valid = 1691.0\n"
     ]
    }
   ],
   "source": [
    "rmse_t = []\n",
    "rmse_v = []\n",
    "x = []\n",
    "\n",
    "for n_est in [3,10,20,35,50]:\n",
    "    model = RandomForestRegressor(random_state=12345, max_depth = 15, n_estimators = n_est, n_jobs = 6)\n",
    "    model.fit(f_train, t_train)\n",
    "    res_t = mean_squared_error(t_train, model.predict(f_train))**0.5\n",
    "    res_v = mean_squared_error(t_valid, model.predict(f_valid))**0.5\n",
    "    \n",
    "    rmse_t.append(res_t)\n",
    "    rmse_v.append(res_v)\n",
    "    x.append(n_est)\n",
    "    \n",
    "    print('n_est = ', n_est, '\\tRMSE train =', round(res_t,0), '\\tRMSE valid =', round(res_v,0))"
   ]
  },
  {
   "cell_type": "code",
   "execution_count": 44,
   "metadata": {},
   "outputs": [
    {
     "data": {
      "image/png": "[encoded data removed]",
      "text/plain": [
       "<Figure size 1000x200 with 1 Axes>"
      ]
     },
     "metadata": {},
     "output_type": "display_data"
    }
   ],
   "source": [
    "plot_rmse (rmse_t, rmse_v,x, model, 'n_est')"
   ]
  },
  {
   "cell_type": "markdown",
   "metadata": {},
   "source": [
    "определим лучшую модель random forest"
   ]
  },
  {
   "cell_type": "code",
   "execution_count": 45,
   "metadata": {},
   "outputs": [],
   "source": [
    "best_random_forest = RandomForestRegressor(random_state=12345, max_depth = 15, n_estimators = 20)"
   ]
  },
  {
   "cell_type": "markdown",
   "metadata": {},
   "source": [
    "### Модель: LightGBM"
   ]
  },
  {
   "cell_type": "markdown",
   "metadata": {},
   "source": [
    "т.к. lightgbm работает в т.ч. с категориальными данными, по подготовим данные"
   ]
  },
  {
   "cell_type": "code",
   "execution_count": 46,
   "metadata": {},
   "outputs": [
    {
     "data": {
      "text/html": [
       "<div>\n",
       "<style scoped>\n",
       "    .dataframe tbody tr th:only-of-type {\n",
       "        vertical-align: middle;\n",
       "    }\n",
       "\n",
       "    .dataframe tbody tr th {\n",
       "        vertical-align: top;\n",
       "    }\n",
       "\n",
       "    .dataframe thead th {\n",
       "        text-align: right;\n",
       "    }\n",
       "</style>\n",
       "<table border=\"1\" class=\"dataframe\">\n",
       "  <thead>\n",
       "    <tr style=\"text-align: right;\">\n",
       "      <th></th>\n",
       "      <th>VehicleType</th>\n",
       "      <th>RegistrationYear</th>\n",
       "      <th>Gearbox</th>\n",
       "      <th>Power</th>\n",
       "      <th>Model</th>\n",
       "      <th>Kilometer</th>\n",
       "      <th>FuelType</th>\n",
       "      <th>Brand</th>\n",
       "      <th>Repaired</th>\n",
       "    </tr>\n",
       "  </thead>\n",
       "  <tbody>\n",
       "    <tr>\n",
       "      <th>0</th>\n",
       "      <td>other</td>\n",
       "      <td>1993</td>\n",
       "      <td>manual</td>\n",
       "      <td>75.0</td>\n",
       "      <td>golf</td>\n",
       "      <td>150000</td>\n",
       "      <td>petrol</td>\n",
       "      <td>volkswagen</td>\n",
       "      <td>no</td>\n",
       "    </tr>\n",
       "    <tr>\n",
       "      <th>1</th>\n",
       "      <td>coupe</td>\n",
       "      <td>2011</td>\n",
       "      <td>manual</td>\n",
       "      <td>190.0</td>\n",
       "      <td>other</td>\n",
       "      <td>125000</td>\n",
       "      <td>petrol</td>\n",
       "      <td>audi</td>\n",
       "      <td>yes</td>\n",
       "    </tr>\n",
       "    <tr>\n",
       "      <th>2</th>\n",
       "      <td>suv</td>\n",
       "      <td>2004</td>\n",
       "      <td>auto</td>\n",
       "      <td>163.0</td>\n",
       "      <td>grand</td>\n",
       "      <td>125000</td>\n",
       "      <td>petrol</td>\n",
       "      <td>jeep</td>\n",
       "      <td>no</td>\n",
       "    </tr>\n",
       "    <tr>\n",
       "      <th>3</th>\n",
       "      <td>small</td>\n",
       "      <td>2001</td>\n",
       "      <td>manual</td>\n",
       "      <td>75.0</td>\n",
       "      <td>golf</td>\n",
       "      <td>150000</td>\n",
       "      <td>petrol</td>\n",
       "      <td>volkswagen</td>\n",
       "      <td>no</td>\n",
       "    </tr>\n",
       "    <tr>\n",
       "      <th>4</th>\n",
       "      <td>small</td>\n",
       "      <td>2008</td>\n",
       "      <td>manual</td>\n",
       "      <td>69.0</td>\n",
       "      <td>fabia</td>\n",
       "      <td>90000</td>\n",
       "      <td>petrol</td>\n",
       "      <td>skoda</td>\n",
       "      <td>no</td>\n",
       "    </tr>\n",
       "    <tr>\n",
       "      <th>...</th>\n",
       "      <td>...</td>\n",
       "      <td>...</td>\n",
       "      <td>...</td>\n",
       "      <td>...</td>\n",
       "      <td>...</td>\n",
       "      <td>...</td>\n",
       "      <td>...</td>\n",
       "      <td>...</td>\n",
       "      <td>...</td>\n",
       "    </tr>\n",
       "    <tr>\n",
       "      <th>309296</th>\n",
       "      <td>wagon</td>\n",
       "      <td>2004</td>\n",
       "      <td>manual</td>\n",
       "      <td>55.0</td>\n",
       "      <td>fabia</td>\n",
       "      <td>150000</td>\n",
       "      <td>petrol</td>\n",
       "      <td>skoda</td>\n",
       "      <td>no</td>\n",
       "    </tr>\n",
       "    <tr>\n",
       "      <th>309300</th>\n",
       "      <td>sedan</td>\n",
       "      <td>2004</td>\n",
       "      <td>manual</td>\n",
       "      <td>225.0</td>\n",
       "      <td>leon</td>\n",
       "      <td>150000</td>\n",
       "      <td>petrol</td>\n",
       "      <td>seat</td>\n",
       "      <td>yes</td>\n",
       "    </tr>\n",
       "    <tr>\n",
       "      <th>309303</th>\n",
       "      <td>convertible</td>\n",
       "      <td>2000</td>\n",
       "      <td>auto</td>\n",
       "      <td>101.0</td>\n",
       "      <td>fortwo</td>\n",
       "      <td>125000</td>\n",
       "      <td>petrol</td>\n",
       "      <td>smart</td>\n",
       "      <td>no</td>\n",
       "    </tr>\n",
       "    <tr>\n",
       "      <th>309304</th>\n",
       "      <td>bus</td>\n",
       "      <td>1996</td>\n",
       "      <td>manual</td>\n",
       "      <td>102.0</td>\n",
       "      <td>transporter</td>\n",
       "      <td>150000</td>\n",
       "      <td>petrol</td>\n",
       "      <td>volkswagen</td>\n",
       "      <td>no</td>\n",
       "    </tr>\n",
       "    <tr>\n",
       "      <th>309305</th>\n",
       "      <td>wagon</td>\n",
       "      <td>2002</td>\n",
       "      <td>manual</td>\n",
       "      <td>100.0</td>\n",
       "      <td>golf</td>\n",
       "      <td>150000</td>\n",
       "      <td>petrol</td>\n",
       "      <td>volkswagen</td>\n",
       "      <td>no</td>\n",
       "    </tr>\n",
       "  </tbody>\n",
       "</table>\n",
       "<p>251206 rows × 9 columns</p>\n",
       "</div>"
      ],
      "text/plain": [
       "        VehicleType  RegistrationYear Gearbox  Power        Model  Kilometer  \\\n",
       "0             other              1993  manual   75.0         golf     150000   \n",
       "1             coupe              2011  manual  190.0        other     125000   \n",
       "2               suv              2004    auto  163.0        grand     125000   \n",
       "3             small              2001  manual   75.0         golf     150000   \n",
       "4             small              2008  manual   69.0        fabia      90000   \n",
       "...             ...               ...     ...    ...          ...        ...   \n",
       "309296        wagon              2004  manual   55.0        fabia     150000   \n",
       "309300        sedan              2004  manual  225.0         leon     150000   \n",
       "309303  convertible              2000    auto  101.0       fortwo     125000   \n",
       "309304          bus              1996  manual  102.0  transporter     150000   \n",
       "309305        wagon              2002  manual  100.0         golf     150000   \n",
       "\n",
       "       FuelType       Brand Repaired  \n",
       "0        petrol  volkswagen       no  \n",
       "1        petrol        audi      yes  \n",
       "2        petrol        jeep       no  \n",
       "3        petrol  volkswagen       no  \n",
       "4        petrol       skoda       no  \n",
       "...         ...         ...      ...  \n",
       "309296   petrol       skoda       no  \n",
       "309300   petrol        seat      yes  \n",
       "309303   petrol       smart       no  \n",
       "309304   petrol  volkswagen       no  \n",
       "309305   petrol  volkswagen       no  \n",
       "\n",
       "[251206 rows x 9 columns]"
      ]
     },
     "metadata": {},
     "output_type": "display_data"
    }
   ],
   "source": [
    "features_lgb = df2.drop('Price', axis = 1)\n",
    "display(features_lgb)"
   ]
  },
  {
   "cell_type": "code",
   "execution_count": 47,
   "metadata": {},
   "outputs": [
    {
     "name": "stdout",
     "output_type": "stream",
     "text": [
      "f_train_lgb: (150723, 9)\n",
      "t_train_lgb: (150723,)\n",
      "f_valid_lgb: (50242, 9)\n",
      "t_valid_lgb: (50242,)\n",
      "f_test_lgb: (50241, 9)\n",
      "t_test_lgb: (50241,) \n",
      "\n",
      "<class 'pandas.core.frame.DataFrame'>\n",
      "Index: 150723 entries, 289534 to 174449\n",
      "Data columns (total 9 columns):\n",
      " #   Column            Non-Null Count   Dtype   \n",
      "---  ------            --------------   -----   \n",
      " 0   VehicleType       150723 non-null  category\n",
      " 1   RegistrationYear  150723 non-null  int64   \n",
      " 2   Gearbox           150723 non-null  category\n",
      " 3   Power             150723 non-null  float64 \n",
      " 4   Model             150723 non-null  category\n",
      " 5   Kilometer         150723 non-null  int64   \n",
      " 6   FuelType          150723 non-null  category\n",
      " 7   Brand             150723 non-null  category\n",
      " 8   Repaired          150723 non-null  category\n",
      "dtypes: category(6), float64(1), int64(2)\n",
      "memory usage: 5.6 MB\n"
     ]
    }
   ],
   "source": [
    "# разделение выборок\n",
    "features_lgb = df2.drop('Price', axis = 1)\n",
    "target_lgb = df2['Price']\n",
    "\n",
    "col = ['VehicleType', 'Gearbox', 'Model', 'FuelType', 'Brand', 'Repaired']\n",
    "features_lgb[col] = features_lgb[col].astype('category')\n",
    "\n",
    "(f_train_lgb, f_valid_lgb, t_train_lgb, t_valid_lgb) = train_test_split(features_lgb,\n",
    "                                                                        target_lgb,\n",
    "                                                                        test_size = 0.2,\n",
    "                                                                        random_state = 12345)\n",
    "(f_train_lgb, f_test_lgb, t_train_lgb, t_test_lgb) = train_test_split(f_train_lgb,\n",
    "                                                                      t_train_lgb,\n",
    "                                                                      test_size = 0.25,\n",
    "                                                                      random_state = 12345)\n",
    "\n",
    "print('f_train_lgb:', f_train_lgb.shape)\n",
    "print('t_train_lgb:', t_train_lgb.shape)\n",
    "\n",
    "print('f_valid_lgb:', f_valid_lgb.shape)\n",
    "print('t_valid_lgb:', t_valid_lgb.shape)\n",
    "\n",
    "print('f_test_lgb:', f_test_lgb.shape)\n",
    "print('t_test_lgb:', t_test_lgb.shape, '\\n')\n",
    "\n",
    "f_train_lgb.info()"
   ]
  },
  {
   "cell_type": "code",
   "execution_count": 48,
   "metadata": {},
   "outputs": [
    {
     "name": "stdout",
     "output_type": "stream",
     "text": [
      "learning_rate =  0.1 \tRMSE train = 1522.0 \tRMSE valid = 1584.0\n",
      "learning_rate =  0.2 \tRMSE train = 1469.0 \tRMSE valid = 1571.0\n",
      "learning_rate =  0.3 \tRMSE train = 1449.0 \tRMSE valid = 1583.0\n",
      "learning_rate =  0.4 \tRMSE train = 1436.0 \tRMSE valid = 1591.0\n",
      "learning_rate =  0.5 \tRMSE train = 1421.0 \tRMSE valid = 1598.0\n",
      "learning_rate =  0.6 \tRMSE train = 1414.0 \tRMSE valid = 1613.0\n",
      "learning_rate =  0.7 \tRMSE train = 1408.0 \tRMSE valid = 1634.0\n",
      "learning_rate =  0.8 \tRMSE train = 1399.0 \tRMSE valid = 1661.0\n",
      "learning_rate =  0.9 \tRMSE train = 1403.0 \tRMSE valid = 1683.0\n",
      "learning_rate =  1.0 \tRMSE train = 1416.0 \tRMSE valid = 1690.0\n",
      "learning_rate =  1.1 \tRMSE train = 1420.0 \tRMSE valid = 1734.0\n",
      "learning_rate =  1.2 \tRMSE train = 1440.0 \tRMSE valid = 1778.0\n",
      "learning_rate =  1.3 \tRMSE train = 1458.0 \tRMSE valid = 1802.0\n",
      "learning_rate =  1.4 \tRMSE train = 1481.0 \tRMSE valid = 1866.0\n",
      "learning_rate =  1.5 \tRMSE train = 1514.0 \tRMSE valid = 1921.0\n",
      "learning_rate =  1.6 \tRMSE train = 1560.0 \tRMSE valid = 1967.0\n",
      "learning_rate =  1.7 \tRMSE train = 1606.0 \tRMSE valid = 2026.0\n",
      "learning_rate =  1.8 \tRMSE train = 1683.0 \tRMSE valid = 2105.0\n",
      "learning_rate =  1.9 \tRMSE train = 1766.0 \tRMSE valid = 2180.0\n"
     ]
    }
   ],
   "source": [
    "rmse_t = []\n",
    "rmse_v = []\n",
    "x = []\n",
    "\n",
    "for learning_rate in np.arange(0.1, 2, 0.1):\n",
    "    model = lgb.LGBMRegressor(random_state=12345,\n",
    "                              n_jobs = 6,\n",
    "                              n_estimators = 100,\n",
    "                              max_depth = 15,\n",
    "                              num_leaves =50,\n",
    "                              learning_rate = learning_rate)\n",
    "    \n",
    "    model.fit(f_train_lgb, t_train_lgb)\n",
    "    res_t = mean_squared_error(t_train_lgb, model.predict(f_train_lgb))**0.5\n",
    "    res_v = mean_squared_error(t_valid_lgb, model.predict(f_valid_lgb))**0.5\n",
    "    \n",
    "    rmse_t.append(res_t)\n",
    "    rmse_v.append(res_v)\n",
    "    x.append(learning_rate)\n",
    "    \n",
    "    print('learning_rate = ', round(learning_rate,1), '\\tRMSE train =', round(res_t,0),\n",
    "          '\\tRMSE valid =', round(res_v,0))"
   ]
  },
  {
   "cell_type": "code",
   "execution_count": 49,
   "metadata": {},
   "outputs": [
    {
     "data": {
      "image/png": "[encoded data removed]",
      "text/plain": [
       "<Figure size 1000x200 with 1 Axes>"
      ]
     },
     "metadata": {},
     "output_type": "display_data"
    }
   ],
   "source": [
    "plot_rmse (rmse_t, rmse_v,x, model, 'learning_rate')"
   ]
  },
  {
   "cell_type": "code",
   "execution_count": 50,
   "metadata": {
    "scrolled": true
   },
   "outputs": [
    {
     "data": {
      "text/plain": [
       "{'learning_rate': 0.2,\n",
       " 'max_depth': 15,\n",
       " 'n_estimators': 100,\n",
       " 'n_jobs': 6,\n",
       " 'num_leaves': 50,\n",
       " 'random_state': 12345}"
      ]
     },
     "metadata": {},
     "output_type": "display_data"
    }
   ],
   "source": [
    "grid_space = {'n_estimators': [20,50,100],\n",
    "              'max_depth' : [5,10,15,20],\n",
    "              'num_leaves': [5,10,20,50],\n",
    "              'learning_rate': [0.1,0.2,0.3],\n",
    "              'n_jobs': [6],\n",
    "              'random_state' : [12345]}\n",
    "\n",
    "model = lgb.LGBMRegressor()\n",
    "model_opt = GridSearchCV(estimator=model,\n",
    "                    param_grid=grid_space,\n",
    "                    cv=3,\n",
    "                    scoring='neg_root_mean_squared_error')\n",
    "\n",
    "model_opt.fit(f_train_lgb, t_train_lgb)\n",
    "display(model_opt.best_params_)\n"
   ]
  },
  {
   "cell_type": "markdown",
   "metadata": {},
   "source": [
    "определим лучшую модель lgbm"
   ]
  },
  {
   "cell_type": "code",
   "execution_count": 51,
   "metadata": {},
   "outputs": [
    {
     "name": "stdout",
     "output_type": "stream",
     "text": [
      "learning_rate =  1.9 \tRMSE train = 1469.0 \tRMSE valid = 1571.0\n"
     ]
    }
   ],
   "source": [
    "best_lgb = lgb.LGBMRegressor(learning_rate = 0.2,\n",
    "                             max_depth = 15,\n",
    "                             n_estimators = 100,\n",
    "                             num_leaves = 50,\n",
    "                             random_state = 12345)\n",
    "best_lgb.fit(f_train_lgb, t_train_lgb)\n",
    "\n",
    "res_t = mean_squared_error(t_train_lgb, best_lgb.predict(f_train_lgb))**0.5\n",
    "res_v = mean_squared_error(t_valid_lgb, best_lgb.predict(f_valid_lgb))**0.5\n",
    "    \n",
    "print('learning_rate = ', round(learning_rate,1), '\\tRMSE train =', round(res_t,0),\n",
    "          '\\tRMSE valid =', round(res_v,0))"
   ]
  },
  {
   "cell_type": "markdown",
   "metadata": {},
   "source": [
    "## Анализ моделей"
   ]
  },
  {
   "cell_type": "markdown",
   "metadata": {},
   "source": [
    "рассчитаем и сравним время обучения и предсказания для 4-х моделей"
   ]
  },
  {
   "cell_type": "code",
   "execution_count": 52,
   "metadata": {},
   "outputs": [],
   "source": [
    "def mod_est (model, train_target, train_features, valid_target, valid_features):\n",
    "    time0 = time.time()\n",
    "    model.fit(train_features, train_target)\n",
    "    time1 = time.time()\n",
    "    predict = model.predict(valid_features) \n",
    "    time2 = time.time()\n",
    "    rmse = int(mean_squared_error(valid_target, predict)**0.5)\n",
    "    \n",
    "    dt_fit = round(time1 - time0, 3)\n",
    "    dt_predict = round(time2 - time1, 3)\n",
    "    \n",
    "    return(rmse, dt_fit, dt_predict)"
   ]
  },
  {
   "cell_type": "code",
   "execution_count": 53,
   "metadata": {},
   "outputs": [],
   "source": [
    "res_lin_reg = mod_est (model_lin_reg,      t_train,     f_train,     t_valid,     f_valid)\n",
    "res_tree    = mod_est (best_tree,          t_train,     f_train,     t_valid,     f_valid)\n",
    "res_rf      = mod_est (best_random_forest, t_train,     f_train,     t_valid,     f_valid)\n",
    "\n",
    "res_lgb     = mod_est (best_lgb,           t_train_lgb, f_train_lgb, t_valid_lgb, f_valid_lgb)"
   ]
  },
  {
   "cell_type": "code",
   "execution_count": 54,
   "metadata": {},
   "outputs": [
    {
     "data": {
      "text/html": [
       "<div>\n",
       "<style scoped>\n",
       "    .dataframe tbody tr th:only-of-type {\n",
       "        vertical-align: middle;\n",
       "    }\n",
       "\n",
       "    .dataframe tbody tr th {\n",
       "        vertical-align: top;\n",
       "    }\n",
       "\n",
       "    .dataframe thead th {\n",
       "        text-align: right;\n",
       "    }\n",
       "</style>\n",
       "<table border=\"1\" class=\"dataframe\">\n",
       "  <thead>\n",
       "    <tr style=\"text-align: right;\">\n",
       "      <th></th>\n",
       "      <th>rmse</th>\n",
       "      <th>time_fit</th>\n",
       "      <th>time_predict</th>\n",
       "      <th>rmse_rel</th>\n",
       "      <th>time_fit_rel</th>\n",
       "      <th>time_predict_rel</th>\n",
       "    </tr>\n",
       "  </thead>\n",
       "  <tbody>\n",
       "    <tr>\n",
       "      <th>LinearRegression</th>\n",
       "      <td>2419</td>\n",
       "      <td>3.487</td>\n",
       "      <td>0.127</td>\n",
       "      <td>1.5</td>\n",
       "      <td>6.6</td>\n",
       "      <td>2.8</td>\n",
       "    </tr>\n",
       "    <tr>\n",
       "      <th>DecisionTree</th>\n",
       "      <td>1890</td>\n",
       "      <td>2.581</td>\n",
       "      <td>0.045</td>\n",
       "      <td>1.2</td>\n",
       "      <td>4.9</td>\n",
       "      <td>1.0</td>\n",
       "    </tr>\n",
       "    <tr>\n",
       "      <th>RandomForest</th>\n",
       "      <td>1703</td>\n",
       "      <td>26.516</td>\n",
       "      <td>0.218</td>\n",
       "      <td>1.1</td>\n",
       "      <td>50.3</td>\n",
       "      <td>4.8</td>\n",
       "    </tr>\n",
       "    <tr>\n",
       "      <th>LightGBM</th>\n",
       "      <td>1570</td>\n",
       "      <td>0.527</td>\n",
       "      <td>0.111</td>\n",
       "      <td>1.0</td>\n",
       "      <td>1.0</td>\n",
       "      <td>2.5</td>\n",
       "    </tr>\n",
       "  </tbody>\n",
       "</table>\n",
       "</div>"
      ],
      "text/plain": [
       "                  rmse  time_fit  time_predict  rmse_rel  time_fit_rel  \\\n",
       "LinearRegression  2419     3.487         0.127       1.5           6.6   \n",
       "DecisionTree      1890     2.581         0.045       1.2           4.9   \n",
       "RandomForest      1703    26.516         0.218       1.1          50.3   \n",
       "LightGBM          1570     0.527         0.111       1.0           1.0   \n",
       "\n",
       "                  time_predict_rel  \n",
       "LinearRegression               2.8  \n",
       "DecisionTree                   1.0  \n",
       "RandomForest                   4.8  \n",
       "LightGBM                       2.5  "
      ]
     },
     "metadata": {},
     "output_type": "display_data"
    }
   ],
   "source": [
    "result = pd.DataFrame (data = [res_lin_reg,\n",
    "                               res_tree,\n",
    "                               res_rf,\n",
    "                               res_lgb],\n",
    "                       columns = ['rmse', 'time_fit', 'time_predict'],\n",
    "                       index = ['LinearRegression', 'DecisionTree', 'RandomForest', 'LightGBM'])\n",
    "\n",
    "result['rmse_rel'] = round(result['rmse'] / min(result['rmse']),1)\n",
    "result['time_fit_rel'] = round(result['time_fit'] / min(result['time_fit']),1)\n",
    "result['time_predict_rel'] = round(result['time_predict'] / min(result['time_predict']),1)\n",
    "display(result)"
   ]
  },
  {
   "cell_type": "code",
   "execution_count": 55,
   "metadata": {},
   "outputs": [
    {
     "name": "stdout",
     "output_type": "stream",
     "text": [
      "rmse =\t\t 1561\n",
      "time_fit =\t 0.489\n",
      "time_predict =\t 0.114\n"
     ]
    }
   ],
   "source": [
    "res_lgb_test = mod_est (best_lgb, t_train_lgb, f_train_lgb, t_test_lgb, f_test_lgb)\n",
    "print('rmse =\\t\\t', res_lgb_test[0])\n",
    "print('time_fit =\\t', res_lgb_test[1])\n",
    "print('time_predict =\\t', res_lgb_test[2])"
   ]
  },
  {
   "cell_type": "markdown",
   "metadata": {},
   "source": [
    "## Промедуточные выводы:\n",
    "\n",
    "На валидационной выборке:\n",
    "   - наименьшее rmse соответствует моделе LightGBM (1570)\n",
    "   - наименьшее время обучения соответствует моделе LightGBM (0,5 сек)\n",
    "   - наименьшее время предсказания соответствует моделе DecisionTree (0,05 сек)\n",
    "    \n",
    "Ввиду того, что модель LightGBM обладает меньшим значением rmse, чем модель DecisionTree (1505 vs 1784) и небольшим временем обучения и предсказания (0,52 и 0,12 сек соответственно), то оптимальной моделью является модель LightGBM.\n",
    "\n",
    "На тестовой выборке, используя модель LightGBM, достигнуты следующие значения:\n",
    "   - rmse = 1561\n",
    "   - time_fit = 0.5\n",
    "   - time_predict = 0.1"
   ]
  },
  {
   "cell_type": "markdown",
   "metadata": {},
   "source": [
    "### Выводы:\n",
    "    - Исходные данные содержат пропуски, аномальные значения и параметры, не влияющие на целевое значения (стоимость машины)\n",
    "    - В ходе предобработки были удалены аномальные значения, заполнены пропуски, удалены параметры, не влияющие на целевое значения, удалены дубликаты. Объём данных сократился на 29.1%, 17% из них приходится на дубликаты. (с ~350 тыс строк до ~250 тыс строк)\n",
    "    - Проведено обучение, подбор оптимальных параметров (с точки зрения минимизации rmse) и оценка длительности обучения и предсказания для 4-х моделей:\n",
    "        - LinearRegression\n",
    "        - DecisionTree\n",
    "        - RandomForest\n",
    "        - LightGBM\n",
    "    - Модель LightGBM обладает минимальным значением rmse на тестовой выборке 1570\n",
    "      значение rmse (valid) для модели RandomForest составило 1702 (+ 10% к LightGBM)\n",
    "      значение rmse (valid) для модели DecisionTree составило 11890 (+ 20% к LightGBM)\n",
    "      значение rmse (valid) для модели LinearRegression составило 2419 (+ 50% к LightGBM)\n",
    "    - С точки зрения быстродействия (длительность обучения идлительность предсказания на выборке valid) можно выделить:\n",
    "        LightGBM (0,5 и 0,1 сек соответственно)\n",
    "        DecisionTree (2,6 и 0,05 сек соответственно)\n",
    "\n",
    "Ввиду того, что модель LightGBM обладает меньшим значением rmse, чем модель DecisionTree (1570 vs 1890) и небольшим временем обучения и предсказания (0,57 и 0,15 сек соответственно), то оптимальной моделью является модель LightGBM.\n",
    "    \n",
    "На тестовой выборке, используя модель LightGBM, достигнуты следующие значения:\n",
    "   - rmse = 1561\n",
    "   - time_fit = 0.5\n",
    "   - time_predict = 0.1\n"
   ]
  }
 ],
 "metadata": {
  "ExecuteTimeLog": [
   {
    "duration": 1800,
    "start_time": "2023-06-28T19:27:22.154Z"
   },
   {
    "duration": 1252,
    "start_time": "2023-06-28T19:27:24.628Z"
   },
   {
    "duration": 202,
    "start_time": "2023-06-28T19:27:37.582Z"
   },
   {
    "duration": 90188,
    "start_time": "2023-06-28T19:27:39.980Z"
   },
   {
    "duration": 437,
    "start_time": "2023-06-28T19:29:10.171Z"
   },
   {
    "duration": 23,
    "start_time": "2023-06-28T19:29:10.610Z"
   },
   {
    "duration": 26,
    "start_time": "2023-06-28T19:29:10.635Z"
   },
   {
    "duration": 28,
    "start_time": "2023-06-28T19:35:07.995Z"
   },
   {
    "duration": 47,
    "start_time": "2023-06-28T19:35:08.622Z"
   },
   {
    "duration": 96,
    "start_time": "2023-06-28T19:35:09.500Z"
   },
   {
    "duration": 150,
    "start_time": "2023-06-28T19:35:09.764Z"
   },
   {
    "duration": 347,
    "start_time": "2023-06-28T19:35:10.325Z"
   },
   {
    "duration": 26,
    "start_time": "2023-06-28T19:35:10.674Z"
   },
   {
    "duration": 2264,
    "start_time": "2023-06-28T19:35:11.966Z"
   },
   {
    "duration": 37,
    "start_time": "2023-06-28T19:35:14.232Z"
   },
   {
    "duration": 390,
    "start_time": "2023-06-28T19:35:14.271Z"
   },
   {
    "duration": 98,
    "start_time": "2023-06-28T19:35:14.664Z"
   },
   {
    "duration": 620,
    "start_time": "2023-06-28T19:35:15.296Z"
   },
   {
    "duration": 27,
    "start_time": "2023-06-28T19:35:18.058Z"
   },
   {
    "duration": 241,
    "start_time": "2023-06-28T19:36:03.001Z"
   },
   {
    "duration": 19,
    "start_time": "2023-06-28T19:36:05.909Z"
   },
   {
    "duration": 226,
    "start_time": "2023-06-28T19:36:06.821Z"
   },
   {
    "duration": 103,
    "start_time": "2023-06-28T19:36:12.828Z"
   },
   {
    "duration": 32,
    "start_time": "2023-06-28T19:37:02.250Z"
   },
   {
    "duration": 64,
    "start_time": "2023-06-28T19:37:33.617Z"
   },
   {
    "duration": 80,
    "start_time": "2023-06-28T19:38:01.110Z"
   },
   {
    "duration": 97,
    "start_time": "2023-06-28T19:38:06.547Z"
   },
   {
    "duration": 134,
    "start_time": "2023-06-28T19:38:20.933Z"
   },
   {
    "duration": 252,
    "start_time": "2023-06-28T19:40:55.748Z"
   },
   {
    "duration": 24,
    "start_time": "2023-06-28T19:41:21.190Z"
   },
   {
    "duration": 11403,
    "start_time": "2023-06-28T19:42:33.561Z"
   },
   {
    "duration": 69,
    "start_time": "2023-06-28T19:46:35.248Z"
   },
   {
    "duration": 2282,
    "start_time": "2023-06-29T07:03:27.122Z"
   },
   {
    "duration": 1468,
    "start_time": "2023-06-29T07:03:29.407Z"
   },
   {
    "duration": 140,
    "start_time": "2023-06-29T07:03:35.262Z"
   },
   {
    "duration": 62045,
    "start_time": "2023-06-29T07:03:35.485Z"
   },
   {
    "duration": 0,
    "start_time": "2023-06-29T07:04:37.532Z"
   },
   {
    "duration": 0,
    "start_time": "2023-06-29T07:04:37.533Z"
   },
   {
    "duration": 0,
    "start_time": "2023-06-29T07:04:37.535Z"
   },
   {
    "duration": 0,
    "start_time": "2023-06-29T07:04:37.535Z"
   },
   {
    "duration": 0,
    "start_time": "2023-06-29T07:04:37.537Z"
   },
   {
    "duration": 98668,
    "start_time": "2023-06-29T07:04:41.167Z"
   },
   {
    "duration": 6235,
    "start_time": "2023-06-29T07:06:19.837Z"
   },
   {
    "duration": 22,
    "start_time": "2023-06-29T07:06:26.074Z"
   },
   {
    "duration": 38,
    "start_time": "2023-06-29T07:06:26.098Z"
   },
   {
    "duration": 28,
    "start_time": "2023-06-29T07:14:36.094Z"
   },
   {
    "duration": 204,
    "start_time": "2023-06-29T07:14:37.099Z"
   },
   {
    "duration": 246,
    "start_time": "2023-06-29T07:14:56.510Z"
   },
   {
    "duration": 39,
    "start_time": "2023-06-29T07:15:32.394Z"
   },
   {
    "duration": 411,
    "start_time": "2023-06-29T07:21:45.706Z"
   },
   {
    "duration": 22,
    "start_time": "2023-06-29T07:21:47.996Z"
   },
   {
    "duration": 395,
    "start_time": "2023-06-29T07:21:53.797Z"
   },
   {
    "duration": 1785,
    "start_time": "2023-06-29T07:22:20.438Z"
   },
   {
    "duration": 1159,
    "start_time": "2023-06-29T07:22:22.225Z"
   },
   {
    "duration": 145,
    "start_time": "2023-06-29T07:22:23.387Z"
   },
   {
    "duration": 93035,
    "start_time": "2023-06-29T07:22:23.535Z"
   },
   {
    "duration": 449,
    "start_time": "2023-06-29T07:23:56.572Z"
   },
   {
    "duration": 38,
    "start_time": "2023-06-29T07:23:57.023Z"
   },
   {
    "duration": 28,
    "start_time": "2023-06-29T07:23:57.066Z"
   },
   {
    "duration": 43,
    "start_time": "2023-06-29T07:23:57.097Z"
   },
   {
    "duration": 265,
    "start_time": "2023-06-29T07:23:57.143Z"
   },
   {
    "duration": 60,
    "start_time": "2023-06-29T07:23:57.411Z"
   },
   {
    "duration": 98,
    "start_time": "2023-06-29T07:23:57.472Z"
   },
   {
    "duration": 144,
    "start_time": "2023-06-29T07:23:57.573Z"
   },
   {
    "duration": 364,
    "start_time": "2023-06-29T07:23:57.719Z"
   },
   {
    "duration": 27,
    "start_time": "2023-06-29T07:23:58.085Z"
   },
   {
    "duration": 2865,
    "start_time": "2023-06-29T07:24:18.370Z"
   },
   {
    "duration": 35,
    "start_time": "2023-06-29T07:24:24.042Z"
   },
   {
    "duration": 401,
    "start_time": "2023-06-29T07:24:32.819Z"
   },
   {
    "duration": 90,
    "start_time": "2023-06-29T07:24:51.156Z"
   },
   {
    "duration": 652,
    "start_time": "2023-06-29T07:24:52.596Z"
   },
   {
    "duration": 582,
    "start_time": "2023-06-29T07:25:51.392Z"
   },
   {
    "duration": 35,
    "start_time": "2023-06-29T07:26:01.694Z"
   },
   {
    "duration": 182,
    "start_time": "2023-06-29T07:26:39.274Z"
   },
   {
    "duration": 29,
    "start_time": "2023-06-29T07:26:45.784Z"
   },
   {
    "duration": 180,
    "start_time": "2023-06-29T07:27:19.205Z"
   },
   {
    "duration": 455,
    "start_time": "2023-06-29T07:27:24.611Z"
   },
   {
    "duration": 694,
    "start_time": "2023-06-29T07:27:35.897Z"
   },
   {
    "duration": 431,
    "start_time": "2023-06-29T07:27:51.095Z"
   },
   {
    "duration": 27,
    "start_time": "2023-06-29T07:29:31.844Z"
   },
   {
    "duration": 19,
    "start_time": "2023-06-29T07:29:43.002Z"
   },
   {
    "duration": 6,
    "start_time": "2023-06-29T07:29:54.500Z"
   },
   {
    "duration": 16,
    "start_time": "2023-06-29T07:29:59.975Z"
   },
   {
    "duration": 147,
    "start_time": "2023-06-29T07:30:48.861Z"
   },
   {
    "duration": 14,
    "start_time": "2023-06-29T07:31:03.890Z"
   },
   {
    "duration": 12,
    "start_time": "2023-06-29T07:31:14.173Z"
   },
   {
    "duration": 25,
    "start_time": "2023-06-29T07:31:19.383Z"
   },
   {
    "duration": 22,
    "start_time": "2023-06-29T07:31:34.612Z"
   },
   {
    "duration": 128,
    "start_time": "2023-06-29T07:32:05.891Z"
   },
   {
    "duration": 140,
    "start_time": "2023-06-29T07:32:16.032Z"
   },
   {
    "duration": 11,
    "start_time": "2023-06-29T07:32:26.334Z"
   },
   {
    "duration": 134,
    "start_time": "2023-06-29T07:32:32.310Z"
   },
   {
    "duration": 24,
    "start_time": "2023-06-29T07:32:53.420Z"
   },
   {
    "duration": 23,
    "start_time": "2023-06-29T07:33:14.421Z"
   },
   {
    "duration": 114,
    "start_time": "2023-06-29T07:33:27.948Z"
   },
   {
    "duration": 18,
    "start_time": "2023-06-29T07:34:29.298Z"
   },
   {
    "duration": 112,
    "start_time": "2023-06-29T07:34:37.958Z"
   },
   {
    "duration": 63,
    "start_time": "2023-06-29T07:34:46.643Z"
   },
   {
    "duration": 58,
    "start_time": "2023-06-29T07:34:56.379Z"
   },
   {
    "duration": 82,
    "start_time": "2023-06-29T07:35:13.704Z"
   },
   {
    "duration": 69,
    "start_time": "2023-06-29T07:35:39.768Z"
   },
   {
    "duration": 81,
    "start_time": "2023-06-29T07:35:46.802Z"
   },
   {
    "duration": 63,
    "start_time": "2023-06-29T07:35:57.864Z"
   },
   {
    "duration": 18,
    "start_time": "2023-06-29T07:36:10.793Z"
   },
   {
    "duration": 84,
    "start_time": "2023-06-29T07:36:23.059Z"
   },
   {
    "duration": 92,
    "start_time": "2023-06-29T07:36:36.104Z"
   },
   {
    "duration": 83,
    "start_time": "2023-06-29T07:36:42.030Z"
   },
   {
    "duration": 70,
    "start_time": "2023-06-29T07:36:52.029Z"
   },
   {
    "duration": 104,
    "start_time": "2023-06-29T07:36:58.262Z"
   },
   {
    "duration": 92,
    "start_time": "2023-06-29T07:37:08.494Z"
   },
   {
    "duration": 93,
    "start_time": "2023-06-29T07:37:14.188Z"
   },
   {
    "duration": 24,
    "start_time": "2023-06-29T07:37:25.305Z"
   },
   {
    "duration": 92,
    "start_time": "2023-06-29T07:38:15.246Z"
   },
   {
    "duration": 45,
    "start_time": "2023-06-29T07:39:11.790Z"
   },
   {
    "duration": 18,
    "start_time": "2023-06-29T07:39:14.806Z"
   },
   {
    "duration": 75,
    "start_time": "2023-06-29T07:39:17.115Z"
   },
   {
    "duration": 64,
    "start_time": "2023-06-29T07:39:30.278Z"
   },
   {
    "duration": 110,
    "start_time": "2023-06-29T07:39:36.209Z"
   },
   {
    "duration": 170,
    "start_time": "2023-06-29T07:40:15.847Z"
   },
   {
    "duration": 2,
    "start_time": "2023-06-29T07:41:20.311Z"
   },
   {
    "duration": 152,
    "start_time": "2023-06-29T07:41:37.805Z"
   },
   {
    "duration": 12,
    "start_time": "2023-06-29T07:42:15.638Z"
   },
   {
    "duration": 153,
    "start_time": "2023-06-29T07:43:06.769Z"
   },
   {
    "duration": 138,
    "start_time": "2023-06-29T07:43:15.056Z"
   },
   {
    "duration": 185,
    "start_time": "2023-06-29T07:43:28.306Z"
   },
   {
    "duration": 52,
    "start_time": "2023-06-29T07:43:34.323Z"
   },
   {
    "duration": 1742,
    "start_time": "2023-06-29T07:43:47.478Z"
   },
   {
    "duration": 1066,
    "start_time": "2023-06-29T07:43:49.222Z"
   },
   {
    "duration": 132,
    "start_time": "2023-06-29T07:43:50.290Z"
   },
   {
    "duration": 93904,
    "start_time": "2023-06-29T07:43:50.427Z"
   },
   {
    "duration": 428,
    "start_time": "2023-06-29T07:45:24.334Z"
   },
   {
    "duration": 24,
    "start_time": "2023-06-29T07:45:24.764Z"
   },
   {
    "duration": 16,
    "start_time": "2023-06-29T07:45:24.790Z"
   },
   {
    "duration": 30,
    "start_time": "2023-06-29T07:55:52.079Z"
   },
   {
    "duration": 229,
    "start_time": "2023-06-29T07:55:52.617Z"
   },
   {
    "duration": 42,
    "start_time": "2023-06-29T07:55:53.164Z"
   },
   {
    "duration": 89,
    "start_time": "2023-06-29T07:55:55.455Z"
   },
   {
    "duration": 151,
    "start_time": "2023-06-29T07:55:55.765Z"
   },
   {
    "duration": 348,
    "start_time": "2023-06-29T07:55:56.363Z"
   },
   {
    "duration": 29,
    "start_time": "2023-06-29T07:56:03.635Z"
   },
   {
    "duration": 2934,
    "start_time": "2023-06-29T07:56:05.802Z"
   },
   {
    "duration": 29,
    "start_time": "2023-06-29T07:56:12.460Z"
   },
   {
    "duration": 388,
    "start_time": "2023-06-29T07:56:15.535Z"
   },
   {
    "duration": 116,
    "start_time": "2023-06-29T07:56:18.231Z"
   },
   {
    "duration": 643,
    "start_time": "2023-06-29T07:56:18.549Z"
   },
   {
    "duration": 30,
    "start_time": "2023-06-29T07:56:25.783Z"
   },
   {
    "duration": 84,
    "start_time": "2023-06-29T08:03:55.419Z"
   },
   {
    "duration": 19,
    "start_time": "2023-06-29T08:03:56.721Z"
   },
   {
    "duration": 222,
    "start_time": "2023-06-29T08:04:17.217Z"
   },
   {
    "duration": 92,
    "start_time": "2023-06-29T08:04:20.247Z"
   },
   {
    "duration": 16,
    "start_time": "2023-06-29T08:04:26.844Z"
   },
   {
    "duration": 44,
    "start_time": "2023-06-29T08:04:35.653Z"
   },
   {
    "duration": 174,
    "start_time": "2023-06-29T08:04:38.436Z"
   },
   {
    "duration": 178,
    "start_time": "2023-06-29T08:04:49.049Z"
   },
   {
    "duration": 86,
    "start_time": "2023-06-29T08:05:02.485Z"
   },
   {
    "duration": 90,
    "start_time": "2023-06-29T08:05:10.551Z"
   },
   {
    "duration": 141,
    "start_time": "2023-06-29T08:05:13.877Z"
   },
   {
    "duration": 140,
    "start_time": "2023-06-29T08:05:25.680Z"
   },
   {
    "duration": 134,
    "start_time": "2023-06-29T08:05:30.004Z"
   },
   {
    "duration": 152,
    "start_time": "2023-06-29T08:05:41.271Z"
   },
   {
    "duration": 126,
    "start_time": "2023-06-29T08:05:43.864Z"
   },
   {
    "duration": 142,
    "start_time": "2023-06-29T08:05:45.107Z"
   },
   {
    "duration": 4,
    "start_time": "2023-06-29T08:05:57.800Z"
   },
   {
    "duration": 942,
    "start_time": "2023-06-29T08:05:58.551Z"
   },
   {
    "duration": 117,
    "start_time": "2023-06-29T08:06:02.277Z"
   },
   {
    "duration": 437,
    "start_time": "2023-06-29T08:06:39.594Z"
   },
   {
    "duration": 23,
    "start_time": "2023-06-29T08:06:40.803Z"
   },
   {
    "duration": 7,
    "start_time": "2023-06-29T08:06:41.288Z"
   },
   {
    "duration": 33,
    "start_time": "2023-06-29T08:06:42.316Z"
   },
   {
    "duration": 229,
    "start_time": "2023-06-29T08:06:42.603Z"
   },
   {
    "duration": 41,
    "start_time": "2023-06-29T08:06:43.303Z"
   },
   {
    "duration": 89,
    "start_time": "2023-06-29T08:06:44.684Z"
   },
   {
    "duration": 176,
    "start_time": "2023-06-29T08:06:44.831Z"
   },
   {
    "duration": 398,
    "start_time": "2023-06-29T08:06:45.130Z"
   },
   {
    "duration": 44,
    "start_time": "2023-06-29T08:06:45.531Z"
   },
   {
    "duration": 420,
    "start_time": "2023-06-29T08:06:46.732Z"
   },
   {
    "duration": 31,
    "start_time": "2023-06-29T08:06:47.154Z"
   },
   {
    "duration": 412,
    "start_time": "2023-06-29T08:06:47.384Z"
   },
   {
    "duration": 90,
    "start_time": "2023-06-29T08:06:47.903Z"
   },
   {
    "duration": 641,
    "start_time": "2023-06-29T08:06:48.723Z"
   },
   {
    "duration": 29,
    "start_time": "2023-06-29T08:06:50.220Z"
   },
   {
    "duration": 899,
    "start_time": "2023-06-29T08:06:50.398Z"
   },
   {
    "duration": 80,
    "start_time": "2023-06-29T08:06:53.375Z"
   },
   {
    "duration": 18,
    "start_time": "2023-06-29T08:06:53.599Z"
   },
   {
    "duration": 228,
    "start_time": "2023-06-29T08:06:55.781Z"
   },
   {
    "duration": 105,
    "start_time": "2023-06-29T08:06:56.750Z"
   },
   {
    "duration": 19,
    "start_time": "2023-06-29T08:06:58.371Z"
   },
   {
    "duration": 44,
    "start_time": "2023-06-29T08:07:06.120Z"
   },
   {
    "duration": 141,
    "start_time": "2023-06-29T08:07:07.551Z"
   },
   {
    "duration": 137,
    "start_time": "2023-06-29T08:07:10.808Z"
   },
   {
    "duration": 120,
    "start_time": "2023-06-29T08:07:16.861Z"
   },
   {
    "duration": 155,
    "start_time": "2023-06-29T08:07:23.741Z"
   },
   {
    "duration": 162,
    "start_time": "2023-06-29T08:07:27.087Z"
   },
   {
    "duration": 129,
    "start_time": "2023-06-29T08:07:34.299Z"
   },
   {
    "duration": 81,
    "start_time": "2023-06-29T08:10:48.717Z"
   },
   {
    "duration": 2,
    "start_time": "2023-06-29T08:10:50.730Z"
   },
   {
    "duration": 123,
    "start_time": "2023-06-29T08:11:51.122Z"
   },
   {
    "duration": 76,
    "start_time": "2023-06-29T08:12:01.090Z"
   },
   {
    "duration": 392,
    "start_time": "2023-06-29T08:12:11.547Z"
   },
   {
    "duration": 65,
    "start_time": "2023-06-29T08:12:18.305Z"
   },
   {
    "duration": 1572,
    "start_time": "2023-06-29T08:12:31.535Z"
   },
   {
    "duration": 1030,
    "start_time": "2023-06-29T08:12:33.109Z"
   },
   {
    "duration": 127,
    "start_time": "2023-06-29T08:12:34.141Z"
   },
   {
    "duration": 397,
    "start_time": "2023-06-29T08:12:37.612Z"
   },
   {
    "duration": 22,
    "start_time": "2023-06-29T08:12:38.011Z"
   },
   {
    "duration": 8,
    "start_time": "2023-06-29T08:12:38.051Z"
   },
   {
    "duration": 29,
    "start_time": "2023-06-29T08:12:38.802Z"
   },
   {
    "duration": 300,
    "start_time": "2023-06-29T08:12:39.065Z"
   },
   {
    "duration": 48,
    "start_time": "2023-06-29T08:12:39.366Z"
   },
   {
    "duration": 88,
    "start_time": "2023-06-29T08:12:40.199Z"
   },
   {
    "duration": 162,
    "start_time": "2023-06-29T08:12:40.334Z"
   },
   {
    "duration": 313,
    "start_time": "2023-06-29T08:12:40.632Z"
   },
   {
    "duration": 30,
    "start_time": "2023-06-29T08:12:40.947Z"
   },
   {
    "duration": 377,
    "start_time": "2023-06-29T08:12:41.293Z"
   },
   {
    "duration": 27,
    "start_time": "2023-06-29T08:12:41.672Z"
   },
   {
    "duration": 358,
    "start_time": "2023-06-29T08:12:44.870Z"
   },
   {
    "duration": 84,
    "start_time": "2023-06-29T08:12:47.694Z"
   },
   {
    "duration": 780,
    "start_time": "2023-06-29T08:12:47.917Z"
   },
   {
    "duration": 31,
    "start_time": "2023-06-29T08:12:52.206Z"
   },
   {
    "duration": 364,
    "start_time": "2023-06-29T08:12:52.862Z"
   },
   {
    "duration": 79,
    "start_time": "2023-06-29T08:12:56.413Z"
   },
   {
    "duration": 18,
    "start_time": "2023-06-29T08:12:57.605Z"
   },
   {
    "duration": 222,
    "start_time": "2023-06-29T08:13:00.857Z"
   },
   {
    "duration": 91,
    "start_time": "2023-06-29T08:13:04.423Z"
   },
   {
    "duration": 16,
    "start_time": "2023-06-29T08:13:05.731Z"
   },
   {
    "duration": 44,
    "start_time": "2023-06-29T08:13:09.665Z"
   },
   {
    "duration": 93,
    "start_time": "2023-06-29T08:13:12.605Z"
   },
   {
    "duration": 393,
    "start_time": "2023-06-29T08:13:14.007Z"
   },
   {
    "duration": 52,
    "start_time": "2023-06-29T08:13:16.738Z"
   },
   {
    "duration": 132,
    "start_time": "2023-06-29T08:14:05.552Z"
   },
   {
    "duration": 2,
    "start_time": "2023-06-29T08:14:52.299Z"
   },
   {
    "duration": 4,
    "start_time": "2023-06-29T08:17:14.712Z"
   },
   {
    "duration": 3,
    "start_time": "2023-06-29T08:19:14.531Z"
   },
   {
    "duration": 121,
    "start_time": "2023-06-29T08:20:06.803Z"
   },
   {
    "duration": 117,
    "start_time": "2023-06-29T08:22:29.496Z"
   },
   {
    "duration": 3,
    "start_time": "2023-06-29T08:22:37.252Z"
   },
   {
    "duration": 651,
    "start_time": "2023-06-29T08:25:23.146Z"
   },
   {
    "duration": 11,
    "start_time": "2023-06-29T08:25:36.829Z"
   },
   {
    "duration": 4,
    "start_time": "2023-06-29T08:25:49.416Z"
   },
   {
    "duration": 137,
    "start_time": "2023-06-29T08:26:23.926Z"
   },
   {
    "duration": 700,
    "start_time": "2023-06-29T08:26:28.108Z"
   },
   {
    "duration": 18,
    "start_time": "2023-06-29T08:27:15.404Z"
   },
   {
    "duration": 163,
    "start_time": "2023-06-29T08:27:22.741Z"
   },
   {
    "duration": 711,
    "start_time": "2023-06-29T08:27:30.390Z"
   },
   {
    "duration": 49458,
    "start_time": "2023-06-29T08:27:48.471Z"
   },
   {
    "duration": 1016,
    "start_time": "2023-06-29T08:30:42.263Z"
   },
   {
    "duration": 13,
    "start_time": "2023-06-29T08:31:57.530Z"
   },
   {
    "duration": 672,
    "start_time": "2023-06-29T08:32:12.833Z"
   },
   {
    "duration": 673,
    "start_time": "2023-06-29T08:32:14.922Z"
   },
   {
    "duration": 657,
    "start_time": "2023-06-29T08:32:20.605Z"
   },
   {
    "duration": 706,
    "start_time": "2023-06-29T08:33:20.798Z"
   },
   {
    "duration": 761,
    "start_time": "2023-06-29T08:33:37.708Z"
   },
   {
    "duration": 60113,
    "start_time": "2023-06-29T08:33:56.848Z"
   },
   {
    "duration": 138,
    "start_time": "2023-06-29T08:35:04.834Z"
   },
   {
    "duration": 469,
    "start_time": "2023-06-29T08:35:54.702Z"
   },
   {
    "duration": 71,
    "start_time": "2023-06-29T08:35:56.108Z"
   },
   {
    "duration": 12,
    "start_time": "2023-06-29T08:39:38.102Z"
   },
   {
    "duration": 67,
    "start_time": "2023-06-29T08:40:12.910Z"
   },
   {
    "duration": 59,
    "start_time": "2023-06-29T08:41:37.407Z"
   },
   {
    "duration": 15,
    "start_time": "2023-06-29T08:42:03.158Z"
   },
   {
    "duration": 113,
    "start_time": "2023-06-29T08:42:07.805Z"
   },
   {
    "duration": 55806,
    "start_time": "2023-06-29T08:42:09.619Z"
   },
   {
    "duration": 12,
    "start_time": "2023-06-29T08:43:37.320Z"
   },
   {
    "duration": 65,
    "start_time": "2023-06-29T08:43:46.287Z"
   },
   {
    "duration": 65,
    "start_time": "2023-06-29T08:45:42.016Z"
   },
   {
    "duration": 116,
    "start_time": "2023-06-29T08:49:24.452Z"
   },
   {
    "duration": 14,
    "start_time": "2023-06-29T08:50:01.441Z"
   },
   {
    "duration": 16,
    "start_time": "2023-06-29T08:50:37.434Z"
   },
   {
    "duration": 5302,
    "start_time": "2023-06-29T08:50:59.909Z"
   },
   {
    "duration": 4699,
    "start_time": "2023-06-29T08:51:19.049Z"
   },
   {
    "duration": 14,
    "start_time": "2023-06-29T08:51:52.213Z"
   },
   {
    "duration": 16,
    "start_time": "2023-06-29T08:52:05.629Z"
   },
   {
    "duration": 19,
    "start_time": "2023-06-29T08:55:15.919Z"
   },
   {
    "duration": 20,
    "start_time": "2023-06-29T08:56:05.499Z"
   },
   {
    "duration": 120,
    "start_time": "2023-06-29T08:56:18.904Z"
   },
   {
    "duration": 23,
    "start_time": "2023-06-29T08:56:20.455Z"
   },
   {
    "duration": 17,
    "start_time": "2023-06-29T08:56:44.808Z"
   },
   {
    "duration": 14,
    "start_time": "2023-06-29T08:57:10.132Z"
   },
   {
    "duration": 4,
    "start_time": "2023-06-29T09:00:17.929Z"
   },
   {
    "duration": 4,
    "start_time": "2023-06-29T09:00:29.123Z"
   },
   {
    "duration": 22,
    "start_time": "2023-06-29T09:00:55.292Z"
   },
   {
    "duration": 3,
    "start_time": "2023-06-29T09:01:28.807Z"
   },
   {
    "duration": 21,
    "start_time": "2023-06-29T09:01:31.482Z"
   },
   {
    "duration": 730,
    "start_time": "2023-06-29T09:03:37.090Z"
   },
   {
    "duration": 60451,
    "start_time": "2023-06-29T09:03:45.958Z"
   },
   {
    "duration": 16,
    "start_time": "2023-06-29T09:05:52.512Z"
   },
   {
    "duration": 265,
    "start_time": "2023-06-29T09:06:05.106Z"
   },
   {
    "duration": 977,
    "start_time": "2023-06-29T09:06:25.935Z"
   },
   {
    "duration": 18,
    "start_time": "2023-06-29T09:07:27.423Z"
   },
   {
    "duration": 128,
    "start_time": "2023-06-29T09:07:32.207Z"
   },
   {
    "duration": 57,
    "start_time": "2023-06-29T09:07:47.197Z"
   },
   {
    "duration": 1826,
    "start_time": "2023-06-29T09:11:11.242Z"
   },
   {
    "duration": 1754,
    "start_time": "2023-06-29T09:11:13.071Z"
   },
   {
    "duration": 140,
    "start_time": "2023-06-29T09:11:14.827Z"
   },
   {
    "duration": 512,
    "start_time": "2023-06-29T09:11:14.971Z"
   },
   {
    "duration": 22,
    "start_time": "2023-06-29T09:11:15.486Z"
   },
   {
    "duration": 107,
    "start_time": "2023-06-29T09:11:15.509Z"
   },
   {
    "duration": 95,
    "start_time": "2023-06-29T09:11:15.618Z"
   },
   {
    "duration": 355,
    "start_time": "2023-06-29T09:11:15.715Z"
   },
   {
    "duration": 51,
    "start_time": "2023-06-29T09:11:16.072Z"
   },
   {
    "duration": 117,
    "start_time": "2023-06-29T09:11:16.125Z"
   },
   {
    "duration": 200,
    "start_time": "2023-06-29T09:11:16.244Z"
   },
   {
    "duration": 397,
    "start_time": "2023-06-29T09:11:16.446Z"
   },
   {
    "duration": 37,
    "start_time": "2023-06-29T09:11:16.845Z"
   },
   {
    "duration": 590,
    "start_time": "2023-06-29T09:11:16.885Z"
   },
   {
    "duration": 29,
    "start_time": "2023-06-29T09:11:17.477Z"
   },
   {
    "duration": 598,
    "start_time": "2023-06-29T09:11:17.508Z"
   },
   {
    "duration": 98,
    "start_time": "2023-06-29T09:11:18.108Z"
   },
   {
    "duration": 899,
    "start_time": "2023-06-29T09:11:18.208Z"
   },
   {
    "duration": 45,
    "start_time": "2023-06-29T09:11:19.109Z"
   },
   {
    "duration": 496,
    "start_time": "2023-06-29T09:11:19.156Z"
   },
   {
    "duration": 101,
    "start_time": "2023-06-29T09:11:19.654Z"
   },
   {
    "duration": 121,
    "start_time": "2023-06-29T09:11:19.758Z"
   },
   {
    "duration": 440,
    "start_time": "2023-06-29T09:11:19.881Z"
   },
   {
    "duration": 128,
    "start_time": "2023-06-29T09:11:20.323Z"
   },
   {
    "duration": 168,
    "start_time": "2023-06-29T09:11:20.453Z"
   },
   {
    "duration": 195,
    "start_time": "2023-06-29T09:11:20.623Z"
   },
   {
    "duration": 217,
    "start_time": "2023-06-29T09:11:20.820Z"
   },
   {
    "duration": 633,
    "start_time": "2023-06-29T09:11:21.039Z"
   },
   {
    "duration": 55,
    "start_time": "2023-06-29T09:11:21.674Z"
   },
   {
    "duration": 276,
    "start_time": "2023-06-29T09:11:21.731Z"
   },
   {
    "duration": 4,
    "start_time": "2023-06-29T09:11:22.010Z"
   },
   {
    "duration": 10199,
    "start_time": "2023-06-29T09:11:22.016Z"
   },
   {
    "duration": 154,
    "start_time": "2023-06-29T09:11:32.217Z"
   },
   {
    "duration": 57393,
    "start_time": "2023-06-29T09:11:32.373Z"
   },
   {
    "duration": 174,
    "start_time": "2023-06-29T09:12:29.768Z"
   },
   {
    "duration": 0,
    "start_time": "2023-06-29T09:12:29.944Z"
   },
   {
    "duration": 0,
    "start_time": "2023-06-29T09:12:29.945Z"
   },
   {
    "duration": 0,
    "start_time": "2023-06-29T09:12:29.946Z"
   },
   {
    "duration": 0,
    "start_time": "2023-06-29T09:12:29.953Z"
   },
   {
    "duration": 0,
    "start_time": "2023-06-29T09:12:29.954Z"
   },
   {
    "duration": 0,
    "start_time": "2023-06-29T09:12:29.955Z"
   },
   {
    "duration": 0,
    "start_time": "2023-06-29T09:12:29.956Z"
   },
   {
    "duration": 0,
    "start_time": "2023-06-29T09:12:29.957Z"
   },
   {
    "duration": 0,
    "start_time": "2023-06-29T09:12:29.958Z"
   },
   {
    "duration": 0,
    "start_time": "2023-06-29T09:12:29.959Z"
   },
   {
    "duration": 0,
    "start_time": "2023-06-29T09:12:29.960Z"
   },
   {
    "duration": 0,
    "start_time": "2023-06-29T09:12:29.961Z"
   },
   {
    "duration": 0,
    "start_time": "2023-06-29T09:12:29.962Z"
   },
   {
    "duration": 0,
    "start_time": "2023-06-29T09:12:29.963Z"
   },
   {
    "duration": 0,
    "start_time": "2023-06-29T09:12:29.964Z"
   },
   {
    "duration": 0,
    "start_time": "2023-06-29T09:12:29.965Z"
   },
   {
    "duration": 0,
    "start_time": "2023-06-29T09:12:29.966Z"
   },
   {
    "duration": 0,
    "start_time": "2023-06-29T09:12:29.970Z"
   },
   {
    "duration": 0,
    "start_time": "2023-06-29T09:12:29.971Z"
   },
   {
    "duration": 0,
    "start_time": "2023-06-29T09:12:29.972Z"
   },
   {
    "duration": 0,
    "start_time": "2023-06-29T09:12:29.974Z"
   },
   {
    "duration": 15,
    "start_time": "2023-06-29T09:25:00.129Z"
   },
   {
    "duration": 3982,
    "start_time": "2023-06-29T09:25:00.623Z"
   },
   {
    "duration": 673,
    "start_time": "2023-06-29T09:25:41.134Z"
   },
   {
    "duration": 193,
    "start_time": "2023-06-29T09:25:45.178Z"
   },
   {
    "duration": 3,
    "start_time": "2023-06-29T09:25:45.529Z"
   },
   {
    "duration": 4,
    "start_time": "2023-06-29T09:25:45.995Z"
   },
   {
    "duration": 1190,
    "start_time": "2023-06-29T09:26:10.679Z"
   },
   {
    "duration": 17117,
    "start_time": "2023-06-29T09:26:11.871Z"
   },
   {
    "duration": 25,
    "start_time": "2023-06-29T09:28:51.477Z"
   },
   {
    "duration": 2,
    "start_time": "2023-06-29T09:28:58.041Z"
   },
   {
    "duration": 4,
    "start_time": "2023-06-29T09:28:58.728Z"
   },
   {
    "duration": 16426,
    "start_time": "2023-06-29T09:29:00.048Z"
   },
   {
    "duration": 44680,
    "start_time": "2023-06-29T09:29:16.476Z"
   },
   {
    "duration": 171,
    "start_time": "2023-06-29T09:30:01.158Z"
   },
   {
    "duration": 4,
    "start_time": "2023-06-29T09:30:01.331Z"
   },
   {
    "duration": 453843,
    "start_time": "2023-06-29T09:30:01.336Z"
   },
   {
    "duration": 247,
    "start_time": "2023-06-29T09:37:35.181Z"
   },
   {
    "duration": 4,
    "start_time": "2023-06-29T09:37:35.431Z"
   },
   {
    "duration": 103,
    "start_time": "2023-06-29T09:37:35.436Z"
   },
   {
    "duration": 0,
    "start_time": "2023-06-29T09:37:35.541Z"
   },
   {
    "duration": 71,
    "start_time": "2023-06-29T09:38:10.175Z"
   },
   {
    "duration": 86,
    "start_time": "2023-06-29T09:39:30.982Z"
   },
   {
    "duration": 94,
    "start_time": "2023-06-29T09:39:40.199Z"
   },
   {
    "duration": 91,
    "start_time": "2023-06-29T09:39:45.379Z"
   },
   {
    "duration": 99,
    "start_time": "2023-06-29T09:39:52.472Z"
   },
   {
    "duration": 103,
    "start_time": "2023-06-29T09:40:16.673Z"
   },
   {
    "duration": 433,
    "start_time": "2023-06-29T09:40:50.627Z"
   },
   {
    "duration": 133,
    "start_time": "2023-06-29T09:40:55.290Z"
   },
   {
    "duration": 2101,
    "start_time": "2023-06-29T09:42:06.788Z"
   },
   {
    "duration": 1082,
    "start_time": "2023-06-29T09:42:08.892Z"
   },
   {
    "duration": 139,
    "start_time": "2023-06-29T09:42:09.977Z"
   },
   {
    "duration": 458,
    "start_time": "2023-06-29T09:42:10.119Z"
   },
   {
    "duration": 22,
    "start_time": "2023-06-29T09:42:10.581Z"
   },
   {
    "duration": 20,
    "start_time": "2023-06-29T09:42:10.604Z"
   },
   {
    "duration": 46,
    "start_time": "2023-06-29T09:42:10.626Z"
   },
   {
    "duration": 319,
    "start_time": "2023-06-29T09:42:10.674Z"
   },
   {
    "duration": 47,
    "start_time": "2023-06-29T09:42:10.994Z"
   },
   {
    "duration": 109,
    "start_time": "2023-06-29T09:42:11.052Z"
   },
   {
    "duration": 166,
    "start_time": "2023-06-29T09:42:11.162Z"
   },
   {
    "duration": 345,
    "start_time": "2023-06-29T09:42:11.329Z"
   },
   {
    "duration": 26,
    "start_time": "2023-06-29T09:42:11.676Z"
   },
   {
    "duration": 407,
    "start_time": "2023-06-29T09:42:11.705Z"
   },
   {
    "duration": 26,
    "start_time": "2023-06-29T09:42:12.114Z"
   },
   {
    "duration": 374,
    "start_time": "2023-06-29T09:42:12.151Z"
   },
   {
    "duration": 106,
    "start_time": "2023-06-29T09:42:12.527Z"
   },
   {
    "duration": 773,
    "start_time": "2023-06-29T09:42:12.635Z"
   },
   {
    "duration": 31,
    "start_time": "2023-06-29T09:42:13.410Z"
   },
   {
    "duration": 383,
    "start_time": "2023-06-29T09:42:13.443Z"
   },
   {
    "duration": 86,
    "start_time": "2023-06-29T09:42:13.827Z"
   },
   {
    "duration": 42,
    "start_time": "2023-06-29T09:42:13.915Z"
   },
   {
    "duration": 234,
    "start_time": "2023-06-29T09:42:13.959Z"
   },
   {
    "duration": 105,
    "start_time": "2023-06-29T09:42:14.195Z"
   },
   {
    "duration": 18,
    "start_time": "2023-06-29T09:42:14.302Z"
   },
   {
    "duration": 58,
    "start_time": "2023-06-29T09:42:14.322Z"
   },
   {
    "duration": 97,
    "start_time": "2023-06-29T09:42:14.383Z"
   },
   {
    "duration": 427,
    "start_time": "2023-06-29T09:42:14.482Z"
   },
   {
    "duration": 57,
    "start_time": "2023-06-29T09:42:14.911Z"
   },
   {
    "duration": 141,
    "start_time": "2023-06-29T09:42:14.970Z"
   },
   {
    "duration": 3,
    "start_time": "2023-06-29T09:42:15.112Z"
   },
   {
    "duration": 9934,
    "start_time": "2023-06-29T09:42:15.117Z"
   },
   {
    "duration": 153,
    "start_time": "2023-06-29T09:42:25.053Z"
   },
   {
    "duration": 55363,
    "start_time": "2023-06-29T09:42:25.208Z"
   },
   {
    "duration": 179,
    "start_time": "2023-06-29T09:43:20.573Z"
   },
   {
    "duration": 0,
    "start_time": "2023-06-29T09:43:20.754Z"
   },
   {
    "duration": 0,
    "start_time": "2023-06-29T09:43:20.756Z"
   },
   {
    "duration": 0,
    "start_time": "2023-06-29T09:43:20.757Z"
   },
   {
    "duration": 0,
    "start_time": "2023-06-29T09:43:20.758Z"
   },
   {
    "duration": 0,
    "start_time": "2023-06-29T09:43:20.759Z"
   },
   {
    "duration": 0,
    "start_time": "2023-06-29T09:43:20.760Z"
   },
   {
    "duration": 0,
    "start_time": "2023-06-29T09:43:20.761Z"
   },
   {
    "duration": 0,
    "start_time": "2023-06-29T09:43:20.763Z"
   },
   {
    "duration": 0,
    "start_time": "2023-06-29T09:43:20.764Z"
   },
   {
    "duration": 0,
    "start_time": "2023-06-29T09:43:20.766Z"
   },
   {
    "duration": 0,
    "start_time": "2023-06-29T09:43:20.767Z"
   },
   {
    "duration": 0,
    "start_time": "2023-06-29T09:43:20.768Z"
   },
   {
    "duration": 0,
    "start_time": "2023-06-29T09:43:20.769Z"
   },
   {
    "duration": 0,
    "start_time": "2023-06-29T09:43:20.770Z"
   },
   {
    "duration": 0,
    "start_time": "2023-06-29T09:43:20.771Z"
   },
   {
    "duration": 0,
    "start_time": "2023-06-29T09:43:20.772Z"
   },
   {
    "duration": 0,
    "start_time": "2023-06-29T09:43:20.773Z"
   },
   {
    "duration": 0,
    "start_time": "2023-06-29T09:43:20.774Z"
   },
   {
    "duration": 0,
    "start_time": "2023-06-29T09:43:20.775Z"
   },
   {
    "duration": 0,
    "start_time": "2023-06-29T09:43:20.776Z"
   },
   {
    "duration": 1161,
    "start_time": "2023-06-29T09:44:22.165Z"
   },
   {
    "duration": 16686,
    "start_time": "2023-06-29T09:44:23.329Z"
   },
   {
    "duration": 2,
    "start_time": "2023-06-29T09:44:40.017Z"
   },
   {
    "duration": 9,
    "start_time": "2023-06-29T09:44:40.020Z"
   },
   {
    "duration": 19634,
    "start_time": "2023-06-29T09:44:40.031Z"
   },
   {
    "duration": 44647,
    "start_time": "2023-06-29T09:44:59.666Z"
   },
   {
    "duration": 166,
    "start_time": "2023-06-29T09:45:44.315Z"
   },
   {
    "duration": 3,
    "start_time": "2023-06-29T09:45:44.482Z"
   },
   {
    "duration": 463398,
    "start_time": "2023-06-29T09:45:44.487Z"
   },
   {
    "duration": 234,
    "start_time": "2023-06-29T09:53:27.886Z"
   },
   {
    "duration": 4,
    "start_time": "2023-06-29T09:53:28.123Z"
   },
   {
    "duration": 30,
    "start_time": "2023-06-29T09:53:43.032Z"
   },
   {
    "duration": 46,
    "start_time": "2023-06-29T09:53:44.739Z"
   },
   {
    "duration": 171,
    "start_time": "2023-06-29T09:54:00.076Z"
   },
   {
    "duration": 26282,
    "start_time": "2023-06-29T09:54:03.400Z"
   },
   {
    "duration": 156,
    "start_time": "2023-06-29T09:54:32.943Z"
   },
   {
    "duration": 9930,
    "start_time": "2023-06-29T09:54:34.779Z"
   },
   {
    "duration": 36,
    "start_time": "2023-06-29T09:54:54.589Z"
   },
   {
    "duration": 4,
    "start_time": "2023-06-29T09:55:43.796Z"
   },
   {
    "duration": 32,
    "start_time": "2023-06-29T09:55:47.412Z"
   },
   {
    "duration": 35,
    "start_time": "2023-06-29T09:56:15.548Z"
   },
   {
    "duration": 178,
    "start_time": "2023-06-29T09:56:19.140Z"
   },
   {
    "duration": 10236,
    "start_time": "2023-06-29T09:56:35.545Z"
   },
   {
    "duration": 30,
    "start_time": "2023-06-29T09:56:53.587Z"
   },
   {
    "duration": 0,
    "start_time": "2023-06-29T09:58:31.277Z"
   },
   {
    "duration": 208,
    "start_time": "2023-06-29T09:58:38.398Z"
   },
   {
    "duration": 33,
    "start_time": "2023-06-29T09:58:41.684Z"
   },
   {
    "duration": 48,
    "start_time": "2023-06-29T10:00:35.946Z"
   },
   {
    "duration": 168,
    "start_time": "2023-06-29T10:01:09.569Z"
   },
   {
    "duration": 35,
    "start_time": "2023-06-29T10:01:36.190Z"
   },
   {
    "duration": 5,
    "start_time": "2023-06-29T10:02:25.687Z"
   },
   {
    "duration": 48,
    "start_time": "2023-06-29T10:02:31.345Z"
   },
   {
    "duration": 30,
    "start_time": "2023-06-29T10:02:59.483Z"
   },
   {
    "duration": 241,
    "start_time": "2023-06-29T10:03:40.392Z"
   },
   {
    "duration": 12689,
    "start_time": "2023-06-29T10:03:44.098Z"
   },
   {
    "duration": 374510,
    "start_time": "2023-06-29T10:03:59.474Z"
   },
   {
    "duration": 211,
    "start_time": "2023-06-29T10:17:38.084Z"
   }
  ],
  "kernelspec": {
   "display_name": "Python 3 (ipykernel)",
   "language": "python",
   "name": "python3"
  },
  "language_info": {
   "codemirror_mode": {
    "name": "ipython",
    "version": 3
   },
   "file_extension": ".py",
   "mimetype": "text/x-python",
   "name": "python",
   "nbconvert_exporter": "python",
   "pygments_lexer": "ipython3",
   "version": "3.10.9"
  },
  "toc": {
   "base_numbering": 1,
   "nav_menu": {},
   "number_sections": true,
   "sideBar": true,
   "skip_h1_title": true,
   "title_cell": "Table of Contents",
   "title_sidebar": "Contents",
   "toc_cell": false,
   "toc_position": {},
   "toc_section_display": true,
   "toc_window_display": false
  }
 },
 "nbformat": 4,
 "nbformat_minor": 2
}
